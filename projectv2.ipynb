{
 "cells": [
  {
   "cell_type": "markdown",
   "id": "b4da38ad",
   "metadata": {
    "jp-MarkdownHeadingCollapsed": true
   },
   "source": [
    "# 0. Introduction\n",
    "Welcome to the Risk-Parity Portfolio Analysis project! In this project, you'll explore the concept of risk-parity, a popular portfolio management strategy that aims to allocate investments in a way that equalizes the risk contribution of each asset. This approach is widely used by hedge funds and institutional investors to create more balanced portfolios that are less sensitive to market volatility.\n",
    "\n",
    "Throughout this project, you'll learn how to download financial data for various assets, calculate returns, and compute risk-parity weights using Python. By the end, you'll evaluate the performance of your risk-parity portfolio through key financial metrics such as annualized return, volatility, and Sharpe ratio. This hands-on experience will deepen your understanding of portfolio management and give you practical skills in financial data analysis. Whether you're new to finance or looking to enhance your quantitative finance skills, this project provides a solid foundation in risk-parity strategies and their application in real-world scenarios.\n",
    "\n",
    "## Getting Started: Tips and Instructions\n",
    "\n",
    "1. **Familiarize Yourself with the Notebook Structure:**\n",
    "   - The notebook is organized into clearly defined sections, each focusing on a specific aspect of the risk-parity portfolio analysis. Take a moment to glance through the sections to understand the overall workflow.\n",
    "\n",
    "2. **Review the Data:**\n",
    "   - Since the data is already available, start by exploring the initial few cells to understand the data structure and what each column represents. This will give you context for the calculations and analysis you'll be performing.\n",
    "\n",
    "3. **Run Cells Sequentially:**\n",
    "   - Work through the notebook by executing each code cell in order. This will help you build your analysis step by step and ensure that each part of the project is functioning as expected.\n",
    "\n",
    "4. **Experiment with Parameters:**\n",
    "   - Feel free to tweak parameters such as the rolling window size for calculating risk-parity weights or adjust the assets included in the portfolio. Experimenting will help deepen your understanding of how these factors influence portfolio performance.\n",
    "\n",
    "5. **Leverage the Plots:**\n",
    "   - Use the generated plots to visually assess the impact of your calculations. The visualizations are crucial for understanding the risk-parity approach and how different assets contribute to the portfolio.\n",
    "\n",
    "6. **Reflect:**\n",
    "   - As you work through the notebook, consider why each step is necessary and how it contributes to the overall goal of building a risk-parity portfolio. If something isn’t clear, take a moment to reflect or explore additional resources.\n",
    "\n",
    "Enjoy the process of exploring risk-parity strategies, and don't hesitate to dive deeper into the data or code to enhance your learning experience!"
   ]
  },
  {
   "cell_type": "markdown",
   "id": "c6dc699e",
   "metadata": {},
   "source": [
    "# 1. Import Libraries"
   ]
  },
  {
   "cell_type": "code",
   "execution_count": 1,
   "id": "1aa05430",
   "metadata": {},
   "outputs": [],
   "source": [
    "# Load necessary libraries\n",
    "import pandas as pd\n",
    "import numpy as np\n",
    "import yfinance as yf\n",
    "import matplotlib.pyplot as plt\n",
    "import matplotlib.dates as mdates\n",
    "import matplotlib.ticker as ticker"
   ]
  },
  {
   "cell_type": "markdown",
   "id": "8c4a4a35",
   "metadata": {},
   "source": [
    "# 2. Download Financial Data\n",
    "We will download front-month futures data for S&P500, 10-year Treasuries, gold, and US dollar using the `yfinance` library."
   ]
  },
  {
   "cell_type": "code",
   "execution_count": 3,
   "id": "fa831031",
   "metadata": {},
   "outputs": [
    {
     "name": "stderr",
     "output_type": "stream",
     "text": [
      "Failed to get ticker 'GC=F' reason: Expecting value: line 1 column 1 (char 0)\n",
      "Failed to get ticker 'ZN=F' reason: Expecting value: line 1 column 1 (char 0)\n",
      "[                       0%%                      ]Failed to get ticker 'ES=F' reason: Expecting value: line 1 column 1 (char 0)\n",
      "[**********************50%%                      ]  2 of 4 completedFailed to get ticker 'DX=F' reason: Expecting value: line 1 column 1 (char 0)\n",
      "[*********************100%%**********************]  4 of 4 completed\n",
      "\n",
      "4 Failed downloads:\n",
      "['GC=F', 'ZN=F', 'ES=F', 'DX=F']: YFTzMissingError('$%ticker%: possibly delisted; No timezone found')\n"
     ]
    }
   ],
   "source": [
    "# Download front-month futures data\n",
    "symbols = ['ES=F', 'ZN=F', 'GC=F', 'DX=F']\n",
    "data = yf.download(symbols)"
   ]
  },
  {
   "cell_type": "markdown",
   "id": "189bc851",
   "metadata": {},
   "source": [
    "### 3. Resample Data\n",
    "\n",
    "In this section, we aim to reduce the noise in the daily financial data by resampling it to a monthly frequency. Resampling is a common technique in time series analysis, allowing us to aggregate data points over a specified time period. This helps in smoothing out short-term fluctuations and making the data more manageable for analysis.\n"
   ]
  },
  {
   "cell_type": "code",
   "execution_count": 4,
   "id": "aedbfa86",
   "metadata": {},
   "outputs": [],
   "source": [
    "# Resample data to monthly frequency\n",
    "data = data.resample('ME').mean() # YOUR CODE HERE\n",
    "# Convert index to datetime\n",
    "#data.index = pd.to_datetime(data['Date']) # YOUR CODE HERE"
   ]
  },
  {
   "cell_type": "code",
   "execution_count": null,
   "id": "c114be39",
   "metadata": {},
   "outputs": [],
   "source": [
    "print(type(data.index))"
   ]
  },
  {
   "cell_type": "markdown",
   "id": "052a4fab-aa9d-4945-80bb-876bd2418f9f",
   "metadata": {},
   "source": [
    "### 4. Clean and Prepare Data\n",
    "\n",
    "In this step, we will focus on extracting the relevant data, handling missing values, and ensuring the data is ready for analysis. Specifically, we'll subset the adjusted close prices from our dataset, fill any missing values, and drop rows with unknown prices.\n",
    "\n",
    "#### Steps to Clean and Prepare Data\n",
    "\n",
    "1. **Subset Adjusted Close Prices**     \n",
    "2. **Fill Missing Values (NaNs)**\n",
    "3. **Drop Rows with Remaining NaNs**\n",
    "4. **Ensure Correct Date Formatting**\n",
    "\n",
    "By following these steps, we will have a clean dataset of adjusted close prices that is free of missing values and properly formatted for time series analysis.\n"
   ]
  },
  {
   "cell_type": "code",
   "execution_count": 6,
   "id": "b0ebfafd",
   "metadata": {},
   "outputs": [],
   "source": [
    "# Subset adjusted close prices and fill NaNs\n",
    "prices = data['Close'].ffill() # YOUR CODE HERE\n",
    "prices = data['Close'].bfill()\n",
    "print(prices.index)\n",
    "\n",
    "# Convert index to datetime\n",
    "#prices.index = None # YOUR CODE HERE"
   ]
  },
  {
   "cell_type": "code",
   "execution_count": null,
   "id": "07f745df",
   "metadata": {},
   "outputs": [],
   "source": [
    "print(prices)"
   ]
  },
  {
   "cell_type": "code",
   "execution_count": null,
   "id": "a74a8a08",
   "metadata": {},
   "outputs": [],
   "source": [
    "prices.plot()\n",
    "plt.show()"
   ]
  },
  {
   "cell_type": "code",
   "execution_count": null,
   "id": "63d62f03",
   "metadata": {},
   "outputs": [],
   "source": [
    "prices.plot()\n",
    "plt.yscale(\"log\")\n",
    "plt.show()"
   ]
  },
  {
   "cell_type": "markdown",
   "id": "b2f718a0",
   "metadata": {},
   "source": [
    "### 5. Calculate Returns\n",
    "\n",
    "In financial analysis, one of the key metrics is the return on an investment, which shows how much the price of an asset has increased or decreased over a certain period. We will calculate the **arithmetic returns** of the adjusted close prices to measure this change over time.\n",
    "\n",
    "#### Steps to Calculate Arithmetic Returns\n",
    "\n",
    "1. **Understanding Arithmetic Returns:**\n",
    "   - Arithmetic returns measure the percentage change in the price of an asset from one period to the next. \n",
    "   - The formula for calculating the arithmetic return for a given period is:\n",
    "\n",
    "     $\n",
    "     R_t = \\frac{P_t - P_{t-1}}{P_{t-1}}\n",
    "     $\n",
    "     \n",
    "     where:\n",
    "     - $ R_t $ is the return at time $ t $,\n",
    "     - $ P_t $ is the price at time $ t $,\n",
    "     - $ P_{t-1} $ is the price at the previous time period.\n",
    "\n",
    "   - This formula can be simplified to:\n",
    "     $\n",
    "     R_t = \\frac{P_t}{P_{t-1}} - 1\n",
    "     $\n",
    "   - However, in practice, it is common to use the percentage change function provided by Pandas, which handles this calculation efficiently.\n",
    "\n",
    "2. **Calculate Percentage Change**\n",
    "3. **Handle Missing Values:**\n",
    "\n",
    "By following these steps, we will have a series of arithmetic returns that represent the day-to-day percentage changes in the asset's price, which can be used for further analysis such as calculating cumulative returns, volatility, or risk metrics.\n"
   ]
  },
  {
   "cell_type": "code",
   "execution_count": 10,
   "id": "85eb7ff4",
   "metadata": {},
   "outputs": [],
   "source": [
    "# Compute arithmetic returns\n",
    "returns = prices.pct_change() # YOUR CODE HERE"
   ]
  },
  {
   "cell_type": "code",
   "execution_count": null,
   "id": "a56b10be",
   "metadata": {},
   "outputs": [],
   "source": [
    "print(returns)"
   ]
  },
  {
   "cell_type": "markdown",
   "id": "60e8526a",
   "metadata": {},
   "source": [
    "### 6. Compute Risk-Parity Weights\n",
    "\n",
    "Risk-parity is an investment strategy that seeks to allocate portfolio weights in a way that each asset contributes equally to the overall portfolio risk. This method is especially useful in diversifying risk across different assets with varying levels of volatility.\n",
    "\n",
    "#### Steps to Compute Risk-Parity Weights\n",
    "\n",
    "1. **Understanding Risk-Parity:**\n",
    "   - The idea behind risk-parity is to allocate more weight to less volatile assets and less weight to more volatile assets, thereby equalizing the risk contribution of each asset in the portfolio.\n",
    "   - The weight of each asset in the portfolio is inversely proportional to its volatility.\n",
    "\n",
    "2. **Calculate Rolling Volatility:**\n",
    "   - Volatility is a statistical measure of the dispersion of returns for a given security or market index.\n",
    "     \n",
    "3. **Compute Inverse Volatility:**\n",
    "4. **Normalize Weights:**\n",
    "   - Once we have the inverse volatilities, we normalize them so that the sum of the weights for each time period equals 1. This ensures that we have a proper weight distribution across assets.\n",
    "   - We achieve this by dividing the inverse volatility of each asset by the sum of the inverse volatilities across all assets for each time period.\n",
    "     \n",
    "5. **Shift Weights for Practical Application:**\n",
    "   - In a real-world scenario, we can only make investment decisions based on information that is available at the time of making the decision. Therefore, we shift the computed weights by one period to ensure that the weights at time $ t $ are based on data up to $ t-1 $.      - This shift ensures that the weights applied are based on historical data up to the previous period, which is crucial for avoiding look-ahead bias.\n",
    "\n",
    "By following these steps, we generate a time series of risk-parity weights that can be used to allocate assets in a way that balances the risk across the portfolio. The resulting weights adapt dynamically based on the rolling volatility, ensuring that each asset contributes equally to the overall risk over time.\n"
   ]
  },
  {
   "cell_type": "code",
   "execution_count": 12,
   "id": "d7557879",
   "metadata": {},
   "outputs": [],
   "source": [
    "def compute_risk_parity_weights(returns, window_size=36):\n",
    "    # Compute volatility known at time t\n",
    "    rolling_vol = returns.rolling(window=window_size).std() # YOUR CODE HERE\n",
    "    rolling_inverse_vol = 1/rolling_vol # YOUR CODE HERE\n",
    "    # Divide inverse volatility by the sum of inverse volatilities\n",
    "    risk_parity_weights = rolling_inverse_vol.div(rolling_inverse_vol.sum(axis=1), axis=0) # YOUR CODE HERE\n",
    "    # Shift weights by one period to use only information available at time t\n",
    "    risk_parity_weights = risk_parity_weights.shift(1) # YOUR CODE HERE\n",
    "    return risk_parity_weights\n",
    "\n",
    "risk_parity_weights = compute_risk_parity_weights(returns, 36)"
   ]
  },
  {
   "cell_type": "code",
   "execution_count": null,
   "id": "557075b0",
   "metadata": {},
   "outputs": [],
   "source": [
    "risk_parity_weights.plot()\n",
    "plt.show()"
   ]
  },
  {
   "cell_type": "markdown",
   "id": "714c77a8",
   "metadata": {},
   "source": [
    "### 7. Calculate Weighted Returns\n",
    "\n",
    "Once we have determined the risk-parity weights, the next step is to calculate the weighted returns for each asset and then aggregate them to obtain the portfolio returns. This process allows us to understand how the risk-parity allocation strategy would have performed over time.\n",
    "\n",
    "#### Steps to Calculate Weighted Returns\n",
    "\n",
    "1. **Understanding Weighted Returns:**\n",
    "   - The weighted return of an asset is calculated by multiplying its individual return by the corresponding weight in the portfolio. \n",
    "   - The total portfolio return at any given time is the sum of the weighted returns of all assets.\n",
    "\n",
    "2. **Apply Weights to Returns:**\n",
    "   - We will multiply the returns of each asset by its corresponding risk-parity weight for each time period. This will give us the weighted return for each asset.\n",
    "3. **Handle Missing Data:**\n",
    "   - We drop any rows with missing values (`NaN`) that may result from the multiplication process. This ensures that we only consider time periods with complete data.\n",
    "4. **Aggregate Weighted Returns:**\n",
    "   - To calculate the portfolio's return at each time period, sum the weighted returns across all assets. This gives the overall return of the portfolio for each time period.\n",
    "\n",
    "#### Mathematical Representation:\n",
    "\n",
    "Given the returns $ r_{i,t} $ for asset $ i $ at time $ t $, and the risk-parity weight $ w_{i,t} $ for asset $ i $ at time $ t $, the weighted return for asset $ i $ at time $ t $ is:\n",
    "\n",
    "$ r_{i,t}^{weighted} = r_{i,t} \\times w_{i,t} $\n",
    "\n",
    "The total portfolio return at time $ t $ is the sum of the weighted returns for all assets:\n",
    "\n",
    "$\n",
    "R_{portfolio,t} = \\sum_{i=1}^{n} r_{i,t}^{weighted}\n",
    "$\n",
    "\n",
    "Where $ n $ is the number of assets in the portfolio.\n",
    "\n",
    "By following these steps, we obtain the portfolio returns that reflect the performance of the risk-parity strategy over time. This provides insights into how well the strategy balanced risk across different market conditions.\n"
   ]
  },
  {
   "cell_type": "code",
   "execution_count": 14,
   "id": "abd06b6d",
   "metadata": {},
   "outputs": [],
   "source": [
    "# Calculate weighted returns\n",
    "weighted_returns = returns * risk_parity_weights # YOUR CODE HERE\n",
    "print(weighted_returns)\n",
    "risk_parity_portfolio_returns = weighted_returns.sum(axis=1) # YOUR CODE HERE"
   ]
  },
  {
   "cell_type": "code",
   "execution_count": null,
   "id": "0210dda0",
   "metadata": {},
   "outputs": [],
   "source": [
    "print(risk_parity_portfolio_returns)"
   ]
  },
  {
   "cell_type": "markdown",
   "id": "bfee09a6",
   "metadata": {},
   "source": [
    "### 8. Evaluate Portfolio Performance\n",
    "\n",
    "To assess the performance of the risk-parity portfolio, we will compute several key financial metrics. These metrics will help us understand the portfolio's return, risk, and overall performance characteristics. Below are the details of the metrics we will calculate, along with the functions used and their corresponding arguments.\n",
    "\n",
    "1. **Annualized Mean Return**\n",
    "   - **Description:** The average return of the portfolio on an annual basis. This is useful for understanding the long-term growth rate of the portfolio.\n",
    "2. **Annualized Volatility**\n",
    "   - **Description:** A measure of the portfolio's return volatility on an annual basis, indicating the degree of variation in returns.\n",
    "   - **Formula:** \n",
    "     $\n",
    "     \\text{Annualized Volatility} = \\text{Standard Deviation of Monthly Returns} \\times \\sqrt{12}\n",
    "     $\n",
    "3. **Skewness**\n",
    "   - **Description:** Skewness measures the asymmetry of the return distribution. Positive skewness indicates a distribution with a longer right tail, while negative skewness indicates a longer left tail.\n",
    "4. **Kurtosis**\n",
    "   - **Description:** Kurtosis measures the \"tailedness\" of the return distribution. High kurtosis indicates a distribution with heavy tails and a sharp peak.\n",
    "5. **Maximum Drawdown**\n",
    "   - **Description:** The maximum observed loss from a peak to a trough of the portfolio's cumulative returns, before a new peak is attained.\n",
    "   - **Formula:** \n",
    "     $\n",
    "     \\text{Drawdown} = \\frac{\\text{Cumulative Return} - \\text{Running Maximum}}{\\text{Running Maximum}}\n",
    "     $\n",
    "6. **Sharpe Ratio**\n",
    "   - **Description:** The Sharpe Ratio measures the risk-adjusted return of the portfolio, calculated as the ratio of the portfolio's excess return (over the risk-free rate, typically assumed to be 0 in this case) to its volatility.\n",
    "   - **Formula:** \n",
    "     $\n",
    "     \\text{Sharpe Ratio} = \\frac{\\text{Annualized Mean Return}}{\\text{Annualized Volatility}}\n",
    "     $\n",
    "7. **Sortino Ratio**\n",
    "   - **Description:** The Sortino Ratio is a variation of the Sharpe Ratio that penalizes only downside volatility, thus providing a better measure of risk-adjusted return for portfolios that have asymmetric return distributions.\n",
    "   - **Formula:** \n",
    "     $\n",
    "     \\text{Sortino Ratio} = \\frac{\\text{Annualized Mean Return}}{\\text{Downside Volatility}}\n",
    "     $\n",
    "8. **Calmar Ratio**\n",
    "   - **Description:** The Calmar Ratio measures the risk-adjusted return of a portfolio by comparing the annualized return to the maximum drawdown, providing insight into performance relative to the worst-case scenario.\n",
    "   - **Formula:** \n",
    "     $\n",
    "     \\text{Calmar Ratio} = \\frac{\\text{Annualized Mean Return}}{-\\text{Maximum Drawdown}}\n",
    "     $\n",
    "\n",
    "After calculating these metrics, we will display the results to evaluate the performance of the risk-parity portfolio comprehensively.\n"
   ]
  },
  {
   "cell_type": "code",
   "execution_count": null,
   "id": "c1489f4c",
   "metadata": {},
   "outputs": [],
   "source": [
    "# Evaluate portfolio performance\n",
    "annual_mean_return = (risk_parity_portfolio_returns.mean()) * 12 # YOUR CODE HERE\n",
    "annual_volatility = risk_parity_portfolio_returns.std() * np.sqrt(12) # YOUR CODE HERE\n",
    "\n",
    "skewness = risk_parity_portfolio_returns.skew() # YOUR CODE HERE\n",
    "kurtosis = risk_parity_portfolio_returns.kurt() # YOUR CODE HERE\n",
    "\n",
    "# Compute drawdown\n",
    "cumulative_returns = np.exp(risk_parity_portfolio_returns.cumsum()) # YOUR CODE HERE\n",
    "running_max = np.max(cumulative_returns)# YOUR CODE HERE\n",
    "drawdown =  (cumulative_returns.cummax() - cumulative_returns )/cumulative_returns.cummax() # YOUR CODE HERE\n",
    "max_drawdown = np.max(drawdown) # YOUR CODE HERE\n",
    "\n",
    "# Compute Sharpe ratio\n",
    "sharpe_ratio = annual_mean_return/annual_volatility # YOUR CODE HERE\n",
    "\n",
    "# Compute Sortino ratio\n",
    "downside_std = risk_parity_portfolio_returns[risk_parity_portfolio_returns<0].std() # YOUR CODE HERE\n",
    "sortino_ratio = annual_mean_return/downside_std # YOUR CODE HERE\n",
    "# Compute Calmar ratio\n",
    "calmar_ratio = annual_mean_return/ max_drawdown * -1 # YOUR CODE HERE\n",
    "\n",
    "# Display results\n",
    "print(f\"Mean Annual Return: {annual_mean_return:.4f}\")\n",
    "print(f\"Annual Volatility: {annual_volatility:.4f}\")\n",
    "print(f\"Skewness: {skewness:.4f}\")\n",
    "print(f\"Kurtosis: {kurtosis:.4f}\")\n",
    "print(f\"Maximum Drawdown: {max_drawdown:.4f}\")\n",
    "print(f\"Sharpe Ratio: {sharpe_ratio:.4f}\")\n",
    "print(f\"Sortino Ratio: {sortino_ratio:.4f}\")\n",
    "print(f\"Calmar Ratio: {calmar_ratio:.4f}\")"
   ]
  },
  {
   "cell_type": "markdown",
   "id": "e2de8713",
   "metadata": {},
   "source": [
    "### 9. Plot Results\n",
    "\n",
    "Visualizing the performance of the risk-parity portfolio is crucial for understanding the dynamics of cumulative returns and drawdowns over time. We will create a plot that displays both the cumulative returns and the drawdowns on the same graph. This will allow us to see how the portfolio grows over time and the extent of losses from peak to trough.\n",
    "\n",
    "#### Steps to Plot the Results:\n",
    "\n",
    "1. **Initialize the Plot**:\n",
    "   - We use `plt.subplots()` to create a figure and an axis object, allowing us to customize the plot.\n",
    "   - The `figsize` argument specifies the size of the plot. In this case, we choose a wide format (`14x7`) to better display the time series data.\n",
    "   - Example:\n",
    "     ```python\n",
    "     fig, ax = plt.subplots(figsize=(14, 7))\n",
    "     ```\n",
    "\n",
    "2. **Plot Cumulative Returns**:\n",
    "   - The `plot()` function is used to plot the cumulative returns on the axis `ax`.\n",
    "   - The `label` argument is used to create a legend entry, and `color` specifies the color of the line.\n",
    "   - Example:\n",
    "     ```python\n",
    "     cumulative_returns.plot(ax=ax, label='Cumulative Returns', color='blue')\n",
    "     ```\n",
    "\n",
    "3. **Plot Drawdown**:\n",
    "   - Similarly, the `plot()` function is used to plot the drawdown on the same axis `ax`.\n",
    "   - The `label` and `color` arguments distinguish this line from the cumulative returns.\n",
    "   - Example:\n",
    "     ```python\n",
    "     drawdown.plot(ax=ax, label='Drawdown', color='red')\n",
    "     ```\n",
    "\n",
    "4. **Customize the Plot**:\n",
    "   - The `set_title()` function sets the title of the plot, making it clear what the graph represents.\n",
    "   - The `set_ylabel()` and `set_xlabel()` functions label the y-axis and x-axis, respectively, to indicate what the axes represent (e.g., 'Cumulative Returns' and 'Date').\n",
    "   - Example:\n",
    "     ```python\n",
    "     ax.set_title('Cumulative Returns and Drawdown')\n",
    "     ax.set_ylabel('Cumulative Returns')\n",
    "     ax.set_xlabel('Date')\n",
    "     ```\n",
    "\n",
    "5. **Add a Legend**:\n",
    "   - The `legend()` function adds a legend to the plot, helping to identify which line represents cumulative returns and which represents drawdown.\n",
    "   - Example:\n",
    "     ```python\n",
    "     ax.legend()\n",
    "     ```\n",
    "\n",
    "6. **Display the Plot**:\n",
    "   - Finally, `plt.show()` is called to display the plot.\n",
    "   - Example:\n",
    "     ```python\n",
    "     plt.show()\n",
    "     ```\n",
    "\n",
    "The resulting plot will provide a clear visual representation of how the portfolio's value has evolved over time and the magnitude of any losses (drawdowns) experienced during the period. This visualization is essential for analyzing the risk and return profile of the portfolio.\n"
   ]
  },
  {
   "cell_type": "code",
   "execution_count": 4,
   "id": "be6313b8",
   "metadata": {},
   "outputs": [
    {
     "ename": "NameError",
     "evalue": "name 'cumulative_returns' is not defined",
     "output_type": "error",
     "traceback": [
      "\u001b[0;31m---------------------------------------------------------------------------\u001b[0m",
      "\u001b[0;31mNameError\u001b[0m                                 Traceback (most recent call last)",
      "Cell \u001b[0;32mIn[4], line 3\u001b[0m\n\u001b[1;32m      1\u001b[0m \u001b[38;5;66;03m# Plot portfolio performance\u001b[39;00m\n\u001b[1;32m      2\u001b[0m fig, ax \u001b[38;5;241m=\u001b[39m plt\u001b[38;5;241m.\u001b[39msubplots(figsize\u001b[38;5;241m=\u001b[39m(\u001b[38;5;241m14\u001b[39m, \u001b[38;5;241m7\u001b[39m))\n\u001b[0;32m----> 3\u001b[0m (\u001b[43mcumulative_returns\u001b[49m \u001b[38;5;241m-\u001b[39m \u001b[38;5;241m1\u001b[39m)\u001b[38;5;241m.\u001b[39mplot(ax\u001b[38;5;241m=\u001b[39max, label\u001b[38;5;241m=\u001b[39m\u001b[38;5;124m'\u001b[39m\u001b[38;5;124mCumulative Returns\u001b[39m\u001b[38;5;124m'\u001b[39m, color\u001b[38;5;241m=\u001b[39m\u001b[38;5;124m'\u001b[39m\u001b[38;5;124mblue\u001b[39m\u001b[38;5;124m'\u001b[39m)\n\u001b[1;32m      4\u001b[0m drawdown\u001b[38;5;241m.\u001b[39mplot(ax\u001b[38;5;241m=\u001b[39max, label\u001b[38;5;241m=\u001b[39m\u001b[38;5;124m'\u001b[39m\u001b[38;5;124mDrawdown\u001b[39m\u001b[38;5;124m'\u001b[39m, color\u001b[38;5;241m=\u001b[39m\u001b[38;5;124m'\u001b[39m\u001b[38;5;124mred\u001b[39m\u001b[38;5;124m'\u001b[39m)\n\u001b[1;32m      5\u001b[0m ax\u001b[38;5;241m.\u001b[39mset_title(\u001b[38;5;124m'\u001b[39m\u001b[38;5;124mCumulative Returns and Drawdown\u001b[39m\u001b[38;5;124m'\u001b[39m)\n",
      "\u001b[0;31mNameError\u001b[0m: name 'cumulative_returns' is not defined"
     ]
    },
    {
     "data": {
      "image/png": "[encoded data removed]",
      "text/plain": [
       "<Figure size 1400x700 with 1 Axes>"
      ]
     },
     "metadata": {},
     "output_type": "display_data"
    }
   ],
   "source": [
    "# Plot portfolio performance\n",
    "fig, ax = plt.subplots(figsize=(14, 7))\n",
    "(cumulative_returns - 1).plot(ax=ax, label='Cumulative Returns', color='blue')\n",
    "drawdown.plot(ax=ax, label='Drawdown', color='red')\n",
    "ax.set_title('Cumulative Returns and Drawdown')\n",
    "ax.set_ylabel('Cumulative Returns')\n",
    "ax.set_xlabel('Date')\n",
    "ax.legend()\n",
    "plt.show()"
   ]
  }
 ],
 "metadata": {
  "kernelspec": {
   "display_name": "Python 3 (ipykernel)",
   "language": "python",
   "name": "python3"
  },
  "language_info": {
   "codemirror_mode": {
    "name": "ipython",
    "version": 3
   },
   "file_extension": ".py",
   "mimetype": "text/x-python",
   "name": "python",
   "nbconvert_exporter": "python",
   "pygments_lexer": "ipython3",
   "version": "3.10.13"
  }
 },
 "nbformat": 4,
 "nbformat_minor": 5
}
