{
 "cells": [
  {
   "cell_type": "markdown",
   "id": "81942eb1",
   "metadata": {},
   "source": [
    "# Course 2 Project: ML Pipeline for Feature Engineering"
   ]
  },
  {
   "cell_type": "markdown",
   "id": "4f241775",
   "metadata": {},
   "source": [
    "## Instructions\n",
    "\n",
    "In this project, you'll use data related to microeconomic indicators and historical stock prices to explore the data engineering pipline. You'll get to practice:\n",
    "\n",
    "* Data ingestion \n",
    "* Data cleaning\n",
    "* Data imputation\n",
    "* Exploratory data analysis (EDA) through charts and graphs"
   ]
  },
  {
   "cell_type": "markdown",
   "id": "1f12b277",
   "metadata": {},
   "source": [
    "## Packages\n",
    "\n",
    "You'll use `pandas` and `matplotlib`, which were covered in the course material, to import, clean, and plot data. They have been installed in this workspace for you. If you're working locally and you installed Jupyter using Anaconda, these packages will already be installed. "
   ]
  },
  {
   "cell_type": "code",
   "execution_count": 1,
   "id": "882241d4",
   "metadata": {},
   "outputs": [],
   "source": [
    "import pandas as pd\n",
    "import matplotlib.pyplot as plt\n",
    "import seaborn as sns\n",
    "from pandas.tseries.offsets import MonthEnd"
   ]
  },
  {
   "cell_type": "markdown",
   "id": "f9fcd352",
   "metadata": {},
   "source": [
    "## Load data\n",
    "\n",
    "The first step in a data engineering pipeline for machine learning is to ingest the data that will be used. For this project, data is hosted on a public GitHub repo. \n",
    "\n",
    "### Your tasks\n",
    "* Import data from the provided [GitHub repo](https://github.com/udacity/CD13649-Project/tree/main/Project) using `pandas`. For your convenience, the data files (CSVs) are also present in the current workspace at the path **CD13649-Project/Project/**. Here are the data files to import: \n",
    "  1. GDP (**GDP.csv**)\n",
    "  2. Inflation (**inflation_monthly.csv**)\n",
    "  3. Apple stock prices (**apple_historical_data.csv**)\n",
    "  4. Microsoft stock prices (**microsoft_historical_data.csv**)\n",
    "  5. Consumer price index (**consumer_price_index.csv**)\n",
    "\n",
    "\n",
    "\n",
    "* Verify that the data has been imported correctly into `pandas` dataframes. Use methods like `head()` and `info()`\n",
    "\n",
    "\n",
    "* You may need to change column names to make them easier to work with\n",
    "\n",
    "\n",
    "* You may need to cast datetime data to the `datetime` format using `pandas` `to_datetime()` method\n",
    "\n"
   ]
  },
  {
   "cell_type": "code",
   "execution_count": 2,
   "id": "b1c5fb9a",
   "metadata": {},
   "outputs": [],
   "source": [
    "# List of raw URLs for the files\n",
    "file_urls = [\n",
    "    \"https://raw.githubusercontent.com/udacity/CD13649-Project/refs/heads/main/Project/GDP.csv\",\n",
    "    \"https://raw.githubusercontent.com/udacity/CD13649-Project/refs/heads/main/Project/apple_historical_data.csv\",\n",
    "    \"https://raw.githubusercontent.com/udacity/CD13649-Project/refs/heads/main/Project/microsoft_historical_data.csv\",\n",
    "    \"https://raw.githubusercontent.com/udacity/CD13649-Project/refs/heads/main/Project/consumer_price_index.csv\",\n",
    "    \"https://raw.githubusercontent.com/udacity/CD13649-Project/refs/heads/main/Project/inflation_monthly.csv\"\n",
    "]\n",
    "\n",
    "# Read and store DataFrames in a list\n",
    "dfs = []\n",
    "for url in file_urls:\n",
    "    try:\n",
    "        df = pd.read_csv(url, delimiter=\",\", skipinitialspace=True, engine=\"python\", on_bad_lines=\"warn\")\n",
    "        dfs.append(df)\n",
    "    except Exception as e:\n",
    "        print(f\"Error loading {url}: {e}\")\n",
    "\n",
    "# Unpack DataFrames if successful and name each dataframe\n",
    "if len(dfs) == len(file_urls):\n",
    "    gdp, apple, microsoft, consumer, inflation = dfs\n",
    "else:\n",
    "    print(\"Error: Not all DataFrames were loaded successfully.\")\n"
   ]
  },
  {
   "cell_type": "code",
   "execution_count": 3,
   "id": "4c78b89a",
   "metadata": {},
   "outputs": [],
   "source": [
    "# Change all date column names to Date\n",
    "        \n",
    "for df, name in zip(dfs, [\"gdp\", \"apple\", \"microsoft\", \"consumer\", \"inflation\"]):\n",
    "    # Check if 'DATE' column exists\n",
    "    if 'DATE' in df.columns:\n",
    "        df.rename(columns={'DATE': 'Date'}, inplace=True)\n"
   ]
  },
  {
   "cell_type": "code",
   "execution_count": 4,
   "id": "9cc88ba1",
   "metadata": {},
   "outputs": [
    {
     "data": {
      "text/html": [
       "<div>\n",
       "<style scoped>\n",
       "    .dataframe tbody tr th:only-of-type {\n",
       "        vertical-align: middle;\n",
       "    }\n",
       "\n",
       "    .dataframe tbody tr th {\n",
       "        vertical-align: top;\n",
       "    }\n",
       "\n",
       "    .dataframe thead th {\n",
       "        text-align: right;\n",
       "    }\n",
       "</style>\n",
       "<table border=\"1\" class=\"dataframe\">\n",
       "  <thead>\n",
       "    <tr style=\"text-align: right;\">\n",
       "      <th></th>\n",
       "      <th>Date</th>\n",
       "      <th>GDP</th>\n",
       "    </tr>\n",
       "  </thead>\n",
       "  <tbody>\n",
       "    <tr>\n",
       "      <th>0</th>\n",
       "      <td>1947-01-01</td>\n",
       "      <td>243.164</td>\n",
       "    </tr>\n",
       "    <tr>\n",
       "      <th>1</th>\n",
       "      <td>1947-04-01</td>\n",
       "      <td>245.968</td>\n",
       "    </tr>\n",
       "    <tr>\n",
       "      <th>2</th>\n",
       "      <td>1947-07-01</td>\n",
       "      <td>249.585</td>\n",
       "    </tr>\n",
       "    <tr>\n",
       "      <th>3</th>\n",
       "      <td>1947-10-01</td>\n",
       "      <td>259.745</td>\n",
       "    </tr>\n",
       "    <tr>\n",
       "      <th>4</th>\n",
       "      <td>1948-01-01</td>\n",
       "      <td>265.742</td>\n",
       "    </tr>\n",
       "    <tr>\n",
       "      <th>...</th>\n",
       "      <td>...</td>\n",
       "      <td>...</td>\n",
       "    </tr>\n",
       "    <tr>\n",
       "      <th>304</th>\n",
       "      <td>2023-01-01</td>\n",
       "      <td>26813.601</td>\n",
       "    </tr>\n",
       "    <tr>\n",
       "      <th>305</th>\n",
       "      <td>2023-04-01</td>\n",
       "      <td>27063.012</td>\n",
       "    </tr>\n",
       "    <tr>\n",
       "      <th>306</th>\n",
       "      <td>2023-07-01</td>\n",
       "      <td>27610.128</td>\n",
       "    </tr>\n",
       "    <tr>\n",
       "      <th>307</th>\n",
       "      <td>2023-10-01</td>\n",
       "      <td>27956.998</td>\n",
       "    </tr>\n",
       "    <tr>\n",
       "      <th>308</th>\n",
       "      <td>2024-01-01</td>\n",
       "      <td>28284.498</td>\n",
       "    </tr>\n",
       "  </tbody>\n",
       "</table>\n",
       "<p>309 rows × 2 columns</p>\n",
       "</div>"
      ],
      "text/plain": [
       "           Date        GDP\n",
       "0    1947-01-01    243.164\n",
       "1    1947-04-01    245.968\n",
       "2    1947-07-01    249.585\n",
       "3    1947-10-01    259.745\n",
       "4    1948-01-01    265.742\n",
       "..          ...        ...\n",
       "304  2023-01-01  26813.601\n",
       "305  2023-04-01  27063.012\n",
       "306  2023-07-01  27610.128\n",
       "307  2023-10-01  27956.998\n",
       "308  2024-01-01  28284.498\n",
       "\n",
       "[309 rows x 2 columns]"
      ]
     },
     "execution_count": 4,
     "metadata": {},
     "output_type": "execute_result"
    }
   ],
   "source": [
    "dfs[0]"
   ]
  },
  {
   "cell_type": "code",
   "execution_count": 5,
   "id": "fb757148",
   "metadata": {},
   "outputs": [
    {
     "data": {
      "text/html": [
       "<div>\n",
       "<style scoped>\n",
       "    .dataframe tbody tr th:only-of-type {\n",
       "        vertical-align: middle;\n",
       "    }\n",
       "\n",
       "    .dataframe tbody tr th {\n",
       "        vertical-align: top;\n",
       "    }\n",
       "\n",
       "    .dataframe thead th {\n",
       "        text-align: right;\n",
       "    }\n",
       "</style>\n",
       "<table border=\"1\" class=\"dataframe\">\n",
       "  <thead>\n",
       "    <tr style=\"text-align: right;\">\n",
       "      <th></th>\n",
       "      <th>Date</th>\n",
       "      <th>Close/Last</th>\n",
       "      <th>Volume</th>\n",
       "      <th>Open</th>\n",
       "      <th>High</th>\n",
       "      <th>Low</th>\n",
       "    </tr>\n",
       "  </thead>\n",
       "  <tbody>\n",
       "    <tr>\n",
       "      <th>0</th>\n",
       "      <td>5/3/2024</td>\n",
       "      <td>$183.38</td>\n",
       "      <td>163224100</td>\n",
       "      <td>$186.65</td>\n",
       "      <td>$187.00</td>\n",
       "      <td>$182.66</td>\n",
       "    </tr>\n",
       "    <tr>\n",
       "      <th>1</th>\n",
       "      <td>5/2/2024</td>\n",
       "      <td>$173.03</td>\n",
       "      <td>94214920</td>\n",
       "      <td>$172.51</td>\n",
       "      <td>$173.42</td>\n",
       "      <td>$170.89</td>\n",
       "    </tr>\n",
       "    <tr>\n",
       "      <th>2</th>\n",
       "      <td>5/1/2024</td>\n",
       "      <td>$169.30</td>\n",
       "      <td>50383150</td>\n",
       "      <td>$169.58</td>\n",
       "      <td>$172.71</td>\n",
       "      <td>$169.11</td>\n",
       "    </tr>\n",
       "    <tr>\n",
       "      <th>3</th>\n",
       "      <td>4/30/2024</td>\n",
       "      <td>$170.33</td>\n",
       "      <td>65934780</td>\n",
       "      <td>$173.33</td>\n",
       "      <td>$174.99</td>\n",
       "      <td>$170.00</td>\n",
       "    </tr>\n",
       "    <tr>\n",
       "      <th>4</th>\n",
       "      <td>4/29/2024</td>\n",
       "      <td>$173.50</td>\n",
       "      <td>68169420</td>\n",
       "      <td>$173.37</td>\n",
       "      <td>$176.03</td>\n",
       "      <td>$173.10</td>\n",
       "    </tr>\n",
       "    <tr>\n",
       "      <th>...</th>\n",
       "      <td>...</td>\n",
       "      <td>...</td>\n",
       "      <td>...</td>\n",
       "      <td>...</td>\n",
       "      <td>...</td>\n",
       "      <td>...</td>\n",
       "    </tr>\n",
       "    <tr>\n",
       "      <th>2512</th>\n",
       "      <td>5/12/2014</td>\n",
       "      <td>$21.17</td>\n",
       "      <td>212736019</td>\n",
       "      <td>$20.98</td>\n",
       "      <td>$21.20</td>\n",
       "      <td>$20.98</td>\n",
       "    </tr>\n",
       "    <tr>\n",
       "      <th>2513</th>\n",
       "      <td>5/9/2014</td>\n",
       "      <td>$20.91</td>\n",
       "      <td>291068564</td>\n",
       "      <td>$20.88</td>\n",
       "      <td>$20.94</td>\n",
       "      <td>$20.73</td>\n",
       "    </tr>\n",
       "    <tr>\n",
       "      <th>2514</th>\n",
       "      <td>5/8/2014</td>\n",
       "      <td>$21.00</td>\n",
       "      <td>228973884</td>\n",
       "      <td>$21.01</td>\n",
       "      <td>$21.23</td>\n",
       "      <td>$20.94</td>\n",
       "    </tr>\n",
       "    <tr>\n",
       "      <th>2515</th>\n",
       "      <td>5/7/2014</td>\n",
       "      <td>$21.15</td>\n",
       "      <td>282128727</td>\n",
       "      <td>$21.26</td>\n",
       "      <td>$21.33</td>\n",
       "      <td>$20.99</td>\n",
       "    </tr>\n",
       "    <tr>\n",
       "      <th>2516</th>\n",
       "      <td>5/6/2014</td>\n",
       "      <td>$21.23</td>\n",
       "      <td>373872650</td>\n",
       "      <td>$21.49</td>\n",
       "      <td>$21.59</td>\n",
       "      <td>$21.23</td>\n",
       "    </tr>\n",
       "  </tbody>\n",
       "</table>\n",
       "<p>2517 rows × 6 columns</p>\n",
       "</div>"
      ],
      "text/plain": [
       "           Date Close/Last     Volume      Open      High       Low\n",
       "0      5/3/2024   $183.38   163224100  $186.65   $187.00   $182.66 \n",
       "1      5/2/2024   $173.03    94214920  $172.51   $173.42   $170.89 \n",
       "2      5/1/2024   $169.30    50383150  $169.58   $172.71   $169.11 \n",
       "3     4/30/2024   $170.33    65934780  $173.33   $174.99   $170.00 \n",
       "4     4/29/2024   $173.50    68169420  $173.37   $176.03   $173.10 \n",
       "...         ...        ...        ...       ...       ...       ...\n",
       "2512  5/12/2014    $21.17   212736019   $20.98    $21.20    $20.98 \n",
       "2513   5/9/2014    $20.91   291068564   $20.88    $20.94    $20.73 \n",
       "2514   5/8/2014    $21.00   228973884   $21.01    $21.23    $20.94 \n",
       "2515   5/7/2014    $21.15   282128727   $21.26    $21.33    $20.99 \n",
       "2516   5/6/2014    $21.23   373872650   $21.49    $21.59    $21.23 \n",
       "\n",
       "[2517 rows x 6 columns]"
      ]
     },
     "execution_count": 5,
     "metadata": {},
     "output_type": "execute_result"
    }
   ],
   "source": [
    "dfs[1]"
   ]
  },
  {
   "cell_type": "code",
   "execution_count": 6,
   "id": "cf36d7c0",
   "metadata": {},
   "outputs": [
    {
     "data": {
      "text/html": [
       "<div>\n",
       "<style scoped>\n",
       "    .dataframe tbody tr th:only-of-type {\n",
       "        vertical-align: middle;\n",
       "    }\n",
       "\n",
       "    .dataframe tbody tr th {\n",
       "        vertical-align: top;\n",
       "    }\n",
       "\n",
       "    .dataframe thead th {\n",
       "        text-align: right;\n",
       "    }\n",
       "</style>\n",
       "<table border=\"1\" class=\"dataframe\">\n",
       "  <thead>\n",
       "    <tr style=\"text-align: right;\">\n",
       "      <th></th>\n",
       "      <th>Date</th>\n",
       "      <th>GDP</th>\n",
       "    </tr>\n",
       "  </thead>\n",
       "  <tbody>\n",
       "    <tr>\n",
       "      <th>0</th>\n",
       "      <td>1947-01-01</td>\n",
       "      <td>243.164</td>\n",
       "    </tr>\n",
       "    <tr>\n",
       "      <th>1</th>\n",
       "      <td>1947-04-01</td>\n",
       "      <td>245.968</td>\n",
       "    </tr>\n",
       "    <tr>\n",
       "      <th>2</th>\n",
       "      <td>1947-07-01</td>\n",
       "      <td>249.585</td>\n",
       "    </tr>\n",
       "    <tr>\n",
       "      <th>3</th>\n",
       "      <td>1947-10-01</td>\n",
       "      <td>259.745</td>\n",
       "    </tr>\n",
       "    <tr>\n",
       "      <th>4</th>\n",
       "      <td>1948-01-01</td>\n",
       "      <td>265.742</td>\n",
       "    </tr>\n",
       "  </tbody>\n",
       "</table>\n",
       "</div>"
      ],
      "text/plain": [
       "         Date      GDP\n",
       "0  1947-01-01  243.164\n",
       "1  1947-04-01  245.968\n",
       "2  1947-07-01  249.585\n",
       "3  1947-10-01  259.745\n",
       "4  1948-01-01  265.742"
      ]
     },
     "execution_count": 6,
     "metadata": {},
     "output_type": "execute_result"
    }
   ],
   "source": [
    "# Check the first few rows of data\n",
    "gdp.head()"
   ]
  },
  {
   "cell_type": "code",
   "execution_count": 7,
   "id": "a0cfeafb",
   "metadata": {},
   "outputs": [
    {
     "data": {
      "text/html": [
       "<div>\n",
       "<style scoped>\n",
       "    .dataframe tbody tr th:only-of-type {\n",
       "        vertical-align: middle;\n",
       "    }\n",
       "\n",
       "    .dataframe tbody tr th {\n",
       "        vertical-align: top;\n",
       "    }\n",
       "\n",
       "    .dataframe thead th {\n",
       "        text-align: right;\n",
       "    }\n",
       "</style>\n",
       "<table border=\"1\" class=\"dataframe\">\n",
       "  <thead>\n",
       "    <tr style=\"text-align: right;\">\n",
       "      <th></th>\n",
       "      <th>Date</th>\n",
       "      <th>Close/Last</th>\n",
       "      <th>Volume</th>\n",
       "      <th>Open</th>\n",
       "      <th>High</th>\n",
       "      <th>Low</th>\n",
       "    </tr>\n",
       "  </thead>\n",
       "  <tbody>\n",
       "    <tr>\n",
       "      <th>0</th>\n",
       "      <td>5/3/2024</td>\n",
       "      <td>$183.38</td>\n",
       "      <td>163224100</td>\n",
       "      <td>$186.65</td>\n",
       "      <td>$187.00</td>\n",
       "      <td>$182.66</td>\n",
       "    </tr>\n",
       "    <tr>\n",
       "      <th>1</th>\n",
       "      <td>5/2/2024</td>\n",
       "      <td>$173.03</td>\n",
       "      <td>94214920</td>\n",
       "      <td>$172.51</td>\n",
       "      <td>$173.42</td>\n",
       "      <td>$170.89</td>\n",
       "    </tr>\n",
       "    <tr>\n",
       "      <th>2</th>\n",
       "      <td>5/1/2024</td>\n",
       "      <td>$169.30</td>\n",
       "      <td>50383150</td>\n",
       "      <td>$169.58</td>\n",
       "      <td>$172.71</td>\n",
       "      <td>$169.11</td>\n",
       "    </tr>\n",
       "    <tr>\n",
       "      <th>3</th>\n",
       "      <td>4/30/2024</td>\n",
       "      <td>$170.33</td>\n",
       "      <td>65934780</td>\n",
       "      <td>$173.33</td>\n",
       "      <td>$174.99</td>\n",
       "      <td>$170.00</td>\n",
       "    </tr>\n",
       "    <tr>\n",
       "      <th>4</th>\n",
       "      <td>4/29/2024</td>\n",
       "      <td>$173.50</td>\n",
       "      <td>68169420</td>\n",
       "      <td>$173.37</td>\n",
       "      <td>$176.03</td>\n",
       "      <td>$173.10</td>\n",
       "    </tr>\n",
       "  </tbody>\n",
       "</table>\n",
       "</div>"
      ],
      "text/plain": [
       "        Date Close/Last     Volume      Open      High       Low\n",
       "0   5/3/2024   $183.38   163224100  $186.65   $187.00   $182.66 \n",
       "1   5/2/2024   $173.03    94214920  $172.51   $173.42   $170.89 \n",
       "2   5/1/2024   $169.30    50383150  $169.58   $172.71   $169.11 \n",
       "3  4/30/2024   $170.33    65934780  $173.33   $174.99   $170.00 \n",
       "4  4/29/2024   $173.50    68169420  $173.37   $176.03   $173.10 "
      ]
     },
     "execution_count": 7,
     "metadata": {},
     "output_type": "execute_result"
    }
   ],
   "source": [
    "apple.head()"
   ]
  },
  {
   "cell_type": "code",
   "execution_count": 8,
   "id": "4a5eba8b",
   "metadata": {},
   "outputs": [
    {
     "data": {
      "text/html": [
       "<div>\n",
       "<style scoped>\n",
       "    .dataframe tbody tr th:only-of-type {\n",
       "        vertical-align: middle;\n",
       "    }\n",
       "\n",
       "    .dataframe tbody tr th {\n",
       "        vertical-align: top;\n",
       "    }\n",
       "\n",
       "    .dataframe thead th {\n",
       "        text-align: right;\n",
       "    }\n",
       "</style>\n",
       "<table border=\"1\" class=\"dataframe\">\n",
       "  <thead>\n",
       "    <tr style=\"text-align: right;\">\n",
       "      <th></th>\n",
       "      <th>Date</th>\n",
       "      <th>Close/Last</th>\n",
       "      <th>Volume</th>\n",
       "      <th>Open</th>\n",
       "      <th>High</th>\n",
       "      <th>Low</th>\n",
       "    </tr>\n",
       "  </thead>\n",
       "  <tbody>\n",
       "    <tr>\n",
       "      <th>0</th>\n",
       "      <td>05/03/2024</td>\n",
       "      <td>$406.66</td>\n",
       "      <td>17446720</td>\n",
       "      <td>$402.28</td>\n",
       "      <td>$407.15</td>\n",
       "      <td>$401.86</td>\n",
       "    </tr>\n",
       "    <tr>\n",
       "      <th>1</th>\n",
       "      <td>05/02/2024</td>\n",
       "      <td>$397.84</td>\n",
       "      <td>17709360</td>\n",
       "      <td>$397.66</td>\n",
       "      <td>$399.93</td>\n",
       "      <td>$394.6515</td>\n",
       "    </tr>\n",
       "    <tr>\n",
       "      <th>2</th>\n",
       "      <td>05/01/2024</td>\n",
       "      <td>$394.94</td>\n",
       "      <td>23562480</td>\n",
       "      <td>$392.61</td>\n",
       "      <td>$401.7199</td>\n",
       "      <td>$390.31</td>\n",
       "    </tr>\n",
       "    <tr>\n",
       "      <th>3</th>\n",
       "      <td>04/30/2024</td>\n",
       "      <td>$389.33</td>\n",
       "      <td>28781370</td>\n",
       "      <td>$401.49</td>\n",
       "      <td>$402.16</td>\n",
       "      <td>$389.17</td>\n",
       "    </tr>\n",
       "    <tr>\n",
       "      <th>4</th>\n",
       "      <td>04/29/2024</td>\n",
       "      <td>$402.25</td>\n",
       "      <td>19582090</td>\n",
       "      <td>$405.25</td>\n",
       "      <td>$406.32</td>\n",
       "      <td>$399.19</td>\n",
       "    </tr>\n",
       "  </tbody>\n",
       "</table>\n",
       "</div>"
      ],
      "text/plain": [
       "         Date Close/Last    Volume     Open       High        Low\n",
       "0  05/03/2024    $406.66  17446720  $402.28    $407.15    $401.86\n",
       "1  05/02/2024    $397.84  17709360  $397.66    $399.93  $394.6515\n",
       "2  05/01/2024    $394.94  23562480  $392.61  $401.7199    $390.31\n",
       "3  04/30/2024    $389.33  28781370  $401.49    $402.16    $389.17\n",
       "4  04/29/2024    $402.25  19582090  $405.25    $406.32    $399.19"
      ]
     },
     "execution_count": 8,
     "metadata": {},
     "output_type": "execute_result"
    }
   ],
   "source": [
    "microsoft.head()"
   ]
  },
  {
   "cell_type": "code",
   "execution_count": 9,
   "id": "b33fa53d",
   "metadata": {},
   "outputs": [
    {
     "data": {
      "text/html": [
       "<div>\n",
       "<style scoped>\n",
       "    .dataframe tbody tr th:only-of-type {\n",
       "        vertical-align: middle;\n",
       "    }\n",
       "\n",
       "    .dataframe tbody tr th {\n",
       "        vertical-align: top;\n",
       "    }\n",
       "\n",
       "    .dataframe thead th {\n",
       "        text-align: right;\n",
       "    }\n",
       "</style>\n",
       "<table border=\"1\" class=\"dataframe\">\n",
       "  <thead>\n",
       "    <tr style=\"text-align: right;\">\n",
       "      <th></th>\n",
       "      <th>Date</th>\n",
       "      <th>CORESTICKM159SFRBATL</th>\n",
       "    </tr>\n",
       "  </thead>\n",
       "  <tbody>\n",
       "    <tr>\n",
       "      <th>0</th>\n",
       "      <td>1968-01-01</td>\n",
       "      <td>3.651861</td>\n",
       "    </tr>\n",
       "    <tr>\n",
       "      <th>1</th>\n",
       "      <td>1968-02-01</td>\n",
       "      <td>3.673819</td>\n",
       "    </tr>\n",
       "    <tr>\n",
       "      <th>2</th>\n",
       "      <td>1968-03-01</td>\n",
       "      <td>4.142164</td>\n",
       "    </tr>\n",
       "    <tr>\n",
       "      <th>3</th>\n",
       "      <td>1968-04-01</td>\n",
       "      <td>4.155828</td>\n",
       "    </tr>\n",
       "    <tr>\n",
       "      <th>4</th>\n",
       "      <td>1968-05-01</td>\n",
       "      <td>4.088245</td>\n",
       "    </tr>\n",
       "  </tbody>\n",
       "</table>\n",
       "</div>"
      ],
      "text/plain": [
       "         Date  CORESTICKM159SFRBATL\n",
       "0  1968-01-01              3.651861\n",
       "1  1968-02-01              3.673819\n",
       "2  1968-03-01              4.142164\n",
       "3  1968-04-01              4.155828\n",
       "4  1968-05-01              4.088245"
      ]
     },
     "execution_count": 9,
     "metadata": {},
     "output_type": "execute_result"
    }
   ],
   "source": [
    "consumer.head()"
   ]
  },
  {
   "cell_type": "code",
   "execution_count": 10,
   "id": "a37aafd3",
   "metadata": {},
   "outputs": [
    {
     "data": {
      "text/html": [
       "<div>\n",
       "<style scoped>\n",
       "    .dataframe tbody tr th:only-of-type {\n",
       "        vertical-align: middle;\n",
       "    }\n",
       "\n",
       "    .dataframe tbody tr th {\n",
       "        vertical-align: top;\n",
       "    }\n",
       "\n",
       "    .dataframe thead th {\n",
       "        text-align: right;\n",
       "    }\n",
       "</style>\n",
       "<table border=\"1\" class=\"dataframe\">\n",
       "  <thead>\n",
       "    <tr style=\"text-align: right;\">\n",
       "      <th></th>\n",
       "      <th>Date</th>\n",
       "      <th>CORESTICKM159SFRBATL</th>\n",
       "    </tr>\n",
       "  </thead>\n",
       "  <tbody>\n",
       "    <tr>\n",
       "      <th>0</th>\n",
       "      <td>1968-01-01</td>\n",
       "      <td>3.651861</td>\n",
       "    </tr>\n",
       "    <tr>\n",
       "      <th>1</th>\n",
       "      <td>1968-02-01</td>\n",
       "      <td>3.673819</td>\n",
       "    </tr>\n",
       "    <tr>\n",
       "      <th>2</th>\n",
       "      <td>1968-03-01</td>\n",
       "      <td>4.142164</td>\n",
       "    </tr>\n",
       "    <tr>\n",
       "      <th>3</th>\n",
       "      <td>1968-04-01</td>\n",
       "      <td>4.155828</td>\n",
       "    </tr>\n",
       "    <tr>\n",
       "      <th>4</th>\n",
       "      <td>1968-05-01</td>\n",
       "      <td>4.088245</td>\n",
       "    </tr>\n",
       "  </tbody>\n",
       "</table>\n",
       "</div>"
      ],
      "text/plain": [
       "         Date  CORESTICKM159SFRBATL\n",
       "0  1968-01-01              3.651861\n",
       "1  1968-02-01              3.673819\n",
       "2  1968-03-01              4.142164\n",
       "3  1968-04-01              4.155828\n",
       "4  1968-05-01              4.088245"
      ]
     },
     "execution_count": 10,
     "metadata": {},
     "output_type": "execute_result"
    }
   ],
   "source": [
    "inflation.head()"
   ]
  },
  {
   "cell_type": "code",
   "execution_count": 11,
   "id": "4e1a871c",
   "metadata": {},
   "outputs": [
    {
     "data": {
      "text/plain": [
       "Index(['Date', 'CORESTICKM159SFRBATL'], dtype='object')"
      ]
     },
     "execution_count": 11,
     "metadata": {},
     "output_type": "execute_result"
    }
   ],
   "source": [
    "inflation.columns"
   ]
  },
  {
   "cell_type": "code",
   "execution_count": 12,
   "id": "e9e9a77a",
   "metadata": {},
   "outputs": [
    {
     "data": {
      "text/html": [
       "<div>\n",
       "<style scoped>\n",
       "    .dataframe tbody tr th:only-of-type {\n",
       "        vertical-align: middle;\n",
       "    }\n",
       "\n",
       "    .dataframe tbody tr th {\n",
       "        vertical-align: top;\n",
       "    }\n",
       "\n",
       "    .dataframe thead th {\n",
       "        text-align: right;\n",
       "    }\n",
       "</style>\n",
       "<table border=\"1\" class=\"dataframe\">\n",
       "  <thead>\n",
       "    <tr style=\"text-align: right;\">\n",
       "      <th></th>\n",
       "      <th>Date</th>\n",
       "      <th>Close/Last</th>\n",
       "      <th>Volume</th>\n",
       "      <th>Open</th>\n",
       "      <th>High</th>\n",
       "      <th>Low</th>\n",
       "    </tr>\n",
       "  </thead>\n",
       "  <tbody>\n",
       "    <tr>\n",
       "      <th>0</th>\n",
       "      <td>05/03/2024</td>\n",
       "      <td>$406.66</td>\n",
       "      <td>17446720</td>\n",
       "      <td>$402.28</td>\n",
       "      <td>$407.15</td>\n",
       "      <td>$401.86</td>\n",
       "    </tr>\n",
       "    <tr>\n",
       "      <th>1</th>\n",
       "      <td>05/02/2024</td>\n",
       "      <td>$397.84</td>\n",
       "      <td>17709360</td>\n",
       "      <td>$397.66</td>\n",
       "      <td>$399.93</td>\n",
       "      <td>$394.6515</td>\n",
       "    </tr>\n",
       "    <tr>\n",
       "      <th>2</th>\n",
       "      <td>05/01/2024</td>\n",
       "      <td>$394.94</td>\n",
       "      <td>23562480</td>\n",
       "      <td>$392.61</td>\n",
       "      <td>$401.7199</td>\n",
       "      <td>$390.31</td>\n",
       "    </tr>\n",
       "    <tr>\n",
       "      <th>3</th>\n",
       "      <td>04/30/2024</td>\n",
       "      <td>$389.33</td>\n",
       "      <td>28781370</td>\n",
       "      <td>$401.49</td>\n",
       "      <td>$402.16</td>\n",
       "      <td>$389.17</td>\n",
       "    </tr>\n",
       "    <tr>\n",
       "      <th>4</th>\n",
       "      <td>04/29/2024</td>\n",
       "      <td>$402.25</td>\n",
       "      <td>19582090</td>\n",
       "      <td>$405.25</td>\n",
       "      <td>$406.32</td>\n",
       "      <td>$399.19</td>\n",
       "    </tr>\n",
       "  </tbody>\n",
       "</table>\n",
       "</div>"
      ],
      "text/plain": [
       "         Date Close/Last    Volume     Open       High        Low\n",
       "0  05/03/2024    $406.66  17446720  $402.28    $407.15    $401.86\n",
       "1  05/02/2024    $397.84  17709360  $397.66    $399.93  $394.6515\n",
       "2  05/01/2024    $394.94  23562480  $392.61  $401.7199    $390.31\n",
       "3  04/30/2024    $389.33  28781370  $401.49    $402.16    $389.17\n",
       "4  04/29/2024    $402.25  19582090  $405.25    $406.32    $399.19"
      ]
     },
     "execution_count": 12,
     "metadata": {},
     "output_type": "execute_result"
    }
   ],
   "source": [
    "# Load the historical stock price data for Apple and Microsoft\n",
    "microsoft.head()"
   ]
  },
  {
   "cell_type": "code",
   "execution_count": 13,
   "id": "fd478d95",
   "metadata": {},
   "outputs": [],
   "source": [
    "# Use methods like .info() and .describe() to explore the data"
   ]
  },
  {
   "cell_type": "code",
   "execution_count": 14,
   "id": "230f987c",
   "metadata": {},
   "outputs": [
    {
     "name": "stdout",
     "output_type": "stream",
     "text": [
      "<class 'pandas.core.frame.DataFrame'>\n",
      "RangeIndex: 2517 entries, 0 to 2516\n",
      "Data columns (total 6 columns):\n",
      " #   Column      Non-Null Count  Dtype \n",
      "---  ------      --------------  ----- \n",
      " 0   Date        2517 non-null   object\n",
      " 1   Close/Last  2517 non-null   object\n",
      " 2   Volume      2517 non-null   int64 \n",
      " 3   Open        2517 non-null   object\n",
      " 4   High        2517 non-null   object\n",
      " 5   Low         2517 non-null   object\n",
      "dtypes: int64(1), object(5)\n",
      "memory usage: 118.1+ KB\n"
     ]
    }
   ],
   "source": [
    "microsoft.info()"
   ]
  },
  {
   "cell_type": "code",
   "execution_count": 15,
   "id": "2ee21cef",
   "metadata": {},
   "outputs": [
    {
     "data": {
      "text/html": [
       "<div>\n",
       "<style scoped>\n",
       "    .dataframe tbody tr th:only-of-type {\n",
       "        vertical-align: middle;\n",
       "    }\n",
       "\n",
       "    .dataframe tbody tr th {\n",
       "        vertical-align: top;\n",
       "    }\n",
       "\n",
       "    .dataframe thead th {\n",
       "        text-align: right;\n",
       "    }\n",
       "</style>\n",
       "<table border=\"1\" class=\"dataframe\">\n",
       "  <thead>\n",
       "    <tr style=\"text-align: right;\">\n",
       "      <th></th>\n",
       "      <th>Volume</th>\n",
       "    </tr>\n",
       "  </thead>\n",
       "  <tbody>\n",
       "    <tr>\n",
       "      <th>count</th>\n",
       "      <td>2.517000e+03</td>\n",
       "    </tr>\n",
       "    <tr>\n",
       "      <th>mean</th>\n",
       "      <td>2.953106e+07</td>\n",
       "    </tr>\n",
       "    <tr>\n",
       "      <th>std</th>\n",
       "      <td>1.370138e+07</td>\n",
       "    </tr>\n",
       "    <tr>\n",
       "      <th>min</th>\n",
       "      <td>7.425603e+06</td>\n",
       "    </tr>\n",
       "    <tr>\n",
       "      <th>25%</th>\n",
       "      <td>2.131892e+07</td>\n",
       "    </tr>\n",
       "    <tr>\n",
       "      <th>50%</th>\n",
       "      <td>2.639470e+07</td>\n",
       "    </tr>\n",
       "    <tr>\n",
       "      <th>75%</th>\n",
       "      <td>3.360003e+07</td>\n",
       "    </tr>\n",
       "    <tr>\n",
       "      <th>max</th>\n",
       "      <td>2.025141e+08</td>\n",
       "    </tr>\n",
       "  </tbody>\n",
       "</table>\n",
       "</div>"
      ],
      "text/plain": [
       "             Volume\n",
       "count  2.517000e+03\n",
       "mean   2.953106e+07\n",
       "std    1.370138e+07\n",
       "min    7.425603e+06\n",
       "25%    2.131892e+07\n",
       "50%    2.639470e+07\n",
       "75%    3.360003e+07\n",
       "max    2.025141e+08"
      ]
     },
     "execution_count": 15,
     "metadata": {},
     "output_type": "execute_result"
    }
   ],
   "source": [
    "microsoft.describe()"
   ]
  },
  {
   "cell_type": "code",
   "execution_count": 16,
   "id": "f304a7ec",
   "metadata": {},
   "outputs": [
    {
     "data": {
      "text/html": [
       "<div>\n",
       "<style scoped>\n",
       "    .dataframe tbody tr th:only-of-type {\n",
       "        vertical-align: middle;\n",
       "    }\n",
       "\n",
       "    .dataframe tbody tr th {\n",
       "        vertical-align: top;\n",
       "    }\n",
       "\n",
       "    .dataframe thead th {\n",
       "        text-align: right;\n",
       "    }\n",
       "</style>\n",
       "<table border=\"1\" class=\"dataframe\">\n",
       "  <thead>\n",
       "    <tr style=\"text-align: right;\">\n",
       "      <th></th>\n",
       "      <th>Date</th>\n",
       "      <th>Close/Last</th>\n",
       "      <th>Volume</th>\n",
       "      <th>Open</th>\n",
       "      <th>High</th>\n",
       "      <th>Low</th>\n",
       "    </tr>\n",
       "  </thead>\n",
       "  <tbody>\n",
       "    <tr>\n",
       "      <th>0</th>\n",
       "      <td>5/3/2024</td>\n",
       "      <td>$183.38</td>\n",
       "      <td>163224100</td>\n",
       "      <td>$186.65</td>\n",
       "      <td>$187.00</td>\n",
       "      <td>$182.66</td>\n",
       "    </tr>\n",
       "    <tr>\n",
       "      <th>1</th>\n",
       "      <td>5/2/2024</td>\n",
       "      <td>$173.03</td>\n",
       "      <td>94214920</td>\n",
       "      <td>$172.51</td>\n",
       "      <td>$173.42</td>\n",
       "      <td>$170.89</td>\n",
       "    </tr>\n",
       "    <tr>\n",
       "      <th>2</th>\n",
       "      <td>5/1/2024</td>\n",
       "      <td>$169.30</td>\n",
       "      <td>50383150</td>\n",
       "      <td>$169.58</td>\n",
       "      <td>$172.71</td>\n",
       "      <td>$169.11</td>\n",
       "    </tr>\n",
       "    <tr>\n",
       "      <th>3</th>\n",
       "      <td>4/30/2024</td>\n",
       "      <td>$170.33</td>\n",
       "      <td>65934780</td>\n",
       "      <td>$173.33</td>\n",
       "      <td>$174.99</td>\n",
       "      <td>$170.00</td>\n",
       "    </tr>\n",
       "    <tr>\n",
       "      <th>4</th>\n",
       "      <td>4/29/2024</td>\n",
       "      <td>$173.50</td>\n",
       "      <td>68169420</td>\n",
       "      <td>$173.37</td>\n",
       "      <td>$176.03</td>\n",
       "      <td>$173.10</td>\n",
       "    </tr>\n",
       "  </tbody>\n",
       "</table>\n",
       "</div>"
      ],
      "text/plain": [
       "        Date Close/Last     Volume      Open      High       Low\n",
       "0   5/3/2024   $183.38   163224100  $186.65   $187.00   $182.66 \n",
       "1   5/2/2024   $173.03    94214920  $172.51   $173.42   $170.89 \n",
       "2   5/1/2024   $169.30    50383150  $169.58   $172.71   $169.11 \n",
       "3  4/30/2024   $170.33    65934780  $173.33   $174.99   $170.00 \n",
       "4  4/29/2024   $173.50    68169420  $173.37   $176.03   $173.10 "
      ]
     },
     "execution_count": 16,
     "metadata": {},
     "output_type": "execute_result"
    }
   ],
   "source": [
    "apple.head()"
   ]
  },
  {
   "cell_type": "code",
   "execution_count": 17,
   "id": "c7821e76",
   "metadata": {},
   "outputs": [
    {
     "data": {
      "text/html": [
       "<div>\n",
       "<style scoped>\n",
       "    .dataframe tbody tr th:only-of-type {\n",
       "        vertical-align: middle;\n",
       "    }\n",
       "\n",
       "    .dataframe tbody tr th {\n",
       "        vertical-align: top;\n",
       "    }\n",
       "\n",
       "    .dataframe thead th {\n",
       "        text-align: right;\n",
       "    }\n",
       "</style>\n",
       "<table border=\"1\" class=\"dataframe\">\n",
       "  <thead>\n",
       "    <tr style=\"text-align: right;\">\n",
       "      <th></th>\n",
       "      <th>Volume</th>\n",
       "    </tr>\n",
       "  </thead>\n",
       "  <tbody>\n",
       "    <tr>\n",
       "      <th>count</th>\n",
       "      <td>2.517000e+03</td>\n",
       "    </tr>\n",
       "    <tr>\n",
       "      <th>mean</th>\n",
       "      <td>1.277394e+08</td>\n",
       "    </tr>\n",
       "    <tr>\n",
       "      <th>std</th>\n",
       "      <td>7.357405e+07</td>\n",
       "    </tr>\n",
       "    <tr>\n",
       "      <th>min</th>\n",
       "      <td>2.404834e+07</td>\n",
       "    </tr>\n",
       "    <tr>\n",
       "      <th>25%</th>\n",
       "      <td>7.741776e+07</td>\n",
       "    </tr>\n",
       "    <tr>\n",
       "      <th>50%</th>\n",
       "      <td>1.077601e+08</td>\n",
       "    </tr>\n",
       "    <tr>\n",
       "      <th>75%</th>\n",
       "      <td>1.567789e+08</td>\n",
       "    </tr>\n",
       "    <tr>\n",
       "      <th>max</th>\n",
       "      <td>7.576780e+08</td>\n",
       "    </tr>\n",
       "  </tbody>\n",
       "</table>\n",
       "</div>"
      ],
      "text/plain": [
       "             Volume\n",
       "count  2.517000e+03\n",
       "mean   1.277394e+08\n",
       "std    7.357405e+07\n",
       "min    2.404834e+07\n",
       "25%    7.741776e+07\n",
       "50%    1.077601e+08\n",
       "75%    1.567789e+08\n",
       "max    7.576780e+08"
      ]
     },
     "execution_count": 17,
     "metadata": {},
     "output_type": "execute_result"
    }
   ],
   "source": [
    "apple.describe()"
   ]
  },
  {
   "cell_type": "code",
   "execution_count": 18,
   "id": "656e888d",
   "metadata": {},
   "outputs": [
    {
     "name": "stdout",
     "output_type": "stream",
     "text": [
      "<class 'pandas.core.frame.DataFrame'>\n",
      "RangeIndex: 2517 entries, 0 to 2516\n",
      "Data columns (total 6 columns):\n",
      " #   Column      Non-Null Count  Dtype \n",
      "---  ------      --------------  ----- \n",
      " 0   Date        2517 non-null   object\n",
      " 1   Close/Last  2514 non-null   object\n",
      " 2   Volume      2517 non-null   int64 \n",
      " 3   Open        2517 non-null   object\n",
      " 4   High        2517 non-null   object\n",
      " 5   Low         2517 non-null   object\n",
      "dtypes: int64(1), object(5)\n",
      "memory usage: 118.1+ KB\n"
     ]
    }
   ],
   "source": [
    "apple.info()"
   ]
  },
  {
   "cell_type": "code",
   "execution_count": 19,
   "id": "8c9bed17",
   "metadata": {},
   "outputs": [
    {
     "data": {
      "text/plain": [
       "Index(['Date', 'Close/Last', 'Volume', 'Open', 'High', 'Low'], dtype='object')"
      ]
     },
     "execution_count": 19,
     "metadata": {},
     "output_type": "execute_result"
    }
   ],
   "source": [
    "apple.columns"
   ]
  },
  {
   "cell_type": "markdown",
   "id": "06c8d9dc",
   "metadata": {},
   "source": [
    "## Data preprocessing: Check for missing data and forward fill\n",
    "\n",
    "Check the Apple historical prices for missing data. Check for missing data in all columns. If there's data missing, use a forward fill to fill in those missing prices. "
   ]
  },
  {
   "cell_type": "code",
   "execution_count": 20,
   "id": "4807173e",
   "metadata": {},
   "outputs": [
    {
     "name": "stdout",
     "output_type": "stream",
     "text": [
      "DataFrame 1 has no null values.\n",
      "DataFrame 2 contains null values.\n",
      "DataFrame 3 has no null values.\n",
      "DataFrame 4 has no null values.\n",
      "DataFrame 5 has no null values.\n"
     ]
    }
   ],
   "source": [
    "# Check for nulls \n",
    "\n",
    "for i, df in enumerate(dfs, start=1):\n",
    "    if df.isnull().values.any():\n",
    "        print(f\"DataFrame {i} contains null values.\")\n",
    "    else:\n",
    "        print(f\"DataFrame {i} has no null values.\")\n"
   ]
  },
  {
   "cell_type": "code",
   "execution_count": 21,
   "id": "561b56b1",
   "metadata": {},
   "outputs": [
    {
     "data": {
      "text/plain": [
       "Date          0\n",
       "Close/Last    3\n",
       "Volume        0\n",
       "Open          0\n",
       "High          0\n",
       "Low           0\n",
       "dtype: int64"
      ]
     },
     "execution_count": 21,
     "metadata": {},
     "output_type": "execute_result"
    }
   ],
   "source": [
    "apple.isnull().sum()"
   ]
  },
  {
   "cell_type": "code",
   "execution_count": 22,
   "id": "00e4d6f5",
   "metadata": {},
   "outputs": [],
   "source": [
    "# Forward fill only specific columns\n",
    "\n",
    "apple.loc[:, 'Close/Last'] = apple['Close/Last'].ffill()"
   ]
  },
  {
   "cell_type": "code",
   "execution_count": 23,
   "id": "f82d3b2d",
   "metadata": {},
   "outputs": [
    {
     "name": "stdout",
     "output_type": "stream",
     "text": [
      "DataFrame 1 has no null values.\n",
      "DataFrame 2 has no null values.\n",
      "DataFrame 3 has no null values.\n",
      "DataFrame 4 has no null values.\n",
      "DataFrame 5 has no null values.\n"
     ]
    }
   ],
   "source": [
    "# Check again for nulls after using forward fill\n",
    "\n",
    "for i, df in enumerate(dfs, start=1):\n",
    "    if df.isnull().values.any():\n",
    "        print(f\"DataFrame {i} contains null values.\")\n",
    "    else:\n",
    "        print(f\"DataFrame {i} has no null values.\")"
   ]
  },
  {
   "cell_type": "code",
   "execution_count": 24,
   "id": "ad4abad6",
   "metadata": {},
   "outputs": [
    {
     "data": {
      "text/plain": [
       "Date          0\n",
       "Close/Last    0\n",
       "Volume        0\n",
       "Open          0\n",
       "High          0\n",
       "Low           0\n",
       "dtype: int64"
      ]
     },
     "execution_count": 24,
     "metadata": {},
     "output_type": "execute_result"
    }
   ],
   "source": [
    "apple.isnull().sum()"
   ]
  },
  {
   "cell_type": "markdown",
   "id": "2614c615",
   "metadata": {},
   "source": [
    "## Data preprocessing: Remove special characters and convert to numeric/datetime\n",
    "\n",
    "The next step in the data engineering process is to standardize and clean up data. In this step, you'll check for odd formatting and special characters that will make it difficult to work with data as numeric or datetime. \n",
    "\n",
    "In this step:\n",
    "* Create a function that takes in a dataframe and a list of columns and removes dollar signs ('$') from those columns\n",
    "* Convert any columns with date/time data into a `pandas` `datetime` format"
   ]
  },
  {
   "cell_type": "code",
   "execution_count": 25,
   "id": "bc78a2e2",
   "metadata": {},
   "outputs": [],
   "source": [
    "def convert_dollar_columns_to_numeric(df, numeric_columns):\n",
    "    '''\n",
    "        Removes dollar signs ('$') from a list of columns in a given dataframe AND casts the columns to a numeric datatype.\n",
    "        Updates dataframe IN PLACE.\n",
    "        \n",
    "        Inputs:\n",
    "            df: dataframe to be operated on\n",
    "            numeric_columns: columns that should have numeric data but have dollar signs currently\n",
    "            \n",
    "        Returns:\n",
    "            None - changes to the dataframe can be made in place\n",
    "    '''\n",
    "    for col in numeric_columns:\n",
    "        df[col] = df[col].replace({'\\$': ''}, regex=True).astype(float)\n"
   ]
  },
  {
   "cell_type": "code",
   "execution_count": 26,
   "id": "ae874a95",
   "metadata": {},
   "outputs": [
    {
     "data": {
      "text/html": [
       "<div>\n",
       "<style scoped>\n",
       "    .dataframe tbody tr th:only-of-type {\n",
       "        vertical-align: middle;\n",
       "    }\n",
       "\n",
       "    .dataframe tbody tr th {\n",
       "        vertical-align: top;\n",
       "    }\n",
       "\n",
       "    .dataframe thead th {\n",
       "        text-align: right;\n",
       "    }\n",
       "</style>\n",
       "<table border=\"1\" class=\"dataframe\">\n",
       "  <thead>\n",
       "    <tr style=\"text-align: right;\">\n",
       "      <th></th>\n",
       "      <th>Date</th>\n",
       "      <th>Close/Last</th>\n",
       "      <th>Volume</th>\n",
       "      <th>Open</th>\n",
       "      <th>High</th>\n",
       "      <th>Low</th>\n",
       "    </tr>\n",
       "  </thead>\n",
       "  <tbody>\n",
       "    <tr>\n",
       "      <th>0</th>\n",
       "      <td>5/3/2024</td>\n",
       "      <td>$183.38</td>\n",
       "      <td>163224100</td>\n",
       "      <td>$186.65</td>\n",
       "      <td>$187.00</td>\n",
       "      <td>$182.66</td>\n",
       "    </tr>\n",
       "    <tr>\n",
       "      <th>1</th>\n",
       "      <td>5/2/2024</td>\n",
       "      <td>$173.03</td>\n",
       "      <td>94214920</td>\n",
       "      <td>$172.51</td>\n",
       "      <td>$173.42</td>\n",
       "      <td>$170.89</td>\n",
       "    </tr>\n",
       "    <tr>\n",
       "      <th>2</th>\n",
       "      <td>5/1/2024</td>\n",
       "      <td>$169.30</td>\n",
       "      <td>50383150</td>\n",
       "      <td>$169.58</td>\n",
       "      <td>$172.71</td>\n",
       "      <td>$169.11</td>\n",
       "    </tr>\n",
       "    <tr>\n",
       "      <th>3</th>\n",
       "      <td>4/30/2024</td>\n",
       "      <td>$170.33</td>\n",
       "      <td>65934780</td>\n",
       "      <td>$173.33</td>\n",
       "      <td>$174.99</td>\n",
       "      <td>$170.00</td>\n",
       "    </tr>\n",
       "    <tr>\n",
       "      <th>4</th>\n",
       "      <td>4/29/2024</td>\n",
       "      <td>$173.50</td>\n",
       "      <td>68169420</td>\n",
       "      <td>$173.37</td>\n",
       "      <td>$176.03</td>\n",
       "      <td>$173.10</td>\n",
       "    </tr>\n",
       "  </tbody>\n",
       "</table>\n",
       "</div>"
      ],
      "text/plain": [
       "        Date Close/Last     Volume      Open      High       Low\n",
       "0   5/3/2024   $183.38   163224100  $186.65   $187.00   $182.66 \n",
       "1   5/2/2024   $173.03    94214920  $172.51   $173.42   $170.89 \n",
       "2   5/1/2024   $169.30    50383150  $169.58   $172.71   $169.11 \n",
       "3  4/30/2024   $170.33    65934780  $173.33   $174.99   $170.00 \n",
       "4  4/29/2024   $173.50    68169420  $173.37   $176.03   $173.10 "
      ]
     },
     "execution_count": 26,
     "metadata": {},
     "output_type": "execute_result"
    }
   ],
   "source": [
    "apple.head()"
   ]
  },
  {
   "cell_type": "code",
   "execution_count": 27,
   "id": "0bffa88d",
   "metadata": {},
   "outputs": [
    {
     "data": {
      "text/html": [
       "<div>\n",
       "<style scoped>\n",
       "    .dataframe tbody tr th:only-of-type {\n",
       "        vertical-align: middle;\n",
       "    }\n",
       "\n",
       "    .dataframe tbody tr th {\n",
       "        vertical-align: top;\n",
       "    }\n",
       "\n",
       "    .dataframe thead th {\n",
       "        text-align: right;\n",
       "    }\n",
       "</style>\n",
       "<table border=\"1\" class=\"dataframe\">\n",
       "  <thead>\n",
       "    <tr style=\"text-align: right;\">\n",
       "      <th></th>\n",
       "      <th>Date</th>\n",
       "      <th>Close/Last</th>\n",
       "      <th>Volume</th>\n",
       "      <th>Open</th>\n",
       "      <th>High</th>\n",
       "      <th>Low</th>\n",
       "    </tr>\n",
       "  </thead>\n",
       "  <tbody>\n",
       "    <tr>\n",
       "      <th>0</th>\n",
       "      <td>05/03/2024</td>\n",
       "      <td>$406.66</td>\n",
       "      <td>17446720</td>\n",
       "      <td>$402.28</td>\n",
       "      <td>$407.15</td>\n",
       "      <td>$401.86</td>\n",
       "    </tr>\n",
       "    <tr>\n",
       "      <th>1</th>\n",
       "      <td>05/02/2024</td>\n",
       "      <td>$397.84</td>\n",
       "      <td>17709360</td>\n",
       "      <td>$397.66</td>\n",
       "      <td>$399.93</td>\n",
       "      <td>$394.6515</td>\n",
       "    </tr>\n",
       "    <tr>\n",
       "      <th>2</th>\n",
       "      <td>05/01/2024</td>\n",
       "      <td>$394.94</td>\n",
       "      <td>23562480</td>\n",
       "      <td>$392.61</td>\n",
       "      <td>$401.7199</td>\n",
       "      <td>$390.31</td>\n",
       "    </tr>\n",
       "    <tr>\n",
       "      <th>3</th>\n",
       "      <td>04/30/2024</td>\n",
       "      <td>$389.33</td>\n",
       "      <td>28781370</td>\n",
       "      <td>$401.49</td>\n",
       "      <td>$402.16</td>\n",
       "      <td>$389.17</td>\n",
       "    </tr>\n",
       "    <tr>\n",
       "      <th>4</th>\n",
       "      <td>04/29/2024</td>\n",
       "      <td>$402.25</td>\n",
       "      <td>19582090</td>\n",
       "      <td>$405.25</td>\n",
       "      <td>$406.32</td>\n",
       "      <td>$399.19</td>\n",
       "    </tr>\n",
       "  </tbody>\n",
       "</table>\n",
       "</div>"
      ],
      "text/plain": [
       "         Date Close/Last    Volume     Open       High        Low\n",
       "0  05/03/2024    $406.66  17446720  $402.28    $407.15    $401.86\n",
       "1  05/02/2024    $397.84  17709360  $397.66    $399.93  $394.6515\n",
       "2  05/01/2024    $394.94  23562480  $392.61  $401.7199    $390.31\n",
       "3  04/30/2024    $389.33  28781370  $401.49    $402.16    $389.17\n",
       "4  04/29/2024    $402.25  19582090  $405.25    $406.32    $399.19"
      ]
     },
     "execution_count": 27,
     "metadata": {},
     "output_type": "execute_result"
    }
   ],
   "source": [
    "microsoft.head()"
   ]
  },
  {
   "cell_type": "code",
   "execution_count": 28,
   "id": "be98ba61",
   "metadata": {},
   "outputs": [
    {
     "data": {
      "text/plain": [
       "Index(['Date', 'Close/Last', 'Volume', 'Open', 'High', 'Low'], dtype='object')"
      ]
     },
     "execution_count": 28,
     "metadata": {},
     "output_type": "execute_result"
    }
   ],
   "source": [
    "apple.columns"
   ]
  },
  {
   "cell_type": "code",
   "execution_count": 29,
   "id": "b258ae40",
   "metadata": {},
   "outputs": [],
   "source": [
    "# Apply the function to both DataFrames\n",
    "convert_dollar_columns_to_numeric(apple, ['Close/Last', 'Open', 'High', 'Low'])\n",
    "convert_dollar_columns_to_numeric(microsoft, ['Close/Last', 'Open', 'High', 'Low'])"
   ]
  },
  {
   "cell_type": "code",
   "execution_count": 30,
   "id": "90f33140",
   "metadata": {},
   "outputs": [
    {
     "data": {
      "text/html": [
       "<div>\n",
       "<style scoped>\n",
       "    .dataframe tbody tr th:only-of-type {\n",
       "        vertical-align: middle;\n",
       "    }\n",
       "\n",
       "    .dataframe tbody tr th {\n",
       "        vertical-align: top;\n",
       "    }\n",
       "\n",
       "    .dataframe thead th {\n",
       "        text-align: right;\n",
       "    }\n",
       "</style>\n",
       "<table border=\"1\" class=\"dataframe\">\n",
       "  <thead>\n",
       "    <tr style=\"text-align: right;\">\n",
       "      <th></th>\n",
       "      <th>Date</th>\n",
       "      <th>Close/Last</th>\n",
       "      <th>Volume</th>\n",
       "      <th>Open</th>\n",
       "      <th>High</th>\n",
       "      <th>Low</th>\n",
       "    </tr>\n",
       "  </thead>\n",
       "  <tbody>\n",
       "    <tr>\n",
       "      <th>0</th>\n",
       "      <td>5/3/2024</td>\n",
       "      <td>183.38</td>\n",
       "      <td>163224100</td>\n",
       "      <td>186.65</td>\n",
       "      <td>187.00</td>\n",
       "      <td>182.66</td>\n",
       "    </tr>\n",
       "    <tr>\n",
       "      <th>1</th>\n",
       "      <td>5/2/2024</td>\n",
       "      <td>173.03</td>\n",
       "      <td>94214920</td>\n",
       "      <td>172.51</td>\n",
       "      <td>173.42</td>\n",
       "      <td>170.89</td>\n",
       "    </tr>\n",
       "    <tr>\n",
       "      <th>2</th>\n",
       "      <td>5/1/2024</td>\n",
       "      <td>169.30</td>\n",
       "      <td>50383150</td>\n",
       "      <td>169.58</td>\n",
       "      <td>172.71</td>\n",
       "      <td>169.11</td>\n",
       "    </tr>\n",
       "    <tr>\n",
       "      <th>3</th>\n",
       "      <td>4/30/2024</td>\n",
       "      <td>170.33</td>\n",
       "      <td>65934780</td>\n",
       "      <td>173.33</td>\n",
       "      <td>174.99</td>\n",
       "      <td>170.00</td>\n",
       "    </tr>\n",
       "    <tr>\n",
       "      <th>4</th>\n",
       "      <td>4/29/2024</td>\n",
       "      <td>173.50</td>\n",
       "      <td>68169420</td>\n",
       "      <td>173.37</td>\n",
       "      <td>176.03</td>\n",
       "      <td>173.10</td>\n",
       "    </tr>\n",
       "  </tbody>\n",
       "</table>\n",
       "</div>"
      ],
      "text/plain": [
       "        Date  Close/Last     Volume    Open    High     Low\n",
       "0   5/3/2024      183.38  163224100  186.65  187.00  182.66\n",
       "1   5/2/2024      173.03   94214920  172.51  173.42  170.89\n",
       "2   5/1/2024      169.30   50383150  169.58  172.71  169.11\n",
       "3  4/30/2024      170.33   65934780  173.33  174.99  170.00\n",
       "4  4/29/2024      173.50   68169420  173.37  176.03  173.10"
      ]
     },
     "execution_count": 30,
     "metadata": {},
     "output_type": "execute_result"
    }
   ],
   "source": [
    "# Verify changes\n",
    "\n",
    "apple.head()"
   ]
  },
  {
   "cell_type": "code",
   "execution_count": 31,
   "id": "a6d6ee4e",
   "metadata": {},
   "outputs": [
    {
     "data": {
      "text/html": [
       "<div>\n",
       "<style scoped>\n",
       "    .dataframe tbody tr th:only-of-type {\n",
       "        vertical-align: middle;\n",
       "    }\n",
       "\n",
       "    .dataframe tbody tr th {\n",
       "        vertical-align: top;\n",
       "    }\n",
       "\n",
       "    .dataframe thead th {\n",
       "        text-align: right;\n",
       "    }\n",
       "</style>\n",
       "<table border=\"1\" class=\"dataframe\">\n",
       "  <thead>\n",
       "    <tr style=\"text-align: right;\">\n",
       "      <th></th>\n",
       "      <th>Date</th>\n",
       "      <th>Close/Last</th>\n",
       "      <th>Volume</th>\n",
       "      <th>Open</th>\n",
       "      <th>High</th>\n",
       "      <th>Low</th>\n",
       "    </tr>\n",
       "  </thead>\n",
       "  <tbody>\n",
       "    <tr>\n",
       "      <th>0</th>\n",
       "      <td>05/03/2024</td>\n",
       "      <td>406.66</td>\n",
       "      <td>17446720</td>\n",
       "      <td>402.28</td>\n",
       "      <td>407.1500</td>\n",
       "      <td>401.8600</td>\n",
       "    </tr>\n",
       "    <tr>\n",
       "      <th>1</th>\n",
       "      <td>05/02/2024</td>\n",
       "      <td>397.84</td>\n",
       "      <td>17709360</td>\n",
       "      <td>397.66</td>\n",
       "      <td>399.9300</td>\n",
       "      <td>394.6515</td>\n",
       "    </tr>\n",
       "    <tr>\n",
       "      <th>2</th>\n",
       "      <td>05/01/2024</td>\n",
       "      <td>394.94</td>\n",
       "      <td>23562480</td>\n",
       "      <td>392.61</td>\n",
       "      <td>401.7199</td>\n",
       "      <td>390.3100</td>\n",
       "    </tr>\n",
       "    <tr>\n",
       "      <th>3</th>\n",
       "      <td>04/30/2024</td>\n",
       "      <td>389.33</td>\n",
       "      <td>28781370</td>\n",
       "      <td>401.49</td>\n",
       "      <td>402.1600</td>\n",
       "      <td>389.1700</td>\n",
       "    </tr>\n",
       "    <tr>\n",
       "      <th>4</th>\n",
       "      <td>04/29/2024</td>\n",
       "      <td>402.25</td>\n",
       "      <td>19582090</td>\n",
       "      <td>405.25</td>\n",
       "      <td>406.3200</td>\n",
       "      <td>399.1900</td>\n",
       "    </tr>\n",
       "  </tbody>\n",
       "</table>\n",
       "</div>"
      ],
      "text/plain": [
       "         Date  Close/Last    Volume    Open      High       Low\n",
       "0  05/03/2024      406.66  17446720  402.28  407.1500  401.8600\n",
       "1  05/02/2024      397.84  17709360  397.66  399.9300  394.6515\n",
       "2  05/01/2024      394.94  23562480  392.61  401.7199  390.3100\n",
       "3  04/30/2024      389.33  28781370  401.49  402.1600  389.1700\n",
       "4  04/29/2024      402.25  19582090  405.25  406.3200  399.1900"
      ]
     },
     "execution_count": 31,
     "metadata": {},
     "output_type": "execute_result"
    }
   ],
   "source": [
    "microsoft.head()"
   ]
  },
  {
   "cell_type": "code",
   "execution_count": 32,
   "id": "8971197f",
   "metadata": {},
   "outputs": [
    {
     "data": {
      "text/plain": [
       "Index(['Date', 'GDP'], dtype='object')"
      ]
     },
     "execution_count": 32,
     "metadata": {},
     "output_type": "execute_result"
    }
   ],
   "source": [
    "gdp.columns"
   ]
  },
  {
   "cell_type": "code",
   "execution_count": 33,
   "id": "92b9e5ab",
   "metadata": {},
   "outputs": [
    {
     "data": {
      "text/plain": [
       "Index(['Date', 'Close/Last', 'Volume', 'Open', 'High', 'Low'], dtype='object')"
      ]
     },
     "execution_count": 33,
     "metadata": {},
     "output_type": "execute_result"
    }
   ],
   "source": [
    "apple.columns"
   ]
  },
  {
   "cell_type": "code",
   "execution_count": 34,
   "id": "733aff27",
   "metadata": {},
   "outputs": [
    {
     "data": {
      "text/plain": [
       "Index(['Date', 'Close/Last', 'Volume', 'Open', 'High', 'Low'], dtype='object')"
      ]
     },
     "execution_count": 34,
     "metadata": {},
     "output_type": "execute_result"
    }
   ],
   "source": [
    "microsoft.columns"
   ]
  },
  {
   "cell_type": "code",
   "execution_count": 35,
   "id": "286000e5",
   "metadata": {},
   "outputs": [
    {
     "data": {
      "text/plain": [
       "Index(['Date', 'CORESTICKM159SFRBATL'], dtype='object')"
      ]
     },
     "execution_count": 35,
     "metadata": {},
     "output_type": "execute_result"
    }
   ],
   "source": [
    "consumer.columns"
   ]
  },
  {
   "cell_type": "code",
   "execution_count": 36,
   "id": "93a9b443",
   "metadata": {},
   "outputs": [
    {
     "data": {
      "text/plain": [
       "Index(['Date', 'CORESTICKM159SFRBATL'], dtype='object')"
      ]
     },
     "execution_count": 36,
     "metadata": {},
     "output_type": "execute_result"
    }
   ],
   "source": [
    "inflation.columns"
   ]
  },
  {
   "cell_type": "code",
   "execution_count": 37,
   "id": "efea17ca",
   "metadata": {},
   "outputs": [],
   "source": [
    "# Convert 'Date' column to datetime format in all DataFrames where it exists\n",
    "for df in [gdp, apple, microsoft, consumer, inflation]:\n",
    "    if \"Date\" in df.columns:\n",
    "        df[\"Date\"] = pd.to_datetime(df[\"Date\"], errors=\"coerce\")\n"
   ]
  },
  {
   "cell_type": "code",
   "execution_count": 38,
   "id": "8a2089e3",
   "metadata": {},
   "outputs": [
    {
     "name": "stdout",
     "output_type": "stream",
     "text": [
      "\n",
      "gdp DataFrame Info:\n",
      "<class 'pandas.core.frame.DataFrame'>\n",
      "RangeIndex: 309 entries, 0 to 308\n",
      "Data columns (total 2 columns):\n",
      " #   Column  Non-Null Count  Dtype         \n",
      "---  ------  --------------  -----         \n",
      " 0   Date    309 non-null    datetime64[ns]\n",
      " 1   GDP     309 non-null    float64       \n",
      "dtypes: datetime64[ns](1), float64(1)\n",
      "memory usage: 5.0 KB\n",
      "None\n",
      "\n",
      "apple DataFrame Info:\n",
      "<class 'pandas.core.frame.DataFrame'>\n",
      "RangeIndex: 2517 entries, 0 to 2516\n",
      "Data columns (total 6 columns):\n",
      " #   Column      Non-Null Count  Dtype         \n",
      "---  ------      --------------  -----         \n",
      " 0   Date        2517 non-null   datetime64[ns]\n",
      " 1   Close/Last  2517 non-null   float64       \n",
      " 2   Volume      2517 non-null   int64         \n",
      " 3   Open        2517 non-null   float64       \n",
      " 4   High        2517 non-null   float64       \n",
      " 5   Low         2517 non-null   float64       \n",
      "dtypes: datetime64[ns](1), float64(4), int64(1)\n",
      "memory usage: 118.1 KB\n",
      "None\n",
      "\n",
      "microsoft DataFrame Info:\n",
      "<class 'pandas.core.frame.DataFrame'>\n",
      "RangeIndex: 2517 entries, 0 to 2516\n",
      "Data columns (total 6 columns):\n",
      " #   Column      Non-Null Count  Dtype         \n",
      "---  ------      --------------  -----         \n",
      " 0   Date        2517 non-null   datetime64[ns]\n",
      " 1   Close/Last  2517 non-null   float64       \n",
      " 2   Volume      2517 non-null   int64         \n",
      " 3   Open        2517 non-null   float64       \n",
      " 4   High        2517 non-null   float64       \n",
      " 5   Low         2517 non-null   float64       \n",
      "dtypes: datetime64[ns](1), float64(4), int64(1)\n",
      "memory usage: 118.1 KB\n",
      "None\n",
      "\n",
      "consumer DataFrame Info:\n",
      "<class 'pandas.core.frame.DataFrame'>\n",
      "RangeIndex: 675 entries, 0 to 674\n",
      "Data columns (total 2 columns):\n",
      " #   Column                Non-Null Count  Dtype         \n",
      "---  ------                --------------  -----         \n",
      " 0   Date                  675 non-null    datetime64[ns]\n",
      " 1   CORESTICKM159SFRBATL  675 non-null    float64       \n",
      "dtypes: datetime64[ns](1), float64(1)\n",
      "memory usage: 10.7 KB\n",
      "None\n",
      "\n",
      "inflation DataFrame Info:\n",
      "<class 'pandas.core.frame.DataFrame'>\n",
      "RangeIndex: 675 entries, 0 to 674\n",
      "Data columns (total 2 columns):\n",
      " #   Column                Non-Null Count  Dtype         \n",
      "---  ------                --------------  -----         \n",
      " 0   Date                  675 non-null    datetime64[ns]\n",
      " 1   CORESTICKM159SFRBATL  675 non-null    float64       \n",
      "dtypes: datetime64[ns](1), float64(1)\n",
      "memory usage: 10.7 KB\n",
      "None\n"
     ]
    }
   ],
   "source": [
    "# Use .info() and check the type of each column to ensure that the above steps worked\n",
    "\n",
    "# Function to print DataFrame info\n",
    "def check_dataframe_info(dfs, names):\n",
    "    for df, name in zip(dfs, names):\n",
    "        print(f\"\\n{name} DataFrame Info:\")\n",
    "        print(df.info())  # Print column types and non-null counts\n",
    "\n",
    "# List of DataFrame names\n",
    "df_names = [\"gdp\", \"apple\", \"microsoft\", \"consumer\", \"inflation\"]\n",
    "\n",
    "# Check info for all DataFrames\n",
    "check_dataframe_info(dfs, df_names)\n"
   ]
  },
  {
   "cell_type": "markdown",
   "id": "95ad8e72",
   "metadata": {},
   "source": [
    "## Data preprocessing: Align datetime data\n",
    "\n",
    "Data engineering includes changing data with a datetime component if needed so that different time series can be more easily compared or plotted against each other. \n",
    "\n",
    "In this step:\n",
    "\n",
    "* Align the inflation date so that it falls on the last day of the month instead of the first\n",
    "\n",
    "Helpful hints: \n",
    "* Use the `pandas` `offsets` method using `MonthEnd(0)` to set the 'Date' column to month-end"
   ]
  },
  {
   "cell_type": "code",
   "execution_count": 39,
   "id": "00c471a0",
   "metadata": {},
   "outputs": [
    {
     "data": {
      "text/html": [
       "<div>\n",
       "<style scoped>\n",
       "    .dataframe tbody tr th:only-of-type {\n",
       "        vertical-align: middle;\n",
       "    }\n",
       "\n",
       "    .dataframe tbody tr th {\n",
       "        vertical-align: top;\n",
       "    }\n",
       "\n",
       "    .dataframe thead th {\n",
       "        text-align: right;\n",
       "    }\n",
       "</style>\n",
       "<table border=\"1\" class=\"dataframe\">\n",
       "  <thead>\n",
       "    <tr style=\"text-align: right;\">\n",
       "      <th></th>\n",
       "      <th>Date</th>\n",
       "      <th>CORESTICKM159SFRBATL</th>\n",
       "    </tr>\n",
       "  </thead>\n",
       "  <tbody>\n",
       "    <tr>\n",
       "      <th>0</th>\n",
       "      <td>1968-01-01</td>\n",
       "      <td>3.651861</td>\n",
       "    </tr>\n",
       "    <tr>\n",
       "      <th>1</th>\n",
       "      <td>1968-02-01</td>\n",
       "      <td>3.673819</td>\n",
       "    </tr>\n",
       "    <tr>\n",
       "      <th>2</th>\n",
       "      <td>1968-03-01</td>\n",
       "      <td>4.142164</td>\n",
       "    </tr>\n",
       "    <tr>\n",
       "      <th>3</th>\n",
       "      <td>1968-04-01</td>\n",
       "      <td>4.155828</td>\n",
       "    </tr>\n",
       "    <tr>\n",
       "      <th>4</th>\n",
       "      <td>1968-05-01</td>\n",
       "      <td>4.088245</td>\n",
       "    </tr>\n",
       "    <tr>\n",
       "      <th>5</th>\n",
       "      <td>1968-06-01</td>\n",
       "      <td>4.545569</td>\n",
       "    </tr>\n",
       "    <tr>\n",
       "      <th>6</th>\n",
       "      <td>1968-07-01</td>\n",
       "      <td>4.753076</td>\n",
       "    </tr>\n",
       "    <tr>\n",
       "      <th>7</th>\n",
       "      <td>1968-08-01</td>\n",
       "      <td>4.946607</td>\n",
       "    </tr>\n",
       "    <tr>\n",
       "      <th>8</th>\n",
       "      <td>1968-09-01</td>\n",
       "      <td>4.948247</td>\n",
       "    </tr>\n",
       "    <tr>\n",
       "      <th>9</th>\n",
       "      <td>1968-10-01</td>\n",
       "      <td>5.182592</td>\n",
       "    </tr>\n",
       "  </tbody>\n",
       "</table>\n",
       "</div>"
      ],
      "text/plain": [
       "        Date  CORESTICKM159SFRBATL\n",
       "0 1968-01-01              3.651861\n",
       "1 1968-02-01              3.673819\n",
       "2 1968-03-01              4.142164\n",
       "3 1968-04-01              4.155828\n",
       "4 1968-05-01              4.088245\n",
       "5 1968-06-01              4.545569\n",
       "6 1968-07-01              4.753076\n",
       "7 1968-08-01              4.946607\n",
       "8 1968-09-01              4.948247\n",
       "9 1968-10-01              5.182592"
      ]
     },
     "execution_count": 39,
     "metadata": {},
     "output_type": "execute_result"
    }
   ],
   "source": [
    "inflation.head(10)"
   ]
  },
  {
   "cell_type": "code",
   "execution_count": 40,
   "id": "ea8b3b03",
   "metadata": {},
   "outputs": [],
   "source": [
    "inflation_monthend = inflation.copy()"
   ]
  },
  {
   "cell_type": "code",
   "execution_count": 41,
   "id": "2a252103",
   "metadata": {},
   "outputs": [],
   "source": [
    "# Align inflation data so that the date is the month end (e.g. Jan 31, Feb 28/28)\n",
    "\n",
    "# Adjust to month-end using MonthEnd(0)\n",
    "inflation_monthend['Date'] = inflation_monthend['Date'] + pd.offsets.MonthEnd(0)\n"
   ]
  },
  {
   "cell_type": "code",
   "execution_count": 42,
   "id": "fe782db6",
   "metadata": {},
   "outputs": [
    {
     "data": {
      "text/html": [
       "<div>\n",
       "<style scoped>\n",
       "    .dataframe tbody tr th:only-of-type {\n",
       "        vertical-align: middle;\n",
       "    }\n",
       "\n",
       "    .dataframe tbody tr th {\n",
       "        vertical-align: top;\n",
       "    }\n",
       "\n",
       "    .dataframe thead th {\n",
       "        text-align: right;\n",
       "    }\n",
       "</style>\n",
       "<table border=\"1\" class=\"dataframe\">\n",
       "  <thead>\n",
       "    <tr style=\"text-align: right;\">\n",
       "      <th></th>\n",
       "      <th>Date</th>\n",
       "      <th>CORESTICKM159SFRBATL</th>\n",
       "    </tr>\n",
       "  </thead>\n",
       "  <tbody>\n",
       "    <tr>\n",
       "      <th>0</th>\n",
       "      <td>1968-01-31</td>\n",
       "      <td>3.651861</td>\n",
       "    </tr>\n",
       "    <tr>\n",
       "      <th>1</th>\n",
       "      <td>1968-02-29</td>\n",
       "      <td>3.673819</td>\n",
       "    </tr>\n",
       "    <tr>\n",
       "      <th>2</th>\n",
       "      <td>1968-03-31</td>\n",
       "      <td>4.142164</td>\n",
       "    </tr>\n",
       "    <tr>\n",
       "      <th>3</th>\n",
       "      <td>1968-04-30</td>\n",
       "      <td>4.155828</td>\n",
       "    </tr>\n",
       "    <tr>\n",
       "      <th>4</th>\n",
       "      <td>1968-05-31</td>\n",
       "      <td>4.088245</td>\n",
       "    </tr>\n",
       "    <tr>\n",
       "      <th>5</th>\n",
       "      <td>1968-06-30</td>\n",
       "      <td>4.545569</td>\n",
       "    </tr>\n",
       "    <tr>\n",
       "      <th>6</th>\n",
       "      <td>1968-07-31</td>\n",
       "      <td>4.753076</td>\n",
       "    </tr>\n",
       "    <tr>\n",
       "      <th>7</th>\n",
       "      <td>1968-08-31</td>\n",
       "      <td>4.946607</td>\n",
       "    </tr>\n",
       "    <tr>\n",
       "      <th>8</th>\n",
       "      <td>1968-09-30</td>\n",
       "      <td>4.948247</td>\n",
       "    </tr>\n",
       "    <tr>\n",
       "      <th>9</th>\n",
       "      <td>1968-10-31</td>\n",
       "      <td>5.182592</td>\n",
       "    </tr>\n",
       "  </tbody>\n",
       "</table>\n",
       "</div>"
      ],
      "text/plain": [
       "        Date  CORESTICKM159SFRBATL\n",
       "0 1968-01-31              3.651861\n",
       "1 1968-02-29              3.673819\n",
       "2 1968-03-31              4.142164\n",
       "3 1968-04-30              4.155828\n",
       "4 1968-05-31              4.088245\n",
       "5 1968-06-30              4.545569\n",
       "6 1968-07-31              4.753076\n",
       "7 1968-08-31              4.946607\n",
       "8 1968-09-30              4.948247\n",
       "9 1968-10-31              5.182592"
      ]
     },
     "execution_count": 42,
     "metadata": {},
     "output_type": "execute_result"
    }
   ],
   "source": [
    "# Verify changes\n",
    "\n",
    "inflation_monthend.head(10)"
   ]
  },
  {
   "cell_type": "markdown",
   "id": "e072f4a1",
   "metadata": {},
   "source": [
    "## Data preprocessing: Upsample, downsample and interpolate data\n",
    "\n",
    "Inflation data is presented monthly in this dataset. However, for some models, you may need it at a quarterly frequency, and for some models you may need it at a quarterly frequency. \n",
    "\n",
    "In this step:\n",
    "* Create a new quarterly inflation dataframe by downsampling the monthly inflation data to quarterly using the mean (e.g. for quarter 1 in a given year, use the average values from January, February, and March)\n",
    "* Create a new weekly inflation dataframe by upsampling the monthly inflation data. For this, you'll need to use `resample` and then you'll need to `interpolate` to fill in the missing data at the weekly frequency\n",
    "\n",
    "Note that you may need to change the index for some of these operations! "
   ]
  },
  {
   "cell_type": "code",
   "execution_count": 43,
   "id": "c6296575",
   "metadata": {},
   "outputs": [
    {
     "data": {
      "text/html": [
       "<div>\n",
       "<style scoped>\n",
       "    .dataframe tbody tr th:only-of-type {\n",
       "        vertical-align: middle;\n",
       "    }\n",
       "\n",
       "    .dataframe tbody tr th {\n",
       "        vertical-align: top;\n",
       "    }\n",
       "\n",
       "    .dataframe thead th {\n",
       "        text-align: right;\n",
       "    }\n",
       "</style>\n",
       "<table border=\"1\" class=\"dataframe\">\n",
       "  <thead>\n",
       "    <tr style=\"text-align: right;\">\n",
       "      <th></th>\n",
       "      <th>Date</th>\n",
       "      <th>CORESTICKM159SFRBATL</th>\n",
       "    </tr>\n",
       "  </thead>\n",
       "  <tbody>\n",
       "    <tr>\n",
       "      <th>0</th>\n",
       "      <td>1968-03-31</td>\n",
       "      <td>3.822615</td>\n",
       "    </tr>\n",
       "    <tr>\n",
       "      <th>1</th>\n",
       "      <td>1968-06-30</td>\n",
       "      <td>4.263214</td>\n",
       "    </tr>\n",
       "    <tr>\n",
       "      <th>2</th>\n",
       "      <td>1968-09-30</td>\n",
       "      <td>4.882643</td>\n",
       "    </tr>\n",
       "    <tr>\n",
       "      <th>3</th>\n",
       "      <td>1968-12-31</td>\n",
       "      <td>5.429443</td>\n",
       "    </tr>\n",
       "    <tr>\n",
       "      <th>4</th>\n",
       "      <td>1969-03-31</td>\n",
       "      <td>5.873770</td>\n",
       "    </tr>\n",
       "    <tr>\n",
       "      <th>...</th>\n",
       "      <td>...</td>\n",
       "      <td>...</td>\n",
       "    </tr>\n",
       "    <tr>\n",
       "      <th>220</th>\n",
       "      <td>2023-03-31</td>\n",
       "      <td>6.467833</td>\n",
       "    </tr>\n",
       "    <tr>\n",
       "      <th>221</th>\n",
       "      <td>2023-06-30</td>\n",
       "      <td>5.942054</td>\n",
       "    </tr>\n",
       "    <tr>\n",
       "      <th>222</th>\n",
       "      <td>2023-09-30</td>\n",
       "      <td>5.179249</td>\n",
       "    </tr>\n",
       "    <tr>\n",
       "      <th>223</th>\n",
       "      <td>2023-12-31</td>\n",
       "      <td>4.708539</td>\n",
       "    </tr>\n",
       "    <tr>\n",
       "      <th>224</th>\n",
       "      <td>2024-03-31</td>\n",
       "      <td>4.505412</td>\n",
       "    </tr>\n",
       "  </tbody>\n",
       "</table>\n",
       "<p>225 rows × 2 columns</p>\n",
       "</div>"
      ],
      "text/plain": [
       "          Date  CORESTICKM159SFRBATL\n",
       "0   1968-03-31              3.822615\n",
       "1   1968-06-30              4.263214\n",
       "2   1968-09-30              4.882643\n",
       "3   1968-12-31              5.429443\n",
       "4   1969-03-31              5.873770\n",
       "..         ...                   ...\n",
       "220 2023-03-31              6.467833\n",
       "221 2023-06-30              5.942054\n",
       "222 2023-09-30              5.179249\n",
       "223 2023-12-31              4.708539\n",
       "224 2024-03-31              4.505412\n",
       "\n",
       "[225 rows x 2 columns]"
      ]
     },
     "execution_count": 43,
     "metadata": {},
     "output_type": "execute_result"
    }
   ],
   "source": [
    "# Create a new quarterly inflation dataframe by downsampling the monthly inflation data \n",
    "# to quarterly using the mean (e.g. for quarter 1 in a given year, use the average values \n",
    "# from January, February, and March)\n",
    "\n",
    "\n",
    "# make a copy of inflation\n",
    "inflation_copy = inflation_monthend.copy()\n",
    "\n",
    "# Set 'DATE' as the index for resampling\n",
    "inflation_copy.set_index('Date', inplace=True)\n",
    "\n",
    "# Resample to quarterly frequency and calculate the mean for each quarter\n",
    "quarterly_inflation = inflation_copy.resample('Q').mean().reset_index()\n",
    "\n",
    "# Check the result\n",
    "quarterly_inflation"
   ]
  },
  {
   "cell_type": "code",
   "execution_count": 44,
   "id": "2341fc7a",
   "metadata": {},
   "outputs": [
    {
     "data": {
      "text/html": [
       "<div>\n",
       "<style scoped>\n",
       "    .dataframe tbody tr th:only-of-type {\n",
       "        vertical-align: middle;\n",
       "    }\n",
       "\n",
       "    .dataframe tbody tr th {\n",
       "        vertical-align: top;\n",
       "    }\n",
       "\n",
       "    .dataframe thead th {\n",
       "        text-align: right;\n",
       "    }\n",
       "</style>\n",
       "<table border=\"1\" class=\"dataframe\">\n",
       "  <thead>\n",
       "    <tr style=\"text-align: right;\">\n",
       "      <th></th>\n",
       "      <th>CORESTICKM159SFRBATL</th>\n",
       "    </tr>\n",
       "    <tr>\n",
       "      <th>Date</th>\n",
       "      <th></th>\n",
       "    </tr>\n",
       "  </thead>\n",
       "  <tbody>\n",
       "    <tr>\n",
       "      <th>1968-02-04</th>\n",
       "      <td>NaN</td>\n",
       "    </tr>\n",
       "    <tr>\n",
       "      <th>1968-02-11</th>\n",
       "      <td>NaN</td>\n",
       "    </tr>\n",
       "    <tr>\n",
       "      <th>1968-02-18</th>\n",
       "      <td>NaN</td>\n",
       "    </tr>\n",
       "    <tr>\n",
       "      <th>1968-02-25</th>\n",
       "      <td>NaN</td>\n",
       "    </tr>\n",
       "    <tr>\n",
       "      <th>1968-03-03</th>\n",
       "      <td>NaN</td>\n",
       "    </tr>\n",
       "    <tr>\n",
       "      <th>1968-03-10</th>\n",
       "      <td>NaN</td>\n",
       "    </tr>\n",
       "    <tr>\n",
       "      <th>1968-03-17</th>\n",
       "      <td>NaN</td>\n",
       "    </tr>\n",
       "    <tr>\n",
       "      <th>1968-03-24</th>\n",
       "      <td>NaN</td>\n",
       "    </tr>\n",
       "    <tr>\n",
       "      <th>1968-03-31</th>\n",
       "      <td>4.142164</td>\n",
       "    </tr>\n",
       "    <tr>\n",
       "      <th>1968-04-07</th>\n",
       "      <td>4.173195</td>\n",
       "    </tr>\n",
       "  </tbody>\n",
       "</table>\n",
       "</div>"
      ],
      "text/plain": [
       "            CORESTICKM159SFRBATL\n",
       "Date                            \n",
       "1968-02-04                   NaN\n",
       "1968-02-11                   NaN\n",
       "1968-02-18                   NaN\n",
       "1968-02-25                   NaN\n",
       "1968-03-03                   NaN\n",
       "1968-03-10                   NaN\n",
       "1968-03-17                   NaN\n",
       "1968-03-24                   NaN\n",
       "1968-03-31              4.142164\n",
       "1968-04-07              4.173195"
      ]
     },
     "execution_count": 44,
     "metadata": {},
     "output_type": "execute_result"
    }
   ],
   "source": [
    "# Resample to weekly frequency and interpolate to fill missing values\n",
    "weekly_inflation = inflation_copy.resample('W').interpolate(method='linear')\n",
    "\n",
    "# Check the result\n",
    "weekly_inflation.head(10)"
   ]
  },
  {
   "cell_type": "code",
   "execution_count": 45,
   "id": "5c058169",
   "metadata": {},
   "outputs": [
    {
     "data": {
      "text/plain": [
       "CORESTICKM159SFRBATL    8\n",
       "dtype: int64"
      ]
     },
     "execution_count": 45,
     "metadata": {},
     "output_type": "execute_result"
    }
   ],
   "source": [
    "weekly_inflation.isnull().sum()"
   ]
  },
  {
   "cell_type": "code",
   "execution_count": 46,
   "id": "6d1c8250",
   "metadata": {},
   "outputs": [],
   "source": [
    "# weekly_inflation.fillna(method='ffill', inplace=True)\n",
    "\n",
    "weekly_inflation.fillna(method='bfill', inplace=True)"
   ]
  },
  {
   "cell_type": "code",
   "execution_count": 47,
   "id": "7ae9ed2f",
   "metadata": {},
   "outputs": [
    {
     "data": {
      "text/plain": [
       "CORESTICKM159SFRBATL    0\n",
       "dtype: int64"
      ]
     },
     "execution_count": 47,
     "metadata": {},
     "output_type": "execute_result"
    }
   ],
   "source": [
    "weekly_inflation.isnull().sum()"
   ]
  },
  {
   "cell_type": "markdown",
   "id": "0ea82443",
   "metadata": {},
   "source": [
    "## Data preprocessing: Normalize/standardize a feature\n",
    "\n",
    "Economic time series data often involve variables measured on different scales (e.g., GDP in trillions of dollars, inflation in percentage points). Standardizing these variables (typically by subtracting the mean and dividing by the standard deviation) puts them on a common scale, allowing for meaningful comparisons and analyses.\n",
    "\n",
    "Your task:\n",
    "* Standardize the GDP data. You may do this manually by subtracting the mean and dividing by the standard deviation, or you may use a built-in method from a library like `sklearn`'s `StandardScaler`"
   ]
  },
  {
   "cell_type": "code",
   "execution_count": 48,
   "id": "742c07ab",
   "metadata": {},
   "outputs": [
    {
     "data": {
      "text/html": [
       "<div>\n",
       "<style scoped>\n",
       "    .dataframe tbody tr th:only-of-type {\n",
       "        vertical-align: middle;\n",
       "    }\n",
       "\n",
       "    .dataframe tbody tr th {\n",
       "        vertical-align: top;\n",
       "    }\n",
       "\n",
       "    .dataframe thead th {\n",
       "        text-align: right;\n",
       "    }\n",
       "</style>\n",
       "<table border=\"1\" class=\"dataframe\">\n",
       "  <thead>\n",
       "    <tr style=\"text-align: right;\">\n",
       "      <th></th>\n",
       "      <th>Date</th>\n",
       "      <th>GDP</th>\n",
       "    </tr>\n",
       "  </thead>\n",
       "  <tbody>\n",
       "    <tr>\n",
       "      <th>0</th>\n",
       "      <td>1947-01-01</td>\n",
       "      <td>243.164</td>\n",
       "    </tr>\n",
       "    <tr>\n",
       "      <th>1</th>\n",
       "      <td>1947-04-01</td>\n",
       "      <td>245.968</td>\n",
       "    </tr>\n",
       "    <tr>\n",
       "      <th>2</th>\n",
       "      <td>1947-07-01</td>\n",
       "      <td>249.585</td>\n",
       "    </tr>\n",
       "    <tr>\n",
       "      <th>3</th>\n",
       "      <td>1947-10-01</td>\n",
       "      <td>259.745</td>\n",
       "    </tr>\n",
       "    <tr>\n",
       "      <th>4</th>\n",
       "      <td>1948-01-01</td>\n",
       "      <td>265.742</td>\n",
       "    </tr>\n",
       "  </tbody>\n",
       "</table>\n",
       "</div>"
      ],
      "text/plain": [
       "        Date      GDP\n",
       "0 1947-01-01  243.164\n",
       "1 1947-04-01  245.968\n",
       "2 1947-07-01  249.585\n",
       "3 1947-10-01  259.745\n",
       "4 1948-01-01  265.742"
      ]
     },
     "execution_count": 48,
     "metadata": {},
     "output_type": "execute_result"
    }
   ],
   "source": [
    "gdp.head()"
   ]
  },
  {
   "cell_type": "code",
   "execution_count": 49,
   "id": "7167a434",
   "metadata": {},
   "outputs": [
    {
     "data": {
      "text/html": [
       "<div>\n",
       "<style scoped>\n",
       "    .dataframe tbody tr th:only-of-type {\n",
       "        vertical-align: middle;\n",
       "    }\n",
       "\n",
       "    .dataframe tbody tr th {\n",
       "        vertical-align: top;\n",
       "    }\n",
       "\n",
       "    .dataframe thead th {\n",
       "        text-align: right;\n",
       "    }\n",
       "</style>\n",
       "<table border=\"1\" class=\"dataframe\">\n",
       "  <thead>\n",
       "    <tr style=\"text-align: right;\">\n",
       "      <th></th>\n",
       "      <th>Date</th>\n",
       "      <th>GDP</th>\n",
       "      <th>GDP_Standardized</th>\n",
       "    </tr>\n",
       "  </thead>\n",
       "  <tbody>\n",
       "    <tr>\n",
       "      <th>0</th>\n",
       "      <td>1947-01-01</td>\n",
       "      <td>243.164</td>\n",
       "      <td>-0.933981</td>\n",
       "    </tr>\n",
       "    <tr>\n",
       "      <th>1</th>\n",
       "      <td>1947-04-01</td>\n",
       "      <td>245.968</td>\n",
       "      <td>-0.933606</td>\n",
       "    </tr>\n",
       "    <tr>\n",
       "      <th>2</th>\n",
       "      <td>1947-07-01</td>\n",
       "      <td>249.585</td>\n",
       "      <td>-0.933123</td>\n",
       "    </tr>\n",
       "    <tr>\n",
       "      <th>3</th>\n",
       "      <td>1947-10-01</td>\n",
       "      <td>259.745</td>\n",
       "      <td>-0.931764</td>\n",
       "    </tr>\n",
       "    <tr>\n",
       "      <th>4</th>\n",
       "      <td>1948-01-01</td>\n",
       "      <td>265.742</td>\n",
       "      <td>-0.930962</td>\n",
       "    </tr>\n",
       "  </tbody>\n",
       "</table>\n",
       "</div>"
      ],
      "text/plain": [
       "        Date      GDP  GDP_Standardized\n",
       "0 1947-01-01  243.164         -0.933981\n",
       "1 1947-04-01  245.968         -0.933606\n",
       "2 1947-07-01  249.585         -0.933123\n",
       "3 1947-10-01  259.745         -0.931764\n",
       "4 1948-01-01  265.742         -0.930962"
      ]
     },
     "execution_count": 49,
     "metadata": {},
     "output_type": "execute_result"
    }
   ],
   "source": [
    "# Standardize the GDP measure\n",
    "\n",
    "# Manually standardize GDP column\n",
    "gdp[\"GDP_Standardized\"] = (gdp[\"GDP\"] - gdp[\"GDP\"].mean()) / gdp[\"GDP\"].std()\n",
    "\n",
    "# Verify results\n",
    "gdp.head()"
   ]
  },
  {
   "cell_type": "markdown",
   "id": "1f1a89d2",
   "metadata": {},
   "source": [
    "## EDA: Plotting a time series of adjusted open vs close price\n",
    "\n",
    "As part of your EDA, you'll frequently want to plot two time series on the same graph and using the same axis to compare their movements. \n",
    "\n",
    "Your task:\n",
    "* Plot the Apple open and close price time series on the same chart **for the last three months only**. Be sure to use a legend to label each line\n",
    "\n",
    "**NOTE**: This is a large dataset. If you try to plot the entire series, your graph will be hard to interpret and may take a long time to plot. Be sure to use only the most recent three months of data. "
   ]
  },
  {
   "cell_type": "code",
   "execution_count": 50,
   "id": "9b490f9b",
   "metadata": {},
   "outputs": [
    {
     "name": "stdout",
     "output_type": "stream",
     "text": [
      "Max Date: 2024-05-03 00:00:00\n"
     ]
    }
   ],
   "source": [
    "# Get max date in timeseries\n",
    "\n",
    "max_date = apple[\"Date\"].max()\n",
    "print(\"Max Date:\", max_date)"
   ]
  },
  {
   "cell_type": "code",
   "execution_count": 51,
   "id": "03b51a20",
   "metadata": {},
   "outputs": [
    {
     "data": {
      "text/html": [
       "<div>\n",
       "<style scoped>\n",
       "    .dataframe tbody tr th:only-of-type {\n",
       "        vertical-align: middle;\n",
       "    }\n",
       "\n",
       "    .dataframe tbody tr th {\n",
       "        vertical-align: top;\n",
       "    }\n",
       "\n",
       "    .dataframe thead th {\n",
       "        text-align: right;\n",
       "    }\n",
       "</style>\n",
       "<table border=\"1\" class=\"dataframe\">\n",
       "  <thead>\n",
       "    <tr style=\"text-align: right;\">\n",
       "      <th></th>\n",
       "      <th>Date</th>\n",
       "      <th>Close/Last</th>\n",
       "      <th>Volume</th>\n",
       "      <th>Open</th>\n",
       "      <th>High</th>\n",
       "      <th>Low</th>\n",
       "    </tr>\n",
       "  </thead>\n",
       "  <tbody>\n",
       "    <tr>\n",
       "      <th>0</th>\n",
       "      <td>2024-05-03</td>\n",
       "      <td>183.38</td>\n",
       "      <td>163224100</td>\n",
       "      <td>186.65</td>\n",
       "      <td>187.00</td>\n",
       "      <td>182.66</td>\n",
       "    </tr>\n",
       "    <tr>\n",
       "      <th>1</th>\n",
       "      <td>2024-05-02</td>\n",
       "      <td>173.03</td>\n",
       "      <td>94214920</td>\n",
       "      <td>172.51</td>\n",
       "      <td>173.42</td>\n",
       "      <td>170.89</td>\n",
       "    </tr>\n",
       "    <tr>\n",
       "      <th>2</th>\n",
       "      <td>2024-05-01</td>\n",
       "      <td>169.30</td>\n",
       "      <td>50383150</td>\n",
       "      <td>169.58</td>\n",
       "      <td>172.71</td>\n",
       "      <td>169.11</td>\n",
       "    </tr>\n",
       "    <tr>\n",
       "      <th>3</th>\n",
       "      <td>2024-04-30</td>\n",
       "      <td>170.33</td>\n",
       "      <td>65934780</td>\n",
       "      <td>173.33</td>\n",
       "      <td>174.99</td>\n",
       "      <td>170.00</td>\n",
       "    </tr>\n",
       "    <tr>\n",
       "      <th>4</th>\n",
       "      <td>2024-04-29</td>\n",
       "      <td>173.50</td>\n",
       "      <td>68169420</td>\n",
       "      <td>173.37</td>\n",
       "      <td>176.03</td>\n",
       "      <td>173.10</td>\n",
       "    </tr>\n",
       "  </tbody>\n",
       "</table>\n",
       "</div>"
      ],
      "text/plain": [
       "        Date  Close/Last     Volume    Open    High     Low\n",
       "0 2024-05-03      183.38  163224100  186.65  187.00  182.66\n",
       "1 2024-05-02      173.03   94214920  172.51  173.42  170.89\n",
       "2 2024-05-01      169.30   50383150  169.58  172.71  169.11\n",
       "3 2024-04-30      170.33   65934780  173.33  174.99  170.00\n",
       "4 2024-04-29      173.50   68169420  173.37  176.03  173.10"
      ]
     },
     "execution_count": 51,
     "metadata": {},
     "output_type": "execute_result"
    }
   ],
   "source": [
    "# Use the max date calculated above to get the last three months of data in the dataset \n",
    "\n",
    "# Calculate the date three months before the max date\n",
    "three_months_ago = max_date - pd.DateOffset(months=3)\n",
    "\n",
    "# Filter the last three months of data\n",
    "apple_last_three_months = apple[apple[\"Date\"] >= three_months_ago]\n",
    "\n",
    "# Display the filtered data\n",
    "apple_last_three_months.head()"
   ]
  },
  {
   "cell_type": "code",
   "execution_count": 52,
   "id": "a5384458-b59d-4311-a707-82e2225da2b4",
   "metadata": {},
   "outputs": [
    {
     "data": {
      "text/plain": [
       "(63, 6)"
      ]
     },
     "execution_count": 52,
     "metadata": {},
     "output_type": "execute_result"
    }
   ],
   "source": [
    "apple_last_three_months.shape"
   ]
  },
  {
   "cell_type": "code",
   "execution_count": 53,
   "id": "2dc19b89-fc22-4237-9cb2-996c9b64cbbc",
   "metadata": {},
   "outputs": [
    {
     "data": {
      "text/html": [
       "<div>\n",
       "<style scoped>\n",
       "    .dataframe tbody tr th:only-of-type {\n",
       "        vertical-align: middle;\n",
       "    }\n",
       "\n",
       "    .dataframe tbody tr th {\n",
       "        vertical-align: top;\n",
       "    }\n",
       "\n",
       "    .dataframe thead th {\n",
       "        text-align: right;\n",
       "    }\n",
       "</style>\n",
       "<table border=\"1\" class=\"dataframe\">\n",
       "  <thead>\n",
       "    <tr style=\"text-align: right;\">\n",
       "      <th></th>\n",
       "      <th>Date</th>\n",
       "      <th>Close/Last</th>\n",
       "      <th>Volume</th>\n",
       "      <th>Open</th>\n",
       "      <th>High</th>\n",
       "      <th>Low</th>\n",
       "    </tr>\n",
       "  </thead>\n",
       "  <tbody>\n",
       "    <tr>\n",
       "      <th>58</th>\n",
       "      <td>2024-02-09</td>\n",
       "      <td>188.85</td>\n",
       "      <td>45155220</td>\n",
       "      <td>188.65</td>\n",
       "      <td>189.99</td>\n",
       "      <td>188.00</td>\n",
       "    </tr>\n",
       "    <tr>\n",
       "      <th>59</th>\n",
       "      <td>2024-02-08</td>\n",
       "      <td>188.32</td>\n",
       "      <td>40962050</td>\n",
       "      <td>189.39</td>\n",
       "      <td>189.54</td>\n",
       "      <td>187.35</td>\n",
       "    </tr>\n",
       "    <tr>\n",
       "      <th>60</th>\n",
       "      <td>2024-02-07</td>\n",
       "      <td>189.41</td>\n",
       "      <td>53438960</td>\n",
       "      <td>190.64</td>\n",
       "      <td>191.05</td>\n",
       "      <td>188.61</td>\n",
       "    </tr>\n",
       "    <tr>\n",
       "      <th>61</th>\n",
       "      <td>2024-02-06</td>\n",
       "      <td>189.30</td>\n",
       "      <td>43490760</td>\n",
       "      <td>186.86</td>\n",
       "      <td>189.31</td>\n",
       "      <td>186.77</td>\n",
       "    </tr>\n",
       "    <tr>\n",
       "      <th>62</th>\n",
       "      <td>2024-02-05</td>\n",
       "      <td>187.68</td>\n",
       "      <td>69668820</td>\n",
       "      <td>188.15</td>\n",
       "      <td>189.25</td>\n",
       "      <td>185.84</td>\n",
       "    </tr>\n",
       "  </tbody>\n",
       "</table>\n",
       "</div>"
      ],
      "text/plain": [
       "         Date  Close/Last    Volume    Open    High     Low\n",
       "58 2024-02-09      188.85  45155220  188.65  189.99  188.00\n",
       "59 2024-02-08      188.32  40962050  189.39  189.54  187.35\n",
       "60 2024-02-07      189.41  53438960  190.64  191.05  188.61\n",
       "61 2024-02-06      189.30  43490760  186.86  189.31  186.77\n",
       "62 2024-02-05      187.68  69668820  188.15  189.25  185.84"
      ]
     },
     "execution_count": 53,
     "metadata": {},
     "output_type": "execute_result"
    }
   ],
   "source": [
    "apple_last_three_months.tail()"
   ]
  },
  {
   "cell_type": "code",
   "execution_count": 54,
   "id": "039404e1",
   "metadata": {},
   "outputs": [
    {
     "data": {
      "image/png": "[encoded data removed]",
      "text/plain": [
       "<Figure size 1000x500 with 1 Axes>"
      ]
     },
     "metadata": {},
     "output_type": "display_data"
    }
   ],
   "source": [
    "# Plot time series of open v. close stock price for Apple using the last 3 months of data\n",
    "\n",
    "# Plot Open vs Close price\n",
    "plt.figure(figsize=(10, 5))\n",
    "plt.plot(apple_last_three_months[\"Date\"], apple_last_three_months[\"Open\"], label=\"Open Price\", color=\"blue\")\n",
    "plt.plot(apple_last_three_months[\"Date\"], apple_last_three_months[\"Close/Last\"], label=\"Close/Last Price\", color=\"red\")\n",
    "\n",
    "# Formatting the plot\n",
    "plt.xlabel(\"Date\")\n",
    "plt.ylabel(\"Stock Price ($)\")\n",
    "plt.title(\"Apple Stock Prices (Last 3 Months)\")\n",
    "plt.legend()\n",
    "plt.xticks(rotation=45)\n",
    "plt.grid()\n",
    "\n",
    "# Show the plot\n",
    "plt.show()"
   ]
  },
  {
   "cell_type": "markdown",
   "id": "bc0070c6",
   "metadata": {},
   "source": [
    "## EDA: Plotting a histogram of a stock's closing price in the last three months\n",
    "\n",
    "One way to see how much a stock's price generally moves is to plot the frequency of closing prices over a set time period. \n",
    "\n",
    "Your task:\n",
    "* Use the **last three months** of Apple stock data and plot a histogram of closing price"
   ]
  },
  {
   "cell_type": "code",
   "execution_count": 55,
   "id": "ec06a45f",
   "metadata": {},
   "outputs": [
    {
     "data": {
      "image/png": "[encoded data removed]",
      "text/plain": [
       "<Figure size 800x500 with 1 Axes>"
      ]
     },
     "metadata": {},
     "output_type": "display_data"
    }
   ],
   "source": [
    "# Plot the histogram of Apple's closing price over the last 3 months \n",
    "\n",
    "import matplotlib.pyplot as plt\n",
    "\n",
    "# Filter last three months of data\n",
    "max_date = apple[\"Date\"].max()\n",
    "three_months_ago = max_date - pd.DateOffset(months=3)\n",
    "apple_last_three_months = apple[apple[\"Date\"] >= three_months_ago]\n",
    "\n",
    "# Plot histogram of closing prices\n",
    "plt.figure(figsize=(8, 5))\n",
    "plt.hist(apple_last_three_months[\"Close/Last\"], bins=20, color=\"blue\", edgecolor=\"black\", alpha=0.7)\n",
    "\n",
    "# Formatting\n",
    "plt.xlabel(\"Closing Price ($)\")\n",
    "plt.ylabel(\"Frequency\")\n",
    "plt.title(\"Histogram of Apple's Closing Prices (Last 3 Months)\")\n",
    "plt.grid(axis=\"y\", linestyle=\"--\", alpha=0.7)\n",
    "\n",
    "# Show the plot\n",
    "plt.show()"
   ]
  },
  {
   "cell_type": "markdown",
   "id": "01e1b22c",
   "metadata": {},
   "source": [
    "## Calculating correlation between a stock price and a macroeconomic variable \n",
    "\n",
    "Inflation affects the purchasing power of money and can influence corporate profits, interest rates, and consumer behavior. By analyzing the correlation between stock prices and inflation, one can gauge how inflationary trends impact stock market performance. For instance, high inflation might erode profit margins and reduce stock prices, while moderate inflation might indicate a growing economy, benefiting stocks.\n",
    "\n",
    "Your task:\n",
    "* Plot a heatmap that shows the correlation between Microsoft and Apple returns and inflation \n",
    "\n",
    "This will require several steps:\n",
    "1. Calculate the returns for Apple and Microsoft and the change in monthly inflation (use the `pct_change` method for each)\n",
    "2. Interpolate the daily stock returns data to monthly so it can be compared to the monthly inflation data\n",
    "3. Merge the stock returns (Apple and Microsoft) and inflation data series into a single dataframe\n",
    "4. Calculate the correlation matrix between the Apple returns, Microsoft returns, and inflation change\n",
    "5. Plot the correlation matrix as a heatmap"
   ]
  },
  {
   "cell_type": "markdown",
   "id": "c38842ed",
   "metadata": {},
   "source": [
    "### 1. Calculate returns for Microsoft / Apple and the monthly change in inflation"
   ]
  },
  {
   "cell_type": "code",
   "execution_count": 56,
   "id": "1276cf47-4ddc-49ed-a8fd-46245b15a059",
   "metadata": {},
   "outputs": [],
   "source": [
    "apple = apple.sort_index(ascending=False)  # Ensure dates are from earliest to newest"
   ]
  },
  {
   "cell_type": "code",
   "execution_count": 57,
   "id": "aeb7afe7-b634-4911-bf5b-22e3563f7f4c",
   "metadata": {},
   "outputs": [
    {
     "data": {
      "text/html": [
       "<div>\n",
       "<style scoped>\n",
       "    .dataframe tbody tr th:only-of-type {\n",
       "        vertical-align: middle;\n",
       "    }\n",
       "\n",
       "    .dataframe tbody tr th {\n",
       "        vertical-align: top;\n",
       "    }\n",
       "\n",
       "    .dataframe thead th {\n",
       "        text-align: right;\n",
       "    }\n",
       "</style>\n",
       "<table border=\"1\" class=\"dataframe\">\n",
       "  <thead>\n",
       "    <tr style=\"text-align: right;\">\n",
       "      <th></th>\n",
       "      <th>Date</th>\n",
       "      <th>Close/Last</th>\n",
       "      <th>Volume</th>\n",
       "      <th>Open</th>\n",
       "      <th>High</th>\n",
       "      <th>Low</th>\n",
       "    </tr>\n",
       "  </thead>\n",
       "  <tbody>\n",
       "    <tr>\n",
       "      <th>2516</th>\n",
       "      <td>2014-05-06</td>\n",
       "      <td>21.23</td>\n",
       "      <td>373872650</td>\n",
       "      <td>21.49</td>\n",
       "      <td>21.59</td>\n",
       "      <td>21.23</td>\n",
       "    </tr>\n",
       "    <tr>\n",
       "      <th>2515</th>\n",
       "      <td>2014-05-07</td>\n",
       "      <td>21.15</td>\n",
       "      <td>282128727</td>\n",
       "      <td>21.26</td>\n",
       "      <td>21.33</td>\n",
       "      <td>20.99</td>\n",
       "    </tr>\n",
       "    <tr>\n",
       "      <th>2514</th>\n",
       "      <td>2014-05-08</td>\n",
       "      <td>21.00</td>\n",
       "      <td>228973884</td>\n",
       "      <td>21.01</td>\n",
       "      <td>21.23</td>\n",
       "      <td>20.94</td>\n",
       "    </tr>\n",
       "    <tr>\n",
       "      <th>2513</th>\n",
       "      <td>2014-05-09</td>\n",
       "      <td>20.91</td>\n",
       "      <td>291068564</td>\n",
       "      <td>20.88</td>\n",
       "      <td>20.94</td>\n",
       "      <td>20.73</td>\n",
       "    </tr>\n",
       "    <tr>\n",
       "      <th>2512</th>\n",
       "      <td>2014-05-12</td>\n",
       "      <td>21.17</td>\n",
       "      <td>212736019</td>\n",
       "      <td>20.98</td>\n",
       "      <td>21.20</td>\n",
       "      <td>20.98</td>\n",
       "    </tr>\n",
       "  </tbody>\n",
       "</table>\n",
       "</div>"
      ],
      "text/plain": [
       "           Date  Close/Last     Volume   Open   High    Low\n",
       "2516 2014-05-06       21.23  373872650  21.49  21.59  21.23\n",
       "2515 2014-05-07       21.15  282128727  21.26  21.33  20.99\n",
       "2514 2014-05-08       21.00  228973884  21.01  21.23  20.94\n",
       "2513 2014-05-09       20.91  291068564  20.88  20.94  20.73\n",
       "2512 2014-05-12       21.17  212736019  20.98  21.20  20.98"
      ]
     },
     "execution_count": 57,
     "metadata": {},
     "output_type": "execute_result"
    }
   ],
   "source": [
    "apple.head()"
   ]
  },
  {
   "cell_type": "code",
   "execution_count": 58,
   "id": "2a75c5a5-dcdd-4de5-8928-6cca3ba9b77d",
   "metadata": {},
   "outputs": [
    {
     "data": {
      "text/html": [
       "<div>\n",
       "<style scoped>\n",
       "    .dataframe tbody tr th:only-of-type {\n",
       "        vertical-align: middle;\n",
       "    }\n",
       "\n",
       "    .dataframe tbody tr th {\n",
       "        vertical-align: top;\n",
       "    }\n",
       "\n",
       "    .dataframe thead th {\n",
       "        text-align: right;\n",
       "    }\n",
       "</style>\n",
       "<table border=\"1\" class=\"dataframe\">\n",
       "  <thead>\n",
       "    <tr style=\"text-align: right;\">\n",
       "      <th></th>\n",
       "      <th>Date</th>\n",
       "      <th>Close/Last</th>\n",
       "      <th>Volume</th>\n",
       "      <th>Open</th>\n",
       "      <th>High</th>\n",
       "      <th>Low</th>\n",
       "    </tr>\n",
       "  </thead>\n",
       "  <tbody>\n",
       "    <tr>\n",
       "      <th>4</th>\n",
       "      <td>2024-04-29</td>\n",
       "      <td>173.50</td>\n",
       "      <td>68169420</td>\n",
       "      <td>173.37</td>\n",
       "      <td>176.03</td>\n",
       "      <td>173.10</td>\n",
       "    </tr>\n",
       "    <tr>\n",
       "      <th>3</th>\n",
       "      <td>2024-04-30</td>\n",
       "      <td>170.33</td>\n",
       "      <td>65934780</td>\n",
       "      <td>173.33</td>\n",
       "      <td>174.99</td>\n",
       "      <td>170.00</td>\n",
       "    </tr>\n",
       "    <tr>\n",
       "      <th>2</th>\n",
       "      <td>2024-05-01</td>\n",
       "      <td>169.30</td>\n",
       "      <td>50383150</td>\n",
       "      <td>169.58</td>\n",
       "      <td>172.71</td>\n",
       "      <td>169.11</td>\n",
       "    </tr>\n",
       "    <tr>\n",
       "      <th>1</th>\n",
       "      <td>2024-05-02</td>\n",
       "      <td>173.03</td>\n",
       "      <td>94214920</td>\n",
       "      <td>172.51</td>\n",
       "      <td>173.42</td>\n",
       "      <td>170.89</td>\n",
       "    </tr>\n",
       "    <tr>\n",
       "      <th>0</th>\n",
       "      <td>2024-05-03</td>\n",
       "      <td>183.38</td>\n",
       "      <td>163224100</td>\n",
       "      <td>186.65</td>\n",
       "      <td>187.00</td>\n",
       "      <td>182.66</td>\n",
       "    </tr>\n",
       "  </tbody>\n",
       "</table>\n",
       "</div>"
      ],
      "text/plain": [
       "        Date  Close/Last     Volume    Open    High     Low\n",
       "4 2024-04-29      173.50   68169420  173.37  176.03  173.10\n",
       "3 2024-04-30      170.33   65934780  173.33  174.99  170.00\n",
       "2 2024-05-01      169.30   50383150  169.58  172.71  169.11\n",
       "1 2024-05-02      173.03   94214920  172.51  173.42  170.89\n",
       "0 2024-05-03      183.38  163224100  186.65  187.00  182.66"
      ]
     },
     "execution_count": 58,
     "metadata": {},
     "output_type": "execute_result"
    }
   ],
   "source": [
    "apple.tail()"
   ]
  },
  {
   "cell_type": "code",
   "execution_count": 59,
   "id": "04d78a7a-548f-40c1-86bb-1ab7facfd549",
   "metadata": {},
   "outputs": [
    {
     "data": {
      "text/plain": [
       "Date          0\n",
       "Close/Last    0\n",
       "Volume        0\n",
       "Open          0\n",
       "High          0\n",
       "Low           0\n",
       "dtype: int64"
      ]
     },
     "execution_count": 59,
     "metadata": {},
     "output_type": "execute_result"
    }
   ],
   "source": [
    "apple.isnull().sum()"
   ]
  },
  {
   "cell_type": "code",
   "execution_count": 60,
   "id": "b0df5546-6c5f-4e74-a8ea-4553ce6b02a6",
   "metadata": {},
   "outputs": [],
   "source": [
    "microsoft = microsoft.sort_index(ascending=False)  # Ensure dates are from earliest to newest"
   ]
  },
  {
   "cell_type": "code",
   "execution_count": 61,
   "id": "5bf5032b-c2d7-40df-9513-18708e43156f",
   "metadata": {},
   "outputs": [
    {
     "data": {
      "text/html": [
       "<div>\n",
       "<style scoped>\n",
       "    .dataframe tbody tr th:only-of-type {\n",
       "        vertical-align: middle;\n",
       "    }\n",
       "\n",
       "    .dataframe tbody tr th {\n",
       "        vertical-align: top;\n",
       "    }\n",
       "\n",
       "    .dataframe thead th {\n",
       "        text-align: right;\n",
       "    }\n",
       "</style>\n",
       "<table border=\"1\" class=\"dataframe\">\n",
       "  <thead>\n",
       "    <tr style=\"text-align: right;\">\n",
       "      <th></th>\n",
       "      <th>Date</th>\n",
       "      <th>Close/Last</th>\n",
       "      <th>Volume</th>\n",
       "      <th>Open</th>\n",
       "      <th>High</th>\n",
       "      <th>Low</th>\n",
       "    </tr>\n",
       "  </thead>\n",
       "  <tbody>\n",
       "    <tr>\n",
       "      <th>2516</th>\n",
       "      <td>2014-05-06</td>\n",
       "      <td>39.060</td>\n",
       "      <td>27105700</td>\n",
       "      <td>39.29</td>\n",
       "      <td>39.35</td>\n",
       "      <td>38.95</td>\n",
       "    </tr>\n",
       "    <tr>\n",
       "      <th>2515</th>\n",
       "      <td>2014-05-07</td>\n",
       "      <td>39.425</td>\n",
       "      <td>41731030</td>\n",
       "      <td>39.22</td>\n",
       "      <td>39.51</td>\n",
       "      <td>38.51</td>\n",
       "    </tr>\n",
       "    <tr>\n",
       "      <th>2514</th>\n",
       "      <td>2014-05-08</td>\n",
       "      <td>39.640</td>\n",
       "      <td>32089010</td>\n",
       "      <td>39.34</td>\n",
       "      <td>39.90</td>\n",
       "      <td>38.97</td>\n",
       "    </tr>\n",
       "    <tr>\n",
       "      <th>2513</th>\n",
       "      <td>2014-05-09</td>\n",
       "      <td>39.540</td>\n",
       "      <td>29646100</td>\n",
       "      <td>39.54</td>\n",
       "      <td>39.85</td>\n",
       "      <td>39.37</td>\n",
       "    </tr>\n",
       "    <tr>\n",
       "      <th>2512</th>\n",
       "      <td>2014-05-12</td>\n",
       "      <td>39.970</td>\n",
       "      <td>22761620</td>\n",
       "      <td>39.74</td>\n",
       "      <td>40.02</td>\n",
       "      <td>39.65</td>\n",
       "    </tr>\n",
       "  </tbody>\n",
       "</table>\n",
       "</div>"
      ],
      "text/plain": [
       "           Date  Close/Last    Volume   Open   High    Low\n",
       "2516 2014-05-06      39.060  27105700  39.29  39.35  38.95\n",
       "2515 2014-05-07      39.425  41731030  39.22  39.51  38.51\n",
       "2514 2014-05-08      39.640  32089010  39.34  39.90  38.97\n",
       "2513 2014-05-09      39.540  29646100  39.54  39.85  39.37\n",
       "2512 2014-05-12      39.970  22761620  39.74  40.02  39.65"
      ]
     },
     "execution_count": 61,
     "metadata": {},
     "output_type": "execute_result"
    }
   ],
   "source": [
    "microsoft.head()"
   ]
  },
  {
   "cell_type": "code",
   "execution_count": 62,
   "id": "08bb8c42-0261-4de6-8727-3d9589c9d0bf",
   "metadata": {},
   "outputs": [
    {
     "data": {
      "text/html": [
       "<div>\n",
       "<style scoped>\n",
       "    .dataframe tbody tr th:only-of-type {\n",
       "        vertical-align: middle;\n",
       "    }\n",
       "\n",
       "    .dataframe tbody tr th {\n",
       "        vertical-align: top;\n",
       "    }\n",
       "\n",
       "    .dataframe thead th {\n",
       "        text-align: right;\n",
       "    }\n",
       "</style>\n",
       "<table border=\"1\" class=\"dataframe\">\n",
       "  <thead>\n",
       "    <tr style=\"text-align: right;\">\n",
       "      <th></th>\n",
       "      <th>Date</th>\n",
       "      <th>Close/Last</th>\n",
       "      <th>Volume</th>\n",
       "      <th>Open</th>\n",
       "      <th>High</th>\n",
       "      <th>Low</th>\n",
       "    </tr>\n",
       "  </thead>\n",
       "  <tbody>\n",
       "    <tr>\n",
       "      <th>4</th>\n",
       "      <td>2024-04-29</td>\n",
       "      <td>402.25</td>\n",
       "      <td>19582090</td>\n",
       "      <td>405.25</td>\n",
       "      <td>406.3200</td>\n",
       "      <td>399.1900</td>\n",
       "    </tr>\n",
       "    <tr>\n",
       "      <th>3</th>\n",
       "      <td>2024-04-30</td>\n",
       "      <td>389.33</td>\n",
       "      <td>28781370</td>\n",
       "      <td>401.49</td>\n",
       "      <td>402.1600</td>\n",
       "      <td>389.1700</td>\n",
       "    </tr>\n",
       "    <tr>\n",
       "      <th>2</th>\n",
       "      <td>2024-05-01</td>\n",
       "      <td>394.94</td>\n",
       "      <td>23562480</td>\n",
       "      <td>392.61</td>\n",
       "      <td>401.7199</td>\n",
       "      <td>390.3100</td>\n",
       "    </tr>\n",
       "    <tr>\n",
       "      <th>1</th>\n",
       "      <td>2024-05-02</td>\n",
       "      <td>397.84</td>\n",
       "      <td>17709360</td>\n",
       "      <td>397.66</td>\n",
       "      <td>399.9300</td>\n",
       "      <td>394.6515</td>\n",
       "    </tr>\n",
       "    <tr>\n",
       "      <th>0</th>\n",
       "      <td>2024-05-03</td>\n",
       "      <td>406.66</td>\n",
       "      <td>17446720</td>\n",
       "      <td>402.28</td>\n",
       "      <td>407.1500</td>\n",
       "      <td>401.8600</td>\n",
       "    </tr>\n",
       "  </tbody>\n",
       "</table>\n",
       "</div>"
      ],
      "text/plain": [
       "        Date  Close/Last    Volume    Open      High       Low\n",
       "4 2024-04-29      402.25  19582090  405.25  406.3200  399.1900\n",
       "3 2024-04-30      389.33  28781370  401.49  402.1600  389.1700\n",
       "2 2024-05-01      394.94  23562480  392.61  401.7199  390.3100\n",
       "1 2024-05-02      397.84  17709360  397.66  399.9300  394.6515\n",
       "0 2024-05-03      406.66  17446720  402.28  407.1500  401.8600"
      ]
     },
     "execution_count": 62,
     "metadata": {},
     "output_type": "execute_result"
    }
   ],
   "source": [
    "microsoft.tail()"
   ]
  },
  {
   "cell_type": "code",
   "execution_count": 63,
   "id": "2a507830-4b03-435d-913f-eba0fc53561e",
   "metadata": {},
   "outputs": [
    {
     "data": {
      "text/plain": [
       "Date          0\n",
       "Close/Last    0\n",
       "Volume        0\n",
       "Open          0\n",
       "High          0\n",
       "Low           0\n",
       "dtype: int64"
      ]
     },
     "execution_count": 63,
     "metadata": {},
     "output_type": "execute_result"
    }
   ],
   "source": [
    "microsoft.isnull().sum()"
   ]
  },
  {
   "cell_type": "code",
   "execution_count": 64,
   "id": "37d373c3",
   "metadata": {},
   "outputs": [],
   "source": [
    "# Calculate daily returns for Apple and Microsoft\n",
    "apple[\"Monthly_Return\"] = apple[\"Close/Last\"].pct_change()\n",
    "\n",
    "microsoft[\"Monthly_Return\"] = microsoft[\"Close/Last\"].pct_change()"
   ]
  },
  {
   "cell_type": "code",
   "execution_count": 65,
   "id": "89538b73-cb24-4af4-9273-25d5c44f1c11",
   "metadata": {},
   "outputs": [
    {
     "data": {
      "text/plain": [
       "Date              0\n",
       "Close/Last        0\n",
       "Volume            0\n",
       "Open              0\n",
       "High              0\n",
       "Low               0\n",
       "Monthly_Return    1\n",
       "dtype: int64"
      ]
     },
     "execution_count": 65,
     "metadata": {},
     "output_type": "execute_result"
    }
   ],
   "source": [
    "apple.isnull().sum()"
   ]
  },
  {
   "cell_type": "code",
   "execution_count": 66,
   "id": "b20653bc-2286-4d1a-9385-07453f54ead4",
   "metadata": {},
   "outputs": [
    {
     "data": {
      "text/plain": [
       "Date              0\n",
       "Close/Last        0\n",
       "Volume            0\n",
       "Open              0\n",
       "High              0\n",
       "Low               0\n",
       "Monthly_Return    0\n",
       "dtype: int64"
      ]
     },
     "execution_count": 66,
     "metadata": {},
     "output_type": "execute_result"
    }
   ],
   "source": [
    "# Drop rows with null values in the 'Daily_Return' column in place\n",
    "apple.dropna(subset=['Monthly_Return'], inplace=True)\n",
    "\n",
    "# Check the DataFrame after dropping null rows\n",
    "apple.isnull().sum()"
   ]
  },
  {
   "cell_type": "code",
   "execution_count": 67,
   "id": "025ffe77-b035-4651-bec5-f68fd54ca07a",
   "metadata": {},
   "outputs": [
    {
     "data": {
      "text/plain": [
       "Date              0\n",
       "Close/Last        0\n",
       "Volume            0\n",
       "Open              0\n",
       "High              0\n",
       "Low               0\n",
       "Monthly_Return    1\n",
       "dtype: int64"
      ]
     },
     "execution_count": 67,
     "metadata": {},
     "output_type": "execute_result"
    }
   ],
   "source": [
    "microsoft.isnull().sum()"
   ]
  },
  {
   "cell_type": "code",
   "execution_count": 68,
   "id": "d9f042e1-8cd1-4985-baa7-9d16692b8b10",
   "metadata": {},
   "outputs": [
    {
     "data": {
      "text/plain": [
       "Date              0\n",
       "Close/Last        0\n",
       "Volume            0\n",
       "Open              0\n",
       "High              0\n",
       "Low               0\n",
       "Monthly_Return    0\n",
       "dtype: int64"
      ]
     },
     "execution_count": 68,
     "metadata": {},
     "output_type": "execute_result"
    }
   ],
   "source": [
    "# Drop rows with null values in the 'Daily_Return' column in place\n",
    "microsoft.dropna(subset=['Monthly_Return'], inplace=True)\n",
    "\n",
    "# Check the DataFrame after dropping null rows\n",
    "microsoft.isnull().sum()"
   ]
  },
  {
   "cell_type": "code",
   "execution_count": 69,
   "id": "6bc6e516-c6fb-4933-bd02-a7592f313699",
   "metadata": {},
   "outputs": [
    {
     "data": {
      "text/html": [
       "<div>\n",
       "<style scoped>\n",
       "    .dataframe tbody tr th:only-of-type {\n",
       "        vertical-align: middle;\n",
       "    }\n",
       "\n",
       "    .dataframe tbody tr th {\n",
       "        vertical-align: top;\n",
       "    }\n",
       "\n",
       "    .dataframe thead th {\n",
       "        text-align: right;\n",
       "    }\n",
       "</style>\n",
       "<table border=\"1\" class=\"dataframe\">\n",
       "  <thead>\n",
       "    <tr style=\"text-align: right;\">\n",
       "      <th></th>\n",
       "      <th>Date</th>\n",
       "      <th>Monthly_Return</th>\n",
       "    </tr>\n",
       "  </thead>\n",
       "  <tbody>\n",
       "    <tr>\n",
       "      <th>2515</th>\n",
       "      <td>2014-05-07</td>\n",
       "      <td>-0.003768</td>\n",
       "    </tr>\n",
       "    <tr>\n",
       "      <th>2514</th>\n",
       "      <td>2014-05-08</td>\n",
       "      <td>-0.007092</td>\n",
       "    </tr>\n",
       "    <tr>\n",
       "      <th>2513</th>\n",
       "      <td>2014-05-09</td>\n",
       "      <td>-0.004286</td>\n",
       "    </tr>\n",
       "    <tr>\n",
       "      <th>2512</th>\n",
       "      <td>2014-05-12</td>\n",
       "      <td>0.012434</td>\n",
       "    </tr>\n",
       "    <tr>\n",
       "      <th>2511</th>\n",
       "      <td>2014-05-13</td>\n",
       "      <td>0.001889</td>\n",
       "    </tr>\n",
       "  </tbody>\n",
       "</table>\n",
       "</div>"
      ],
      "text/plain": [
       "           Date  Monthly_Return\n",
       "2515 2014-05-07       -0.003768\n",
       "2514 2014-05-08       -0.007092\n",
       "2513 2014-05-09       -0.004286\n",
       "2512 2014-05-12        0.012434\n",
       "2511 2014-05-13        0.001889"
      ]
     },
     "execution_count": 69,
     "metadata": {},
     "output_type": "execute_result"
    }
   ],
   "source": [
    "apple[[\"Date\", \"Monthly_Return\"]].head()"
   ]
  },
  {
   "cell_type": "code",
   "execution_count": 70,
   "id": "96851267",
   "metadata": {},
   "outputs": [
    {
     "data": {
      "text/html": [
       "<div>\n",
       "<style scoped>\n",
       "    .dataframe tbody tr th:only-of-type {\n",
       "        vertical-align: middle;\n",
       "    }\n",
       "\n",
       "    .dataframe tbody tr th {\n",
       "        vertical-align: top;\n",
       "    }\n",
       "\n",
       "    .dataframe thead th {\n",
       "        text-align: right;\n",
       "    }\n",
       "</style>\n",
       "<table border=\"1\" class=\"dataframe\">\n",
       "  <thead>\n",
       "    <tr style=\"text-align: right;\">\n",
       "      <th></th>\n",
       "      <th>Date</th>\n",
       "      <th>Monthly_Return</th>\n",
       "    </tr>\n",
       "  </thead>\n",
       "  <tbody>\n",
       "    <tr>\n",
       "      <th>2515</th>\n",
       "      <td>2014-05-07</td>\n",
       "      <td>0.009345</td>\n",
       "    </tr>\n",
       "    <tr>\n",
       "      <th>2514</th>\n",
       "      <td>2014-05-08</td>\n",
       "      <td>0.005453</td>\n",
       "    </tr>\n",
       "    <tr>\n",
       "      <th>2513</th>\n",
       "      <td>2014-05-09</td>\n",
       "      <td>-0.002523</td>\n",
       "    </tr>\n",
       "    <tr>\n",
       "      <th>2512</th>\n",
       "      <td>2014-05-12</td>\n",
       "      <td>0.010875</td>\n",
       "    </tr>\n",
       "    <tr>\n",
       "      <th>2511</th>\n",
       "      <td>2014-05-13</td>\n",
       "      <td>0.011258</td>\n",
       "    </tr>\n",
       "  </tbody>\n",
       "</table>\n",
       "</div>"
      ],
      "text/plain": [
       "           Date  Monthly_Return\n",
       "2515 2014-05-07        0.009345\n",
       "2514 2014-05-08        0.005453\n",
       "2513 2014-05-09       -0.002523\n",
       "2512 2014-05-12        0.010875\n",
       "2511 2014-05-13        0.011258"
      ]
     },
     "execution_count": 70,
     "metadata": {},
     "output_type": "execute_result"
    }
   ],
   "source": [
    "microsoft[[\"Date\", \"Monthly_Return\"]].head()"
   ]
  },
  {
   "cell_type": "code",
   "execution_count": 71,
   "id": "bf7716c2-d056-4cfb-9189-c46c6cb6615f",
   "metadata": {},
   "outputs": [
    {
     "data": {
      "text/html": [
       "<div>\n",
       "<style scoped>\n",
       "    .dataframe tbody tr th:only-of-type {\n",
       "        vertical-align: middle;\n",
       "    }\n",
       "\n",
       "    .dataframe tbody tr th {\n",
       "        vertical-align: top;\n",
       "    }\n",
       "\n",
       "    .dataframe thead th {\n",
       "        text-align: right;\n",
       "    }\n",
       "</style>\n",
       "<table border=\"1\" class=\"dataframe\">\n",
       "  <thead>\n",
       "    <tr style=\"text-align: right;\">\n",
       "      <th></th>\n",
       "      <th>Date</th>\n",
       "      <th>CORESTICKM159SFRBATL</th>\n",
       "    </tr>\n",
       "  </thead>\n",
       "  <tbody>\n",
       "    <tr>\n",
       "      <th>0</th>\n",
       "      <td>1968-01-31</td>\n",
       "      <td>3.651861</td>\n",
       "    </tr>\n",
       "    <tr>\n",
       "      <th>1</th>\n",
       "      <td>1968-02-29</td>\n",
       "      <td>3.673819</td>\n",
       "    </tr>\n",
       "    <tr>\n",
       "      <th>2</th>\n",
       "      <td>1968-03-31</td>\n",
       "      <td>4.142164</td>\n",
       "    </tr>\n",
       "    <tr>\n",
       "      <th>3</th>\n",
       "      <td>1968-04-30</td>\n",
       "      <td>4.155828</td>\n",
       "    </tr>\n",
       "    <tr>\n",
       "      <th>4</th>\n",
       "      <td>1968-05-31</td>\n",
       "      <td>4.088245</td>\n",
       "    </tr>\n",
       "  </tbody>\n",
       "</table>\n",
       "</div>"
      ],
      "text/plain": [
       "        Date  CORESTICKM159SFRBATL\n",
       "0 1968-01-31              3.651861\n",
       "1 1968-02-29              3.673819\n",
       "2 1968-03-31              4.142164\n",
       "3 1968-04-30              4.155828\n",
       "4 1968-05-31              4.088245"
      ]
     },
     "execution_count": 71,
     "metadata": {},
     "output_type": "execute_result"
    }
   ],
   "source": [
    "inflation_monthend.head()"
   ]
  },
  {
   "cell_type": "code",
   "execution_count": 72,
   "id": "f250a7c4-79be-46d6-af5b-a16ad398f40c",
   "metadata": {},
   "outputs": [],
   "source": [
    "# microsoft = microsoft.sort_index(ascending=False)  # Ensure dates are from earliest to newest"
   ]
  },
  {
   "cell_type": "code",
   "execution_count": 73,
   "id": "22abb70a-d7ee-4f30-9395-54a1e8d71282",
   "metadata": {},
   "outputs": [
    {
     "data": {
      "text/html": [
       "<div>\n",
       "<style scoped>\n",
       "    .dataframe tbody tr th:only-of-type {\n",
       "        vertical-align: middle;\n",
       "    }\n",
       "\n",
       "    .dataframe tbody tr th {\n",
       "        vertical-align: top;\n",
       "    }\n",
       "\n",
       "    .dataframe thead th {\n",
       "        text-align: right;\n",
       "    }\n",
       "</style>\n",
       "<table border=\"1\" class=\"dataframe\">\n",
       "  <thead>\n",
       "    <tr style=\"text-align: right;\">\n",
       "      <th></th>\n",
       "      <th>Date</th>\n",
       "      <th>CORESTICKM159SFRBATL</th>\n",
       "    </tr>\n",
       "  </thead>\n",
       "  <tbody>\n",
       "    <tr>\n",
       "      <th>670</th>\n",
       "      <td>2023-11-30</td>\n",
       "      <td>4.688293</td>\n",
       "    </tr>\n",
       "    <tr>\n",
       "      <th>671</th>\n",
       "      <td>2023-12-31</td>\n",
       "      <td>4.554396</td>\n",
       "    </tr>\n",
       "    <tr>\n",
       "      <th>672</th>\n",
       "      <td>2024-01-31</td>\n",
       "      <td>4.603922</td>\n",
       "    </tr>\n",
       "    <tr>\n",
       "      <th>673</th>\n",
       "      <td>2024-02-29</td>\n",
       "      <td>4.403102</td>\n",
       "    </tr>\n",
       "    <tr>\n",
       "      <th>674</th>\n",
       "      <td>2024-03-31</td>\n",
       "      <td>4.509212</td>\n",
       "    </tr>\n",
       "  </tbody>\n",
       "</table>\n",
       "</div>"
      ],
      "text/plain": [
       "          Date  CORESTICKM159SFRBATL\n",
       "670 2023-11-30              4.688293\n",
       "671 2023-12-31              4.554396\n",
       "672 2024-01-31              4.603922\n",
       "673 2024-02-29              4.403102\n",
       "674 2024-03-31              4.509212"
      ]
     },
     "execution_count": 73,
     "metadata": {},
     "output_type": "execute_result"
    }
   ],
   "source": [
    "inflation_monthend.tail()"
   ]
  },
  {
   "cell_type": "code",
   "execution_count": 74,
   "id": "71d42d9b",
   "metadata": {},
   "outputs": [
    {
     "data": {
      "text/html": [
       "<div>\n",
       "<style scoped>\n",
       "    .dataframe tbody tr th:only-of-type {\n",
       "        vertical-align: middle;\n",
       "    }\n",
       "\n",
       "    .dataframe tbody tr th {\n",
       "        vertical-align: top;\n",
       "    }\n",
       "\n",
       "    .dataframe thead th {\n",
       "        text-align: right;\n",
       "    }\n",
       "</style>\n",
       "<table border=\"1\" class=\"dataframe\">\n",
       "  <thead>\n",
       "    <tr style=\"text-align: right;\">\n",
       "      <th></th>\n",
       "      <th>Date</th>\n",
       "      <th>Inflation_Change</th>\n",
       "    </tr>\n",
       "  </thead>\n",
       "  <tbody>\n",
       "    <tr>\n",
       "      <th>0</th>\n",
       "      <td>1968-01-31</td>\n",
       "      <td>NaN</td>\n",
       "    </tr>\n",
       "    <tr>\n",
       "      <th>1</th>\n",
       "      <td>1968-02-29</td>\n",
       "      <td>0.006013</td>\n",
       "    </tr>\n",
       "    <tr>\n",
       "      <th>2</th>\n",
       "      <td>1968-03-31</td>\n",
       "      <td>0.127482</td>\n",
       "    </tr>\n",
       "    <tr>\n",
       "      <th>3</th>\n",
       "      <td>1968-04-30</td>\n",
       "      <td>0.003299</td>\n",
       "    </tr>\n",
       "    <tr>\n",
       "      <th>4</th>\n",
       "      <td>1968-05-31</td>\n",
       "      <td>-0.016262</td>\n",
       "    </tr>\n",
       "  </tbody>\n",
       "</table>\n",
       "</div>"
      ],
      "text/plain": [
       "        Date  Inflation_Change\n",
       "0 1968-01-31               NaN\n",
       "1 1968-02-29          0.006013\n",
       "2 1968-03-31          0.127482\n",
       "3 1968-04-30          0.003299\n",
       "4 1968-05-31         -0.016262"
      ]
     },
     "execution_count": 74,
     "metadata": {},
     "output_type": "execute_result"
    }
   ],
   "source": [
    "# Calculate monthly percentage change in inflation\n",
    "\n",
    "inflation_monthend[\"Inflation_Change\"] = inflation_monthend[\"CORESTICKM159SFRBATL\"].pct_change()\n",
    "\n",
    "inflation_monthend[[\"Date\", \"Inflation_Change\"]].head()"
   ]
  },
  {
   "cell_type": "code",
   "execution_count": 75,
   "id": "691c971a-ce57-4ac4-b169-9d34749b0a92",
   "metadata": {},
   "outputs": [
    {
     "data": {
      "text/plain": [
       "Date                    0\n",
       "CORESTICKM159SFRBATL    0\n",
       "Inflation_Change        0\n",
       "dtype: int64"
      ]
     },
     "execution_count": 75,
     "metadata": {},
     "output_type": "execute_result"
    }
   ],
   "source": [
    "# Drop rows with null values in the 'Daily_Return' column in place\n",
    "inflation_monthend.dropna(subset=['Inflation_Change'], inplace=True)\n",
    "\n",
    "# Check the DataFrame after dropping null rows\n",
    "inflation_monthend.isnull().sum()"
   ]
  },
  {
   "cell_type": "code",
   "execution_count": 76,
   "id": "96d44ada",
   "metadata": {},
   "outputs": [
    {
     "data": {
      "text/html": [
       "<div>\n",
       "<style scoped>\n",
       "    .dataframe tbody tr th:only-of-type {\n",
       "        vertical-align: middle;\n",
       "    }\n",
       "\n",
       "    .dataframe tbody tr th {\n",
       "        vertical-align: top;\n",
       "    }\n",
       "\n",
       "    .dataframe thead th {\n",
       "        text-align: right;\n",
       "    }\n",
       "</style>\n",
       "<table border=\"1\" class=\"dataframe\">\n",
       "  <thead>\n",
       "    <tr style=\"text-align: right;\">\n",
       "      <th></th>\n",
       "      <th>Date</th>\n",
       "      <th>CORESTICKM159SFRBATL</th>\n",
       "      <th>Inflation_Change</th>\n",
       "    </tr>\n",
       "  </thead>\n",
       "  <tbody>\n",
       "    <tr>\n",
       "      <th>1</th>\n",
       "      <td>1968-02-29</td>\n",
       "      <td>3.673819</td>\n",
       "      <td>0.006013</td>\n",
       "    </tr>\n",
       "    <tr>\n",
       "      <th>2</th>\n",
       "      <td>1968-03-31</td>\n",
       "      <td>4.142164</td>\n",
       "      <td>0.127482</td>\n",
       "    </tr>\n",
       "    <tr>\n",
       "      <th>3</th>\n",
       "      <td>1968-04-30</td>\n",
       "      <td>4.155828</td>\n",
       "      <td>0.003299</td>\n",
       "    </tr>\n",
       "    <tr>\n",
       "      <th>4</th>\n",
       "      <td>1968-05-31</td>\n",
       "      <td>4.088245</td>\n",
       "      <td>-0.016262</td>\n",
       "    </tr>\n",
       "    <tr>\n",
       "      <th>5</th>\n",
       "      <td>1968-06-30</td>\n",
       "      <td>4.545569</td>\n",
       "      <td>0.111863</td>\n",
       "    </tr>\n",
       "  </tbody>\n",
       "</table>\n",
       "</div>"
      ],
      "text/plain": [
       "        Date  CORESTICKM159SFRBATL  Inflation_Change\n",
       "1 1968-02-29              3.673819          0.006013\n",
       "2 1968-03-31              4.142164          0.127482\n",
       "3 1968-04-30              4.155828          0.003299\n",
       "4 1968-05-31              4.088245         -0.016262\n",
       "5 1968-06-30              4.545569          0.111863"
      ]
     },
     "execution_count": 76,
     "metadata": {},
     "output_type": "execute_result"
    }
   ],
   "source": [
    "inflation_monthend.head()"
   ]
  },
  {
   "cell_type": "code",
   "execution_count": 77,
   "id": "f54d4778",
   "metadata": {},
   "outputs": [
    {
     "data": {
      "text/plain": [
       "Date              0\n",
       "Close/Last        0\n",
       "Volume            0\n",
       "Open              0\n",
       "High              0\n",
       "Low               0\n",
       "Monthly_Return    0\n",
       "dtype: int64"
      ]
     },
     "execution_count": 77,
     "metadata": {},
     "output_type": "execute_result"
    }
   ],
   "source": [
    "apple.isnull().sum()"
   ]
  },
  {
   "cell_type": "code",
   "execution_count": 78,
   "id": "73f68dcd",
   "metadata": {},
   "outputs": [
    {
     "data": {
      "text/html": [
       "<div>\n",
       "<style scoped>\n",
       "    .dataframe tbody tr th:only-of-type {\n",
       "        vertical-align: middle;\n",
       "    }\n",
       "\n",
       "    .dataframe tbody tr th {\n",
       "        vertical-align: top;\n",
       "    }\n",
       "\n",
       "    .dataframe thead th {\n",
       "        text-align: right;\n",
       "    }\n",
       "</style>\n",
       "<table border=\"1\" class=\"dataframe\">\n",
       "  <thead>\n",
       "    <tr style=\"text-align: right;\">\n",
       "      <th></th>\n",
       "      <th>Date</th>\n",
       "      <th>Close/Last</th>\n",
       "      <th>Volume</th>\n",
       "      <th>Open</th>\n",
       "      <th>High</th>\n",
       "      <th>Low</th>\n",
       "      <th>Monthly_Return</th>\n",
       "    </tr>\n",
       "  </thead>\n",
       "  <tbody>\n",
       "    <tr>\n",
       "      <th>2515</th>\n",
       "      <td>2014-05-07</td>\n",
       "      <td>39.425</td>\n",
       "      <td>41731030</td>\n",
       "      <td>39.22</td>\n",
       "      <td>39.51</td>\n",
       "      <td>38.51</td>\n",
       "      <td>0.009345</td>\n",
       "    </tr>\n",
       "    <tr>\n",
       "      <th>2514</th>\n",
       "      <td>2014-05-08</td>\n",
       "      <td>39.640</td>\n",
       "      <td>32089010</td>\n",
       "      <td>39.34</td>\n",
       "      <td>39.90</td>\n",
       "      <td>38.97</td>\n",
       "      <td>0.005453</td>\n",
       "    </tr>\n",
       "    <tr>\n",
       "      <th>2513</th>\n",
       "      <td>2014-05-09</td>\n",
       "      <td>39.540</td>\n",
       "      <td>29646100</td>\n",
       "      <td>39.54</td>\n",
       "      <td>39.85</td>\n",
       "      <td>39.37</td>\n",
       "      <td>-0.002523</td>\n",
       "    </tr>\n",
       "    <tr>\n",
       "      <th>2512</th>\n",
       "      <td>2014-05-12</td>\n",
       "      <td>39.970</td>\n",
       "      <td>22761620</td>\n",
       "      <td>39.74</td>\n",
       "      <td>40.02</td>\n",
       "      <td>39.65</td>\n",
       "      <td>0.010875</td>\n",
       "    </tr>\n",
       "    <tr>\n",
       "      <th>2511</th>\n",
       "      <td>2014-05-13</td>\n",
       "      <td>40.420</td>\n",
       "      <td>26994040</td>\n",
       "      <td>39.92</td>\n",
       "      <td>40.50</td>\n",
       "      <td>39.85</td>\n",
       "      <td>0.011258</td>\n",
       "    </tr>\n",
       "  </tbody>\n",
       "</table>\n",
       "</div>"
      ],
      "text/plain": [
       "           Date  Close/Last    Volume   Open   High    Low  Monthly_Return\n",
       "2515 2014-05-07      39.425  41731030  39.22  39.51  38.51        0.009345\n",
       "2514 2014-05-08      39.640  32089010  39.34  39.90  38.97        0.005453\n",
       "2513 2014-05-09      39.540  29646100  39.54  39.85  39.37       -0.002523\n",
       "2512 2014-05-12      39.970  22761620  39.74  40.02  39.65        0.010875\n",
       "2511 2014-05-13      40.420  26994040  39.92  40.50  39.85        0.011258"
      ]
     },
     "execution_count": 78,
     "metadata": {},
     "output_type": "execute_result"
    }
   ],
   "source": [
    "microsoft.head()"
   ]
  },
  {
   "cell_type": "code",
   "execution_count": 79,
   "id": "2fda9d9d",
   "metadata": {},
   "outputs": [
    {
     "data": {
      "text/plain": [
       "Date              0\n",
       "Close/Last        0\n",
       "Volume            0\n",
       "Open              0\n",
       "High              0\n",
       "Low               0\n",
       "Monthly_Return    0\n",
       "dtype: int64"
      ]
     },
     "execution_count": 79,
     "metadata": {},
     "output_type": "execute_result"
    }
   ],
   "source": [
    "microsoft.isnull().sum()"
   ]
  },
  {
   "cell_type": "code",
   "execution_count": 80,
   "id": "cd5fccde",
   "metadata": {},
   "outputs": [
    {
     "data": {
      "text/plain": [
       "Date                    0\n",
       "CORESTICKM159SFRBATL    0\n",
       "Inflation_Change        0\n",
       "dtype: int64"
      ]
     },
     "execution_count": 80,
     "metadata": {},
     "output_type": "execute_result"
    }
   ],
   "source": [
    "inflation_monthend.isnull().sum()"
   ]
  },
  {
   "cell_type": "markdown",
   "id": "c8aa1b91",
   "metadata": {},
   "source": [
    "### 2. Interpolate stock returns from daily to monthly"
   ]
  },
  {
   "cell_type": "code",
   "execution_count": 81,
   "id": "444ce726-12cd-4449-9ee5-5a3ef6740891",
   "metadata": {},
   "outputs": [
    {
     "data": {
      "text/plain": [
       "(2516, 7)"
      ]
     },
     "execution_count": 81,
     "metadata": {},
     "output_type": "execute_result"
    }
   ],
   "source": [
    "apple.shape"
   ]
  },
  {
   "cell_type": "code",
   "execution_count": 82,
   "id": "6eab1d2b-4f28-4714-8f31-6daed3a8a486",
   "metadata": {},
   "outputs": [
    {
     "data": {
      "text/plain": [
       "(2516, 7)"
      ]
     },
     "execution_count": 82,
     "metadata": {},
     "output_type": "execute_result"
    }
   ],
   "source": [
    "microsoft.shape"
   ]
  },
  {
   "cell_type": "code",
   "execution_count": 83,
   "id": "822811e6-2f7b-4a9b-88d9-42933adefce7",
   "metadata": {},
   "outputs": [
    {
     "data": {
      "text/plain": [
       "(674, 3)"
      ]
     },
     "execution_count": 83,
     "metadata": {},
     "output_type": "execute_result"
    }
   ],
   "source": [
    "inflation_monthend.shape"
   ]
  },
  {
   "cell_type": "code",
   "execution_count": 84,
   "id": "d302af0d",
   "metadata": {},
   "outputs": [],
   "source": [
    "apple_df = apple.copy()\n",
    "microsoft_df = microsoft.copy()\n",
    "\n",
    "# Set Date as index\n",
    "apple_df.set_index('Date', inplace=True)\n",
    "microsoft_df.set_index('Date', inplace=True)\n",
    "\n",
    "# Resample daily returns to monthly and interpolate missing values\n",
    "# Calculate monthly returns by compounding daily returns\n",
    "apple_monthly = apple_df['Monthly_Return'].resample('M').apply(lambda x: (1 + x).prod() - 1)\n",
    "\n",
    "# microsoft_monthly = microsoft_df['Daily_Return'].resample('ME').interpolate(method='linear')\n",
    "microsoft_monthly = microsoft_df['Monthly_Return'].resample('M').apply(lambda x: (1 + x).prod() - 1)\n",
    "\n",
    "# Reset index to retain 'Date' as a column\n",
    "apple_monthly = apple_monthly.reset_index()\n",
    "microsoft_monthly = microsoft_monthly.reset_index()\n"
   ]
  },
  {
   "cell_type": "code",
   "execution_count": 85,
   "id": "f367b8d0-271e-4f6d-a909-0c588d2c81f3",
   "metadata": {},
   "outputs": [
    {
     "data": {
      "text/html": [
       "<div>\n",
       "<style scoped>\n",
       "    .dataframe tbody tr th:only-of-type {\n",
       "        vertical-align: middle;\n",
       "    }\n",
       "\n",
       "    .dataframe tbody tr th {\n",
       "        vertical-align: top;\n",
       "    }\n",
       "\n",
       "    .dataframe thead th {\n",
       "        text-align: right;\n",
       "    }\n",
       "</style>\n",
       "<table border=\"1\" class=\"dataframe\">\n",
       "  <thead>\n",
       "    <tr style=\"text-align: right;\">\n",
       "      <th></th>\n",
       "      <th>Date</th>\n",
       "      <th>Monthly_Return</th>\n",
       "    </tr>\n",
       "  </thead>\n",
       "  <tbody>\n",
       "    <tr>\n",
       "      <th>0</th>\n",
       "      <td>2014-05-31</td>\n",
       "      <td>0.065002</td>\n",
       "    </tr>\n",
       "    <tr>\n",
       "      <th>1</th>\n",
       "      <td>2014-06-30</td>\n",
       "      <td>0.027421</td>\n",
       "    </tr>\n",
       "    <tr>\n",
       "      <th>2</th>\n",
       "      <td>2014-07-31</td>\n",
       "      <td>0.028842</td>\n",
       "    </tr>\n",
       "    <tr>\n",
       "      <th>3</th>\n",
       "      <td>2014-08-31</td>\n",
       "      <td>0.072385</td>\n",
       "    </tr>\n",
       "    <tr>\n",
       "      <th>4</th>\n",
       "      <td>2014-09-30</td>\n",
       "      <td>-0.017167</td>\n",
       "    </tr>\n",
       "  </tbody>\n",
       "</table>\n",
       "</div>"
      ],
      "text/plain": [
       "        Date  Monthly_Return\n",
       "0 2014-05-31        0.065002\n",
       "1 2014-06-30        0.027421\n",
       "2 2014-07-31        0.028842\n",
       "3 2014-08-31        0.072385\n",
       "4 2014-09-30       -0.017167"
      ]
     },
     "execution_count": 85,
     "metadata": {},
     "output_type": "execute_result"
    }
   ],
   "source": [
    "apple_monthly.head()"
   ]
  },
  {
   "cell_type": "code",
   "execution_count": 86,
   "id": "3dd6b20a",
   "metadata": {},
   "outputs": [
    {
     "data": {
      "text/html": [
       "<div>\n",
       "<style scoped>\n",
       "    .dataframe tbody tr th:only-of-type {\n",
       "        vertical-align: middle;\n",
       "    }\n",
       "\n",
       "    .dataframe tbody tr th {\n",
       "        vertical-align: top;\n",
       "    }\n",
       "\n",
       "    .dataframe thead th {\n",
       "        text-align: right;\n",
       "    }\n",
       "</style>\n",
       "<table border=\"1\" class=\"dataframe\">\n",
       "  <thead>\n",
       "    <tr style=\"text-align: right;\">\n",
       "      <th></th>\n",
       "      <th>Date</th>\n",
       "      <th>Monthly_Return</th>\n",
       "    </tr>\n",
       "  </thead>\n",
       "  <tbody>\n",
       "    <tr>\n",
       "      <th>0</th>\n",
       "      <td>2014-05-31</td>\n",
       "      <td>0.048131</td>\n",
       "    </tr>\n",
       "    <tr>\n",
       "      <th>1</th>\n",
       "      <td>2014-06-30</td>\n",
       "      <td>0.018564</td>\n",
       "    </tr>\n",
       "    <tr>\n",
       "      <th>2</th>\n",
       "      <td>2014-07-31</td>\n",
       "      <td>0.035012</td>\n",
       "    </tr>\n",
       "    <tr>\n",
       "      <th>3</th>\n",
       "      <td>2014-08-31</td>\n",
       "      <td>0.052595</td>\n",
       "    </tr>\n",
       "    <tr>\n",
       "      <th>4</th>\n",
       "      <td>2014-09-30</td>\n",
       "      <td>0.020471</td>\n",
       "    </tr>\n",
       "  </tbody>\n",
       "</table>\n",
       "</div>"
      ],
      "text/plain": [
       "        Date  Monthly_Return\n",
       "0 2014-05-31        0.048131\n",
       "1 2014-06-30        0.018564\n",
       "2 2014-07-31        0.035012\n",
       "3 2014-08-31        0.052595\n",
       "4 2014-09-30        0.020471"
      ]
     },
     "execution_count": 86,
     "metadata": {},
     "output_type": "execute_result"
    }
   ],
   "source": [
    "microsoft_monthly.head()"
   ]
  },
  {
   "cell_type": "code",
   "execution_count": 87,
   "id": "9300a530",
   "metadata": {},
   "outputs": [
    {
     "name": "stdout",
     "output_type": "stream",
     "text": [
      "<class 'pandas.core.frame.DataFrame'>\n",
      "RangeIndex: 121 entries, 0 to 120\n",
      "Data columns (total 2 columns):\n",
      " #   Column          Non-Null Count  Dtype         \n",
      "---  ------          --------------  -----         \n",
      " 0   Date            121 non-null    datetime64[ns]\n",
      " 1   Monthly_Return  121 non-null    float64       \n",
      "dtypes: datetime64[ns](1), float64(1)\n",
      "memory usage: 2.0 KB\n"
     ]
    }
   ],
   "source": [
    "apple_monthly.info()"
   ]
  },
  {
   "cell_type": "code",
   "execution_count": 88,
   "id": "a7400bc4",
   "metadata": {},
   "outputs": [
    {
     "name": "stdout",
     "output_type": "stream",
     "text": [
      "<class 'pandas.core.frame.DataFrame'>\n",
      "RangeIndex: 121 entries, 0 to 120\n",
      "Data columns (total 2 columns):\n",
      " #   Column          Non-Null Count  Dtype         \n",
      "---  ------          --------------  -----         \n",
      " 0   Date            121 non-null    datetime64[ns]\n",
      " 1   Monthly_Return  121 non-null    float64       \n",
      "dtypes: datetime64[ns](1), float64(1)\n",
      "memory usage: 2.0 KB\n"
     ]
    }
   ],
   "source": [
    "microsoft_monthly.info()"
   ]
  },
  {
   "cell_type": "code",
   "execution_count": 89,
   "id": "eb001a63",
   "metadata": {},
   "outputs": [
    {
     "name": "stdout",
     "output_type": "stream",
     "text": [
      "<class 'pandas.core.frame.DataFrame'>\n",
      "RangeIndex: 675 entries, 0 to 674\n",
      "Data columns (total 2 columns):\n",
      " #   Column                Non-Null Count  Dtype         \n",
      "---  ------                --------------  -----         \n",
      " 0   Date                  675 non-null    datetime64[ns]\n",
      " 1   CORESTICKM159SFRBATL  675 non-null    float64       \n",
      "dtypes: datetime64[ns](1), float64(1)\n",
      "memory usage: 10.7 KB\n"
     ]
    }
   ],
   "source": [
    "inflation.info()"
   ]
  },
  {
   "cell_type": "markdown",
   "id": "268272e6",
   "metadata": {},
   "source": [
    "### 3. Merge the stock returns (Apple and Microsoft) and inflation data series into a single dataframe"
   ]
  },
  {
   "cell_type": "code",
   "execution_count": 90,
   "id": "5b29a243-c4a8-4024-93c7-6dcd2f049081",
   "metadata": {},
   "outputs": [
    {
     "data": {
      "text/html": [
       "<div>\n",
       "<style scoped>\n",
       "    .dataframe tbody tr th:only-of-type {\n",
       "        vertical-align: middle;\n",
       "    }\n",
       "\n",
       "    .dataframe tbody tr th {\n",
       "        vertical-align: top;\n",
       "    }\n",
       "\n",
       "    .dataframe thead th {\n",
       "        text-align: right;\n",
       "    }\n",
       "</style>\n",
       "<table border=\"1\" class=\"dataframe\">\n",
       "  <thead>\n",
       "    <tr style=\"text-align: right;\">\n",
       "      <th></th>\n",
       "      <th>Date</th>\n",
       "      <th>Monthly_Return_Apple</th>\n",
       "      <th>Monthly_Return_Microsoft</th>\n",
       "      <th>Inflation_Change</th>\n",
       "    </tr>\n",
       "  </thead>\n",
       "  <tbody>\n",
       "    <tr>\n",
       "      <th>0</th>\n",
       "      <td>2014-05-31</td>\n",
       "      <td>0.065002</td>\n",
       "      <td>0.048131</td>\n",
       "      <td>0.050251</td>\n",
       "    </tr>\n",
       "    <tr>\n",
       "      <th>1</th>\n",
       "      <td>2014-06-30</td>\n",
       "      <td>0.027421</td>\n",
       "      <td>0.018564</td>\n",
       "      <td>0.007147</td>\n",
       "    </tr>\n",
       "    <tr>\n",
       "      <th>2</th>\n",
       "      <td>2014-07-31</td>\n",
       "      <td>0.028842</td>\n",
       "      <td>0.035012</td>\n",
       "      <td>-0.020724</td>\n",
       "    </tr>\n",
       "    <tr>\n",
       "      <th>3</th>\n",
       "      <td>2014-08-31</td>\n",
       "      <td>0.072385</td>\n",
       "      <td>0.052595</td>\n",
       "      <td>-0.066387</td>\n",
       "    </tr>\n",
       "    <tr>\n",
       "      <th>4</th>\n",
       "      <td>2014-09-30</td>\n",
       "      <td>-0.017167</td>\n",
       "      <td>0.020471</td>\n",
       "      <td>-0.004516</td>\n",
       "    </tr>\n",
       "  </tbody>\n",
       "</table>\n",
       "</div>"
      ],
      "text/plain": [
       "        Date  Monthly_Return_Apple  Monthly_Return_Microsoft  Inflation_Change\n",
       "0 2014-05-31              0.065002                  0.048131          0.050251\n",
       "1 2014-06-30              0.027421                  0.018564          0.007147\n",
       "2 2014-07-31              0.028842                  0.035012         -0.020724\n",
       "3 2014-08-31              0.072385                  0.052595         -0.066387\n",
       "4 2014-09-30             -0.017167                  0.020471         -0.004516"
      ]
     },
     "execution_count": 90,
     "metadata": {},
     "output_type": "execute_result"
    }
   ],
   "source": [
    "# Merge datasets on Date\n",
    "merged_data = apple_monthly.merge(microsoft_monthly, on='Date', suffixes=('_Apple', '_Microsoft'))\n",
    "\n",
    "merged_apple_microsoft = merged_data.merge(inflation_monthend[['Date', 'Inflation_Change']], on='Date', how='inner')\n",
    "\n",
    "merged_apple_microsoft.head()"
   ]
  },
  {
   "cell_type": "markdown",
   "id": "8ac2c9f5",
   "metadata": {},
   "source": [
    "### 4. Calculate the correlation matrix between the Apple returns, Microsoft returns, and inflation change"
   ]
  },
  {
   "cell_type": "code",
   "execution_count": 93,
   "id": "a7c4c543",
   "metadata": {},
   "outputs": [],
   "source": [
    "# Calculate correlation matrix\n",
    "\n",
    "correlation_matrix = merged_apple_microsoft[['Monthly_Return_Apple', 'Monthly_Return_Microsoft', 'Inflation_Change']].corr()"
   ]
  },
  {
   "cell_type": "markdown",
   "id": "96fbb4de",
   "metadata": {},
   "source": [
    "### 5. Plot the correlation matrix as a heatmap"
   ]
  },
  {
   "cell_type": "code",
   "execution_count": 94,
   "id": "35839c9c-f2e2-4369-970d-1ecdd813946e",
   "metadata": {},
   "outputs": [
    {
     "data": {
      "image/png": "[encoded data removed]",
      "text/plain": [
       "<Figure size 800x500 with 2 Axes>"
      ]
     },
     "metadata": {},
     "output_type": "display_data"
    }
   ],
   "source": [
    "# Plot heatmap\n",
    "plt.figure(figsize=(8, 5))\n",
    "sns.heatmap(correlation_matrix, annot=True, cmap='coolwarm', fmt=\".2f\", linewidths=0.5)\n",
    "\n",
    "# Formatting\n",
    "plt.title(\"Correlation Heatmap: Apple & Microsoft Returns vs. Inflation\")\n",
    "plt.show()"
   ]
  },
  {
   "cell_type": "markdown",
   "id": "624a2410",
   "metadata": {},
   "source": [
    "## Calculating rolling volatility (standard deviation) of a stock's price for last 3 months\n",
    "\n",
    "Volatility is a measure of the dispersion of returns for a given security. By calculating rolling volatility, investors can assess the risk associated with a stock over time: Higher volatility indicates higher risk, as the stock's price is more likely to experience significant fluctuations. In portfolio optimization, understanding the volatility of individual stocks and how it changes over time is crucial for diversification and optimization. By analyzing rolling volatility, investors can adjust their portfolios to maintain a desired risk level, potentially improving the risk-return profile.\n",
    "\n",
    "One possible way to calculate volatility is by using the standard deviation of returns for a stock over time.\n",
    "\n",
    "Your task:\n",
    "* Calculate the weekly rolling standard deviation for Apple's closing price\n",
    "* Plot the calculated rolling weekly volatility of Apple's closing price against Apple's closing price. Plot these **on the same chart, but using different y-axes**\n",
    "\n",
    "Helpful hints:\n",
    "* You'll need to use the `pandas` `rolling()` method with a given `window_size` parameter to make it a _weekly_ rolling calculation\n",
    "* Use **only the last three months of data**; data much older than this may not be as useful for portfolio optimization\n",
    "* You'll need to create two axes on the matplotlib figure to be able to use two different y-axes (one for the closing price and one for the rolling volatility calculated here)"
   ]
  },
  {
   "cell_type": "code",
   "execution_count": 95,
   "id": "4da9eb94",
   "metadata": {},
   "outputs": [],
   "source": [
    "# Define the window size for the rolling calculation (e.g., 7 days for one week)\n",
    "window_size = 7"
   ]
  },
  {
   "cell_type": "code",
   "execution_count": 96,
   "id": "e03d5a0d",
   "metadata": {},
   "outputs": [],
   "source": [
    "# apple.columns"
   ]
  },
  {
   "cell_type": "code",
   "execution_count": 97,
   "id": "a90c2604-baba-495e-be97-9f539ab416d5",
   "metadata": {},
   "outputs": [],
   "source": [
    "# apple.head()"
   ]
  },
  {
   "cell_type": "code",
   "execution_count": 98,
   "id": "597f6422-436b-42e1-a6fa-7a3f4f65520d",
   "metadata": {},
   "outputs": [],
   "source": [
    "# Calculate the end date for the last 3 months=\n",
    "# end_date = apple['Date'].max()  # Take the latest date in the DataFrame\n",
    "# start_date = end_date - pd.DateOffset(months=3)  # Subtract 3 months"
   ]
  },
  {
   "cell_type": "code",
   "execution_count": 99,
   "id": "3cbc13af-cb39-4ca0-9bc9-c0d6e81d11ab",
   "metadata": {},
   "outputs": [],
   "source": [
    "# end_date"
   ]
  },
  {
   "cell_type": "code",
   "execution_count": 100,
   "id": "884029e7-1c6e-4c9c-b3cb-f86cc58d9fd9",
   "metadata": {},
   "outputs": [],
   "source": [
    "# start_date"
   ]
  },
  {
   "cell_type": "code",
   "execution_count": 101,
   "id": "2ba1bd8b-8c8d-43df-a02a-061ace28b65c",
   "metadata": {},
   "outputs": [],
   "source": [
    "# # Filter the DataFrame to get data from the last 3 months\n",
    "# apple_last_3_months = apple[apple['Date'] >= start_date]\n",
    "# apple_last_3m = apple_last_3_months.copy()"
   ]
  },
  {
   "cell_type": "code",
   "execution_count": 102,
   "id": "9a1bf693-7e24-4fa0-aa06-d5f55e7e3593",
   "metadata": {},
   "outputs": [],
   "source": [
    "# apple.head()"
   ]
  },
  {
   "cell_type": "code",
   "execution_count": 103,
   "id": "106b6375-b2de-4694-ab0d-b08b9d8f866c",
   "metadata": {},
   "outputs": [
    {
     "data": {
      "text/html": [
       "<div>\n",
       "<style scoped>\n",
       "    .dataframe tbody tr th:only-of-type {\n",
       "        vertical-align: middle;\n",
       "    }\n",
       "\n",
       "    .dataframe tbody tr th {\n",
       "        vertical-align: top;\n",
       "    }\n",
       "\n",
       "    .dataframe thead th {\n",
       "        text-align: right;\n",
       "    }\n",
       "</style>\n",
       "<table border=\"1\" class=\"dataframe\">\n",
       "  <thead>\n",
       "    <tr style=\"text-align: right;\">\n",
       "      <th></th>\n",
       "      <th>Date</th>\n",
       "      <th>Close/Last</th>\n",
       "      <th>Volume</th>\n",
       "      <th>Open</th>\n",
       "      <th>High</th>\n",
       "      <th>Low</th>\n",
       "    </tr>\n",
       "  </thead>\n",
       "  <tbody>\n",
       "    <tr>\n",
       "      <th>0</th>\n",
       "      <td>2024-05-03</td>\n",
       "      <td>183.38</td>\n",
       "      <td>163224100</td>\n",
       "      <td>186.65</td>\n",
       "      <td>187.00</td>\n",
       "      <td>182.66</td>\n",
       "    </tr>\n",
       "    <tr>\n",
       "      <th>1</th>\n",
       "      <td>2024-05-02</td>\n",
       "      <td>173.03</td>\n",
       "      <td>94214920</td>\n",
       "      <td>172.51</td>\n",
       "      <td>173.42</td>\n",
       "      <td>170.89</td>\n",
       "    </tr>\n",
       "    <tr>\n",
       "      <th>2</th>\n",
       "      <td>2024-05-01</td>\n",
       "      <td>169.30</td>\n",
       "      <td>50383150</td>\n",
       "      <td>169.58</td>\n",
       "      <td>172.71</td>\n",
       "      <td>169.11</td>\n",
       "    </tr>\n",
       "    <tr>\n",
       "      <th>3</th>\n",
       "      <td>2024-04-30</td>\n",
       "      <td>170.33</td>\n",
       "      <td>65934780</td>\n",
       "      <td>173.33</td>\n",
       "      <td>174.99</td>\n",
       "      <td>170.00</td>\n",
       "    </tr>\n",
       "    <tr>\n",
       "      <th>4</th>\n",
       "      <td>2024-04-29</td>\n",
       "      <td>173.50</td>\n",
       "      <td>68169420</td>\n",
       "      <td>173.37</td>\n",
       "      <td>176.03</td>\n",
       "      <td>173.10</td>\n",
       "    </tr>\n",
       "  </tbody>\n",
       "</table>\n",
       "</div>"
      ],
      "text/plain": [
       "        Date  Close/Last     Volume    Open    High     Low\n",
       "0 2024-05-03      183.38  163224100  186.65  187.00  182.66\n",
       "1 2024-05-02      173.03   94214920  172.51  173.42  170.89\n",
       "2 2024-05-01      169.30   50383150  169.58  172.71  169.11\n",
       "3 2024-04-30      170.33   65934780  173.33  174.99  170.00\n",
       "4 2024-04-29      173.50   68169420  173.37  176.03  173.10"
      ]
     },
     "execution_count": 103,
     "metadata": {},
     "output_type": "execute_result"
    }
   ],
   "source": [
    "apple_last_three_months.head()"
   ]
  },
  {
   "cell_type": "code",
   "execution_count": 104,
   "id": "9bfa9067-ca6e-4736-91b8-7601ee296608",
   "metadata": {},
   "outputs": [
    {
     "data": {
      "text/plain": [
       "(63, 6)"
      ]
     },
     "execution_count": 104,
     "metadata": {},
     "output_type": "execute_result"
    }
   ],
   "source": [
    "apple_last_three_months.shape"
   ]
  },
  {
   "cell_type": "code",
   "execution_count": 105,
   "id": "39c62592-11b7-4224-b1ae-5e68b005f0cd",
   "metadata": {},
   "outputs": [],
   "source": [
    "# apple_last_three_months.head()"
   ]
  },
  {
   "cell_type": "code",
   "execution_count": 106,
   "id": "c57fcfd4-6d43-4713-a5aa-4e6b85ad805d",
   "metadata": {},
   "outputs": [],
   "source": [
    "rolling_std = apple_last_three_months.copy()\n",
    "# apple_last_3m = apple_last_3_months.copy()"
   ]
  },
  {
   "cell_type": "code",
   "execution_count": 107,
   "id": "044bb637-4fd0-4851-bd0e-e4800d3b983a",
   "metadata": {},
   "outputs": [],
   "source": [
    "# Calculate rolling one-week volatility (rolling standard deviation)\n",
    "rolling_std['Rolling_Std_Dev'] = apple_last_three_months['Close/Last'].rolling(window=window_size).std()"
   ]
  },
  {
   "cell_type": "code",
   "execution_count": 108,
   "id": "c1a3705d-adfb-420f-a966-2c904e47e11a",
   "metadata": {},
   "outputs": [
    {
     "data": {
      "text/html": [
       "<div>\n",
       "<style scoped>\n",
       "    .dataframe tbody tr th:only-of-type {\n",
       "        vertical-align: middle;\n",
       "    }\n",
       "\n",
       "    .dataframe tbody tr th {\n",
       "        vertical-align: top;\n",
       "    }\n",
       "\n",
       "    .dataframe thead th {\n",
       "        text-align: right;\n",
       "    }\n",
       "</style>\n",
       "<table border=\"1\" class=\"dataframe\">\n",
       "  <thead>\n",
       "    <tr style=\"text-align: right;\">\n",
       "      <th></th>\n",
       "      <th>Date</th>\n",
       "      <th>Close/Last</th>\n",
       "      <th>Volume</th>\n",
       "      <th>Open</th>\n",
       "      <th>High</th>\n",
       "      <th>Low</th>\n",
       "      <th>Rolling_Std_Dev</th>\n",
       "    </tr>\n",
       "  </thead>\n",
       "  <tbody>\n",
       "    <tr>\n",
       "      <th>0</th>\n",
       "      <td>2024-05-03</td>\n",
       "      <td>183.38</td>\n",
       "      <td>163224100</td>\n",
       "      <td>186.65</td>\n",
       "      <td>187.00</td>\n",
       "      <td>182.66</td>\n",
       "      <td>NaN</td>\n",
       "    </tr>\n",
       "    <tr>\n",
       "      <th>1</th>\n",
       "      <td>2024-05-02</td>\n",
       "      <td>173.03</td>\n",
       "      <td>94214920</td>\n",
       "      <td>172.51</td>\n",
       "      <td>173.42</td>\n",
       "      <td>170.89</td>\n",
       "      <td>NaN</td>\n",
       "    </tr>\n",
       "    <tr>\n",
       "      <th>2</th>\n",
       "      <td>2024-05-01</td>\n",
       "      <td>169.30</td>\n",
       "      <td>50383150</td>\n",
       "      <td>169.58</td>\n",
       "      <td>172.71</td>\n",
       "      <td>169.11</td>\n",
       "      <td>NaN</td>\n",
       "    </tr>\n",
       "    <tr>\n",
       "      <th>3</th>\n",
       "      <td>2024-04-30</td>\n",
       "      <td>170.33</td>\n",
       "      <td>65934780</td>\n",
       "      <td>173.33</td>\n",
       "      <td>174.99</td>\n",
       "      <td>170.00</td>\n",
       "      <td>NaN</td>\n",
       "    </tr>\n",
       "    <tr>\n",
       "      <th>4</th>\n",
       "      <td>2024-04-29</td>\n",
       "      <td>173.50</td>\n",
       "      <td>68169420</td>\n",
       "      <td>173.37</td>\n",
       "      <td>176.03</td>\n",
       "      <td>173.10</td>\n",
       "      <td>NaN</td>\n",
       "    </tr>\n",
       "    <tr>\n",
       "      <th>5</th>\n",
       "      <td>2024-04-26</td>\n",
       "      <td>169.30</td>\n",
       "      <td>44838350</td>\n",
       "      <td>169.88</td>\n",
       "      <td>171.34</td>\n",
       "      <td>169.18</td>\n",
       "      <td>NaN</td>\n",
       "    </tr>\n",
       "    <tr>\n",
       "      <th>6</th>\n",
       "      <td>2024-04-25</td>\n",
       "      <td>169.89</td>\n",
       "      <td>50558330</td>\n",
       "      <td>169.53</td>\n",
       "      <td>170.61</td>\n",
       "      <td>168.15</td>\n",
       "      <td>5.023946</td>\n",
       "    </tr>\n",
       "    <tr>\n",
       "      <th>7</th>\n",
       "      <td>2024-04-24</td>\n",
       "      <td>169.02</td>\n",
       "      <td>48251840</td>\n",
       "      <td>166.54</td>\n",
       "      <td>169.30</td>\n",
       "      <td>166.21</td>\n",
       "      <td>1.860294</td>\n",
       "    </tr>\n",
       "    <tr>\n",
       "      <th>8</th>\n",
       "      <td>2024-04-23</td>\n",
       "      <td>166.90</td>\n",
       "      <td>49537760</td>\n",
       "      <td>165.35</td>\n",
       "      <td>167.05</td>\n",
       "      <td>164.92</td>\n",
       "      <td>1.978168</td>\n",
       "    </tr>\n",
       "    <tr>\n",
       "      <th>9</th>\n",
       "      <td>2024-04-22</td>\n",
       "      <td>165.84</td>\n",
       "      <td>48116440</td>\n",
       "      <td>165.52</td>\n",
       "      <td>167.26</td>\n",
       "      <td>164.77</td>\n",
       "      <td>2.478049</td>\n",
       "    </tr>\n",
       "  </tbody>\n",
       "</table>\n",
       "</div>"
      ],
      "text/plain": [
       "        Date  Close/Last     Volume    Open    High     Low  Rolling_Std_Dev\n",
       "0 2024-05-03      183.38  163224100  186.65  187.00  182.66              NaN\n",
       "1 2024-05-02      173.03   94214920  172.51  173.42  170.89              NaN\n",
       "2 2024-05-01      169.30   50383150  169.58  172.71  169.11              NaN\n",
       "3 2024-04-30      170.33   65934780  173.33  174.99  170.00              NaN\n",
       "4 2024-04-29      173.50   68169420  173.37  176.03  173.10              NaN\n",
       "5 2024-04-26      169.30   44838350  169.88  171.34  169.18              NaN\n",
       "6 2024-04-25      169.89   50558330  169.53  170.61  168.15         5.023946\n",
       "7 2024-04-24      169.02   48251840  166.54  169.30  166.21         1.860294\n",
       "8 2024-04-23      166.90   49537760  165.35  167.05  164.92         1.978168\n",
       "9 2024-04-22      165.84   48116440  165.52  167.26  164.77         2.478049"
      ]
     },
     "execution_count": 108,
     "metadata": {},
     "output_type": "execute_result"
    }
   ],
   "source": [
    "rolling_std.head(10)"
   ]
  },
  {
   "cell_type": "code",
   "execution_count": 110,
   "id": "8fb2e85f-b7f0-4e38-a5fe-7c196f8f992b",
   "metadata": {},
   "outputs": [],
   "source": [
    "rolling_std = rolling_std.dropna(subset=['Rolling_Std_Dev'])"
   ]
  },
  {
   "cell_type": "code",
   "execution_count": 111,
   "id": "e72499cd-e1ec-4f92-87ea-a0b22410ab2e",
   "metadata": {},
   "outputs": [
    {
     "data": {
      "text/html": [
       "<div>\n",
       "<style scoped>\n",
       "    .dataframe tbody tr th:only-of-type {\n",
       "        vertical-align: middle;\n",
       "    }\n",
       "\n",
       "    .dataframe tbody tr th {\n",
       "        vertical-align: top;\n",
       "    }\n",
       "\n",
       "    .dataframe thead th {\n",
       "        text-align: right;\n",
       "    }\n",
       "</style>\n",
       "<table border=\"1\" class=\"dataframe\">\n",
       "  <thead>\n",
       "    <tr style=\"text-align: right;\">\n",
       "      <th></th>\n",
       "      <th>Date</th>\n",
       "      <th>Close/Last</th>\n",
       "      <th>Volume</th>\n",
       "      <th>Open</th>\n",
       "      <th>High</th>\n",
       "      <th>Low</th>\n",
       "      <th>Rolling_Std_Dev</th>\n",
       "    </tr>\n",
       "  </thead>\n",
       "  <tbody>\n",
       "    <tr>\n",
       "      <th>6</th>\n",
       "      <td>2024-04-25</td>\n",
       "      <td>169.89</td>\n",
       "      <td>50558330</td>\n",
       "      <td>169.53</td>\n",
       "      <td>170.61</td>\n",
       "      <td>168.15</td>\n",
       "      <td>5.023946</td>\n",
       "    </tr>\n",
       "    <tr>\n",
       "      <th>7</th>\n",
       "      <td>2024-04-24</td>\n",
       "      <td>169.02</td>\n",
       "      <td>48251840</td>\n",
       "      <td>166.54</td>\n",
       "      <td>169.30</td>\n",
       "      <td>166.21</td>\n",
       "      <td>1.860294</td>\n",
       "    </tr>\n",
       "    <tr>\n",
       "      <th>8</th>\n",
       "      <td>2024-04-23</td>\n",
       "      <td>166.90</td>\n",
       "      <td>49537760</td>\n",
       "      <td>165.35</td>\n",
       "      <td>167.05</td>\n",
       "      <td>164.92</td>\n",
       "      <td>1.978168</td>\n",
       "    </tr>\n",
       "    <tr>\n",
       "      <th>9</th>\n",
       "      <td>2024-04-22</td>\n",
       "      <td>165.84</td>\n",
       "      <td>48116440</td>\n",
       "      <td>165.52</td>\n",
       "      <td>167.26</td>\n",
       "      <td>164.77</td>\n",
       "      <td>2.478049</td>\n",
       "    </tr>\n",
       "    <tr>\n",
       "      <th>10</th>\n",
       "      <td>2024-04-19</td>\n",
       "      <td>165.00</td>\n",
       "      <td>68149380</td>\n",
       "      <td>166.21</td>\n",
       "      <td>166.40</td>\n",
       "      <td>164.08</td>\n",
       "      <td>2.878881</td>\n",
       "    </tr>\n",
       "    <tr>\n",
       "      <th>11</th>\n",
       "      <td>2024-04-18</td>\n",
       "      <td>167.04</td>\n",
       "      <td>43122900</td>\n",
       "      <td>168.03</td>\n",
       "      <td>168.64</td>\n",
       "      <td>166.55</td>\n",
       "      <td>1.862140</td>\n",
       "    </tr>\n",
       "    <tr>\n",
       "      <th>12</th>\n",
       "      <td>2024-04-17</td>\n",
       "      <td>168.00</td>\n",
       "      <td>50901210</td>\n",
       "      <td>169.61</td>\n",
       "      <td>170.65</td>\n",
       "      <td>168.00</td>\n",
       "      <td>1.720270</td>\n",
       "    </tr>\n",
       "    <tr>\n",
       "      <th>13</th>\n",
       "      <td>2024-04-16</td>\n",
       "      <td>169.38</td>\n",
       "      <td>73711240</td>\n",
       "      <td>171.75</td>\n",
       "      <td>173.76</td>\n",
       "      <td>168.27</td>\n",
       "      <td>1.603282</td>\n",
       "    </tr>\n",
       "    <tr>\n",
       "      <th>14</th>\n",
       "      <td>2024-04-15</td>\n",
       "      <td>172.69</td>\n",
       "      <td>73531770</td>\n",
       "      <td>175.36</td>\n",
       "      <td>176.63</td>\n",
       "      <td>172.50</td>\n",
       "      <td>2.566086</td>\n",
       "    </tr>\n",
       "    <tr>\n",
       "      <th>15</th>\n",
       "      <td>2024-04-12</td>\n",
       "      <td>176.55</td>\n",
       "      <td>101670900</td>\n",
       "      <td>174.26</td>\n",
       "      <td>178.36</td>\n",
       "      <td>174.21</td>\n",
       "      <td>4.108300</td>\n",
       "    </tr>\n",
       "  </tbody>\n",
       "</table>\n",
       "</div>"
      ],
      "text/plain": [
       "         Date  Close/Last     Volume    Open    High     Low  Rolling_Std_Dev\n",
       "6  2024-04-25      169.89   50558330  169.53  170.61  168.15         5.023946\n",
       "7  2024-04-24      169.02   48251840  166.54  169.30  166.21         1.860294\n",
       "8  2024-04-23      166.90   49537760  165.35  167.05  164.92         1.978168\n",
       "9  2024-04-22      165.84   48116440  165.52  167.26  164.77         2.478049\n",
       "10 2024-04-19      165.00   68149380  166.21  166.40  164.08         2.878881\n",
       "11 2024-04-18      167.04   43122900  168.03  168.64  166.55         1.862140\n",
       "12 2024-04-17      168.00   50901210  169.61  170.65  168.00         1.720270\n",
       "13 2024-04-16      169.38   73711240  171.75  173.76  168.27         1.603282\n",
       "14 2024-04-15      172.69   73531770  175.36  176.63  172.50         2.566086\n",
       "15 2024-04-12      176.55  101670900  174.26  178.36  174.21         4.108300"
      ]
     },
     "execution_count": 111,
     "metadata": {},
     "output_type": "execute_result"
    }
   ],
   "source": [
    "rolling_std.head(10)"
   ]
  },
  {
   "cell_type": "code",
   "execution_count": 112,
   "id": "43d536b7-db49-411b-ba54-b061f2fc34b8",
   "metadata": {},
   "outputs": [
    {
     "data": {
      "text/html": [
       "<div>\n",
       "<style scoped>\n",
       "    .dataframe tbody tr th:only-of-type {\n",
       "        vertical-align: middle;\n",
       "    }\n",
       "\n",
       "    .dataframe tbody tr th {\n",
       "        vertical-align: top;\n",
       "    }\n",
       "\n",
       "    .dataframe thead th {\n",
       "        text-align: right;\n",
       "    }\n",
       "</style>\n",
       "<table border=\"1\" class=\"dataframe\">\n",
       "  <thead>\n",
       "    <tr style=\"text-align: right;\">\n",
       "      <th></th>\n",
       "      <th>Date</th>\n",
       "      <th>Close/Last</th>\n",
       "      <th>Volume</th>\n",
       "      <th>Open</th>\n",
       "      <th>High</th>\n",
       "      <th>Low</th>\n",
       "      <th>Rolling_Std_Dev</th>\n",
       "    </tr>\n",
       "  </thead>\n",
       "  <tbody>\n",
       "    <tr>\n",
       "      <th>58</th>\n",
       "      <td>2024-02-09</td>\n",
       "      <td>188.85</td>\n",
       "      <td>45155220</td>\n",
       "      <td>188.65</td>\n",
       "      <td>189.99</td>\n",
       "      <td>188.00</td>\n",
       "      <td>2.579417</td>\n",
       "    </tr>\n",
       "    <tr>\n",
       "      <th>59</th>\n",
       "      <td>2024-02-08</td>\n",
       "      <td>188.32</td>\n",
       "      <td>40962050</td>\n",
       "      <td>189.39</td>\n",
       "      <td>189.54</td>\n",
       "      <td>187.35</td>\n",
       "      <td>2.469760</td>\n",
       "    </tr>\n",
       "    <tr>\n",
       "      <th>60</th>\n",
       "      <td>2024-02-07</td>\n",
       "      <td>189.41</td>\n",
       "      <td>53438960</td>\n",
       "      <td>190.64</td>\n",
       "      <td>191.05</td>\n",
       "      <td>188.61</td>\n",
       "      <td>2.313552</td>\n",
       "    </tr>\n",
       "    <tr>\n",
       "      <th>61</th>\n",
       "      <td>2024-02-06</td>\n",
       "      <td>189.30</td>\n",
       "      <td>43490760</td>\n",
       "      <td>186.86</td>\n",
       "      <td>189.31</td>\n",
       "      <td>186.77</td>\n",
       "      <td>2.112203</td>\n",
       "    </tr>\n",
       "    <tr>\n",
       "      <th>62</th>\n",
       "      <td>2024-02-05</td>\n",
       "      <td>187.68</td>\n",
       "      <td>69668820</td>\n",
       "      <td>188.15</td>\n",
       "      <td>189.25</td>\n",
       "      <td>185.84</td>\n",
       "      <td>1.531914</td>\n",
       "    </tr>\n",
       "  </tbody>\n",
       "</table>\n",
       "</div>"
      ],
      "text/plain": [
       "         Date  Close/Last    Volume    Open    High     Low  Rolling_Std_Dev\n",
       "58 2024-02-09      188.85  45155220  188.65  189.99  188.00         2.579417\n",
       "59 2024-02-08      188.32  40962050  189.39  189.54  187.35         2.469760\n",
       "60 2024-02-07      189.41  53438960  190.64  191.05  188.61         2.313552\n",
       "61 2024-02-06      189.30  43490760  186.86  189.31  186.77         2.112203\n",
       "62 2024-02-05      187.68  69668820  188.15  189.25  185.84         1.531914"
      ]
     },
     "execution_count": 112,
     "metadata": {},
     "output_type": "execute_result"
    }
   ],
   "source": [
    "rolling_std.tail()"
   ]
  },
  {
   "cell_type": "code",
   "execution_count": 114,
   "id": "ba8b7a8d-7859-470b-b544-f3a29984ff81",
   "metadata": {},
   "outputs": [
    {
     "data": {
      "text/plain": [
       "(57, 7)"
      ]
     },
     "execution_count": 114,
     "metadata": {},
     "output_type": "execute_result"
    }
   ],
   "source": [
    "rolling_std.shape"
   ]
  },
  {
   "cell_type": "code",
   "execution_count": 126,
   "id": "82b91b5f-38b3-4d7a-a8a5-371125cc5932",
   "metadata": {},
   "outputs": [],
   "source": [
    "# apple_last_3m.shape"
   ]
  },
  {
   "cell_type": "code",
   "execution_count": 127,
   "id": "7d2537ab-9f57-4200-ad9e-d87e03604c4b",
   "metadata": {},
   "outputs": [],
   "source": [
    "# apple_last_3m.tail()"
   ]
  },
  {
   "cell_type": "code",
   "execution_count": 115,
   "id": "d4a17fa3-5bf6-4c5f-bba0-fbce7cd55ac9",
   "metadata": {},
   "outputs": [
    {
     "data": {
      "text/plain": [
       "Date               0\n",
       "Close/Last         0\n",
       "Volume             0\n",
       "Open               0\n",
       "High               0\n",
       "Low                0\n",
       "Rolling_Std_Dev    0\n",
       "dtype: int64"
      ]
     },
     "execution_count": 115,
     "metadata": {},
     "output_type": "execute_result"
    }
   ],
   "source": [
    "rolling_std.isnull().sum()"
   ]
  },
  {
   "cell_type": "code",
   "execution_count": 116,
   "id": "cb41c553-e41a-41b5-9b1f-6b322090a9d7",
   "metadata": {},
   "outputs": [
    {
     "data": {
      "image/png": "[encoded data removed]",
      "text/plain": [
       "<Figure size 1000x600 with 2 Axes>"
      ]
     },
     "metadata": {},
     "output_type": "display_data"
    }
   ],
   "source": [
    "# last_three_months_apple\n",
    "\n",
    "# Plot the closing price and rolling volatility on different y-axes\n",
    "fig, ax1 = plt.subplots(figsize=(10, 6))\n",
    "\n",
    "# Plot the closing price\n",
    "ax1.plot(rolling_std.index, rolling_std['Close/Last'], color='tab:blue', label='Closing Price', alpha=0.6)\n",
    "ax1.set_xlabel('Date (Days)')\n",
    "ax1.set_ylabel('Closing Price', color='tab:blue')\n",
    "ax1.tick_params(axis='y', labelcolor='tab:blue')\n",
    "\n",
    "# Create a second y-axis for the rolling volatility\n",
    "ax2 = ax1.twinx()\n",
    "ax2.plot(rolling_std.index, rolling_std['Rolling_Std_Dev'], color='tab:red', label='Rolling Volatility', alpha=0.6)\n",
    "ax2.set_ylabel('Rolling Weekly Volatility', color='tab:red')\n",
    "ax2.tick_params(axis='y', labelcolor='tab:red')\n",
    "\n",
    "# Title and layout adjustments\n",
    "plt.title('Apple Closing Price vs. Rolling Weekly Volatility (Last 3 Months)')\n",
    "fig.tight_layout()\n",
    "\n",
    "# Show the plot\n",
    "plt.show()"
   ]
  },
  {
   "cell_type": "markdown",
   "id": "e2cf3c78",
   "metadata": {},
   "source": [
    "## Export data\n",
    "\n",
    "Now that you have preprocessed your data, you should save it in new csv files so that it can be used in downstream tasks without having to redo all the preprocessing steps. \n",
    "\n",
    "Your task:\n",
    "* Use `pandas` to export all modified datasets back to new CSV files"
   ]
  },
  {
   "cell_type": "code",
   "execution_count": 124,
   "id": "02d23211",
   "metadata": {},
   "outputs": [],
   "source": [
    "import os\n",
    "\n",
    "# Define the folder path\n",
    "folder_path = \"modified_data\"\n",
    "\n",
    "# Create the folder if it doesn't exist\n",
    "if not os.path.exists(folder_path):\n",
    "    os.makedirs(folder_path)\n"
   ]
  },
  {
   "cell_type": "code",
   "execution_count": 125,
   "id": "ece713f6-477c-4261-9852-d64a1fac517c",
   "metadata": {},
   "outputs": [
    {
     "name": "stdout",
     "output_type": "stream",
     "text": [
      "data_analysis.ipynb \u001b[34mmodified_data\u001b[m\u001b[m       p1.zip\n"
     ]
    }
   ],
   "source": [
    "!ls"
   ]
  },
  {
   "cell_type": "code",
   "execution_count": 126,
   "id": "75103b88",
   "metadata": {},
   "outputs": [],
   "source": [
    "# List of DataFrames and corresponding file names\n",
    "dataframes = {\n",
    "    \"gdp.csv\": gdp,\n",
    "    \"apple.csv\": apple,\n",
    "    \"microsoft.csv\": microsoft,\n",
    "    \"consumer.csv\": consumer,\n",
    "    \"inflation_monthend.csv\": inflation,\n",
    "    \"inflation_monthend.csv\": rolling_std,\n",
    "    \"quarterly_inflation.csv\": quarterly_inflation,\n",
    "    \"weekly_inflation.csv\": weekly_inflation,\n",
    "    \"apple_last_three_months.csv\": apple_last_three_months,\n",
    "    \"apple_monthly.csv\": apple_monthly,\n",
    "    \"microsoft_monthly.csv\": microsoft_monthly,\n",
    "    \"merged_apple_microsoft.csv\": merged_apple_microsoft,\n",
    "    \"correlation_matrix.csv\": correlation_matrix,\n",
    "    \"rolling_std.csv\": rolling_std,  \n",
    "}\n",
    "\n",
    "# Save each DataFrame in the specified folder\n",
    "for filename, df in dataframes.items():\n",
    "    file_path = os.path.join(folder_path, filename)  # Create full file path\n",
    "    df.to_csv(file_path, index=False)  # Save without index\n"
   ]
  },
  {
   "cell_type": "code",
   "execution_count": 127,
   "id": "3d67d29c",
   "metadata": {},
   "outputs": [
    {
     "data": {
      "text/plain": [
       "['quarterly_inflation.csv',\n",
       " 'apple_monthly.csv',\n",
       " 'apple_last_three_months.csv',\n",
       " 'rolling_std.csv',\n",
       " 'apple.csv',\n",
       " 'microsoft_monthly.csv',\n",
       " 'microsoft.csv',\n",
       " 'weekly_inflation.csv',\n",
       " 'merged_apple_microsoft.csv',\n",
       " 'inflation_monthend.csv',\n",
       " 'consumer.csv',\n",
       " 'gdp.csv',\n",
       " 'correlation_matrix.csv']"
      ]
     },
     "execution_count": 127,
     "metadata": {},
     "output_type": "execute_result"
    }
   ],
   "source": [
    "# List files in the folder\n",
    "os.listdir(folder_path)"
   ]
  },
  {
   "cell_type": "code",
   "execution_count": null,
   "id": "0eacce73",
   "metadata": {},
   "outputs": [],
   "source": []
  }
 ],
 "metadata": {
  "kernelspec": {
   "display_name": "Python 3 (ipykernel)",
   "language": "python",
   "name": "python3"
  },
  "language_info": {
   "codemirror_mode": {
    "name": "ipython",
    "version": 3
   },
   "file_extension": ".py",
   "mimetype": "text/x-python",
   "name": "python",
   "nbconvert_exporter": "python",
   "pygments_lexer": "ipython3",
   "version": "3.10.13"
  }
 },
 "nbformat": 4,
 "nbformat_minor": 5
}
