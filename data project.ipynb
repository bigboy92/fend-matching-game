{
 "cells": [
  {
   "cell_type": "code",
   "execution_count": 1,
   "id": "56c3cb79-4787-400c-9b87-e2cfcc280bfd",
   "metadata": {},
   "outputs": [],
   "source": [
    "import pandas as pd\n",
    "import matplotlib.pyplot as plt\n",
    "import seaborn as sns"
   ]
  },
  {
   "cell_type": "code",
   "execution_count": 2,
   "id": "24c2ce8c-d1ab-4d73-95f5-b3a050f7b524",
   "metadata": {},
   "outputs": [],
   "source": [
    "import os"
   ]
  },
  {
   "cell_type": "code",
   "execution_count": 3,
   "id": "863d8460-60e6-48a2-87a4-dda557b3ea6f",
   "metadata": {
    "scrolled": true
   },
   "outputs": [
    {
     "name": "stdout",
     "output_type": "stream",
     "text": [
      "C:\\Users\\HP\\Desktop\\JP\n"
     ]
    }
   ],
   "source": [
    "print(os.getcwd())  # Shows the current working directory"
   ]
  },
  {
   "cell_type": "code",
   "execution_count": 4,
   "id": "141856e8-f4b0-4035-bf1c-96f9a4009b2f",
   "metadata": {},
   "outputs": [
    {
     "name": "stdout",
     "output_type": "stream",
     "text": [
      "Data successfully loaded:\n",
      "Apple Stock Data: (2517, 6)\n",
      "Microsoft Stock Data: (2517, 6)\n",
      "Inflation Data: (675, 2)\n",
      "GDP Data: (309, 2)\n",
      "CPI Data: (675, 2)\n"
     ]
    }
   ],
   "source": [
    "# Load all datasets once at the beginning of the notebook\n",
    "gdp_data = pd.read_csv('Project/GDP.csv')\n",
    "inflation_data = pd.read_csv('Project/inflation_monthly.csv')\n",
    "apple_stock_data = pd.read_csv('Project/apple_historical_data.csv')\n",
    "microsoft_stock_data = pd.read_csv('Project/microsoft_historical_data.csv')\n",
    "cpi_data = pd.read_csv('Project/consumer_price_index.csv')\n",
    "\n",
    "# Print shapes for verification\n",
    "print(\"Data successfully loaded:\")\n",
    "print(f\"Apple Stock Data: {apple_stock_data.shape}\")\n",
    "print(f\"Microsoft Stock Data: {microsoft_stock_data.shape}\")\n",
    "print(f\"Inflation Data: {inflation_data.shape}\")\n",
    "print(f\"GDP Data: {gdp_data.shape}\")\n",
    "print(f\"CPI Data: {cpi_data.shape}\")\n"
   ]
  },
  {
   "cell_type": "code",
   "execution_count": 5,
   "id": "108cf821-5349-45ea-9e4e-c2e8cf04142f",
   "metadata": {},
   "outputs": [
    {
     "name": "stdout",
     "output_type": "stream",
     "text": [
      "GDP Data:\n",
      "         DATE      GDP\n",
      "0  1947-01-01  243.164\n",
      "1  1947-04-01  245.968\n",
      "2  1947-07-01  249.585\n",
      "3  1947-10-01  259.745\n",
      "4  1948-01-01  265.742\n"
     ]
    }
   ],
   "source": [
    "# Check the first few rows of each dataset to verify correct import\n",
    "print(\"GDP Data:\")\n",
    "print(gdp_data.head())"
   ]
  },
  {
   "cell_type": "code",
   "execution_count": 6,
   "id": "a3238cde-aa17-491c-92f9-1b978811b276",
   "metadata": {},
   "outputs": [
    {
     "name": "stdout",
     "output_type": "stream",
     "text": [
      "\n",
      "Inflation Data:\n",
      "         DATE  CORESTICKM159SFRBATL\n",
      "0  1968-01-01              3.651861\n",
      "1  1968-02-01              3.673819\n",
      "2  1968-03-01              4.142164\n",
      "3  1968-04-01              4.155828\n",
      "4  1968-05-01              4.088245\n"
     ]
    }
   ],
   "source": [
    "print(\"\\nInflation Data:\")\n",
    "print(inflation_data.head())"
   ]
  },
  {
   "cell_type": "code",
   "execution_count": 7,
   "id": "a624fd28-4281-42b5-92ed-5c01d193d809",
   "metadata": {},
   "outputs": [
    {
     "name": "stdout",
     "output_type": "stream",
     "text": [
      "\n",
      "Apple Stock Data:\n",
      "        Date Close/Last     Volume      Open      High       Low\n",
      "0   5/3/2024   $183.38   163224100  $186.65   $187.00   $182.66 \n",
      "1   5/2/2024   $173.03    94214920  $172.51   $173.42   $170.89 \n",
      "2   5/1/2024   $169.30    50383150  $169.58   $172.71   $169.11 \n",
      "3  4/30/2024   $170.33    65934780  $173.33   $174.99   $170.00 \n",
      "4  4/29/2024   $173.50    68169420  $173.37   $176.03   $173.10 \n"
     ]
    }
   ],
   "source": [
    "print(\"\\nApple Stock Data:\")\n",
    "print(apple_stock_data.head())"
   ]
  },
  {
   "cell_type": "code",
   "execution_count": 8,
   "id": "4f9b6def-f5e5-4d71-adcd-86f07eca57e6",
   "metadata": {},
   "outputs": [
    {
     "name": "stdout",
     "output_type": "stream",
     "text": [
      "\n",
      "Microsoft Stock Data:\n",
      "         Date Close/Last    Volume     Open       High        Low\n",
      "0  05/03/2024    $406.66  17446720  $402.28    $407.15    $401.86\n",
      "1  05/02/2024    $397.84  17709360  $397.66    $399.93  $394.6515\n",
      "2  05/01/2024    $394.94  23562480  $392.61  $401.7199    $390.31\n",
      "3  04/30/2024    $389.33  28781370  $401.49    $402.16    $389.17\n",
      "4  04/29/2024    $402.25  19582090  $405.25    $406.32    $399.19\n"
     ]
    }
   ],
   "source": [
    "print(\"\\nMicrosoft Stock Data:\")\n",
    "print(microsoft_stock_data.head())"
   ]
  },
  {
   "cell_type": "code",
   "execution_count": 9,
   "id": "ac5c3449-16af-42c4-924b-d7000f3d2723",
   "metadata": {},
   "outputs": [
    {
     "name": "stdout",
     "output_type": "stream",
     "text": [
      "\n",
      "Consumer Price Index Data:\n",
      "         DATE  CORESTICKM159SFRBATL\n",
      "0  1968-01-01              3.651861\n",
      "1  1968-02-01              3.673819\n",
      "2  1968-03-01              4.142164\n",
      "3  1968-04-01              4.155828\n",
      "4  1968-05-01              4.088245\n"
     ]
    }
   ],
   "source": [
    "print(\"\\nConsumer Price Index Data:\")\n",
    "print(cpi_data.head())"
   ]
  },
  {
   "cell_type": "code",
   "execution_count": 10,
   "id": "2aaf79b7-223e-4169-a28f-2a39f789ffb8",
   "metadata": {},
   "outputs": [
    {
     "name": "stdout",
     "output_type": "stream",
     "text": [
      "\n",
      "GDP Data Info:\n",
      "<class 'pandas.core.frame.DataFrame'>\n",
      "RangeIndex: 309 entries, 0 to 308\n",
      "Data columns (total 2 columns):\n",
      " #   Column  Non-Null Count  Dtype  \n",
      "---  ------  --------------  -----  \n",
      " 0   DATE    309 non-null    object \n",
      " 1   GDP     309 non-null    float64\n",
      "dtypes: float64(1), object(1)\n",
      "memory usage: 5.0+ KB\n",
      "None\n"
     ]
    }
   ],
   "source": [
    "# Check the info and describe for each dataset to explore its structure\n",
    "print(\"\\nGDP Data Info:\")\n",
    "print(gdp_data.info())"
   ]
  },
  {
   "cell_type": "code",
   "execution_count": 11,
   "id": "204f0a12-e5e3-4972-b6a5-342d03113a1f",
   "metadata": {},
   "outputs": [
    {
     "name": "stdout",
     "output_type": "stream",
     "text": [
      "\n",
      "Inflation Data Info:\n",
      "<class 'pandas.core.frame.DataFrame'>\n",
      "RangeIndex: 675 entries, 0 to 674\n",
      "Data columns (total 2 columns):\n",
      " #   Column                Non-Null Count  Dtype  \n",
      "---  ------                --------------  -----  \n",
      " 0   DATE                  675 non-null    object \n",
      " 1   CORESTICKM159SFRBATL  675 non-null    float64\n",
      "dtypes: float64(1), object(1)\n",
      "memory usage: 10.7+ KB\n",
      "None\n"
     ]
    }
   ],
   "source": [
    "print(\"\\nInflation Data Info:\")\n",
    "print(inflation_data.info())"
   ]
  },
  {
   "cell_type": "code",
   "execution_count": 12,
   "id": "829303c2-f16a-4c07-bb49-20c0223db572",
   "metadata": {},
   "outputs": [
    {
     "name": "stdout",
     "output_type": "stream",
     "text": [
      "\n",
      "Apple Stock Data Info:\n",
      "<class 'pandas.core.frame.DataFrame'>\n",
      "RangeIndex: 2517 entries, 0 to 2516\n",
      "Data columns (total 6 columns):\n",
      " #   Column      Non-Null Count  Dtype \n",
      "---  ------      --------------  ----- \n",
      " 0   Date        2517 non-null   object\n",
      " 1   Close/Last  2514 non-null   object\n",
      " 2   Volume      2517 non-null   int64 \n",
      " 3   Open        2517 non-null   object\n",
      " 4   High        2517 non-null   object\n",
      " 5   Low         2517 non-null   object\n",
      "dtypes: int64(1), object(5)\n",
      "memory usage: 118.1+ KB\n",
      "None\n"
     ]
    }
   ],
   "source": [
    "print(\"\\nApple Stock Data Info:\")\n",
    "print(apple_stock_data.info())"
   ]
  },
  {
   "cell_type": "code",
   "execution_count": 13,
   "id": "cd865efc-743e-4df6-a2fc-e4b985f7a687",
   "metadata": {},
   "outputs": [
    {
     "name": "stdout",
     "output_type": "stream",
     "text": [
      "\n",
      "Microsoft Stock Data Info:\n",
      "<class 'pandas.core.frame.DataFrame'>\n",
      "RangeIndex: 2517 entries, 0 to 2516\n",
      "Data columns (total 6 columns):\n",
      " #   Column      Non-Null Count  Dtype \n",
      "---  ------      --------------  ----- \n",
      " 0   Date        2517 non-null   object\n",
      " 1   Close/Last  2517 non-null   object\n",
      " 2   Volume      2517 non-null   int64 \n",
      " 3   Open        2517 non-null   object\n",
      " 4   High        2517 non-null   object\n",
      " 5   Low         2517 non-null   object\n",
      "dtypes: int64(1), object(5)\n",
      "memory usage: 118.1+ KB\n",
      "None\n"
     ]
    }
   ],
   "source": [
    "print(\"\\nMicrosoft Stock Data Info:\")\n",
    "print(microsoft_stock_data.info())"
   ]
  },
  {
   "cell_type": "code",
   "execution_count": 14,
   "id": "e47c7c1b-4c6a-4bd0-8eb7-ae0b541e1fc9",
   "metadata": {},
   "outputs": [
    {
     "name": "stdout",
     "output_type": "stream",
     "text": [
      "\n",
      "Consumer Price Index Data Info:\n",
      "<class 'pandas.core.frame.DataFrame'>\n",
      "RangeIndex: 675 entries, 0 to 674\n",
      "Data columns (total 2 columns):\n",
      " #   Column                Non-Null Count  Dtype  \n",
      "---  ------                --------------  -----  \n",
      " 0   DATE                  675 non-null    object \n",
      " 1   CORESTICKM159SFRBATL  675 non-null    float64\n",
      "dtypes: float64(1), object(1)\n",
      "memory usage: 10.7+ KB\n",
      "None\n"
     ]
    }
   ],
   "source": [
    "print(\"\\nConsumer Price Index Data Info:\")\n",
    "print(cpi_data.info())"
   ]
  },
  {
   "cell_type": "code",
   "execution_count": 15,
   "id": "fbf15b68-5b44-48fa-a831-c2d7ae81ab09",
   "metadata": {},
   "outputs": [
    {
     "name": "stdout",
     "output_type": "stream",
     "text": [
      "Date          0\n",
      "Close/Last    3\n",
      "Volume        0\n",
      "Open          0\n",
      "High          0\n",
      "Low           0\n",
      "dtype: int64\n"
     ]
    }
   ],
   "source": [
    "print(apple_stock_data.isnull().sum())  # Show count of missing values per column"
   ]
  },
  {
   "cell_type": "code",
   "execution_count": 16,
   "id": "6eb0f5aa-8b68-4763-8172-1231a01d0726",
   "metadata": {},
   "outputs": [],
   "source": [
    "apple_stock_data = apple_stock_data.ffill()  # Forward fill missing values"
   ]
  },
  {
   "cell_type": "code",
   "execution_count": 17,
   "id": "5c4e3fc5-cdd4-435d-a976-1de91a61df02",
   "metadata": {},
   "outputs": [
    {
     "name": "stdout",
     "output_type": "stream",
     "text": [
      "Date          0\n",
      "Close/Last    0\n",
      "Volume        0\n",
      "Open          0\n",
      "High          0\n",
      "Low           0\n",
      "dtype: int64\n"
     ]
    }
   ],
   "source": [
    "print(apple_stock_data.isnull().sum())  # Should now show 0 missing values"
   ]
  },
  {
   "cell_type": "code",
   "execution_count": 18,
   "id": "5858eb30-4d88-4b54-9d21-0698f601c4c1",
   "metadata": {},
   "outputs": [],
   "source": [
    "def convert_dollar_columns_to_numeric(df, numeric_columns):\n",
    "    \"\"\"\n",
    "    Removes dollar signs ('$') from a list of columns in a given dataframe\n",
    "    and converts the columns to a numeric datatype.\n",
    "    \"\"\"\n",
    "    for col in numeric_columns:\n",
    "        df[col] = df[col].replace(r'[\\$,]', '', regex=True).astype(float)"
   ]
  },
  {
   "cell_type": "code",
   "execution_count": 19,
   "id": "8b01be7a-ac56-4579-95f5-de4c34d19c68",
   "metadata": {},
   "outputs": [
    {
     "name": "stdout",
     "output_type": "stream",
     "text": [
      "        Date  Close/Last     Volume    Open    High     Low\n",
      "0   5/3/2024      183.38  163224100  186.65  187.00  182.66\n",
      "1   5/2/2024      173.03   94214920  172.51  173.42  170.89\n",
      "2   5/1/2024      169.30   50383150  169.58  172.71  169.11\n",
      "3  4/30/2024      170.33   65934780  173.33  174.99  170.00\n",
      "4  4/29/2024      173.50   68169420  173.37  176.03  173.10\n"
     ]
    }
   ],
   "source": [
    "# Step 1: Forward-fill missing values\n",
    "apple_stock_data.ffill(inplace=True)\n",
    "\n",
    "# Step 2: Define the price columns with dollar signs\n",
    "price_cols = ['Close/Last', 'Open', 'High', 'Low']\n",
    "\n",
    "# Step 3: Apply the function to clean dollar signs\n",
    "convert_dollar_columns_to_numeric(apple_stock_data, price_cols)\n",
    "\n",
    "# Step 4: Print the first few rows to verify\n",
    "print(apple_stock_data.head())\n"
   ]
  },
  {
   "cell_type": "code",
   "execution_count": 20,
   "id": "c6d73005-c3e9-42f8-ab50-1cdaa8df748d",
   "metadata": {},
   "outputs": [],
   "source": [
    "# Verify that the columns have been correctly converted\n",
    "# Check the data types and first few rows for each dataset"
   ]
  },
  {
   "cell_type": "code",
   "execution_count": 21,
   "id": "5c7c1e72-be71-48bb-a414-a02f9b13b649",
   "metadata": {},
   "outputs": [
    {
     "name": "stdout",
     "output_type": "stream",
     "text": [
      "Apple Stock Data Info:\n",
      "<class 'pandas.core.frame.DataFrame'>\n",
      "RangeIndex: 2517 entries, 0 to 2516\n",
      "Data columns (total 6 columns):\n",
      " #   Column      Non-Null Count  Dtype  \n",
      "---  ------      --------------  -----  \n",
      " 0   Date        2517 non-null   object \n",
      " 1   Close/Last  2517 non-null   float64\n",
      " 2   Volume      2517 non-null   int64  \n",
      " 3   Open        2517 non-null   float64\n",
      " 4   High        2517 non-null   float64\n",
      " 5   Low         2517 non-null   float64\n",
      "dtypes: float64(4), int64(1), object(1)\n",
      "memory usage: 118.1+ KB\n",
      "None\n"
     ]
    }
   ],
   "source": [
    "print(\"Apple Stock Data Info:\")\n",
    "print(apple_stock_data.info())  # Check types and missing values"
   ]
  },
  {
   "cell_type": "code",
   "execution_count": 22,
   "id": "f6d25ff1-4538-40a5-bc67-535dd403036b",
   "metadata": {},
   "outputs": [
    {
     "name": "stdout",
     "output_type": "stream",
     "text": [
      "\n",
      "Microsoft Stock Data Info:\n",
      "<class 'pandas.core.frame.DataFrame'>\n",
      "RangeIndex: 2517 entries, 0 to 2516\n",
      "Data columns (total 6 columns):\n",
      " #   Column      Non-Null Count  Dtype \n",
      "---  ------      --------------  ----- \n",
      " 0   Date        2517 non-null   object\n",
      " 1   Close/Last  2517 non-null   object\n",
      " 2   Volume      2517 non-null   int64 \n",
      " 3   Open        2517 non-null   object\n",
      " 4   High        2517 non-null   object\n",
      " 5   Low         2517 non-null   object\n",
      "dtypes: int64(1), object(5)\n",
      "memory usage: 118.1+ KB\n",
      "None\n"
     ]
    }
   ],
   "source": [
    "print(\"\\nMicrosoft Stock Data Info:\")\n",
    "print(microsoft_stock_data.info())  # Check types and missing values"
   ]
  },
  {
   "cell_type": "code",
   "execution_count": 23,
   "id": "a5e245e4-2681-431c-baff-052ff516290f",
   "metadata": {},
   "outputs": [
    {
     "name": "stdout",
     "output_type": "stream",
     "text": [
      "\n",
      "GDP Data Info:\n",
      "<class 'pandas.core.frame.DataFrame'>\n",
      "RangeIndex: 309 entries, 0 to 308\n",
      "Data columns (total 2 columns):\n",
      " #   Column  Non-Null Count  Dtype  \n",
      "---  ------  --------------  -----  \n",
      " 0   DATE    309 non-null    object \n",
      " 1   GDP     309 non-null    float64\n",
      "dtypes: float64(1), object(1)\n",
      "memory usage: 5.0+ KB\n",
      "None\n"
     ]
    }
   ],
   "source": [
    "print(\"\\nGDP Data Info:\")\n",
    "print(gdp_data.info())  # Check types and missing values"
   ]
  },
  {
   "cell_type": "code",
   "execution_count": 24,
   "id": "7e1217bb-9961-47ad-9c43-b12ddf2f750d",
   "metadata": {},
   "outputs": [
    {
     "name": "stdout",
     "output_type": "stream",
     "text": [
      "\n",
      "Inflation Data Info:\n",
      "<class 'pandas.core.frame.DataFrame'>\n",
      "RangeIndex: 675 entries, 0 to 674\n",
      "Data columns (total 2 columns):\n",
      " #   Column                Non-Null Count  Dtype  \n",
      "---  ------                --------------  -----  \n",
      " 0   DATE                  675 non-null    object \n",
      " 1   CORESTICKM159SFRBATL  675 non-null    float64\n",
      "dtypes: float64(1), object(1)\n",
      "memory usage: 10.7+ KB\n",
      "None\n"
     ]
    }
   ],
   "source": [
    "print(\"\\nInflation Data Info:\")\n",
    "print(inflation_data.info())  # Check types and missing values\n"
   ]
  },
  {
   "cell_type": "code",
   "execution_count": 25,
   "id": "c2817f1e-0a46-4482-bca0-ed9e3663e323",
   "metadata": {},
   "outputs": [],
   "source": [
    "# Load the Consumer Price Index data\n",
    "consumer_price_index = pd.read_csv('Project/consumer_price_index.csv')"
   ]
  },
  {
   "cell_type": "code",
   "execution_count": 26,
   "id": "ecfd3156-79b5-4490-9676-62cf2e30c47d",
   "metadata": {},
   "outputs": [
    {
     "name": "stdout",
     "output_type": "stream",
     "text": [
      "\n",
      "Consumer Price Index Data Head:\n",
      "         DATE  CORESTICKM159SFRBATL\n",
      "0  1968-01-01              3.651861\n",
      "1  1968-02-01              3.673819\n",
      "2  1968-03-01              4.142164\n",
      "3  1968-04-01              4.155828\n",
      "4  1968-05-01              4.088245\n"
     ]
    }
   ],
   "source": [
    "# Check the first few rows of the dataset to confirm it loaded correctly\n",
    "print(\"\\nConsumer Price Index Data Head:\")\n",
    "print(consumer_price_index.head())"
   ]
  },
  {
   "cell_type": "code",
   "execution_count": 27,
   "id": "f3ceef9b-2fee-4c25-aabc-dc0e5979e526",
   "metadata": {},
   "outputs": [
    {
     "name": "stdout",
     "output_type": "stream",
     "text": [
      "\n",
      "Consumer Price Index Data Info:\n",
      "<class 'pandas.core.frame.DataFrame'>\n",
      "RangeIndex: 675 entries, 0 to 674\n",
      "Data columns (total 2 columns):\n",
      " #   Column                Non-Null Count  Dtype  \n",
      "---  ------                --------------  -----  \n",
      " 0   DATE                  675 non-null    object \n",
      " 1   CORESTICKM159SFRBATL  675 non-null    float64\n",
      "dtypes: float64(1), object(1)\n",
      "memory usage: 10.7+ KB\n",
      "None\n"
     ]
    }
   ],
   "source": [
    "# Check the data info (types and missing values)\n",
    "print(\"\\nConsumer Price Index Data Info:\")\n",
    "print(consumer_price_index.info())  # Check types and missing values"
   ]
  },
  {
   "cell_type": "code",
   "execution_count": 28,
   "id": "77b07c49-6f47-480c-9f14-c3b095d0cc1e",
   "metadata": {},
   "outputs": [
    {
     "name": "stdout",
     "output_type": "stream",
     "text": [
      "\n",
      "Consumer Price Index Data Info:\n",
      "<class 'pandas.core.frame.DataFrame'>\n",
      "RangeIndex: 675 entries, 0 to 674\n",
      "Data columns (total 2 columns):\n",
      " #   Column                Non-Null Count  Dtype  \n",
      "---  ------                --------------  -----  \n",
      " 0   DATE                  675 non-null    object \n",
      " 1   CORESTICKM159SFRBATL  675 non-null    float64\n",
      "dtypes: float64(1), object(1)\n",
      "memory usage: 10.7+ KB\n",
      "None\n"
     ]
    }
   ],
   "source": [
    "print(\"\\nConsumer Price Index Data Info:\")\n",
    "print(consumer_price_index.info())  # Check types and missing values"
   ]
  },
  {
   "cell_type": "code",
   "execution_count": 29,
   "id": "26158fa0-9f35-4820-97fc-e290cf89477a",
   "metadata": {},
   "outputs": [
    {
     "name": "stdout",
     "output_type": "stream",
     "text": [
      "\n",
      "Apple Stock Data Head:\n",
      "        Date  Close/Last     Volume    Open    High     Low\n",
      "0   5/3/2024      183.38  163224100  186.65  187.00  182.66\n",
      "1   5/2/2024      173.03   94214920  172.51  173.42  170.89\n",
      "2   5/1/2024      169.30   50383150  169.58  172.71  169.11\n",
      "3  4/30/2024      170.33   65934780  173.33  174.99  170.00\n",
      "4  4/29/2024      173.50   68169420  173.37  176.03  173.10\n"
     ]
    }
   ],
   "source": [
    "# Display the first few rows to confirm changes\n",
    "print(\"\\nApple Stock Data Head:\")\n",
    "print(apple_stock_data.head())"
   ]
  },
  {
   "cell_type": "code",
   "execution_count": 30,
   "id": "1d0d7fe7-b1c3-4781-9f5f-b5a2fa072954",
   "metadata": {},
   "outputs": [
    {
     "name": "stdout",
     "output_type": "stream",
     "text": [
      "\n",
      "Microsoft Stock Data Head:\n",
      "         Date Close/Last    Volume     Open       High        Low\n",
      "0  05/03/2024    $406.66  17446720  $402.28    $407.15    $401.86\n",
      "1  05/02/2024    $397.84  17709360  $397.66    $399.93  $394.6515\n",
      "2  05/01/2024    $394.94  23562480  $392.61  $401.7199    $390.31\n",
      "3  04/30/2024    $389.33  28781370  $401.49    $402.16    $389.17\n",
      "4  04/29/2024    $402.25  19582090  $405.25    $406.32    $399.19\n"
     ]
    }
   ],
   "source": [
    "print(\"\\nMicrosoft Stock Data Head:\")\n",
    "print(microsoft_stock_data.head())"
   ]
  },
  {
   "cell_type": "code",
   "execution_count": 31,
   "id": "2dd1dc2d-6b1e-482e-a354-fcfca9f32fde",
   "metadata": {},
   "outputs": [],
   "source": [
    "# Rename the 'DATE' column to 'Date' for consistency\n",
    "inflation_data.rename(columns={'DATE': 'Date'}, inplace=True)"
   ]
  },
  {
   "cell_type": "code",
   "execution_count": 32,
   "id": "8e91d3f7-cfa6-4324-aa5f-f231d939cb30",
   "metadata": {},
   "outputs": [],
   "source": [
    "# Ensure the 'Date' column is in datetime format\n",
    "inflation_data['Date'] = pd.to_datetime(inflation_data['Date'])"
   ]
  },
  {
   "cell_type": "code",
   "execution_count": 33,
   "id": "3bac3f95-b58b-4537-844a-07029d73cca0",
   "metadata": {},
   "outputs": [],
   "source": [
    "# Align the inflation date to the month-end using pandas MonthEnd\n",
    "inflation_data['Date'] = inflation_data['Date'] + pd.tseries.offsets.MonthEnd(0)"
   ]
  },
  {
   "cell_type": "code",
   "execution_count": 34,
   "id": "d55f47cc-de1f-4fb2-adaf-0126d288f664",
   "metadata": {},
   "outputs": [
    {
     "name": "stdout",
     "output_type": "stream",
     "text": [
      "\n",
      "Inflation Data (Aligned to Month-End):\n",
      "        Date  CORESTICKM159SFRBATL\n",
      "0 1968-01-31              3.651861\n",
      "1 1968-02-29              3.673819\n",
      "2 1968-03-31              4.142164\n",
      "3 1968-04-30              4.155828\n",
      "4 1968-05-31              4.088245\n"
     ]
    }
   ],
   "source": [
    "# Verify the changes by checking the first few rows\n",
    "print(\"\\nInflation Data (Aligned to Month-End):\")\n",
    "print(inflation_data.head())"
   ]
  },
  {
   "cell_type": "code",
   "execution_count": 35,
   "id": "32196827-8b4f-4b3b-bb03-0405a5a18b94",
   "metadata": {},
   "outputs": [
    {
     "name": "stdout",
     "output_type": "stream",
     "text": [
      "\n",
      "Inflation Data Info:\n",
      "<class 'pandas.core.frame.DataFrame'>\n",
      "RangeIndex: 675 entries, 0 to 674\n",
      "Data columns (total 2 columns):\n",
      " #   Column                Non-Null Count  Dtype         \n",
      "---  ------                --------------  -----         \n",
      " 0   Date                  675 non-null    datetime64[ns]\n",
      " 1   CORESTICKM159SFRBATL  675 non-null    float64       \n",
      "dtypes: datetime64[ns](1), float64(1)\n",
      "memory usage: 10.7 KB\n",
      "None\n"
     ]
    }
   ],
   "source": [
    "# Check the info to verify the date format\n",
    "print(\"\\nInflation Data Info:\")\n",
    "print(inflation_data.info())"
   ]
  },
  {
   "cell_type": "code",
   "execution_count": 36,
   "id": "46ddd164-cab7-41bb-a99d-690117656b94",
   "metadata": {},
   "outputs": [],
   "source": [
    "# Set the 'Date' column as the index for resampling operations\n",
    "inflation_data.set_index('Date', inplace=True)\n"
   ]
  },
  {
   "cell_type": "code",
   "execution_count": 37,
   "id": "31858c2c-1c89-40a1-9f6a-6ab61a0ae318",
   "metadata": {},
   "outputs": [
    {
     "data": {
      "text/html": [
       "<div>\n",
       "<style scoped>\n",
       "    .dataframe tbody tr th:only-of-type {\n",
       "        vertical-align: middle;\n",
       "    }\n",
       "\n",
       "    .dataframe tbody tr th {\n",
       "        vertical-align: top;\n",
       "    }\n",
       "\n",
       "    .dataframe thead th {\n",
       "        text-align: right;\n",
       "    }\n",
       "</style>\n",
       "<table border=\"1\" class=\"dataframe\">\n",
       "  <thead>\n",
       "    <tr style=\"text-align: right;\">\n",
       "      <th></th>\n",
       "      <th>CORESTICKM159SFRBATL</th>\n",
       "    </tr>\n",
       "    <tr>\n",
       "      <th>Date</th>\n",
       "      <th></th>\n",
       "    </tr>\n",
       "  </thead>\n",
       "  <tbody>\n",
       "    <tr>\n",
       "      <th>1968-01-31</th>\n",
       "      <td>3.651861</td>\n",
       "    </tr>\n",
       "    <tr>\n",
       "      <th>1968-02-29</th>\n",
       "      <td>3.673819</td>\n",
       "    </tr>\n",
       "    <tr>\n",
       "      <th>1968-03-31</th>\n",
       "      <td>4.142164</td>\n",
       "    </tr>\n",
       "    <tr>\n",
       "      <th>1968-04-30</th>\n",
       "      <td>4.155828</td>\n",
       "    </tr>\n",
       "    <tr>\n",
       "      <th>1968-05-31</th>\n",
       "      <td>4.088245</td>\n",
       "    </tr>\n",
       "  </tbody>\n",
       "</table>\n",
       "</div>"
      ],
      "text/plain": [
       "            CORESTICKM159SFRBATL\n",
       "Date                            \n",
       "1968-01-31              3.651861\n",
       "1968-02-29              3.673819\n",
       "1968-03-31              4.142164\n",
       "1968-04-30              4.155828\n",
       "1968-05-31              4.088245"
      ]
     },
     "execution_count": 37,
     "metadata": {},
     "output_type": "execute_result"
    }
   ],
   "source": [
    "inflation_data.head()"
   ]
  },
  {
   "cell_type": "code",
   "execution_count": 38,
   "id": "507e7228-d092-4c28-9a12-da5bfa416e88",
   "metadata": {},
   "outputs": [],
   "source": [
    "# Upsample: Resample the data to weekly frequency and interpolate the missing values\n",
    "inflation_data.index = pd.to_datetime(inflation_data.index)  # Convert index to datetime\n",
    "inflation_weekly = inflation_data.resample('W')  # Resample to weekly frequency\n",
    "inflation_weekly_interpolated = inflation_weekly.interpolate(method='linear')  # Interpolate missing values"
   ]
  },
  {
   "cell_type": "code",
   "execution_count": 39,
   "id": "410838af-b0f8-4389-a991-8b86faca3cef",
   "metadata": {},
   "outputs": [],
   "source": [
    "# Downsample: Resample the data to quarterly frequency using the mean (with 'QE' instead of 'Q')\n",
    "inflation_quarterly = inflation_data.resample('QE').mean()  # Resample to quarterly frequency"
   ]
  },
  {
   "cell_type": "code",
   "execution_count": 40,
   "id": "da6b1c0f-e810-448e-b60a-700373c74aa0",
   "metadata": {},
   "outputs": [
    {
     "name": "stdout",
     "output_type": "stream",
     "text": [
      "\n",
      "Weekly Inflation Data (Interpolated):\n",
      "            CORESTICKM159SFRBATL\n",
      "Date                            \n",
      "1968-02-04                   NaN\n",
      "1968-02-11                   NaN\n",
      "1968-02-18                   NaN\n",
      "1968-02-25                   NaN\n",
      "1968-03-03                   NaN\n"
     ]
    }
   ],
   "source": [
    "# Display the results\n",
    "print(\"\\nWeekly Inflation Data (Interpolated):\")\n",
    "print(inflation_weekly_interpolated.head())"
   ]
  },
  {
   "cell_type": "code",
   "execution_count": 41,
   "id": "df06e9a2-54eb-4031-90a7-3e1daaa36d32",
   "metadata": {},
   "outputs": [
    {
     "name": "stdout",
     "output_type": "stream",
     "text": [
      "\n",
      "Quarterly Inflation Data:\n",
      "            CORESTICKM159SFRBATL\n",
      "Date                            \n",
      "1968-03-31              3.822615\n",
      "1968-06-30              4.263214\n",
      "1968-09-30              4.882643\n",
      "1968-12-31              5.429443\n",
      "1969-03-31              5.873770\n"
     ]
    }
   ],
   "source": [
    "print(\"\\nQuarterly Inflation Data:\")\n",
    "print(inflation_quarterly.head())"
   ]
  },
  {
   "cell_type": "code",
   "execution_count": 42,
   "id": "eb008c4e-0af9-41af-868e-8a8b1964aecb",
   "metadata": {},
   "outputs": [
    {
     "name": "stdout",
     "output_type": "stream",
     "text": [
      "Index(['DATE', 'GDP'], dtype='object')\n"
     ]
    }
   ],
   "source": [
    "print(gdp_data.columns)\n"
   ]
  },
  {
   "cell_type": "code",
   "execution_count": 43,
   "id": "c9e8e577-1b62-438c-b224-ce77d8e6edb5",
   "metadata": {},
   "outputs": [
    {
     "name": "stdout",
     "output_type": "stream",
     "text": [
      "         DATE      GDP  GDP_standardized\n",
      "0  1947-01-01  243.164          0.000000\n",
      "1  1947-04-01  245.968          0.000100\n",
      "2  1947-07-01  249.585          0.000229\n",
      "3  1947-10-01  259.745          0.000591\n",
      "4  1948-01-01  265.742          0.000805\n"
     ]
    }
   ],
   "source": [
    "# Step 1: Check if the GDP column exists\n",
    "if 'GDP' in gdp_data.columns:\n",
    "    gdp_column = gdp_data['GDP']\n",
    "\n",
    "    # Step 2: Perform Min-Max Standardization for GDP\n",
    "    standardized_data = (gdp_column - gdp_column.min()) / (gdp_column.max() - gdp_column.min())\n",
    "\n",
    "    # Step 3: Assign standardized GDP values to a new column\n",
    "    gdp_data['GDP_standardized'] = standardized_data\n",
    "else:\n",
    "    # Raise an error if the column is missing\n",
    "    raise KeyError(\"'GDP' column is missing. Please check your dataset.\")\n",
    "\n",
    "# Step 4: Verify the results\n",
    "print(gdp_data.head())\n",
    "\n",
    "\n"
   ]
  },
  {
   "cell_type": "code",
   "execution_count": 44,
   "id": "0799cfe8-fea3-4904-a962-f5f0ed95f95e",
   "metadata": {},
   "outputs": [],
   "source": [
    " # Assign the standardized GDP values to a new column\n",
    "if 'CORESTICKM159SFRBATL' in inflation_data.columns:\n",
    "    inflation_data['GDP_standardized'] = standardized_data\n",
    "else:\n",
    "    # Raise an error if the column is missing\n",
    "    raise KeyError(\"'CORESTICKM159SFRBATL' column (GDP data) is missing. Please check your dataset.\")"
   ]
  },
  {
   "cell_type": "code",
   "execution_count": 45,
   "id": "25b1f824-b391-4eee-84a9-926945e2a5c3",
   "metadata": {},
   "outputs": [
    {
     "name": "stdout",
     "output_type": "stream",
     "text": [
      "            CORESTICKM159SFRBATL  GDP_standardized\n",
      "Date                                              \n",
      "1968-01-31              3.651861               NaN\n",
      "1968-02-29              3.673819               NaN\n",
      "1968-03-31              4.142164               NaN\n",
      "1968-04-30              4.155828               NaN\n",
      "1968-05-31              4.088245               NaN\n"
     ]
    }
   ],
   "source": [
    "\n",
    "print(inflation_data.head())  # Display the first few rows"
   ]
  },
  {
   "cell_type": "code",
   "execution_count": 46,
   "id": "6cbaebed-c8bb-48df-9c68-1c4c14da6079",
   "metadata": {},
   "outputs": [
    {
     "name": "stdout",
     "output_type": "stream",
     "text": [
      "Index(['CORESTICKM159SFRBATL', 'GDP_standardized'], dtype='object')\n"
     ]
    }
   ],
   "source": [
    "# Print all column names to see what's available\n",
    "print(inflation_data.columns)"
   ]
  },
  {
   "cell_type": "code",
   "execution_count": 47,
   "id": "c2d28a14-34b6-4f9c-86bf-94ecb4c7cb08",
   "metadata": {},
   "outputs": [],
   "source": [
    "# Convert price columns to numeric (Ensure correct dataframe is used)\n",
    "convert_dollar_columns_to_numeric(apple_stock_data, price_cols) \n",
    "\n"
   ]
  },
  {
   "cell_type": "code",
   "execution_count": 48,
   "id": "e1fdd860-9aca-4f24-ac21-60ae0b063fdf",
   "metadata": {},
   "outputs": [],
   "source": [
    "# Convert Date column to datetime and set as index\n",
    "apple_stock_data['Date'] = pd.to_datetime(apple_stock_data['Date'])\n",
    "apple_stock_data.set_index('Date', inplace=True)\n"
   ]
  },
  {
   "cell_type": "code",
   "execution_count": 49,
   "id": "2df5e348-05a3-49ba-92b5-085ac959184f",
   "metadata": {},
   "outputs": [
    {
     "name": "stdout",
     "output_type": "stream",
     "text": [
      "Max date in dataset: 2024-05-03 00:00:00\n"
     ]
    }
   ],
   "source": [
    "# Get max date in timeseries\n",
    "max_date = apple_stock_data.index.max()\n",
    "print(f\"Max date in dataset: {max_date}\")\n"
   ]
  },
  {
   "cell_type": "code",
   "execution_count": 50,
   "id": "1e50c1d1-b760-4dde-a982-54ef82efce14",
   "metadata": {
    "scrolled": true
   },
   "outputs": [
    {
     "name": "stdout",
     "output_type": "stream",
     "text": [
      "Start date for analysis: 2024-02-03 00:00:00\n"
     ]
    }
   ],
   "source": [
    "# Calculate start date (3 months before max date)\n",
    "start_date = max_date - pd.DateOffset(months=3)\n",
    "print(f\"Start date for analysis: {start_date}\")\n"
   ]
  },
  {
   "cell_type": "code",
   "execution_count": 51,
   "id": "ec4be8e6-0837-4c9a-8ce7-c9f0aba5f58c",
   "metadata": {},
   "outputs": [],
   "source": [
    "# Get last three months of Apple stock data\n",
    "last_3_months = apple_stock_data[apple_stock_data.index >= start_date]"
   ]
  },
  {
   "cell_type": "code",
   "execution_count": 52,
   "id": "aa1ed9c6-ca09-4a23-9d61-3525b931a2cb",
   "metadata": {},
   "outputs": [
    {
     "name": "stdout",
     "output_type": "stream",
     "text": [
      "Index(['Close/Last', 'Volume', 'Open', 'High', 'Low'], dtype='object')\n"
     ]
    }
   ],
   "source": [
    "# Check the column names to see the structure of your dataset\n",
    "print(apple_stock_data.columns)"
   ]
  },
  {
   "cell_type": "code",
   "execution_count": 53,
   "id": "8d9c441e-f9a3-4a7d-ae81-4ad10577c00f",
   "metadata": {},
   "outputs": [
    {
     "data": {
      "image/png": "[encoded data removed]",
      "text/plain": [
       "<Figure size 1200x600 with 1 Axes>"
      ]
     },
     "metadata": {},
     "output_type": "display_data"
    }
   ],
   "source": [
    "# Plot time series comparison\n",
    "plt.figure(figsize=(12, 6))\n",
    "plt.plot(last_3_months.index, last_3_months['Open'], \n",
    "         label='Open Price', color='blue')\n",
    "plt.plot(last_3_months.index, last_3_months['Close/Last'], \n",
    "         label='Close Price', color='red')\n",
    "\n",
    "plt.title('Apple Stock: Open vs Close Price (Last 3 Months)')\n",
    "plt.xlabel('Date')\n",
    "plt.ylabel('Price ($)')\n",
    "plt.legend()\n",
    "plt.grid(True)\n",
    "plt.xticks(rotation=45)\n",
    "plt.tight_layout()\n",
    "plt.show()"
   ]
  },
  {
   "cell_type": "code",
   "execution_count": 54,
   "id": "5ff6c85b-e0af-4ce4-b95a-648d866f2302",
   "metadata": {},
   "outputs": [
    {
     "data": {
      "image/png": "[encoded data removed]",
      "text/plain": [
       "<Figure size 1000x600 with 1 Axes>"
      ]
     },
     "metadata": {},
     "output_type": "display_data"
    },
    {
     "name": "stdout",
     "output_type": "stream",
     "text": [
      "\n",
      "Closing Price Statistics for Last 3 Months:\n",
      "count     63.000000\n",
      "mean     175.158095\n",
      "std        6.926534\n",
      "min      165.000000\n",
      "25%      169.660000\n",
      "50%      172.750000\n",
      "75%      181.490000\n",
      "max      189.410000\n",
      "Name: Close/Last, dtype: float64\n"
     ]
    }
   ],
   "source": [
    "# Plot the histogram of closing prices using last_3_months data\n",
    "plt.figure(figsize=(10, 6))\n",
    "plt.hist(last_3_months['Close/Last'], bins=20, \n",
    "         color='blue', alpha=0.7, edgecolor='black')\n",
    "\n",
    "plt.title('Distribution of Apple Stock Closing Prices (Last 3 Months)')\n",
    "plt.xlabel('Closing Price ($)')\n",
    "plt.ylabel('Frequency')\n",
    "plt.grid(True)\n",
    "plt.tight_layout()\n",
    "plt.show()\n",
    "\n",
    "# Print summary statistics\n",
    "print(\"\\nClosing Price Statistics for Last 3 Months:\")\n",
    "print(last_3_months['Close/Last'].describe())"
   ]
  },
  {
   "cell_type": "code",
   "execution_count": 55,
   "id": "6bd2b885-8845-4979-a1f4-c5beb8c1ec17",
   "metadata": {},
   "outputs": [
    {
     "name": "stdout",
     "output_type": "stream",
     "text": [
      "\n",
      "Closing Price Statistics for Last 3 Months:\n",
      "count     63.000000\n",
      "mean     175.158095\n",
      "std        6.926534\n",
      "min      165.000000\n",
      "25%      169.660000\n",
      "50%      172.750000\n",
      "75%      181.490000\n",
      "max      189.410000\n",
      "Name: Close/Last, dtype: float64\n"
     ]
    }
   ],
   "source": [
    "# Print summary statistics\n",
    "print(\"\\nClosing Price Statistics for Last 3 Months:\")\n",
    "print(last_3_months['Close/Last'].describe())"
   ]
  },
  {
   "cell_type": "code",
   "execution_count": 56,
   "id": "bb89328c-9aa9-4a18-ada2-a72eae731208",
   "metadata": {},
   "outputs": [
    {
     "name": "stdout",
     "output_type": "stream",
     "text": [
      "After fresh load:\n",
      "Microsoft columns: Index(['Date', 'Close/Last', 'Volume', 'Open', 'High', 'Low'], dtype='object')\n",
      "First few rows of Microsoft data:\n",
      "         Date Close/Last    Volume     Open       High        Low\n",
      "0  05/03/2024    $406.66  17446720  $402.28    $407.15    $401.86\n",
      "1  05/02/2024    $397.84  17709360  $397.66    $399.93  $394.6515\n",
      "2  05/01/2024    $394.94  23562480  $392.61  $401.7199    $390.31\n",
      "3  04/30/2024    $389.33  28781370  $401.49    $402.16    $389.17\n",
      "4  04/29/2024    $402.25  19582090  $405.25    $406.32    $399.19\n",
      "\n",
      "Inflation columns: Index(['CORESTICKM159SFRBATL', 'GDP_standardized'], dtype='object')\n",
      "First few rows of Inflation data:\n",
      "            CORESTICKM159SFRBATL  GDP_standardized\n",
      "Date                                              \n",
      "1968-01-31              3.651861               NaN\n",
      "1968-02-29              3.673819               NaN\n",
      "1968-03-31              4.142164               NaN\n",
      "1968-04-30              4.155828               NaN\n",
      "1968-05-31              4.088245               NaN\n"
     ]
    }
   ],
   "source": [
    "print(\"After fresh load:\")\n",
    "print(\"Microsoft columns:\", microsoft_stock_data.columns)\n",
    "print(\"First few rows of Microsoft data:\")\n",
    "print(microsoft_stock_data.head())\n",
    "print(\"\\nInflation columns:\", inflation_data.columns)\n",
    "print(\"First few rows of Inflation data:\")\n",
    "print(inflation_data.head())"
   ]
  },
  {
   "cell_type": "code",
   "execution_count": 57,
   "id": "13c640b0-98a6-4f7d-812d-15ad062c4cfb",
   "metadata": {},
   "outputs": [],
   "source": [
    "# Ensure column names are stripped of extra spaces\n",
    "microsoft_stock_data.columns = microsoft_stock_data.columns.str.strip()\n",
    "apple_stock_data.columns = apple_stock_data.columns.str.strip()\n",
    "inflation_data.columns = inflation_data.columns.str.strip()"
   ]
  },
  {
   "cell_type": "code",
   "execution_count": 58,
   "id": "9a2a6f41-7b99-4af9-bd5b-54e05b723235",
   "metadata": {},
   "outputs": [
    {
     "name": "stdout",
     "output_type": "stream",
     "text": [
      "Microsoft Columns: Index(['Date', 'Close/Last', 'Volume', 'Open', 'High', 'Low'], dtype='object')\n",
      "Apple Columns: Index(['Close/Last', 'Volume', 'Open', 'High', 'Low'], dtype='object')\n",
      "Inflation Columns: Index(['CORESTICKM159SFRBATL', 'GDP_standardized'], dtype='object')\n"
     ]
    }
   ],
   "source": [
    "# Check available columns\n",
    "print(\"Microsoft Columns:\", microsoft_stock_data.columns)\n",
    "print(\"Apple Columns:\", apple_stock_data.columns)\n",
    "print(\"Inflation Columns:\", inflation_data.columns)\n",
    "\n",
    "# Adjust column names if necessary\n",
    "if 'CORESTICKM159SFRBATL' in inflation_data.columns:\n",
    "    inflation_data.rename(columns={'CORESTICKM159SFRBATL': 'Inflation'}, inplace=True)\n",
    "\n"
   ]
  },
  {
   "cell_type": "code",
   "execution_count": 59,
   "id": "cb58611f-57ea-406a-b4a3-a137c8100776",
   "metadata": {},
   "outputs": [
    {
     "name": "stdout",
     "output_type": "stream",
     "text": [
      "Index(['Inflation', 'GDP_standardized'], dtype='object')\n"
     ]
    }
   ],
   "source": [
    "# Print columns to verify\n",
    "print(inflation_data.columns)"
   ]
  },
  {
   "cell_type": "code",
   "execution_count": 60,
   "id": "fa75e197-b907-4784-993f-fee2ed97ce0f",
   "metadata": {},
   "outputs": [],
   "source": [
    "# Ensure 'Date' column exists\n",
    "if 'Date' not in microsoft_stock_data.columns:\n",
    "    microsoft_stock_data.insert(0, 'Date', pd.date_range(start='1/1/2000', periods=len(microsoft_stock_data), freq='B'))\n",
    "if 'Date' not in apple_stock_data.columns:\n",
    "    apple_stock_data.insert(0, 'Date', pd.date_range(start='1/1/2000', periods=len(apple_stock_data), freq='B'))\n",
    "if 'Date' not in inflation_data.columns:\n",
    "    inflation_data.insert(0, 'Date', pd.date_range(start='1/1/2000', periods=len(inflation_data), freq='ME'))\n"
   ]
  },
  {
   "cell_type": "code",
   "execution_count": 61,
   "id": "d2f83c86-c61d-4095-8a8f-df45dd9d3749",
   "metadata": {},
   "outputs": [],
   "source": [
    "# Convert Date columns to datetime\n",
    "microsoft_stock_data['Date'] = pd.to_datetime(microsoft_stock_data['Date'], errors='coerce')\n",
    "apple_stock_data['Date'] = pd.to_datetime(apple_stock_data['Date'], errors='coerce')\n",
    "inflation_data['Date'] = pd.to_datetime(inflation_data['Date'], errors='coerce')\n"
   ]
  },
  {
   "cell_type": "code",
   "execution_count": 62,
   "id": "3846d600-9773-410e-bb3b-cfa23920e8a6",
   "metadata": {
    "scrolled": true
   },
   "outputs": [],
   "source": [
    "# Convert stock prices to float\n",
    "microsoft_stock_data['Close/Last'] = microsoft_stock_data['Close/Last'].replace({r'\\$': '', r',': ''}, regex=True).astype(float)\n",
    "apple_stock_data['Close/Last'] = apple_stock_data['Close/Last'].replace({r'\\$': '', r',': ''}, regex=True).astype(float)"
   ]
  },
  {
   "cell_type": "code",
   "execution_count": 63,
   "id": "5b892dec-47ba-4f8b-ba52-b0316dfd2682",
   "metadata": {},
   "outputs": [],
   "source": [
    "# Sort chronologically (oldest to newest)\n",
    "microsoft_stock_data = microsoft_stock_data.sort_index()\n",
    "apple_stock_data = apple_stock_data.sort_index()\n",
    "\n",
    "# Calculate returns\n",
    "microsoft_stock_data['Returns'] = microsoft_stock_data['Close/Last'].pct_change(fill_method=None)\n",
    "apple_stock_data['Returns'] = apple_stock_data['Close/Last'].pct_change(fill_method=None)"
   ]
  },
  {
   "cell_type": "code",
   "execution_count": 64,
   "id": "fe2a0541-146c-4774-8a80-05c7deb0fdbf",
   "metadata": {},
   "outputs": [],
   "source": [
    "# Clean the price data first - using proper escape sequence for $\n",
    "microsoft_stock_data['Close/Last'] = microsoft_stock_data['Close/Last'].replace('[\\\\$,]', '', regex=True).astype(float)\n",
    "apple_stock_data['Close/Last'] = apple_stock_data['Close/Last'].replace('[\\\\$,]', '', regex=True).astype(float)\n",
    "\n",
    "# Then sort chronologically (oldest to newest)\n",
    "microsoft_stock_data = microsoft_stock_data.sort_index()\n",
    "apple_stock_data = apple_stock_data.sort_index()\n",
    "\n",
    "# Finally calculate returns\n",
    "microsoft_stock_data['Returns'] = microsoft_stock_data['Close/Last'].pct_change(fill_method=None)\n",
    "apple_stock_data['Returns'] = apple_stock_data['Close/Last'].pct_change(fill_method=None)\n"
   ]
  },
  {
   "cell_type": "code",
   "execution_count": 65,
   "id": "31f8bfa6-21f8-483a-a3f6-4e45ada2ead5",
   "metadata": {},
   "outputs": [],
   "source": [
    "# Sort chronologically (oldest to newest) before calculating returns\n",
    "microsoft_stock_data = microsoft_stock_data.sort_index()\n",
    "apple_stock_data = apple_stock_data.sort_index()\n",
    "\n",
    "# Then calculate returns\n",
    "microsoft_stock_data['Returns'] = microsoft_stock_data['Close/Last'].pct_change(fill_method=None)\n",
    "apple_stock_data['Returns'] = apple_stock_data['Close/Last'].pct_change(fill_method=None)"
   ]
  },
  {
   "cell_type": "code",
   "execution_count": 66,
   "id": "ebb064f5-2dc1-4d75-a8d5-68924bfafc2b",
   "metadata": {},
   "outputs": [],
   "source": [
    "import numpy as np"
   ]
  },
  {
   "cell_type": "code",
   "execution_count": 54,
   "id": "7cbffefe-92f3-468f-95dd-530612ac4a09",
   "metadata": {},
   "outputs": [
    {
     "name": "stdout",
     "output_type": "stream",
     "text": [
      "Inflation Data Columns: Index(['CORESTICKM159SFRBATL', 'GDP_standardized'], dtype='object')\n",
      "\n",
      "Example of why geometric returns matter:\n",
      "Two days of returns: +25%, -20%\n",
      "Arithmetic average: 2.5%\n",
      "Geometric return: 0.0%\n"
     ]
    }
   ],
   "source": [
    "def calculate_monthly_returns(data, returns_column):\n",
    "    \"\"\"\n",
    "    Calculate proper monthly returns from daily data using geometric compounding.\n",
    "    \"\"\"\n",
    "    df = data.copy()\n",
    "    if not isinstance(df.index, pd.DatetimeIndex):\n",
    "        df.index = pd.to_datetime(df.index)\n",
    "    \n",
    "    df = df.sort_index()\n",
    "    \n",
    "    # Use 'ME' (Month-End) instead of 'M' to avoid deprecation warning\n",
    "    monthly_returns = df[returns_column].resample('ME').apply(\n",
    "        lambda monthly_group: np.prod(1 + monthly_group) - 1\n",
    "    )\n",
    "\n",
    "    return monthly_returns\n",
    "\n",
    "# Ensure 'Close/Last' is numeric\n",
    "apple_stock_data['Close/Last'] = pd.to_numeric(apple_stock_data['Close/Last'], errors='coerce')\n",
    "microsoft_stock_data['Close/Last'] = pd.to_numeric(microsoft_stock_data['Close/Last'], errors='coerce')\n",
    "\n",
    "# Ensure 'Returns' exists before resampling\n",
    "if 'Returns' not in apple_stock_data.columns:\n",
    "    apple_stock_data['Returns'] = apple_stock_data['Close/Last'].pct_change(fill_method=None)\n",
    "\n",
    "if 'Returns' not in microsoft_stock_data.columns:\n",
    "    microsoft_stock_data['Returns'] = microsoft_stock_data['Close/Last'].pct_change(fill_method=None)\n",
    "\n",
    "# Check the inflation data columns before using\n",
    "print(\"Inflation Data Columns:\", inflation_data.columns)\n",
    "\n",
    "# Find correct inflation column\n",
    "correct_inflation_column = \"Inflation\" if \"Inflation\" in inflation_data.columns else inflation_data.columns[-1]\n",
    "\n",
    "# Calculate monthly returns for Microsoft stock\n",
    "microsoft_monthly = calculate_monthly_returns(\n",
    "    microsoft_stock_data,\n",
    "    returns_column='Returns'\n",
    ")\n",
    "\n",
    "# Calculate monthly returns for Apple stock\n",
    "apple_monthly = calculate_monthly_returns(\n",
    "    apple_stock_data,\n",
    "    returns_column='Returns'\n",
    ")\n",
    "\n",
    "# Calculate monthly returns for inflation data using the correct column\n",
    "inflation_monthly = calculate_monthly_returns(\n",
    "    inflation_data,\n",
    "    returns_column=correct_inflation_column\n",
    ")\n",
    "\n",
    "# Example of why geometric returns matter\n",
    "print(\"\\nExample of why geometric returns matter:\")\n",
    "example_returns = pd.Series([0.25, -0.20])  \n",
    "arithmetic_mean = example_returns.mean()\n",
    "geometric_return = np.prod(1 + example_returns) - 1\n",
    "\n",
    "print(f\"Two days of returns: +25%, -20%\")\n",
    "print(f\"Arithmetic average: {arithmetic_mean:.1%}\")\n",
    "print(f\"Geometric return: {geometric_return:.1%}\")\n",
    "\n"
   ]
  },
  {
   "cell_type": "code",
   "execution_count": 114,
   "id": "13bab69f-2f82-4869-875c-4ed54346f9f1",
   "metadata": {},
   "outputs": [],
   "source": [
    "# Convert 'Date' column to datetime format\n",
    "microsoft_stock_data[\"Date\"] = pd.to_datetime(microsoft_stock_data[\"Date\"], errors=\"coerce\")\n"
   ]
  },
  {
   "cell_type": "code",
   "execution_count": 115,
   "id": "7770ac27-a58a-4abb-8e50-0622bcde90e0",
   "metadata": {},
   "outputs": [
    {
     "name": "stdout",
     "output_type": "stream",
     "text": [
      "✅ Microsoft Stock Data Processed:\n",
      "           Close/Last    Volume     Open       High        Low\n",
      "Date                                                          \n",
      "2024-05-03    $406.66  17446720  $402.28    $407.15    $401.86\n",
      "2024-05-02    $397.84  17709360  $397.66    $399.93  $394.6515\n",
      "2024-05-01    $394.94  23562480  $392.61  $401.7199    $390.31\n",
      "2024-04-30    $389.33  28781370  $401.49    $402.16    $389.17\n",
      "2024-04-29    $402.25  19582090  $405.25    $406.32    $399.19\n",
      "Microsoft Data Date Range: 2014-05-06 00:00:00 to 2024-05-03 00:00:00\n"
     ]
    }
   ],
   "source": [
    "# Set 'Date' as index\n",
    "microsoft_stock_data.set_index(\"Date\", inplace=True)\n",
    "\n",
    "# Verify changes\n",
    "print(\"✅ Microsoft Stock Data Processed:\")\n",
    "print(microsoft_stock_data.head())  # Show first 5 rows\n",
    "print(\"Microsoft Data Date Range:\", microsoft_stock_data.index.min(), \"to\", microsoft_stock_data.index.max())\n",
    "\n",
    "\n"
   ]
  },
  {
   "cell_type": "code",
   "execution_count": 117,
   "id": "ca00586d-ef11-4ea0-a70c-30d24b492937",
   "metadata": {},
   "outputs": [
    {
     "name": "stdout",
     "output_type": "stream",
     "text": [
      "✅ Microsoft Stock Data AFTER Cleaning:\n",
      "            Close/Last    Volume    Open      High       Low\n",
      "Date                                                        \n",
      "2024-05-03      406.66  17446720  402.28  407.1500  401.8600\n",
      "2024-05-02      397.84  17709360  397.66  399.9300  394.6515\n",
      "2024-05-01      394.94  23562480  392.61  401.7199  390.3100\n",
      "2024-04-30      389.33  28781370  401.49  402.1600  389.1700\n",
      "2024-04-29      402.25  19582090  405.25  406.3200  399.1900\n"
     ]
    }
   ],
   "source": [
    "# Define price columns that need cleaning\n",
    "price_cols = [\"Close/Last\", \"Open\", \"High\", \"Low\"]\n",
    "\n",
    "# Remove \"$\" and convert columns to numeric\n",
    "for col in price_cols:\n",
    "    microsoft_stock_data[col] = microsoft_stock_data[col].replace(r\"[\\$,]\", \"\", regex=True).astype(float)\n",
    "\n",
    "# ✅ Verify Changes\n",
    "print(\"✅ Microsoft Stock Data AFTER Cleaning:\")\n",
    "print(microsoft_stock_data.head())\n"
   ]
  },
  {
   "cell_type": "code",
   "execution_count": 118,
   "id": "1d357fab-c743-4f94-b84b-129d751db7cd",
   "metadata": {},
   "outputs": [
    {
     "name": "stdout",
     "output_type": "stream",
     "text": [
      "✅ Microsoft Monthly Returns:\n",
      "Date\n",
      "2014-05-31   -0.042412\n",
      "2014-06-30   -0.025794\n",
      "2014-07-31   -0.023098\n",
      "2014-08-31   -0.049457\n",
      "2014-09-30   -0.017647\n",
      "Freq: ME, Name: Returns, dtype: float64\n"
     ]
    }
   ],
   "source": [
    "# ✅ Calculate daily returns\n",
    "microsoft_stock_data[\"Returns\"] = microsoft_stock_data[\"Close/Last\"].pct_change()\n",
    "\n",
    "# ✅ Resample to monthly using \"ME\" (Month-End)\n",
    "microsoft_monthly = microsoft_stock_data[\"Returns\"].resample(\"ME\").apply(lambda x: (1 + x).prod() - 1)\n",
    "\n",
    "# ✅ Verify Microsoft monthly returns\n",
    "print(\"✅ Microsoft Monthly Returns:\")\n",
    "print(microsoft_monthly.head())\n",
    "\n"
   ]
  },
  {
   "cell_type": "code",
   "execution_count": 107,
   "id": "9f210e58-d53f-47ed-9293-6ef7aa4bff70",
   "metadata": {},
   "outputs": [
    {
     "name": "stdout",
     "output_type": "stream",
     "text": [
      "\n",
      "Final Returns DataFrame:\n",
      "             Apple_Returns  Microsoft_Returns  Inflation_Change\n",
      "Date                                                          \n",
      "2014-05-31      -0.054343          -0.042412          0.050251\n",
      "2014-06-30      -0.039778          -0.025794          0.007147\n",
      "2014-07-31      -0.027050          -0.023098         -0.020724\n",
      "2014-08-31      -0.069686          -0.049457         -0.066387\n",
      "2014-09-30       0.041532          -0.017647         -0.004516\n"
     ]
    }
   ],
   "source": [
    "# Merge the three datasets into one DataFrame\n",
    "returns_df = pd.DataFrame({\n",
    "    \"Apple_Returns\": apple_monthly,\n",
    "    \"Microsoft_Returns\": microsoft_monthly,\n",
    "    \"Inflation_Change\": inflation_monthly\n",
    "}).dropna()  # Drop rows where any value is missing\n",
    "\n",
    "# Verify merged data\n",
    "print(\"\\nFinal Returns DataFrame:\\n\", returns_df.head())\n",
    "\n"
   ]
  },
  {
   "cell_type": "code",
   "execution_count": 91,
   "id": "0dec67d7-b18f-489c-9e80-ede336f42c2b",
   "metadata": {},
   "outputs": [
    {
     "name": "stdout",
     "output_type": "stream",
     "text": [
      "\n",
      "Correlation Matrix:\n",
      "                    Apple_Returns  Microsoft_Returns  Inflation_Change\n",
      "Apple_Returns           1.000000           0.643499          0.039748\n",
      "Microsoft_Returns       0.643499           1.000000          0.061581\n",
      "Inflation_Change        0.039748           0.061581          1.000000\n"
     ]
    }
   ],
   "source": [
    "# Compute correlation matrix\n",
    "correlation_matrix = returns_df.corr()\n",
    "print(\"\\nCorrelation Matrix:\\n\", correlation_matrix)\n"
   ]
  },
  {
   "cell_type": "code",
   "execution_count": 92,
   "id": "e38d1fd7-e264-4cd1-81ad-836c5563ecee",
   "metadata": {},
   "outputs": [
    {
     "data": {
      "image/png": "[encoded data removed]",
      "text/plain": [
       "<Figure size 800x600 with 2 Axes>"
      ]
     },
     "metadata": {},
     "output_type": "display_data"
    }
   ],
   "source": [
    "# Merge the dataframes into a single DataFrame\n",
    "returns_df = pd.DataFrame({\n",
    "    \"Apple_Returns\": apple_monthly,\n",
    "    \"Microsoft_Returns\": microsoft_monthly,\n",
    "    \"Inflation_Change\": inflation_monthly\n",
    "}).dropna()\n",
    "\n",
    "# Check if data is valid\n",
    "if not returns_df.empty:\n",
    "    plt.figure(figsize=(8, 6))\n",
    "    sns.heatmap(returns_df.corr(), annot=True, cmap=\"coolwarm\", fmt=\".2f\", linewidths=0.5)\n",
    "    plt.title(\"Correlation Between Apple, Microsoft Returns and Inflation\", fontsize=14)\n",
    "    plt.xticks(rotation=45)\n",
    "    plt.yticks(rotation=0)\n",
    "    plt.show()\n",
    "else:\n",
    "    print(\"❌ No overlapping data found. Check the date ranges.\")\n",
    "\n"
   ]
  },
  {
   "cell_type": "code",
   "execution_count": 73,
   "id": "900416c9-29c5-4c22-a57d-9a6446400c6b",
   "metadata": {},
   "outputs": [
    {
     "name": "stdout",
     "output_type": "stream",
     "text": [
      "Checking Apple Stock Data Before Returns Calculation:\n",
      "            Close/Last     Volume    Open    High     Low   Returns\n",
      "Date                                                               \n",
      "2024-05-03      183.38  163224100  186.65  187.00  182.66       NaN\n",
      "2024-05-02      173.03   94214920  172.51  173.42  170.89 -0.056440\n",
      "2024-05-01      169.30   50383150  169.58  172.71  169.11 -0.021557\n",
      "2024-04-30      170.33   65934780  173.33  174.99  170.00  0.006084\n",
      "2024-04-29      173.50   68169420  173.37  176.03  173.10  0.018611\n",
      "Apple Stock Date Range: 2014-05-06 00:00:00 to 2024-05-03 00:00:00\n"
     ]
    }
   ],
   "source": [
    "print(\"Checking Apple Stock Data Before Returns Calculation:\")\n",
    "print(apple_stock_data.head())  # Print first few rows to confirm data exists\n",
    "print(f\"Apple Stock Date Range: {apple_stock_data.index.min()} to {apple_stock_data.index.max()}\")\n",
    "\n"
   ]
  },
  {
   "cell_type": "code",
   "execution_count": 111,
   "id": "ec56bd8b-d296-4236-bef6-316121ce5473",
   "metadata": {},
   "outputs": [
    {
     "name": "stdout",
     "output_type": "stream",
     "text": [
      "Valid Overlapping Date Range: 2014-05-31 00:00:00 to 2009-08-31 00:00:00\n"
     ]
    }
   ],
   "source": [
    "# Identify the latest start date and earliest end date for overlap\n",
    "common_start_date = max(apple_monthly.index.min(), microsoft_monthly.index.min(), inflation_monthly.index.min())\n",
    "common_end_date = min(apple_monthly.index.max(), microsoft_monthly.index.max(), inflation_monthly.index.max())\n",
    "\n",
    "print(f\"Valid Overlapping Date Range: {common_start_date} to {common_end_date}\")\n"
   ]
  },
  {
   "cell_type": "code",
   "execution_count": 94,
   "id": "0ecc6277-2b2c-48bd-b01c-2b89a2b20bca",
   "metadata": {},
   "outputs": [
    {
     "name": "stdout",
     "output_type": "stream",
     "text": [
      "Returns DataFrame:\n",
      "Empty DataFrame\n",
      "Columns: [Apple_Returns, Microsoft_Returns, Inflation_Change]\n",
      "Index: []\n",
      "Shape of Returns DataFrame: (0, 3)\n"
     ]
    }
   ],
   "source": [
    "# Align datasets by common dates\n",
    "common_index = apple_monthly.index.intersection(microsoft_monthly.index).intersection(inflation_monthly.index)\n",
    "\n",
    "# Create a new DataFrame with common indices\n",
    "returns_df = pd.DataFrame({\n",
    "    'Apple_Returns': apple_monthly.reindex(common_index),\n",
    "    'Microsoft_Returns': microsoft_monthly.reindex(common_index),\n",
    "    'Inflation_Change': inflation_monthly.reindex(common_index)\n",
    "}).dropna()\n",
    "\n",
    "# Verify the DataFrame\n",
    "print(\"Returns DataFrame:\")\n",
    "print(returns_df.head())\n",
    "print(f\"Shape of Returns DataFrame: {returns_df.shape}\")\n",
    "\n"
   ]
  },
  {
   "cell_type": "code",
   "execution_count": 78,
   "id": "91846cda-9ddb-4a05-a5c9-e4947b9ab5a3",
   "metadata": {},
   "outputs": [],
   "source": [
    "# Define window size (5 days for weekly)\n",
    "window_size = 5"
   ]
  },
  {
   "cell_type": "code",
   "execution_count": 84,
   "id": "456defe1-054e-46dd-b43f-05cb09c034ce",
   "metadata": {},
   "outputs": [],
   "source": [
    "# Calculate rolling volatility on full Apple stock dataset\n",
    "rolling_vol = apple_stock_data['Close/Last'].pct_change().rolling(window=window_size).std()"
   ]
  },
  {
   "cell_type": "code",
   "execution_count": 83,
   "id": "5c005b82-5a38-4fab-ad87-dde790bcbccc",
   "metadata": {},
   "outputs": [],
   "source": [
    "# Get last 3 months data after calculating rolling metrics\n",
    "last_3m = rolling_vol[rolling_vol.index >= (rolling_vol.index.max() - pd.DateOffset(months=3))]"
   ]
  },
  {
   "cell_type": "code",
   "execution_count": 85,
   "id": "e083c317-5e3a-4b1b-82f6-3f902fb15780",
   "metadata": {},
   "outputs": [],
   "source": [
    "# First, calculate rolling volatility on the EXISTING Apple stock dataset\n",
    "rolling_vol = apple_stock_data['Close/Last'].pct_change().rolling(window=window_size).std()\n",
    "\n",
    "# Then get last 3 months from that rolling volatility\n",
    "last_3m_vol = rolling_vol[rolling_vol.index >= (rolling_vol.index.max() - pd.DateOffset(months=3))]\n"
   ]
  },
  {
   "cell_type": "code",
   "execution_count": 86,
   "id": "2e3bb930-857a-4a9c-9324-dbfdc9d9b8de",
   "metadata": {},
   "outputs": [
    {
     "data": {
      "image/png": "[encoded data removed]",
      "text/plain": [
       "<Figure size 1200x600 with 2 Axes>"
      ]
     },
     "metadata": {},
     "output_type": "display_data"
    }
   ],
   "source": [
    "# Create plot with dual axes\n",
    "fig, ax1 = plt.subplots(figsize=(12, 6))\n",
    "ax2 = ax1.twinx()\n",
    "\n",
    "# Plot closing price - using last_3m directly since it's already the price Series\n",
    "ax1.plot(last_3m.index, last_3m, color='blue', label='Closing Price')\n",
    "ax1.set_xlabel('Date')\n",
    "ax1.set_ylabel('Price ($)', color='blue')\n",
    "ax1.tick_params(axis='y', labelcolor='blue')\n",
    "\n",
    "# Plot volatility - using last_3m_vol to match the same time period\n",
    "ax2.plot(last_3m_vol.index, last_3m_vol, color='red', label='Volatility')\n",
    "ax2.set_ylabel('Rolling Volatility', color='red')\n",
    "ax2.tick_params(axis='y', labelcolor='red')\n",
    "\n",
    "# Add title and legend\n",
    "plt.title('Apple Stock Price and Weekly Rolling Volatility')\n",
    "lines1, labels1 = ax1.get_legend_handles_labels()\n",
    "lines2, labels2 = ax2.get_legend_handles_labels()\n",
    "ax1.legend(lines1 + lines2, labels1 + labels2, loc='upper left')\n",
    "\n",
    "plt.tight_layout()\n",
    "plt.show()"
   ]
  },
  {
   "cell_type": "code",
   "execution_count": 120,
   "id": "3a5a5999-f96c-481d-b3ff-dd2e26affe8d",
   "metadata": {},
   "outputs": [
    {
     "name": "stdout",
     "output_type": "stream",
     "text": [
      "Weekly & Quarterly DataFrames Created (Fixed 'Q' Warning)!\n"
     ]
    }
   ],
   "source": [
    "# Resample stock data to weekly and quarterly frequency\n",
    "apple_weekly = apple_stock_data.resample('W').last()\n",
    "microsoft_weekly = microsoft_stock_data.resample('W').last()\n",
    "\n",
    "#  Use 'QE' instead of 'Q' for quarterly data\n",
    "apple_quarterly = apple_stock_data.resample('QE').last()\n",
    "microsoft_quarterly = microsoft_stock_data.resample('QE').last()\n",
    "\n",
    "#  Print confirmation\n",
    "print(\"Weekly & Quarterly DataFrames Created (Fixed 'Q' Warning)!\")\n",
    "\n"
   ]
  },
  {
   "cell_type": "code",
   "execution_count": 125,
   "id": "1b97c200-75a4-4d6a-b8a9-305e491b75d3",
   "metadata": {},
   "outputs": [
    {
     "name": "stdout",
     "output_type": "stream",
     "text": [
      "Weekly & Quarterly CSV Files Exported Successfully!\n"
     ]
    }
   ],
   "source": [
    "#  Export weekly and quarterly data\n",
    "apple_weekly.to_csv('Project/processed_apple_weekly.csv')\n",
    "microsoft_weekly.to_csv('Project/processed_microsoft_weekly.csv')\n",
    "\n",
    "apple_quarterly.to_csv('Project/processed_apple_quarterly.csv')\n",
    "microsoft_quarterly.to_csv('Project/processed_microsoft_quarterly.csv')\n",
    "\n",
    "print(\"Weekly & Quarterly CSV Files Exported Successfully!\")\n"
   ]
  },
  {
   "cell_type": "code",
   "execution_count": 123,
   "id": "d6734256-26b8-4e49-9925-e5ee3c3da391",
   "metadata": {},
   "outputs": [
    {
     "name": "stdout",
     "output_type": "stream",
     "text": [
      "All processed data has been exported!\n"
     ]
    }
   ],
   "source": [
    "#  Export daily processed stock data\n",
    "microsoft_stock_data.to_csv('Project/processed_microsoft_stock.csv')\n",
    "apple_stock_data.to_csv('Project/processed_apple_stock.csv')\n",
    "\n",
    "#  Export weekly processed stock data\n",
    "apple_weekly.to_csv('Project/processed_apple_weekly.csv')\n",
    "microsoft_weekly.to_csv('Project/processed_microsoft_weekly.csv')\n",
    "\n",
    "#  Export quarterly processed stock data\n",
    "apple_quarterly.to_csv('Project/processed_apple_quarterly.csv')\n",
    "microsoft_quarterly.to_csv('Project/processed_microsoft_quarterly.csv')\n",
    "\n",
    "#  Export preprocessed economic data\n",
    "inflation_data.to_csv('Project/processed_inflation.csv')\n",
    "gdp_data.to_csv('Project/processed_gdp.csv')\n",
    "\n",
    "#  Export returns data\n",
    "returns_df.to_csv('Project/stock_returns.csv')\n",
    "\n",
    "#  Export merged correlation data if applicable\n",
    "if 'correlation_df' in globals():\n",
    "    correlation_df.to_csv('Project/correlation_analysis.csv')\n",
    "\n",
    "#  Ensure all transformations and intermediate dataframes are exported\n",
    "print(\"All processed data has been exported!\")\n"
   ]
  },
  {
   "cell_type": "code",
   "execution_count": 126,
   "id": "dce19c7a-ea1f-41a2-b203-ca086cff6257",
   "metadata": {},
   "outputs": [
    {
     "name": "stdout",
     "output_type": "stream",
     "text": [
      "Files exported successfully to Project folder.\n"
     ]
    }
   ],
   "source": [
    "print(\"Files exported successfully to Project folder.\")"
   ]
  },
  {
   "cell_type": "code",
   "execution_count": null,
   "id": "8767a13f-8bf4-4a39-85e3-91b159bb2005",
   "metadata": {},
   "outputs": [],
   "source": []
  },
  {
   "cell_type": "code",
   "execution_count": null,
   "id": "9a27812a-ab27-40a9-a968-ec043033885b",
   "metadata": {},
   "outputs": [],
   "source": []
  },
  {
   "cell_type": "code",
   "execution_count": null,
   "id": "4e38e242-b711-4252-9fb5-039bd319d4e7",
   "metadata": {},
   "outputs": [],
   "source": []
  }
 ],
 "metadata": {
  "kernelspec": {
   "display_name": "Python 3 (ipykernel)",
   "language": "python",
   "name": "python3"
  },
  "language_info": {
   "codemirror_mode": {
    "name": "ipython",
    "version": 3
   },
   "file_extension": ".py",
   "mimetype": "text/x-python",
   "name": "python",
   "nbconvert_exporter": "python",
   "pygments_lexer": "ipython3",
   "version": "3.12.9"
  }
 },
 "nbformat": 4,
 "nbformat_minor": 5
}
