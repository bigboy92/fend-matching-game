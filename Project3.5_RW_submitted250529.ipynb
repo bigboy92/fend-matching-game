{
 "cells": [
  {
   "cell_type": "markdown",
   "id": "81942eb1",
   "metadata": {},
   "source": [
    "# Course 2 Project: ML Pipeline for Feature Engineering"
   ]
  },
  {
   "cell_type": "markdown",
   "id": "4f241775",
   "metadata": {},
   "source": [
    "## Instructions\n",
    "\n",
    "In this project, you'll use data related to microeconomic indicators and historical stock prices to explore the data engineering pipline. You'll get to practice:\n",
    "\n",
    "* Data ingestion \n",
    "* Data cleaning\n",
    "* Data imputation\n",
    "* Exploratory data analysis (EDA) through charts and graphs"
   ]
  },
  {
   "cell_type": "markdown",
   "id": "1f12b277",
   "metadata": {},
   "source": [
    "## Packages\n",
    "\n",
    "You'll use `pandas` and `matplotlib`, which were covered in the course material, to import, clean, and plot data. They have been installed in this workspace for you. If you're working locally and you installed Jupyter using Anaconda, these packages will already be installed. "
   ]
  },
  {
   "cell_type": "code",
   "execution_count": 1,
   "id": "882241d4",
   "metadata": {},
   "outputs": [],
   "source": [
    "import pandas as pd\n",
    "import matplotlib.pyplot as plt\n",
    "import seaborn as sns\n",
    "from sklearn.preprocessing import StandardScaler"
   ]
  },
  {
   "cell_type": "markdown",
   "id": "f9fcd352",
   "metadata": {},
   "source": [
    "## Load data\n",
    "\n",
    "The first step in a data engineering pipeline for machine learning is to ingest the data that will be used. For this project, data is hosted on a public GitHub repo. \n",
    "\n",
    "### Your tasks\n",
    "* Import data from the provided [GitHub repo](https://github.com/udacity/CD13649-Project/tree/main/Project) using `pandas`. For your convenience, the data files (CSVs) are also present in the current workspace at the path **CD13649-Project/Project/**. Here are the data files to import: \n",
    "  1. GDP (**GDP.csv**)\n",
    "  2. Inflation (**inflation_monthly.csv**)\n",
    "  3. Apple stock prices (**apple_historical_data.csv**)\n",
    "  4. Microsoft stock prices (**microsoft_historical_data.csv**)\n",
    "  5. Consumer price index (**consumer_price_index.csv**)\n",
    "\n",
    "\n",
    "\n",
    "* Verify that the data has been imported correctly into `pandas` dataframes. Use methods like `head()` and `info()`\n",
    "\n",
    "\n",
    "* You may need to change column names to make them easier to work with\n",
    "\n",
    "\n",
    "* You may need to cast datetime data to the `datetime` format using `pandas` `to_datetime()` method\n",
    "\n"
   ]
  },
  {
   "cell_type": "code",
   "execution_count": 2,
   "id": "bd119016",
   "metadata": {},
   "outputs": [],
   "source": [
    "# Load historical GDP data\n",
    "#url_GDP = \"https://github.com/udacity/CD13649-Project/blob/main/Project/GDP.csv\"\n",
    "#above url doesn't return a csv. Why?\n",
    "url_GDP = 'https://raw.githubusercontent.com/udacity/CD13649-Project/main/Project/GDP.csv'\n",
    "df_gdp = pd.read_csv(url_GDP, parse_dates=[0])\n",
    "df_gdp = df_gdp.rename(columns={df_gdp.columns[0]: 'date', df_gdp.columns[1] : 'gdp'})\n",
    "df_gdp.set_index('date', inplace=True)\n"
   ]
  },
  {
   "cell_type": "code",
   "execution_count": 3,
   "id": "cf36d7c0",
   "metadata": {},
   "outputs": [
    {
     "data": {
      "text/html": [
       "<div>\n",
       "<style scoped>\n",
       "    .dataframe tbody tr th:only-of-type {\n",
       "        vertical-align: middle;\n",
       "    }\n",
       "\n",
       "    .dataframe tbody tr th {\n",
       "        vertical-align: top;\n",
       "    }\n",
       "\n",
       "    .dataframe thead th {\n",
       "        text-align: right;\n",
       "    }\n",
       "</style>\n",
       "<table border=\"1\" class=\"dataframe\">\n",
       "  <thead>\n",
       "    <tr style=\"text-align: right;\">\n",
       "      <th></th>\n",
       "      <th>gdp</th>\n",
       "    </tr>\n",
       "    <tr>\n",
       "      <th>date</th>\n",
       "      <th></th>\n",
       "    </tr>\n",
       "  </thead>\n",
       "  <tbody>\n",
       "    <tr>\n",
       "      <th>1947-01-01</th>\n",
       "      <td>243.164</td>\n",
       "    </tr>\n",
       "    <tr>\n",
       "      <th>1947-04-01</th>\n",
       "      <td>245.968</td>\n",
       "    </tr>\n",
       "    <tr>\n",
       "      <th>1947-07-01</th>\n",
       "      <td>249.585</td>\n",
       "    </tr>\n",
       "    <tr>\n",
       "      <th>1947-10-01</th>\n",
       "      <td>259.745</td>\n",
       "    </tr>\n",
       "    <tr>\n",
       "      <th>1948-01-01</th>\n",
       "      <td>265.742</td>\n",
       "    </tr>\n",
       "  </tbody>\n",
       "</table>\n",
       "</div>"
      ],
      "text/plain": [
       "                gdp\n",
       "date               \n",
       "1947-01-01  243.164\n",
       "1947-04-01  245.968\n",
       "1947-07-01  249.585\n",
       "1947-10-01  259.745\n",
       "1948-01-01  265.742"
      ]
     },
     "execution_count": 3,
     "metadata": {},
     "output_type": "execute_result"
    }
   ],
   "source": [
    "# Check the first few rows of data\n",
    "df_gdp.head()\n"
   ]
  },
  {
   "cell_type": "code",
   "execution_count": 4,
   "id": "ca21da26",
   "metadata": {},
   "outputs": [
    {
     "name": "stdout",
     "output_type": "stream",
     "text": [
      "<class 'pandas.core.frame.DataFrame'>\n",
      "DatetimeIndex: 309 entries, 1947-01-01 to 2024-01-01\n",
      "Data columns (total 1 columns):\n",
      " #   Column  Non-Null Count  Dtype  \n",
      "---  ------  --------------  -----  \n",
      " 0   gdp     309 non-null    float64\n",
      "dtypes: float64(1)\n",
      "memory usage: 4.8 KB\n"
     ]
    }
   ],
   "source": [
    "df_gdp.info()"
   ]
  },
  {
   "cell_type": "markdown",
   "id": "c683873c",
   "metadata": {},
   "source": [
    "No missing values in de gdp dataframe"
   ]
  },
  {
   "cell_type": "code",
   "execution_count": 5,
   "id": "eda4337d",
   "metadata": {},
   "outputs": [
    {
     "data": {
      "text/html": [
       "<div>\n",
       "<style scoped>\n",
       "    .dataframe tbody tr th:only-of-type {\n",
       "        vertical-align: middle;\n",
       "    }\n",
       "\n",
       "    .dataframe tbody tr th {\n",
       "        vertical-align: top;\n",
       "    }\n",
       "\n",
       "    .dataframe thead th {\n",
       "        text-align: right;\n",
       "    }\n",
       "</style>\n",
       "<table border=\"1\" class=\"dataframe\">\n",
       "  <thead>\n",
       "    <tr style=\"text-align: right;\">\n",
       "      <th></th>\n",
       "      <th>gdp</th>\n",
       "    </tr>\n",
       "  </thead>\n",
       "  <tbody>\n",
       "    <tr>\n",
       "      <th>count</th>\n",
       "      <td>309.000000</td>\n",
       "    </tr>\n",
       "    <tr>\n",
       "      <th>mean</th>\n",
       "      <td>7227.754935</td>\n",
       "    </tr>\n",
       "    <tr>\n",
       "      <th>std</th>\n",
       "      <td>7478.297734</td>\n",
       "    </tr>\n",
       "    <tr>\n",
       "      <th>min</th>\n",
       "      <td>243.164000</td>\n",
       "    </tr>\n",
       "    <tr>\n",
       "      <th>25%</th>\n",
       "      <td>804.981000</td>\n",
       "    </tr>\n",
       "    <tr>\n",
       "      <th>50%</th>\n",
       "      <td>4386.773000</td>\n",
       "    </tr>\n",
       "    <tr>\n",
       "      <th>75%</th>\n",
       "      <td>12527.214000</td>\n",
       "    </tr>\n",
       "    <tr>\n",
       "      <th>max</th>\n",
       "      <td>28284.498000</td>\n",
       "    </tr>\n",
       "  </tbody>\n",
       "</table>\n",
       "</div>"
      ],
      "text/plain": [
       "                gdp\n",
       "count    309.000000\n",
       "mean    7227.754935\n",
       "std     7478.297734\n",
       "min      243.164000\n",
       "25%      804.981000\n",
       "50%     4386.773000\n",
       "75%    12527.214000\n",
       "max    28284.498000"
      ]
     },
     "execution_count": 5,
     "metadata": {},
     "output_type": "execute_result"
    }
   ],
   "source": [
    "df_gdp.describe()"
   ]
  },
  {
   "cell_type": "code",
   "execution_count": 6,
   "id": "bb5d61b5",
   "metadata": {},
   "outputs": [
    {
     "data": {
      "text/plain": [
       "DatetimeIndex(['1947-01-01', '1947-04-01', '1947-07-01', '1947-10-01',\n",
       "               '1948-01-01', '1948-04-01', '1948-07-01', '1948-10-01',\n",
       "               '1949-01-01', '1949-04-01',\n",
       "               ...\n",
       "               '2021-10-01', '2022-01-01', '2022-04-01', '2022-07-01',\n",
       "               '2022-10-01', '2023-01-01', '2023-04-01', '2023-07-01',\n",
       "               '2023-10-01', '2024-01-01'],\n",
       "              dtype='datetime64[ns]', name='date', length=309, freq=None)"
      ]
     },
     "execution_count": 6,
     "metadata": {},
     "output_type": "execute_result"
    }
   ],
   "source": [
    "df_gdp.index"
   ]
  },
  {
   "cell_type": "code",
   "execution_count": 7,
   "id": "2a2478c9",
   "metadata": {},
   "outputs": [],
   "source": [
    "# Load the historical stock price data for Apple and Microsoft\n",
    "url_apple = \"https://raw.githubusercontent.com/udacity/CD13649-Project/main/Project/apple_historical_data.csv\"\n",
    "url_msoft = \"https://raw.githubusercontent.com/udacity/CD13649-Project/main/Project/microsoft_historical_data.csv\"\n",
    "\n",
    "df_apple = pd.read_csv(url_apple, parse_dates=[0])\n",
    "df_msoft = pd.read_csv(url_msoft, parse_dates=[0])"
   ]
  },
  {
   "cell_type": "code",
   "execution_count": 8,
   "id": "e9e9a77a",
   "metadata": {},
   "outputs": [
    {
     "data": {
      "text/html": [
       "<div>\n",
       "<style scoped>\n",
       "    .dataframe tbody tr th:only-of-type {\n",
       "        vertical-align: middle;\n",
       "    }\n",
       "\n",
       "    .dataframe tbody tr th {\n",
       "        vertical-align: top;\n",
       "    }\n",
       "\n",
       "    .dataframe thead th {\n",
       "        text-align: right;\n",
       "    }\n",
       "</style>\n",
       "<table border=\"1\" class=\"dataframe\">\n",
       "  <thead>\n",
       "    <tr style=\"text-align: right;\">\n",
       "      <th></th>\n",
       "      <th>close</th>\n",
       "      <th>volume</th>\n",
       "      <th>open</th>\n",
       "      <th>high</th>\n",
       "      <th>low</th>\n",
       "    </tr>\n",
       "    <tr>\n",
       "      <th>date</th>\n",
       "      <th></th>\n",
       "      <th></th>\n",
       "      <th></th>\n",
       "      <th></th>\n",
       "      <th></th>\n",
       "    </tr>\n",
       "  </thead>\n",
       "  <tbody>\n",
       "    <tr>\n",
       "      <th>2024-05-03</th>\n",
       "      <td>$183.38</td>\n",
       "      <td>163224100</td>\n",
       "      <td>$186.65</td>\n",
       "      <td>$187.00</td>\n",
       "      <td>$182.66</td>\n",
       "    </tr>\n",
       "    <tr>\n",
       "      <th>2024-05-02</th>\n",
       "      <td>$173.03</td>\n",
       "      <td>94214920</td>\n",
       "      <td>$172.51</td>\n",
       "      <td>$173.42</td>\n",
       "      <td>$170.89</td>\n",
       "    </tr>\n",
       "    <tr>\n",
       "      <th>2024-05-01</th>\n",
       "      <td>$169.30</td>\n",
       "      <td>50383150</td>\n",
       "      <td>$169.58</td>\n",
       "      <td>$172.71</td>\n",
       "      <td>$169.11</td>\n",
       "    </tr>\n",
       "    <tr>\n",
       "      <th>2024-04-30</th>\n",
       "      <td>$170.33</td>\n",
       "      <td>65934780</td>\n",
       "      <td>$173.33</td>\n",
       "      <td>$174.99</td>\n",
       "      <td>$170.00</td>\n",
       "    </tr>\n",
       "    <tr>\n",
       "      <th>2024-04-29</th>\n",
       "      <td>$173.50</td>\n",
       "      <td>68169420</td>\n",
       "      <td>$173.37</td>\n",
       "      <td>$176.03</td>\n",
       "      <td>$173.10</td>\n",
       "    </tr>\n",
       "  </tbody>\n",
       "</table>\n",
       "</div>"
      ],
      "text/plain": [
       "               close     volume      open      high       low\n",
       "date                                                         \n",
       "2024-05-03  $183.38   163224100  $186.65   $187.00   $182.66 \n",
       "2024-05-02  $173.03    94214920  $172.51   $173.42   $170.89 \n",
       "2024-05-01  $169.30    50383150  $169.58   $172.71   $169.11 \n",
       "2024-04-30  $170.33    65934780  $173.33   $174.99   $170.00 \n",
       "2024-04-29  $173.50    68169420  $173.37   $176.03   $173.10 "
      ]
     },
     "execution_count": 8,
     "metadata": {},
     "output_type": "execute_result"
    }
   ],
   "source": [
    "# Check the first few rows of data\n",
    "df_apple.columns = map(str.lower, df_apple.columns)\n",
    "df_apple = df_apple.rename(columns={df_apple.columns[0] : 'date', df_apple.columns[1] : 'close'})\n",
    "df_apple.set_index('date', inplace=True)\n",
    "df_apple.head()"
   ]
  },
  {
   "cell_type": "code",
   "execution_count": 9,
   "id": "f7f7e4c3",
   "metadata": {},
   "outputs": [
    {
     "name": "stdout",
     "output_type": "stream",
     "text": [
      "<class 'pandas.core.frame.DataFrame'>\n",
      "DatetimeIndex: 2517 entries, 2024-05-03 to 2014-05-06\n",
      "Data columns (total 5 columns):\n",
      " #   Column  Non-Null Count  Dtype \n",
      "---  ------  --------------  ----- \n",
      " 0   close   2514 non-null   object\n",
      " 1   volume  2517 non-null   int64 \n",
      " 2   open    2517 non-null   object\n",
      " 3   high    2517 non-null   object\n",
      " 4   low     2517 non-null   object\n",
      "dtypes: int64(1), object(4)\n",
      "memory usage: 118.0+ KB\n"
     ]
    }
   ],
   "source": [
    "# Use methods like .info() and .describe() to explore the data\n",
    "df_apple.info()"
   ]
  },
  {
   "cell_type": "markdown",
   "id": "5e3b927a",
   "metadata": {},
   "source": [
    "In df_apple 'Close' has 3 missing data"
   ]
  },
  {
   "cell_type": "code",
   "execution_count": 10,
   "id": "df0a0f9e",
   "metadata": {},
   "outputs": [
    {
     "data": {
      "text/html": [
       "<div>\n",
       "<style scoped>\n",
       "    .dataframe tbody tr th:only-of-type {\n",
       "        vertical-align: middle;\n",
       "    }\n",
       "\n",
       "    .dataframe tbody tr th {\n",
       "        vertical-align: top;\n",
       "    }\n",
       "\n",
       "    .dataframe thead th {\n",
       "        text-align: right;\n",
       "    }\n",
       "</style>\n",
       "<table border=\"1\" class=\"dataframe\">\n",
       "  <thead>\n",
       "    <tr style=\"text-align: right;\">\n",
       "      <th></th>\n",
       "      <th>volume</th>\n",
       "    </tr>\n",
       "  </thead>\n",
       "  <tbody>\n",
       "    <tr>\n",
       "      <th>count</th>\n",
       "      <td>2.517000e+03</td>\n",
       "    </tr>\n",
       "    <tr>\n",
       "      <th>mean</th>\n",
       "      <td>1.277394e+08</td>\n",
       "    </tr>\n",
       "    <tr>\n",
       "      <th>std</th>\n",
       "      <td>7.357405e+07</td>\n",
       "    </tr>\n",
       "    <tr>\n",
       "      <th>min</th>\n",
       "      <td>2.404834e+07</td>\n",
       "    </tr>\n",
       "    <tr>\n",
       "      <th>25%</th>\n",
       "      <td>7.741776e+07</td>\n",
       "    </tr>\n",
       "    <tr>\n",
       "      <th>50%</th>\n",
       "      <td>1.077601e+08</td>\n",
       "    </tr>\n",
       "    <tr>\n",
       "      <th>75%</th>\n",
       "      <td>1.567789e+08</td>\n",
       "    </tr>\n",
       "    <tr>\n",
       "      <th>max</th>\n",
       "      <td>7.576780e+08</td>\n",
       "    </tr>\n",
       "  </tbody>\n",
       "</table>\n",
       "</div>"
      ],
      "text/plain": [
       "             volume\n",
       "count  2.517000e+03\n",
       "mean   1.277394e+08\n",
       "std    7.357405e+07\n",
       "min    2.404834e+07\n",
       "25%    7.741776e+07\n",
       "50%    1.077601e+08\n",
       "75%    1.567789e+08\n",
       "max    7.576780e+08"
      ]
     },
     "execution_count": 10,
     "metadata": {},
     "output_type": "execute_result"
    }
   ],
   "source": [
    "df_apple.describe()"
   ]
  },
  {
   "cell_type": "code",
   "execution_count": 11,
   "id": "200b4fce",
   "metadata": {},
   "outputs": [
    {
     "data": {
      "text/html": [
       "<div>\n",
       "<style scoped>\n",
       "    .dataframe tbody tr th:only-of-type {\n",
       "        vertical-align: middle;\n",
       "    }\n",
       "\n",
       "    .dataframe tbody tr th {\n",
       "        vertical-align: top;\n",
       "    }\n",
       "\n",
       "    .dataframe thead th {\n",
       "        text-align: right;\n",
       "    }\n",
       "</style>\n",
       "<table border=\"1\" class=\"dataframe\">\n",
       "  <thead>\n",
       "    <tr style=\"text-align: right;\">\n",
       "      <th></th>\n",
       "      <th>close</th>\n",
       "      <th>volume</th>\n",
       "      <th>open</th>\n",
       "      <th>high</th>\n",
       "      <th>low</th>\n",
       "    </tr>\n",
       "    <tr>\n",
       "      <th>date</th>\n",
       "      <th></th>\n",
       "      <th></th>\n",
       "      <th></th>\n",
       "      <th></th>\n",
       "      <th></th>\n",
       "    </tr>\n",
       "  </thead>\n",
       "  <tbody>\n",
       "    <tr>\n",
       "      <th>2024-05-03</th>\n",
       "      <td>$406.66</td>\n",
       "      <td>17446720</td>\n",
       "      <td>$402.28</td>\n",
       "      <td>$407.15</td>\n",
       "      <td>$401.86</td>\n",
       "    </tr>\n",
       "    <tr>\n",
       "      <th>2024-05-02</th>\n",
       "      <td>$397.84</td>\n",
       "      <td>17709360</td>\n",
       "      <td>$397.66</td>\n",
       "      <td>$399.93</td>\n",
       "      <td>$394.6515</td>\n",
       "    </tr>\n",
       "    <tr>\n",
       "      <th>2024-05-01</th>\n",
       "      <td>$394.94</td>\n",
       "      <td>23562480</td>\n",
       "      <td>$392.61</td>\n",
       "      <td>$401.7199</td>\n",
       "      <td>$390.31</td>\n",
       "    </tr>\n",
       "    <tr>\n",
       "      <th>2024-04-30</th>\n",
       "      <td>$389.33</td>\n",
       "      <td>28781370</td>\n",
       "      <td>$401.49</td>\n",
       "      <td>$402.16</td>\n",
       "      <td>$389.17</td>\n",
       "    </tr>\n",
       "    <tr>\n",
       "      <th>2024-04-29</th>\n",
       "      <td>$402.25</td>\n",
       "      <td>19582090</td>\n",
       "      <td>$405.25</td>\n",
       "      <td>$406.32</td>\n",
       "      <td>$399.19</td>\n",
       "    </tr>\n",
       "  </tbody>\n",
       "</table>\n",
       "</div>"
      ],
      "text/plain": [
       "              close    volume     open       high        low\n",
       "date                                                        \n",
       "2024-05-03  $406.66  17446720  $402.28    $407.15    $401.86\n",
       "2024-05-02  $397.84  17709360  $397.66    $399.93  $394.6515\n",
       "2024-05-01  $394.94  23562480  $392.61  $401.7199    $390.31\n",
       "2024-04-30  $389.33  28781370  $401.49    $402.16    $389.17\n",
       "2024-04-29  $402.25  19582090  $405.25    $406.32    $399.19"
      ]
     },
     "execution_count": 11,
     "metadata": {},
     "output_type": "execute_result"
    }
   ],
   "source": [
    "df_msoft.columns = map(str.lower, df_msoft.columns)\n",
    "df_msoft = df_msoft.rename(columns={df_msoft.columns[0] : 'date', df_msoft.columns[1] : 'close'})\n",
    "df_msoft.set_index('date', inplace=True)\n",
    "df_msoft.head()"
   ]
  },
  {
   "cell_type": "code",
   "execution_count": 12,
   "id": "8c9bed17",
   "metadata": {},
   "outputs": [
    {
     "name": "stdout",
     "output_type": "stream",
     "text": [
      "<class 'pandas.core.frame.DataFrame'>\n",
      "DatetimeIndex: 2517 entries, 2024-05-03 to 2014-05-06\n",
      "Data columns (total 5 columns):\n",
      " #   Column  Non-Null Count  Dtype \n",
      "---  ------  --------------  ----- \n",
      " 0   close   2517 non-null   object\n",
      " 1   volume  2517 non-null   int64 \n",
      " 2   open    2517 non-null   object\n",
      " 3   high    2517 non-null   object\n",
      " 4   low     2517 non-null   object\n",
      "dtypes: int64(1), object(4)\n",
      "memory usage: 118.0+ KB\n"
     ]
    }
   ],
   "source": [
    "# Use methods like .info() and .describe() to explore the data\n",
    "df_msoft.info()\n"
   ]
  },
  {
   "cell_type": "markdown",
   "id": "9f858ffd",
   "metadata": {},
   "source": [
    "In df_msoft there are no missing data"
   ]
  },
  {
   "cell_type": "code",
   "execution_count": 13,
   "id": "90f9129e",
   "metadata": {},
   "outputs": [
    {
     "data": {
      "text/html": [
       "<div>\n",
       "<style scoped>\n",
       "    .dataframe tbody tr th:only-of-type {\n",
       "        vertical-align: middle;\n",
       "    }\n",
       "\n",
       "    .dataframe tbody tr th {\n",
       "        vertical-align: top;\n",
       "    }\n",
       "\n",
       "    .dataframe thead th {\n",
       "        text-align: right;\n",
       "    }\n",
       "</style>\n",
       "<table border=\"1\" class=\"dataframe\">\n",
       "  <thead>\n",
       "    <tr style=\"text-align: right;\">\n",
       "      <th></th>\n",
       "      <th>volume</th>\n",
       "    </tr>\n",
       "  </thead>\n",
       "  <tbody>\n",
       "    <tr>\n",
       "      <th>count</th>\n",
       "      <td>2.517000e+03</td>\n",
       "    </tr>\n",
       "    <tr>\n",
       "      <th>mean</th>\n",
       "      <td>2.953106e+07</td>\n",
       "    </tr>\n",
       "    <tr>\n",
       "      <th>std</th>\n",
       "      <td>1.370138e+07</td>\n",
       "    </tr>\n",
       "    <tr>\n",
       "      <th>min</th>\n",
       "      <td>7.425603e+06</td>\n",
       "    </tr>\n",
       "    <tr>\n",
       "      <th>25%</th>\n",
       "      <td>2.131892e+07</td>\n",
       "    </tr>\n",
       "    <tr>\n",
       "      <th>50%</th>\n",
       "      <td>2.639470e+07</td>\n",
       "    </tr>\n",
       "    <tr>\n",
       "      <th>75%</th>\n",
       "      <td>3.360003e+07</td>\n",
       "    </tr>\n",
       "    <tr>\n",
       "      <th>max</th>\n",
       "      <td>2.025141e+08</td>\n",
       "    </tr>\n",
       "  </tbody>\n",
       "</table>\n",
       "</div>"
      ],
      "text/plain": [
       "             volume\n",
       "count  2.517000e+03\n",
       "mean   2.953106e+07\n",
       "std    1.370138e+07\n",
       "min    7.425603e+06\n",
       "25%    2.131892e+07\n",
       "50%    2.639470e+07\n",
       "75%    3.360003e+07\n",
       "max    2.025141e+08"
      ]
     },
     "execution_count": 13,
     "metadata": {},
     "output_type": "execute_result"
    }
   ],
   "source": [
    "df_msoft.describe()"
   ]
  },
  {
   "cell_type": "markdown",
   "id": "06c8d9dc",
   "metadata": {},
   "source": [
    "## Data preprocessing: Check for missing data and forward fill\n",
    "\n",
    "Check the Apple historical prices for missing data. Check for missing data in all columns. If there's data missing, use a forward fill to fill in those missing prices. "
   ]
  },
  {
   "cell_type": "code",
   "execution_count": 14,
   "id": "4807173e",
   "metadata": {},
   "outputs": [
    {
     "name": "stdout",
     "output_type": "stream",
     "text": [
      "<class 'pandas.core.frame.DataFrame'>\n",
      "DatetimeIndex: 2517 entries, 2024-05-03 to 2014-05-06\n",
      "Data columns (total 5 columns):\n",
      " #   Column  Non-Null Count  Dtype \n",
      "---  ------  --------------  ----- \n",
      " 0   close   2514 non-null   object\n",
      " 1   volume  2517 non-null   int64 \n",
      " 2   open    2517 non-null   object\n",
      " 3   high    2517 non-null   object\n",
      " 4   low     2517 non-null   object\n",
      "dtypes: int64(1), object(4)\n",
      "memory usage: 118.0+ KB\n"
     ]
    }
   ],
   "source": [
    "# Check for nulls \n",
    "df_apple.info()\n"
   ]
  },
  {
   "cell_type": "markdown",
   "id": "b2437713",
   "metadata": {},
   "source": [
    "In df_apple Column 'Close' has 3 missing data"
   ]
  },
  {
   "cell_type": "code",
   "execution_count": 15,
   "id": "00e4d6f5",
   "metadata": {},
   "outputs": [],
   "source": [
    "# Forward fill any missing data\n",
    "df_apple.ffill(inplace=True)"
   ]
  },
  {
   "cell_type": "code",
   "execution_count": 16,
   "id": "0c5b2ffc",
   "metadata": {},
   "outputs": [
    {
     "name": "stdout",
     "output_type": "stream",
     "text": [
      "<class 'pandas.core.frame.DataFrame'>\n",
      "DatetimeIndex: 2517 entries, 2024-05-03 to 2014-05-06\n",
      "Data columns (total 5 columns):\n",
      " #   Column  Non-Null Count  Dtype \n",
      "---  ------  --------------  ----- \n",
      " 0   close   2517 non-null   object\n",
      " 1   volume  2517 non-null   int64 \n",
      " 2   open    2517 non-null   object\n",
      " 3   high    2517 non-null   object\n",
      " 4   low     2517 non-null   object\n",
      "dtypes: int64(1), object(4)\n",
      "memory usage: 118.0+ KB\n"
     ]
    }
   ],
   "source": [
    "df_apple.info()"
   ]
  },
  {
   "cell_type": "markdown",
   "id": "2614c615",
   "metadata": {},
   "source": [
    "## Data preprocessing: Remove special characters and convert to numeric/datetime\n",
    "\n",
    "The next step in the data engineering process is to standardize and clean up data. In this step, you'll check for odd formatting and special characters that will make it difficult to work with data as numeric or datetime. \n",
    "\n",
    "In this step:\n",
    "* Create a function that takes in a dataframe and a list of columns and removes dollar signs ('$') from those columns\n",
    "* Convert any columns with date/time data into a `pandas` `datetime` format"
   ]
  },
  {
   "cell_type": "code",
   "execution_count": 17,
   "id": "a47537af",
   "metadata": {},
   "outputs": [],
   "source": [
    "def convert_dollar_columns_to_numeric(df, numeric_columns):\n",
    "    '''\n",
    "        Removes dollar signs ('$') from a list of columns in a given dataframe AND casts the columns to a numeric datatype.\n",
    "        Updates dataframe IN PLACE.\n",
    "        \n",
    "        Inputs:\n",
    "            df: dataframe to be operated on\n",
    "            numeric_columns: columns that should have numeric data but have dollar signs currently\n",
    "            \n",
    "        Returns:\n",
    "            None - changes to the dataframe can be made in place\n",
    "    '''\n",
    "    for col in numeric_columns:\n",
    "        df[col]=df[col].replace({'\\$': ''}, regex=True).astype(float)\n",
    "\n",
    "    "
   ]
  },
  {
   "cell_type": "code",
   "execution_count": 18,
   "id": "055f8621",
   "metadata": {},
   "outputs": [
    {
     "data": {
      "text/html": [
       "<div>\n",
       "<style scoped>\n",
       "    .dataframe tbody tr th:only-of-type {\n",
       "        vertical-align: middle;\n",
       "    }\n",
       "\n",
       "    .dataframe tbody tr th {\n",
       "        vertical-align: top;\n",
       "    }\n",
       "\n",
       "    .dataframe thead th {\n",
       "        text-align: right;\n",
       "    }\n",
       "</style>\n",
       "<table border=\"1\" class=\"dataframe\">\n",
       "  <thead>\n",
       "    <tr style=\"text-align: right;\">\n",
       "      <th></th>\n",
       "      <th>close</th>\n",
       "      <th>volume</th>\n",
       "      <th>open</th>\n",
       "      <th>high</th>\n",
       "      <th>low</th>\n",
       "    </tr>\n",
       "    <tr>\n",
       "      <th>date</th>\n",
       "      <th></th>\n",
       "      <th></th>\n",
       "      <th></th>\n",
       "      <th></th>\n",
       "      <th></th>\n",
       "    </tr>\n",
       "  </thead>\n",
       "  <tbody>\n",
       "    <tr>\n",
       "      <th>2024-05-03</th>\n",
       "      <td>183.38</td>\n",
       "      <td>163224100</td>\n",
       "      <td>186.65</td>\n",
       "      <td>187.00</td>\n",
       "      <td>182.66</td>\n",
       "    </tr>\n",
       "    <tr>\n",
       "      <th>2024-05-02</th>\n",
       "      <td>173.03</td>\n",
       "      <td>94214920</td>\n",
       "      <td>172.51</td>\n",
       "      <td>173.42</td>\n",
       "      <td>170.89</td>\n",
       "    </tr>\n",
       "    <tr>\n",
       "      <th>2024-05-01</th>\n",
       "      <td>169.30</td>\n",
       "      <td>50383150</td>\n",
       "      <td>169.58</td>\n",
       "      <td>172.71</td>\n",
       "      <td>169.11</td>\n",
       "    </tr>\n",
       "    <tr>\n",
       "      <th>2024-04-30</th>\n",
       "      <td>170.33</td>\n",
       "      <td>65934780</td>\n",
       "      <td>173.33</td>\n",
       "      <td>174.99</td>\n",
       "      <td>170.00</td>\n",
       "    </tr>\n",
       "    <tr>\n",
       "      <th>2024-04-29</th>\n",
       "      <td>173.50</td>\n",
       "      <td>68169420</td>\n",
       "      <td>173.37</td>\n",
       "      <td>176.03</td>\n",
       "      <td>173.10</td>\n",
       "    </tr>\n",
       "  </tbody>\n",
       "</table>\n",
       "</div>"
      ],
      "text/plain": [
       "             close     volume    open    high     low\n",
       "date                                                 \n",
       "2024-05-03  183.38  163224100  186.65  187.00  182.66\n",
       "2024-05-02  173.03   94214920  172.51  173.42  170.89\n",
       "2024-05-01  169.30   50383150  169.58  172.71  169.11\n",
       "2024-04-30  170.33   65934780  173.33  174.99  170.00\n",
       "2024-04-29  173.50   68169420  173.37  176.03  173.10"
      ]
     },
     "execution_count": 18,
     "metadata": {},
     "output_type": "execute_result"
    }
   ],
   "source": [
    "# Use convert_dollar_columns_to_numeric() to remove the dollar sign from the Apple and Microsoft datasets\n",
    "numeric_columns=['close', 'open', 'high', 'low']\n",
    "convert_dollar_columns_to_numeric(df_apple, numeric_columns)\n",
    "df_apple.head()"
   ]
  },
  {
   "cell_type": "code",
   "execution_count": 19,
   "id": "e95832d9",
   "metadata": {},
   "outputs": [
    {
     "name": "stdout",
     "output_type": "stream",
     "text": [
      "<class 'pandas.core.frame.DataFrame'>\n",
      "DatetimeIndex: 2517 entries, 2024-05-03 to 2014-05-06\n",
      "Data columns (total 5 columns):\n",
      " #   Column  Non-Null Count  Dtype  \n",
      "---  ------  --------------  -----  \n",
      " 0   close   2517 non-null   float64\n",
      " 1   volume  2517 non-null   int64  \n",
      " 2   open    2517 non-null   float64\n",
      " 3   high    2517 non-null   float64\n",
      " 4   low     2517 non-null   float64\n",
      "dtypes: float64(4), int64(1)\n",
      "memory usage: 118.0 KB\n"
     ]
    }
   ],
   "source": [
    "df_apple.info()"
   ]
  },
  {
   "cell_type": "code",
   "execution_count": 20,
   "id": "46126c56",
   "metadata": {},
   "outputs": [
    {
     "data": {
      "text/html": [
       "<div>\n",
       "<style scoped>\n",
       "    .dataframe tbody tr th:only-of-type {\n",
       "        vertical-align: middle;\n",
       "    }\n",
       "\n",
       "    .dataframe tbody tr th {\n",
       "        vertical-align: top;\n",
       "    }\n",
       "\n",
       "    .dataframe thead th {\n",
       "        text-align: right;\n",
       "    }\n",
       "</style>\n",
       "<table border=\"1\" class=\"dataframe\">\n",
       "  <thead>\n",
       "    <tr style=\"text-align: right;\">\n",
       "      <th></th>\n",
       "      <th>close</th>\n",
       "      <th>volume</th>\n",
       "      <th>open</th>\n",
       "      <th>high</th>\n",
       "      <th>low</th>\n",
       "    </tr>\n",
       "    <tr>\n",
       "      <th>date</th>\n",
       "      <th></th>\n",
       "      <th></th>\n",
       "      <th></th>\n",
       "      <th></th>\n",
       "      <th></th>\n",
       "    </tr>\n",
       "  </thead>\n",
       "  <tbody>\n",
       "    <tr>\n",
       "      <th>2024-05-03</th>\n",
       "      <td>406.66</td>\n",
       "      <td>17446720</td>\n",
       "      <td>402.28</td>\n",
       "      <td>407.1500</td>\n",
       "      <td>401.8600</td>\n",
       "    </tr>\n",
       "    <tr>\n",
       "      <th>2024-05-02</th>\n",
       "      <td>397.84</td>\n",
       "      <td>17709360</td>\n",
       "      <td>397.66</td>\n",
       "      <td>399.9300</td>\n",
       "      <td>394.6515</td>\n",
       "    </tr>\n",
       "    <tr>\n",
       "      <th>2024-05-01</th>\n",
       "      <td>394.94</td>\n",
       "      <td>23562480</td>\n",
       "      <td>392.61</td>\n",
       "      <td>401.7199</td>\n",
       "      <td>390.3100</td>\n",
       "    </tr>\n",
       "    <tr>\n",
       "      <th>2024-04-30</th>\n",
       "      <td>389.33</td>\n",
       "      <td>28781370</td>\n",
       "      <td>401.49</td>\n",
       "      <td>402.1600</td>\n",
       "      <td>389.1700</td>\n",
       "    </tr>\n",
       "    <tr>\n",
       "      <th>2024-04-29</th>\n",
       "      <td>402.25</td>\n",
       "      <td>19582090</td>\n",
       "      <td>405.25</td>\n",
       "      <td>406.3200</td>\n",
       "      <td>399.1900</td>\n",
       "    </tr>\n",
       "  </tbody>\n",
       "</table>\n",
       "</div>"
      ],
      "text/plain": [
       "             close    volume    open      high       low\n",
       "date                                                    \n",
       "2024-05-03  406.66  17446720  402.28  407.1500  401.8600\n",
       "2024-05-02  397.84  17709360  397.66  399.9300  394.6515\n",
       "2024-05-01  394.94  23562480  392.61  401.7199  390.3100\n",
       "2024-04-30  389.33  28781370  401.49  402.1600  389.1700\n",
       "2024-04-29  402.25  19582090  405.25  406.3200  399.1900"
      ]
     },
     "execution_count": 20,
     "metadata": {},
     "output_type": "execute_result"
    }
   ],
   "source": [
    "# Use convert_dollar_columns_to_numeric() to remove the dollar sign from the Apple and Microsoft datasets\n",
    "numeric_columns=['close', 'open', 'high', 'low']\n",
    "convert_dollar_columns_to_numeric(df_msoft, numeric_columns)\n",
    "df_msoft.head()"
   ]
  },
  {
   "cell_type": "code",
   "execution_count": 21,
   "id": "b780913a",
   "metadata": {},
   "outputs": [
    {
     "name": "stdout",
     "output_type": "stream",
     "text": [
      "<class 'pandas.core.frame.DataFrame'>\n",
      "DatetimeIndex: 2517 entries, 2024-05-03 to 2014-05-06\n",
      "Data columns (total 5 columns):\n",
      " #   Column  Non-Null Count  Dtype  \n",
      "---  ------  --------------  -----  \n",
      " 0   close   2517 non-null   float64\n",
      " 1   volume  2517 non-null   int64  \n",
      " 2   open    2517 non-null   float64\n",
      " 3   high    2517 non-null   float64\n",
      " 4   low     2517 non-null   float64\n",
      "dtypes: float64(4), int64(1)\n",
      "memory usage: 118.0 KB\n"
     ]
    },
    {
     "data": {
      "text/plain": [
       "DatetimeIndex(['2024-05-03', '2024-05-02', '2024-05-01', '2024-04-30',\n",
       "               '2024-04-29', '2024-04-26', '2024-04-25', '2024-04-24',\n",
       "               '2024-04-23', '2024-04-22',\n",
       "               ...\n",
       "               '2014-05-19', '2014-05-16', '2014-05-15', '2014-05-14',\n",
       "               '2014-05-13', '2014-05-12', '2014-05-09', '2014-05-08',\n",
       "               '2014-05-07', '2014-05-06'],\n",
       "              dtype='datetime64[ns]', name='date', length=2517, freq=None)"
      ]
     },
     "execution_count": 21,
     "metadata": {},
     "output_type": "execute_result"
    }
   ],
   "source": [
    "# Use .info() and check the type of each column to ensure that the above steps worked\n",
    "df_msoft.info()\n",
    "df_msoft.index"
   ]
  },
  {
   "cell_type": "code",
   "execution_count": 22,
   "id": "efea17ca",
   "metadata": {},
   "outputs": [],
   "source": [
    "# Use pandas's to_datetime() to convert any columns that are in a datetime format\n"
   ]
  },
  {
   "cell_type": "code",
   "execution_count": 23,
   "id": "8a2089e3",
   "metadata": {},
   "outputs": [
    {
     "name": "stdout",
     "output_type": "stream",
     "text": [
      "<class 'pandas.core.frame.DataFrame'>\n",
      "DatetimeIndex: 2517 entries, 2024-05-03 to 2014-05-06\n",
      "Data columns (total 5 columns):\n",
      " #   Column  Non-Null Count  Dtype  \n",
      "---  ------  --------------  -----  \n",
      " 0   close   2517 non-null   float64\n",
      " 1   volume  2517 non-null   int64  \n",
      " 2   open    2517 non-null   float64\n",
      " 3   high    2517 non-null   float64\n",
      " 4   low     2517 non-null   float64\n",
      "dtypes: float64(4), int64(1)\n",
      "memory usage: 118.0 KB\n"
     ]
    },
    {
     "data": {
      "text/plain": [
       "DatetimeIndex(['2024-05-03', '2024-05-02', '2024-05-01', '2024-04-30',\n",
       "               '2024-04-29', '2024-04-26', '2024-04-25', '2024-04-24',\n",
       "               '2024-04-23', '2024-04-22',\n",
       "               ...\n",
       "               '2014-05-19', '2014-05-16', '2014-05-15', '2014-05-14',\n",
       "               '2014-05-13', '2014-05-12', '2014-05-09', '2014-05-08',\n",
       "               '2014-05-07', '2014-05-06'],\n",
       "              dtype='datetime64[ns]', name='date', length=2517, freq=None)"
      ]
     },
     "execution_count": 23,
     "metadata": {},
     "output_type": "execute_result"
    }
   ],
   "source": [
    "# Use .info() and check the type of each column to ensure that the above steps worked\n",
    "df_apple.info()\n",
    "df_apple.index"
   ]
  },
  {
   "cell_type": "markdown",
   "id": "95ad8e72",
   "metadata": {},
   "source": [
    "## Data preprocessing: Align datetime data\n",
    "\n",
    "Data engineering includes changing data with a datetime component if needed so that different time series can be more easily compared or plotted against each other. \n",
    "\n",
    "In this step:\n",
    "\n",
    "* Align the inflation date so that it falls on the last day of the month instead of the first\n",
    "\n",
    "Helpful hints: \n",
    "* Use the `pandas` `offsets` method using `MonthEnd(0)` to set the 'Date' column to month-end"
   ]
  },
  {
   "cell_type": "code",
   "execution_count": 24,
   "id": "1c65ccdd",
   "metadata": {},
   "outputs": [],
   "source": [
    "url_inflation = \"https://raw.githubusercontent.com/udacity/CD13649-Project/main/Project/inflation_monthly.csv\"\n",
    "df_inflation = pd.read_csv(url_inflation,  parse_dates=[0])\n",
    "df_inflation = df_inflation.rename(columns={df_inflation.columns[0]: 'date'})\n",
    "df_inflation.set_index('date', inplace=True)"
   ]
  },
  {
   "cell_type": "code",
   "execution_count": 25,
   "id": "3ebc71ad",
   "metadata": {},
   "outputs": [
    {
     "name": "stdout",
     "output_type": "stream",
     "text": [
      "<class 'pandas.core.frame.DataFrame'>\n",
      "DatetimeIndex: 675 entries, 1968-01-01 to 2024-03-01\n",
      "Data columns (total 1 columns):\n",
      " #   Column                Non-Null Count  Dtype  \n",
      "---  ------                --------------  -----  \n",
      " 0   CORESTICKM159SFRBATL  675 non-null    float64\n",
      "dtypes: float64(1)\n",
      "memory usage: 10.5 KB\n"
     ]
    }
   ],
   "source": [
    "df_inflation.info()"
   ]
  },
  {
   "cell_type": "code",
   "execution_count": 26,
   "id": "fe782db6",
   "metadata": {},
   "outputs": [
    {
     "data": {
      "text/html": [
       "<div>\n",
       "<style scoped>\n",
       "    .dataframe tbody tr th:only-of-type {\n",
       "        vertical-align: middle;\n",
       "    }\n",
       "\n",
       "    .dataframe tbody tr th {\n",
       "        vertical-align: top;\n",
       "    }\n",
       "\n",
       "    .dataframe thead th {\n",
       "        text-align: right;\n",
       "    }\n",
       "</style>\n",
       "<table border=\"1\" class=\"dataframe\">\n",
       "  <thead>\n",
       "    <tr style=\"text-align: right;\">\n",
       "      <th></th>\n",
       "      <th>CORESTICKM159SFRBATL</th>\n",
       "    </tr>\n",
       "    <tr>\n",
       "      <th>date</th>\n",
       "      <th></th>\n",
       "    </tr>\n",
       "  </thead>\n",
       "  <tbody>\n",
       "    <tr>\n",
       "      <th>1968-01-31</th>\n",
       "      <td>3.651861</td>\n",
       "    </tr>\n",
       "    <tr>\n",
       "      <th>1968-02-29</th>\n",
       "      <td>3.673819</td>\n",
       "    </tr>\n",
       "    <tr>\n",
       "      <th>1968-03-31</th>\n",
       "      <td>4.142164</td>\n",
       "    </tr>\n",
       "    <tr>\n",
       "      <th>1968-04-30</th>\n",
       "      <td>4.155828</td>\n",
       "    </tr>\n",
       "    <tr>\n",
       "      <th>1968-05-31</th>\n",
       "      <td>4.088245</td>\n",
       "    </tr>\n",
       "  </tbody>\n",
       "</table>\n",
       "</div>"
      ],
      "text/plain": [
       "            CORESTICKM159SFRBATL\n",
       "date                            \n",
       "1968-01-31              3.651861\n",
       "1968-02-29              3.673819\n",
       "1968-03-31              4.142164\n",
       "1968-04-30              4.155828\n",
       "1968-05-31              4.088245"
      ]
     },
     "execution_count": 26,
     "metadata": {},
     "output_type": "execute_result"
    }
   ],
   "source": [
    "# Align inflation data so that the date is the month end (e.g. Jan 31, Feb 28/28)\n",
    "df_inflation.index=df_inflation.index + pd.offsets.MonthEnd(0) \n",
    "df_inflation.head()"
   ]
  },
  {
   "cell_type": "code",
   "execution_count": 27,
   "id": "723be1b4",
   "metadata": {},
   "outputs": [
    {
     "name": "stdout",
     "output_type": "stream",
     "text": [
      "<class 'pandas.core.frame.DataFrame'>\n",
      "DatetimeIndex: 675 entries, 1968-01-31 to 2024-03-31\n",
      "Data columns (total 1 columns):\n",
      " #   Column                Non-Null Count  Dtype  \n",
      "---  ------                --------------  -----  \n",
      " 0   CORESTICKM159SFRBATL  675 non-null    float64\n",
      "dtypes: float64(1)\n",
      "memory usage: 10.5 KB\n"
     ]
    }
   ],
   "source": [
    "df_inflation.info()"
   ]
  },
  {
   "cell_type": "code",
   "execution_count": 28,
   "id": "28fea2f6",
   "metadata": {},
   "outputs": [],
   "source": [
    "# Upsample and interpolate from monthly to weekly \n",
    "df_inflation.index = pd.to_datetime(df_inflation.index)\n",
    "df_inflation_weekly = df_inflation.resample('W').interpolate(method='linear')\n",
    "\n"
   ]
  },
  {
   "cell_type": "code",
   "execution_count": 29,
   "id": "635647a1",
   "metadata": {},
   "outputs": [],
   "source": [
    "# Downsample from monthly to quarterly \n",
    "df_inflation.index = pd.to_datetime(df_inflation.index)\n",
    "df_inflation_quarterly = df_inflation.resample('Q').mean()\n"
   ]
  },
  {
   "cell_type": "markdown",
   "id": "0ea82443",
   "metadata": {},
   "source": [
    "## Data preprocessing: Normalize/standardize a feature\n",
    "\n",
    "Economic time series data often involve variables measured on different scales (e.g., GDP in trillions of dollars, inflation in percentage points). Standardizing these variables (typically by subtracting the mean and dividing by the standard deviation) puts them on a common scale, allowing for meaningful comparisons and analyses.\n",
    "\n",
    "Your task:\n",
    "* Standardize the GDP data. You may do this manually by subtracting the mean and dividing by the standard deviation, or you may use a built-in method from a library like `sklearn`'s `StandardScaler`"
   ]
  },
  {
   "cell_type": "code",
   "execution_count": 30,
   "id": "4f88d246",
   "metadata": {},
   "outputs": [],
   "source": [
    "# Standardize the GDP measure\n",
    "scaler = StandardScaler()\n",
    "df_gdp_scaled = pd.DataFrame(scaler.fit_transform(df_gdp))\n"
   ]
  },
  {
   "cell_type": "code",
   "execution_count": 31,
   "id": "e4801c53",
   "metadata": {},
   "outputs": [
    {
     "data": {
      "text/html": [
       "<div>\n",
       "<style scoped>\n",
       "    .dataframe tbody tr th:only-of-type {\n",
       "        vertical-align: middle;\n",
       "    }\n",
       "\n",
       "    .dataframe tbody tr th {\n",
       "        vertical-align: top;\n",
       "    }\n",
       "\n",
       "    .dataframe thead th {\n",
       "        text-align: right;\n",
       "    }\n",
       "</style>\n",
       "<table border=\"1\" class=\"dataframe\">\n",
       "  <thead>\n",
       "    <tr style=\"text-align: right;\">\n",
       "      <th></th>\n",
       "      <th>0</th>\n",
       "    </tr>\n",
       "  </thead>\n",
       "  <tbody>\n",
       "    <tr>\n",
       "      <th>count</th>\n",
       "      <td>3.090000e+02</td>\n",
       "    </tr>\n",
       "    <tr>\n",
       "      <th>mean</th>\n",
       "      <td>-1.839593e-16</td>\n",
       "    </tr>\n",
       "    <tr>\n",
       "      <th>std</th>\n",
       "      <td>1.001622e+00</td>\n",
       "    </tr>\n",
       "    <tr>\n",
       "      <th>min</th>\n",
       "      <td>-9.354964e-01</td>\n",
       "    </tr>\n",
       "    <tr>\n",
       "      <th>25%</th>\n",
       "      <td>-8.602482e-01</td>\n",
       "    </tr>\n",
       "    <tr>\n",
       "      <th>50%</th>\n",
       "      <td>-3.805131e-01</td>\n",
       "    </tr>\n",
       "    <tr>\n",
       "      <th>75%</th>\n",
       "      <td>7.097946e-01</td>\n",
       "    </tr>\n",
       "    <tr>\n",
       "      <th>max</th>\n",
       "      <td>2.820281e+00</td>\n",
       "    </tr>\n",
       "  </tbody>\n",
       "</table>\n",
       "</div>"
      ],
      "text/plain": [
       "                  0\n",
       "count  3.090000e+02\n",
       "mean  -1.839593e-16\n",
       "std    1.001622e+00\n",
       "min   -9.354964e-01\n",
       "25%   -8.602482e-01\n",
       "50%   -3.805131e-01\n",
       "75%    7.097946e-01\n",
       "max    2.820281e+00"
      ]
     },
     "execution_count": 31,
     "metadata": {},
     "output_type": "execute_result"
    }
   ],
   "source": [
    "# Check the dataframe to make sure the calculation worked as expected \n",
    "df_gdp_scaled.describe()"
   ]
  },
  {
   "cell_type": "code",
   "execution_count": 32,
   "id": "3c6c8a62",
   "metadata": {},
   "outputs": [],
   "source": [
    "average_gdp= df_gdp.mean()\n",
    "std_gdp = df_gdp.std()"
   ]
  },
  {
   "cell_type": "code",
   "execution_count": 33,
   "id": "f8aa2d4a",
   "metadata": {},
   "outputs": [],
   "source": [
    "df_gdp_scaled_manual = (df_gdp-average_gdp)/std_gdp\n"
   ]
  },
  {
   "cell_type": "code",
   "execution_count": 34,
   "id": "433640ff",
   "metadata": {},
   "outputs": [
    {
     "data": {
      "text/html": [
       "<div>\n",
       "<style scoped>\n",
       "    .dataframe tbody tr th:only-of-type {\n",
       "        vertical-align: middle;\n",
       "    }\n",
       "\n",
       "    .dataframe tbody tr th {\n",
       "        vertical-align: top;\n",
       "    }\n",
       "\n",
       "    .dataframe thead th {\n",
       "        text-align: right;\n",
       "    }\n",
       "</style>\n",
       "<table border=\"1\" class=\"dataframe\">\n",
       "  <thead>\n",
       "    <tr style=\"text-align: right;\">\n",
       "      <th></th>\n",
       "      <th>gdp</th>\n",
       "    </tr>\n",
       "  </thead>\n",
       "  <tbody>\n",
       "    <tr>\n",
       "      <th>count</th>\n",
       "      <td>3.090000e+02</td>\n",
       "    </tr>\n",
       "    <tr>\n",
       "      <th>mean</th>\n",
       "      <td>-1.379695e-16</td>\n",
       "    </tr>\n",
       "    <tr>\n",
       "      <th>std</th>\n",
       "      <td>1.000000e+00</td>\n",
       "    </tr>\n",
       "    <tr>\n",
       "      <th>min</th>\n",
       "      <td>-9.339814e-01</td>\n",
       "    </tr>\n",
       "    <tr>\n",
       "      <th>25%</th>\n",
       "      <td>-8.588551e-01</td>\n",
       "    </tr>\n",
       "    <tr>\n",
       "      <th>50%</th>\n",
       "      <td>-3.798969e-01</td>\n",
       "    </tr>\n",
       "    <tr>\n",
       "      <th>75%</th>\n",
       "      <td>7.086451e-01</td>\n",
       "    </tr>\n",
       "    <tr>\n",
       "      <th>max</th>\n",
       "      <td>2.815713e+00</td>\n",
       "    </tr>\n",
       "  </tbody>\n",
       "</table>\n",
       "</div>"
      ],
      "text/plain": [
       "                gdp\n",
       "count  3.090000e+02\n",
       "mean  -1.379695e-16\n",
       "std    1.000000e+00\n",
       "min   -9.339814e-01\n",
       "25%   -8.588551e-01\n",
       "50%   -3.798969e-01\n",
       "75%    7.086451e-01\n",
       "max    2.815713e+00"
      ]
     },
     "execution_count": 34,
     "metadata": {},
     "output_type": "execute_result"
    }
   ],
   "source": [
    "df_gdp_scaled_manual.describe()"
   ]
  },
  {
   "cell_type": "markdown",
   "id": "1f1a89d2",
   "metadata": {},
   "source": [
    "## EDA: Plotting a time series of adjusted open vs close price\n",
    "\n",
    "As part of your EDA, you'll frequently want to plot two time series on the same graph and using the same axis to compare their movements. \n",
    "\n",
    "Your task:\n",
    "* Plot the Apple open and close price time series on the same chart **for the last three months only**. Be sure to use a legend to label each line\n",
    "\n",
    "**NOTE**: This is a large dataset. If you try to plot the entire series, your graph will be hard to interpret and may take a long time to plot. Be sure to use only the most recent three months of data. "
   ]
  },
  {
   "cell_type": "code",
   "execution_count": 35,
   "id": "9b490f9b",
   "metadata": {},
   "outputs": [
    {
     "data": {
      "text/plain": [
       "Timestamp('2024-05-03 00:00:00')"
      ]
     },
     "execution_count": 35,
     "metadata": {},
     "output_type": "execute_result"
    }
   ],
   "source": [
    "# Get max date in timeseries\n",
    "max_date_apple =df_apple.index.max()\n",
    "max_date_apple"
   ]
  },
  {
   "cell_type": "code",
   "execution_count": 36,
   "id": "03b51a20",
   "metadata": {},
   "outputs": [
    {
     "data": {
      "text/html": [
       "<div>\n",
       "<style scoped>\n",
       "    .dataframe tbody tr th:only-of-type {\n",
       "        vertical-align: middle;\n",
       "    }\n",
       "\n",
       "    .dataframe tbody tr th {\n",
       "        vertical-align: top;\n",
       "    }\n",
       "\n",
       "    .dataframe thead th {\n",
       "        text-align: right;\n",
       "    }\n",
       "</style>\n",
       "<table border=\"1\" class=\"dataframe\">\n",
       "  <thead>\n",
       "    <tr style=\"text-align: right;\">\n",
       "      <th></th>\n",
       "      <th>close</th>\n",
       "      <th>volume</th>\n",
       "      <th>open</th>\n",
       "      <th>high</th>\n",
       "      <th>low</th>\n",
       "    </tr>\n",
       "    <tr>\n",
       "      <th>date</th>\n",
       "      <th></th>\n",
       "      <th></th>\n",
       "      <th></th>\n",
       "      <th></th>\n",
       "      <th></th>\n",
       "    </tr>\n",
       "  </thead>\n",
       "  <tbody>\n",
       "    <tr>\n",
       "      <th>2024-05-03</th>\n",
       "      <td>183.38</td>\n",
       "      <td>163224100</td>\n",
       "      <td>186.65</td>\n",
       "      <td>187.00</td>\n",
       "      <td>182.66</td>\n",
       "    </tr>\n",
       "    <tr>\n",
       "      <th>2024-05-02</th>\n",
       "      <td>173.03</td>\n",
       "      <td>94214920</td>\n",
       "      <td>172.51</td>\n",
       "      <td>173.42</td>\n",
       "      <td>170.89</td>\n",
       "    </tr>\n",
       "    <tr>\n",
       "      <th>2024-05-01</th>\n",
       "      <td>169.30</td>\n",
       "      <td>50383150</td>\n",
       "      <td>169.58</td>\n",
       "      <td>172.71</td>\n",
       "      <td>169.11</td>\n",
       "    </tr>\n",
       "    <tr>\n",
       "      <th>2024-04-30</th>\n",
       "      <td>170.33</td>\n",
       "      <td>65934780</td>\n",
       "      <td>173.33</td>\n",
       "      <td>174.99</td>\n",
       "      <td>170.00</td>\n",
       "    </tr>\n",
       "    <tr>\n",
       "      <th>2024-04-29</th>\n",
       "      <td>173.50</td>\n",
       "      <td>68169420</td>\n",
       "      <td>173.37</td>\n",
       "      <td>176.03</td>\n",
       "      <td>173.10</td>\n",
       "    </tr>\n",
       "    <tr>\n",
       "      <th>...</th>\n",
       "      <td>...</td>\n",
       "      <td>...</td>\n",
       "      <td>...</td>\n",
       "      <td>...</td>\n",
       "      <td>...</td>\n",
       "    </tr>\n",
       "    <tr>\n",
       "      <th>2024-02-09</th>\n",
       "      <td>188.85</td>\n",
       "      <td>45155220</td>\n",
       "      <td>188.65</td>\n",
       "      <td>189.99</td>\n",
       "      <td>188.00</td>\n",
       "    </tr>\n",
       "    <tr>\n",
       "      <th>2024-02-08</th>\n",
       "      <td>188.32</td>\n",
       "      <td>40962050</td>\n",
       "      <td>189.39</td>\n",
       "      <td>189.54</td>\n",
       "      <td>187.35</td>\n",
       "    </tr>\n",
       "    <tr>\n",
       "      <th>2024-02-07</th>\n",
       "      <td>189.41</td>\n",
       "      <td>53438960</td>\n",
       "      <td>190.64</td>\n",
       "      <td>191.05</td>\n",
       "      <td>188.61</td>\n",
       "    </tr>\n",
       "    <tr>\n",
       "      <th>2024-02-06</th>\n",
       "      <td>189.30</td>\n",
       "      <td>43490760</td>\n",
       "      <td>186.86</td>\n",
       "      <td>189.31</td>\n",
       "      <td>186.77</td>\n",
       "    </tr>\n",
       "    <tr>\n",
       "      <th>2024-02-05</th>\n",
       "      <td>187.68</td>\n",
       "      <td>69668820</td>\n",
       "      <td>188.15</td>\n",
       "      <td>189.25</td>\n",
       "      <td>185.84</td>\n",
       "    </tr>\n",
       "  </tbody>\n",
       "</table>\n",
       "<p>63 rows × 5 columns</p>\n",
       "</div>"
      ],
      "text/plain": [
       "             close     volume    open    high     low\n",
       "date                                                 \n",
       "2024-05-03  183.38  163224100  186.65  187.00  182.66\n",
       "2024-05-02  173.03   94214920  172.51  173.42  170.89\n",
       "2024-05-01  169.30   50383150  169.58  172.71  169.11\n",
       "2024-04-30  170.33   65934780  173.33  174.99  170.00\n",
       "2024-04-29  173.50   68169420  173.37  176.03  173.10\n",
       "...            ...        ...     ...     ...     ...\n",
       "2024-02-09  188.85   45155220  188.65  189.99  188.00\n",
       "2024-02-08  188.32   40962050  189.39  189.54  187.35\n",
       "2024-02-07  189.41   53438960  190.64  191.05  188.61\n",
       "2024-02-06  189.30   43490760  186.86  189.31  186.77\n",
       "2024-02-05  187.68   69668820  188.15  189.25  185.84\n",
       "\n",
       "[63 rows x 5 columns]"
      ]
     },
     "execution_count": 36,
     "metadata": {},
     "output_type": "execute_result"
    }
   ],
   "source": [
    "# Use the max date calculated above to get the last three months of data in the dataset \n",
    "df_apple_lastQ = df_apple.loc[:max_date_apple -pd.to_timedelta('90day')]\n",
    "df_apple_lastQ"
   ]
  },
  {
   "cell_type": "code",
   "execution_count": 37,
   "id": "039404e1",
   "metadata": {},
   "outputs": [
    {
     "data": {
      "image/png": "[encoded data removed]",
      "text/plain": [
       "<Figure size 640x480 with 1 Axes>"
      ]
     },
     "metadata": {},
     "output_type": "display_data"
    }
   ],
   "source": [
    "# Plot time series of open v. close stock price for Apple using the last 3 months of data\n",
    "plt.plot(df_apple_lastQ['open'], label='open', color='blue')\n",
    "plt.plot(df_apple_lastQ['close'], label='close', color='red')\n",
    "plt.xlabel('Date')\n",
    "plt.ylabel('Price')\n",
    "plt.title('Prices Apple stock')\n",
    "plt.legend()\n",
    "plt.xticks(rotation = 45)\n",
    "plt.show()\n"
   ]
  },
  {
   "cell_type": "markdown",
   "id": "bc0070c6",
   "metadata": {},
   "source": [
    "## EDA: Plotting a histogram of a stock's closing price in the last three months\n",
    "\n",
    "One way to see how much a stock's price generally moves is to plot the frequency of closing prices over a set time period. \n",
    "\n",
    "Your task:\n",
    "* Use the **last three months** of Apple stock data and plot a histogram of closing price"
   ]
  },
  {
   "cell_type": "code",
   "execution_count": 38,
   "id": "b48760fd",
   "metadata": {},
   "outputs": [
    {
     "data": {
      "text/plain": [
       "Text(0.5, 1.0, 'Distribution Closing Price Apple')"
      ]
     },
     "execution_count": 38,
     "metadata": {},
     "output_type": "execute_result"
    },
    {
     "data": {
      "image/png": "[encoded data removed]",
      "text/plain": [
       "<Figure size 640x480 with 1 Axes>"
      ]
     },
     "metadata": {},
     "output_type": "display_data"
    }
   ],
   "source": [
    "# Plot the histogram of Apple's closing price over the last 3 months \n",
    "\n",
    "plt.hist(df_apple_lastQ['close'])\n",
    "plt.xlabel('Price')\n",
    "plt.ylabel('Counts')\n",
    "plt.title('Distribution Closing Price Apple')"
   ]
  },
  {
   "cell_type": "markdown",
   "id": "01e1b22c",
   "metadata": {},
   "source": [
    "## Calculating correlation between a stock price and a macroeconomic variable \n",
    "\n",
    "Inflation affects the purchasing power of money and can influence corporate profits, interest rates, and consumer behavior. By analyzing the correlation between stock prices and inflation, one can gauge how inflationary trends impact stock market performance. For instance, high inflation might erode profit margins and reduce stock prices, while moderate inflation might indicate a growing economy, benefiting stocks.\n",
    "\n",
    "Your task:\n",
    "* Plot a heatmap that shows the correlation between Microsoft and Apple returns and inflation \n",
    "\n",
    "This will require several steps:\n",
    "1. Calculate the returns for Apple and Microsoft and the change in monthly inflation (use the `pct_change` method for each)\n",
    "2. Interpolate the daily stock returns data to monthly so it can be compared to the monthly inflation data\n",
    "3. Merge the stock returns (Apple and Microsoft) and inflation data series into a single dataframe\n",
    "4. Calculate the correlation matrix between the Apple returns, Microsoft returns, and inflation change\n",
    "5. Plot the correlation matrix as a heatmap"
   ]
  },
  {
   "cell_type": "markdown",
   "id": "c38842ed",
   "metadata": {},
   "source": [
    "### 1. Calculate returns for Microsoft / Apple and the monthly change in inflation"
   ]
  },
  {
   "cell_type": "code",
   "execution_count": 39,
   "id": "a112dc12",
   "metadata": {},
   "outputs": [
    {
     "data": {
      "text/plain": [
       "date\n",
       "2014-05-06         NaN\n",
       "2014-05-07   -0.003768\n",
       "2014-05-08   -0.007092\n",
       "2014-05-09   -0.004286\n",
       "2014-05-12    0.012434\n",
       "                ...   \n",
       "2024-04-29    0.024808\n",
       "2024-04-30   -0.018271\n",
       "2024-05-01   -0.006047\n",
       "2024-05-02    0.022032\n",
       "2024-05-03    0.059816\n",
       "Name: close, Length: 2517, dtype: float64"
      ]
     },
     "execution_count": 39,
     "metadata": {},
     "output_type": "execute_result"
    }
   ],
   "source": [
    "# Calculate daily returns for Apple and Microsoft and the percent change in inflation from month to month\n",
    "df_apple_sorted = df_apple.sort_index()\n",
    "df_daily_return_apple = df_apple_sorted['close'].pct_change()\n",
    "df_daily_return_apple"
   ]
  },
  {
   "cell_type": "code",
   "execution_count": 40,
   "id": "6445e636",
   "metadata": {},
   "outputs": [
    {
     "data": {
      "text/plain": [
       "date\n",
       "2014-05-06         NaN\n",
       "2014-05-07    0.009345\n",
       "2014-05-08    0.005453\n",
       "2014-05-09   -0.002523\n",
       "2014-05-12    0.010875\n",
       "                ...   \n",
       "2024-04-29   -0.010017\n",
       "2024-04-30   -0.032119\n",
       "2024-05-01    0.014409\n",
       "2024-05-02    0.007343\n",
       "2024-05-03    0.022170\n",
       "Name: close, Length: 2517, dtype: float64"
      ]
     },
     "execution_count": 40,
     "metadata": {},
     "output_type": "execute_result"
    }
   ],
   "source": [
    "df_msoft_sorted = df_msoft.sort_index()\n",
    "df_daily_return_msoft = df_msoft_sorted['close'].pct_change()\n",
    "df_daily_return_msoft"
   ]
  },
  {
   "cell_type": "markdown",
   "id": "c8aa1b91",
   "metadata": {},
   "source": [
    "### 2. Interpolate stock returns from daily to monthly"
   ]
  },
  {
   "cell_type": "code",
   "execution_count": 41,
   "id": "9300a530",
   "metadata": {},
   "outputs": [
    {
     "data": {
      "text/html": [
       "<div>\n",
       "<style scoped>\n",
       "    .dataframe tbody tr th:only-of-type {\n",
       "        vertical-align: middle;\n",
       "    }\n",
       "\n",
       "    .dataframe tbody tr th {\n",
       "        vertical-align: top;\n",
       "    }\n",
       "\n",
       "    .dataframe thead th {\n",
       "        text-align: right;\n",
       "    }\n",
       "</style>\n",
       "<table border=\"1\" class=\"dataframe\">\n",
       "  <thead>\n",
       "    <tr style=\"text-align: right;\">\n",
       "      <th></th>\n",
       "      <th>close</th>\n",
       "      <th>volume</th>\n",
       "      <th>open</th>\n",
       "      <th>high</th>\n",
       "      <th>low</th>\n",
       "    </tr>\n",
       "    <tr>\n",
       "      <th>date</th>\n",
       "      <th></th>\n",
       "      <th></th>\n",
       "      <th></th>\n",
       "      <th></th>\n",
       "      <th></th>\n",
       "    </tr>\n",
       "  </thead>\n",
       "  <tbody>\n",
       "    <tr>\n",
       "      <th>2014-05-31</th>\n",
       "      <td>NaN</td>\n",
       "      <td>NaN</td>\n",
       "      <td>NaN</td>\n",
       "      <td>NaN</td>\n",
       "      <td>NaN</td>\n",
       "    </tr>\n",
       "    <tr>\n",
       "      <th>2014-06-30</th>\n",
       "      <td>0.027421</td>\n",
       "      <td>-0.648770</td>\n",
       "      <td>0.010531</td>\n",
       "      <td>0.018253</td>\n",
       "      <td>0.024933</td>\n",
       "    </tr>\n",
       "    <tr>\n",
       "      <th>2014-07-31</th>\n",
       "      <td>0.028842</td>\n",
       "      <td>0.144544</td>\n",
       "      <td>0.054711</td>\n",
       "      <td>0.039693</td>\n",
       "      <td>0.035187</td>\n",
       "    </tr>\n",
       "    <tr>\n",
       "      <th>2014-08-31</th>\n",
       "      <td>0.072385</td>\n",
       "      <td>-0.213849</td>\n",
       "      <td>0.058872</td>\n",
       "      <td>0.056240</td>\n",
       "      <td>0.072178</td>\n",
       "    </tr>\n",
       "    <tr>\n",
       "      <th>2014-09-30</th>\n",
       "      <td>-0.017167</td>\n",
       "      <td>0.238203</td>\n",
       "      <td>-0.020218</td>\n",
       "      <td>-0.013214</td>\n",
       "      <td>-0.016438</td>\n",
       "    </tr>\n",
       "    <tr>\n",
       "      <th>...</th>\n",
       "      <td>...</td>\n",
       "      <td>...</td>\n",
       "      <td>...</td>\n",
       "      <td>...</td>\n",
       "      <td>...</td>\n",
       "    </tr>\n",
       "    <tr>\n",
       "      <th>2024-01-31</th>\n",
       "      <td>-0.042227</td>\n",
       "      <td>0.299860</td>\n",
       "      <td>-0.035379</td>\n",
       "      <td>-0.037551</td>\n",
       "      <td>-0.038492</td>\n",
       "    </tr>\n",
       "    <tr>\n",
       "      <th>2024-02-29</th>\n",
       "      <td>-0.019794</td>\n",
       "      <td>1.464179</td>\n",
       "      <td>-0.030849</td>\n",
       "      <td>-0.024212</td>\n",
       "      <td>-0.026146</td>\n",
       "    </tr>\n",
       "    <tr>\n",
       "      <th>2024-03-31</th>\n",
       "      <td>-0.051286</td>\n",
       "      <td>-0.519524</td>\n",
       "      <td>-0.052518</td>\n",
       "      <td>-0.056636</td>\n",
       "      <td>-0.050242</td>\n",
       "    </tr>\n",
       "    <tr>\n",
       "      <th>2024-04-30</th>\n",
       "      <td>-0.006706</td>\n",
       "      <td>0.003991</td>\n",
       "      <td>0.009199</td>\n",
       "      <td>0.016025</td>\n",
       "      <td>-0.002991</td>\n",
       "    </tr>\n",
       "    <tr>\n",
       "      <th>2024-05-31</th>\n",
       "      <td>0.076616</td>\n",
       "      <td>1.475539</td>\n",
       "      <td>0.076848</td>\n",
       "      <td>0.068632</td>\n",
       "      <td>0.074471</td>\n",
       "    </tr>\n",
       "  </tbody>\n",
       "</table>\n",
       "<p>121 rows × 5 columns</p>\n",
       "</div>"
      ],
      "text/plain": [
       "               close    volume      open      high       low\n",
       "date                                                        \n",
       "2014-05-31       NaN       NaN       NaN       NaN       NaN\n",
       "2014-06-30  0.027421 -0.648770  0.010531  0.018253  0.024933\n",
       "2014-07-31  0.028842  0.144544  0.054711  0.039693  0.035187\n",
       "2014-08-31  0.072385 -0.213849  0.058872  0.056240  0.072178\n",
       "2014-09-30 -0.017167  0.238203 -0.020218 -0.013214 -0.016438\n",
       "...              ...       ...       ...       ...       ...\n",
       "2024-01-31 -0.042227  0.299860 -0.035379 -0.037551 -0.038492\n",
       "2024-02-29 -0.019794  1.464179 -0.030849 -0.024212 -0.026146\n",
       "2024-03-31 -0.051286 -0.519524 -0.052518 -0.056636 -0.050242\n",
       "2024-04-30 -0.006706  0.003991  0.009199  0.016025 -0.002991\n",
       "2024-05-31  0.076616  1.475539  0.076848  0.068632  0.074471\n",
       "\n",
       "[121 rows x 5 columns]"
      ]
     },
     "execution_count": 41,
     "metadata": {},
     "output_type": "execute_result"
    }
   ],
   "source": [
    "df_montly_return_apple = df_apple_sorted.resample('M').last().pct_change()\n",
    "df_montly_return_apple"
   ]
  },
  {
   "cell_type": "code",
   "execution_count": 42,
   "id": "22a38e63",
   "metadata": {},
   "outputs": [
    {
     "data": {
      "text/html": [
       "<div>\n",
       "<style scoped>\n",
       "    .dataframe tbody tr th:only-of-type {\n",
       "        vertical-align: middle;\n",
       "    }\n",
       "\n",
       "    .dataframe tbody tr th {\n",
       "        vertical-align: top;\n",
       "    }\n",
       "\n",
       "    .dataframe thead th {\n",
       "        text-align: right;\n",
       "    }\n",
       "</style>\n",
       "<table border=\"1\" class=\"dataframe\">\n",
       "  <thead>\n",
       "    <tr style=\"text-align: right;\">\n",
       "      <th></th>\n",
       "      <th>close</th>\n",
       "      <th>volume</th>\n",
       "      <th>open</th>\n",
       "      <th>high</th>\n",
       "      <th>low</th>\n",
       "    </tr>\n",
       "    <tr>\n",
       "      <th>date</th>\n",
       "      <th></th>\n",
       "      <th></th>\n",
       "      <th></th>\n",
       "      <th></th>\n",
       "      <th></th>\n",
       "    </tr>\n",
       "  </thead>\n",
       "  <tbody>\n",
       "    <tr>\n",
       "      <th>2014-05-31</th>\n",
       "      <td>NaN</td>\n",
       "      <td>NaN</td>\n",
       "      <td>NaN</td>\n",
       "      <td>NaN</td>\n",
       "      <td>NaN</td>\n",
       "    </tr>\n",
       "    <tr>\n",
       "      <th>2014-06-30</th>\n",
       "      <td>0.018564</td>\n",
       "      <td>-0.109190</td>\n",
       "      <td>0.042522</td>\n",
       "      <td>0.030266</td>\n",
       "      <td>0.036025</td>\n",
       "    </tr>\n",
       "    <tr>\n",
       "      <th>2014-07-31</th>\n",
       "      <td>0.035012</td>\n",
       "      <td>0.023948</td>\n",
       "      <td>0.028693</td>\n",
       "      <td>0.035063</td>\n",
       "      <td>0.033094</td>\n",
       "    </tr>\n",
       "    <tr>\n",
       "      <th>2014-08-31</th>\n",
       "      <td>0.052595</td>\n",
       "      <td>-0.315587</td>\n",
       "      <td>0.039419</td>\n",
       "      <td>0.040055</td>\n",
       "      <td>0.041202</td>\n",
       "    </tr>\n",
       "    <tr>\n",
       "      <th>2014-09-30</th>\n",
       "      <td>0.020471</td>\n",
       "      <td>0.529192</td>\n",
       "      <td>0.028388</td>\n",
       "      <td>0.022806</td>\n",
       "      <td>0.025750</td>\n",
       "    </tr>\n",
       "    <tr>\n",
       "      <th>...</th>\n",
       "      <td>...</td>\n",
       "      <td>...</td>\n",
       "      <td>...</td>\n",
       "      <td>...</td>\n",
       "      <td>...</td>\n",
       "    </tr>\n",
       "    <tr>\n",
       "      <th>2024-01-31</th>\n",
       "      <td>0.057281</td>\n",
       "      <td>1.555737</td>\n",
       "      <td>0.082340</td>\n",
       "      <td>0.101177</td>\n",
       "      <td>0.063538</td>\n",
       "    </tr>\n",
       "    <tr>\n",
       "      <th>2024-02-29</th>\n",
       "      <td>0.040394</td>\n",
       "      <td>-0.332640</td>\n",
       "      <td>0.004128</td>\n",
       "      <td>-0.002697</td>\n",
       "      <td>0.021928</td>\n",
       "    </tr>\n",
       "    <tr>\n",
       "      <th>2024-03-31</th>\n",
       "      <td>0.017116</td>\n",
       "      <td>-0.315398</td>\n",
       "      <td>0.030149</td>\n",
       "      <td>0.018518</td>\n",
       "      <td>0.032519</td>\n",
       "    </tr>\n",
       "    <tr>\n",
       "      <th>2024-04-30</th>\n",
       "      <td>-0.074610</td>\n",
       "      <td>0.315951</td>\n",
       "      <td>-0.046251</td>\n",
       "      <td>-0.046721</td>\n",
       "      <td>-0.071459</td>\n",
       "    </tr>\n",
       "    <tr>\n",
       "      <th>2024-05-31</th>\n",
       "      <td>0.044512</td>\n",
       "      <td>-0.393819</td>\n",
       "      <td>0.001968</td>\n",
       "      <td>0.012408</td>\n",
       "      <td>0.032608</td>\n",
       "    </tr>\n",
       "  </tbody>\n",
       "</table>\n",
       "<p>121 rows × 5 columns</p>\n",
       "</div>"
      ],
      "text/plain": [
       "               close    volume      open      high       low\n",
       "date                                                        \n",
       "2014-05-31       NaN       NaN       NaN       NaN       NaN\n",
       "2014-06-30  0.018564 -0.109190  0.042522  0.030266  0.036025\n",
       "2014-07-31  0.035012  0.023948  0.028693  0.035063  0.033094\n",
       "2014-08-31  0.052595 -0.315587  0.039419  0.040055  0.041202\n",
       "2014-09-30  0.020471  0.529192  0.028388  0.022806  0.025750\n",
       "...              ...       ...       ...       ...       ...\n",
       "2024-01-31  0.057281  1.555737  0.082340  0.101177  0.063538\n",
       "2024-02-29  0.040394 -0.332640  0.004128 -0.002697  0.021928\n",
       "2024-03-31  0.017116 -0.315398  0.030149  0.018518  0.032519\n",
       "2024-04-30 -0.074610  0.315951 -0.046251 -0.046721 -0.071459\n",
       "2024-05-31  0.044512 -0.393819  0.001968  0.012408  0.032608\n",
       "\n",
       "[121 rows x 5 columns]"
      ]
     },
     "execution_count": 42,
     "metadata": {},
     "output_type": "execute_result"
    }
   ],
   "source": [
    "df_montly_return_msoft = df_msoft_sorted.resample('M').last().pct_change()\n",
    "df_montly_return_msoft"
   ]
  },
  {
   "cell_type": "markdown",
   "id": "268272e6",
   "metadata": {},
   "source": [
    "### 3. Merge the dataframes and calculate / plot the correlation"
   ]
  },
  {
   "cell_type": "code",
   "execution_count": 43,
   "id": "0defb97b",
   "metadata": {},
   "outputs": [
    {
     "data": {
      "text/html": [
       "<div>\n",
       "<style scoped>\n",
       "    .dataframe tbody tr th:only-of-type {\n",
       "        vertical-align: middle;\n",
       "    }\n",
       "\n",
       "    .dataframe tbody tr th {\n",
       "        vertical-align: top;\n",
       "    }\n",
       "\n",
       "    .dataframe thead th {\n",
       "        text-align: right;\n",
       "    }\n",
       "</style>\n",
       "<table border=\"1\" class=\"dataframe\">\n",
       "  <thead>\n",
       "    <tr style=\"text-align: right;\">\n",
       "      <th></th>\n",
       "      <th>close_apple</th>\n",
       "      <th>close_msoft</th>\n",
       "      <th>CORESTICKM159SFRBATL</th>\n",
       "    </tr>\n",
       "    <tr>\n",
       "      <th>date</th>\n",
       "      <th></th>\n",
       "      <th></th>\n",
       "      <th></th>\n",
       "    </tr>\n",
       "  </thead>\n",
       "  <tbody>\n",
       "    <tr>\n",
       "      <th>2014-05-31</th>\n",
       "      <td>NaN</td>\n",
       "      <td>NaN</td>\n",
       "      <td>2.127518</td>\n",
       "    </tr>\n",
       "    <tr>\n",
       "      <th>2014-06-30</th>\n",
       "      <td>0.027421</td>\n",
       "      <td>0.018564</td>\n",
       "      <td>2.142724</td>\n",
       "    </tr>\n",
       "    <tr>\n",
       "      <th>2014-07-31</th>\n",
       "      <td>0.028842</td>\n",
       "      <td>0.035012</td>\n",
       "      <td>2.098319</td>\n",
       "    </tr>\n",
       "    <tr>\n",
       "      <th>2014-08-31</th>\n",
       "      <td>0.072385</td>\n",
       "      <td>0.052595</td>\n",
       "      <td>1.959017</td>\n",
       "    </tr>\n",
       "    <tr>\n",
       "      <th>2014-09-30</th>\n",
       "      <td>-0.017167</td>\n",
       "      <td>0.020471</td>\n",
       "      <td>1.950170</td>\n",
       "    </tr>\n",
       "    <tr>\n",
       "      <th>...</th>\n",
       "      <td>...</td>\n",
       "      <td>...</td>\n",
       "      <td>...</td>\n",
       "    </tr>\n",
       "    <tr>\n",
       "      <th>2024-01-31</th>\n",
       "      <td>-0.042227</td>\n",
       "      <td>0.057281</td>\n",
       "      <td>4.603922</td>\n",
       "    </tr>\n",
       "    <tr>\n",
       "      <th>2024-02-29</th>\n",
       "      <td>-0.019794</td>\n",
       "      <td>0.040394</td>\n",
       "      <td>4.403102</td>\n",
       "    </tr>\n",
       "    <tr>\n",
       "      <th>2024-03-31</th>\n",
       "      <td>-0.051286</td>\n",
       "      <td>0.017116</td>\n",
       "      <td>4.509212</td>\n",
       "    </tr>\n",
       "    <tr>\n",
       "      <th>2024-04-30</th>\n",
       "      <td>-0.006706</td>\n",
       "      <td>-0.074610</td>\n",
       "      <td>NaN</td>\n",
       "    </tr>\n",
       "    <tr>\n",
       "      <th>2024-05-31</th>\n",
       "      <td>0.076616</td>\n",
       "      <td>0.044512</td>\n",
       "      <td>NaN</td>\n",
       "    </tr>\n",
       "  </tbody>\n",
       "</table>\n",
       "<p>121 rows × 3 columns</p>\n",
       "</div>"
      ],
      "text/plain": [
       "            close_apple  close_msoft  CORESTICKM159SFRBATL\n",
       "date                                                      \n",
       "2014-05-31          NaN          NaN              2.127518\n",
       "2014-06-30     0.027421     0.018564              2.142724\n",
       "2014-07-31     0.028842     0.035012              2.098319\n",
       "2014-08-31     0.072385     0.052595              1.959017\n",
       "2014-09-30    -0.017167     0.020471              1.950170\n",
       "...                 ...          ...                   ...\n",
       "2024-01-31    -0.042227     0.057281              4.603922\n",
       "2024-02-29    -0.019794     0.040394              4.403102\n",
       "2024-03-31    -0.051286     0.017116              4.509212\n",
       "2024-04-30    -0.006706    -0.074610                   NaN\n",
       "2024-05-31     0.076616     0.044512                   NaN\n",
       "\n",
       "[121 rows x 3 columns]"
      ]
     },
     "execution_count": 43,
     "metadata": {},
     "output_type": "execute_result"
    }
   ],
   "source": [
    "df_merged = pd.merge(pd.merge(df_montly_return_apple['close'], df_montly_return_msoft['close'], on='date', suffixes=['_apple', '_msoft']), df_inflation, on='date', how='left') \n",
    "df_merged"
   ]
  },
  {
   "cell_type": "markdown",
   "id": "e1352272",
   "metadata": {},
   "source": [
    "### 4. Calculate the correlation matrix between the Apple returns, Microsoft returns, and inflation change"
   ]
  },
  {
   "cell_type": "code",
   "execution_count": 44,
   "id": "8176f9ff",
   "metadata": {},
   "outputs": [],
   "source": [
    "# Calculate correlation matrix\n",
    "corr_matrix = df_merged.corr()"
   ]
  },
  {
   "cell_type": "markdown",
   "id": "43b0ac07",
   "metadata": {},
   "source": [
    "### 5. Plot the correlation matrix as a heatmap "
   ]
  },
  {
   "cell_type": "code",
   "execution_count": 45,
   "id": "0f731a65",
   "metadata": {},
   "outputs": [
    {
     "data": {
      "text/plain": [
       "<Axes: >"
      ]
     },
     "execution_count": 45,
     "metadata": {},
     "output_type": "execute_result"
    },
    {
     "data": {
      "image/png": "[encoded data removed]",
      "text/plain": [
       "<Figure size 640x480 with 2 Axes>"
      ]
     },
     "metadata": {},
     "output_type": "display_data"
    }
   ],
   "source": [
    "# Plot heatmap\n",
    "sns.heatmap(corr_matrix, annot=True)"
   ]
  },
  {
   "cell_type": "markdown",
   "id": "624a2410",
   "metadata": {},
   "source": [
    "## Calculating rolling volatility (standard deviation) of a stock's price for last 3 months\n",
    "\n",
    "Volatility is a measure of the dispersion of returns for a given security. By calculating rolling volatility, investors can assess the risk associated with a stock over time: Higher volatility indicates higher risk, as the stock's price is more likely to experience significant fluctuations. In portfolio optimization, understanding the volatility of individual stocks and how it changes over time is crucial for diversification and optimization. By analyzing rolling volatility, investors can adjust their portfolios to maintain a desired risk level, potentially improving the risk-return profile.\n",
    "\n",
    "One possible way to calculate volatility is by using the standard deviation of returns for a stock over time.\n",
    "\n",
    "Your task:\n",
    "* Calculate the weekly rolling standard deviation for Apple's closing price\n",
    "* Plot the calculated rolling weekly volatility of Apple's closing price against Apple's closing price. Plot these **on the same chart, but using different y-axes**\n",
    "\n",
    "Helpful hints:\n",
    "* You'll need to use the `pandas` `rolling()` method with a given `window_size` parameter to make it a _weekly_ rolling calculation\n",
    "* Use **only the last three months of data**; data much older than this may not be as useful for portfolio optimization\n",
    "* You'll need to create two axes on the matplotlib figure to be able to use two different y-axes (one for the closing price and one for the rolling volatility calculated here)"
   ]
  },
  {
   "cell_type": "code",
   "execution_count": 46,
   "id": "4da9eb94",
   "metadata": {},
   "outputs": [],
   "source": [
    "# Define the window size for the rolling calculation (e.g., one week)\n",
    "window_size=7"
   ]
  },
  {
   "cell_type": "code",
   "execution_count": 47,
   "id": "2c5142b4",
   "metadata": {},
   "outputs": [
    {
     "data": {
      "text/plain": [
       "date\n",
       "2024-02-05    2.792845\n",
       "2024-02-06    2.378192\n",
       "2024-02-07    1.817624\n",
       "2024-02-08    1.837976\n",
       "2024-02-09    1.323952\n",
       "                ...   \n",
       "2024-04-29    2.878881\n",
       "2024-04-30    2.478049\n",
       "2024-05-01    1.978168\n",
       "2024-05-02    1.860294\n",
       "2024-05-03    5.023946\n",
       "Name: close, Length: 63, dtype: float64"
      ]
     },
     "execution_count": 47,
     "metadata": {},
     "output_type": "execute_result"
    }
   ],
   "source": [
    "# Calculate rolling one-week volatility\n",
    "rolling_week_volatility_apple = df_apple_sorted['close'].rolling(window_size).std()# Calculate rolling one-week volatility\n",
    "\n",
    "rolling_week_volatility_apple = rolling_week_volatility_apple.loc[(max_date_apple - pd.to_timedelta('90day')):]\n",
    "rolling_week_volatility_apple"
   ]
  },
  {
   "cell_type": "code",
   "execution_count": 48,
   "id": "92a9c0b8",
   "metadata": {},
   "outputs": [
    {
     "data": {
      "text/plain": [
       "Text(0, 0.5, 'Weekly rolling st. dev. Apple')"
      ]
     },
     "execution_count": 48,
     "metadata": {},
     "output_type": "execute_result"
    },
    {
     "data": {
      "image/png": "[encoded data removed]",
      "text/plain": [
       "<Figure size 640x480 with 2 Axes>"
      ]
     },
     "metadata": {},
     "output_type": "display_data"
    }
   ],
   "source": [
    "# Plot the calculated rolling weekly volatility of Apple's closing price against Apple's closing price\n",
    "# Plot these on the same chart, but using different y-axes\n",
    "closing_price='red'\n",
    "standard_dev='blue'\n",
    "\n",
    "fig, ax =plt.subplots()\n",
    "\n",
    "\n",
    "ax.plot(df_apple_lastQ.index, df_apple_lastQ['close'], color=closing_price)\n",
    "ax.set_xlabel('Date', fontsize=12)\n",
    "ax.set_ylabel('Closing Price Apple', fontsize=12, color= closing_price)\n",
    "plt.xticks(rotation=45)\n",
    "ax2 = ax.twinx()\n",
    "ax2.plot(df_apple_lastQ.index, rolling_week_volatility_apple, color=standard_dev)\n",
    "ax2.set_ylabel('Weekly rolling st. dev. Apple', fontsize=12, color=standard_dev)\n"
   ]
  },
  {
   "cell_type": "markdown",
   "id": "e2cf3c78",
   "metadata": {},
   "source": [
    "## Export data\n",
    "\n",
    "Now that you have preprocessed your data, you should save it in new csv files so that it can be used in downstream tasks without having to redo all the preprocessing steps. \n",
    "\n",
    "Your task:\n",
    "* Use `pandas` to export all modified datasets back to new CSV files"
   ]
  },
  {
   "cell_type": "code",
   "execution_count": 49,
   "id": "3d67d29c",
   "metadata": {},
   "outputs": [],
   "source": [
    "modified_dfs={'data_gdp': df_gdp, 'data_inflation': df_inflation, 'data_apple' : df_apple, 'data_msoft': \\\n",
    "              df_msoft, 'df_inflation_weekly': df_inflation_weekly, 'df_inflation_quarterly': df_inflation_quarterly, \\\n",
    "            'df_gdp_scaled':  df_gdp_scaled,  'df_apple_lastQ': df_apple_lastQ, 'df_daily_return_apple' : df_daily_return_apple, \\\n",
    "             'df_daily_return_msoft': df_daily_return_msoft, 'df_montly_return_apple': df_montly_return_apple, \\\n",
    "             'df_montly_return_msoft': df_montly_return_msoft, 'df_merged': df_merged, 'rolling_week_volatility_apple': rolling_week_volatility_apple} \n",
    "for k,v in modified_dfs.items():\n",
    "    v.to_csv(f'{k}.csv', index=False)"
   ]
  },
  {
   "cell_type": "markdown",
   "id": "e4d079f6",
   "metadata": {},
   "source": [
    "NB: Consumer price index (consumer_price_index.csv) is not exported because not used."
   ]
  },
  {
   "cell_type": "code",
   "execution_count": null,
   "id": "21dfb06f",
   "metadata": {},
   "outputs": [],
   "source": []
  }
 ],
 "metadata": {
  "kernelspec": {
   "display_name": "Python 3 (ipykernel)",
   "language": "python",
   "name": "python3"
  },
  "language_info": {
   "codemirror_mode": {
    "name": "ipython",
    "version": 3
   },
   "file_extension": ".py",
   "mimetype": "text/x-python",
   "name": "python",
   "nbconvert_exporter": "python",
   "pygments_lexer": "ipython3",
   "version": "3.10.13"
  }
 },
 "nbformat": 4,
 "nbformat_minor": 5
}
