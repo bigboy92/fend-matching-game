{
 "cells": [
  {
   "cell_type": "markdown",
   "id": "81942eb1",
   "metadata": {},
   "source": [
    "# Course 2 Project: ML Pipeline for Feature Engineering"
   ]
  },
  {
   "cell_type": "markdown",
   "id": "4f241775",
   "metadata": {},
   "source": [
    "## Instructions\n",
    "\n",
    "In this project, you'll use data related to microeconomic indicators and historical stock prices to explore the data engineering pipline. You'll get to practice:\n",
    "\n",
    "* Data ingestion \n",
    "* Data cleaning\n",
    "* Data imputation\n",
    "* Exploratory data analysis (EDA) through charts and graphs"
   ]
  },
  {
   "cell_type": "markdown",
   "id": "1f12b277",
   "metadata": {},
   "source": [
    "## Packages\n",
    "\n",
    "You'll use `pandas` and `matplotlib`, which were covered in the course material, to import, clean, and plot data. They have been installed in this workspace for you. If you're working locally and you installed Jupyter using Anaconda, these packages will already be installed. "
   ]
  },
  {
   "cell_type": "code",
   "execution_count": 1,
   "id": "882241d4",
   "metadata": {},
   "outputs": [],
   "source": [
    "import pandas as pd\n",
    "import matplotlib.pyplot as plt\n",
    "import seaborn as sns"
   ]
  },
  {
   "cell_type": "markdown",
   "id": "f9fcd352",
   "metadata": {},
   "source": [
    "## Load data\n",
    "\n",
    "The first step in a data engineering pipeline for machine learning is to ingest the data that will be used. For this project, data is hosted on a public GitHub repo. \n",
    "\n",
    "### Your tasks\n",
    "* Import data from the provided [GitHub repo](https://github.com/udacity/CD13649-Project/tree/main/Project) using `pandas`. For your convenience, the data files (CSVs) are also present in the current workspace at the path **CD13649-Project/Project/**. Here are the data files to import: \n",
    "  1. GDP (**GDP.csv**)\n",
    "  2. Inflation (**inflation_monthly.csv**)\n",
    "  3. Apple stock prices (**apple_historical_data.csv**)\n",
    "  4. Microsoft stock prices (**microsoft_historical_data.csv**)\n",
    "  5. Consumer price index (**consumer_price_index.csv**)\n",
    "\n",
    "\n",
    "\n",
    "* Verify that the data has been imported correctly into `pandas` dataframes. Use methods like `head()` and `info()`\n",
    "\n",
    "\n",
    "* You may need to change column names to make them easier to work with\n",
    "\n",
    "\n",
    "* You may need to cast datetime data to the `datetime` format using `pandas` `to_datetime()` method\n",
    "\n"
   ]
  },
  {
   "cell_type": "code",
   "execution_count": 2,
   "id": "bd119016",
   "metadata": {},
   "outputs": [],
   "source": [
    "# Load historical GDP data\n",
    "gdp = pd.read_csv('GDP.csv')"
   ]
  },
  {
   "cell_type": "code",
   "execution_count": 3,
   "id": "cf36d7c0",
   "metadata": {},
   "outputs": [
    {
     "data": {
      "application/vnd.microsoft.datawrangler.viewer.v0+json": {
       "columns": [
        {
         "name": "index",
         "rawType": "int64",
         "type": "integer"
        },
        {
         "name": "DATE",
         "rawType": "object",
         "type": "string"
        },
        {
         "name": "GDP",
         "rawType": "float64",
         "type": "float"
        }
       ],
       "conversionMethod": "pd.DataFrame",
       "ref": "864e34b3-327b-43b1-b35c-a3b993f28841",
       "rows": [
        [
         "0",
         "1947-01-01",
         "243.164"
        ],
        [
         "1",
         "1947-04-01",
         "245.968"
        ],
        [
         "2",
         "1947-07-01",
         "249.585"
        ],
        [
         "3",
         "1947-10-01",
         "259.745"
        ],
        [
         "4",
         "1948-01-01",
         "265.742"
        ]
       ],
       "shape": {
        "columns": 2,
        "rows": 5
       }
      },
      "text/html": [
       "<div>\n",
       "<style scoped>\n",
       "    .dataframe tbody tr th:only-of-type {\n",
       "        vertical-align: middle;\n",
       "    }\n",
       "\n",
       "    .dataframe tbody tr th {\n",
       "        vertical-align: top;\n",
       "    }\n",
       "\n",
       "    .dataframe thead th {\n",
       "        text-align: right;\n",
       "    }\n",
       "</style>\n",
       "<table border=\"1\" class=\"dataframe\">\n",
       "  <thead>\n",
       "    <tr style=\"text-align: right;\">\n",
       "      <th></th>\n",
       "      <th>DATE</th>\n",
       "      <th>GDP</th>\n",
       "    </tr>\n",
       "  </thead>\n",
       "  <tbody>\n",
       "    <tr>\n",
       "      <th>0</th>\n",
       "      <td>1947-01-01</td>\n",
       "      <td>243.164</td>\n",
       "    </tr>\n",
       "    <tr>\n",
       "      <th>1</th>\n",
       "      <td>1947-04-01</td>\n",
       "      <td>245.968</td>\n",
       "    </tr>\n",
       "    <tr>\n",
       "      <th>2</th>\n",
       "      <td>1947-07-01</td>\n",
       "      <td>249.585</td>\n",
       "    </tr>\n",
       "    <tr>\n",
       "      <th>3</th>\n",
       "      <td>1947-10-01</td>\n",
       "      <td>259.745</td>\n",
       "    </tr>\n",
       "    <tr>\n",
       "      <th>4</th>\n",
       "      <td>1948-01-01</td>\n",
       "      <td>265.742</td>\n",
       "    </tr>\n",
       "  </tbody>\n",
       "</table>\n",
       "</div>"
      ],
      "text/plain": [
       "         DATE      GDP\n",
       "0  1947-01-01  243.164\n",
       "1  1947-04-01  245.968\n",
       "2  1947-07-01  249.585\n",
       "3  1947-10-01  259.745\n",
       "4  1948-01-01  265.742"
      ]
     },
     "execution_count": 3,
     "metadata": {},
     "output_type": "execute_result"
    }
   ],
   "source": [
    "# Check the first few rows of data\n",
    "gdp.head()"
   ]
  },
  {
   "cell_type": "code",
   "execution_count": 4,
   "id": "2a2478c9",
   "metadata": {},
   "outputs": [],
   "source": [
    "# Load the historical stock price data for Apple and Microsoft\n",
    "aapl = pd.read_csv('apple_historical_data.csv')\n",
    "msft = pd.read_csv('microsoft_historical_data.csv')"
   ]
  },
  {
   "cell_type": "code",
   "execution_count": 5,
   "id": "e9e9a77a",
   "metadata": {},
   "outputs": [
    {
     "data": {
      "application/vnd.microsoft.datawrangler.viewer.v0+json": {
       "columns": [
        {
         "name": "index",
         "rawType": "int64",
         "type": "integer"
        },
        {
         "name": "Date",
         "rawType": "object",
         "type": "string"
        },
        {
         "name": "Close/Last",
         "rawType": "object",
         "type": "string"
        },
        {
         "name": "Volume",
         "rawType": "int64",
         "type": "integer"
        },
        {
         "name": "Open",
         "rawType": "object",
         "type": "string"
        },
        {
         "name": "High",
         "rawType": "object",
         "type": "string"
        },
        {
         "name": "Low",
         "rawType": "object",
         "type": "string"
        }
       ],
       "conversionMethod": "pd.DataFrame",
       "ref": "9ae80691-36d6-4dfc-9aed-caa7a26b24b1",
       "rows": [
        [
         "0",
         "5/3/2024",
         "$183.38 ",
         "163224100",
         "$186.65 ",
         "$187.00 ",
         "$182.66 "
        ],
        [
         "1",
         "5/2/2024",
         "$173.03 ",
         "94214920",
         "$172.51 ",
         "$173.42 ",
         "$170.89 "
        ],
        [
         "2",
         "5/1/2024",
         "$169.30 ",
         "50383150",
         "$169.58 ",
         "$172.71 ",
         "$169.11 "
        ],
        [
         "3",
         "4/30/2024",
         "$170.33 ",
         "65934780",
         "$173.33 ",
         "$174.99 ",
         "$170.00 "
        ],
        [
         "4",
         "4/29/2024",
         "$173.50 ",
         "68169420",
         "$173.37 ",
         "$176.03 ",
         "$173.10 "
        ]
       ],
       "shape": {
        "columns": 6,
        "rows": 5
       }
      },
      "text/html": [
       "<div>\n",
       "<style scoped>\n",
       "    .dataframe tbody tr th:only-of-type {\n",
       "        vertical-align: middle;\n",
       "    }\n",
       "\n",
       "    .dataframe tbody tr th {\n",
       "        vertical-align: top;\n",
       "    }\n",
       "\n",
       "    .dataframe thead th {\n",
       "        text-align: right;\n",
       "    }\n",
       "</style>\n",
       "<table border=\"1\" class=\"dataframe\">\n",
       "  <thead>\n",
       "    <tr style=\"text-align: right;\">\n",
       "      <th></th>\n",
       "      <th>Date</th>\n",
       "      <th>Close/Last</th>\n",
       "      <th>Volume</th>\n",
       "      <th>Open</th>\n",
       "      <th>High</th>\n",
       "      <th>Low</th>\n",
       "    </tr>\n",
       "  </thead>\n",
       "  <tbody>\n",
       "    <tr>\n",
       "      <th>0</th>\n",
       "      <td>5/3/2024</td>\n",
       "      <td>$183.38</td>\n",
       "      <td>163224100</td>\n",
       "      <td>$186.65</td>\n",
       "      <td>$187.00</td>\n",
       "      <td>$182.66</td>\n",
       "    </tr>\n",
       "    <tr>\n",
       "      <th>1</th>\n",
       "      <td>5/2/2024</td>\n",
       "      <td>$173.03</td>\n",
       "      <td>94214920</td>\n",
       "      <td>$172.51</td>\n",
       "      <td>$173.42</td>\n",
       "      <td>$170.89</td>\n",
       "    </tr>\n",
       "    <tr>\n",
       "      <th>2</th>\n",
       "      <td>5/1/2024</td>\n",
       "      <td>$169.30</td>\n",
       "      <td>50383150</td>\n",
       "      <td>$169.58</td>\n",
       "      <td>$172.71</td>\n",
       "      <td>$169.11</td>\n",
       "    </tr>\n",
       "    <tr>\n",
       "      <th>3</th>\n",
       "      <td>4/30/2024</td>\n",
       "      <td>$170.33</td>\n",
       "      <td>65934780</td>\n",
       "      <td>$173.33</td>\n",
       "      <td>$174.99</td>\n",
       "      <td>$170.00</td>\n",
       "    </tr>\n",
       "    <tr>\n",
       "      <th>4</th>\n",
       "      <td>4/29/2024</td>\n",
       "      <td>$173.50</td>\n",
       "      <td>68169420</td>\n",
       "      <td>$173.37</td>\n",
       "      <td>$176.03</td>\n",
       "      <td>$173.10</td>\n",
       "    </tr>\n",
       "  </tbody>\n",
       "</table>\n",
       "</div>"
      ],
      "text/plain": [
       "        Date Close/Last     Volume      Open      High       Low\n",
       "0   5/3/2024   $183.38   163224100  $186.65   $187.00   $182.66 \n",
       "1   5/2/2024   $173.03    94214920  $172.51   $173.42   $170.89 \n",
       "2   5/1/2024   $169.30    50383150  $169.58   $172.71   $169.11 \n",
       "3  4/30/2024   $170.33    65934780  $173.33   $174.99   $170.00 \n",
       "4  4/29/2024   $173.50    68169420  $173.37   $176.03   $173.10 "
      ]
     },
     "execution_count": 5,
     "metadata": {},
     "output_type": "execute_result"
    }
   ],
   "source": [
    "# Check the first few rows of data\n",
    "aapl.head()"
   ]
  },
  {
   "cell_type": "code",
   "execution_count": 6,
   "id": "1699c6d2",
   "metadata": {},
   "outputs": [
    {
     "data": {
      "application/vnd.microsoft.datawrangler.viewer.v0+json": {
       "columns": [
        {
         "name": "index",
         "rawType": "int64",
         "type": "integer"
        },
        {
         "name": "Date",
         "rawType": "object",
         "type": "string"
        },
        {
         "name": "Close/Last",
         "rawType": "object",
         "type": "string"
        },
        {
         "name": "Volume",
         "rawType": "int64",
         "type": "integer"
        },
        {
         "name": "Open",
         "rawType": "object",
         "type": "string"
        },
        {
         "name": "High",
         "rawType": "object",
         "type": "string"
        },
        {
         "name": "Low",
         "rawType": "object",
         "type": "string"
        }
       ],
       "conversionMethod": "pd.DataFrame",
       "ref": "fbf7d789-a591-4ecf-a06c-1105a547a9b1",
       "rows": [
        [
         "0",
         "05/03/2024",
         "$406.66",
         "17446720",
         "$402.28",
         "$407.15",
         "$401.86"
        ],
        [
         "1",
         "05/02/2024",
         "$397.84",
         "17709360",
         "$397.66",
         "$399.93",
         "$394.6515"
        ],
        [
         "2",
         "05/01/2024",
         "$394.94",
         "23562480",
         "$392.61",
         "$401.7199",
         "$390.31"
        ],
        [
         "3",
         "04/30/2024",
         "$389.33",
         "28781370",
         "$401.49",
         "$402.16",
         "$389.17"
        ],
        [
         "4",
         "04/29/2024",
         "$402.25",
         "19582090",
         "$405.25",
         "$406.32",
         "$399.19"
        ]
       ],
       "shape": {
        "columns": 6,
        "rows": 5
       }
      },
      "text/html": [
       "<div>\n",
       "<style scoped>\n",
       "    .dataframe tbody tr th:only-of-type {\n",
       "        vertical-align: middle;\n",
       "    }\n",
       "\n",
       "    .dataframe tbody tr th {\n",
       "        vertical-align: top;\n",
       "    }\n",
       "\n",
       "    .dataframe thead th {\n",
       "        text-align: right;\n",
       "    }\n",
       "</style>\n",
       "<table border=\"1\" class=\"dataframe\">\n",
       "  <thead>\n",
       "    <tr style=\"text-align: right;\">\n",
       "      <th></th>\n",
       "      <th>Date</th>\n",
       "      <th>Close/Last</th>\n",
       "      <th>Volume</th>\n",
       "      <th>Open</th>\n",
       "      <th>High</th>\n",
       "      <th>Low</th>\n",
       "    </tr>\n",
       "  </thead>\n",
       "  <tbody>\n",
       "    <tr>\n",
       "      <th>0</th>\n",
       "      <td>05/03/2024</td>\n",
       "      <td>$406.66</td>\n",
       "      <td>17446720</td>\n",
       "      <td>$402.28</td>\n",
       "      <td>$407.15</td>\n",
       "      <td>$401.86</td>\n",
       "    </tr>\n",
       "    <tr>\n",
       "      <th>1</th>\n",
       "      <td>05/02/2024</td>\n",
       "      <td>$397.84</td>\n",
       "      <td>17709360</td>\n",
       "      <td>$397.66</td>\n",
       "      <td>$399.93</td>\n",
       "      <td>$394.6515</td>\n",
       "    </tr>\n",
       "    <tr>\n",
       "      <th>2</th>\n",
       "      <td>05/01/2024</td>\n",
       "      <td>$394.94</td>\n",
       "      <td>23562480</td>\n",
       "      <td>$392.61</td>\n",
       "      <td>$401.7199</td>\n",
       "      <td>$390.31</td>\n",
       "    </tr>\n",
       "    <tr>\n",
       "      <th>3</th>\n",
       "      <td>04/30/2024</td>\n",
       "      <td>$389.33</td>\n",
       "      <td>28781370</td>\n",
       "      <td>$401.49</td>\n",
       "      <td>$402.16</td>\n",
       "      <td>$389.17</td>\n",
       "    </tr>\n",
       "    <tr>\n",
       "      <th>4</th>\n",
       "      <td>04/29/2024</td>\n",
       "      <td>$402.25</td>\n",
       "      <td>19582090</td>\n",
       "      <td>$405.25</td>\n",
       "      <td>$406.32</td>\n",
       "      <td>$399.19</td>\n",
       "    </tr>\n",
       "  </tbody>\n",
       "</table>\n",
       "</div>"
      ],
      "text/plain": [
       "         Date Close/Last    Volume     Open       High        Low\n",
       "0  05/03/2024    $406.66  17446720  $402.28    $407.15    $401.86\n",
       "1  05/02/2024    $397.84  17709360  $397.66    $399.93  $394.6515\n",
       "2  05/01/2024    $394.94  23562480  $392.61  $401.7199    $390.31\n",
       "3  04/30/2024    $389.33  28781370  $401.49    $402.16    $389.17\n",
       "4  04/29/2024    $402.25  19582090  $405.25    $406.32    $399.19"
      ]
     },
     "execution_count": 6,
     "metadata": {},
     "output_type": "execute_result"
    }
   ],
   "source": [
    "msft.head()"
   ]
  },
  {
   "cell_type": "code",
   "execution_count": 7,
   "id": "8c9bed17",
   "metadata": {},
   "outputs": [
    {
     "name": "stdout",
     "output_type": "stream",
     "text": [
      "<class 'pandas.core.frame.DataFrame'>\n",
      "RangeIndex: 309 entries, 0 to 308\n",
      "Data columns (total 2 columns):\n",
      " #   Column  Non-Null Count  Dtype  \n",
      "---  ------  --------------  -----  \n",
      " 0   DATE    309 non-null    object \n",
      " 1   GDP     309 non-null    float64\n",
      "dtypes: float64(1), object(1)\n",
      "memory usage: 5.0+ KB\n"
     ]
    }
   ],
   "source": [
    "# Use methods like .info() and .describe() to explore the data\n",
    "gdp.info()"
   ]
  },
  {
   "cell_type": "code",
   "execution_count": 8,
   "id": "efd19940",
   "metadata": {},
   "outputs": [
    {
     "data": {
      "application/vnd.microsoft.datawrangler.viewer.v0+json": {
       "columns": [
        {
         "name": "index",
         "rawType": "object",
         "type": "string"
        },
        {
         "name": "GDP",
         "rawType": "float64",
         "type": "float"
        }
       ],
       "conversionMethod": "pd.DataFrame",
       "ref": "20d5e592-3761-49c4-8139-8cafcac2b9c9",
       "rows": [
        [
         "count",
         "309.0"
        ],
        [
         "mean",
         "7227.754935275082"
        ],
        [
         "std",
         "7478.297734206721"
        ],
        [
         "min",
         "243.164"
        ],
        [
         "25%",
         "804.981"
        ],
        [
         "50%",
         "4386.773"
        ],
        [
         "75%",
         "12527.214"
        ],
        [
         "max",
         "28284.498"
        ]
       ],
       "shape": {
        "columns": 1,
        "rows": 8
       }
      },
      "text/html": [
       "<div>\n",
       "<style scoped>\n",
       "    .dataframe tbody tr th:only-of-type {\n",
       "        vertical-align: middle;\n",
       "    }\n",
       "\n",
       "    .dataframe tbody tr th {\n",
       "        vertical-align: top;\n",
       "    }\n",
       "\n",
       "    .dataframe thead th {\n",
       "        text-align: right;\n",
       "    }\n",
       "</style>\n",
       "<table border=\"1\" class=\"dataframe\">\n",
       "  <thead>\n",
       "    <tr style=\"text-align: right;\">\n",
       "      <th></th>\n",
       "      <th>GDP</th>\n",
       "    </tr>\n",
       "  </thead>\n",
       "  <tbody>\n",
       "    <tr>\n",
       "      <th>count</th>\n",
       "      <td>309.000000</td>\n",
       "    </tr>\n",
       "    <tr>\n",
       "      <th>mean</th>\n",
       "      <td>7227.754935</td>\n",
       "    </tr>\n",
       "    <tr>\n",
       "      <th>std</th>\n",
       "      <td>7478.297734</td>\n",
       "    </tr>\n",
       "    <tr>\n",
       "      <th>min</th>\n",
       "      <td>243.164000</td>\n",
       "    </tr>\n",
       "    <tr>\n",
       "      <th>25%</th>\n",
       "      <td>804.981000</td>\n",
       "    </tr>\n",
       "    <tr>\n",
       "      <th>50%</th>\n",
       "      <td>4386.773000</td>\n",
       "    </tr>\n",
       "    <tr>\n",
       "      <th>75%</th>\n",
       "      <td>12527.214000</td>\n",
       "    </tr>\n",
       "    <tr>\n",
       "      <th>max</th>\n",
       "      <td>28284.498000</td>\n",
       "    </tr>\n",
       "  </tbody>\n",
       "</table>\n",
       "</div>"
      ],
      "text/plain": [
       "                GDP\n",
       "count    309.000000\n",
       "mean    7227.754935\n",
       "std     7478.297734\n",
       "min      243.164000\n",
       "25%      804.981000\n",
       "50%     4386.773000\n",
       "75%    12527.214000\n",
       "max    28284.498000"
      ]
     },
     "execution_count": 8,
     "metadata": {},
     "output_type": "execute_result"
    }
   ],
   "source": [
    "gdp.describe()"
   ]
  },
  {
   "cell_type": "code",
   "execution_count": 9,
   "id": "8c2111c6",
   "metadata": {},
   "outputs": [
    {
     "name": "stdout",
     "output_type": "stream",
     "text": [
      "<class 'pandas.core.frame.DataFrame'>\n",
      "RangeIndex: 2517 entries, 0 to 2516\n",
      "Data columns (total 6 columns):\n",
      " #   Column      Non-Null Count  Dtype \n",
      "---  ------      --------------  ----- \n",
      " 0   Date        2517 non-null   object\n",
      " 1   Close/Last  2514 non-null   object\n",
      " 2   Volume      2517 non-null   int64 \n",
      " 3   Open        2517 non-null   object\n",
      " 4   High        2517 non-null   object\n",
      " 5   Low         2517 non-null   object\n",
      "dtypes: int64(1), object(5)\n",
      "memory usage: 118.1+ KB\n"
     ]
    }
   ],
   "source": [
    "aapl.info()"
   ]
  },
  {
   "cell_type": "code",
   "execution_count": 10,
   "id": "ed7f4f17",
   "metadata": {},
   "outputs": [
    {
     "data": {
      "application/vnd.microsoft.datawrangler.viewer.v0+json": {
       "columns": [
        {
         "name": "index",
         "rawType": "object",
         "type": "string"
        },
        {
         "name": "Volume",
         "rawType": "float64",
         "type": "float"
        }
       ],
       "conversionMethod": "pd.DataFrame",
       "ref": "1cd89bd6-e604-4ba1-a859-ab26e36b8a47",
       "rows": [
        [
         "count",
         "2517.0"
        ],
        [
         "mean",
         "127739438.99404052"
        ],
        [
         "std",
         "73574053.36386403"
        ],
        [
         "min",
         "24048340.0"
        ],
        [
         "25%",
         "77417760.0"
        ],
        [
         "50%",
         "107760100.0"
        ],
        [
         "75%",
         "156778880.0"
        ],
        [
         "max",
         "757678000.0"
        ]
       ],
       "shape": {
        "columns": 1,
        "rows": 8
       }
      },
      "text/html": [
       "<div>\n",
       "<style scoped>\n",
       "    .dataframe tbody tr th:only-of-type {\n",
       "        vertical-align: middle;\n",
       "    }\n",
       "\n",
       "    .dataframe tbody tr th {\n",
       "        vertical-align: top;\n",
       "    }\n",
       "\n",
       "    .dataframe thead th {\n",
       "        text-align: right;\n",
       "    }\n",
       "</style>\n",
       "<table border=\"1\" class=\"dataframe\">\n",
       "  <thead>\n",
       "    <tr style=\"text-align: right;\">\n",
       "      <th></th>\n",
       "      <th>Volume</th>\n",
       "    </tr>\n",
       "  </thead>\n",
       "  <tbody>\n",
       "    <tr>\n",
       "      <th>count</th>\n",
       "      <td>2.517000e+03</td>\n",
       "    </tr>\n",
       "    <tr>\n",
       "      <th>mean</th>\n",
       "      <td>1.277394e+08</td>\n",
       "    </tr>\n",
       "    <tr>\n",
       "      <th>std</th>\n",
       "      <td>7.357405e+07</td>\n",
       "    </tr>\n",
       "    <tr>\n",
       "      <th>min</th>\n",
       "      <td>2.404834e+07</td>\n",
       "    </tr>\n",
       "    <tr>\n",
       "      <th>25%</th>\n",
       "      <td>7.741776e+07</td>\n",
       "    </tr>\n",
       "    <tr>\n",
       "      <th>50%</th>\n",
       "      <td>1.077601e+08</td>\n",
       "    </tr>\n",
       "    <tr>\n",
       "      <th>75%</th>\n",
       "      <td>1.567789e+08</td>\n",
       "    </tr>\n",
       "    <tr>\n",
       "      <th>max</th>\n",
       "      <td>7.576780e+08</td>\n",
       "    </tr>\n",
       "  </tbody>\n",
       "</table>\n",
       "</div>"
      ],
      "text/plain": [
       "             Volume\n",
       "count  2.517000e+03\n",
       "mean   1.277394e+08\n",
       "std    7.357405e+07\n",
       "min    2.404834e+07\n",
       "25%    7.741776e+07\n",
       "50%    1.077601e+08\n",
       "75%    1.567789e+08\n",
       "max    7.576780e+08"
      ]
     },
     "execution_count": 10,
     "metadata": {},
     "output_type": "execute_result"
    }
   ],
   "source": [
    "aapl.describe()"
   ]
  },
  {
   "cell_type": "code",
   "execution_count": 11,
   "id": "e6ade40c",
   "metadata": {},
   "outputs": [
    {
     "name": "stdout",
     "output_type": "stream",
     "text": [
      "<class 'pandas.core.frame.DataFrame'>\n",
      "RangeIndex: 2517 entries, 0 to 2516\n",
      "Data columns (total 6 columns):\n",
      " #   Column      Non-Null Count  Dtype \n",
      "---  ------      --------------  ----- \n",
      " 0   Date        2517 non-null   object\n",
      " 1   Close/Last  2517 non-null   object\n",
      " 2   Volume      2517 non-null   int64 \n",
      " 3   Open        2517 non-null   object\n",
      " 4   High        2517 non-null   object\n",
      " 5   Low         2517 non-null   object\n",
      "dtypes: int64(1), object(5)\n",
      "memory usage: 118.1+ KB\n"
     ]
    }
   ],
   "source": [
    "msft.info()"
   ]
  },
  {
   "cell_type": "code",
   "execution_count": 12,
   "id": "c3ae75b0",
   "metadata": {},
   "outputs": [
    {
     "data": {
      "application/vnd.microsoft.datawrangler.viewer.v0+json": {
       "columns": [
        {
         "name": "index",
         "rawType": "object",
         "type": "string"
        },
        {
         "name": "Volume",
         "rawType": "float64",
         "type": "float"
        }
       ],
       "conversionMethod": "pd.DataFrame",
       "ref": "88aeacbb-b82b-45b8-99d1-88f4e35eeb5c",
       "rows": [
        [
         "count",
         "2517.0"
        ],
        [
         "mean",
         "29531059.80731029"
        ],
        [
         "std",
         "13701376.557242861"
        ],
        [
         "min",
         "7425603.0"
        ],
        [
         "25%",
         "21318920.0"
        ],
        [
         "50%",
         "26394700.0"
        ],
        [
         "75%",
         "33600030.0"
        ],
        [
         "max",
         "202514100.0"
        ]
       ],
       "shape": {
        "columns": 1,
        "rows": 8
       }
      },
      "text/html": [
       "<div>\n",
       "<style scoped>\n",
       "    .dataframe tbody tr th:only-of-type {\n",
       "        vertical-align: middle;\n",
       "    }\n",
       "\n",
       "    .dataframe tbody tr th {\n",
       "        vertical-align: top;\n",
       "    }\n",
       "\n",
       "    .dataframe thead th {\n",
       "        text-align: right;\n",
       "    }\n",
       "</style>\n",
       "<table border=\"1\" class=\"dataframe\">\n",
       "  <thead>\n",
       "    <tr style=\"text-align: right;\">\n",
       "      <th></th>\n",
       "      <th>Volume</th>\n",
       "    </tr>\n",
       "  </thead>\n",
       "  <tbody>\n",
       "    <tr>\n",
       "      <th>count</th>\n",
       "      <td>2.517000e+03</td>\n",
       "    </tr>\n",
       "    <tr>\n",
       "      <th>mean</th>\n",
       "      <td>2.953106e+07</td>\n",
       "    </tr>\n",
       "    <tr>\n",
       "      <th>std</th>\n",
       "      <td>1.370138e+07</td>\n",
       "    </tr>\n",
       "    <tr>\n",
       "      <th>min</th>\n",
       "      <td>7.425603e+06</td>\n",
       "    </tr>\n",
       "    <tr>\n",
       "      <th>25%</th>\n",
       "      <td>2.131892e+07</td>\n",
       "    </tr>\n",
       "    <tr>\n",
       "      <th>50%</th>\n",
       "      <td>2.639470e+07</td>\n",
       "    </tr>\n",
       "    <tr>\n",
       "      <th>75%</th>\n",
       "      <td>3.360003e+07</td>\n",
       "    </tr>\n",
       "    <tr>\n",
       "      <th>max</th>\n",
       "      <td>2.025141e+08</td>\n",
       "    </tr>\n",
       "  </tbody>\n",
       "</table>\n",
       "</div>"
      ],
      "text/plain": [
       "             Volume\n",
       "count  2.517000e+03\n",
       "mean   2.953106e+07\n",
       "std    1.370138e+07\n",
       "min    7.425603e+06\n",
       "25%    2.131892e+07\n",
       "50%    2.639470e+07\n",
       "75%    3.360003e+07\n",
       "max    2.025141e+08"
      ]
     },
     "execution_count": 12,
     "metadata": {},
     "output_type": "execute_result"
    }
   ],
   "source": [
    "msft.describe()"
   ]
  },
  {
   "cell_type": "markdown",
   "id": "06c8d9dc",
   "metadata": {},
   "source": [
    "## Data preprocessing: Check for missing data and forward fill\n",
    "\n",
    "Check the Apple historical prices for missing data. Check for missing data in all columns. If there's data missing, use a forward fill to fill in those missing prices. "
   ]
  },
  {
   "cell_type": "code",
   "execution_count": 13,
   "id": "4807173e",
   "metadata": {},
   "outputs": [
    {
     "name": "stdout",
     "output_type": "stream",
     "text": [
      "<class 'pandas.core.frame.DataFrame'>\n",
      "RangeIndex: 2517 entries, 0 to 2516\n",
      "Data columns (total 6 columns):\n",
      " #   Column      Non-Null Count  Dtype \n",
      "---  ------      --------------  ----- \n",
      " 0   Date        2517 non-null   object\n",
      " 1   Close/Last  2514 non-null   object\n",
      " 2   Volume      2517 non-null   int64 \n",
      " 3   Open        2517 non-null   object\n",
      " 4   High        2517 non-null   object\n",
      " 5   Low         2517 non-null   object\n",
      "dtypes: int64(1), object(5)\n",
      "memory usage: 118.1+ KB\n"
     ]
    }
   ],
   "source": [
    "# Check for nulls\n",
    "aapl.info()"
   ]
  },
  {
   "cell_type": "code",
   "execution_count": 14,
   "id": "228cc8f3",
   "metadata": {},
   "outputs": [
    {
     "name": "stdout",
     "output_type": "stream",
     "text": [
      "Date          0\n",
      "Close/Last    3\n",
      "Volume        0\n",
      "Open          0\n",
      "High          0\n",
      "Low           0\n",
      "dtype: int64\n"
     ]
    }
   ],
   "source": [
    "# Count missing values for each column\n",
    "missing_values_count = aapl.isna().sum()\n",
    "print(missing_values_count)"
   ]
  },
  {
   "cell_type": "code",
   "execution_count": 15,
   "id": "00e4d6f5",
   "metadata": {},
   "outputs": [],
   "source": [
    "# Forward fill any missing data\n",
    "aapl.ffill(inplace=True)"
   ]
  },
  {
   "cell_type": "code",
   "execution_count": 16,
   "id": "f82d3b2d",
   "metadata": {
    "scrolled": true
   },
   "outputs": [
    {
     "name": "stdout",
     "output_type": "stream",
     "text": [
      "Date          0\n",
      "Close/Last    0\n",
      "Volume        0\n",
      "Open          0\n",
      "High          0\n",
      "Low           0\n",
      "dtype: int64\n"
     ]
    }
   ],
   "source": [
    "# Check again for nulls after using forward fill\n",
    "missing_values_count = aapl.isna().sum()\n",
    "print(missing_values_count)"
   ]
  },
  {
   "cell_type": "markdown",
   "id": "2614c615",
   "metadata": {},
   "source": [
    "## Data preprocessing: Remove special characters and convert to numeric/datetime\n",
    "\n",
    "The next step in the data engineering process is to standardize and clean up data. In this step, you'll check for odd formatting and special characters that will make it difficult to work with data as numeric or datetime. \n",
    "\n",
    "In this step:\n",
    "* Create a function that takes in a dataframe and a list of columns and removes dollar signs ('$') from those columns\n",
    "* Convert any columns with date/time data into a `pandas` `datetime` format"
   ]
  },
  {
   "cell_type": "code",
   "execution_count": 17,
   "id": "a47537af",
   "metadata": {},
   "outputs": [],
   "source": [
    "def convert_dollar_columns_to_numeric(df, numeric_columns):\n",
    "    '''\n",
    "        Removes dollar signs ('$') from a list of columns in a given dataframe AND casts the columns to a numeric datatype.\n",
    "        Updates dataframe IN PLACE.\n",
    "        \n",
    "        Inputs:\n",
    "            df: dataframe to be operated on\n",
    "            numeric_columns: columns that should have numeric data but have dollar signs currently\n",
    "            \n",
    "        Returns:\n",
    "            None - changes to the dataframe can be made in place\n",
    "    '''\n",
    "    \n",
    "    for column in numeric_columns:\n",
    "        df[column] = df[column].astype(str).str.replace('$', '').astype(float)\n"
   ]
  },
  {
   "cell_type": "code",
   "execution_count": 18,
   "id": "055f8621",
   "metadata": {},
   "outputs": [
    {
     "data": {
      "application/vnd.microsoft.datawrangler.viewer.v0+json": {
       "columns": [
        {
         "name": "index",
         "rawType": "int64",
         "type": "integer"
        },
        {
         "name": "Date",
         "rawType": "object",
         "type": "string"
        },
        {
         "name": "Close/Last",
         "rawType": "float64",
         "type": "float"
        },
        {
         "name": "Volume",
         "rawType": "int64",
         "type": "integer"
        },
        {
         "name": "Open",
         "rawType": "float64",
         "type": "float"
        },
        {
         "name": "High",
         "rawType": "float64",
         "type": "float"
        },
        {
         "name": "Low",
         "rawType": "float64",
         "type": "float"
        }
       ],
       "conversionMethod": "pd.DataFrame",
       "ref": "0334fc7d-265b-4a2d-a25b-13fe55ba8ce9",
       "rows": [
        [
         "0",
         "5/3/2024",
         "183.38",
         "163224100",
         "186.65",
         "187.0",
         "182.66"
        ],
        [
         "1",
         "5/2/2024",
         "173.03",
         "94214920",
         "172.51",
         "173.42",
         "170.89"
        ],
        [
         "2",
         "5/1/2024",
         "169.3",
         "50383150",
         "169.58",
         "172.71",
         "169.11"
        ],
        [
         "3",
         "4/30/2024",
         "170.33",
         "65934780",
         "173.33",
         "174.99",
         "170.0"
        ],
        [
         "4",
         "4/29/2024",
         "173.5",
         "68169420",
         "173.37",
         "176.03",
         "173.1"
        ],
        [
         "5",
         "4/26/2024",
         "169.3",
         "44838350",
         "169.88",
         "171.34",
         "169.18"
        ],
        [
         "6",
         "4/25/2024",
         "169.89",
         "50558330",
         "169.53",
         "170.61",
         "168.15"
        ],
        [
         "7",
         "4/24/2024",
         "169.02",
         "48251840",
         "166.54",
         "169.3",
         "166.21"
        ],
        [
         "8",
         "4/23/2024",
         "166.9",
         "49537760",
         "165.35",
         "167.05",
         "164.92"
        ],
        [
         "9",
         "4/22/2024",
         "165.84",
         "48116440",
         "165.52",
         "167.26",
         "164.77"
        ],
        [
         "10",
         "4/19/2024",
         "165.0",
         "68149380",
         "166.21",
         "166.4",
         "164.08"
        ],
        [
         "11",
         "4/18/2024",
         "167.04",
         "43122900",
         "168.03",
         "168.64",
         "166.55"
        ],
        [
         "12",
         "4/17/2024",
         "168.0",
         "50901210",
         "169.61",
         "170.65",
         "168.0"
        ],
        [
         "13",
         "4/16/2024",
         "169.38",
         "73711240",
         "171.75",
         "173.76",
         "168.27"
        ],
        [
         "14",
         "4/15/2024",
         "172.69",
         "73531770",
         "175.36",
         "176.63",
         "172.5"
        ],
        [
         "15",
         "4/12/2024",
         "176.55",
         "101670900",
         "174.26",
         "178.36",
         "174.21"
        ],
        [
         "16",
         "4/11/2024",
         "175.04",
         "91070280",
         "168.34",
         "175.46",
         "168.16"
        ],
        [
         "17",
         "4/10/2024",
         "167.78",
         "49709340",
         "168.8",
         "169.09",
         "167.11"
        ],
        [
         "18",
         "4/9/2024",
         "169.67",
         "42451210",
         "168.7",
         "170.08",
         "168.35"
        ],
        [
         "19",
         "4/8/2024",
         "169.67",
         "37425510",
         "169.03",
         "169.2",
         "168.24"
        ],
        [
         "20",
         "4/5/2024",
         "169.58",
         "42104830",
         "169.59",
         "170.39",
         "168.95"
        ],
        [
         "21",
         "4/4/2024",
         "168.82",
         "53704390",
         "170.29",
         "171.92",
         "168.82"
        ],
        [
         "22",
         "4/3/2024",
         "169.65",
         "47691720",
         "168.79",
         "170.68",
         "168.58"
        ],
        [
         "23",
         "4/2/2024",
         "168.84",
         "49329480",
         "169.08",
         "169.34",
         "168.23"
        ],
        [
         "24",
         "4/1/2024",
         "170.03",
         "46240500",
         "171.19",
         "171.25",
         "169.48"
        ],
        [
         "25",
         "3/28/2024",
         "171.48",
         "65672690",
         "171.75",
         "172.23",
         "170.51"
        ],
        [
         "26",
         "3/27/2024",
         "173.31",
         "60273270",
         "170.41",
         "173.6",
         "170.11"
        ],
        [
         "27",
         "3/26/2024",
         "169.71",
         "57388450",
         "170.0",
         "171.42",
         "169.58"
        ],
        [
         "28",
         "3/25/2024",
         "170.85",
         "54288330",
         "170.57",
         "171.94",
         "169.45"
        ],
        [
         "29",
         "3/22/2024",
         "172.28",
         "71160140",
         "171.76",
         "173.05",
         "170.06"
        ],
        [
         "30",
         "3/21/2024",
         "171.37",
         "106181300",
         "177.05",
         "177.49",
         "170.84"
        ],
        [
         "31",
         "3/20/2024",
         "178.67",
         "53423100",
         "175.72",
         "178.67",
         "175.09"
        ],
        [
         "32",
         "3/19/2024",
         "176.08",
         "55215240",
         "174.34",
         "176.61",
         "173.03"
        ],
        [
         "33",
         "3/18/2024",
         "173.72",
         "75604180",
         "175.57",
         "177.71",
         "173.52"
        ],
        [
         "34",
         "3/15/2024",
         "172.62",
         "121752700",
         "171.17",
         "172.62",
         "170.29"
        ],
        [
         "35",
         "3/14/2024",
         "173.0",
         "72913510",
         "172.91",
         "174.31",
         "172.05"
        ],
        [
         "36",
         "3/13/2024",
         "171.13",
         "52488690",
         "172.77",
         "173.19",
         "170.76"
        ],
        [
         "37",
         "3/12/2024",
         "173.23",
         "59825370",
         "173.15",
         "174.03",
         "171.01"
        ],
        [
         "38",
         "3/11/2024",
         "172.75",
         "60139470",
         "172.94",
         "174.38",
         "172.05"
        ],
        [
         "39",
         "3/8/2024",
         "170.73",
         "76267040",
         "169.0",
         "173.7",
         "168.94"
        ],
        [
         "40",
         "3/7/2024",
         "169.0",
         "71765060",
         "169.15",
         "170.73",
         "168.49"
        ],
        [
         "41",
         "3/6/2024",
         "169.12",
         "68587710",
         "171.06",
         "171.24",
         "168.68"
        ],
        [
         "42",
         "3/5/2024",
         "170.12",
         "95132360",
         "170.76",
         "172.04",
         "169.62"
        ],
        [
         "43",
         "3/4/2024",
         "175.1",
         "81510100",
         "176.15",
         "176.9",
         "173.79"
        ],
        [
         "44",
         "3/1/2024",
         "179.66",
         "73563080",
         "179.55",
         "180.53",
         "177.38"
        ],
        [
         "45",
         "2/29/2024",
         "180.75",
         "136682600",
         "181.27",
         "182.57",
         "179.53"
        ],
        [
         "46",
         "2/28/2024",
         "181.42",
         "48953940",
         "182.51",
         "183.12",
         "180.13"
        ],
        [
         "47",
         "2/27/2024",
         "182.63",
         "54318850",
         "181.1",
         "183.92",
         "179.56"
        ],
        [
         "48",
         "2/26/2024",
         "181.16",
         "40867420",
         "182.24",
         "182.76",
         "180.65"
        ],
        [
         "49",
         "2/23/2024",
         "182.52",
         "45119680",
         "185.01",
         "185.04",
         "182.23"
        ]
       ],
       "shape": {
        "columns": 6,
        "rows": 2517
       }
      },
      "text/html": [
       "<div>\n",
       "<style scoped>\n",
       "    .dataframe tbody tr th:only-of-type {\n",
       "        vertical-align: middle;\n",
       "    }\n",
       "\n",
       "    .dataframe tbody tr th {\n",
       "        vertical-align: top;\n",
       "    }\n",
       "\n",
       "    .dataframe thead th {\n",
       "        text-align: right;\n",
       "    }\n",
       "</style>\n",
       "<table border=\"1\" class=\"dataframe\">\n",
       "  <thead>\n",
       "    <tr style=\"text-align: right;\">\n",
       "      <th></th>\n",
       "      <th>Date</th>\n",
       "      <th>Close/Last</th>\n",
       "      <th>Volume</th>\n",
       "      <th>Open</th>\n",
       "      <th>High</th>\n",
       "      <th>Low</th>\n",
       "    </tr>\n",
       "  </thead>\n",
       "  <tbody>\n",
       "    <tr>\n",
       "      <th>0</th>\n",
       "      <td>5/3/2024</td>\n",
       "      <td>183.38</td>\n",
       "      <td>163224100</td>\n",
       "      <td>186.65</td>\n",
       "      <td>187.00</td>\n",
       "      <td>182.66</td>\n",
       "    </tr>\n",
       "    <tr>\n",
       "      <th>1</th>\n",
       "      <td>5/2/2024</td>\n",
       "      <td>173.03</td>\n",
       "      <td>94214920</td>\n",
       "      <td>172.51</td>\n",
       "      <td>173.42</td>\n",
       "      <td>170.89</td>\n",
       "    </tr>\n",
       "    <tr>\n",
       "      <th>2</th>\n",
       "      <td>5/1/2024</td>\n",
       "      <td>169.30</td>\n",
       "      <td>50383150</td>\n",
       "      <td>169.58</td>\n",
       "      <td>172.71</td>\n",
       "      <td>169.11</td>\n",
       "    </tr>\n",
       "    <tr>\n",
       "      <th>3</th>\n",
       "      <td>4/30/2024</td>\n",
       "      <td>170.33</td>\n",
       "      <td>65934780</td>\n",
       "      <td>173.33</td>\n",
       "      <td>174.99</td>\n",
       "      <td>170.00</td>\n",
       "    </tr>\n",
       "    <tr>\n",
       "      <th>4</th>\n",
       "      <td>4/29/2024</td>\n",
       "      <td>173.50</td>\n",
       "      <td>68169420</td>\n",
       "      <td>173.37</td>\n",
       "      <td>176.03</td>\n",
       "      <td>173.10</td>\n",
       "    </tr>\n",
       "    <tr>\n",
       "      <th>...</th>\n",
       "      <td>...</td>\n",
       "      <td>...</td>\n",
       "      <td>...</td>\n",
       "      <td>...</td>\n",
       "      <td>...</td>\n",
       "      <td>...</td>\n",
       "    </tr>\n",
       "    <tr>\n",
       "      <th>2512</th>\n",
       "      <td>5/12/2014</td>\n",
       "      <td>21.17</td>\n",
       "      <td>212736019</td>\n",
       "      <td>20.98</td>\n",
       "      <td>21.20</td>\n",
       "      <td>20.98</td>\n",
       "    </tr>\n",
       "    <tr>\n",
       "      <th>2513</th>\n",
       "      <td>5/9/2014</td>\n",
       "      <td>20.91</td>\n",
       "      <td>291068564</td>\n",
       "      <td>20.88</td>\n",
       "      <td>20.94</td>\n",
       "      <td>20.73</td>\n",
       "    </tr>\n",
       "    <tr>\n",
       "      <th>2514</th>\n",
       "      <td>5/8/2014</td>\n",
       "      <td>21.00</td>\n",
       "      <td>228973884</td>\n",
       "      <td>21.01</td>\n",
       "      <td>21.23</td>\n",
       "      <td>20.94</td>\n",
       "    </tr>\n",
       "    <tr>\n",
       "      <th>2515</th>\n",
       "      <td>5/7/2014</td>\n",
       "      <td>21.15</td>\n",
       "      <td>282128727</td>\n",
       "      <td>21.26</td>\n",
       "      <td>21.33</td>\n",
       "      <td>20.99</td>\n",
       "    </tr>\n",
       "    <tr>\n",
       "      <th>2516</th>\n",
       "      <td>5/6/2014</td>\n",
       "      <td>21.23</td>\n",
       "      <td>373872650</td>\n",
       "      <td>21.49</td>\n",
       "      <td>21.59</td>\n",
       "      <td>21.23</td>\n",
       "    </tr>\n",
       "  </tbody>\n",
       "</table>\n",
       "<p>2517 rows × 6 columns</p>\n",
       "</div>"
      ],
      "text/plain": [
       "           Date  Close/Last     Volume    Open    High     Low\n",
       "0      5/3/2024      183.38  163224100  186.65  187.00  182.66\n",
       "1      5/2/2024      173.03   94214920  172.51  173.42  170.89\n",
       "2      5/1/2024      169.30   50383150  169.58  172.71  169.11\n",
       "3     4/30/2024      170.33   65934780  173.33  174.99  170.00\n",
       "4     4/29/2024      173.50   68169420  173.37  176.03  173.10\n",
       "...         ...         ...        ...     ...     ...     ...\n",
       "2512  5/12/2014       21.17  212736019   20.98   21.20   20.98\n",
       "2513   5/9/2014       20.91  291068564   20.88   20.94   20.73\n",
       "2514   5/8/2014       21.00  228973884   21.01   21.23   20.94\n",
       "2515   5/7/2014       21.15  282128727   21.26   21.33   20.99\n",
       "2516   5/6/2014       21.23  373872650   21.49   21.59   21.23\n",
       "\n",
       "[2517 rows x 6 columns]"
      ]
     },
     "execution_count": 18,
     "metadata": {},
     "output_type": "execute_result"
    }
   ],
   "source": [
    "# Use convert_dollar_columns_to_numeric() to remove the dollar sign from the Apple and Microsoft datasets\n",
    "convert_dollar_columns_to_numeric(aapl, ['Close/Last','Open','High','Low'])\n",
    "convert_dollar_columns_to_numeric(msft, ['Close/Last', 'Open', 'High', 'Low'])\n",
    "aapl"
   ]
  },
  {
   "cell_type": "code",
   "execution_count": 19,
   "id": "8a5821ec",
   "metadata": {},
   "outputs": [
    {
     "data": {
      "application/vnd.microsoft.datawrangler.viewer.v0+json": {
       "columns": [
        {
         "name": "index",
         "rawType": "int64",
         "type": "integer"
        },
        {
         "name": "Date",
         "rawType": "object",
         "type": "string"
        },
        {
         "name": "Close/Last",
         "rawType": "float64",
         "type": "float"
        },
        {
         "name": "Volume",
         "rawType": "int64",
         "type": "integer"
        },
        {
         "name": "Open",
         "rawType": "float64",
         "type": "float"
        },
        {
         "name": "High",
         "rawType": "float64",
         "type": "float"
        },
        {
         "name": "Low",
         "rawType": "float64",
         "type": "float"
        }
       ],
       "conversionMethod": "pd.DataFrame",
       "ref": "e41afdb8-7c19-4cd4-bebe-46433b9e11b9",
       "rows": [
        [
         "0",
         "05/03/2024",
         "406.66",
         "17446720",
         "402.28",
         "407.15",
         "401.86"
        ],
        [
         "1",
         "05/02/2024",
         "397.84",
         "17709360",
         "397.66",
         "399.93",
         "394.6515"
        ],
        [
         "2",
         "05/01/2024",
         "394.94",
         "23562480",
         "392.61",
         "401.7199",
         "390.31"
        ],
        [
         "3",
         "04/30/2024",
         "389.33",
         "28781370",
         "401.49",
         "402.16",
         "389.17"
        ],
        [
         "4",
         "04/29/2024",
         "402.25",
         "19582090",
         "405.25",
         "406.32",
         "399.19"
        ],
        [
         "5",
         "04/26/2024",
         "406.32",
         "29694650",
         "412.17",
         "413.0",
         "405.7601"
        ],
        [
         "6",
         "04/25/2024",
         "399.04",
         "40586450",
         "394.03",
         "399.8899",
         "388.03"
        ],
        [
         "7",
         "04/24/2024",
         "409.06",
         "15065330",
         "409.56",
         "412.47",
         "406.78"
        ],
        [
         "8",
         "04/23/2024",
         "407.57",
         "15734500",
         "404.235",
         "408.2",
         "403.06"
        ],
        [
         "9",
         "04/22/2024",
         "400.96",
         "20286880",
         "400.08",
         "402.85",
         "395.75"
        ],
        [
         "10",
         "04/19/2024",
         "399.12",
         "30565790",
         "404.03",
         "405.48",
         "397.77"
        ],
        [
         "11",
         "04/18/2024",
         "404.27",
         "21029920",
         "410.63",
         "411.89",
         "403.95"
        ],
        [
         "12",
         "04/17/2024",
         "411.84",
         "15855490",
         "417.25",
         "418.88",
         "410.33"
        ],
        [
         "13",
         "04/16/2024",
         "414.58",
         "16765620",
         "414.57",
         "418.4",
         "413.7301"
        ],
        [
         "14",
         "04/15/2024",
         "413.64",
         "20273540",
         "426.6",
         "426.82",
         "413.43"
        ],
        [
         "15",
         "04/12/2024",
         "421.9",
         "19253750",
         "424.05",
         "425.1794",
         "419.77"
        ],
        [
         "16",
         "04/11/2024",
         "427.93",
         "17966420",
         "425.82",
         "429.37",
         "422.36"
        ],
        [
         "17",
         "04/10/2024",
         "423.26",
         "16216580",
         "422.19",
         "424.03",
         "419.7"
        ],
        [
         "18",
         "04/09/2024",
         "426.28",
         "12512290",
         "426.44",
         "427.74",
         "421.62"
        ],
        [
         "19",
         "04/08/2024",
         "424.59",
         "14272390",
         "425.17",
         "427.28",
         "423.3"
        ],
        [
         "20",
         "04/05/2024",
         "425.52",
         "16554760",
         "420.01",
         "426.51",
         "418.32"
        ],
        [
         "21",
         "04/04/2024",
         "417.88",
         "19370880",
         "424.99",
         "428.67",
         "417.57"
        ],
        [
         "22",
         "04/03/2024",
         "420.45",
         "16502260",
         "419.73",
         "423.26",
         "419.085"
        ],
        [
         "23",
         "04/02/2024",
         "421.44",
         "17911990",
         "420.11",
         "422.38",
         "417.84"
        ],
        [
         "24",
         "04/01/2024",
         "424.57",
         "16315960",
         "423.95",
         "427.89",
         "422.22"
        ],
        [
         "25",
         "03/28/2024",
         "420.72",
         "21871160",
         "420.96",
         "421.87",
         "419.12"
        ],
        [
         "26",
         "03/27/2024",
         "421.43",
         "16704980",
         "424.44",
         "424.45",
         "419.01"
        ],
        [
         "27",
         "03/26/2024",
         "421.65",
         "16725650",
         "425.61",
         "425.99",
         "421.35"
        ],
        [
         "28",
         "03/25/2024",
         "422.86",
         "18060450",
         "425.24",
         "427.41",
         "421.61"
        ],
        [
         "29",
         "03/22/2024",
         "428.74",
         "17648470",
         "429.7",
         "429.86",
         "426.07"
        ],
        [
         "30",
         "03/21/2024",
         "429.37",
         "21296220",
         "429.83",
         "430.82",
         "427.16"
        ],
        [
         "31",
         "03/20/2024",
         "425.23",
         "17860090",
         "422.0",
         "425.96",
         "420.66"
        ],
        [
         "32",
         "03/19/2024",
         "421.41",
         "19837920",
         "417.83",
         "421.6656",
         "415.55"
        ],
        [
         "33",
         "03/18/2024",
         "417.32",
         "20105980",
         "414.25",
         "420.73",
         "413.78"
        ],
        [
         "34",
         "03/15/2024",
         "416.42",
         "45079900",
         "419.29",
         "422.6",
         "412.79"
        ],
        [
         "35",
         "03/14/2024",
         "425.22",
         "34157300",
         "420.24",
         "427.82",
         "417.99"
        ],
        [
         "36",
         "03/13/2024",
         "415.1",
         "17115930",
         "418.1",
         "418.18",
         "411.45"
        ],
        [
         "37",
         "03/12/2024",
         "415.28",
         "22457000",
         "407.62",
         "415.57",
         "406.79"
        ],
        [
         "38",
         "03/11/2024",
         "404.52",
         "16120750",
         "403.762",
         "405.68",
         "401.26"
        ],
        [
         "39",
         "03/08/2024",
         "406.22",
         "18002190",
         "407.96",
         "410.42",
         "404.33"
        ],
        [
         "40",
         "03/07/2024",
         "409.14",
         "18718480",
         "406.12",
         "409.78",
         "402.24"
        ],
        [
         "41",
         "03/06/2024",
         "402.09",
         "22344150",
         "402.97",
         "405.16",
         "398.39"
        ],
        [
         "42",
         "03/05/2024",
         "402.65",
         "26919180",
         "413.96",
         "414.25",
         "400.64"
        ],
        [
         "43",
         "03/04/2024",
         "414.92",
         "17595960",
         "413.44",
         "417.35",
         "412.32"
        ],
        [
         "44",
         "03/01/2024",
         "415.5",
         "17823450",
         "411.27",
         "415.87",
         "410.88"
        ],
        [
         "45",
         "02/29/2024",
         "413.64",
         "31947260",
         "408.64",
         "414.2",
         "405.92"
        ],
        [
         "46",
         "02/28/2024",
         "407.72",
         "13183130",
         "408.175",
         "409.3",
         "405.3201"
        ],
        [
         "47",
         "02/27/2024",
         "407.48",
         "14835830",
         "407.99",
         "408.32",
         "403.85"
        ],
        [
         "48",
         "02/26/2024",
         "407.54",
         "16193510",
         "411.455",
         "412.16",
         "407.36"
        ],
        [
         "49",
         "02/23/2024",
         "410.34",
         "16295880",
         "415.67",
         "415.86",
         "408.97"
        ]
       ],
       "shape": {
        "columns": 6,
        "rows": 2517
       }
      },
      "text/html": [
       "<div>\n",
       "<style scoped>\n",
       "    .dataframe tbody tr th:only-of-type {\n",
       "        vertical-align: middle;\n",
       "    }\n",
       "\n",
       "    .dataframe tbody tr th {\n",
       "        vertical-align: top;\n",
       "    }\n",
       "\n",
       "    .dataframe thead th {\n",
       "        text-align: right;\n",
       "    }\n",
       "</style>\n",
       "<table border=\"1\" class=\"dataframe\">\n",
       "  <thead>\n",
       "    <tr style=\"text-align: right;\">\n",
       "      <th></th>\n",
       "      <th>Date</th>\n",
       "      <th>Close/Last</th>\n",
       "      <th>Volume</th>\n",
       "      <th>Open</th>\n",
       "      <th>High</th>\n",
       "      <th>Low</th>\n",
       "    </tr>\n",
       "  </thead>\n",
       "  <tbody>\n",
       "    <tr>\n",
       "      <th>0</th>\n",
       "      <td>05/03/2024</td>\n",
       "      <td>406.660</td>\n",
       "      <td>17446720</td>\n",
       "      <td>402.28</td>\n",
       "      <td>407.1500</td>\n",
       "      <td>401.8600</td>\n",
       "    </tr>\n",
       "    <tr>\n",
       "      <th>1</th>\n",
       "      <td>05/02/2024</td>\n",
       "      <td>397.840</td>\n",
       "      <td>17709360</td>\n",
       "      <td>397.66</td>\n",
       "      <td>399.9300</td>\n",
       "      <td>394.6515</td>\n",
       "    </tr>\n",
       "    <tr>\n",
       "      <th>2</th>\n",
       "      <td>05/01/2024</td>\n",
       "      <td>394.940</td>\n",
       "      <td>23562480</td>\n",
       "      <td>392.61</td>\n",
       "      <td>401.7199</td>\n",
       "      <td>390.3100</td>\n",
       "    </tr>\n",
       "    <tr>\n",
       "      <th>3</th>\n",
       "      <td>04/30/2024</td>\n",
       "      <td>389.330</td>\n",
       "      <td>28781370</td>\n",
       "      <td>401.49</td>\n",
       "      <td>402.1600</td>\n",
       "      <td>389.1700</td>\n",
       "    </tr>\n",
       "    <tr>\n",
       "      <th>4</th>\n",
       "      <td>04/29/2024</td>\n",
       "      <td>402.250</td>\n",
       "      <td>19582090</td>\n",
       "      <td>405.25</td>\n",
       "      <td>406.3200</td>\n",
       "      <td>399.1900</td>\n",
       "    </tr>\n",
       "    <tr>\n",
       "      <th>...</th>\n",
       "      <td>...</td>\n",
       "      <td>...</td>\n",
       "      <td>...</td>\n",
       "      <td>...</td>\n",
       "      <td>...</td>\n",
       "      <td>...</td>\n",
       "    </tr>\n",
       "    <tr>\n",
       "      <th>2512</th>\n",
       "      <td>05/12/2014</td>\n",
       "      <td>39.970</td>\n",
       "      <td>22761620</td>\n",
       "      <td>39.74</td>\n",
       "      <td>40.0200</td>\n",
       "      <td>39.6500</td>\n",
       "    </tr>\n",
       "    <tr>\n",
       "      <th>2513</th>\n",
       "      <td>05/09/2014</td>\n",
       "      <td>39.540</td>\n",
       "      <td>29646100</td>\n",
       "      <td>39.54</td>\n",
       "      <td>39.8500</td>\n",
       "      <td>39.3700</td>\n",
       "    </tr>\n",
       "    <tr>\n",
       "      <th>2514</th>\n",
       "      <td>05/08/2014</td>\n",
       "      <td>39.640</td>\n",
       "      <td>32089010</td>\n",
       "      <td>39.34</td>\n",
       "      <td>39.9000</td>\n",
       "      <td>38.9700</td>\n",
       "    </tr>\n",
       "    <tr>\n",
       "      <th>2515</th>\n",
       "      <td>05/07/2014</td>\n",
       "      <td>39.425</td>\n",
       "      <td>41731030</td>\n",
       "      <td>39.22</td>\n",
       "      <td>39.5100</td>\n",
       "      <td>38.5100</td>\n",
       "    </tr>\n",
       "    <tr>\n",
       "      <th>2516</th>\n",
       "      <td>05/06/2014</td>\n",
       "      <td>39.060</td>\n",
       "      <td>27105700</td>\n",
       "      <td>39.29</td>\n",
       "      <td>39.3500</td>\n",
       "      <td>38.9500</td>\n",
       "    </tr>\n",
       "  </tbody>\n",
       "</table>\n",
       "<p>2517 rows × 6 columns</p>\n",
       "</div>"
      ],
      "text/plain": [
       "            Date  Close/Last    Volume    Open      High       Low\n",
       "0     05/03/2024     406.660  17446720  402.28  407.1500  401.8600\n",
       "1     05/02/2024     397.840  17709360  397.66  399.9300  394.6515\n",
       "2     05/01/2024     394.940  23562480  392.61  401.7199  390.3100\n",
       "3     04/30/2024     389.330  28781370  401.49  402.1600  389.1700\n",
       "4     04/29/2024     402.250  19582090  405.25  406.3200  399.1900\n",
       "...          ...         ...       ...     ...       ...       ...\n",
       "2512  05/12/2014      39.970  22761620   39.74   40.0200   39.6500\n",
       "2513  05/09/2014      39.540  29646100   39.54   39.8500   39.3700\n",
       "2514  05/08/2014      39.640  32089010   39.34   39.9000   38.9700\n",
       "2515  05/07/2014      39.425  41731030   39.22   39.5100   38.5100\n",
       "2516  05/06/2014      39.060  27105700   39.29   39.3500   38.9500\n",
       "\n",
       "[2517 rows x 6 columns]"
      ]
     },
     "execution_count": 19,
     "metadata": {},
     "output_type": "execute_result"
    }
   ],
   "source": [
    "msft"
   ]
  },
  {
   "cell_type": "code",
   "execution_count": 20,
   "id": "efea17ca",
   "metadata": {},
   "outputs": [
    {
     "data": {
      "application/vnd.microsoft.datawrangler.viewer.v0+json": {
       "columns": [
        {
         "name": "index",
         "rawType": "int64",
         "type": "integer"
        },
        {
         "name": "Date",
         "rawType": "datetime64[ns]",
         "type": "datetime"
        },
        {
         "name": "Close/Last",
         "rawType": "float64",
         "type": "float"
        },
        {
         "name": "Volume",
         "rawType": "int64",
         "type": "integer"
        },
        {
         "name": "Open",
         "rawType": "float64",
         "type": "float"
        },
        {
         "name": "High",
         "rawType": "float64",
         "type": "float"
        },
        {
         "name": "Low",
         "rawType": "float64",
         "type": "float"
        }
       ],
       "conversionMethod": "pd.DataFrame",
       "ref": "d75f4af0-b1b3-4176-b3b5-423cc87e45f8",
       "rows": [
        [
         "0",
         "2024-05-03 00:00:00",
         "183.38",
         "163224100",
         "186.65",
         "187.0",
         "182.66"
        ],
        [
         "1",
         "2024-05-02 00:00:00",
         "173.03",
         "94214920",
         "172.51",
         "173.42",
         "170.89"
        ],
        [
         "2",
         "2024-05-01 00:00:00",
         "169.3",
         "50383150",
         "169.58",
         "172.71",
         "169.11"
        ],
        [
         "3",
         "2024-04-30 00:00:00",
         "170.33",
         "65934780",
         "173.33",
         "174.99",
         "170.0"
        ],
        [
         "4",
         "2024-04-29 00:00:00",
         "173.5",
         "68169420",
         "173.37",
         "176.03",
         "173.1"
        ],
        [
         "5",
         "2024-04-26 00:00:00",
         "169.3",
         "44838350",
         "169.88",
         "171.34",
         "169.18"
        ],
        [
         "6",
         "2024-04-25 00:00:00",
         "169.89",
         "50558330",
         "169.53",
         "170.61",
         "168.15"
        ],
        [
         "7",
         "2024-04-24 00:00:00",
         "169.02",
         "48251840",
         "166.54",
         "169.3",
         "166.21"
        ],
        [
         "8",
         "2024-04-23 00:00:00",
         "166.9",
         "49537760",
         "165.35",
         "167.05",
         "164.92"
        ],
        [
         "9",
         "2024-04-22 00:00:00",
         "165.84",
         "48116440",
         "165.52",
         "167.26",
         "164.77"
        ],
        [
         "10",
         "2024-04-19 00:00:00",
         "165.0",
         "68149380",
         "166.21",
         "166.4",
         "164.08"
        ],
        [
         "11",
         "2024-04-18 00:00:00",
         "167.04",
         "43122900",
         "168.03",
         "168.64",
         "166.55"
        ],
        [
         "12",
         "2024-04-17 00:00:00",
         "168.0",
         "50901210",
         "169.61",
         "170.65",
         "168.0"
        ],
        [
         "13",
         "2024-04-16 00:00:00",
         "169.38",
         "73711240",
         "171.75",
         "173.76",
         "168.27"
        ],
        [
         "14",
         "2024-04-15 00:00:00",
         "172.69",
         "73531770",
         "175.36",
         "176.63",
         "172.5"
        ],
        [
         "15",
         "2024-04-12 00:00:00",
         "176.55",
         "101670900",
         "174.26",
         "178.36",
         "174.21"
        ],
        [
         "16",
         "2024-04-11 00:00:00",
         "175.04",
         "91070280",
         "168.34",
         "175.46",
         "168.16"
        ],
        [
         "17",
         "2024-04-10 00:00:00",
         "167.78",
         "49709340",
         "168.8",
         "169.09",
         "167.11"
        ],
        [
         "18",
         "2024-04-09 00:00:00",
         "169.67",
         "42451210",
         "168.7",
         "170.08",
         "168.35"
        ],
        [
         "19",
         "2024-04-08 00:00:00",
         "169.67",
         "37425510",
         "169.03",
         "169.2",
         "168.24"
        ],
        [
         "20",
         "2024-04-05 00:00:00",
         "169.58",
         "42104830",
         "169.59",
         "170.39",
         "168.95"
        ],
        [
         "21",
         "2024-04-04 00:00:00",
         "168.82",
         "53704390",
         "170.29",
         "171.92",
         "168.82"
        ],
        [
         "22",
         "2024-04-03 00:00:00",
         "169.65",
         "47691720",
         "168.79",
         "170.68",
         "168.58"
        ],
        [
         "23",
         "2024-04-02 00:00:00",
         "168.84",
         "49329480",
         "169.08",
         "169.34",
         "168.23"
        ],
        [
         "24",
         "2024-04-01 00:00:00",
         "170.03",
         "46240500",
         "171.19",
         "171.25",
         "169.48"
        ],
        [
         "25",
         "2024-03-28 00:00:00",
         "171.48",
         "65672690",
         "171.75",
         "172.23",
         "170.51"
        ],
        [
         "26",
         "2024-03-27 00:00:00",
         "173.31",
         "60273270",
         "170.41",
         "173.6",
         "170.11"
        ],
        [
         "27",
         "2024-03-26 00:00:00",
         "169.71",
         "57388450",
         "170.0",
         "171.42",
         "169.58"
        ],
        [
         "28",
         "2024-03-25 00:00:00",
         "170.85",
         "54288330",
         "170.57",
         "171.94",
         "169.45"
        ],
        [
         "29",
         "2024-03-22 00:00:00",
         "172.28",
         "71160140",
         "171.76",
         "173.05",
         "170.06"
        ],
        [
         "30",
         "2024-03-21 00:00:00",
         "171.37",
         "106181300",
         "177.05",
         "177.49",
         "170.84"
        ],
        [
         "31",
         "2024-03-20 00:00:00",
         "178.67",
         "53423100",
         "175.72",
         "178.67",
         "175.09"
        ],
        [
         "32",
         "2024-03-19 00:00:00",
         "176.08",
         "55215240",
         "174.34",
         "176.61",
         "173.03"
        ],
        [
         "33",
         "2024-03-18 00:00:00",
         "173.72",
         "75604180",
         "175.57",
         "177.71",
         "173.52"
        ],
        [
         "34",
         "2024-03-15 00:00:00",
         "172.62",
         "121752700",
         "171.17",
         "172.62",
         "170.29"
        ],
        [
         "35",
         "2024-03-14 00:00:00",
         "173.0",
         "72913510",
         "172.91",
         "174.31",
         "172.05"
        ],
        [
         "36",
         "2024-03-13 00:00:00",
         "171.13",
         "52488690",
         "172.77",
         "173.19",
         "170.76"
        ],
        [
         "37",
         "2024-03-12 00:00:00",
         "173.23",
         "59825370",
         "173.15",
         "174.03",
         "171.01"
        ],
        [
         "38",
         "2024-03-11 00:00:00",
         "172.75",
         "60139470",
         "172.94",
         "174.38",
         "172.05"
        ],
        [
         "39",
         "2024-03-08 00:00:00",
         "170.73",
         "76267040",
         "169.0",
         "173.7",
         "168.94"
        ],
        [
         "40",
         "2024-03-07 00:00:00",
         "169.0",
         "71765060",
         "169.15",
         "170.73",
         "168.49"
        ],
        [
         "41",
         "2024-03-06 00:00:00",
         "169.12",
         "68587710",
         "171.06",
         "171.24",
         "168.68"
        ],
        [
         "42",
         "2024-03-05 00:00:00",
         "170.12",
         "95132360",
         "170.76",
         "172.04",
         "169.62"
        ],
        [
         "43",
         "2024-03-04 00:00:00",
         "175.1",
         "81510100",
         "176.15",
         "176.9",
         "173.79"
        ],
        [
         "44",
         "2024-03-01 00:00:00",
         "179.66",
         "73563080",
         "179.55",
         "180.53",
         "177.38"
        ],
        [
         "45",
         "2024-02-29 00:00:00",
         "180.75",
         "136682600",
         "181.27",
         "182.57",
         "179.53"
        ],
        [
         "46",
         "2024-02-28 00:00:00",
         "181.42",
         "48953940",
         "182.51",
         "183.12",
         "180.13"
        ],
        [
         "47",
         "2024-02-27 00:00:00",
         "182.63",
         "54318850",
         "181.1",
         "183.92",
         "179.56"
        ],
        [
         "48",
         "2024-02-26 00:00:00",
         "181.16",
         "40867420",
         "182.24",
         "182.76",
         "180.65"
        ],
        [
         "49",
         "2024-02-23 00:00:00",
         "182.52",
         "45119680",
         "185.01",
         "185.04",
         "182.23"
        ]
       ],
       "shape": {
        "columns": 6,
        "rows": 2517
       }
      },
      "text/html": [
       "<div>\n",
       "<style scoped>\n",
       "    .dataframe tbody tr th:only-of-type {\n",
       "        vertical-align: middle;\n",
       "    }\n",
       "\n",
       "    .dataframe tbody tr th {\n",
       "        vertical-align: top;\n",
       "    }\n",
       "\n",
       "    .dataframe thead th {\n",
       "        text-align: right;\n",
       "    }\n",
       "</style>\n",
       "<table border=\"1\" class=\"dataframe\">\n",
       "  <thead>\n",
       "    <tr style=\"text-align: right;\">\n",
       "      <th></th>\n",
       "      <th>Date</th>\n",
       "      <th>Close/Last</th>\n",
       "      <th>Volume</th>\n",
       "      <th>Open</th>\n",
       "      <th>High</th>\n",
       "      <th>Low</th>\n",
       "    </tr>\n",
       "  </thead>\n",
       "  <tbody>\n",
       "    <tr>\n",
       "      <th>0</th>\n",
       "      <td>2024-05-03</td>\n",
       "      <td>183.38</td>\n",
       "      <td>163224100</td>\n",
       "      <td>186.65</td>\n",
       "      <td>187.00</td>\n",
       "      <td>182.66</td>\n",
       "    </tr>\n",
       "    <tr>\n",
       "      <th>1</th>\n",
       "      <td>2024-05-02</td>\n",
       "      <td>173.03</td>\n",
       "      <td>94214920</td>\n",
       "      <td>172.51</td>\n",
       "      <td>173.42</td>\n",
       "      <td>170.89</td>\n",
       "    </tr>\n",
       "    <tr>\n",
       "      <th>2</th>\n",
       "      <td>2024-05-01</td>\n",
       "      <td>169.30</td>\n",
       "      <td>50383150</td>\n",
       "      <td>169.58</td>\n",
       "      <td>172.71</td>\n",
       "      <td>169.11</td>\n",
       "    </tr>\n",
       "    <tr>\n",
       "      <th>3</th>\n",
       "      <td>2024-04-30</td>\n",
       "      <td>170.33</td>\n",
       "      <td>65934780</td>\n",
       "      <td>173.33</td>\n",
       "      <td>174.99</td>\n",
       "      <td>170.00</td>\n",
       "    </tr>\n",
       "    <tr>\n",
       "      <th>4</th>\n",
       "      <td>2024-04-29</td>\n",
       "      <td>173.50</td>\n",
       "      <td>68169420</td>\n",
       "      <td>173.37</td>\n",
       "      <td>176.03</td>\n",
       "      <td>173.10</td>\n",
       "    </tr>\n",
       "    <tr>\n",
       "      <th>...</th>\n",
       "      <td>...</td>\n",
       "      <td>...</td>\n",
       "      <td>...</td>\n",
       "      <td>...</td>\n",
       "      <td>...</td>\n",
       "      <td>...</td>\n",
       "    </tr>\n",
       "    <tr>\n",
       "      <th>2512</th>\n",
       "      <td>2014-05-12</td>\n",
       "      <td>21.17</td>\n",
       "      <td>212736019</td>\n",
       "      <td>20.98</td>\n",
       "      <td>21.20</td>\n",
       "      <td>20.98</td>\n",
       "    </tr>\n",
       "    <tr>\n",
       "      <th>2513</th>\n",
       "      <td>2014-05-09</td>\n",
       "      <td>20.91</td>\n",
       "      <td>291068564</td>\n",
       "      <td>20.88</td>\n",
       "      <td>20.94</td>\n",
       "      <td>20.73</td>\n",
       "    </tr>\n",
       "    <tr>\n",
       "      <th>2514</th>\n",
       "      <td>2014-05-08</td>\n",
       "      <td>21.00</td>\n",
       "      <td>228973884</td>\n",
       "      <td>21.01</td>\n",
       "      <td>21.23</td>\n",
       "      <td>20.94</td>\n",
       "    </tr>\n",
       "    <tr>\n",
       "      <th>2515</th>\n",
       "      <td>2014-05-07</td>\n",
       "      <td>21.15</td>\n",
       "      <td>282128727</td>\n",
       "      <td>21.26</td>\n",
       "      <td>21.33</td>\n",
       "      <td>20.99</td>\n",
       "    </tr>\n",
       "    <tr>\n",
       "      <th>2516</th>\n",
       "      <td>2014-05-06</td>\n",
       "      <td>21.23</td>\n",
       "      <td>373872650</td>\n",
       "      <td>21.49</td>\n",
       "      <td>21.59</td>\n",
       "      <td>21.23</td>\n",
       "    </tr>\n",
       "  </tbody>\n",
       "</table>\n",
       "<p>2517 rows × 6 columns</p>\n",
       "</div>"
      ],
      "text/plain": [
       "           Date  Close/Last     Volume    Open    High     Low\n",
       "0    2024-05-03      183.38  163224100  186.65  187.00  182.66\n",
       "1    2024-05-02      173.03   94214920  172.51  173.42  170.89\n",
       "2    2024-05-01      169.30   50383150  169.58  172.71  169.11\n",
       "3    2024-04-30      170.33   65934780  173.33  174.99  170.00\n",
       "4    2024-04-29      173.50   68169420  173.37  176.03  173.10\n",
       "...         ...         ...        ...     ...     ...     ...\n",
       "2512 2014-05-12       21.17  212736019   20.98   21.20   20.98\n",
       "2513 2014-05-09       20.91  291068564   20.88   20.94   20.73\n",
       "2514 2014-05-08       21.00  228973884   21.01   21.23   20.94\n",
       "2515 2014-05-07       21.15  282128727   21.26   21.33   20.99\n",
       "2516 2014-05-06       21.23  373872650   21.49   21.59   21.23\n",
       "\n",
       "[2517 rows x 6 columns]"
      ]
     },
     "execution_count": 20,
     "metadata": {},
     "output_type": "execute_result"
    }
   ],
   "source": [
    "# Use pandas's to_datetime() to convert any columns that are in a datetime format\n",
    "aapl['Date'] = pd.to_datetime(aapl['Date'])\n",
    "msft['Date'] = pd.to_datetime(msft['Date'])\n",
    "aapl"
   ]
  },
  {
   "cell_type": "code",
   "execution_count": 21,
   "id": "8a2089e3",
   "metadata": {},
   "outputs": [
    {
     "name": "stdout",
     "output_type": "stream",
     "text": [
      "<class 'pandas.core.frame.DataFrame'>\n",
      "RangeIndex: 2517 entries, 0 to 2516\n",
      "Data columns (total 6 columns):\n",
      " #   Column      Non-Null Count  Dtype         \n",
      "---  ------      --------------  -----         \n",
      " 0   Date        2517 non-null   datetime64[ns]\n",
      " 1   Close/Last  2517 non-null   float64       \n",
      " 2   Volume      2517 non-null   int64         \n",
      " 3   Open        2517 non-null   float64       \n",
      " 4   High        2517 non-null   float64       \n",
      " 5   Low         2517 non-null   float64       \n",
      "dtypes: datetime64[ns](1), float64(4), int64(1)\n",
      "memory usage: 118.1 KB\n"
     ]
    }
   ],
   "source": [
    "# Use .info() and check the type of each column to ensure that the above steps worked\n",
    "aapl.info()"
   ]
  },
  {
   "cell_type": "code",
   "execution_count": 22,
   "id": "7a1beed0",
   "metadata": {},
   "outputs": [
    {
     "data": {
      "application/vnd.microsoft.datawrangler.viewer.v0+json": {
       "columns": [
        {
         "name": "index",
         "rawType": "int64",
         "type": "integer"
        },
        {
         "name": "Date",
         "rawType": "datetime64[ns]",
         "type": "datetime"
        },
        {
         "name": "Close/Last",
         "rawType": "float64",
         "type": "float"
        },
        {
         "name": "Volume",
         "rawType": "int64",
         "type": "integer"
        },
        {
         "name": "Open",
         "rawType": "float64",
         "type": "float"
        },
        {
         "name": "High",
         "rawType": "float64",
         "type": "float"
        },
        {
         "name": "Low",
         "rawType": "float64",
         "type": "float"
        }
       ],
       "conversionMethod": "pd.DataFrame",
       "ref": "22700544-5fa4-43c2-aa12-0c22224bc66b",
       "rows": [
        [
         "0",
         "2024-05-03 00:00:00",
         "406.66",
         "17446720",
         "402.28",
         "407.15",
         "401.86"
        ],
        [
         "1",
         "2024-05-02 00:00:00",
         "397.84",
         "17709360",
         "397.66",
         "399.93",
         "394.6515"
        ],
        [
         "2",
         "2024-05-01 00:00:00",
         "394.94",
         "23562480",
         "392.61",
         "401.7199",
         "390.31"
        ],
        [
         "3",
         "2024-04-30 00:00:00",
         "389.33",
         "28781370",
         "401.49",
         "402.16",
         "389.17"
        ],
        [
         "4",
         "2024-04-29 00:00:00",
         "402.25",
         "19582090",
         "405.25",
         "406.32",
         "399.19"
        ],
        [
         "5",
         "2024-04-26 00:00:00",
         "406.32",
         "29694650",
         "412.17",
         "413.0",
         "405.7601"
        ],
        [
         "6",
         "2024-04-25 00:00:00",
         "399.04",
         "40586450",
         "394.03",
         "399.8899",
         "388.03"
        ],
        [
         "7",
         "2024-04-24 00:00:00",
         "409.06",
         "15065330",
         "409.56",
         "412.47",
         "406.78"
        ],
        [
         "8",
         "2024-04-23 00:00:00",
         "407.57",
         "15734500",
         "404.235",
         "408.2",
         "403.06"
        ],
        [
         "9",
         "2024-04-22 00:00:00",
         "400.96",
         "20286880",
         "400.08",
         "402.85",
         "395.75"
        ],
        [
         "10",
         "2024-04-19 00:00:00",
         "399.12",
         "30565790",
         "404.03",
         "405.48",
         "397.77"
        ],
        [
         "11",
         "2024-04-18 00:00:00",
         "404.27",
         "21029920",
         "410.63",
         "411.89",
         "403.95"
        ],
        [
         "12",
         "2024-04-17 00:00:00",
         "411.84",
         "15855490",
         "417.25",
         "418.88",
         "410.33"
        ],
        [
         "13",
         "2024-04-16 00:00:00",
         "414.58",
         "16765620",
         "414.57",
         "418.4",
         "413.7301"
        ],
        [
         "14",
         "2024-04-15 00:00:00",
         "413.64",
         "20273540",
         "426.6",
         "426.82",
         "413.43"
        ],
        [
         "15",
         "2024-04-12 00:00:00",
         "421.9",
         "19253750",
         "424.05",
         "425.1794",
         "419.77"
        ],
        [
         "16",
         "2024-04-11 00:00:00",
         "427.93",
         "17966420",
         "425.82",
         "429.37",
         "422.36"
        ],
        [
         "17",
         "2024-04-10 00:00:00",
         "423.26",
         "16216580",
         "422.19",
         "424.03",
         "419.7"
        ],
        [
         "18",
         "2024-04-09 00:00:00",
         "426.28",
         "12512290",
         "426.44",
         "427.74",
         "421.62"
        ],
        [
         "19",
         "2024-04-08 00:00:00",
         "424.59",
         "14272390",
         "425.17",
         "427.28",
         "423.3"
        ],
        [
         "20",
         "2024-04-05 00:00:00",
         "425.52",
         "16554760",
         "420.01",
         "426.51",
         "418.32"
        ],
        [
         "21",
         "2024-04-04 00:00:00",
         "417.88",
         "19370880",
         "424.99",
         "428.67",
         "417.57"
        ],
        [
         "22",
         "2024-04-03 00:00:00",
         "420.45",
         "16502260",
         "419.73",
         "423.26",
         "419.085"
        ],
        [
         "23",
         "2024-04-02 00:00:00",
         "421.44",
         "17911990",
         "420.11",
         "422.38",
         "417.84"
        ],
        [
         "24",
         "2024-04-01 00:00:00",
         "424.57",
         "16315960",
         "423.95",
         "427.89",
         "422.22"
        ],
        [
         "25",
         "2024-03-28 00:00:00",
         "420.72",
         "21871160",
         "420.96",
         "421.87",
         "419.12"
        ],
        [
         "26",
         "2024-03-27 00:00:00",
         "421.43",
         "16704980",
         "424.44",
         "424.45",
         "419.01"
        ],
        [
         "27",
         "2024-03-26 00:00:00",
         "421.65",
         "16725650",
         "425.61",
         "425.99",
         "421.35"
        ],
        [
         "28",
         "2024-03-25 00:00:00",
         "422.86",
         "18060450",
         "425.24",
         "427.41",
         "421.61"
        ],
        [
         "29",
         "2024-03-22 00:00:00",
         "428.74",
         "17648470",
         "429.7",
         "429.86",
         "426.07"
        ],
        [
         "30",
         "2024-03-21 00:00:00",
         "429.37",
         "21296220",
         "429.83",
         "430.82",
         "427.16"
        ],
        [
         "31",
         "2024-03-20 00:00:00",
         "425.23",
         "17860090",
         "422.0",
         "425.96",
         "420.66"
        ],
        [
         "32",
         "2024-03-19 00:00:00",
         "421.41",
         "19837920",
         "417.83",
         "421.6656",
         "415.55"
        ],
        [
         "33",
         "2024-03-18 00:00:00",
         "417.32",
         "20105980",
         "414.25",
         "420.73",
         "413.78"
        ],
        [
         "34",
         "2024-03-15 00:00:00",
         "416.42",
         "45079900",
         "419.29",
         "422.6",
         "412.79"
        ],
        [
         "35",
         "2024-03-14 00:00:00",
         "425.22",
         "34157300",
         "420.24",
         "427.82",
         "417.99"
        ],
        [
         "36",
         "2024-03-13 00:00:00",
         "415.1",
         "17115930",
         "418.1",
         "418.18",
         "411.45"
        ],
        [
         "37",
         "2024-03-12 00:00:00",
         "415.28",
         "22457000",
         "407.62",
         "415.57",
         "406.79"
        ],
        [
         "38",
         "2024-03-11 00:00:00",
         "404.52",
         "16120750",
         "403.762",
         "405.68",
         "401.26"
        ],
        [
         "39",
         "2024-03-08 00:00:00",
         "406.22",
         "18002190",
         "407.96",
         "410.42",
         "404.33"
        ],
        [
         "40",
         "2024-03-07 00:00:00",
         "409.14",
         "18718480",
         "406.12",
         "409.78",
         "402.24"
        ],
        [
         "41",
         "2024-03-06 00:00:00",
         "402.09",
         "22344150",
         "402.97",
         "405.16",
         "398.39"
        ],
        [
         "42",
         "2024-03-05 00:00:00",
         "402.65",
         "26919180",
         "413.96",
         "414.25",
         "400.64"
        ],
        [
         "43",
         "2024-03-04 00:00:00",
         "414.92",
         "17595960",
         "413.44",
         "417.35",
         "412.32"
        ],
        [
         "44",
         "2024-03-01 00:00:00",
         "415.5",
         "17823450",
         "411.27",
         "415.87",
         "410.88"
        ],
        [
         "45",
         "2024-02-29 00:00:00",
         "413.64",
         "31947260",
         "408.64",
         "414.2",
         "405.92"
        ],
        [
         "46",
         "2024-02-28 00:00:00",
         "407.72",
         "13183130",
         "408.175",
         "409.3",
         "405.3201"
        ],
        [
         "47",
         "2024-02-27 00:00:00",
         "407.48",
         "14835830",
         "407.99",
         "408.32",
         "403.85"
        ],
        [
         "48",
         "2024-02-26 00:00:00",
         "407.54",
         "16193510",
         "411.455",
         "412.16",
         "407.36"
        ],
        [
         "49",
         "2024-02-23 00:00:00",
         "410.34",
         "16295880",
         "415.67",
         "415.86",
         "408.97"
        ]
       ],
       "shape": {
        "columns": 6,
        "rows": 2517
       }
      },
      "text/html": [
       "<div>\n",
       "<style scoped>\n",
       "    .dataframe tbody tr th:only-of-type {\n",
       "        vertical-align: middle;\n",
       "    }\n",
       "\n",
       "    .dataframe tbody tr th {\n",
       "        vertical-align: top;\n",
       "    }\n",
       "\n",
       "    .dataframe thead th {\n",
       "        text-align: right;\n",
       "    }\n",
       "</style>\n",
       "<table border=\"1\" class=\"dataframe\">\n",
       "  <thead>\n",
       "    <tr style=\"text-align: right;\">\n",
       "      <th></th>\n",
       "      <th>Date</th>\n",
       "      <th>Close/Last</th>\n",
       "      <th>Volume</th>\n",
       "      <th>Open</th>\n",
       "      <th>High</th>\n",
       "      <th>Low</th>\n",
       "    </tr>\n",
       "  </thead>\n",
       "  <tbody>\n",
       "    <tr>\n",
       "      <th>0</th>\n",
       "      <td>2024-05-03</td>\n",
       "      <td>406.660</td>\n",
       "      <td>17446720</td>\n",
       "      <td>402.28</td>\n",
       "      <td>407.1500</td>\n",
       "      <td>401.8600</td>\n",
       "    </tr>\n",
       "    <tr>\n",
       "      <th>1</th>\n",
       "      <td>2024-05-02</td>\n",
       "      <td>397.840</td>\n",
       "      <td>17709360</td>\n",
       "      <td>397.66</td>\n",
       "      <td>399.9300</td>\n",
       "      <td>394.6515</td>\n",
       "    </tr>\n",
       "    <tr>\n",
       "      <th>2</th>\n",
       "      <td>2024-05-01</td>\n",
       "      <td>394.940</td>\n",
       "      <td>23562480</td>\n",
       "      <td>392.61</td>\n",
       "      <td>401.7199</td>\n",
       "      <td>390.3100</td>\n",
       "    </tr>\n",
       "    <tr>\n",
       "      <th>3</th>\n",
       "      <td>2024-04-30</td>\n",
       "      <td>389.330</td>\n",
       "      <td>28781370</td>\n",
       "      <td>401.49</td>\n",
       "      <td>402.1600</td>\n",
       "      <td>389.1700</td>\n",
       "    </tr>\n",
       "    <tr>\n",
       "      <th>4</th>\n",
       "      <td>2024-04-29</td>\n",
       "      <td>402.250</td>\n",
       "      <td>19582090</td>\n",
       "      <td>405.25</td>\n",
       "      <td>406.3200</td>\n",
       "      <td>399.1900</td>\n",
       "    </tr>\n",
       "    <tr>\n",
       "      <th>...</th>\n",
       "      <td>...</td>\n",
       "      <td>...</td>\n",
       "      <td>...</td>\n",
       "      <td>...</td>\n",
       "      <td>...</td>\n",
       "      <td>...</td>\n",
       "    </tr>\n",
       "    <tr>\n",
       "      <th>2512</th>\n",
       "      <td>2014-05-12</td>\n",
       "      <td>39.970</td>\n",
       "      <td>22761620</td>\n",
       "      <td>39.74</td>\n",
       "      <td>40.0200</td>\n",
       "      <td>39.6500</td>\n",
       "    </tr>\n",
       "    <tr>\n",
       "      <th>2513</th>\n",
       "      <td>2014-05-09</td>\n",
       "      <td>39.540</td>\n",
       "      <td>29646100</td>\n",
       "      <td>39.54</td>\n",
       "      <td>39.8500</td>\n",
       "      <td>39.3700</td>\n",
       "    </tr>\n",
       "    <tr>\n",
       "      <th>2514</th>\n",
       "      <td>2014-05-08</td>\n",
       "      <td>39.640</td>\n",
       "      <td>32089010</td>\n",
       "      <td>39.34</td>\n",
       "      <td>39.9000</td>\n",
       "      <td>38.9700</td>\n",
       "    </tr>\n",
       "    <tr>\n",
       "      <th>2515</th>\n",
       "      <td>2014-05-07</td>\n",
       "      <td>39.425</td>\n",
       "      <td>41731030</td>\n",
       "      <td>39.22</td>\n",
       "      <td>39.5100</td>\n",
       "      <td>38.5100</td>\n",
       "    </tr>\n",
       "    <tr>\n",
       "      <th>2516</th>\n",
       "      <td>2014-05-06</td>\n",
       "      <td>39.060</td>\n",
       "      <td>27105700</td>\n",
       "      <td>39.29</td>\n",
       "      <td>39.3500</td>\n",
       "      <td>38.9500</td>\n",
       "    </tr>\n",
       "  </tbody>\n",
       "</table>\n",
       "<p>2517 rows × 6 columns</p>\n",
       "</div>"
      ],
      "text/plain": [
       "           Date  Close/Last    Volume    Open      High       Low\n",
       "0    2024-05-03     406.660  17446720  402.28  407.1500  401.8600\n",
       "1    2024-05-02     397.840  17709360  397.66  399.9300  394.6515\n",
       "2    2024-05-01     394.940  23562480  392.61  401.7199  390.3100\n",
       "3    2024-04-30     389.330  28781370  401.49  402.1600  389.1700\n",
       "4    2024-04-29     402.250  19582090  405.25  406.3200  399.1900\n",
       "...         ...         ...       ...     ...       ...       ...\n",
       "2512 2014-05-12      39.970  22761620   39.74   40.0200   39.6500\n",
       "2513 2014-05-09      39.540  29646100   39.54   39.8500   39.3700\n",
       "2514 2014-05-08      39.640  32089010   39.34   39.9000   38.9700\n",
       "2515 2014-05-07      39.425  41731030   39.22   39.5100   38.5100\n",
       "2516 2014-05-06      39.060  27105700   39.29   39.3500   38.9500\n",
       "\n",
       "[2517 rows x 6 columns]"
      ]
     },
     "execution_count": 22,
     "metadata": {},
     "output_type": "execute_result"
    }
   ],
   "source": [
    "msft"
   ]
  },
  {
   "cell_type": "code",
   "execution_count": 23,
   "id": "16bf93c9",
   "metadata": {},
   "outputs": [
    {
     "name": "stdout",
     "output_type": "stream",
     "text": [
      "<class 'pandas.core.frame.DataFrame'>\n",
      "RangeIndex: 2517 entries, 0 to 2516\n",
      "Data columns (total 6 columns):\n",
      " #   Column      Non-Null Count  Dtype         \n",
      "---  ------      --------------  -----         \n",
      " 0   Date        2517 non-null   datetime64[ns]\n",
      " 1   Close/Last  2517 non-null   float64       \n",
      " 2   Volume      2517 non-null   int64         \n",
      " 3   Open        2517 non-null   float64       \n",
      " 4   High        2517 non-null   float64       \n",
      " 5   Low         2517 non-null   float64       \n",
      "dtypes: datetime64[ns](1), float64(4), int64(1)\n",
      "memory usage: 118.1 KB\n"
     ]
    }
   ],
   "source": [
    "msft.info()"
   ]
  },
  {
   "cell_type": "markdown",
   "id": "95ad8e72",
   "metadata": {},
   "source": [
    "## Data preprocessing: Align datetime data\n",
    "\n",
    "Data engineering includes changing data with a datetime component if needed so that different time series can be more easily compared or plotted against each other. \n",
    "\n",
    "In this step:\n",
    "\n",
    "* Align the inflation date so that it falls on the last day of the month instead of the first\n",
    "\n",
    "Helpful hints: \n",
    "* Use the `pandas` `offsets` method using `MonthEnd(0)` to set the 'Date' column to month-end"
   ]
  },
  {
   "cell_type": "code",
   "execution_count": 24,
   "id": "fe782db6",
   "metadata": {},
   "outputs": [
    {
     "data": {
      "application/vnd.microsoft.datawrangler.viewer.v0+json": {
       "columns": [
        {
         "name": "index",
         "rawType": "int64",
         "type": "integer"
        },
        {
         "name": "Date",
         "rawType": "datetime64[ns]",
         "type": "datetime"
        },
        {
         "name": "CORESTICKM159SFRBATL",
         "rawType": "float64",
         "type": "float"
        }
       ],
       "conversionMethod": "pd.DataFrame",
       "ref": "473a464d-ace9-4962-bb43-761243bc7884",
       "rows": [
        [
         "0",
         "1968-01-01 00:00:00",
         "3.65186106"
        ],
        [
         "1",
         "1968-02-01 00:00:00",
         "3.673819411"
        ],
        [
         "2",
         "1968-03-01 00:00:00",
         "4.142163975"
        ],
        [
         "3",
         "1968-04-01 00:00:00",
         "4.155828095"
        ],
        [
         "4",
         "1968-05-01 00:00:00",
         "4.088245437"
        ],
        [
         "5",
         "1968-06-01 00:00:00",
         "4.545569347"
        ],
        [
         "6",
         "1968-07-01 00:00:00",
         "4.753076334"
        ],
        [
         "7",
         "1968-08-01 00:00:00",
         "4.9466066"
        ],
        [
         "8",
         "1968-09-01 00:00:00",
         "4.948246979"
        ],
        [
         "9",
         "1968-10-01 00:00:00",
         "5.182592347"
        ],
        [
         "10",
         "1968-11-01 00:00:00",
         "5.399387944"
        ],
        [
         "11",
         "1968-12-01 00:00:00",
         "5.706347843"
        ],
        [
         "12",
         "1969-01-01 00:00:00",
         "5.746196961"
        ],
        [
         "13",
         "1969-02-01 00:00:00",
         "5.749956071"
        ],
        [
         "14",
         "1969-03-01 00:00:00",
         "6.125157849"
        ],
        [
         "15",
         "1969-04-01 00:00:00",
         "6.505620421"
        ],
        [
         "16",
         "1969-05-01 00:00:00",
         "6.780633974"
        ],
        [
         "17",
         "1969-06-01 00:00:00",
         "6.375966005"
        ],
        [
         "18",
         "1969-07-01 00:00:00",
         "6.389268621"
        ],
        [
         "19",
         "1969-08-01 00:00:00",
         "6.414746498"
        ],
        [
         "20",
         "1969-09-01 00:00:00",
         "6.834758299"
        ],
        [
         "21",
         "1969-10-01 00:00:00",
         "6.560106336"
        ],
        [
         "22",
         "1969-11-01 00:00:00",
         "6.437390535"
        ],
        [
         "23",
         "1969-12-01 00:00:00",
         "6.402163808"
        ],
        [
         "24",
         "1970-01-01 00:00:00",
         "6.592370014"
        ],
        [
         "25",
         "1970-02-01 00:00:00",
         "7.053805927"
        ],
        [
         "26",
         "1970-03-01 00:00:00",
         "6.993096123"
        ],
        [
         "27",
         "1970-04-01 00:00:00",
         "6.817838113"
        ],
        [
         "28",
         "1970-05-01 00:00:00",
         "6.947734731"
        ],
        [
         "29",
         "1970-06-01 00:00:00",
         "7.151974844"
        ],
        [
         "30",
         "1970-07-01 00:00:00",
         "7.00787567"
        ],
        [
         "31",
         "1970-08-01 00:00:00",
         "7.114872285"
        ],
        [
         "32",
         "1970-09-01 00:00:00",
         "7.081263039"
        ],
        [
         "33",
         "1970-10-01 00:00:00",
         "7.057638255"
        ],
        [
         "34",
         "1970-11-01 00:00:00",
         "7.327620064"
        ],
        [
         "35",
         "1970-12-01 00:00:00",
         "7.342681298"
        ],
        [
         "36",
         "1971-01-01 00:00:00",
         "7.014858012"
        ],
        [
         "37",
         "1971-02-01 00:00:00",
         "6.329604979"
        ],
        [
         "38",
         "1971-03-01 00:00:00",
         "5.50160847"
        ],
        [
         "39",
         "1971-04-01 00:00:00",
         "5.306250794"
        ],
        [
         "40",
         "1971-05-01 00:00:00",
         "5.060279237"
        ],
        [
         "41",
         "1971-06-01 00:00:00",
         "5.239199701"
        ],
        [
         "42",
         "1971-07-01 00:00:00",
         "5.165044197"
        ],
        [
         "43",
         "1971-08-01 00:00:00",
         "4.913620811"
        ],
        [
         "44",
         "1971-09-01 00:00:00",
         "4.672385308"
        ],
        [
         "45",
         "1971-10-01 00:00:00",
         "4.376576593"
        ],
        [
         "46",
         "1971-11-01 00:00:00",
         "3.953153899"
        ],
        [
         "47",
         "1971-12-01 00:00:00",
         "3.677258309"
        ],
        [
         "48",
         "1972-01-01 00:00:00",
         "3.728280469"
        ],
        [
         "49",
         "1972-02-01 00:00:00",
         "3.841502967"
        ]
       ],
       "shape": {
        "columns": 2,
        "rows": 675
       }
      },
      "text/html": [
       "<div>\n",
       "<style scoped>\n",
       "    .dataframe tbody tr th:only-of-type {\n",
       "        vertical-align: middle;\n",
       "    }\n",
       "\n",
       "    .dataframe tbody tr th {\n",
       "        vertical-align: top;\n",
       "    }\n",
       "\n",
       "    .dataframe thead th {\n",
       "        text-align: right;\n",
       "    }\n",
       "</style>\n",
       "<table border=\"1\" class=\"dataframe\">\n",
       "  <thead>\n",
       "    <tr style=\"text-align: right;\">\n",
       "      <th></th>\n",
       "      <th>Date</th>\n",
       "      <th>CORESTICKM159SFRBATL</th>\n",
       "    </tr>\n",
       "  </thead>\n",
       "  <tbody>\n",
       "    <tr>\n",
       "      <th>0</th>\n",
       "      <td>1968-01-01</td>\n",
       "      <td>3.651861</td>\n",
       "    </tr>\n",
       "    <tr>\n",
       "      <th>1</th>\n",
       "      <td>1968-02-01</td>\n",
       "      <td>3.673819</td>\n",
       "    </tr>\n",
       "    <tr>\n",
       "      <th>2</th>\n",
       "      <td>1968-03-01</td>\n",
       "      <td>4.142164</td>\n",
       "    </tr>\n",
       "    <tr>\n",
       "      <th>3</th>\n",
       "      <td>1968-04-01</td>\n",
       "      <td>4.155828</td>\n",
       "    </tr>\n",
       "    <tr>\n",
       "      <th>4</th>\n",
       "      <td>1968-05-01</td>\n",
       "      <td>4.088245</td>\n",
       "    </tr>\n",
       "    <tr>\n",
       "      <th>...</th>\n",
       "      <td>...</td>\n",
       "      <td>...</td>\n",
       "    </tr>\n",
       "    <tr>\n",
       "      <th>670</th>\n",
       "      <td>2023-11-01</td>\n",
       "      <td>4.688293</td>\n",
       "    </tr>\n",
       "    <tr>\n",
       "      <th>671</th>\n",
       "      <td>2023-12-01</td>\n",
       "      <td>4.554396</td>\n",
       "    </tr>\n",
       "    <tr>\n",
       "      <th>672</th>\n",
       "      <td>2024-01-01</td>\n",
       "      <td>4.603922</td>\n",
       "    </tr>\n",
       "    <tr>\n",
       "      <th>673</th>\n",
       "      <td>2024-02-01</td>\n",
       "      <td>4.403102</td>\n",
       "    </tr>\n",
       "    <tr>\n",
       "      <th>674</th>\n",
       "      <td>2024-03-01</td>\n",
       "      <td>4.509212</td>\n",
       "    </tr>\n",
       "  </tbody>\n",
       "</table>\n",
       "<p>675 rows × 2 columns</p>\n",
       "</div>"
      ],
      "text/plain": [
       "          Date  CORESTICKM159SFRBATL\n",
       "0   1968-01-01              3.651861\n",
       "1   1968-02-01              3.673819\n",
       "2   1968-03-01              4.142164\n",
       "3   1968-04-01              4.155828\n",
       "4   1968-05-01              4.088245\n",
       "..         ...                   ...\n",
       "670 2023-11-01              4.688293\n",
       "671 2023-12-01              4.554396\n",
       "672 2024-01-01              4.603922\n",
       "673 2024-02-01              4.403102\n",
       "674 2024-03-01              4.509212\n",
       "\n",
       "[675 rows x 2 columns]"
      ]
     },
     "execution_count": 24,
     "metadata": {},
     "output_type": "execute_result"
    }
   ],
   "source": [
    "# Align inflation data so that the date is the month end (e.g. Jan 31, Feb 28/28)\n",
    "inflation = pd.read_csv('inflation_monthly.csv').rename(columns={'DATE':'Date'})\n",
    "inflation['Date'] = pd.to_datetime(inflation['Date'])\n",
    "inflation\n"
   ]
  },
  {
   "cell_type": "code",
   "execution_count": 25,
   "id": "50959c26",
   "metadata": {},
   "outputs": [
    {
     "data": {
      "application/vnd.microsoft.datawrangler.viewer.v0+json": {
       "columns": [
        {
         "name": "index",
         "rawType": "int64",
         "type": "integer"
        },
        {
         "name": "Date",
         "rawType": "datetime64[ns]",
         "type": "datetime"
        },
        {
         "name": "CORESTICKM159SFRBATL",
         "rawType": "float64",
         "type": "float"
        }
       ],
       "conversionMethod": "pd.DataFrame",
       "ref": "960c879b-8a5b-4280-90b4-8ee17360655b",
       "rows": [
        [
         "0",
         "1968-01-31 00:00:00",
         "3.65186106"
        ],
        [
         "1",
         "1968-02-29 00:00:00",
         "3.673819411"
        ],
        [
         "2",
         "1968-03-31 00:00:00",
         "4.142163975"
        ],
        [
         "3",
         "1968-04-30 00:00:00",
         "4.155828095"
        ],
        [
         "4",
         "1968-05-31 00:00:00",
         "4.088245437"
        ],
        [
         "5",
         "1968-06-30 00:00:00",
         "4.545569347"
        ],
        [
         "6",
         "1968-07-31 00:00:00",
         "4.753076334"
        ],
        [
         "7",
         "1968-08-31 00:00:00",
         "4.9466066"
        ],
        [
         "8",
         "1968-09-30 00:00:00",
         "4.948246979"
        ],
        [
         "9",
         "1968-10-31 00:00:00",
         "5.182592347"
        ],
        [
         "10",
         "1968-11-30 00:00:00",
         "5.399387944"
        ],
        [
         "11",
         "1968-12-31 00:00:00",
         "5.706347843"
        ],
        [
         "12",
         "1969-01-31 00:00:00",
         "5.746196961"
        ],
        [
         "13",
         "1969-02-28 00:00:00",
         "5.749956071"
        ],
        [
         "14",
         "1969-03-31 00:00:00",
         "6.125157849"
        ],
        [
         "15",
         "1969-04-30 00:00:00",
         "6.505620421"
        ],
        [
         "16",
         "1969-05-31 00:00:00",
         "6.780633974"
        ],
        [
         "17",
         "1969-06-30 00:00:00",
         "6.375966005"
        ],
        [
         "18",
         "1969-07-31 00:00:00",
         "6.389268621"
        ],
        [
         "19",
         "1969-08-31 00:00:00",
         "6.414746498"
        ],
        [
         "20",
         "1969-09-30 00:00:00",
         "6.834758299"
        ],
        [
         "21",
         "1969-10-31 00:00:00",
         "6.560106336"
        ],
        [
         "22",
         "1969-11-30 00:00:00",
         "6.437390535"
        ],
        [
         "23",
         "1969-12-31 00:00:00",
         "6.402163808"
        ],
        [
         "24",
         "1970-01-31 00:00:00",
         "6.592370014"
        ],
        [
         "25",
         "1970-02-28 00:00:00",
         "7.053805927"
        ],
        [
         "26",
         "1970-03-31 00:00:00",
         "6.993096123"
        ],
        [
         "27",
         "1970-04-30 00:00:00",
         "6.817838113"
        ],
        [
         "28",
         "1970-05-31 00:00:00",
         "6.947734731"
        ],
        [
         "29",
         "1970-06-30 00:00:00",
         "7.151974844"
        ],
        [
         "30",
         "1970-07-31 00:00:00",
         "7.00787567"
        ],
        [
         "31",
         "1970-08-31 00:00:00",
         "7.114872285"
        ],
        [
         "32",
         "1970-09-30 00:00:00",
         "7.081263039"
        ],
        [
         "33",
         "1970-10-31 00:00:00",
         "7.057638255"
        ],
        [
         "34",
         "1970-11-30 00:00:00",
         "7.327620064"
        ],
        [
         "35",
         "1970-12-31 00:00:00",
         "7.342681298"
        ],
        [
         "36",
         "1971-01-31 00:00:00",
         "7.014858012"
        ],
        [
         "37",
         "1971-02-28 00:00:00",
         "6.329604979"
        ],
        [
         "38",
         "1971-03-31 00:00:00",
         "5.50160847"
        ],
        [
         "39",
         "1971-04-30 00:00:00",
         "5.306250794"
        ],
        [
         "40",
         "1971-05-31 00:00:00",
         "5.060279237"
        ],
        [
         "41",
         "1971-06-30 00:00:00",
         "5.239199701"
        ],
        [
         "42",
         "1971-07-31 00:00:00",
         "5.165044197"
        ],
        [
         "43",
         "1971-08-31 00:00:00",
         "4.913620811"
        ],
        [
         "44",
         "1971-09-30 00:00:00",
         "4.672385308"
        ],
        [
         "45",
         "1971-10-31 00:00:00",
         "4.376576593"
        ],
        [
         "46",
         "1971-11-30 00:00:00",
         "3.953153899"
        ],
        [
         "47",
         "1971-12-31 00:00:00",
         "3.677258309"
        ],
        [
         "48",
         "1972-01-31 00:00:00",
         "3.728280469"
        ],
        [
         "49",
         "1972-02-29 00:00:00",
         "3.841502967"
        ]
       ],
       "shape": {
        "columns": 2,
        "rows": 675
       }
      },
      "text/html": [
       "<div>\n",
       "<style scoped>\n",
       "    .dataframe tbody tr th:only-of-type {\n",
       "        vertical-align: middle;\n",
       "    }\n",
       "\n",
       "    .dataframe tbody tr th {\n",
       "        vertical-align: top;\n",
       "    }\n",
       "\n",
       "    .dataframe thead th {\n",
       "        text-align: right;\n",
       "    }\n",
       "</style>\n",
       "<table border=\"1\" class=\"dataframe\">\n",
       "  <thead>\n",
       "    <tr style=\"text-align: right;\">\n",
       "      <th></th>\n",
       "      <th>Date</th>\n",
       "      <th>CORESTICKM159SFRBATL</th>\n",
       "    </tr>\n",
       "  </thead>\n",
       "  <tbody>\n",
       "    <tr>\n",
       "      <th>0</th>\n",
       "      <td>1968-01-31</td>\n",
       "      <td>3.651861</td>\n",
       "    </tr>\n",
       "    <tr>\n",
       "      <th>1</th>\n",
       "      <td>1968-02-29</td>\n",
       "      <td>3.673819</td>\n",
       "    </tr>\n",
       "    <tr>\n",
       "      <th>2</th>\n",
       "      <td>1968-03-31</td>\n",
       "      <td>4.142164</td>\n",
       "    </tr>\n",
       "    <tr>\n",
       "      <th>3</th>\n",
       "      <td>1968-04-30</td>\n",
       "      <td>4.155828</td>\n",
       "    </tr>\n",
       "    <tr>\n",
       "      <th>4</th>\n",
       "      <td>1968-05-31</td>\n",
       "      <td>4.088245</td>\n",
       "    </tr>\n",
       "    <tr>\n",
       "      <th>...</th>\n",
       "      <td>...</td>\n",
       "      <td>...</td>\n",
       "    </tr>\n",
       "    <tr>\n",
       "      <th>670</th>\n",
       "      <td>2023-11-30</td>\n",
       "      <td>4.688293</td>\n",
       "    </tr>\n",
       "    <tr>\n",
       "      <th>671</th>\n",
       "      <td>2023-12-31</td>\n",
       "      <td>4.554396</td>\n",
       "    </tr>\n",
       "    <tr>\n",
       "      <th>672</th>\n",
       "      <td>2024-01-31</td>\n",
       "      <td>4.603922</td>\n",
       "    </tr>\n",
       "    <tr>\n",
       "      <th>673</th>\n",
       "      <td>2024-02-29</td>\n",
       "      <td>4.403102</td>\n",
       "    </tr>\n",
       "    <tr>\n",
       "      <th>674</th>\n",
       "      <td>2024-03-31</td>\n",
       "      <td>4.509212</td>\n",
       "    </tr>\n",
       "  </tbody>\n",
       "</table>\n",
       "<p>675 rows × 2 columns</p>\n",
       "</div>"
      ],
      "text/plain": [
       "          Date  CORESTICKM159SFRBATL\n",
       "0   1968-01-31              3.651861\n",
       "1   1968-02-29              3.673819\n",
       "2   1968-03-31              4.142164\n",
       "3   1968-04-30              4.155828\n",
       "4   1968-05-31              4.088245\n",
       "..         ...                   ...\n",
       "670 2023-11-30              4.688293\n",
       "671 2023-12-31              4.554396\n",
       "672 2024-01-31              4.603922\n",
       "673 2024-02-29              4.403102\n",
       "674 2024-03-31              4.509212\n",
       "\n",
       "[675 rows x 2 columns]"
      ]
     },
     "execution_count": 25,
     "metadata": {},
     "output_type": "execute_result"
    }
   ],
   "source": [
    "inflation['Date'] = inflation['Date'] + pd.offsets.MonthEnd(0)\n",
    "inflation"
   ]
  },
  {
   "cell_type": "code",
   "execution_count": 26,
   "id": "5075bdba",
   "metadata": {},
   "outputs": [
    {
     "data": {
      "application/vnd.microsoft.datawrangler.viewer.v0+json": {
       "columns": [
        {
         "name": "Date",
         "rawType": "datetime64[ns]",
         "type": "datetime"
        },
        {
         "name": "CORESTICKM159SFRBATL",
         "rawType": "float64",
         "type": "float"
        }
       ],
       "conversionMethod": "pd.DataFrame",
       "ref": "86479af6-7ba0-4903-950f-68b8fe1847b0",
       "rows": [
        [
         "1968-01-31 00:00:00",
         "3.65186106"
        ],
        [
         "1968-02-29 00:00:00",
         "3.673819411"
        ],
        [
         "1968-03-31 00:00:00",
         "4.142163975"
        ],
        [
         "1968-04-30 00:00:00",
         "4.155828095"
        ],
        [
         "1968-05-31 00:00:00",
         "4.088245437"
        ],
        [
         "1968-06-30 00:00:00",
         "4.545569347"
        ],
        [
         "1968-07-31 00:00:00",
         "4.753076334"
        ],
        [
         "1968-08-31 00:00:00",
         "4.9466066"
        ],
        [
         "1968-09-30 00:00:00",
         "4.948246979"
        ],
        [
         "1968-10-31 00:00:00",
         "5.182592347"
        ],
        [
         "1968-11-30 00:00:00",
         "5.399387944"
        ],
        [
         "1968-12-31 00:00:00",
         "5.706347843"
        ],
        [
         "1969-01-31 00:00:00",
         "5.746196961"
        ],
        [
         "1969-02-28 00:00:00",
         "5.749956071"
        ],
        [
         "1969-03-31 00:00:00",
         "6.125157849"
        ],
        [
         "1969-04-30 00:00:00",
         "6.505620421"
        ],
        [
         "1969-05-31 00:00:00",
         "6.780633974"
        ],
        [
         "1969-06-30 00:00:00",
         "6.375966005"
        ],
        [
         "1969-07-31 00:00:00",
         "6.389268621"
        ],
        [
         "1969-08-31 00:00:00",
         "6.414746498"
        ],
        [
         "1969-09-30 00:00:00",
         "6.834758299"
        ],
        [
         "1969-10-31 00:00:00",
         "6.560106336"
        ],
        [
         "1969-11-30 00:00:00",
         "6.437390535"
        ],
        [
         "1969-12-31 00:00:00",
         "6.402163808"
        ],
        [
         "1970-01-31 00:00:00",
         "6.592370014"
        ],
        [
         "1970-02-28 00:00:00",
         "7.053805927"
        ],
        [
         "1970-03-31 00:00:00",
         "6.993096123"
        ],
        [
         "1970-04-30 00:00:00",
         "6.817838113"
        ],
        [
         "1970-05-31 00:00:00",
         "6.947734731"
        ],
        [
         "1970-06-30 00:00:00",
         "7.151974844"
        ],
        [
         "1970-07-31 00:00:00",
         "7.00787567"
        ],
        [
         "1970-08-31 00:00:00",
         "7.114872285"
        ],
        [
         "1970-09-30 00:00:00",
         "7.081263039"
        ],
        [
         "1970-10-31 00:00:00",
         "7.057638255"
        ],
        [
         "1970-11-30 00:00:00",
         "7.327620064"
        ],
        [
         "1970-12-31 00:00:00",
         "7.342681298"
        ],
        [
         "1971-01-31 00:00:00",
         "7.014858012"
        ],
        [
         "1971-02-28 00:00:00",
         "6.329604979"
        ],
        [
         "1971-03-31 00:00:00",
         "5.50160847"
        ],
        [
         "1971-04-30 00:00:00",
         "5.306250794"
        ],
        [
         "1971-05-31 00:00:00",
         "5.060279237"
        ],
        [
         "1971-06-30 00:00:00",
         "5.239199701"
        ],
        [
         "1971-07-31 00:00:00",
         "5.165044197"
        ],
        [
         "1971-08-31 00:00:00",
         "4.913620811"
        ],
        [
         "1971-09-30 00:00:00",
         "4.672385308"
        ],
        [
         "1971-10-31 00:00:00",
         "4.376576593"
        ],
        [
         "1971-11-30 00:00:00",
         "3.953153899"
        ],
        [
         "1971-12-31 00:00:00",
         "3.677258309"
        ],
        [
         "1972-01-31 00:00:00",
         "3.728280469"
        ],
        [
         "1972-02-29 00:00:00",
         "3.841502967"
        ]
       ],
       "shape": {
        "columns": 1,
        "rows": 675
       }
      },
      "text/html": [
       "<div>\n",
       "<style scoped>\n",
       "    .dataframe tbody tr th:only-of-type {\n",
       "        vertical-align: middle;\n",
       "    }\n",
       "\n",
       "    .dataframe tbody tr th {\n",
       "        vertical-align: top;\n",
       "    }\n",
       "\n",
       "    .dataframe thead th {\n",
       "        text-align: right;\n",
       "    }\n",
       "</style>\n",
       "<table border=\"1\" class=\"dataframe\">\n",
       "  <thead>\n",
       "    <tr style=\"text-align: right;\">\n",
       "      <th></th>\n",
       "      <th>CORESTICKM159SFRBATL</th>\n",
       "    </tr>\n",
       "    <tr>\n",
       "      <th>Date</th>\n",
       "      <th></th>\n",
       "    </tr>\n",
       "  </thead>\n",
       "  <tbody>\n",
       "    <tr>\n",
       "      <th>1968-01-31</th>\n",
       "      <td>3.651861</td>\n",
       "    </tr>\n",
       "    <tr>\n",
       "      <th>1968-02-29</th>\n",
       "      <td>3.673819</td>\n",
       "    </tr>\n",
       "    <tr>\n",
       "      <th>1968-03-31</th>\n",
       "      <td>4.142164</td>\n",
       "    </tr>\n",
       "    <tr>\n",
       "      <th>1968-04-30</th>\n",
       "      <td>4.155828</td>\n",
       "    </tr>\n",
       "    <tr>\n",
       "      <th>1968-05-31</th>\n",
       "      <td>4.088245</td>\n",
       "    </tr>\n",
       "    <tr>\n",
       "      <th>...</th>\n",
       "      <td>...</td>\n",
       "    </tr>\n",
       "    <tr>\n",
       "      <th>2023-11-30</th>\n",
       "      <td>4.688293</td>\n",
       "    </tr>\n",
       "    <tr>\n",
       "      <th>2023-12-31</th>\n",
       "      <td>4.554396</td>\n",
       "    </tr>\n",
       "    <tr>\n",
       "      <th>2024-01-31</th>\n",
       "      <td>4.603922</td>\n",
       "    </tr>\n",
       "    <tr>\n",
       "      <th>2024-02-29</th>\n",
       "      <td>4.403102</td>\n",
       "    </tr>\n",
       "    <tr>\n",
       "      <th>2024-03-31</th>\n",
       "      <td>4.509212</td>\n",
       "    </tr>\n",
       "  </tbody>\n",
       "</table>\n",
       "<p>675 rows × 1 columns</p>\n",
       "</div>"
      ],
      "text/plain": [
       "            CORESTICKM159SFRBATL\n",
       "Date                            \n",
       "1968-01-31              3.651861\n",
       "1968-02-29              3.673819\n",
       "1968-03-31              4.142164\n",
       "1968-04-30              4.155828\n",
       "1968-05-31              4.088245\n",
       "...                          ...\n",
       "2023-11-30              4.688293\n",
       "2023-12-31              4.554396\n",
       "2024-01-31              4.603922\n",
       "2024-02-29              4.403102\n",
       "2024-03-31              4.509212\n",
       "\n",
       "[675 rows x 1 columns]"
      ]
     },
     "execution_count": 26,
     "metadata": {},
     "output_type": "execute_result"
    }
   ],
   "source": [
    "inflation=inflation.set_index('Date')\n",
    "inflation"
   ]
  },
  {
   "cell_type": "markdown",
   "id": "e072f4a1",
   "metadata": {},
   "source": [
    "## Data preprocessing: Upsample, downsample and interpolate data\n",
    "\n",
    "Inflation data is presented monthly in this dataset. However, for some models, you may need it at a quarterly frequency, and for some models you may need it at a quarterly frequency. \n",
    "\n",
    "In this step:\n",
    "* Create a new quarterly inflation dataframe by downsampling the monthly inflation data to quarterly using the mean (e.g. for quarter 1 in a given year, use the average values from January, February, and March)\n",
    "* Create a new weekly inflation dataframe by upsampling the monthly inflation data. For this, you'll need to use `resample` and then you'll need to `interpolate` to fill in the missing data at the weekly frequency\n",
    "\n",
    "Note that you may need to change the index for some of these operations! "
   ]
  },
  {
   "cell_type": "code",
   "execution_count": 27,
   "id": "28fea2f6",
   "metadata": {},
   "outputs": [
    {
     "data": {
      "application/vnd.microsoft.datawrangler.viewer.v0+json": {
       "columns": [
        {
         "name": "Date",
         "rawType": "datetime64[ns]",
         "type": "datetime"
        },
        {
         "name": "CORESTICKM159SFRBATL",
         "rawType": "float64",
         "type": "float"
        }
       ],
       "conversionMethod": "pd.DataFrame",
       "ref": "3cbbbf95-ac1c-43ec-b294-aa4781e8c643",
       "rows": [
        [
         "1968-02-04 00:00:00",
         null
        ],
        [
         "1968-02-11 00:00:00",
         null
        ],
        [
         "1968-02-18 00:00:00",
         null
        ],
        [
         "1968-02-25 00:00:00",
         null
        ],
        [
         "1968-03-03 00:00:00",
         null
        ],
        [
         "1968-03-10 00:00:00",
         null
        ],
        [
         "1968-03-17 00:00:00",
         null
        ],
        [
         "1968-03-24 00:00:00",
         null
        ],
        [
         "1968-03-31 00:00:00",
         "4.142163975"
        ],
        [
         "1968-04-07 00:00:00",
         "4.173195157461539"
        ],
        [
         "1968-04-14 00:00:00",
         "4.204226339923077"
        ],
        [
         "1968-04-21 00:00:00",
         "4.235257522384615"
        ],
        [
         "1968-04-28 00:00:00",
         "4.266288704846153"
        ],
        [
         "1968-05-05 00:00:00",
         "4.297319887307692"
        ],
        [
         "1968-05-12 00:00:00",
         "4.328351069769231"
        ],
        [
         "1968-05-19 00:00:00",
         "4.359382252230769"
        ],
        [
         "1968-05-26 00:00:00",
         "4.390413434692308"
        ],
        [
         "1968-06-02 00:00:00",
         "4.421444617153846"
        ],
        [
         "1968-06-09 00:00:00",
         "4.452475799615384"
        ],
        [
         "1968-06-16 00:00:00",
         "4.483506982076923"
        ]
       ],
       "shape": {
        "columns": 1,
        "rows": 20
       }
      },
      "text/html": [
       "<div>\n",
       "<style scoped>\n",
       "    .dataframe tbody tr th:only-of-type {\n",
       "        vertical-align: middle;\n",
       "    }\n",
       "\n",
       "    .dataframe tbody tr th {\n",
       "        vertical-align: top;\n",
       "    }\n",
       "\n",
       "    .dataframe thead th {\n",
       "        text-align: right;\n",
       "    }\n",
       "</style>\n",
       "<table border=\"1\" class=\"dataframe\">\n",
       "  <thead>\n",
       "    <tr style=\"text-align: right;\">\n",
       "      <th></th>\n",
       "      <th>CORESTICKM159SFRBATL</th>\n",
       "    </tr>\n",
       "    <tr>\n",
       "      <th>Date</th>\n",
       "      <th></th>\n",
       "    </tr>\n",
       "  </thead>\n",
       "  <tbody>\n",
       "    <tr>\n",
       "      <th>1968-02-04</th>\n",
       "      <td>NaN</td>\n",
       "    </tr>\n",
       "    <tr>\n",
       "      <th>1968-02-11</th>\n",
       "      <td>NaN</td>\n",
       "    </tr>\n",
       "    <tr>\n",
       "      <th>1968-02-18</th>\n",
       "      <td>NaN</td>\n",
       "    </tr>\n",
       "    <tr>\n",
       "      <th>1968-02-25</th>\n",
       "      <td>NaN</td>\n",
       "    </tr>\n",
       "    <tr>\n",
       "      <th>1968-03-03</th>\n",
       "      <td>NaN</td>\n",
       "    </tr>\n",
       "    <tr>\n",
       "      <th>1968-03-10</th>\n",
       "      <td>NaN</td>\n",
       "    </tr>\n",
       "    <tr>\n",
       "      <th>1968-03-17</th>\n",
       "      <td>NaN</td>\n",
       "    </tr>\n",
       "    <tr>\n",
       "      <th>1968-03-24</th>\n",
       "      <td>NaN</td>\n",
       "    </tr>\n",
       "    <tr>\n",
       "      <th>1968-03-31</th>\n",
       "      <td>4.142164</td>\n",
       "    </tr>\n",
       "    <tr>\n",
       "      <th>1968-04-07</th>\n",
       "      <td>4.173195</td>\n",
       "    </tr>\n",
       "    <tr>\n",
       "      <th>1968-04-14</th>\n",
       "      <td>4.204226</td>\n",
       "    </tr>\n",
       "    <tr>\n",
       "      <th>1968-04-21</th>\n",
       "      <td>4.235258</td>\n",
       "    </tr>\n",
       "    <tr>\n",
       "      <th>1968-04-28</th>\n",
       "      <td>4.266289</td>\n",
       "    </tr>\n",
       "    <tr>\n",
       "      <th>1968-05-05</th>\n",
       "      <td>4.297320</td>\n",
       "    </tr>\n",
       "    <tr>\n",
       "      <th>1968-05-12</th>\n",
       "      <td>4.328351</td>\n",
       "    </tr>\n",
       "    <tr>\n",
       "      <th>1968-05-19</th>\n",
       "      <td>4.359382</td>\n",
       "    </tr>\n",
       "    <tr>\n",
       "      <th>1968-05-26</th>\n",
       "      <td>4.390413</td>\n",
       "    </tr>\n",
       "    <tr>\n",
       "      <th>1968-06-02</th>\n",
       "      <td>4.421445</td>\n",
       "    </tr>\n",
       "    <tr>\n",
       "      <th>1968-06-09</th>\n",
       "      <td>4.452476</td>\n",
       "    </tr>\n",
       "    <tr>\n",
       "      <th>1968-06-16</th>\n",
       "      <td>4.483507</td>\n",
       "    </tr>\n",
       "  </tbody>\n",
       "</table>\n",
       "</div>"
      ],
      "text/plain": [
       "            CORESTICKM159SFRBATL\n",
       "Date                            \n",
       "1968-02-04                   NaN\n",
       "1968-02-11                   NaN\n",
       "1968-02-18                   NaN\n",
       "1968-02-25                   NaN\n",
       "1968-03-03                   NaN\n",
       "1968-03-10                   NaN\n",
       "1968-03-17                   NaN\n",
       "1968-03-24                   NaN\n",
       "1968-03-31              4.142164\n",
       "1968-04-07              4.173195\n",
       "1968-04-14              4.204226\n",
       "1968-04-21              4.235258\n",
       "1968-04-28              4.266289\n",
       "1968-05-05              4.297320\n",
       "1968-05-12              4.328351\n",
       "1968-05-19              4.359382\n",
       "1968-05-26              4.390413\n",
       "1968-06-02              4.421445\n",
       "1968-06-09              4.452476\n",
       "1968-06-16              4.483507"
      ]
     },
     "execution_count": 27,
     "metadata": {},
     "output_type": "execute_result"
    }
   ],
   "source": [
    "# Upsample and interpolate from monthly to weekly \n",
    "inflation_weekly = inflation.resample('W').interpolate(method='time')   \n",
    "inflation_weekly.head(20)"
   ]
  },
  {
   "cell_type": "code",
   "execution_count": 28,
   "id": "635647a1",
   "metadata": {},
   "outputs": [
    {
     "name": "stderr",
     "output_type": "stream",
     "text": [
      "C:\\Users\\yuris\\AppData\\Local\\Temp\\ipykernel_13332\\1194017833.py:2: FutureWarning: 'Q' is deprecated and will be removed in a future version, please use 'QE' instead.\n",
      "  inflation_quarterly = inflation.resample('Q').mean()\n"
     ]
    },
    {
     "data": {
      "application/vnd.microsoft.datawrangler.viewer.v0+json": {
       "columns": [
        {
         "name": "Date",
         "rawType": "datetime64[ns]",
         "type": "datetime"
        },
        {
         "name": "CORESTICKM159SFRBATL",
         "rawType": "float64",
         "type": "float"
        }
       ],
       "conversionMethod": "pd.DataFrame",
       "ref": "78867cdb-cf63-4cef-88ba-41dfab4c0079",
       "rows": [
        [
         "1968-03-31 00:00:00",
         "3.8226148153333335"
        ],
        [
         "1968-06-30 00:00:00",
         "4.263214293"
        ],
        [
         "1968-09-30 00:00:00",
         "4.8826433043333335"
        ],
        [
         "1968-12-31 00:00:00",
         "5.4294427113333334"
        ],
        [
         "1969-03-31 00:00:00",
         "5.8737702936666665"
        ],
        [
         "1969-06-30 00:00:00",
         "6.554073466666666"
        ],
        [
         "1969-09-30 00:00:00",
         "6.546257806"
        ],
        [
         "1969-12-31 00:00:00",
         "6.466553559666667"
        ],
        [
         "1970-03-31 00:00:00",
         "6.879757354666666"
        ],
        [
         "1970-06-30 00:00:00",
         "6.972515896"
        ],
        [
         "1970-09-30 00:00:00",
         "7.068003664666667"
        ],
        [
         "1970-12-31 00:00:00",
         "7.242646539"
        ],
        [
         "1971-03-31 00:00:00",
         "6.282023820333333"
        ],
        [
         "1971-06-30 00:00:00",
         "5.201909910666667"
        ],
        [
         "1971-09-30 00:00:00",
         "4.917016772"
        ],
        [
         "1971-12-31 00:00:00",
         "4.002329600333334"
        ],
        [
         "1972-03-31 00:00:00",
         "3.8758998963333333"
        ],
        [
         "1972-06-30 00:00:00",
         "3.7746188003333336"
        ],
        [
         "1972-09-30 00:00:00",
         "3.3193987123333333"
        ],
        [
         "1972-12-31 00:00:00",
         "3.249164664333333"
        ],
        [
         "1973-03-31 00:00:00",
         "2.8844398506666664"
        ],
        [
         "1973-06-30 00:00:00",
         "3.1019566533333336"
        ],
        [
         "1973-09-30 00:00:00",
         "3.4268802746666664"
        ],
        [
         "1973-12-31 00:00:00",
         "5.0003640423333335"
        ],
        [
         "1974-03-31 00:00:00",
         "6.317825925"
        ],
        [
         "1974-06-30 00:00:00",
         "7.816468700666667"
        ],
        [
         "1974-09-30 00:00:00",
         "10.074438653"
        ],
        [
         "1974-12-31 00:00:00",
         "11.014412715"
        ],
        [
         "1975-03-31 00:00:00",
         "11.660767459"
        ],
        [
         "1975-06-30 00:00:00",
         "11.019418273333335"
        ],
        [
         "1975-09-30 00:00:00",
         "9.069480840666666"
        ],
        [
         "1975-12-31 00:00:00",
         "7.962578806333333"
        ],
        [
         "1976-03-31 00:00:00",
         "7.466507443333334"
        ],
        [
         "1976-06-30 00:00:00",
         "6.894788109333334"
        ],
        [
         "1976-09-30 00:00:00",
         "7.177767948333333"
        ],
        [
         "1976-12-31 00:00:00",
         "6.562426871666666"
        ],
        [
         "1977-03-31 00:00:00",
         "6.068036901"
        ],
        [
         "1977-06-30 00:00:00",
         "6.747304837666667"
        ],
        [
         "1977-09-30 00:00:00",
         "6.862437454999999"
        ],
        [
         "1977-12-31 00:00:00",
         "7.104545441666667"
        ],
        [
         "1978-03-31 00:00:00",
         "7.382208791666667"
        ],
        [
         "1978-06-30 00:00:00",
         "7.578820996666667"
        ],
        [
         "1978-09-30 00:00:00",
         "8.221860431666668"
        ],
        [
         "1978-12-31 00:00:00",
         "9.102000972333334"
        ],
        [
         "1979-03-31 00:00:00",
         "9.439005945"
        ],
        [
         "1979-06-30 00:00:00",
         "10.090167772666666"
        ],
        [
         "1979-09-30 00:00:00",
         "10.807942590000001"
        ],
        [
         "1979-12-31 00:00:00",
         "11.972686396333335"
        ],
        [
         "1980-03-31 00:00:00",
         "13.800298616333334"
        ],
        [
         "1980-06-30 00:00:00",
         "15.214881517333334"
        ]
       ],
       "shape": {
        "columns": 1,
        "rows": 225
       }
      },
      "text/html": [
       "<div>\n",
       "<style scoped>\n",
       "    .dataframe tbody tr th:only-of-type {\n",
       "        vertical-align: middle;\n",
       "    }\n",
       "\n",
       "    .dataframe tbody tr th {\n",
       "        vertical-align: top;\n",
       "    }\n",
       "\n",
       "    .dataframe thead th {\n",
       "        text-align: right;\n",
       "    }\n",
       "</style>\n",
       "<table border=\"1\" class=\"dataframe\">\n",
       "  <thead>\n",
       "    <tr style=\"text-align: right;\">\n",
       "      <th></th>\n",
       "      <th>CORESTICKM159SFRBATL</th>\n",
       "    </tr>\n",
       "    <tr>\n",
       "      <th>Date</th>\n",
       "      <th></th>\n",
       "    </tr>\n",
       "  </thead>\n",
       "  <tbody>\n",
       "    <tr>\n",
       "      <th>1968-03-31</th>\n",
       "      <td>3.822615</td>\n",
       "    </tr>\n",
       "    <tr>\n",
       "      <th>1968-06-30</th>\n",
       "      <td>4.263214</td>\n",
       "    </tr>\n",
       "    <tr>\n",
       "      <th>1968-09-30</th>\n",
       "      <td>4.882643</td>\n",
       "    </tr>\n",
       "    <tr>\n",
       "      <th>1968-12-31</th>\n",
       "      <td>5.429443</td>\n",
       "    </tr>\n",
       "    <tr>\n",
       "      <th>1969-03-31</th>\n",
       "      <td>5.873770</td>\n",
       "    </tr>\n",
       "    <tr>\n",
       "      <th>...</th>\n",
       "      <td>...</td>\n",
       "    </tr>\n",
       "    <tr>\n",
       "      <th>2023-03-31</th>\n",
       "      <td>6.467833</td>\n",
       "    </tr>\n",
       "    <tr>\n",
       "      <th>2023-06-30</th>\n",
       "      <td>5.942054</td>\n",
       "    </tr>\n",
       "    <tr>\n",
       "      <th>2023-09-30</th>\n",
       "      <td>5.179249</td>\n",
       "    </tr>\n",
       "    <tr>\n",
       "      <th>2023-12-31</th>\n",
       "      <td>4.708539</td>\n",
       "    </tr>\n",
       "    <tr>\n",
       "      <th>2024-03-31</th>\n",
       "      <td>4.505412</td>\n",
       "    </tr>\n",
       "  </tbody>\n",
       "</table>\n",
       "<p>225 rows × 1 columns</p>\n",
       "</div>"
      ],
      "text/plain": [
       "            CORESTICKM159SFRBATL\n",
       "Date                            \n",
       "1968-03-31              3.822615\n",
       "1968-06-30              4.263214\n",
       "1968-09-30              4.882643\n",
       "1968-12-31              5.429443\n",
       "1969-03-31              5.873770\n",
       "...                          ...\n",
       "2023-03-31              6.467833\n",
       "2023-06-30              5.942054\n",
       "2023-09-30              5.179249\n",
       "2023-12-31              4.708539\n",
       "2024-03-31              4.505412\n",
       "\n",
       "[225 rows x 1 columns]"
      ]
     },
     "execution_count": 28,
     "metadata": {},
     "output_type": "execute_result"
    }
   ],
   "source": [
    "# Downsample from monthly to quarterly \n",
    "inflation_quarterly = inflation.resample('Q').mean()\n",
    "inflation_quarterly\n"
   ]
  },
  {
   "cell_type": "markdown",
   "id": "0ea82443",
   "metadata": {},
   "source": [
    "## Data preprocessing: Normalize/standardize a feature\n",
    "\n",
    "Economic time series data often involve variables measured on different scales (e.g., GDP in trillions of dollars, inflation in percentage points). Standardizing these variables (typically by subtracting the mean and dividing by the standard deviation) puts them on a common scale, allowing for meaningful comparisons and analyses.\n",
    "\n",
    "Your task:\n",
    "* Standardize the GDP data. You may do this manually by subtracting the mean and dividing by the standard deviation, or you may use a built-in method from a library like `sklearn`'s `StandardScaler`"
   ]
  },
  {
   "cell_type": "code",
   "execution_count": 29,
   "id": "4f88d246",
   "metadata": {},
   "outputs": [],
   "source": [
    "# Standardize the GDP measure\n",
    "gdp['GDP_calc_std'] = (gdp['GDP'] - gdp['GDP'].mean()) / gdp['GDP'].std()"
   ]
  },
  {
   "cell_type": "code",
   "execution_count": 30,
   "id": "e4801c53",
   "metadata": {},
   "outputs": [
    {
     "data": {
      "application/vnd.microsoft.datawrangler.viewer.v0+json": {
       "columns": [
        {
         "name": "index",
         "rawType": "int64",
         "type": "integer"
        },
        {
         "name": "DATE",
         "rawType": "object",
         "type": "string"
        },
        {
         "name": "GDP",
         "rawType": "float64",
         "type": "float"
        },
        {
         "name": "GDP_calc_std",
         "rawType": "float64",
         "type": "float"
        }
       ],
       "conversionMethod": "pd.DataFrame",
       "ref": "4011ce3c-d073-4984-87d6-7f2edc749fd6",
       "rows": [
        [
         "0",
         "1947-01-01",
         "243.164",
         "-0.9339813930283414"
        ],
        [
         "1",
         "1947-04-01",
         "245.968",
         "-0.9336064413883213"
        ],
        [
         "2",
         "1947-07-01",
         "249.585",
         "-0.9331227751679385"
        ],
        [
         "3",
         "1947-10-01",
         "259.745",
         "-0.9317641772140851"
        ],
        [
         "4",
         "1948-01-01",
         "265.742",
         "-0.9309622567486069"
        ],
        [
         "5",
         "1948-04-01",
         "272.567",
         "-0.9300496158987004"
        ],
        [
         "6",
         "1948-07-01",
         "279.196",
         "-0.9291631842219195"
        ],
        [
         "7",
         "1948-10-01",
         "280.366",
         "-0.9290067315047926"
        ],
        [
         "8",
         "1949-01-01",
         "275.034",
         "-0.9297197279900237"
        ],
        [
         "9",
         "1949-04-01",
         "271.351",
         "-0.9302122197482955"
        ],
        [
         "10",
         "1949-07-01",
         "272.889",
         "-0.9300065579714227"
        ],
        [
         "11",
         "1949-10-01",
         "270.627",
         "-0.9303090332245346"
        ],
        [
         "12",
         "1950-01-01",
         "280.828",
         "-0.9289449527395681"
        ],
        [
         "13",
         "1950-04-01",
         "290.383",
         "-0.9276672555496992"
        ],
        [
         "14",
         "1950-07-01",
         "308.153",
         "-0.9252910463331661"
        ],
        [
         "15",
         "1950-10-01",
         "319.945",
         "-0.9237142168969615"
        ],
        [
         "16",
         "1951-01-01",
         "336.0",
         "-0.9215673379452767"
        ],
        [
         "17",
         "1951-04-01",
         "344.09",
         "-0.9204855409524938"
        ],
        [
         "18",
         "1951-07-01",
         "351.385",
         "-0.9195100515751945"
        ],
        [
         "19",
         "1951-10-01",
         "356.178",
         "-0.9188691303160588"
        ],
        [
         "20",
         "1952-01-01",
         "359.82",
         "-0.9183821210888999"
        ],
        [
         "21",
         "1952-04-01",
         "361.03",
         "-0.9182203195609311"
        ],
        [
         "22",
         "1952-07-01",
         "367.701",
         "-0.9173282716327661"
        ],
        [
         "23",
         "1952-10-01",
         "380.812",
         "-0.9155750651590484"
        ],
        [
         "24",
         "1953-01-01",
         "387.98",
         "-0.9146165582561722"
        ],
        [
         "25",
         "1953-04-01",
         "391.749",
         "-0.9141125665545903"
        ],
        [
         "26",
         "1953-07-01",
         "391.171",
         "-0.9141898568712562"
        ],
        [
         "27",
         "1953-10-01",
         "385.97",
         "-0.9148853360009799"
        ],
        [
         "28",
         "1954-01-01",
         "385.345",
         "-0.9149689111703851"
        ],
        [
         "29",
         "1954-04-01",
         "386.121",
         "-0.9148651442400515"
        ],
        [
         "30",
         "1954-07-01",
         "390.996",
         "-0.9142132579186898"
        ],
        [
         "31",
         "1954-10-01",
         "399.734",
         "-0.9130448101902674"
        ],
        [
         "32",
         "1955-01-01",
         "413.073",
         "-0.9112611154947505"
        ],
        [
         "33",
         "1955-04-01",
         "421.532",
         "-0.9101299757219508"
        ],
        [
         "34",
         "1955-07-01",
         "430.221",
         "-0.9089680802868098"
        ],
        [
         "35",
         "1955-10-01",
         "437.092",
         "-0.9080492883044351"
        ],
        [
         "36",
         "1956-01-01",
         "439.746",
         "-0.9076943947050722"
        ],
        [
         "37",
         "1956-04-01",
         "446.01",
         "-0.9068567709272239"
        ],
        [
         "38",
         "1956-07-01",
         "451.191",
         "-0.9061639662029214"
        ],
        [
         "39",
         "1956-10-01",
         "460.463",
         "-0.9049241118497591"
        ],
        [
         "40",
         "1957-01-01",
         "469.779",
         "-0.9036783738046706"
        ],
        [
         "41",
         "1957-04-01",
         "472.025",
         "-0.9033780380758956"
        ],
        [
         "42",
         "1957-07-01",
         "479.49",
         "-0.902379816252518"
        ],
        [
         "43",
         "1957-10-01",
         "474.864",
         "-0.9029984062263887"
        ],
        [
         "44",
         "1958-01-01",
         "467.54",
         "-0.9039777734915484"
        ],
        [
         "45",
         "1958-04-01",
         "471.978",
         "-0.9033843229286348"
        ],
        [
         "46",
         "1958-07-01",
         "485.841",
         "-0.9015305588110885"
        ],
        [
         "47",
         "1958-10-01",
         "499.555",
         "-0.8996967190139284"
        ],
        [
         "48",
         "1959-01-01",
         "510.33",
         "-0.8982558830933802"
        ],
        [
         "49",
         "1959-04-01",
         "522.653",
         "-0.8966080481932487"
        ]
       ],
       "shape": {
        "columns": 3,
        "rows": 309
       }
      },
      "text/html": [
       "<div>\n",
       "<style scoped>\n",
       "    .dataframe tbody tr th:only-of-type {\n",
       "        vertical-align: middle;\n",
       "    }\n",
       "\n",
       "    .dataframe tbody tr th {\n",
       "        vertical-align: top;\n",
       "    }\n",
       "\n",
       "    .dataframe thead th {\n",
       "        text-align: right;\n",
       "    }\n",
       "</style>\n",
       "<table border=\"1\" class=\"dataframe\">\n",
       "  <thead>\n",
       "    <tr style=\"text-align: right;\">\n",
       "      <th></th>\n",
       "      <th>DATE</th>\n",
       "      <th>GDP</th>\n",
       "      <th>GDP_calc_std</th>\n",
       "    </tr>\n",
       "  </thead>\n",
       "  <tbody>\n",
       "    <tr>\n",
       "      <th>0</th>\n",
       "      <td>1947-01-01</td>\n",
       "      <td>243.164</td>\n",
       "      <td>-0.933981</td>\n",
       "    </tr>\n",
       "    <tr>\n",
       "      <th>1</th>\n",
       "      <td>1947-04-01</td>\n",
       "      <td>245.968</td>\n",
       "      <td>-0.933606</td>\n",
       "    </tr>\n",
       "    <tr>\n",
       "      <th>2</th>\n",
       "      <td>1947-07-01</td>\n",
       "      <td>249.585</td>\n",
       "      <td>-0.933123</td>\n",
       "    </tr>\n",
       "    <tr>\n",
       "      <th>3</th>\n",
       "      <td>1947-10-01</td>\n",
       "      <td>259.745</td>\n",
       "      <td>-0.931764</td>\n",
       "    </tr>\n",
       "    <tr>\n",
       "      <th>4</th>\n",
       "      <td>1948-01-01</td>\n",
       "      <td>265.742</td>\n",
       "      <td>-0.930962</td>\n",
       "    </tr>\n",
       "    <tr>\n",
       "      <th>...</th>\n",
       "      <td>...</td>\n",
       "      <td>...</td>\n",
       "      <td>...</td>\n",
       "    </tr>\n",
       "    <tr>\n",
       "      <th>304</th>\n",
       "      <td>2023-01-01</td>\n",
       "      <td>26813.601</td>\n",
       "      <td>2.619025</td>\n",
       "    </tr>\n",
       "    <tr>\n",
       "      <th>305</th>\n",
       "      <td>2023-04-01</td>\n",
       "      <td>27063.012</td>\n",
       "      <td>2.652376</td>\n",
       "    </tr>\n",
       "    <tr>\n",
       "      <th>306</th>\n",
       "      <td>2023-07-01</td>\n",
       "      <td>27610.128</td>\n",
       "      <td>2.725536</td>\n",
       "    </tr>\n",
       "    <tr>\n",
       "      <th>307</th>\n",
       "      <td>2023-10-01</td>\n",
       "      <td>27956.998</td>\n",
       "      <td>2.771920</td>\n",
       "    </tr>\n",
       "    <tr>\n",
       "      <th>308</th>\n",
       "      <td>2024-01-01</td>\n",
       "      <td>28284.498</td>\n",
       "      <td>2.815713</td>\n",
       "    </tr>\n",
       "  </tbody>\n",
       "</table>\n",
       "<p>309 rows × 3 columns</p>\n",
       "</div>"
      ],
      "text/plain": [
       "           DATE        GDP  GDP_calc_std\n",
       "0    1947-01-01    243.164     -0.933981\n",
       "1    1947-04-01    245.968     -0.933606\n",
       "2    1947-07-01    249.585     -0.933123\n",
       "3    1947-10-01    259.745     -0.931764\n",
       "4    1948-01-01    265.742     -0.930962\n",
       "..          ...        ...           ...\n",
       "304  2023-01-01  26813.601      2.619025\n",
       "305  2023-04-01  27063.012      2.652376\n",
       "306  2023-07-01  27610.128      2.725536\n",
       "307  2023-10-01  27956.998      2.771920\n",
       "308  2024-01-01  28284.498      2.815713\n",
       "\n",
       "[309 rows x 3 columns]"
      ]
     },
     "execution_count": 30,
     "metadata": {},
     "output_type": "execute_result"
    }
   ],
   "source": [
    "# Check the dataframe to make sure the calculation worked as expected \n",
    "gdp"
   ]
  },
  {
   "cell_type": "markdown",
   "id": "1f1a89d2",
   "metadata": {},
   "source": [
    "## EDA: Plotting a time series of adjusted open vs close price\n",
    "\n",
    "As part of your EDA, you'll frequently want to plot two time series on the same graph and using the same axis to compare their movements. \n",
    "\n",
    "Your task:\n",
    "* Plot the Apple open and close price time series on the same chart **for the last three months only**. Be sure to use a legend to label each line\n",
    "\n",
    "**NOTE**: This is a large dataset. If you try to plot the entire series, your graph will be hard to interpret and may take a long time to plot. Be sure to use only the most recent three months of data. "
   ]
  },
  {
   "cell_type": "code",
   "execution_count": 31,
   "id": "9b490f9b",
   "metadata": {},
   "outputs": [
    {
     "data": {
      "text/plain": [
       "Timestamp('2024-05-03 00:00:00')"
      ]
     },
     "execution_count": 31,
     "metadata": {},
     "output_type": "execute_result"
    }
   ],
   "source": [
    "# Get max date in timeseries\n",
    "aapl['Date'].max()"
   ]
  },
  {
   "cell_type": "code",
   "execution_count": 32,
   "id": "03b51a20",
   "metadata": {},
   "outputs": [
    {
     "data": {
      "application/vnd.microsoft.datawrangler.viewer.v0+json": {
       "columns": [
        {
         "name": "index",
         "rawType": "int64",
         "type": "integer"
        },
        {
         "name": "Date",
         "rawType": "datetime64[ns]",
         "type": "datetime"
        },
        {
         "name": "Close/Last",
         "rawType": "float64",
         "type": "float"
        },
        {
         "name": "Volume",
         "rawType": "int64",
         "type": "integer"
        },
        {
         "name": "Open",
         "rawType": "float64",
         "type": "float"
        },
        {
         "name": "High",
         "rawType": "float64",
         "type": "float"
        },
        {
         "name": "Low",
         "rawType": "float64",
         "type": "float"
        }
       ],
       "conversionMethod": "pd.DataFrame",
       "ref": "df02eaa3-90ed-4cee-befd-608bc6fb7248",
       "rows": [
        [
         "0",
         "2024-05-03 00:00:00",
         "183.38",
         "163224100",
         "186.65",
         "187.0",
         "182.66"
        ],
        [
         "1",
         "2024-05-02 00:00:00",
         "173.03",
         "94214920",
         "172.51",
         "173.42",
         "170.89"
        ],
        [
         "2",
         "2024-05-01 00:00:00",
         "169.3",
         "50383150",
         "169.58",
         "172.71",
         "169.11"
        ],
        [
         "3",
         "2024-04-30 00:00:00",
         "170.33",
         "65934780",
         "173.33",
         "174.99",
         "170.0"
        ],
        [
         "4",
         "2024-04-29 00:00:00",
         "173.5",
         "68169420",
         "173.37",
         "176.03",
         "173.1"
        ],
        [
         "5",
         "2024-04-26 00:00:00",
         "169.3",
         "44838350",
         "169.88",
         "171.34",
         "169.18"
        ],
        [
         "6",
         "2024-04-25 00:00:00",
         "169.89",
         "50558330",
         "169.53",
         "170.61",
         "168.15"
        ],
        [
         "7",
         "2024-04-24 00:00:00",
         "169.02",
         "48251840",
         "166.54",
         "169.3",
         "166.21"
        ],
        [
         "8",
         "2024-04-23 00:00:00",
         "166.9",
         "49537760",
         "165.35",
         "167.05",
         "164.92"
        ],
        [
         "9",
         "2024-04-22 00:00:00",
         "165.84",
         "48116440",
         "165.52",
         "167.26",
         "164.77"
        ],
        [
         "10",
         "2024-04-19 00:00:00",
         "165.0",
         "68149380",
         "166.21",
         "166.4",
         "164.08"
        ],
        [
         "11",
         "2024-04-18 00:00:00",
         "167.04",
         "43122900",
         "168.03",
         "168.64",
         "166.55"
        ],
        [
         "12",
         "2024-04-17 00:00:00",
         "168.0",
         "50901210",
         "169.61",
         "170.65",
         "168.0"
        ],
        [
         "13",
         "2024-04-16 00:00:00",
         "169.38",
         "73711240",
         "171.75",
         "173.76",
         "168.27"
        ],
        [
         "14",
         "2024-04-15 00:00:00",
         "172.69",
         "73531770",
         "175.36",
         "176.63",
         "172.5"
        ],
        [
         "15",
         "2024-04-12 00:00:00",
         "176.55",
         "101670900",
         "174.26",
         "178.36",
         "174.21"
        ],
        [
         "16",
         "2024-04-11 00:00:00",
         "175.04",
         "91070280",
         "168.34",
         "175.46",
         "168.16"
        ],
        [
         "17",
         "2024-04-10 00:00:00",
         "167.78",
         "49709340",
         "168.8",
         "169.09",
         "167.11"
        ],
        [
         "18",
         "2024-04-09 00:00:00",
         "169.67",
         "42451210",
         "168.7",
         "170.08",
         "168.35"
        ],
        [
         "19",
         "2024-04-08 00:00:00",
         "169.67",
         "37425510",
         "169.03",
         "169.2",
         "168.24"
        ],
        [
         "20",
         "2024-04-05 00:00:00",
         "169.58",
         "42104830",
         "169.59",
         "170.39",
         "168.95"
        ],
        [
         "21",
         "2024-04-04 00:00:00",
         "168.82",
         "53704390",
         "170.29",
         "171.92",
         "168.82"
        ],
        [
         "22",
         "2024-04-03 00:00:00",
         "169.65",
         "47691720",
         "168.79",
         "170.68",
         "168.58"
        ],
        [
         "23",
         "2024-04-02 00:00:00",
         "168.84",
         "49329480",
         "169.08",
         "169.34",
         "168.23"
        ],
        [
         "24",
         "2024-04-01 00:00:00",
         "170.03",
         "46240500",
         "171.19",
         "171.25",
         "169.48"
        ],
        [
         "25",
         "2024-03-28 00:00:00",
         "171.48",
         "65672690",
         "171.75",
         "172.23",
         "170.51"
        ],
        [
         "26",
         "2024-03-27 00:00:00",
         "173.31",
         "60273270",
         "170.41",
         "173.6",
         "170.11"
        ],
        [
         "27",
         "2024-03-26 00:00:00",
         "169.71",
         "57388450",
         "170.0",
         "171.42",
         "169.58"
        ],
        [
         "28",
         "2024-03-25 00:00:00",
         "170.85",
         "54288330",
         "170.57",
         "171.94",
         "169.45"
        ],
        [
         "29",
         "2024-03-22 00:00:00",
         "172.28",
         "71160140",
         "171.76",
         "173.05",
         "170.06"
        ],
        [
         "30",
         "2024-03-21 00:00:00",
         "171.37",
         "106181300",
         "177.05",
         "177.49",
         "170.84"
        ],
        [
         "31",
         "2024-03-20 00:00:00",
         "178.67",
         "53423100",
         "175.72",
         "178.67",
         "175.09"
        ],
        [
         "32",
         "2024-03-19 00:00:00",
         "176.08",
         "55215240",
         "174.34",
         "176.61",
         "173.03"
        ],
        [
         "33",
         "2024-03-18 00:00:00",
         "173.72",
         "75604180",
         "175.57",
         "177.71",
         "173.52"
        ],
        [
         "34",
         "2024-03-15 00:00:00",
         "172.62",
         "121752700",
         "171.17",
         "172.62",
         "170.29"
        ],
        [
         "35",
         "2024-03-14 00:00:00",
         "173.0",
         "72913510",
         "172.91",
         "174.31",
         "172.05"
        ],
        [
         "36",
         "2024-03-13 00:00:00",
         "171.13",
         "52488690",
         "172.77",
         "173.19",
         "170.76"
        ],
        [
         "37",
         "2024-03-12 00:00:00",
         "173.23",
         "59825370",
         "173.15",
         "174.03",
         "171.01"
        ],
        [
         "38",
         "2024-03-11 00:00:00",
         "172.75",
         "60139470",
         "172.94",
         "174.38",
         "172.05"
        ],
        [
         "39",
         "2024-03-08 00:00:00",
         "170.73",
         "76267040",
         "169.0",
         "173.7",
         "168.94"
        ],
        [
         "40",
         "2024-03-07 00:00:00",
         "169.0",
         "71765060",
         "169.15",
         "170.73",
         "168.49"
        ],
        [
         "41",
         "2024-03-06 00:00:00",
         "169.12",
         "68587710",
         "171.06",
         "171.24",
         "168.68"
        ],
        [
         "42",
         "2024-03-05 00:00:00",
         "170.12",
         "95132360",
         "170.76",
         "172.04",
         "169.62"
        ],
        [
         "43",
         "2024-03-04 00:00:00",
         "175.1",
         "81510100",
         "176.15",
         "176.9",
         "173.79"
        ],
        [
         "44",
         "2024-03-01 00:00:00",
         "179.66",
         "73563080",
         "179.55",
         "180.53",
         "177.38"
        ],
        [
         "45",
         "2024-02-29 00:00:00",
         "180.75",
         "136682600",
         "181.27",
         "182.57",
         "179.53"
        ],
        [
         "46",
         "2024-02-28 00:00:00",
         "181.42",
         "48953940",
         "182.51",
         "183.12",
         "180.13"
        ],
        [
         "47",
         "2024-02-27 00:00:00",
         "182.63",
         "54318850",
         "181.1",
         "183.92",
         "179.56"
        ],
        [
         "48",
         "2024-02-26 00:00:00",
         "181.16",
         "40867420",
         "182.24",
         "182.76",
         "180.65"
        ],
        [
         "49",
         "2024-02-23 00:00:00",
         "182.52",
         "45119680",
         "185.01",
         "185.04",
         "182.23"
        ]
       ],
       "shape": {
        "columns": 6,
        "rows": 63
       }
      },
      "text/html": [
       "<div>\n",
       "<style scoped>\n",
       "    .dataframe tbody tr th:only-of-type {\n",
       "        vertical-align: middle;\n",
       "    }\n",
       "\n",
       "    .dataframe tbody tr th {\n",
       "        vertical-align: top;\n",
       "    }\n",
       "\n",
       "    .dataframe thead th {\n",
       "        text-align: right;\n",
       "    }\n",
       "</style>\n",
       "<table border=\"1\" class=\"dataframe\">\n",
       "  <thead>\n",
       "    <tr style=\"text-align: right;\">\n",
       "      <th></th>\n",
       "      <th>Date</th>\n",
       "      <th>Close/Last</th>\n",
       "      <th>Volume</th>\n",
       "      <th>Open</th>\n",
       "      <th>High</th>\n",
       "      <th>Low</th>\n",
       "    </tr>\n",
       "  </thead>\n",
       "  <tbody>\n",
       "    <tr>\n",
       "      <th>0</th>\n",
       "      <td>2024-05-03</td>\n",
       "      <td>183.38</td>\n",
       "      <td>163224100</td>\n",
       "      <td>186.65</td>\n",
       "      <td>187.00</td>\n",
       "      <td>182.66</td>\n",
       "    </tr>\n",
       "    <tr>\n",
       "      <th>1</th>\n",
       "      <td>2024-05-02</td>\n",
       "      <td>173.03</td>\n",
       "      <td>94214920</td>\n",
       "      <td>172.51</td>\n",
       "      <td>173.42</td>\n",
       "      <td>170.89</td>\n",
       "    </tr>\n",
       "    <tr>\n",
       "      <th>2</th>\n",
       "      <td>2024-05-01</td>\n",
       "      <td>169.30</td>\n",
       "      <td>50383150</td>\n",
       "      <td>169.58</td>\n",
       "      <td>172.71</td>\n",
       "      <td>169.11</td>\n",
       "    </tr>\n",
       "    <tr>\n",
       "      <th>3</th>\n",
       "      <td>2024-04-30</td>\n",
       "      <td>170.33</td>\n",
       "      <td>65934780</td>\n",
       "      <td>173.33</td>\n",
       "      <td>174.99</td>\n",
       "      <td>170.00</td>\n",
       "    </tr>\n",
       "    <tr>\n",
       "      <th>4</th>\n",
       "      <td>2024-04-29</td>\n",
       "      <td>173.50</td>\n",
       "      <td>68169420</td>\n",
       "      <td>173.37</td>\n",
       "      <td>176.03</td>\n",
       "      <td>173.10</td>\n",
       "    </tr>\n",
       "    <tr>\n",
       "      <th>...</th>\n",
       "      <td>...</td>\n",
       "      <td>...</td>\n",
       "      <td>...</td>\n",
       "      <td>...</td>\n",
       "      <td>...</td>\n",
       "      <td>...</td>\n",
       "    </tr>\n",
       "    <tr>\n",
       "      <th>58</th>\n",
       "      <td>2024-02-09</td>\n",
       "      <td>188.85</td>\n",
       "      <td>45155220</td>\n",
       "      <td>188.65</td>\n",
       "      <td>189.99</td>\n",
       "      <td>188.00</td>\n",
       "    </tr>\n",
       "    <tr>\n",
       "      <th>59</th>\n",
       "      <td>2024-02-08</td>\n",
       "      <td>188.32</td>\n",
       "      <td>40962050</td>\n",
       "      <td>189.39</td>\n",
       "      <td>189.54</td>\n",
       "      <td>187.35</td>\n",
       "    </tr>\n",
       "    <tr>\n",
       "      <th>60</th>\n",
       "      <td>2024-02-07</td>\n",
       "      <td>189.41</td>\n",
       "      <td>53438960</td>\n",
       "      <td>190.64</td>\n",
       "      <td>191.05</td>\n",
       "      <td>188.61</td>\n",
       "    </tr>\n",
       "    <tr>\n",
       "      <th>61</th>\n",
       "      <td>2024-02-06</td>\n",
       "      <td>189.30</td>\n",
       "      <td>43490760</td>\n",
       "      <td>186.86</td>\n",
       "      <td>189.31</td>\n",
       "      <td>186.77</td>\n",
       "    </tr>\n",
       "    <tr>\n",
       "      <th>62</th>\n",
       "      <td>2024-02-05</td>\n",
       "      <td>187.68</td>\n",
       "      <td>69668820</td>\n",
       "      <td>188.15</td>\n",
       "      <td>189.25</td>\n",
       "      <td>185.84</td>\n",
       "    </tr>\n",
       "  </tbody>\n",
       "</table>\n",
       "<p>63 rows × 6 columns</p>\n",
       "</div>"
      ],
      "text/plain": [
       "         Date  Close/Last     Volume    Open    High     Low\n",
       "0  2024-05-03      183.38  163224100  186.65  187.00  182.66\n",
       "1  2024-05-02      173.03   94214920  172.51  173.42  170.89\n",
       "2  2024-05-01      169.30   50383150  169.58  172.71  169.11\n",
       "3  2024-04-30      170.33   65934780  173.33  174.99  170.00\n",
       "4  2024-04-29      173.50   68169420  173.37  176.03  173.10\n",
       "..        ...         ...        ...     ...     ...     ...\n",
       "58 2024-02-09      188.85   45155220  188.65  189.99  188.00\n",
       "59 2024-02-08      188.32   40962050  189.39  189.54  187.35\n",
       "60 2024-02-07      189.41   53438960  190.64  191.05  188.61\n",
       "61 2024-02-06      189.30   43490760  186.86  189.31  186.77\n",
       "62 2024-02-05      187.68   69668820  188.15  189.25  185.84\n",
       "\n",
       "[63 rows x 6 columns]"
      ]
     },
     "execution_count": 32,
     "metadata": {},
     "output_type": "execute_result"
    }
   ],
   "source": [
    "# Use the max date calculated above to get the last three months of data in the dataset \n",
    "three_months_earlier = aapl['Date'].max() - pd.DateOffset(months=3)\n",
    "aapl_three_months= aapl[aapl['Date'] >= three_months_earlier]\n",
    "aapl_three_months"
   ]
  },
  {
   "cell_type": "code",
   "execution_count": 33,
   "id": "039404e1",
   "metadata": {},
   "outputs": [
    {
     "data": {
      "image/png": "[encoded data removed]",
      "text/plain": [
       "<Figure size 1200x600 with 1 Axes>"
      ]
     },
     "metadata": {},
     "output_type": "display_data"
    }
   ],
   "source": [
    "# Plot time series of open v. close stock price for Apple using the last 3 months of data\n",
    "plt.figure(figsize=(12, 6))\n",
    "\n",
    "plt.plot(aapl_three_months['Date'], aapl_three_months['Open'], label='Open Price')\n",
    "plt.plot(aapl_three_months['Date'], aapl_three_months['Close/Last'], label='Close Price')\n",
    "\n",
    "plt.xlabel('Date')\n",
    "plt.ylabel('Price')\n",
    "plt.title('Apple Open and Close Prices (Last 3 Months)')\n",
    "plt.legend()\n",
    "plt.grid(True)\n",
    "plt.tight_layout()\n",
    "plt.show()"
   ]
  },
  {
   "cell_type": "markdown",
   "id": "bc0070c6",
   "metadata": {},
   "source": [
    "## EDA: Plotting a histogram of a stock's closing price in the last three months\n",
    "\n",
    "One way to see how much a stock's price generally moves is to plot the frequency of closing prices over a set time period. \n",
    "\n",
    "Your task:\n",
    "* Use the **last three months** of Apple stock data and plot a histogram of closing price"
   ]
  },
  {
   "cell_type": "code",
   "execution_count": 34,
   "id": "b48760fd",
   "metadata": {},
   "outputs": [
    {
     "data": {
      "image/png": "[encoded data removed]",
      "text/plain": [
       "<Figure size 1000x600 with 1 Axes>"
      ]
     },
     "metadata": {},
     "output_type": "display_data"
    }
   ],
   "source": [
    "# Plot the histogram of Apple's closing price over the last 3 months \n",
    "plt.figure(figsize=(10, 6))\n",
    "\n",
    "plt.hist(aapl_three_months['Close/Last'], bins=12, edgecolor='black')\n",
    "\n",
    "plt.xlabel('Closing Price')\n",
    "plt.ylabel('Count')\n",
    "plt.title('Histogram of Apple Closing Prices (Last 3 Months)')\n",
    "\n",
    "plt.grid(True, linestyle='--',  alpha=0.7)\n",
    "plt.tight_layout()\n",
    "plt.show()"
   ]
  },
  {
   "cell_type": "markdown",
   "id": "01e1b22c",
   "metadata": {},
   "source": [
    "## Calculating correlation between a stock price and a macroeconomic variable \n",
    "\n",
    "Inflation affects the purchasing power of money and can influence corporate profits, interest rates, and consumer behavior. By analyzing the correlation between stock prices and inflation, one can gauge how inflationary trends impact stock market performance. For instance, high inflation might erode profit margins and reduce stock prices, while moderate inflation might indicate a growing economy, benefiting stocks.\n",
    "\n",
    "Your task:\n",
    "* Plot a heatmap that shows the correlation between Microsoft and Apple returns and inflation \n",
    "\n",
    "This will require several steps:\n",
    "1. Calculate the returns for Apple and Microsoft and the change in monthly inflation (use the `pct_change` method for each)\n",
    "2. Interpolate the daily stock returns data to monthly so it can be compared to the monthly inflation data\n",
    "3. Merge the stock returns (Apple and Microsoft) and inflation data series into a single dataframe\n",
    "4. Calculate the correlation matrix between the Apple returns, Microsoft returns, and inflation change\n",
    "5. Plot the correlation matrix as a heatmap"
   ]
  },
  {
   "cell_type": "markdown",
   "id": "c38842ed",
   "metadata": {},
   "source": [
    "### 1. Calculate returns for Microsoft / Apple and the monthly change in inflation"
   ]
  },
  {
   "cell_type": "code",
   "execution_count": 35,
   "id": "a112dc12",
   "metadata": {},
   "outputs": [
    {
     "name": "stdout",
     "output_type": "stream",
     "text": [
      "            Close/Last     Volume    Open    High     Low   Returns\n",
      "Date                                                               \n",
      "2014-05-07       21.15  282128727   21.26   21.33   20.99 -0.003768\n",
      "2014-05-08       21.00  228973884   21.01   21.23   20.94 -0.007092\n",
      "2014-05-09       20.91  291068564   20.88   20.94   20.73 -0.004286\n",
      "2014-05-12       21.17  212736019   20.98   21.20   20.98  0.012434\n",
      "2014-05-13       21.21  159417936   21.14   21.23   21.10  0.001889\n",
      "...                ...        ...     ...     ...     ...       ...\n",
      "2024-04-29      173.50   68169420  173.37  176.03  173.10  0.024808\n",
      "2024-04-30      170.33   65934780  173.33  174.99  170.00 -0.018271\n",
      "2024-05-01      169.30   50383150  169.58  172.71  169.11 -0.006047\n",
      "2024-05-02      173.03   94214920  172.51  173.42  170.89  0.022032\n",
      "2024-05-03      183.38  163224100  186.65  187.00  182.66  0.059816\n",
      "\n",
      "[2516 rows x 6 columns]\n"
     ]
    }
   ],
   "source": [
    "# Calculate daily returns for Apple and Microsoft and the percent change in inflation from month to month\n",
    "aapl.set_index('Date', inplace=True)\n",
    "# sort in descending order by date\n",
    "aapl.sort_index(inplace=True)\n",
    "aapl['Returns'] = aapl['Close/Last'].pct_change()\n",
    "aapl.dropna(inplace=True, axis=0)\n",
    "print(aapl)"
   ]
  },
  {
   "cell_type": "code",
   "execution_count": 36,
   "id": "bc934b08",
   "metadata": {},
   "outputs": [
    {
     "name": "stdout",
     "output_type": "stream",
     "text": [
      "            Close/Last    Volume    Open      High       Low   Returns\n",
      "Date                                                                  \n",
      "2014-05-07      39.425  41731030   39.22   39.5100   38.5100  0.009345\n",
      "2014-05-08      39.640  32089010   39.34   39.9000   38.9700  0.005453\n",
      "2014-05-09      39.540  29646100   39.54   39.8500   39.3700 -0.002523\n",
      "2014-05-12      39.970  22761620   39.74   40.0200   39.6500  0.010875\n",
      "2014-05-13      40.420  26994040   39.92   40.5000   39.8500  0.011258\n",
      "...                ...       ...     ...       ...       ...       ...\n",
      "2024-04-29     402.250  19582090  405.25  406.3200  399.1900 -0.010017\n",
      "2024-04-30     389.330  28781370  401.49  402.1600  389.1700 -0.032119\n",
      "2024-05-01     394.940  23562480  392.61  401.7199  390.3100  0.014409\n",
      "2024-05-02     397.840  17709360  397.66  399.9300  394.6515  0.007343\n",
      "2024-05-03     406.660  17446720  402.28  407.1500  401.8600  0.022170\n",
      "\n",
      "[2516 rows x 6 columns]\n"
     ]
    }
   ],
   "source": [
    "# Microsof returns\n",
    "msft.set_index('Date', inplace=True)\n",
    "# sort in descending order by date\n",
    "msft.sort_index(inplace=True)\n",
    "msft['Returns'] = msft['Close/Last'].pct_change()\n",
    "msft.dropna(inplace=True, axis=0)\n",
    "print(msft)"
   ]
  },
  {
   "cell_type": "code",
   "execution_count": 37,
   "id": "71f82643",
   "metadata": {},
   "outputs": [
    {
     "data": {
      "application/vnd.microsoft.datawrangler.viewer.v0+json": {
       "columns": [
        {
         "name": "Date",
         "rawType": "datetime64[ns]",
         "type": "datetime"
        },
        {
         "name": "CORESTICKM159SFRBATL",
         "rawType": "float64",
         "type": "float"
        },
        {
         "name": "Monthly Change",
         "rawType": "float64",
         "type": "float"
        }
       ],
       "conversionMethod": "pd.DataFrame",
       "ref": "ed2ebfff-7be1-4bfa-9ccd-d3d225d576cc",
       "rows": [
        [
         "1968-02-29 00:00:00",
         "3.673819411",
         "0.0060129207106254245"
        ],
        [
         "1968-03-31 00:00:00",
         "4.142163975",
         "0.12748165100268705"
        ],
        [
         "1968-04-30 00:00:00",
         "4.155828095",
         "0.003298787803300396"
        ],
        [
         "1968-05-31 00:00:00",
         "4.088245437",
         "-0.016262139928576613"
        ],
        [
         "1968-06-30 00:00:00",
         "4.545569347",
         "0.11186312491443484"
        ],
        [
         "1968-07-31 00:00:00",
         "4.753076334",
         "0.04565038417837619"
        ],
        [
         "1968-08-31 00:00:00",
         "4.9466066",
         "0.04071684366094175"
        ],
        [
         "1968-09-30 00:00:00",
         "4.948246979",
         "0.000331617032169218"
        ],
        [
         "1968-10-31 00:00:00",
         "5.182592347",
         "0.047359270665862985"
        ],
        [
         "1968-11-30 00:00:00",
         "5.399387944",
         "0.04183149715132317"
        ],
        [
         "1968-12-31 00:00:00",
         "5.706347843",
         "0.056850869428840545"
        ],
        [
         "1969-01-31 00:00:00",
         "5.746196961",
         "0.006983296338810341"
        ],
        [
         "1969-02-28 00:00:00",
         "5.749956071",
         "0.0006541909415067604"
        ],
        [
         "1969-03-31 00:00:00",
         "6.125157849",
         "0.06525298165186633"
        ],
        [
         "1969-04-30 00:00:00",
         "6.505620421",
         "0.06211473751033436"
        ],
        [
         "1969-05-31 00:00:00",
         "6.780633974",
         "0.04227322456629379"
        ],
        [
         "1969-06-30 00:00:00",
         "6.375966005",
         "-0.05967996068681458"
        ],
        [
         "1969-07-31 00:00:00",
         "6.389268621",
         "0.0020863687148846566"
        ],
        [
         "1969-08-31 00:00:00",
         "6.414746498",
         "0.003987604608806095"
        ],
        [
         "1969-09-30 00:00:00",
         "6.834758299",
         "0.06547597806568839"
        ],
        [
         "1969-10-31 00:00:00",
         "6.560106336",
         "-0.04018459043975042"
        ],
        [
         "1969-11-30 00:00:00",
         "6.437390535",
         "-0.0187063737559513"
        ],
        [
         "1969-12-31 00:00:00",
         "6.402163808",
         "-0.005472205982916867"
        ],
        [
         "1970-01-31 00:00:00",
         "6.592370014",
         "0.0297096749949326"
        ],
        [
         "1970-02-28 00:00:00",
         "7.053805927",
         "0.0699954511078813"
        ],
        [
         "1970-03-31 00:00:00",
         "6.993096123",
         "-0.008606673422587363"
        ],
        [
         "1970-04-30 00:00:00",
         "6.817838113",
         "-0.025061576005452557"
        ],
        [
         "1970-05-31 00:00:00",
         "6.947734731",
         "0.01905246440984243"
        ],
        [
         "1970-06-30 00:00:00",
         "7.151974844",
         "0.02939664810297149"
        ],
        [
         "1970-07-31 00:00:00",
         "7.00787567",
         "-0.020148165666562523"
        ],
        [
         "1970-08-31 00:00:00",
         "7.114872285",
         "0.015268052693634626"
        ],
        [
         "1970-09-30 00:00:00",
         "7.081263039",
         "-0.004723801728789501"
        ],
        [
         "1970-10-31 00:00:00",
         "7.057638255",
         "-0.0033362387288662365"
        ],
        [
         "1970-11-30 00:00:00",
         "7.327620064",
         "0.038253846293231586"
        ],
        [
         "1970-12-31 00:00:00",
         "7.342681298",
         "0.002055405966528534"
        ],
        [
         "1971-01-31 00:00:00",
         "7.014858012",
         "-0.044646263768698735"
        ],
        [
         "1971-02-28 00:00:00",
         "6.329604979",
         "-0.09768594486556526"
        ],
        [
         "1971-03-31 00:00:00",
         "5.50160847",
         "-0.1308132990521651"
        ],
        [
         "1971-04-30 00:00:00",
         "5.306250794",
         "-0.03550919282338527"
        ],
        [
         "1971-05-31 00:00:00",
         "5.060279237",
         "-0.04635505680925056"
        ],
        [
         "1971-06-30 00:00:00",
         "5.239199701",
         "0.035357824266250226"
        ],
        [
         "1971-07-31 00:00:00",
         "5.165044197",
         "-0.014153975460382995"
        ],
        [
         "1971-08-31 00:00:00",
         "4.913620811",
         "-0.04867787697654813"
        ],
        [
         "1971-09-30 00:00:00",
         "4.672385308",
         "-0.04909526238979456"
        ],
        [
         "1971-10-31 00:00:00",
         "4.376576593",
         "-0.06331000024623823"
        ],
        [
         "1971-11-30 00:00:00",
         "3.953153899",
         "-0.09674746574234128"
        ],
        [
         "1971-12-31 00:00:00",
         "3.677258309",
         "-0.06979125959902333"
        ],
        [
         "1972-01-31 00:00:00",
         "3.728280469",
         "0.01387505465012473"
        ],
        [
         "1972-02-29 00:00:00",
         "3.841502967",
         "0.03036855701748431"
        ],
        [
         "1972-03-31 00:00:00",
         "4.057916253",
         "0.05633557694971847"
        ]
       ],
       "shape": {
        "columns": 2,
        "rows": 674
       }
      },
      "text/html": [
       "<div>\n",
       "<style scoped>\n",
       "    .dataframe tbody tr th:only-of-type {\n",
       "        vertical-align: middle;\n",
       "    }\n",
       "\n",
       "    .dataframe tbody tr th {\n",
       "        vertical-align: top;\n",
       "    }\n",
       "\n",
       "    .dataframe thead th {\n",
       "        text-align: right;\n",
       "    }\n",
       "</style>\n",
       "<table border=\"1\" class=\"dataframe\">\n",
       "  <thead>\n",
       "    <tr style=\"text-align: right;\">\n",
       "      <th></th>\n",
       "      <th>CORESTICKM159SFRBATL</th>\n",
       "      <th>Monthly Change</th>\n",
       "    </tr>\n",
       "    <tr>\n",
       "      <th>Date</th>\n",
       "      <th></th>\n",
       "      <th></th>\n",
       "    </tr>\n",
       "  </thead>\n",
       "  <tbody>\n",
       "    <tr>\n",
       "      <th>1968-02-29</th>\n",
       "      <td>3.673819</td>\n",
       "      <td>0.006013</td>\n",
       "    </tr>\n",
       "    <tr>\n",
       "      <th>1968-03-31</th>\n",
       "      <td>4.142164</td>\n",
       "      <td>0.127482</td>\n",
       "    </tr>\n",
       "    <tr>\n",
       "      <th>1968-04-30</th>\n",
       "      <td>4.155828</td>\n",
       "      <td>0.003299</td>\n",
       "    </tr>\n",
       "    <tr>\n",
       "      <th>1968-05-31</th>\n",
       "      <td>4.088245</td>\n",
       "      <td>-0.016262</td>\n",
       "    </tr>\n",
       "    <tr>\n",
       "      <th>1968-06-30</th>\n",
       "      <td>4.545569</td>\n",
       "      <td>0.111863</td>\n",
       "    </tr>\n",
       "    <tr>\n",
       "      <th>...</th>\n",
       "      <td>...</td>\n",
       "      <td>...</td>\n",
       "    </tr>\n",
       "    <tr>\n",
       "      <th>2023-11-30</th>\n",
       "      <td>4.688293</td>\n",
       "      <td>-0.039860</td>\n",
       "    </tr>\n",
       "    <tr>\n",
       "      <th>2023-12-31</th>\n",
       "      <td>4.554396</td>\n",
       "      <td>-0.028560</td>\n",
       "    </tr>\n",
       "    <tr>\n",
       "      <th>2024-01-31</th>\n",
       "      <td>4.603922</td>\n",
       "      <td>0.010874</td>\n",
       "    </tr>\n",
       "    <tr>\n",
       "      <th>2024-02-29</th>\n",
       "      <td>4.403102</td>\n",
       "      <td>-0.043619</td>\n",
       "    </tr>\n",
       "    <tr>\n",
       "      <th>2024-03-31</th>\n",
       "      <td>4.509212</td>\n",
       "      <td>0.024099</td>\n",
       "    </tr>\n",
       "  </tbody>\n",
       "</table>\n",
       "<p>674 rows × 2 columns</p>\n",
       "</div>"
      ],
      "text/plain": [
       "            CORESTICKM159SFRBATL  Monthly Change\n",
       "Date                                            \n",
       "1968-02-29              3.673819        0.006013\n",
       "1968-03-31              4.142164        0.127482\n",
       "1968-04-30              4.155828        0.003299\n",
       "1968-05-31              4.088245       -0.016262\n",
       "1968-06-30              4.545569        0.111863\n",
       "...                          ...             ...\n",
       "2023-11-30              4.688293       -0.039860\n",
       "2023-12-31              4.554396       -0.028560\n",
       "2024-01-31              4.603922        0.010874\n",
       "2024-02-29              4.403102       -0.043619\n",
       "2024-03-31              4.509212        0.024099\n",
       "\n",
       "[674 rows x 2 columns]"
      ]
     },
     "execution_count": 37,
     "metadata": {},
     "output_type": "execute_result"
    }
   ],
   "source": [
    "#Inflation monthly % change\n",
    "inflation['Monthly Change'] = inflation['CORESTICKM159SFRBATL'].pct_change()\n",
    "inflation.dropna(inplace=True)\n",
    "inflation"
   ]
  },
  {
   "cell_type": "code",
   "execution_count": 38,
   "id": "96c54326",
   "metadata": {},
   "outputs": [
    {
     "data": {
      "application/vnd.microsoft.datawrangler.viewer.v0+json": {
       "columns": [
        {
         "name": "Date",
         "rawType": "datetime64[ns]",
         "type": "datetime"
        },
        {
         "name": "Inflation",
         "rawType": "float64",
         "type": "float"
        }
       ],
       "conversionMethod": "pd.DataFrame",
       "ref": "635360a9-557c-4836-98b9-1db6f333d0ec",
       "rows": [
        [
         "1968-02-29 00:00:00",
         "0.0060129207106254245"
        ],
        [
         "1968-03-31 00:00:00",
         "0.12748165100268705"
        ],
        [
         "1968-04-30 00:00:00",
         "0.003298787803300396"
        ],
        [
         "1968-05-31 00:00:00",
         "-0.016262139928576613"
        ],
        [
         "1968-06-30 00:00:00",
         "0.11186312491443484"
        ],
        [
         "1968-07-31 00:00:00",
         "0.04565038417837619"
        ],
        [
         "1968-08-31 00:00:00",
         "0.04071684366094175"
        ],
        [
         "1968-09-30 00:00:00",
         "0.000331617032169218"
        ],
        [
         "1968-10-31 00:00:00",
         "0.047359270665862985"
        ],
        [
         "1968-11-30 00:00:00",
         "0.04183149715132317"
        ],
        [
         "1968-12-31 00:00:00",
         "0.056850869428840545"
        ],
        [
         "1969-01-31 00:00:00",
         "0.006983296338810341"
        ],
        [
         "1969-02-28 00:00:00",
         "0.0006541909415067604"
        ],
        [
         "1969-03-31 00:00:00",
         "0.06525298165186633"
        ],
        [
         "1969-04-30 00:00:00",
         "0.06211473751033436"
        ],
        [
         "1969-05-31 00:00:00",
         "0.04227322456629379"
        ],
        [
         "1969-06-30 00:00:00",
         "-0.05967996068681458"
        ],
        [
         "1969-07-31 00:00:00",
         "0.0020863687148846566"
        ],
        [
         "1969-08-31 00:00:00",
         "0.003987604608806095"
        ],
        [
         "1969-09-30 00:00:00",
         "0.06547597806568839"
        ],
        [
         "1969-10-31 00:00:00",
         "-0.04018459043975042"
        ],
        [
         "1969-11-30 00:00:00",
         "-0.0187063737559513"
        ],
        [
         "1969-12-31 00:00:00",
         "-0.005472205982916867"
        ],
        [
         "1970-01-31 00:00:00",
         "0.0297096749949326"
        ],
        [
         "1970-02-28 00:00:00",
         "0.0699954511078813"
        ],
        [
         "1970-03-31 00:00:00",
         "-0.008606673422587363"
        ],
        [
         "1970-04-30 00:00:00",
         "-0.025061576005452557"
        ],
        [
         "1970-05-31 00:00:00",
         "0.01905246440984243"
        ],
        [
         "1970-06-30 00:00:00",
         "0.02939664810297149"
        ],
        [
         "1970-07-31 00:00:00",
         "-0.020148165666562523"
        ],
        [
         "1970-08-31 00:00:00",
         "0.015268052693634626"
        ],
        [
         "1970-09-30 00:00:00",
         "-0.004723801728789501"
        ],
        [
         "1970-10-31 00:00:00",
         "-0.0033362387288662365"
        ],
        [
         "1970-11-30 00:00:00",
         "0.038253846293231586"
        ],
        [
         "1970-12-31 00:00:00",
         "0.002055405966528534"
        ],
        [
         "1971-01-31 00:00:00",
         "-0.044646263768698735"
        ],
        [
         "1971-02-28 00:00:00",
         "-0.09768594486556526"
        ],
        [
         "1971-03-31 00:00:00",
         "-0.1308132990521651"
        ],
        [
         "1971-04-30 00:00:00",
         "-0.03550919282338527"
        ],
        [
         "1971-05-31 00:00:00",
         "-0.04635505680925056"
        ],
        [
         "1971-06-30 00:00:00",
         "0.035357824266250226"
        ],
        [
         "1971-07-31 00:00:00",
         "-0.014153975460382995"
        ],
        [
         "1971-08-31 00:00:00",
         "-0.04867787697654813"
        ],
        [
         "1971-09-30 00:00:00",
         "-0.04909526238979456"
        ],
        [
         "1971-10-31 00:00:00",
         "-0.06331000024623823"
        ],
        [
         "1971-11-30 00:00:00",
         "-0.09674746574234128"
        ],
        [
         "1971-12-31 00:00:00",
         "-0.06979125959902333"
        ],
        [
         "1972-01-31 00:00:00",
         "0.01387505465012473"
        ],
        [
         "1972-02-29 00:00:00",
         "0.03036855701748431"
        ],
        [
         "1972-03-31 00:00:00",
         "0.05633557694971847"
        ]
       ],
       "shape": {
        "columns": 1,
        "rows": 674
       }
      },
      "text/html": [
       "<div>\n",
       "<style scoped>\n",
       "    .dataframe tbody tr th:only-of-type {\n",
       "        vertical-align: middle;\n",
       "    }\n",
       "\n",
       "    .dataframe tbody tr th {\n",
       "        vertical-align: top;\n",
       "    }\n",
       "\n",
       "    .dataframe thead th {\n",
       "        text-align: right;\n",
       "    }\n",
       "</style>\n",
       "<table border=\"1\" class=\"dataframe\">\n",
       "  <thead>\n",
       "    <tr style=\"text-align: right;\">\n",
       "      <th></th>\n",
       "      <th>Inflation</th>\n",
       "    </tr>\n",
       "    <tr>\n",
       "      <th>Date</th>\n",
       "      <th></th>\n",
       "    </tr>\n",
       "  </thead>\n",
       "  <tbody>\n",
       "    <tr>\n",
       "      <th>1968-02-29</th>\n",
       "      <td>0.006013</td>\n",
       "    </tr>\n",
       "    <tr>\n",
       "      <th>1968-03-31</th>\n",
       "      <td>0.127482</td>\n",
       "    </tr>\n",
       "    <tr>\n",
       "      <th>1968-04-30</th>\n",
       "      <td>0.003299</td>\n",
       "    </tr>\n",
       "    <tr>\n",
       "      <th>1968-05-31</th>\n",
       "      <td>-0.016262</td>\n",
       "    </tr>\n",
       "    <tr>\n",
       "      <th>1968-06-30</th>\n",
       "      <td>0.111863</td>\n",
       "    </tr>\n",
       "    <tr>\n",
       "      <th>...</th>\n",
       "      <td>...</td>\n",
       "    </tr>\n",
       "    <tr>\n",
       "      <th>2023-11-30</th>\n",
       "      <td>-0.039860</td>\n",
       "    </tr>\n",
       "    <tr>\n",
       "      <th>2023-12-31</th>\n",
       "      <td>-0.028560</td>\n",
       "    </tr>\n",
       "    <tr>\n",
       "      <th>2024-01-31</th>\n",
       "      <td>0.010874</td>\n",
       "    </tr>\n",
       "    <tr>\n",
       "      <th>2024-02-29</th>\n",
       "      <td>-0.043619</td>\n",
       "    </tr>\n",
       "    <tr>\n",
       "      <th>2024-03-31</th>\n",
       "      <td>0.024099</td>\n",
       "    </tr>\n",
       "  </tbody>\n",
       "</table>\n",
       "<p>674 rows × 1 columns</p>\n",
       "</div>"
      ],
      "text/plain": [
       "            Inflation\n",
       "Date                 \n",
       "1968-02-29   0.006013\n",
       "1968-03-31   0.127482\n",
       "1968-04-30   0.003299\n",
       "1968-05-31  -0.016262\n",
       "1968-06-30   0.111863\n",
       "...               ...\n",
       "2023-11-30  -0.039860\n",
       "2023-12-31  -0.028560\n",
       "2024-01-31   0.010874\n",
       "2024-02-29  -0.043619\n",
       "2024-03-31   0.024099\n",
       "\n",
       "[674 rows x 1 columns]"
      ]
     },
     "execution_count": 38,
     "metadata": {},
     "output_type": "execute_result"
    }
   ],
   "source": [
    "# Create a new dataframe with monthly change only\n",
    "inflation_monthly_change = pd.DataFrame(inflation['Monthly Change']).rename(columns={'Monthly Change': 'Inflation'})\n",
    "inflation_monthly_change"
   ]
  },
  {
   "cell_type": "markdown",
   "id": "c8aa1b91",
   "metadata": {},
   "source": [
    "### 2. Interpolate stock returns from daily to monthly"
   ]
  },
  {
   "cell_type": "code",
   "execution_count": 39,
   "id": "9300a530",
   "metadata": {},
   "outputs": [
    {
     "name": "stderr",
     "output_type": "stream",
     "text": [
      "C:\\Users\\yuris\\AppData\\Local\\Temp\\ipykernel_13332\\238249178.py:2: FutureWarning: 'M' is deprecated and will be removed in a future version, please use 'ME' instead.\n",
      "  aapl_monthly_returns = aapl['Returns'].resample('M').agg(lambda x: (x + 1).prod() - 1)      # cumulative return for each month\n"
     ]
    },
    {
     "data": {
      "application/vnd.microsoft.datawrangler.viewer.v0+json": {
       "columns": [
        {
         "name": "Date",
         "rawType": "datetime64[ns]",
         "type": "datetime"
        },
        {
         "name": "Returns",
         "rawType": "float64",
         "type": "float"
        }
       ],
       "conversionMethod": "pd.DataFrame",
       "ref": "60d194ed-8b04-480b-bbbb-2c820079aaaa",
       "rows": [
        [
         "2014-05-31 00:00:00",
         "0.06500235515779518"
        ],
        [
         "2014-06-30 00:00:00",
         "0.02742149491375523"
        ],
        [
         "2014-07-31 00:00:00",
         "0.028842014636245805"
        ],
        [
         "2014-08-31 00:00:00",
         "0.07238493723849304"
        ],
        [
         "2014-09-30 00:00:00",
         "-0.01716738197424883"
        ],
        [
         "2014-10-31 00:00:00",
         "0.07185391028185761"
        ],
        [
         "2014-11-30 00:00:00",
         "0.10111111111111093"
        ],
        [
         "2014-12-31 00:00:00",
         "-0.07164480322906153"
        ],
        [
         "2015-01-31 00:00:00",
         "0.06123188405797131"
        ],
        [
         "2015-02-28 00:00:00",
         "0.09662000682826899"
        ],
        [
         "2015-03-31 00:00:00",
         "-0.031444582814445954"
        ],
        [
         "2015-04-30 00:00:00",
         "0.005785920925747368"
        ],
        [
         "2015-05-31 00:00:00",
         "0.04090763822307397"
        ],
        [
         "2015-06-30 00:00:00",
         "-0.03715075222597475"
        ],
        [
         "2015-07-31 00:00:00",
         "-0.03284438775510179"
        ],
        [
         "2015-08-31 00:00:00",
         "-0.0705572040883613"
        ],
        [
         "2015-09-30 00:00:00",
         "-0.021638879035119296"
        ],
        [
         "2015-10-31 00:00:00",
         "0.08339376359680961"
        ],
        [
         "2015-11-30 00:00:00",
         "-0.010040160642570517"
        ],
        [
         "2015-12-31 00:00:00",
         "-0.11020960108181199"
        ],
        [
         "2016-01-31 00:00:00",
         "-0.0752279635258356"
        ],
        [
         "2016-02-29 00:00:00",
         "-0.0069843878389480585"
        ],
        [
         "2016-03-31 00:00:00",
         "0.12743069921390116"
        ],
        [
         "2016-04-30 00:00:00",
         "-0.13981651376146764"
        ],
        [
         "2016-05-31 00:00:00",
         "0.06527303754266178"
        ],
        [
         "2016-06-30 00:00:00",
         "-0.0428514217060475"
        ],
        [
         "2016-07-31 00:00:00",
         "0.08995815899581627"
        ],
        [
         "2016-08-31 00:00:00",
         "0.018426103646832948"
        ],
        [
         "2016-09-30 00:00:00",
         "0.06520919713531903"
        ],
        [
         "2016-10-31 00:00:00",
         "0.00460014154281696"
        ],
        [
         "2016-11-30 00:00:00",
         "-0.026769989432898655"
        ],
        [
         "2016-12-31 00:00:00",
         "0.048136083966703325"
        ],
        [
         "2017-01-31 00:00:00",
         "0.047651933701657656"
        ],
        [
         "2017-02-28 00:00:00",
         "0.1288727752142389"
        ],
        [
         "2017-03-31 00:00:00",
         "0.048759124087590866"
        ],
        [
         "2017-04-30 00:00:00",
         "-0.00027839643652527446"
        ],
        [
         "2017-05-31 00:00:00",
         "0.06349206349206327"
        ],
        [
         "2017-06-30 00:00:00",
         "-0.05708300602251848"
        ],
        [
         "2017-07-31 00:00:00",
         "0.032490974729241895"
        ],
        [
         "2017-08-31 00:00:00",
         "0.10274341043571833"
        ],
        [
         "2017-09-30 00:00:00",
         "-0.06024390243902389"
        ],
        [
         "2017-10-31 00:00:00",
         "0.09680768232546022"
        ],
        [
         "2017-11-30 00:00:00",
         "0.016564126833885418"
        ],
        [
         "2017-12-31 00:00:00",
         "-0.01513035381750416"
        ],
        [
         "2018-01-31 00:00:00",
         "-0.010635783502717433"
        ],
        [
         "2018-02-28 00:00:00",
         "0.0637840420449114"
        ],
        [
         "2018-03-31 00:00:00",
         "-0.05793846844823669"
        ],
        [
         "2018-04-30 00:00:00",
         "-0.01501787842669855"
        ],
        [
         "2018-05-31 00:00:00",
         "0.1306873184898354"
        ],
        [
         "2018-06-30 00:00:00",
         "-0.009417808219177592"
        ]
       ],
       "shape": {
        "columns": 1,
        "rows": 121
       }
      },
      "text/html": [
       "<div>\n",
       "<style scoped>\n",
       "    .dataframe tbody tr th:only-of-type {\n",
       "        vertical-align: middle;\n",
       "    }\n",
       "\n",
       "    .dataframe tbody tr th {\n",
       "        vertical-align: top;\n",
       "    }\n",
       "\n",
       "    .dataframe thead th {\n",
       "        text-align: right;\n",
       "    }\n",
       "</style>\n",
       "<table border=\"1\" class=\"dataframe\">\n",
       "  <thead>\n",
       "    <tr style=\"text-align: right;\">\n",
       "      <th></th>\n",
       "      <th>Returns</th>\n",
       "    </tr>\n",
       "    <tr>\n",
       "      <th>Date</th>\n",
       "      <th></th>\n",
       "    </tr>\n",
       "  </thead>\n",
       "  <tbody>\n",
       "    <tr>\n",
       "      <th>2014-05-31</th>\n",
       "      <td>0.065002</td>\n",
       "    </tr>\n",
       "    <tr>\n",
       "      <th>2014-06-30</th>\n",
       "      <td>0.027421</td>\n",
       "    </tr>\n",
       "    <tr>\n",
       "      <th>2014-07-31</th>\n",
       "      <td>0.028842</td>\n",
       "    </tr>\n",
       "    <tr>\n",
       "      <th>2014-08-31</th>\n",
       "      <td>0.072385</td>\n",
       "    </tr>\n",
       "    <tr>\n",
       "      <th>2014-09-30</th>\n",
       "      <td>-0.017167</td>\n",
       "    </tr>\n",
       "    <tr>\n",
       "      <th>...</th>\n",
       "      <td>...</td>\n",
       "    </tr>\n",
       "    <tr>\n",
       "      <th>2024-01-31</th>\n",
       "      <td>-0.042227</td>\n",
       "    </tr>\n",
       "    <tr>\n",
       "      <th>2024-02-29</th>\n",
       "      <td>-0.019794</td>\n",
       "    </tr>\n",
       "    <tr>\n",
       "      <th>2024-03-31</th>\n",
       "      <td>-0.051286</td>\n",
       "    </tr>\n",
       "    <tr>\n",
       "      <th>2024-04-30</th>\n",
       "      <td>-0.006706</td>\n",
       "    </tr>\n",
       "    <tr>\n",
       "      <th>2024-05-31</th>\n",
       "      <td>0.076616</td>\n",
       "    </tr>\n",
       "  </tbody>\n",
       "</table>\n",
       "<p>121 rows × 1 columns</p>\n",
       "</div>"
      ],
      "text/plain": [
       "             Returns\n",
       "Date                \n",
       "2014-05-31  0.065002\n",
       "2014-06-30  0.027421\n",
       "2014-07-31  0.028842\n",
       "2014-08-31  0.072385\n",
       "2014-09-30 -0.017167\n",
       "...              ...\n",
       "2024-01-31 -0.042227\n",
       "2024-02-29 -0.019794\n",
       "2024-03-31 -0.051286\n",
       "2024-04-30 -0.006706\n",
       "2024-05-31  0.076616\n",
       "\n",
       "[121 rows x 1 columns]"
      ]
     },
     "execution_count": 39,
     "metadata": {},
     "output_type": "execute_result"
    }
   ],
   "source": [
    "# Apple\n",
    "aapl_monthly_returns = aapl['Returns'].resample('M').agg(lambda x: (x + 1).prod() - 1)      # cumulative return for each month\n",
    "aapl_monthly_returns = pd.DataFrame(aapl_monthly_returns)\n",
    "aapl_monthly_returns"
   ]
  },
  {
   "cell_type": "code",
   "execution_count": 40,
   "id": "c11935f0",
   "metadata": {},
   "outputs": [
    {
     "name": "stderr",
     "output_type": "stream",
     "text": [
      "C:\\Users\\yuris\\AppData\\Local\\Temp\\ipykernel_13332\\3333980907.py:2: FutureWarning: 'M' is deprecated and will be removed in a future version, please use 'ME' instead.\n",
      "  msft_monthly_returns = msft['Returns'].resample('M').agg(lambda x: (x + 1).prod() - 1)      # cumulative return for each month\n"
     ]
    },
    {
     "data": {
      "application/vnd.microsoft.datawrangler.viewer.v0+json": {
       "columns": [
        {
         "name": "Date",
         "rawType": "datetime64[ns]",
         "type": "datetime"
        },
        {
         "name": "Returns",
         "rawType": "float64",
         "type": "float"
        }
       ],
       "conversionMethod": "pd.DataFrame",
       "ref": "cc7f3435-8c7d-403f-a02b-96793e09bb0e",
       "rows": [
        [
         "2014-05-31 00:00:00",
         "0.04813108038914371"
        ],
        [
         "2014-06-30 00:00:00",
         "0.018563751831949693"
        ],
        [
         "2014-07-31 00:00:00",
         "0.03501199040767311"
        ],
        [
         "2014-08-31 00:00:00",
         "0.05259499536607959"
        ],
        [
         "2014-09-30 00:00:00",
         "0.020471054369359365"
        ],
        [
         "2014-10-31 00:00:00",
         "0.012726488352027943"
        ],
        [
         "2014-11-30 00:00:00",
         "0.01831735889243835"
        ],
        [
         "2014-12-31 00:00:00",
         "-0.028445931813427805"
        ],
        [
         "2015-01-31 00:00:00",
         "-0.13024757804090425"
        ],
        [
         "2015-02-28 00:00:00",
         "0.08539603960396125"
        ],
        [
         "2015-03-31 00:00:00",
         "-0.07286202964652233"
        ],
        [
         "2015-04-30 00:00:00",
         "0.19640880580494424"
        ],
        [
         "2015-05-31 00:00:00",
         "-0.036595394736842146"
        ],
        [
         "2015-06-30 00:00:00",
         "-0.05783183952198023"
        ],
        [
         "2015-07-31 00:00:00",
         "0.057757644394110574"
        ],
        [
         "2015-08-31 00:00:00",
         "-0.06809421841541752"
        ],
        [
         "2015-09-30 00:00:00",
         "0.017003676470587648"
        ],
        [
         "2015-10-31 00:00:00",
         "0.1893357433348397"
        ],
        [
         "2015-11-30 00:00:00",
         "0.03248480243161089"
        ],
        [
         "2015-12-31 00:00:00",
         "0.02079116835326511"
        ],
        [
         "2016-01-31 00:00:00",
         "-0.007029560201874618"
        ],
        [
         "2016-02-29 00:00:00",
         "-0.07642040297694708"
        ],
        [
         "2016-03-31 00:00:00",
         "0.08549528301886822"
        ],
        [
         "2016-04-30 00:00:00",
         "-0.09704870541372423"
        ],
        [
         "2016-05-31 00:00:00",
         "0.06276318427912586"
        ],
        [
         "2016-06-30 00:00:00",
         "-0.034528301886792345"
        ],
        [
         "2016-07-31 00:00:00",
         "0.10768028141489139"
        ],
        [
         "2016-08-31 00:00:00",
         "0.013761467889907397"
        ],
        [
         "2016-09-30 00:00:00",
         "0.002436477549599525"
        ],
        [
         "2016-10-31 00:00:00",
         "0.04027777777777719"
        ],
        [
         "2016-11-30 00:00:00",
         "0.005674232309745841"
        ],
        [
         "2016-12-31 00:00:00",
         "0.03119814138732191"
        ],
        [
         "2017-01-31 00:00:00",
         "0.0403926617315733"
        ],
        [
         "2017-02-28 00:00:00",
         "-0.010363495746326334"
        ],
        [
         "2017-03-31 00:00:00",
         "0.029384182557048444"
        ],
        [
         "2017-04-30 00:00:00",
         "0.03947767992711815"
        ],
        [
         "2017-05-31 00:00:00",
         "0.020157756354075573"
        ],
        [
         "2017-06-30 00:00:00",
         "-0.013029782359679443"
        ],
        [
         "2017-07-31 00:00:00",
         "0.054693166980995134"
        ],
        [
         "2017-08-31 00:00:00",
         "0.0284731774415401"
        ],
        [
         "2017-09-30 00:00:00",
         "-0.0037448174401496503"
        ],
        [
         "2017-10-31 00:00:00",
         "0.1166599543562894"
        ],
        [
         "2017-11-30 00:00:00",
         "0.011901899495071255"
        ],
        [
         "2017-12-31 00:00:00",
         "0.016276583105619746"
        ],
        [
         "2018-01-31 00:00:00",
         "0.11070844049567441"
        ],
        [
         "2018-02-28 00:00:00",
         "-0.013051257762340951"
        ],
        [
         "2018-03-31 00:00:00",
         "-0.026660978991148387"
        ],
        [
         "2018-04-30 00:00:00",
         "0.02465213103977293"
        ],
        [
         "2018-05-31 00:00:00",
         "0.05688622754491046"
        ],
        [
         "2018-06-30 00:00:00",
         "-0.0023269931201936878"
        ]
       ],
       "shape": {
        "columns": 1,
        "rows": 121
       }
      },
      "text/html": [
       "<div>\n",
       "<style scoped>\n",
       "    .dataframe tbody tr th:only-of-type {\n",
       "        vertical-align: middle;\n",
       "    }\n",
       "\n",
       "    .dataframe tbody tr th {\n",
       "        vertical-align: top;\n",
       "    }\n",
       "\n",
       "    .dataframe thead th {\n",
       "        text-align: right;\n",
       "    }\n",
       "</style>\n",
       "<table border=\"1\" class=\"dataframe\">\n",
       "  <thead>\n",
       "    <tr style=\"text-align: right;\">\n",
       "      <th></th>\n",
       "      <th>Returns</th>\n",
       "    </tr>\n",
       "    <tr>\n",
       "      <th>Date</th>\n",
       "      <th></th>\n",
       "    </tr>\n",
       "  </thead>\n",
       "  <tbody>\n",
       "    <tr>\n",
       "      <th>2014-05-31</th>\n",
       "      <td>0.048131</td>\n",
       "    </tr>\n",
       "    <tr>\n",
       "      <th>2014-06-30</th>\n",
       "      <td>0.018564</td>\n",
       "    </tr>\n",
       "    <tr>\n",
       "      <th>2014-07-31</th>\n",
       "      <td>0.035012</td>\n",
       "    </tr>\n",
       "    <tr>\n",
       "      <th>2014-08-31</th>\n",
       "      <td>0.052595</td>\n",
       "    </tr>\n",
       "    <tr>\n",
       "      <th>2014-09-30</th>\n",
       "      <td>0.020471</td>\n",
       "    </tr>\n",
       "    <tr>\n",
       "      <th>...</th>\n",
       "      <td>...</td>\n",
       "    </tr>\n",
       "    <tr>\n",
       "      <th>2024-01-31</th>\n",
       "      <td>0.057281</td>\n",
       "    </tr>\n",
       "    <tr>\n",
       "      <th>2024-02-29</th>\n",
       "      <td>0.040394</td>\n",
       "    </tr>\n",
       "    <tr>\n",
       "      <th>2024-03-31</th>\n",
       "      <td>0.017116</td>\n",
       "    </tr>\n",
       "    <tr>\n",
       "      <th>2024-04-30</th>\n",
       "      <td>-0.074610</td>\n",
       "    </tr>\n",
       "    <tr>\n",
       "      <th>2024-05-31</th>\n",
       "      <td>0.044512</td>\n",
       "    </tr>\n",
       "  </tbody>\n",
       "</table>\n",
       "<p>121 rows × 1 columns</p>\n",
       "</div>"
      ],
      "text/plain": [
       "             Returns\n",
       "Date                \n",
       "2014-05-31  0.048131\n",
       "2014-06-30  0.018564\n",
       "2014-07-31  0.035012\n",
       "2014-08-31  0.052595\n",
       "2014-09-30  0.020471\n",
       "...              ...\n",
       "2024-01-31  0.057281\n",
       "2024-02-29  0.040394\n",
       "2024-03-31  0.017116\n",
       "2024-04-30 -0.074610\n",
       "2024-05-31  0.044512\n",
       "\n",
       "[121 rows x 1 columns]"
      ]
     },
     "execution_count": 40,
     "metadata": {},
     "output_type": "execute_result"
    }
   ],
   "source": [
    "# Microsoft\n",
    "msft_monthly_returns = msft['Returns'].resample('M').agg(lambda x: (x + 1).prod() - 1)      # cumulative return for each month    \n",
    "msft_monthly_returns = pd.DataFrame(msft_monthly_returns)\n",
    "msft_monthly_returns"
   ]
  },
  {
   "cell_type": "markdown",
   "id": "268272e6",
   "metadata": {},
   "source": [
    "### 3. Merge the dataframes and calculate / plot the correlation"
   ]
  },
  {
   "cell_type": "code",
   "execution_count": 41,
   "id": "0defb97b",
   "metadata": {},
   "outputs": [
    {
     "data": {
      "application/vnd.microsoft.datawrangler.viewer.v0+json": {
       "columns": [
        {
         "name": "Date",
         "rawType": "datetime64[ns]",
         "type": "datetime"
        },
        {
         "name": "Returns_Apple",
         "rawType": "float64",
         "type": "float"
        },
        {
         "name": "Returns_Microsoft",
         "rawType": "float64",
         "type": "float"
        },
        {
         "name": "Inflation",
         "rawType": "float64",
         "type": "float"
        }
       ],
       "conversionMethod": "pd.DataFrame",
       "ref": "cee73e95-4685-4ada-b234-aa5782858623",
       "rows": [
        [
         "2014-05-31 00:00:00",
         "0.06500235515779518",
         "0.04813108038914371",
         "0.05025067580776055"
        ],
        [
         "2014-06-30 00:00:00",
         "0.02742149491375523",
         "0.018563751831949693",
         "0.0071472955810480965"
        ],
        [
         "2014-07-31 00:00:00",
         "0.028842014636245805",
         "0.03501199040767311",
         "-0.020723620960982236"
        ],
        [
         "2014-08-31 00:00:00",
         "0.07238493723849304",
         "0.05259499536607959",
         "-0.06638742726916169"
        ],
        [
         "2014-09-30 00:00:00",
         "-0.01716738197424883",
         "0.020471054369359365",
         "-0.004516040442732239"
        ],
        [
         "2014-10-31 00:00:00",
         "0.07185391028185761",
         "0.012726488352027943",
         "0.02630180958583117"
        ],
        [
         "2014-11-30 00:00:00",
         "0.10111111111111093",
         "0.01831735889243835",
         "-0.0011571535421840418"
        ],
        [
         "2014-12-31 00:00:00",
         "-0.07164480322906153",
         "-0.028445931813427805",
         "-0.01896859010367924"
        ],
        [
         "2015-01-31 00:00:00",
         "0.06123188405797131",
         "-0.13024757804090425",
         "0.007719151184004236"
        ],
        [
         "2015-02-28 00:00:00",
         "0.09662000682826899",
         "0.08539603960396125",
         "-0.0019470087762127886"
        ],
        [
         "2015-03-31 00:00:00",
         "-0.031444582814445954",
         "-0.07286202964652233",
         "0.008663550174725865"
        ],
        [
         "2015-04-30 00:00:00",
         "0.005785920925747368",
         "0.19640880580494424",
         "0.03221944445282143"
        ],
        [
         "2015-05-31 00:00:00",
         "0.04090763822307397",
         "-0.036595394736842146",
         "0.0013882193688494748"
        ],
        [
         "2015-06-30 00:00:00",
         "-0.03715075222597475",
         "-0.05783183952198023",
         "0.02293683484224407"
        ],
        [
         "2015-07-31 00:00:00",
         "-0.03284438775510179",
         "0.057757644394110574",
         "0.012712170561649527"
        ],
        [
         "2015-08-31 00:00:00",
         "-0.0705572040883613",
         "-0.06809421841541752",
         "0.018179983337049288"
        ],
        [
         "2015-09-30 00:00:00",
         "-0.021638879035119296",
         "0.017003676470587648",
         "0.04579046628560568"
        ],
        [
         "2015-10-31 00:00:00",
         "0.08339376359680961",
         "0.1893357433348397",
         "0.02951507051243607"
        ],
        [
         "2015-11-30 00:00:00",
         "-0.010040160642570517",
         "0.03248480243161089",
         "0.025319290325122035"
        ],
        [
         "2015-12-31 00:00:00",
         "-0.11020960108181199",
         "0.02079116835326511",
         "0.017903429555776063"
        ],
        [
         "2016-01-31 00:00:00",
         "-0.0752279635258356",
         "-0.007029560201874618",
         "0.009592627190925684"
        ],
        [
         "2016-02-29 00:00:00",
         "-0.0069843878389480585",
         "-0.07642040297694708",
         "0.03144161090407138"
        ],
        [
         "2016-03-31 00:00:00",
         "0.12743069921390116",
         "0.08549528301886822",
         "-0.004743026010409546"
        ],
        [
         "2016-04-30 00:00:00",
         "-0.13981651376146764",
         "-0.09704870541372423",
         "0.002064749858879722"
        ],
        [
         "2016-05-31 00:00:00",
         "0.06527303754266178",
         "0.06276318427912586",
         "0.013529112003887178"
        ],
        [
         "2016-06-30 00:00:00",
         "-0.0428514217060475",
         "-0.034528301886792345",
         "-0.0007986193123220575"
        ],
        [
         "2016-07-31 00:00:00",
         "0.08995815899581627",
         "0.10768028141489139",
         "0.0023505741275355874"
        ],
        [
         "2016-08-31 00:00:00",
         "0.018426103646832948",
         "0.013761467889907397",
         "0.05708626255275506"
        ],
        [
         "2016-09-30 00:00:00",
         "0.06520919713531903",
         "0.002436477549599525",
         "-0.03370261605015856"
        ],
        [
         "2016-10-31 00:00:00",
         "0.00460014154281696",
         "0.04027777777777719",
         "-0.0466820507017871"
        ],
        [
         "2016-11-30 00:00:00",
         "-0.026769989432898655",
         "0.005674232309745841",
         "0.006512491867378012"
        ],
        [
         "2016-12-31 00:00:00",
         "0.048136083966703325",
         "0.03119814138732191",
         "0.02649208040772444"
        ],
        [
         "2017-01-31 00:00:00",
         "0.047651933701657656",
         "0.0403926617315733",
         "0.025704312791698936"
        ],
        [
         "2017-02-28 00:00:00",
         "0.1288727752142389",
         "-0.010363495746326334",
         "0.004837203058068784"
        ],
        [
         "2017-03-31 00:00:00",
         "0.048759124087590866",
         "0.029384182557048444",
         "-0.08555989981107615"
        ],
        [
         "2017-04-30 00:00:00",
         "-0.00027839643652527446",
         "0.03947767992711815",
         "-0.08245717573687117"
        ],
        [
         "2017-05-31 00:00:00",
         "0.06349206349206327",
         "0.020157756354075573",
         "-0.042957106409169166"
        ],
        [
         "2017-06-30 00:00:00",
         "-0.05708300602251848",
         "-0.013029782359679443",
         "-0.008190653167784778"
        ],
        [
         "2017-07-31 00:00:00",
         "0.032490974729241895",
         "0.054693166980995134",
         "0.004555845152157678"
        ],
        [
         "2017-08-31 00:00:00",
         "0.10274341043571833",
         "0.0284731774415401",
         "-0.026611601494903048"
        ],
        [
         "2017-09-30 00:00:00",
         "-0.06024390243902389",
         "-0.0037448174401496503",
         "0.007858617178309713"
        ],
        [
         "2017-10-31 00:00:00",
         "0.09680768232546022",
         "0.1166599543562894",
         "0.04123022692475797"
        ],
        [
         "2017-11-30 00:00:00",
         "0.016564126833885418",
         "0.011901899495071255",
         "-0.035717615096751865"
        ],
        [
         "2017-12-31 00:00:00",
         "-0.01513035381750416",
         "0.016276583105619746",
         "0.008278395639971903"
        ],
        [
         "2018-01-31 00:00:00",
         "-0.010635783502717433",
         "0.11070844049567441",
         "0.019193873377209236"
        ],
        [
         "2018-02-28 00:00:00",
         "0.0637840420449114",
         "-0.013051257762340951",
         "-0.016091217861705975"
        ],
        [
         "2018-03-31 00:00:00",
         "-0.05793846844823669",
         "-0.026660978991148387",
         "0.11484333529116131"
        ],
        [
         "2018-04-30 00:00:00",
         "-0.01501787842669855",
         "0.02465213103977293",
         "0.05267044794406228"
        ],
        [
         "2018-05-31 00:00:00",
         "0.1306873184898354",
         "0.05688622754491046",
         "0.02071767769361932"
        ],
        [
         "2018-06-30 00:00:00",
         "-0.009417808219177592",
         "-0.0023269931201936878",
         "0.0034149728768186893"
        ]
       ],
       "shape": {
        "columns": 3,
        "rows": 119
       }
      },
      "text/html": [
       "<div>\n",
       "<style scoped>\n",
       "    .dataframe tbody tr th:only-of-type {\n",
       "        vertical-align: middle;\n",
       "    }\n",
       "\n",
       "    .dataframe tbody tr th {\n",
       "        vertical-align: top;\n",
       "    }\n",
       "\n",
       "    .dataframe thead th {\n",
       "        text-align: right;\n",
       "    }\n",
       "</style>\n",
       "<table border=\"1\" class=\"dataframe\">\n",
       "  <thead>\n",
       "    <tr style=\"text-align: right;\">\n",
       "      <th></th>\n",
       "      <th>Returns_Apple</th>\n",
       "      <th>Returns_Microsoft</th>\n",
       "      <th>Inflation</th>\n",
       "    </tr>\n",
       "    <tr>\n",
       "      <th>Date</th>\n",
       "      <th></th>\n",
       "      <th></th>\n",
       "      <th></th>\n",
       "    </tr>\n",
       "  </thead>\n",
       "  <tbody>\n",
       "    <tr>\n",
       "      <th>2014-05-31</th>\n",
       "      <td>0.065002</td>\n",
       "      <td>0.048131</td>\n",
       "      <td>0.050251</td>\n",
       "    </tr>\n",
       "    <tr>\n",
       "      <th>2014-06-30</th>\n",
       "      <td>0.027421</td>\n",
       "      <td>0.018564</td>\n",
       "      <td>0.007147</td>\n",
       "    </tr>\n",
       "    <tr>\n",
       "      <th>2014-07-31</th>\n",
       "      <td>0.028842</td>\n",
       "      <td>0.035012</td>\n",
       "      <td>-0.020724</td>\n",
       "    </tr>\n",
       "    <tr>\n",
       "      <th>2014-08-31</th>\n",
       "      <td>0.072385</td>\n",
       "      <td>0.052595</td>\n",
       "      <td>-0.066387</td>\n",
       "    </tr>\n",
       "    <tr>\n",
       "      <th>2014-09-30</th>\n",
       "      <td>-0.017167</td>\n",
       "      <td>0.020471</td>\n",
       "      <td>-0.004516</td>\n",
       "    </tr>\n",
       "    <tr>\n",
       "      <th>...</th>\n",
       "      <td>...</td>\n",
       "      <td>...</td>\n",
       "      <td>...</td>\n",
       "    </tr>\n",
       "    <tr>\n",
       "      <th>2023-11-30</th>\n",
       "      <td>0.112315</td>\n",
       "      <td>0.120671</td>\n",
       "      <td>-0.039860</td>\n",
       "    </tr>\n",
       "    <tr>\n",
       "      <th>2023-12-31</th>\n",
       "      <td>0.013583</td>\n",
       "      <td>-0.007574</td>\n",
       "      <td>-0.028560</td>\n",
       "    </tr>\n",
       "    <tr>\n",
       "      <th>2024-01-31</th>\n",
       "      <td>-0.042227</td>\n",
       "      <td>0.057281</td>\n",
       "      <td>0.010874</td>\n",
       "    </tr>\n",
       "    <tr>\n",
       "      <th>2024-02-29</th>\n",
       "      <td>-0.019794</td>\n",
       "      <td>0.040394</td>\n",
       "      <td>-0.043619</td>\n",
       "    </tr>\n",
       "    <tr>\n",
       "      <th>2024-03-31</th>\n",
       "      <td>-0.051286</td>\n",
       "      <td>0.017116</td>\n",
       "      <td>0.024099</td>\n",
       "    </tr>\n",
       "  </tbody>\n",
       "</table>\n",
       "<p>119 rows × 3 columns</p>\n",
       "</div>"
      ],
      "text/plain": [
       "            Returns_Apple  Returns_Microsoft  Inflation\n",
       "Date                                                   \n",
       "2014-05-31       0.065002           0.048131   0.050251\n",
       "2014-06-30       0.027421           0.018564   0.007147\n",
       "2014-07-31       0.028842           0.035012  -0.020724\n",
       "2014-08-31       0.072385           0.052595  -0.066387\n",
       "2014-09-30      -0.017167           0.020471  -0.004516\n",
       "...                   ...                ...        ...\n",
       "2023-11-30       0.112315           0.120671  -0.039860\n",
       "2023-12-31       0.013583          -0.007574  -0.028560\n",
       "2024-01-31      -0.042227           0.057281   0.010874\n",
       "2024-02-29      -0.019794           0.040394  -0.043619\n",
       "2024-03-31      -0.051286           0.017116   0.024099\n",
       "\n",
       "[119 rows x 3 columns]"
      ]
     },
     "execution_count": 41,
     "metadata": {},
     "output_type": "execute_result"
    }
   ],
   "source": [
    "merged_df = aapl_monthly_returns.merge(msft_monthly_returns, on='Date', suffixes=('_Apple', '_Microsoft')).merge(inflation_monthly_change, on='Date')\n",
    "merged_df"
   ]
  },
  {
   "cell_type": "markdown",
   "id": "e1352272",
   "metadata": {},
   "source": [
    "### 4. Calculate the correlation matrix between the Apple returns, Microsoft returns, and inflation change"
   ]
  },
  {
   "cell_type": "code",
   "execution_count": 42,
   "id": "8176f9ff",
   "metadata": {},
   "outputs": [],
   "source": [
    "# Calculate correlation matrix\n",
    "correlation_matrix = merged_df.corr()"
   ]
  },
  {
   "cell_type": "markdown",
   "id": "43b0ac07",
   "metadata": {},
   "source": [
    "### 5. Plot the correlation matrix as a heatmap "
   ]
  },
  {
   "cell_type": "code",
   "execution_count": 43,
   "id": "0f731a65",
   "metadata": {},
   "outputs": [
    {
     "data": {
      "image/png": "[encoded data removed]",
      "text/plain": [
       "<Figure size 800x600 with 2 Axes>"
      ]
     },
     "metadata": {},
     "output_type": "display_data"
    }
   ],
   "source": [
    "# Plot heatmap\n",
    "plt.figure(figsize=(8, 6))\n",
    "sns.heatmap(correlation_matrix, annot=True, cmap='coolwarm', fmt='.2f')\n",
    "plt.title('Heatmap of Apple, Microsoft, and Inflation Correlations')\n",
    "plt.show()"
   ]
  },
  {
   "cell_type": "markdown",
   "id": "624a2410",
   "metadata": {},
   "source": [
    "## Calculating rolling volatility (standard deviation) of a stock's price for last 3 months\n",
    "\n",
    "Volatility is a measure of the dispersion of returns for a given security. By calculating rolling volatility, investors can assess the risk associated with a stock over time: Higher volatility indicates higher risk, as the stock's price is more likely to experience significant fluctuations. In portfolio optimization, understanding the volatility of individual stocks and how it changes over time is crucial for diversification and optimization. By analyzing rolling volatility, investors can adjust their portfolios to maintain a desired risk level, potentially improving the risk-return profile.\n",
    "\n",
    "One possible way to calculate volatility is by using the standard deviation of returns for a stock over time.\n",
    "\n",
    "Your task:\n",
    "* Calculate the weekly rolling standard deviation for Apple's closing price\n",
    "* Plot the calculated rolling weekly volatility of Apple's closing price against Apple's closing price. Plot these **on the same chart, but using different y-axes**\n",
    "\n",
    "Helpful hints:\n",
    "* You'll need to use the `pandas` `rolling()` method with a given `window_size` parameter to make it a _weekly_ rolling calculation\n",
    "* Use **only the last three months of data**; data much older than this may not be as useful for portfolio optimization\n",
    "* You'll need to create two axes on the matplotlib figure to be able to use two different y-axes (one for the closing price and one for the rolling volatility calculated here)"
   ]
  },
  {
   "cell_type": "code",
   "execution_count": 44,
   "id": "4da9eb94",
   "metadata": {},
   "outputs": [],
   "source": [
    "# Define the window size for the rolling calculation (e.g., one week)\n",
    "one_week = 5"
   ]
  },
  {
   "cell_type": "code",
   "execution_count": 45,
   "id": "2c5142b4",
   "metadata": {},
   "outputs": [
    {
     "data": {
      "application/vnd.microsoft.datawrangler.viewer.v0+json": {
       "columns": [
        {
         "name": "Date",
         "rawType": "datetime64[ns]",
         "type": "datetime"
        },
        {
         "name": "Close/Last",
         "rawType": "float64",
         "type": "float"
        },
        {
         "name": "Volume",
         "rawType": "int64",
         "type": "integer"
        },
        {
         "name": "Open",
         "rawType": "float64",
         "type": "float"
        },
        {
         "name": "High",
         "rawType": "float64",
         "type": "float"
        },
        {
         "name": "Low",
         "rawType": "float64",
         "type": "float"
        },
        {
         "name": "Returns",
         "rawType": "float64",
         "type": "float"
        },
        {
         "name": "Weekly Volatility",
         "rawType": "float64",
         "type": "float"
        }
       ],
       "conversionMethod": "pd.DataFrame",
       "ref": "76b6ab00-b202-4bfe-8959-4f8e24e8029c",
       "rows": [
        [
         "2024-04-08 00:00:00",
         "169.67",
         "37425510",
         "169.03",
         "169.2",
         "168.24",
         "0.0005307229626134724",
         "0.005376627152115816"
        ],
        [
         "2024-04-09 00:00:00",
         "169.67",
         "42451210",
         "168.7",
         "170.08",
         "168.35",
         "0.0",
         "0.003956751793433751"
        ],
        [
         "2024-04-10 00:00:00",
         "167.78",
         "49709340",
         "168.8",
         "169.09",
         "167.11",
         "-0.011139270348323183",
         "0.006007727671220367"
        ],
        [
         "2024-04-11 00:00:00",
         "175.04",
         "91070280",
         "168.34",
         "175.46",
         "168.16",
         "0.04327095005364168",
         "0.02086127110163947"
        ],
        [
         "2024-04-12 00:00:00",
         "176.55",
         "101670900",
         "174.26",
         "178.36",
         "174.21",
         "0.008626599634369292",
         "0.02079784849647109"
        ],
        [
         "2024-04-15 00:00:00",
         "172.69",
         "73531770",
         "175.36",
         "176.63",
         "172.5",
         "-0.02186349476069105",
         "0.024887177973722373"
        ],
        [
         "2024-04-16 00:00:00",
         "169.38",
         "73711240",
         "171.75",
         "173.76",
         "168.27",
         "-0.01916729399502004",
         "0.027001200869847596"
        ],
        [
         "2024-04-17 00:00:00",
         "168.0",
         "50901210",
         "169.61",
         "170.65",
         "168.0",
         "-0.008147360963513983",
         "0.026725883359912127"
        ],
        [
         "2024-04-18 00:00:00",
         "167.04",
         "43122900",
         "168.03",
         "168.64",
         "166.55",
         "-0.005714285714285783",
         "0.012152600780796574"
        ],
        [
         "2024-04-19 00:00:00",
         "165.0",
         "68149380",
         "166.21",
         "166.4",
         "164.08",
         "-0.012212643678160884",
         "0.006945510262564838"
        ],
        [
         "2024-04-22 00:00:00",
         "165.84",
         "48116440",
         "165.52",
         "167.26",
         "164.77",
         "0.005090909090909035",
         "0.008931242735469512"
        ],
        [
         "2024-04-23 00:00:00",
         "166.9",
         "49537760",
         "165.35",
         "167.05",
         "164.92",
         "0.006391702846116676",
         "0.008251803171620373"
        ],
        [
         "2024-04-24 00:00:00",
         "169.02",
         "48251840",
         "166.54",
         "169.3",
         "166.21",
         "0.012702216896345098",
         "0.010026053566563942"
        ],
        [
         "2024-04-25 00:00:00",
         "169.89",
         "50558330",
         "169.53",
         "170.61",
         "168.15",
         "0.0051473198438052314",
         "0.00928904747039035"
        ],
        [
         "2024-04-26 00:00:00",
         "169.3",
         "44838350",
         "169.88",
         "171.34",
         "169.18",
         "-0.003472835364058957",
         "0.0057648114618317516"
        ],
        [
         "2024-04-29 00:00:00",
         "173.5",
         "68169420",
         "173.37",
         "176.03",
         "173.1",
         "0.024808033077377445",
         "0.010497045348320659"
        ],
        [
         "2024-04-30 00:00:00",
         "170.33",
         "65934780",
         "173.33",
         "174.99",
         "170.0",
         "-0.0182708933717578",
         "0.016291777842935725"
        ],
        [
         "2024-05-01 00:00:00",
         "169.3",
         "50383150",
         "169.58",
         "172.71",
         "169.11",
         "-0.006047085070157943",
         "0.015995700428085177"
        ],
        [
         "2024-05-02 00:00:00",
         "173.03",
         "94214920",
         "172.51",
         "173.42",
         "170.89",
         "0.022031896042528087",
         "0.018779793379202003"
        ],
        [
         "2024-05-03 00:00:00",
         "183.38",
         "163224100",
         "186.65",
         "187.0",
         "182.66",
         "0.05981621684101013",
         "0.030386266478206362"
        ]
       ],
       "shape": {
        "columns": 7,
        "rows": 20
       }
      },
      "text/html": [
       "<div>\n",
       "<style scoped>\n",
       "    .dataframe tbody tr th:only-of-type {\n",
       "        vertical-align: middle;\n",
       "    }\n",
       "\n",
       "    .dataframe tbody tr th {\n",
       "        vertical-align: top;\n",
       "    }\n",
       "\n",
       "    .dataframe thead th {\n",
       "        text-align: right;\n",
       "    }\n",
       "</style>\n",
       "<table border=\"1\" class=\"dataframe\">\n",
       "  <thead>\n",
       "    <tr style=\"text-align: right;\">\n",
       "      <th></th>\n",
       "      <th>Close/Last</th>\n",
       "      <th>Volume</th>\n",
       "      <th>Open</th>\n",
       "      <th>High</th>\n",
       "      <th>Low</th>\n",
       "      <th>Returns</th>\n",
       "      <th>Weekly Volatility</th>\n",
       "    </tr>\n",
       "    <tr>\n",
       "      <th>Date</th>\n",
       "      <th></th>\n",
       "      <th></th>\n",
       "      <th></th>\n",
       "      <th></th>\n",
       "      <th></th>\n",
       "      <th></th>\n",
       "      <th></th>\n",
       "    </tr>\n",
       "  </thead>\n",
       "  <tbody>\n",
       "    <tr>\n",
       "      <th>2024-04-08</th>\n",
       "      <td>169.67</td>\n",
       "      <td>37425510</td>\n",
       "      <td>169.03</td>\n",
       "      <td>169.20</td>\n",
       "      <td>168.24</td>\n",
       "      <td>0.000531</td>\n",
       "      <td>0.005377</td>\n",
       "    </tr>\n",
       "    <tr>\n",
       "      <th>2024-04-09</th>\n",
       "      <td>169.67</td>\n",
       "      <td>42451210</td>\n",
       "      <td>168.70</td>\n",
       "      <td>170.08</td>\n",
       "      <td>168.35</td>\n",
       "      <td>0.000000</td>\n",
       "      <td>0.003957</td>\n",
       "    </tr>\n",
       "    <tr>\n",
       "      <th>2024-04-10</th>\n",
       "      <td>167.78</td>\n",
       "      <td>49709340</td>\n",
       "      <td>168.80</td>\n",
       "      <td>169.09</td>\n",
       "      <td>167.11</td>\n",
       "      <td>-0.011139</td>\n",
       "      <td>0.006008</td>\n",
       "    </tr>\n",
       "    <tr>\n",
       "      <th>2024-04-11</th>\n",
       "      <td>175.04</td>\n",
       "      <td>91070280</td>\n",
       "      <td>168.34</td>\n",
       "      <td>175.46</td>\n",
       "      <td>168.16</td>\n",
       "      <td>0.043271</td>\n",
       "      <td>0.020861</td>\n",
       "    </tr>\n",
       "    <tr>\n",
       "      <th>2024-04-12</th>\n",
       "      <td>176.55</td>\n",
       "      <td>101670900</td>\n",
       "      <td>174.26</td>\n",
       "      <td>178.36</td>\n",
       "      <td>174.21</td>\n",
       "      <td>0.008627</td>\n",
       "      <td>0.020798</td>\n",
       "    </tr>\n",
       "    <tr>\n",
       "      <th>2024-04-15</th>\n",
       "      <td>172.69</td>\n",
       "      <td>73531770</td>\n",
       "      <td>175.36</td>\n",
       "      <td>176.63</td>\n",
       "      <td>172.50</td>\n",
       "      <td>-0.021863</td>\n",
       "      <td>0.024887</td>\n",
       "    </tr>\n",
       "    <tr>\n",
       "      <th>2024-04-16</th>\n",
       "      <td>169.38</td>\n",
       "      <td>73711240</td>\n",
       "      <td>171.75</td>\n",
       "      <td>173.76</td>\n",
       "      <td>168.27</td>\n",
       "      <td>-0.019167</td>\n",
       "      <td>0.027001</td>\n",
       "    </tr>\n",
       "    <tr>\n",
       "      <th>2024-04-17</th>\n",
       "      <td>168.00</td>\n",
       "      <td>50901210</td>\n",
       "      <td>169.61</td>\n",
       "      <td>170.65</td>\n",
       "      <td>168.00</td>\n",
       "      <td>-0.008147</td>\n",
       "      <td>0.026726</td>\n",
       "    </tr>\n",
       "    <tr>\n",
       "      <th>2024-04-18</th>\n",
       "      <td>167.04</td>\n",
       "      <td>43122900</td>\n",
       "      <td>168.03</td>\n",
       "      <td>168.64</td>\n",
       "      <td>166.55</td>\n",
       "      <td>-0.005714</td>\n",
       "      <td>0.012153</td>\n",
       "    </tr>\n",
       "    <tr>\n",
       "      <th>2024-04-19</th>\n",
       "      <td>165.00</td>\n",
       "      <td>68149380</td>\n",
       "      <td>166.21</td>\n",
       "      <td>166.40</td>\n",
       "      <td>164.08</td>\n",
       "      <td>-0.012213</td>\n",
       "      <td>0.006946</td>\n",
       "    </tr>\n",
       "    <tr>\n",
       "      <th>2024-04-22</th>\n",
       "      <td>165.84</td>\n",
       "      <td>48116440</td>\n",
       "      <td>165.52</td>\n",
       "      <td>167.26</td>\n",
       "      <td>164.77</td>\n",
       "      <td>0.005091</td>\n",
       "      <td>0.008931</td>\n",
       "    </tr>\n",
       "    <tr>\n",
       "      <th>2024-04-23</th>\n",
       "      <td>166.90</td>\n",
       "      <td>49537760</td>\n",
       "      <td>165.35</td>\n",
       "      <td>167.05</td>\n",
       "      <td>164.92</td>\n",
       "      <td>0.006392</td>\n",
       "      <td>0.008252</td>\n",
       "    </tr>\n",
       "    <tr>\n",
       "      <th>2024-04-24</th>\n",
       "      <td>169.02</td>\n",
       "      <td>48251840</td>\n",
       "      <td>166.54</td>\n",
       "      <td>169.30</td>\n",
       "      <td>166.21</td>\n",
       "      <td>0.012702</td>\n",
       "      <td>0.010026</td>\n",
       "    </tr>\n",
       "    <tr>\n",
       "      <th>2024-04-25</th>\n",
       "      <td>169.89</td>\n",
       "      <td>50558330</td>\n",
       "      <td>169.53</td>\n",
       "      <td>170.61</td>\n",
       "      <td>168.15</td>\n",
       "      <td>0.005147</td>\n",
       "      <td>0.009289</td>\n",
       "    </tr>\n",
       "    <tr>\n",
       "      <th>2024-04-26</th>\n",
       "      <td>169.30</td>\n",
       "      <td>44838350</td>\n",
       "      <td>169.88</td>\n",
       "      <td>171.34</td>\n",
       "      <td>169.18</td>\n",
       "      <td>-0.003473</td>\n",
       "      <td>0.005765</td>\n",
       "    </tr>\n",
       "    <tr>\n",
       "      <th>2024-04-29</th>\n",
       "      <td>173.50</td>\n",
       "      <td>68169420</td>\n",
       "      <td>173.37</td>\n",
       "      <td>176.03</td>\n",
       "      <td>173.10</td>\n",
       "      <td>0.024808</td>\n",
       "      <td>0.010497</td>\n",
       "    </tr>\n",
       "    <tr>\n",
       "      <th>2024-04-30</th>\n",
       "      <td>170.33</td>\n",
       "      <td>65934780</td>\n",
       "      <td>173.33</td>\n",
       "      <td>174.99</td>\n",
       "      <td>170.00</td>\n",
       "      <td>-0.018271</td>\n",
       "      <td>0.016292</td>\n",
       "    </tr>\n",
       "    <tr>\n",
       "      <th>2024-05-01</th>\n",
       "      <td>169.30</td>\n",
       "      <td>50383150</td>\n",
       "      <td>169.58</td>\n",
       "      <td>172.71</td>\n",
       "      <td>169.11</td>\n",
       "      <td>-0.006047</td>\n",
       "      <td>0.015996</td>\n",
       "    </tr>\n",
       "    <tr>\n",
       "      <th>2024-05-02</th>\n",
       "      <td>173.03</td>\n",
       "      <td>94214920</td>\n",
       "      <td>172.51</td>\n",
       "      <td>173.42</td>\n",
       "      <td>170.89</td>\n",
       "      <td>0.022032</td>\n",
       "      <td>0.018780</td>\n",
       "    </tr>\n",
       "    <tr>\n",
       "      <th>2024-05-03</th>\n",
       "      <td>183.38</td>\n",
       "      <td>163224100</td>\n",
       "      <td>186.65</td>\n",
       "      <td>187.00</td>\n",
       "      <td>182.66</td>\n",
       "      <td>0.059816</td>\n",
       "      <td>0.030386</td>\n",
       "    </tr>\n",
       "  </tbody>\n",
       "</table>\n",
       "</div>"
      ],
      "text/plain": [
       "            Close/Last     Volume    Open    High     Low   Returns  \\\n",
       "Date                                                                  \n",
       "2024-04-08      169.67   37425510  169.03  169.20  168.24  0.000531   \n",
       "2024-04-09      169.67   42451210  168.70  170.08  168.35  0.000000   \n",
       "2024-04-10      167.78   49709340  168.80  169.09  167.11 -0.011139   \n",
       "2024-04-11      175.04   91070280  168.34  175.46  168.16  0.043271   \n",
       "2024-04-12      176.55  101670900  174.26  178.36  174.21  0.008627   \n",
       "2024-04-15      172.69   73531770  175.36  176.63  172.50 -0.021863   \n",
       "2024-04-16      169.38   73711240  171.75  173.76  168.27 -0.019167   \n",
       "2024-04-17      168.00   50901210  169.61  170.65  168.00 -0.008147   \n",
       "2024-04-18      167.04   43122900  168.03  168.64  166.55 -0.005714   \n",
       "2024-04-19      165.00   68149380  166.21  166.40  164.08 -0.012213   \n",
       "2024-04-22      165.84   48116440  165.52  167.26  164.77  0.005091   \n",
       "2024-04-23      166.90   49537760  165.35  167.05  164.92  0.006392   \n",
       "2024-04-24      169.02   48251840  166.54  169.30  166.21  0.012702   \n",
       "2024-04-25      169.89   50558330  169.53  170.61  168.15  0.005147   \n",
       "2024-04-26      169.30   44838350  169.88  171.34  169.18 -0.003473   \n",
       "2024-04-29      173.50   68169420  173.37  176.03  173.10  0.024808   \n",
       "2024-04-30      170.33   65934780  173.33  174.99  170.00 -0.018271   \n",
       "2024-05-01      169.30   50383150  169.58  172.71  169.11 -0.006047   \n",
       "2024-05-02      173.03   94214920  172.51  173.42  170.89  0.022032   \n",
       "2024-05-03      183.38  163224100  186.65  187.00  182.66  0.059816   \n",
       "\n",
       "            Weekly Volatility  \n",
       "Date                           \n",
       "2024-04-08           0.005377  \n",
       "2024-04-09           0.003957  \n",
       "2024-04-10           0.006008  \n",
       "2024-04-11           0.020861  \n",
       "2024-04-12           0.020798  \n",
       "2024-04-15           0.024887  \n",
       "2024-04-16           0.027001  \n",
       "2024-04-17           0.026726  \n",
       "2024-04-18           0.012153  \n",
       "2024-04-19           0.006946  \n",
       "2024-04-22           0.008931  \n",
       "2024-04-23           0.008252  \n",
       "2024-04-24           0.010026  \n",
       "2024-04-25           0.009289  \n",
       "2024-04-26           0.005765  \n",
       "2024-04-29           0.010497  \n",
       "2024-04-30           0.016292  \n",
       "2024-05-01           0.015996  \n",
       "2024-05-02           0.018780  \n",
       "2024-05-03           0.030386  "
      ]
     },
     "execution_count": 45,
     "metadata": {},
     "output_type": "execute_result"
    }
   ],
   "source": [
    "# Calculate rolling one-week volatility\n",
    "aapl['Weekly Volatility'] = aapl['Returns'].rolling(window=one_week).std()\n",
    "aapl.dropna(inplace=True)\n",
    "aapl.tail(20)"
   ]
  },
  {
   "cell_type": "code",
   "execution_count": 46,
   "id": "e9d88843",
   "metadata": {},
   "outputs": [
    {
     "data": {
      "text/plain": [
       "Timestamp('2024-02-03 00:00:00')"
      ]
     },
     "execution_count": 46,
     "metadata": {},
     "output_type": "execute_result"
    }
   ],
   "source": [
    "three_months_earlier = aapl.index.max() - pd.DateOffset(months=3)\n",
    "three_months_earlier"
   ]
  },
  {
   "cell_type": "code",
   "execution_count": 47,
   "id": "1cd2fc8f",
   "metadata": {},
   "outputs": [
    {
     "data": {
      "application/vnd.microsoft.datawrangler.viewer.v0+json": {
       "columns": [
        {
         "name": "Date",
         "rawType": "datetime64[ns]",
         "type": "datetime"
        },
        {
         "name": "Close/Last",
         "rawType": "float64",
         "type": "float"
        },
        {
         "name": "Volume",
         "rawType": "int64",
         "type": "integer"
        },
        {
         "name": "Open",
         "rawType": "float64",
         "type": "float"
        },
        {
         "name": "High",
         "rawType": "float64",
         "type": "float"
        },
        {
         "name": "Low",
         "rawType": "float64",
         "type": "float"
        },
        {
         "name": "Returns",
         "rawType": "float64",
         "type": "float"
        },
        {
         "name": "Weekly Volatility",
         "rawType": "float64",
         "type": "float"
        }
       ],
       "conversionMethod": "pd.DataFrame",
       "ref": "eee65d1e-290a-4841-b9b6-e12026766190",
       "rows": [
        [
         "2024-02-05 00:00:00",
         "187.68",
         "69668820",
         "188.15",
         "189.25",
         "185.84",
         "0.00984665052461664",
         "0.015512531734942757"
        ],
        [
         "2024-02-06 00:00:00",
         "189.3",
         "43490760",
         "186.86",
         "189.31",
         "186.77",
         "0.008631713554987153",
         "0.013632744589152385"
        ],
        [
         "2024-02-07 00:00:00",
         "189.41",
         "53438960",
         "190.64",
         "191.05",
         "188.61",
         "0.0005810882197569978",
         "0.007636125817631109"
        ],
        [
         "2024-02-08 00:00:00",
         "188.32",
         "40962050",
         "189.39",
         "189.54",
         "187.35",
         "-0.005754712000422435",
         "0.007443988298436949"
        ],
        [
         "2024-02-09 00:00:00",
         "188.85",
         "45155220",
         "188.65",
         "189.99",
         "188.0",
         "0.0028143585386575243",
         "0.006341784521984363"
        ],
        [
         "2024-02-12 00:00:00",
         "187.15",
         "41781930",
         "188.42",
         "188.67",
         "186.79",
         "-0.009001853322742837",
         "0.006989722804037678"
        ],
        [
         "2024-02-13 00:00:00",
         "185.04",
         "56529530",
         "185.77",
         "186.21",
         "183.51",
         "-0.011274378840502308",
         "0.006063143174908861"
        ],
        [
         "2024-02-14 00:00:00",
         "184.15",
         "54630520",
         "185.32",
         "185.53",
         "182.44",
         "-0.00480977086035439",
         "0.005367049232013974"
        ],
        [
         "2024-02-15 00:00:00",
         "183.86",
         "65434500",
         "183.55",
         "184.49",
         "181.35",
         "-0.0015748031496062298",
         "0.005655724604309038"
        ],
        [
         "2024-02-16 00:00:00",
         "182.31",
         "49752470",
         "183.42",
         "184.85",
         "181.67",
         "-0.008430327423039286",
         "0.0038259564561762484"
        ],
        [
         "2024-02-20 00:00:00",
         "181.56",
         "53665550",
         "181.79",
         "182.43",
         "180.0",
         "-0.004113871976304084",
         "0.003816863924099811"
        ],
        [
         "2024-02-21 00:00:00",
         "182.32",
         "41529670",
         "181.94",
         "182.89",
         "180.66",
         "0.004185944040537404",
         "0.004681350973207557"
        ],
        [
         "2024-02-22 00:00:00",
         "184.37",
         "52292210",
         "183.48",
         "184.96",
         "182.46",
         "0.011243966652040527",
         "0.007649829828296798"
        ],
        [
         "2024-02-23 00:00:00",
         "182.52",
         "45119680",
         "185.01",
         "185.04",
         "182.23",
         "-0.010034170418180777",
         "0.008977858306532286"
        ],
        [
         "2024-02-26 00:00:00",
         "181.16",
         "40867420",
         "182.24",
         "182.76",
         "180.65",
         "-0.007451238220469114",
         "0.008795825120072539"
        ],
        [
         "2024-02-27 00:00:00",
         "182.63",
         "54318850",
         "181.1",
         "183.92",
         "179.56",
         "0.008114374034003058",
         "0.00946910120676617"
        ],
        [
         "2024-02-28 00:00:00",
         "181.42",
         "48953940",
         "182.51",
         "183.12",
         "180.13",
         "-0.006625417510814247",
         "0.009847008589056268"
        ],
        [
         "2024-02-29 00:00:00",
         "180.75",
         "136682600",
         "181.27",
         "182.57",
         "179.53",
         "-0.0036930878624186203",
         "0.007107180369299701"
        ],
        [
         "2024-03-01 00:00:00",
         "179.66",
         "73563080",
         "179.55",
         "180.53",
         "177.38",
         "-0.006030428769018048",
         "0.006443141497561788"
        ],
        [
         "2024-03-04 00:00:00",
         "175.1",
         "81510100",
         "176.15",
         "176.9",
         "173.79",
         "-0.025381275743070253",
         "0.012020279391545782"
        ],
        [
         "2024-03-05 00:00:00",
         "170.12",
         "95132360",
         "170.76",
         "172.04",
         "169.62",
         "-0.02844089091947455",
         "0.011855356208252666"
        ],
        [
         "2024-03-06 00:00:00",
         "169.12",
         "68587710",
         "171.06",
         "171.24",
         "168.68",
         "-0.005878203620973466",
         "0.01197618957213136"
        ],
        [
         "2024-03-07 00:00:00",
         "169.0",
         "71765060",
         "169.15",
         "170.73",
         "168.49",
         "-0.0007095553453169146",
         "0.012665426501628944"
        ],
        [
         "2024-03-08 00:00:00",
         "170.73",
         "76267040",
         "169.0",
         "173.7",
         "168.94",
         "0.010236686390532546",
         "0.016503553726108882"
        ],
        [
         "2024-03-11 00:00:00",
         "172.75",
         "60139470",
         "172.94",
         "174.38",
         "172.05",
         "0.01183154688689747",
         "0.01624131916712591"
        ],
        [
         "2024-03-12 00:00:00",
         "173.23",
         "59825370",
         "173.15",
         "174.03",
         "171.01",
         "0.002778581765557009",
         "0.007430913259118498"
        ],
        [
         "2024-03-13 00:00:00",
         "171.13",
         "52488690",
         "172.77",
         "173.19",
         "170.76",
         "-0.01212261155688965",
         "0.009631803989658688"
        ],
        [
         "2024-03-14 00:00:00",
         "173.0",
         "72913510",
         "172.91",
         "174.31",
         "172.05",
         "0.010927365160988689",
         "0.01008689058940029"
        ],
        [
         "2024-03-15 00:00:00",
         "172.62",
         "121752700",
         "171.17",
         "172.62",
         "170.29",
         "-0.0021965317919074856",
         "0.009921258906622118"
        ],
        [
         "2024-03-18 00:00:00",
         "173.72",
         "75604180",
         "175.57",
         "177.71",
         "173.52",
         "0.006372378635152387",
         "0.008844261732601739"
        ],
        [
         "2024-03-19 00:00:00",
         "176.08",
         "55215240",
         "174.34",
         "176.61",
         "173.03",
         "0.01358507943817644",
         "0.010505558231611308"
        ],
        [
         "2024-03-20 00:00:00",
         "178.67",
         "53423100",
         "175.72",
         "178.67",
         "175.09",
         "0.014709223080417777",
         "0.0068754280660090865"
        ],
        [
         "2024-03-21 00:00:00",
         "171.37",
         "106181300",
         "177.05",
         "177.49",
         "170.84",
         "-0.04085744668942737",
         "0.022921655628688822"
        ],
        [
         "2024-03-22 00:00:00",
         "172.28",
         "71160140",
         "171.76",
         "173.05",
         "170.06",
         "0.005310147633774909",
         "0.0231241019108574"
        ],
        [
         "2024-03-25 00:00:00",
         "170.85",
         "54288330",
         "170.57",
         "171.94",
         "169.45",
         "-0.008300441142326531",
         "0.02301607961442872"
        ],
        [
         "2024-03-26 00:00:00",
         "169.71",
         "57388450",
         "170.0",
         "171.42",
         "169.58",
         "-0.00667251975417027",
         "0.021040577654633873"
        ],
        [
         "2024-03-27 00:00:00",
         "173.31",
         "60273270",
         "170.41",
         "173.6",
         "170.11",
         "0.02121265688527485",
         "0.022853545422571887"
        ],
        [
         "2024-03-28 00:00:00",
         "171.48",
         "65672690",
         "171.75",
         "172.23",
         "170.51",
         "-0.010559113726847924",
         "0.0132560636748167"
        ],
        [
         "2024-04-01 00:00:00",
         "170.03",
         "46240500",
         "171.19",
         "171.25",
         "169.48",
         "-0.008455796594354914",
         "0.013358057621274589"
        ],
        [
         "2024-04-02 00:00:00",
         "168.84",
         "49329480",
         "169.08",
         "169.34",
         "168.23",
         "-0.0069987649238369976",
         "0.013230164453178256"
        ],
        [
         "2024-04-03 00:00:00",
         "169.65",
         "47691720",
         "168.79",
         "170.68",
         "168.58",
         "0.00479744136460547",
         "0.01327563880215381"
        ],
        [
         "2024-04-04 00:00:00",
         "168.82",
         "53704390",
         "170.29",
         "171.92",
         "168.82",
         "-0.004892425582080806",
         "0.005970698056715597"
        ],
        [
         "2024-04-05 00:00:00",
         "169.58",
         "42104830",
         "169.59",
         "170.39",
         "168.95",
         "0.004501836275322857",
         "0.006389261131246989"
        ],
        [
         "2024-04-08 00:00:00",
         "169.67",
         "37425510",
         "169.03",
         "169.2",
         "168.24",
         "0.0005307229626134724",
         "0.005376627152115816"
        ],
        [
         "2024-04-09 00:00:00",
         "169.67",
         "42451210",
         "168.7",
         "170.08",
         "168.35",
         "0.0",
         "0.003956751793433751"
        ],
        [
         "2024-04-10 00:00:00",
         "167.78",
         "49709340",
         "168.8",
         "169.09",
         "167.11",
         "-0.011139270348323183",
         "0.006007727671220367"
        ],
        [
         "2024-04-11 00:00:00",
         "175.04",
         "91070280",
         "168.34",
         "175.46",
         "168.16",
         "0.04327095005364168",
         "0.02086127110163947"
        ],
        [
         "2024-04-12 00:00:00",
         "176.55",
         "101670900",
         "174.26",
         "178.36",
         "174.21",
         "0.008626599634369292",
         "0.02079784849647109"
        ],
        [
         "2024-04-15 00:00:00",
         "172.69",
         "73531770",
         "175.36",
         "176.63",
         "172.5",
         "-0.02186349476069105",
         "0.024887177973722373"
        ],
        [
         "2024-04-16 00:00:00",
         "169.38",
         "73711240",
         "171.75",
         "173.76",
         "168.27",
         "-0.01916729399502004",
         "0.027001200869847596"
        ]
       ],
       "shape": {
        "columns": 7,
        "rows": 63
       }
      },
      "text/html": [
       "<div>\n",
       "<style scoped>\n",
       "    .dataframe tbody tr th:only-of-type {\n",
       "        vertical-align: middle;\n",
       "    }\n",
       "\n",
       "    .dataframe tbody tr th {\n",
       "        vertical-align: top;\n",
       "    }\n",
       "\n",
       "    .dataframe thead th {\n",
       "        text-align: right;\n",
       "    }\n",
       "</style>\n",
       "<table border=\"1\" class=\"dataframe\">\n",
       "  <thead>\n",
       "    <tr style=\"text-align: right;\">\n",
       "      <th></th>\n",
       "      <th>Close/Last</th>\n",
       "      <th>Volume</th>\n",
       "      <th>Open</th>\n",
       "      <th>High</th>\n",
       "      <th>Low</th>\n",
       "      <th>Returns</th>\n",
       "      <th>Weekly Volatility</th>\n",
       "    </tr>\n",
       "    <tr>\n",
       "      <th>Date</th>\n",
       "      <th></th>\n",
       "      <th></th>\n",
       "      <th></th>\n",
       "      <th></th>\n",
       "      <th></th>\n",
       "      <th></th>\n",
       "      <th></th>\n",
       "    </tr>\n",
       "  </thead>\n",
       "  <tbody>\n",
       "    <tr>\n",
       "      <th>2024-02-05</th>\n",
       "      <td>187.68</td>\n",
       "      <td>69668820</td>\n",
       "      <td>188.15</td>\n",
       "      <td>189.25</td>\n",
       "      <td>185.84</td>\n",
       "      <td>0.009847</td>\n",
       "      <td>0.015513</td>\n",
       "    </tr>\n",
       "    <tr>\n",
       "      <th>2024-02-06</th>\n",
       "      <td>189.30</td>\n",
       "      <td>43490760</td>\n",
       "      <td>186.86</td>\n",
       "      <td>189.31</td>\n",
       "      <td>186.77</td>\n",
       "      <td>0.008632</td>\n",
       "      <td>0.013633</td>\n",
       "    </tr>\n",
       "    <tr>\n",
       "      <th>2024-02-07</th>\n",
       "      <td>189.41</td>\n",
       "      <td>53438960</td>\n",
       "      <td>190.64</td>\n",
       "      <td>191.05</td>\n",
       "      <td>188.61</td>\n",
       "      <td>0.000581</td>\n",
       "      <td>0.007636</td>\n",
       "    </tr>\n",
       "    <tr>\n",
       "      <th>2024-02-08</th>\n",
       "      <td>188.32</td>\n",
       "      <td>40962050</td>\n",
       "      <td>189.39</td>\n",
       "      <td>189.54</td>\n",
       "      <td>187.35</td>\n",
       "      <td>-0.005755</td>\n",
       "      <td>0.007444</td>\n",
       "    </tr>\n",
       "    <tr>\n",
       "      <th>2024-02-09</th>\n",
       "      <td>188.85</td>\n",
       "      <td>45155220</td>\n",
       "      <td>188.65</td>\n",
       "      <td>189.99</td>\n",
       "      <td>188.00</td>\n",
       "      <td>0.002814</td>\n",
       "      <td>0.006342</td>\n",
       "    </tr>\n",
       "    <tr>\n",
       "      <th>...</th>\n",
       "      <td>...</td>\n",
       "      <td>...</td>\n",
       "      <td>...</td>\n",
       "      <td>...</td>\n",
       "      <td>...</td>\n",
       "      <td>...</td>\n",
       "      <td>...</td>\n",
       "    </tr>\n",
       "    <tr>\n",
       "      <th>2024-04-29</th>\n",
       "      <td>173.50</td>\n",
       "      <td>68169420</td>\n",
       "      <td>173.37</td>\n",
       "      <td>176.03</td>\n",
       "      <td>173.10</td>\n",
       "      <td>0.024808</td>\n",
       "      <td>0.010497</td>\n",
       "    </tr>\n",
       "    <tr>\n",
       "      <th>2024-04-30</th>\n",
       "      <td>170.33</td>\n",
       "      <td>65934780</td>\n",
       "      <td>173.33</td>\n",
       "      <td>174.99</td>\n",
       "      <td>170.00</td>\n",
       "      <td>-0.018271</td>\n",
       "      <td>0.016292</td>\n",
       "    </tr>\n",
       "    <tr>\n",
       "      <th>2024-05-01</th>\n",
       "      <td>169.30</td>\n",
       "      <td>50383150</td>\n",
       "      <td>169.58</td>\n",
       "      <td>172.71</td>\n",
       "      <td>169.11</td>\n",
       "      <td>-0.006047</td>\n",
       "      <td>0.015996</td>\n",
       "    </tr>\n",
       "    <tr>\n",
       "      <th>2024-05-02</th>\n",
       "      <td>173.03</td>\n",
       "      <td>94214920</td>\n",
       "      <td>172.51</td>\n",
       "      <td>173.42</td>\n",
       "      <td>170.89</td>\n",
       "      <td>0.022032</td>\n",
       "      <td>0.018780</td>\n",
       "    </tr>\n",
       "    <tr>\n",
       "      <th>2024-05-03</th>\n",
       "      <td>183.38</td>\n",
       "      <td>163224100</td>\n",
       "      <td>186.65</td>\n",
       "      <td>187.00</td>\n",
       "      <td>182.66</td>\n",
       "      <td>0.059816</td>\n",
       "      <td>0.030386</td>\n",
       "    </tr>\n",
       "  </tbody>\n",
       "</table>\n",
       "<p>63 rows × 7 columns</p>\n",
       "</div>"
      ],
      "text/plain": [
       "            Close/Last     Volume    Open    High     Low   Returns  \\\n",
       "Date                                                                  \n",
       "2024-02-05      187.68   69668820  188.15  189.25  185.84  0.009847   \n",
       "2024-02-06      189.30   43490760  186.86  189.31  186.77  0.008632   \n",
       "2024-02-07      189.41   53438960  190.64  191.05  188.61  0.000581   \n",
       "2024-02-08      188.32   40962050  189.39  189.54  187.35 -0.005755   \n",
       "2024-02-09      188.85   45155220  188.65  189.99  188.00  0.002814   \n",
       "...                ...        ...     ...     ...     ...       ...   \n",
       "2024-04-29      173.50   68169420  173.37  176.03  173.10  0.024808   \n",
       "2024-04-30      170.33   65934780  173.33  174.99  170.00 -0.018271   \n",
       "2024-05-01      169.30   50383150  169.58  172.71  169.11 -0.006047   \n",
       "2024-05-02      173.03   94214920  172.51  173.42  170.89  0.022032   \n",
       "2024-05-03      183.38  163224100  186.65  187.00  182.66  0.059816   \n",
       "\n",
       "            Weekly Volatility  \n",
       "Date                           \n",
       "2024-02-05           0.015513  \n",
       "2024-02-06           0.013633  \n",
       "2024-02-07           0.007636  \n",
       "2024-02-08           0.007444  \n",
       "2024-02-09           0.006342  \n",
       "...                       ...  \n",
       "2024-04-29           0.010497  \n",
       "2024-04-30           0.016292  \n",
       "2024-05-01           0.015996  \n",
       "2024-05-02           0.018780  \n",
       "2024-05-03           0.030386  \n",
       "\n",
       "[63 rows x 7 columns]"
      ]
     },
     "execution_count": 47,
     "metadata": {},
     "output_type": "execute_result"
    }
   ],
   "source": [
    "aapl_three_months= aapl[aapl.index >= three_months_earlier]\n",
    "aapl_three_months"
   ]
  },
  {
   "cell_type": "code",
   "execution_count": 48,
   "id": "92a9c0b8",
   "metadata": {},
   "outputs": [
    {
     "data": {
      "image/png": "[encoded data removed]",
      "text/plain": [
       "<Figure size 1200x800 with 2 Axes>"
      ]
     },
     "metadata": {},
     "output_type": "display_data"
    }
   ],
   "source": [
    "# Plot the calculated rolling weekly volatility of Apple's closing price against Apple's closing price\n",
    "# Plot these on the same chart, but using different y-axes\n",
    "\n",
    "fig, ax1 = plt.subplots(figsize=(12, 8), sharex=True)\n",
    "ax1.plot(aapl_three_months['Close/Last'], label='Apple Closing Price')\n",
    "ax1.set_ylabel('Apple Closing Price')\n",
    "ax1.legend()\n",
    "ax1.grid()\n",
    "\n",
    "ax2 = ax1.twinx()\n",
    "ax2.plot(aapl_three_months['Weekly Volatility'], label='Apple Rolling Volatility', color='red', alpha=0.3)\n",
    "ax2.set_ylabel('Apple Weekly Rolling Volatility')\n",
    "ax2.legend()\n",
    "\n",
    "plt.xlabel('Date')\n",
    "plt.title('Apple Closing Price and Rolling Volatility')\n",
    "plt.show()"
   ]
  },
  {
   "cell_type": "markdown",
   "id": "e2cf3c78",
   "metadata": {},
   "source": [
    "## Export data\n",
    "\n",
    "Now that you have preprocessed your data, you should save it in new csv files so that it can be used in downstream tasks without having to redo all the preprocessing steps. \n",
    "\n",
    "Your task:\n",
    "* Use `pandas` to export all modified datasets back to new CSV files"
   ]
  },
  {
   "cell_type": "code",
   "execution_count": 49,
   "id": "3d67d29c",
   "metadata": {},
   "outputs": [],
   "source": [
    "aapl.to_csv('aapl_mdified.csv')\n",
    "msft.to_csv('msft_modified.csv') \n",
    "inflation.to_csv('inflation_modified.csv')\n",
    "gdp.to_csv('gdp_modified.csv')\n",
    "inflation_weekly.to_csv('inflation_weekly.csv')\n",
    "inflation_quarterly.to_csv('inflation_quarterly.csv')\n",
    "aapl_three_months.to_csv('aapl_three_months.csv')\n",
    "merged_df.to_csv('merged_apple_msft_inflation.csv')"
   ]
  }
 ],
 "metadata": {
  "kernelspec": {
   "display_name": "numpandaplot",
   "language": "python",
   "name": "python3"
  },
  "language_info": {
   "codemirror_mode": {
    "name": "ipython",
    "version": 3
   },
   "file_extension": ".py",
   "mimetype": "text/x-python",
   "name": "python",
   "nbconvert_exporter": "python",
   "pygments_lexer": "ipython3",
   "version": "3.13.1"
  }
 },
 "nbformat": 4,
 "nbformat_minor": 5
}
