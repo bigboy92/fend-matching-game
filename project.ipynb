{
 "cells": [
  {
   "cell_type": "markdown",
   "id": "81942eb1",
   "metadata": {},
   "source": [
    "# Course 2 Project: ML Pipeline for Feature Engineering"
   ]
  },
  {
   "cell_type": "markdown",
   "id": "4f241775",
   "metadata": {},
   "source": [
    "## Instructions\n",
    "\n",
    "In this project, you'll use data related to microeconomic indicators and historical stock prices to explore the data engineering pipline. You'll get to practice:\n",
    "\n",
    "* Data ingestion \n",
    "* Data cleaning\n",
    "* Data imputation\n",
    "* Exploratory data analysis (EDA) through charts and graphs"
   ]
  },
  {
   "cell_type": "markdown",
   "id": "1f12b277",
   "metadata": {},
   "source": [
    "## Packages\n",
    "\n",
    "You'll use `pandas` and `matplotlib`, which were covered in the course material, to import, clean, and plot data. They have been installed in this workspace for you. If you're working locally and you installed Jupyter using Anaconda, these packages will already be installed. "
   ]
  },
  {
   "cell_type": "code",
   "execution_count": 1,
   "id": "882241d4",
   "metadata": {},
   "outputs": [],
   "source": [
    "import numpy as np\n",
    "import pandas as pd\n",
    "import matplotlib.pyplot as plt\n",
    "import seaborn as sns"
   ]
  },
  {
   "cell_type": "markdown",
   "id": "f9fcd352",
   "metadata": {},
   "source": [
    "## Load data\n",
    "\n",
    "The first step in a data engineering pipeline for machine learning is to ingest the data that will be used. For this project, data is hosted on a public GitHub repo. \n",
    "\n",
    "Your tasks:\n",
    "* Import data from the provided GitHub repo using `pandas`\n",
    "* Verify that the data has been imported correctly into `pandas` dataframes. Use methods like `head()` and `info()`\n",
    "* You may need to change column names to make them easier to work with\n",
    "* You may need to cast datetime data to the `datetime` format using `pandas` `to_datetime()` method\n",
    "\n",
    "Data files to import: \n",
    "1. GDP\n",
    "2. Inflation \n",
    "3. Apple stock prices \n",
    "4. Microsoft stock prices"
   ]
  },
  {
   "cell_type": "code",
   "execution_count": 15,
   "id": "bd119016",
   "metadata": {},
   "outputs": [],
   "source": [
    "# Load historical GDP data\n",
    "\n",
    "data_gdp = pd.read_csv('GDP.csv')"
   ]
  },
  {
   "cell_type": "code",
   "execution_count": 16,
   "id": "cf36d7c0",
   "metadata": {},
   "outputs": [
    {
     "name": "stdout",
     "output_type": "stream",
     "text": [
      "         DATE      GDP\n",
      "0  1947-01-01  243.164\n",
      "1  1947-04-01  245.968\n",
      "2  1947-07-01  249.585\n",
      "3  1947-10-01  259.745\n",
      "4  1948-01-01  265.742\n",
      "\n",
      "<class 'pandas.core.frame.DataFrame'>\n",
      "RangeIndex: 309 entries, 0 to 308\n",
      "Data columns (total 2 columns):\n",
      " #   Column  Non-Null Count  Dtype  \n",
      "---  ------  --------------  -----  \n",
      " 0   DATE    309 non-null    object \n",
      " 1   GDP     309 non-null    float64\n",
      "dtypes: float64(1), object(1)\n",
      "memory usage: 5.0+ KB\n",
      "None\n"
     ]
    }
   ],
   "source": [
    "# Check the first few rows of data\n",
    "\n",
    "print(data_gdp.head())\n",
    "print()\n",
    "print(data_gdp.info())"
   ]
  },
  {
   "cell_type": "code",
   "execution_count": 17,
   "id": "2a2478c9",
   "metadata": {},
   "outputs": [],
   "source": [
    "# Load the historical stock price data for Apple and Microsoft\n",
    "\n",
    "data_aapl = pd.read_csv('apple_historical_data.csv')\n",
    "data_msft = pd.read_csv('microsoft_historical_data.csv')\n"
   ]
  },
  {
   "cell_type": "code",
   "execution_count": 18,
   "id": "e9e9a77a",
   "metadata": {},
   "outputs": [
    {
     "name": "stdout",
     "output_type": "stream",
     "text": [
      "AAPL\n",
      "        Date Close/Last     Volume      Open      High       Low\n",
      "0   5/3/2024   $183.38   163224100  $186.65   $187.00   $182.66 \n",
      "1   5/2/2024   $173.03    94214920  $172.51   $173.42   $170.89 \n",
      "2   5/1/2024   $169.30    50383150  $169.58   $172.71   $169.11 \n",
      "3  4/30/2024   $170.33    65934780  $173.33   $174.99   $170.00 \n",
      "4  4/29/2024   $173.50    68169420  $173.37   $176.03   $173.10 \n",
      "\n",
      "MSFT\n",
      "        Date Close/Last     Volume      Open      High       Low\n",
      "0   5/3/2024   $183.38   163224100  $186.65   $187.00   $182.66 \n",
      "1   5/2/2024   $173.03    94214920  $172.51   $173.42   $170.89 \n",
      "2   5/1/2024   $169.30    50383150  $169.58   $172.71   $169.11 \n",
      "3  4/30/2024   $170.33    65934780  $173.33   $174.99   $170.00 \n",
      "4  4/29/2024   $173.50    68169420  $173.37   $176.03   $173.10 \n"
     ]
    }
   ],
   "source": [
    "# Check the first few rows of data\n",
    "print('AAPL')\n",
    "print(data_aapl.head())\n",
    "print()\n",
    "print('MSFT')\n",
    "print(data_aapl.head())\n"
   ]
  },
  {
   "cell_type": "code",
   "execution_count": 19,
   "id": "8c9bed17",
   "metadata": {},
   "outputs": [
    {
     "name": "stdout",
     "output_type": "stream",
     "text": [
      "GDP\n",
      "<class 'pandas.core.frame.DataFrame'>\n",
      "RangeIndex: 309 entries, 0 to 308\n",
      "Data columns (total 2 columns):\n",
      " #   Column  Non-Null Count  Dtype  \n",
      "---  ------  --------------  -----  \n",
      " 0   DATE    309 non-null    object \n",
      " 1   GDP     309 non-null    float64\n",
      "dtypes: float64(1), object(1)\n",
      "memory usage: 5.0+ KB\n",
      "None\n",
      "\n",
      "AAPL\n",
      "<class 'pandas.core.frame.DataFrame'>\n",
      "RangeIndex: 2517 entries, 0 to 2516\n",
      "Data columns (total 6 columns):\n",
      " #   Column      Non-Null Count  Dtype \n",
      "---  ------      --------------  ----- \n",
      " 0   Date        2517 non-null   object\n",
      " 1   Close/Last  2514 non-null   object\n",
      " 2   Volume      2517 non-null   int64 \n",
      " 3   Open        2517 non-null   object\n",
      " 4   High        2517 non-null   object\n",
      " 5   Low         2517 non-null   object\n",
      "dtypes: int64(1), object(5)\n",
      "memory usage: 118.1+ KB\n",
      "None\n",
      "\n",
      "MSFT\n",
      "<class 'pandas.core.frame.DataFrame'>\n",
      "RangeIndex: 2517 entries, 0 to 2516\n",
      "Data columns (total 6 columns):\n",
      " #   Column      Non-Null Count  Dtype \n",
      "---  ------      --------------  ----- \n",
      " 0   Date        2517 non-null   object\n",
      " 1   Close/Last  2517 non-null   object\n",
      " 2   Volume      2517 non-null   int64 \n",
      " 3   Open        2517 non-null   object\n",
      " 4   High        2517 non-null   object\n",
      " 5   Low         2517 non-null   object\n",
      "dtypes: int64(1), object(5)\n",
      "memory usage: 118.1+ KB\n",
      "None\n"
     ]
    }
   ],
   "source": [
    "# Use methods like .info() and .describe() to explore the data\n",
    "print('GDP')\n",
    "print(data_gdp.info())\n",
    "print('\\nAAPL')\n",
    "print(data_aapl.info())\n",
    "print('\\nMSFT')\n",
    "print(data_msft.info())\n"
   ]
  },
  {
   "cell_type": "markdown",
   "id": "06c8d9dc",
   "metadata": {},
   "source": [
    "## Data preprocessing: Check for missing data and forward fill\n",
    "\n",
    "Check the Apple historical prices for missing data. Check for missing data in all columns. If there's data missing, use a forward fill to fill in those missing prices. "
   ]
  },
  {
   "cell_type": "code",
   "execution_count": 20,
   "id": "4807173e",
   "metadata": {},
   "outputs": [
    {
     "name": "stdout",
     "output_type": "stream",
     "text": [
      "GDP\n",
      "DATE    False\n",
      "GDP     False\n",
      "dtype: bool\n",
      "\n",
      "AAPL\n",
      "Date          False\n",
      "Close/Last     True\n",
      "Volume        False\n",
      "Open          False\n",
      "High          False\n",
      "Low           False\n",
      "dtype: bool\n",
      "\n",
      "MSFT\n",
      "Date          False\n",
      "Close/Last    False\n",
      "Volume        False\n",
      "Open          False\n",
      "High          False\n",
      "Low           False\n",
      "dtype: bool\n"
     ]
    }
   ],
   "source": [
    "# Check for nulls \n",
    "print('GDP')\n",
    "print(data_gdp.isnull().any())\n",
    "print('\\nAAPL')\n",
    "print(data_aapl.isnull().any())\n",
    "print('\\nMSFT')\n",
    "print(data_msft.isnull().any())\n"
   ]
  },
  {
   "cell_type": "markdown",
   "id": "0bfc6743",
   "metadata": {},
   "source": [
    "Apple's `Close/Last` column has some missing data"
   ]
  },
  {
   "cell_type": "code",
   "execution_count": 21,
   "id": "00e4d6f5",
   "metadata": {},
   "outputs": [],
   "source": [
    "# Forward fill any missing data\n",
    "data_aapl['Close/Last'] = data_aapl['Close/Last'].ffill()"
   ]
  },
  {
   "cell_type": "code",
   "execution_count": 22,
   "id": "f82d3b2d",
   "metadata": {},
   "outputs": [
    {
     "data": {
      "text/plain": [
       "Date          False\n",
       "Close/Last    False\n",
       "Volume        False\n",
       "Open          False\n",
       "High          False\n",
       "Low           False\n",
       "dtype: bool"
      ]
     },
     "execution_count": 22,
     "metadata": {},
     "output_type": "execute_result"
    }
   ],
   "source": [
    "# Check again for nulls after using forward fill\n",
    "data_aapl.isnull().any()"
   ]
  },
  {
   "cell_type": "markdown",
   "id": "2614c615",
   "metadata": {},
   "source": [
    "## Data preprocessing: Remove special characters and convert to numeric/datetime\n",
    "\n",
    "The next step in the data engineering process is to standardize and clean up data. In this step, you'll check for odd formatting and special characters that will make it difficult to work with data as numeric or datetime. \n",
    "\n",
    "In this step:\n",
    "* Create a function that takes in a dataframe and a list of columns and removes dollar signs ('$') from those columns\n",
    "* Convert any columns with date/time data into a `pandas` `datetime` format"
   ]
  },
  {
   "cell_type": "code",
   "execution_count": 23,
   "id": "a47537af",
   "metadata": {},
   "outputs": [],
   "source": [
    "def convert_dollar_columns_to_numeric(df: pd.DataFrame, numeric_columns: list[str]):\n",
    "    '''\n",
    "        Removes dollar signs ('$') from a list of columns in a given dataframe AND casts the columns to a numeric datatype.\n",
    "        Updates dataframe IN PLACE.\n",
    "        \n",
    "        Inputs:\n",
    "            df: dataframe to be operated on\n",
    "            numeric_columns: columns that should have numeric data but have dollar signs currently\n",
    "            \n",
    "        Returns:\n",
    "            None - changes to the dataframe can be made in place\n",
    "    '''\n",
    "    df[numeric_columns] = df[numeric_columns].replace({\"\\$\": \"\"}, regex=True).astype(float)"
   ]
  },
  {
   "cell_type": "code",
   "execution_count": 24,
   "id": "055f8621",
   "metadata": {},
   "outputs": [],
   "source": [
    "# Use convert_dollar_columns_to_numeric() to remove the dollar sign from the Apple and Microsoft datasets\n",
    "convert_dollar_columns_to_numeric(data_aapl,['Close/Last', 'Open', 'High', 'Low'])\n",
    "convert_dollar_columns_to_numeric(data_msft,['Close/Last', 'Open', 'High', 'Low'])\n"
   ]
  },
  {
   "cell_type": "code",
   "execution_count": 25,
   "id": "1a276953",
   "metadata": {},
   "outputs": [
    {
     "name": "stdout",
     "output_type": "stream",
     "text": [
      "AAPL\n",
      "<class 'pandas.core.frame.DataFrame'>\n",
      "RangeIndex: 2517 entries, 0 to 2516\n",
      "Data columns (total 6 columns):\n",
      " #   Column      Non-Null Count  Dtype  \n",
      "---  ------      --------------  -----  \n",
      " 0   Date        2517 non-null   object \n",
      " 1   Close/Last  2517 non-null   float64\n",
      " 2   Volume      2517 non-null   int64  \n",
      " 3   Open        2517 non-null   float64\n",
      " 4   High        2517 non-null   float64\n",
      " 5   Low         2517 non-null   float64\n",
      "dtypes: float64(4), int64(1), object(1)\n",
      "memory usage: 118.1+ KB\n",
      "None\n",
      "\n",
      "MSFT\n",
      "<class 'pandas.core.frame.DataFrame'>\n",
      "RangeIndex: 2517 entries, 0 to 2516\n",
      "Data columns (total 6 columns):\n",
      " #   Column      Non-Null Count  Dtype  \n",
      "---  ------      --------------  -----  \n",
      " 0   Date        2517 non-null   object \n",
      " 1   Close/Last  2517 non-null   float64\n",
      " 2   Volume      2517 non-null   int64  \n",
      " 3   Open        2517 non-null   float64\n",
      " 4   High        2517 non-null   float64\n",
      " 5   Low         2517 non-null   float64\n",
      "dtypes: float64(4), int64(1), object(1)\n",
      "memory usage: 118.1+ KB\n",
      "None\n"
     ]
    }
   ],
   "source": [
    "print('AAPL')\n",
    "print(data_aapl.info())\n",
    "print('\\nMSFT')\n",
    "print(data_msft.info())\n"
   ]
  },
  {
   "cell_type": "code",
   "execution_count": 41,
   "id": "efea17ca",
   "metadata": {},
   "outputs": [],
   "source": [
    "# Use pandas's to_datetime() to convert any columns that are in a datetime format\n",
    "data_aapl['Date'] = pd.to_datetime(data_aapl['Date'])\n",
    "data_msft['Date'] = pd.to_datetime(data_msft['Date'])\n",
    "data_gdp['DATE'] = pd.to_datetime(data_gdp['DATE'])\n",
    "\n",
    "data_aapl.set_index('Date', inplace=True)\n",
    "data_msft.set_index('Date', inplace=True)\n",
    "data_gdp.set_index('DATE', inplace=True)"
   ]
  },
  {
   "cell_type": "code",
   "execution_count": 42,
   "id": "bec5706e",
   "metadata": {},
   "outputs": [
    {
     "data": {
      "text/html": [
       "<div>\n",
       "<style scoped>\n",
       "    .dataframe tbody tr th:only-of-type {\n",
       "        vertical-align: middle;\n",
       "    }\n",
       "\n",
       "    .dataframe tbody tr th {\n",
       "        vertical-align: top;\n",
       "    }\n",
       "\n",
       "    .dataframe thead th {\n",
       "        text-align: right;\n",
       "    }\n",
       "</style>\n",
       "<table border=\"1\" class=\"dataframe\">\n",
       "  <thead>\n",
       "    <tr style=\"text-align: right;\">\n",
       "      <th></th>\n",
       "      <th>Close/Last</th>\n",
       "      <th>Volume</th>\n",
       "      <th>Open</th>\n",
       "      <th>High</th>\n",
       "      <th>Low</th>\n",
       "    </tr>\n",
       "    <tr>\n",
       "      <th>Date</th>\n",
       "      <th></th>\n",
       "      <th></th>\n",
       "      <th></th>\n",
       "      <th></th>\n",
       "      <th></th>\n",
       "    </tr>\n",
       "  </thead>\n",
       "  <tbody>\n",
       "    <tr>\n",
       "      <th>2024-05-03</th>\n",
       "      <td>183.38</td>\n",
       "      <td>163224100</td>\n",
       "      <td>186.65</td>\n",
       "      <td>187.00</td>\n",
       "      <td>182.66</td>\n",
       "    </tr>\n",
       "    <tr>\n",
       "      <th>2024-05-02</th>\n",
       "      <td>173.03</td>\n",
       "      <td>94214920</td>\n",
       "      <td>172.51</td>\n",
       "      <td>173.42</td>\n",
       "      <td>170.89</td>\n",
       "    </tr>\n",
       "    <tr>\n",
       "      <th>2024-05-01</th>\n",
       "      <td>169.30</td>\n",
       "      <td>50383150</td>\n",
       "      <td>169.58</td>\n",
       "      <td>172.71</td>\n",
       "      <td>169.11</td>\n",
       "    </tr>\n",
       "    <tr>\n",
       "      <th>2024-04-30</th>\n",
       "      <td>170.33</td>\n",
       "      <td>65934780</td>\n",
       "      <td>173.33</td>\n",
       "      <td>174.99</td>\n",
       "      <td>170.00</td>\n",
       "    </tr>\n",
       "    <tr>\n",
       "      <th>2024-04-29</th>\n",
       "      <td>173.50</td>\n",
       "      <td>68169420</td>\n",
       "      <td>173.37</td>\n",
       "      <td>176.03</td>\n",
       "      <td>173.10</td>\n",
       "    </tr>\n",
       "  </tbody>\n",
       "</table>\n",
       "</div>"
      ],
      "text/plain": [
       "            Close/Last     Volume    Open    High     Low\n",
       "Date                                                     \n",
       "2024-05-03      183.38  163224100  186.65  187.00  182.66\n",
       "2024-05-02      173.03   94214920  172.51  173.42  170.89\n",
       "2024-05-01      169.30   50383150  169.58  172.71  169.11\n",
       "2024-04-30      170.33   65934780  173.33  174.99  170.00\n",
       "2024-04-29      173.50   68169420  173.37  176.03  173.10"
      ]
     },
     "execution_count": 42,
     "metadata": {},
     "output_type": "execute_result"
    }
   ],
   "source": [
    "data_aapl.head()"
   ]
  },
  {
   "cell_type": "code",
   "execution_count": 43,
   "id": "5b0afb7c",
   "metadata": {},
   "outputs": [
    {
     "data": {
      "text/html": [
       "<div>\n",
       "<style scoped>\n",
       "    .dataframe tbody tr th:only-of-type {\n",
       "        vertical-align: middle;\n",
       "    }\n",
       "\n",
       "    .dataframe tbody tr th {\n",
       "        vertical-align: top;\n",
       "    }\n",
       "\n",
       "    .dataframe thead th {\n",
       "        text-align: right;\n",
       "    }\n",
       "</style>\n",
       "<table border=\"1\" class=\"dataframe\">\n",
       "  <thead>\n",
       "    <tr style=\"text-align: right;\">\n",
       "      <th></th>\n",
       "      <th>Close/Last</th>\n",
       "      <th>Volume</th>\n",
       "      <th>Open</th>\n",
       "      <th>High</th>\n",
       "      <th>Low</th>\n",
       "    </tr>\n",
       "    <tr>\n",
       "      <th>Date</th>\n",
       "      <th></th>\n",
       "      <th></th>\n",
       "      <th></th>\n",
       "      <th></th>\n",
       "      <th></th>\n",
       "    </tr>\n",
       "  </thead>\n",
       "  <tbody>\n",
       "    <tr>\n",
       "      <th>2024-05-03</th>\n",
       "      <td>406.66</td>\n",
       "      <td>17446720</td>\n",
       "      <td>402.28</td>\n",
       "      <td>407.1500</td>\n",
       "      <td>401.8600</td>\n",
       "    </tr>\n",
       "    <tr>\n",
       "      <th>2024-05-02</th>\n",
       "      <td>397.84</td>\n",
       "      <td>17709360</td>\n",
       "      <td>397.66</td>\n",
       "      <td>399.9300</td>\n",
       "      <td>394.6515</td>\n",
       "    </tr>\n",
       "    <tr>\n",
       "      <th>2024-05-01</th>\n",
       "      <td>394.94</td>\n",
       "      <td>23562480</td>\n",
       "      <td>392.61</td>\n",
       "      <td>401.7199</td>\n",
       "      <td>390.3100</td>\n",
       "    </tr>\n",
       "    <tr>\n",
       "      <th>2024-04-30</th>\n",
       "      <td>389.33</td>\n",
       "      <td>28781370</td>\n",
       "      <td>401.49</td>\n",
       "      <td>402.1600</td>\n",
       "      <td>389.1700</td>\n",
       "    </tr>\n",
       "    <tr>\n",
       "      <th>2024-04-29</th>\n",
       "      <td>402.25</td>\n",
       "      <td>19582090</td>\n",
       "      <td>405.25</td>\n",
       "      <td>406.3200</td>\n",
       "      <td>399.1900</td>\n",
       "    </tr>\n",
       "  </tbody>\n",
       "</table>\n",
       "</div>"
      ],
      "text/plain": [
       "            Close/Last    Volume    Open      High       Low\n",
       "Date                                                        \n",
       "2024-05-03      406.66  17446720  402.28  407.1500  401.8600\n",
       "2024-05-02      397.84  17709360  397.66  399.9300  394.6515\n",
       "2024-05-01      394.94  23562480  392.61  401.7199  390.3100\n",
       "2024-04-30      389.33  28781370  401.49  402.1600  389.1700\n",
       "2024-04-29      402.25  19582090  405.25  406.3200  399.1900"
      ]
     },
     "execution_count": 43,
     "metadata": {},
     "output_type": "execute_result"
    }
   ],
   "source": [
    "data_msft.head()"
   ]
  },
  {
   "cell_type": "code",
   "execution_count": 44,
   "id": "8476a840",
   "metadata": {},
   "outputs": [
    {
     "data": {
      "text/html": [
       "<div>\n",
       "<style scoped>\n",
       "    .dataframe tbody tr th:only-of-type {\n",
       "        vertical-align: middle;\n",
       "    }\n",
       "\n",
       "    .dataframe tbody tr th {\n",
       "        vertical-align: top;\n",
       "    }\n",
       "\n",
       "    .dataframe thead th {\n",
       "        text-align: right;\n",
       "    }\n",
       "</style>\n",
       "<table border=\"1\" class=\"dataframe\">\n",
       "  <thead>\n",
       "    <tr style=\"text-align: right;\">\n",
       "      <th></th>\n",
       "      <th>GDP</th>\n",
       "    </tr>\n",
       "    <tr>\n",
       "      <th>DATE</th>\n",
       "      <th></th>\n",
       "    </tr>\n",
       "  </thead>\n",
       "  <tbody>\n",
       "    <tr>\n",
       "      <th>1947-01-01</th>\n",
       "      <td>243.164</td>\n",
       "    </tr>\n",
       "    <tr>\n",
       "      <th>1947-04-01</th>\n",
       "      <td>245.968</td>\n",
       "    </tr>\n",
       "    <tr>\n",
       "      <th>1947-07-01</th>\n",
       "      <td>249.585</td>\n",
       "    </tr>\n",
       "    <tr>\n",
       "      <th>1947-10-01</th>\n",
       "      <td>259.745</td>\n",
       "    </tr>\n",
       "    <tr>\n",
       "      <th>1948-01-01</th>\n",
       "      <td>265.742</td>\n",
       "    </tr>\n",
       "  </tbody>\n",
       "</table>\n",
       "</div>"
      ],
      "text/plain": [
       "                GDP\n",
       "DATE               \n",
       "1947-01-01  243.164\n",
       "1947-04-01  245.968\n",
       "1947-07-01  249.585\n",
       "1947-10-01  259.745\n",
       "1948-01-01  265.742"
      ]
     },
     "execution_count": 44,
     "metadata": {},
     "output_type": "execute_result"
    }
   ],
   "source": [
    "data_gdp.head()"
   ]
  },
  {
   "cell_type": "code",
   "execution_count": 45,
   "id": "fbeed896",
   "metadata": {},
   "outputs": [
    {
     "name": "stdout",
     "output_type": "stream",
     "text": [
      "<class 'pandas.core.frame.DataFrame'>\n",
      "DatetimeIndex: 309 entries, 1947-01-01 to 2024-01-01\n",
      "Data columns (total 1 columns):\n",
      " #   Column  Non-Null Count  Dtype  \n",
      "---  ------  --------------  -----  \n",
      " 0   GDP     309 non-null    float64\n",
      "dtypes: float64(1)\n",
      "memory usage: 4.8 KB\n"
     ]
    }
   ],
   "source": [
    "data_gdp.info()"
   ]
  },
  {
   "cell_type": "code",
   "execution_count": 46,
   "id": "b4c06e9b",
   "metadata": {},
   "outputs": [
    {
     "name": "stdout",
     "output_type": "stream",
     "text": [
      "<class 'pandas.core.frame.DataFrame'>\n",
      "DatetimeIndex: 2517 entries, 2024-05-03 to 2014-05-06\n",
      "Data columns (total 5 columns):\n",
      " #   Column      Non-Null Count  Dtype  \n",
      "---  ------      --------------  -----  \n",
      " 0   Close/Last  2517 non-null   float64\n",
      " 1   Volume      2517 non-null   int64  \n",
      " 2   Open        2517 non-null   float64\n",
      " 3   High        2517 non-null   float64\n",
      " 4   Low         2517 non-null   float64\n",
      "dtypes: float64(4), int64(1)\n",
      "memory usage: 118.0 KB\n"
     ]
    }
   ],
   "source": [
    "data_aapl.info()"
   ]
  },
  {
   "cell_type": "code",
   "execution_count": 47,
   "id": "17ebdc77",
   "metadata": {},
   "outputs": [
    {
     "name": "stdout",
     "output_type": "stream",
     "text": [
      "<class 'pandas.core.frame.DataFrame'>\n",
      "DatetimeIndex: 2517 entries, 2024-05-03 to 2014-05-06\n",
      "Data columns (total 5 columns):\n",
      " #   Column      Non-Null Count  Dtype  \n",
      "---  ------      --------------  -----  \n",
      " 0   Close/Last  2517 non-null   float64\n",
      " 1   Volume      2517 non-null   int64  \n",
      " 2   Open        2517 non-null   float64\n",
      " 3   High        2517 non-null   float64\n",
      " 4   Low         2517 non-null   float64\n",
      "dtypes: float64(4), int64(1)\n",
      "memory usage: 118.0 KB\n"
     ]
    }
   ],
   "source": [
    "data_msft.info()"
   ]
  },
  {
   "cell_type": "markdown",
   "id": "95ad8e72",
   "metadata": {},
   "source": [
    "## Data preprocessing: Align datetime data\n",
    "\n",
    "Data engineering includes changing data with a datetime component if needed so that different time series can be more easily compared or plotted against each other. \n",
    "\n",
    "In this step:\n",
    "\n",
    "* Align the inflation date so that it falls on the last day of the month instead of the first\n",
    "\n",
    "Helpful hints: \n",
    "* Use the `pandas` `offsets` method using `MonthEnd(0)` to set the 'Date' column to month-end"
   ]
  },
  {
   "cell_type": "code",
   "execution_count": 48,
   "id": "9ac3fc99",
   "metadata": {},
   "outputs": [],
   "source": [
    "# Align inflation data so that the date is the month end (e.g. Jan 31, Feb 28/28)\n",
    "# Example `pd.to_datetime('2020-02-02') + pd.offsets.MonthEnd(0) -> Timestamp('2020-02-29 00:00:00')`\n",
    "\n",
    "data_inflation = pd.read_csv('inflation_monthly.csv')\n",
    "data_inflation['DATE'] = pd.to_datetime(data_inflation['DATE'])\n",
    "data_inflation['DATE'] = data_inflation['DATE'] + pd.offsets.MonthEnd(0)\n",
    "data_inflation.set_index('DATE', inplace=True)"
   ]
  },
  {
   "cell_type": "markdown",
   "id": "e072f4a1",
   "metadata": {},
   "source": [
    "## Data preprocessing: Upsample, downsample and interpolate data\n",
    "\n",
    "Inflation data is presented monthly in this dataset. However, for some models, you may need it at a quarterly frequency, and for some models you may need it at a quarterly frequency. \n",
    "\n",
    "In this step:\n",
    "* Create a new quarterly inflation dataframe by downsampling the monthly inflation data to quarterly using the mean (e.g. for quarter 1 in a given year, use the average values from January, February, and March)\n",
    "* Create a new weekly inflation dataframe by upsampling the monthly inflation data. For this, you'll need to use `resample` and then you'll need to `interpolate` to fill in the missing data at the weekly frequency\n",
    "\n",
    "Note that you may need to change the index for some of these operations! "
   ]
  },
  {
   "cell_type": "code",
   "execution_count": 49,
   "id": "28fea2f6",
   "metadata": {},
   "outputs": [],
   "source": [
    "# Downsample from monthly to quarterly \n",
    "\n",
    "data_inflation_quarterly = data_inflation.resample('QE').mean()"
   ]
  },
  {
   "cell_type": "markdown",
   "id": "e46905e9",
   "metadata": {},
   "source": [
    "minimal example that shows the following works\n",
    "\n",
    "```python\n",
    "import pandas as pd\n",
    "\n",
    "df = pd.DataFrame({\n",
    "    'date': pd.date_range('2020-01-01', '2020-05-01', freq='MS'),  \n",
    "    'value': range(1, 6)\n",
    "}).set_index('date')\n",
    "\n",
    "# from monthly to weekly with interpolation\n",
    "df.resample('W').last().interpolate()\n",
    "```"
   ]
  },
  {
   "cell_type": "code",
   "execution_count": 51,
   "id": "dd46f576",
   "metadata": {},
   "outputs": [],
   "source": [
    "# Upsample and interpolate from monthly to weekly \n",
    "\n",
    "data_inflation_weekly = data_inflation.resample('W').last().interpolate()"
   ]
  },
  {
   "cell_type": "markdown",
   "id": "0ea82443",
   "metadata": {},
   "source": [
    "## Data preprocessing: Normalize/standardize a feature\n",
    "\n",
    "Economic time series data often involve variables measured on different scales (e.g., GDP in trillions of dollars, inflation in percentage points). Standardizing these variables (typically by subtracting the mean and dividing by the standard deviation) puts them on a common scale, allowing for meaningful comparisons and analyses.\n",
    "\n",
    "Your task:\n",
    "* Standardize the GDP data. You may do this manually by subtracting the mean and dividing by the standard deviation, or you may use a built-in method from a library like `sklearn`'s `StandardScaler`"
   ]
  },
  {
   "cell_type": "code",
   "execution_count": 53,
   "id": "4f88d246",
   "metadata": {},
   "outputs": [],
   "source": [
    "# Standardize the GDP measure\n",
    "from sklearn.preprocessing import StandardScaler\n",
    "\n",
    "# data_gdp.set_index('DATE', inplace=True)\n",
    "scaler = StandardScaler()\n",
    "data_gdp['GDP'] = scaler.fit_transform(data_gdp)\n"
   ]
  },
  {
   "cell_type": "code",
   "execution_count": 54,
   "id": "e4801c53",
   "metadata": {},
   "outputs": [
    {
     "name": "stdout",
     "output_type": "stream",
     "text": [
      "mean:  -1.8395928433918452e-16\n",
      "std:  1.0016220610822992\n"
     ]
    }
   ],
   "source": [
    "# Check the dataframe to make sure the calculation worked as expected \n",
    "print('mean: ', data_gdp['GDP'].mean())\n",
    "print('std: ', data_gdp['GDP'].std())"
   ]
  },
  {
   "cell_type": "markdown",
   "id": "6e6827ed",
   "metadata": {},
   "source": [
    "mean and standard deviation are close to `0` and `1`, respectively."
   ]
  },
  {
   "cell_type": "markdown",
   "id": "1f1a89d2",
   "metadata": {},
   "source": [
    "## EDA: Plotting a time series of adjusted open vs close price\n",
    "\n",
    "As part of your EDA, you'll frequently want to plot two time series on the same graph and using the same axis to compare their movements. \n",
    "\n",
    "Your task:\n",
    "* Plot the Apple open and close price time series on the same chart **for the last three months only**. Be sure to use a legend to label each line\n",
    "\n",
    "**NOTE**: This is a large dataset. If you try to plot the entire series, your graph will be hard to interpret and may take a long time to plot. Be sure to use only the most recent three months of data. "
   ]
  },
  {
   "cell_type": "code",
   "execution_count": 56,
   "id": "9b490f9b",
   "metadata": {},
   "outputs": [
    {
     "data": {
      "text/plain": [
       "Timestamp('2024-05-03 00:00:00')"
      ]
     },
     "execution_count": 56,
     "metadata": {},
     "output_type": "execute_result"
    }
   ],
   "source": [
    "# Get max date in timeseries\n",
    "\n",
    "end_date = data_aapl.index.max()"
   ]
  },
  {
   "cell_type": "code",
   "execution_count": 93,
   "id": "1cbad270",
   "metadata": {},
   "outputs": [
    {
     "name": "stdout",
     "output_type": "stream",
     "text": [
      "2024-05-03 00:00:00\n",
      "2024-02-03 00:00:00\n",
      "90 days 00:00:00\n"
     ]
    },
    {
     "data": {
      "text/html": [
       "<div>\n",
       "<style scoped>\n",
       "    .dataframe tbody tr th:only-of-type {\n",
       "        vertical-align: middle;\n",
       "    }\n",
       "\n",
       "    .dataframe tbody tr th {\n",
       "        vertical-align: top;\n",
       "    }\n",
       "\n",
       "    .dataframe thead th {\n",
       "        text-align: right;\n",
       "    }\n",
       "</style>\n",
       "<table border=\"1\" class=\"dataframe\">\n",
       "  <thead>\n",
       "    <tr style=\"text-align: right;\">\n",
       "      <th></th>\n",
       "      <th>Close/Last</th>\n",
       "      <th>Volume</th>\n",
       "      <th>Open</th>\n",
       "      <th>High</th>\n",
       "      <th>Low</th>\n",
       "    </tr>\n",
       "    <tr>\n",
       "      <th>Date</th>\n",
       "      <th></th>\n",
       "      <th></th>\n",
       "      <th></th>\n",
       "      <th></th>\n",
       "      <th></th>\n",
       "    </tr>\n",
       "  </thead>\n",
       "  <tbody>\n",
       "    <tr>\n",
       "      <th>2024-05-03</th>\n",
       "      <td>183.38</td>\n",
       "      <td>163224100</td>\n",
       "      <td>186.65</td>\n",
       "      <td>187.00</td>\n",
       "      <td>182.66</td>\n",
       "    </tr>\n",
       "    <tr>\n",
       "      <th>2024-05-02</th>\n",
       "      <td>173.03</td>\n",
       "      <td>94214920</td>\n",
       "      <td>172.51</td>\n",
       "      <td>173.42</td>\n",
       "      <td>170.89</td>\n",
       "    </tr>\n",
       "    <tr>\n",
       "      <th>2024-05-01</th>\n",
       "      <td>169.30</td>\n",
       "      <td>50383150</td>\n",
       "      <td>169.58</td>\n",
       "      <td>172.71</td>\n",
       "      <td>169.11</td>\n",
       "    </tr>\n",
       "    <tr>\n",
       "      <th>2024-04-30</th>\n",
       "      <td>170.33</td>\n",
       "      <td>65934780</td>\n",
       "      <td>173.33</td>\n",
       "      <td>174.99</td>\n",
       "      <td>170.00</td>\n",
       "    </tr>\n",
       "    <tr>\n",
       "      <th>2024-04-29</th>\n",
       "      <td>173.50</td>\n",
       "      <td>68169420</td>\n",
       "      <td>173.37</td>\n",
       "      <td>176.03</td>\n",
       "      <td>173.10</td>\n",
       "    </tr>\n",
       "    <tr>\n",
       "      <th>...</th>\n",
       "      <td>...</td>\n",
       "      <td>...</td>\n",
       "      <td>...</td>\n",
       "      <td>...</td>\n",
       "      <td>...</td>\n",
       "    </tr>\n",
       "    <tr>\n",
       "      <th>2024-02-09</th>\n",
       "      <td>188.85</td>\n",
       "      <td>45155220</td>\n",
       "      <td>188.65</td>\n",
       "      <td>189.99</td>\n",
       "      <td>188.00</td>\n",
       "    </tr>\n",
       "    <tr>\n",
       "      <th>2024-02-08</th>\n",
       "      <td>188.32</td>\n",
       "      <td>40962050</td>\n",
       "      <td>189.39</td>\n",
       "      <td>189.54</td>\n",
       "      <td>187.35</td>\n",
       "    </tr>\n",
       "    <tr>\n",
       "      <th>2024-02-07</th>\n",
       "      <td>189.41</td>\n",
       "      <td>53438960</td>\n",
       "      <td>190.64</td>\n",
       "      <td>191.05</td>\n",
       "      <td>188.61</td>\n",
       "    </tr>\n",
       "    <tr>\n",
       "      <th>2024-02-06</th>\n",
       "      <td>189.30</td>\n",
       "      <td>43490760</td>\n",
       "      <td>186.86</td>\n",
       "      <td>189.31</td>\n",
       "      <td>186.77</td>\n",
       "    </tr>\n",
       "    <tr>\n",
       "      <th>2024-02-05</th>\n",
       "      <td>187.68</td>\n",
       "      <td>69668820</td>\n",
       "      <td>188.15</td>\n",
       "      <td>189.25</td>\n",
       "      <td>185.84</td>\n",
       "    </tr>\n",
       "  </tbody>\n",
       "</table>\n",
       "<p>63 rows × 5 columns</p>\n",
       "</div>"
      ],
      "text/plain": [
       "            Close/Last     Volume    Open    High     Low\n",
       "Date                                                     \n",
       "2024-05-03      183.38  163224100  186.65  187.00  182.66\n",
       "2024-05-02      173.03   94214920  172.51  173.42  170.89\n",
       "2024-05-01      169.30   50383150  169.58  172.71  169.11\n",
       "2024-04-30      170.33   65934780  173.33  174.99  170.00\n",
       "2024-04-29      173.50   68169420  173.37  176.03  173.10\n",
       "...                ...        ...     ...     ...     ...\n",
       "2024-02-09      188.85   45155220  188.65  189.99  188.00\n",
       "2024-02-08      188.32   40962050  189.39  189.54  187.35\n",
       "2024-02-07      189.41   53438960  190.64  191.05  188.61\n",
       "2024-02-06      189.30   43490760  186.86  189.31  186.77\n",
       "2024-02-05      187.68   69668820  188.15  189.25  185.84\n",
       "\n",
       "[63 rows x 5 columns]"
      ]
     },
     "execution_count": 93,
     "metadata": {},
     "output_type": "execute_result"
    }
   ],
   "source": [
    "print(end_date)\n",
    "print(start_date)\n",
    "print(end_date - start_date)\n",
    "data_aapl.loc[end_date:start_date]\n"
   ]
  },
  {
   "cell_type": "code",
   "execution_count": null,
   "id": "03b51a20",
   "metadata": {},
   "outputs": [],
   "source": [
    "# Use the max date calculated above to get the last three months of data in the dataset \n",
    "\n",
    "start_date = end_date - pd.DateOffset(months=3)\n"
   ]
  },
  {
   "cell_type": "code",
   "execution_count": 97,
   "id": "039404e1",
   "metadata": {},
   "outputs": [
    {
     "data": {
      "text/plain": [
       "<matplotlib.legend.Legend at 0x7b59dbe95f90>"
      ]
     },
     "execution_count": 97,
     "metadata": {},
     "output_type": "execute_result"
    },
    {
     "data": {
      "image/png": "[encoded data removed]",
      "text/plain": [
       "<Figure size 1200x600 with 1 Axes>"
      ]
     },
     "metadata": {},
     "output_type": "display_data"
    }
   ],
   "source": [
    "# Plot time series of open v. close stock price for Apple using the last 3 months of data\n",
    "\n",
    "_, ax = plt.subplots(1, 1, figsize=(12, 6))\n",
    "\n",
    "ax.plot(data_aapl.loc[end_date : start_date]['Open'], label='Open Price')\n",
    "ax.plot(data_aapl.loc[end_date : start_date]['Close/Last'], label='Close Price')\n",
    "ax.set_xlabel('Date')\n",
    "ax.set_ylabel('Price')\n",
    "ax.legend()\n"
   ]
  },
  {
   "cell_type": "markdown",
   "id": "bc0070c6",
   "metadata": {},
   "source": [
    "## EDA: Plotting a histogram of a stock's closing price in the last three months\n",
    "\n",
    "One way to see how much a stock's price generally moves is to plot the frequency of closing prices over a set time period. \n",
    "\n",
    "Your task:\n",
    "* Use the **last three months** of Apple stock data and plot a histogram of closing price"
   ]
  },
  {
   "cell_type": "code",
   "execution_count": 102,
   "id": "b48760fd",
   "metadata": {},
   "outputs": [
    {
     "data": {
      "text/plain": [
       "Text(0.5, 1.0, 'Histogram of closing price for Apple in the last three months')"
      ]
     },
     "execution_count": 102,
     "metadata": {},
     "output_type": "execute_result"
    },
    {
     "data": {
      "image/png": "[encoded data removed]",
      "text/plain": [
       "<Figure size 1200x600 with 1 Axes>"
      ]
     },
     "metadata": {},
     "output_type": "display_data"
    }
   ],
   "source": [
    "# Plot the histogram of Apple's closing price over the last 3 months \n",
    "\n",
    "\n",
    "_, ax = plt.subplots(1, 1, figsize=(12, 6))\n",
    "ax.hist(data_aapl.loc[end_date:start_date]['Close/Last'], bins=20, rwidth=0.9)\n",
    "ax.set_title('Histogram of closing price for Apple in the last three months')\n",
    "\n"
   ]
  },
  {
   "cell_type": "markdown",
   "id": "01e1b22c",
   "metadata": {},
   "source": [
    "## Calculating correlation between a stock price and a macroeconomic variable \n",
    "\n",
    "Inflation affects the purchasing power of money and can influence corporate profits, interest rates, and consumer behavior. By analyzing the correlation between stock prices and inflation, one can gauge how inflationary trends impact stock market performance. For instance, high inflation might erode profit margins and reduce stock prices, while moderate inflation might indicate a growing economy, benefiting stocks.\n",
    "\n",
    "Your task:\n",
    "* Plot a heatmap that shows the correlation between Microsoft and Apple returns and inflation \n",
    "\n",
    "This will require several steps:\n",
    "1. Calculate the returns for Apple and Microsoft and the change in monthly inflation (use the `pct_change` method for each)\n",
    "2. Interpolate the daily stock returns data to monthly so it can be compared to the monthly inflation data\n",
    "3. Merge the stock returns (Apple and Microsoft) and inflation data series into a single dataframe\n",
    "4. Calculate the correlation matrix between the Apple returns, Microsoft returns, and inflation change\n",
    "5. Plot the correlation matrix as a heatmap"
   ]
  },
  {
   "cell_type": "markdown",
   "id": "c38842ed",
   "metadata": {},
   "source": [
    "### 1. Calculate returns for Microsoft / Apple and the monthly change in inflation"
   ]
  },
  {
   "cell_type": "code",
   "execution_count": 119,
   "id": "a112dc12",
   "metadata": {},
   "outputs": [],
   "source": [
    "# Calculate daily returns for Apple and Microsoft and the percent change in inflation from month to month\n",
    "\n",
    "data_aapl['pct_change'] = data_aapl['Close/Last'].pct_change()\n",
    "data_msft['pct_change'] = data_msft['Close/Last'].pct_change()\n",
    "data_inflation['pct_change'] = data_inflation['CORESTICKM159SFRBATL'].pct_change()"
   ]
  },
  {
   "cell_type": "markdown",
   "id": "c8aa1b91",
   "metadata": {},
   "source": [
    "### 2. Interpolate stock returns from daily to monthly"
   ]
  },
  {
   "cell_type": "code",
   "execution_count": 130,
   "id": "9300a530",
   "metadata": {},
   "outputs": [],
   "source": [
    "data_aapl_monthly_change = pd.DataFrame(data_aapl['pct_change'].resample('ME').mean())\n",
    "data_msft_monthly_change = pd.DataFrame(data_msft['pct_change'].resample('ME').mean())\n",
    "# no interpolation needed for inflation as it is already monthly\n",
    "data_inflation_monthly_change = pd.DataFrame(data_inflation['pct_change'].pct_change())\n"
   ]
  },
  {
   "cell_type": "markdown",
   "id": "268272e6",
   "metadata": {},
   "source": [
    "### 3. Merge the dataframes and calculate / plot the correlation"
   ]
  },
  {
   "cell_type": "code",
   "execution_count": 145,
   "id": "0defb97b",
   "metadata": {},
   "outputs": [
    {
     "name": "stdout",
     "output_type": "stream",
     "text": [
      "Apple        False\n",
      "Microsoft    False\n",
      "Inflation    False\n",
      "dtype: bool\n",
      "\n",
      "<class 'pandas.core.frame.DataFrame'>\n",
      "DatetimeIndex: 119 entries, 2014-05-31 to 2024-03-31\n",
      "Freq: ME\n",
      "Data columns (total 3 columns):\n",
      " #   Column     Non-Null Count  Dtype  \n",
      "---  ------     --------------  -----  \n",
      " 0   Apple      119 non-null    float64\n",
      " 1   Microsoft  119 non-null    float64\n",
      " 2   Inflation  119 non-null    float64\n",
      "dtypes: float64(3)\n",
      "memory usage: 3.7 KB\n",
      "None\n"
     ]
    }
   ],
   "source": [
    "data_monthly_change = pd.concat([\n",
    "    data_aapl_monthly_change,\n",
    "    data_msft_monthly_change,\n",
    "    data_inflation_monthly_change\n",
    "], axis=1, join='inner')\n",
    "data_monthly_change.columns = ['Apple', 'Microsoft', 'Inflation']\n",
    "data_monthly_change\n",
    "\n",
    "print(data_monthly_change.isnull().any())\n",
    "print()\n",
    "print(data_monthly_change.info())"
   ]
  },
  {
   "cell_type": "markdown",
   "id": "e1352272",
   "metadata": {},
   "source": [
    "### 4. Calculate the correlation matrix between the Apple returns, Microsoft returns, and inflation change"
   ]
  },
  {
   "cell_type": "code",
   "execution_count": 146,
   "id": "8176f9ff",
   "metadata": {},
   "outputs": [
    {
     "data": {
      "text/html": [
       "<div>\n",
       "<style scoped>\n",
       "    .dataframe tbody tr th:only-of-type {\n",
       "        vertical-align: middle;\n",
       "    }\n",
       "\n",
       "    .dataframe tbody tr th {\n",
       "        vertical-align: top;\n",
       "    }\n",
       "\n",
       "    .dataframe thead th {\n",
       "        text-align: right;\n",
       "    }\n",
       "</style>\n",
       "<table border=\"1\" class=\"dataframe\">\n",
       "  <thead>\n",
       "    <tr style=\"text-align: right;\">\n",
       "      <th></th>\n",
       "      <th>Apple</th>\n",
       "      <th>Microsoft</th>\n",
       "      <th>Inflation</th>\n",
       "    </tr>\n",
       "  </thead>\n",
       "  <tbody>\n",
       "    <tr>\n",
       "      <th>Apple</th>\n",
       "      <td>1.000000</td>\n",
       "      <td>0.646676</td>\n",
       "      <td>0.057198</td>\n",
       "    </tr>\n",
       "    <tr>\n",
       "      <th>Microsoft</th>\n",
       "      <td>0.646676</td>\n",
       "      <td>1.000000</td>\n",
       "      <td>-0.006679</td>\n",
       "    </tr>\n",
       "    <tr>\n",
       "      <th>Inflation</th>\n",
       "      <td>0.057198</td>\n",
       "      <td>-0.006679</td>\n",
       "      <td>1.000000</td>\n",
       "    </tr>\n",
       "  </tbody>\n",
       "</table>\n",
       "</div>"
      ],
      "text/plain": [
       "              Apple  Microsoft  Inflation\n",
       "Apple      1.000000   0.646676   0.057198\n",
       "Microsoft  0.646676   1.000000  -0.006679\n",
       "Inflation  0.057198  -0.006679   1.000000"
      ]
     },
     "execution_count": 146,
     "metadata": {},
     "output_type": "execute_result"
    }
   ],
   "source": [
    "# Calculate correlation matrix\n",
    "\n",
    "data_monthly_change.corr()"
   ]
  },
  {
   "cell_type": "markdown",
   "id": "43b0ac07",
   "metadata": {},
   "source": [
    "### 5. Plot the correlation matrix as a heatmap "
   ]
  },
  {
   "cell_type": "code",
   "execution_count": 178,
   "id": "0f731a65",
   "metadata": {},
   "outputs": [
    {
     "data": {
      "text/plain": [
       "Text(0.5, 1.0, 'Correlation Matrix among, Apple, Microsoft and Inflation')"
      ]
     },
     "execution_count": 178,
     "metadata": {},
     "output_type": "execute_result"
    },
    {
     "data": {
      "image/png": "[encoded data removed]",
      "text/plain": [
       "<Figure size 400x350 with 2 Axes>"
      ]
     },
     "metadata": {},
     "output_type": "display_data"
    }
   ],
   "source": [
    "# Plot heatmap\n",
    "\n",
    "_, ax = plt.subplots(1, 1, figsize=(4, 3.5))\n",
    "corr_matrix = data_monthly_change.corr()\n",
    "sns.heatmap(corr_matrix, ax=ax, vmin=-1, vmax=1, cmap='coolwarm')\n",
    "ax.set_title('Correlation Matrix among, Apple, Microsoft and Inflation')"
   ]
  },
  {
   "cell_type": "markdown",
   "id": "624a2410",
   "metadata": {},
   "source": [
    "## Calculating rolling volatility (standard deviation) of a stock's price for last 3 months\n",
    "\n",
    "Volatility is a measure of the dispersion of returns for a given security. By calculating rolling volatility, investors can assess the risk associated with a stock over time: Higher volatility indicates higher risk, as the stock's price is more likely to experience significant fluctuations. In portfolio optimization, understanding the volatility of individual stocks and how it changes over time is crucial for diversification and optimization. By analyzing rolling volatility, investors can adjust their portfolios to maintain a desired risk level, potentially improving the risk-return profile.\n",
    "\n",
    "One possible way to calculate volatility is by using the standard deviation of returns for a stock over time.\n",
    "\n",
    "Your task:\n",
    "* Calculate the weekly rolling standard deviation for Apple's closing price\n",
    "* Plot the calculated rolling weekly volatility of Apple's closing price against Apple's closing price. Plot these **on the same chart, but using different y-axes**\n",
    "\n",
    "Helpful hints:\n",
    "* You'll need to use the `pandas` `rolling()` method with a given `window_size` parameter to make it a _weekly_ rolling calculation\n",
    "* Use **only the last three months of data**; data much older than this may not be as useful for portfolio optimization\n",
    "* You'll need to create two axes on the matplotlib figure to be able to use two different y-axes (one for the closing price and one for the rolling volatility calculated here)"
   ]
  },
  {
   "cell_type": "code",
   "execution_count": 157,
   "id": "4da9eb94",
   "metadata": {},
   "outputs": [],
   "source": [
    "# Define the window size for the rolling calculation (e.g., one week)\n",
    "\n",
    "window_size = 5"
   ]
  },
  {
   "cell_type": "code",
   "execution_count": 158,
   "id": "2c5142b4",
   "metadata": {},
   "outputs": [],
   "source": [
    "# Calculate rolling one-week volatility\n",
    "\n",
    "data_aapl['std_close_price'] = data_aapl['Close/Last'].rolling(window_size).std()"
   ]
  },
  {
   "cell_type": "code",
   "execution_count": 174,
   "id": "92a9c0b8",
   "metadata": {},
   "outputs": [
    {
     "data": {
      "text/plain": [
       "<matplotlib.legend.Legend at 0x7b59ce4f1a50>"
      ]
     },
     "execution_count": 174,
     "metadata": {},
     "output_type": "execute_result"
    },
    {
     "data": {
      "image/png": "[encoded data removed]",
      "text/plain": [
       "<Figure size 1200x600 with 2 Axes>"
      ]
     },
     "metadata": {},
     "output_type": "display_data"
    }
   ],
   "source": [
    "# Plot the calculated rolling weekly volatility of Apple's closing price against Apple's closing price\n",
    "# Plot these on the same chart, but using different y-axes\n",
    "# form https://stackoverflow.com/questions/14762181/adding-a-y-axis-label-to-secondary-y-axis-in-matplotlib\n",
    "\n",
    "fig, ax1 = plt.subplots(1, 1, figsize=(12, 6)) \n",
    "ax2 = ax1.twinx()\n",
    "\n",
    "ax1.plot(data_aapl[end_date : start_date]['Close/Last'],\n",
    "        label='Closing Price', color='b', marker='o', lw=2)\n",
    "ax2.plot(data_aapl[end_date : start_date]['std_close_price'],\n",
    "          label='Rolling Weekly Volatility', color='r', marker='d', lw=1)\n",
    "ax1.set_title('Apple Closing Price and Weekly Rolling Volatility')\n",
    "ax1.set_ylabel('Price')\n",
    "ax2.set_ylabel('Rolling Weekly Volatility')\n",
    "fig.legend()\n"
   ]
  },
  {
   "cell_type": "markdown",
   "id": "e2cf3c78",
   "metadata": {},
   "source": [
    "## Export data\n",
    "\n",
    "Now that you have preprocessed your data, you should save it in new csv files so that it can be used in downstream tasks without having to redo all the preprocessing steps. \n",
    "\n",
    "Your task:\n",
    "* Use `pandas` to export all modified datasets back to new CSV files"
   ]
  },
  {
   "cell_type": "code",
   "execution_count": 185,
   "id": "3d67d29c",
   "metadata": {},
   "outputs": [],
   "source": [
    "data_inflation_weekly.to_csv('inflation_weekly_interpolated.csv')\n",
    "data_inflation_quarterly.to_csv('inflation_quarterly_resampled.csv')\n",
    "\n",
    "data_aapl.to_csv('apple_historical_data_new.csv')\n",
    "data_msft.to_csv('microsoft_historical_data_new.csv')\n",
    "\n",
    "data_monthly_change.to_csv('monthly_change.csv')"
   ]
  }
 ],
 "metadata": {
  "kernelspec": {
   "display_name": "py3.11.10",
   "language": "python",
   "name": "python3"
  },
  "language_info": {
   "codemirror_mode": {
    "name": "ipython",
    "version": 3
   },
   "file_extension": ".py",
   "mimetype": "text/x-python",
   "name": "python",
   "nbconvert_exporter": "python",
   "pygments_lexer": "ipython3",
   "version": "3.11.10"
  }
 },
 "nbformat": 4,
 "nbformat_minor": 5
}
