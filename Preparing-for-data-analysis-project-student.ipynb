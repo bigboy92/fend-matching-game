{
 "cells": [
  {
   "cell_type": "markdown",
   "id": "81942eb1",
   "metadata": {},
   "source": [
    "# Course 2 Project: ML Pipeline for Feature Engineering"
   ]
  },
  {
   "cell_type": "markdown",
   "id": "4f241775",
   "metadata": {},
   "source": [
    "## Instructions\n",
    "\n",
    "In this project, you'll use data related to microeconomic indicators and historical stock prices to explore the data engineering pipline. You'll get to practice:\n",
    "\n",
    "* Data ingestion \n",
    "* Data cleaning\n",
    "* Data imputation\n",
    "* Exploratory data analysis (EDA) through charts and graphs"
   ]
  },
  {
   "cell_type": "markdown",
   "id": "1f12b277",
   "metadata": {},
   "source": [
    "## Packages\n",
    "\n",
    "You'll use `pandas` and `matplotlib`, which were covered in the course material, to import, clean, and plot data. They have been installed in this workspace for you. If you're working locally and you installed Jupyter using Anaconda, these packages will already be installed. "
   ]
  },
  {
   "cell_type": "code",
   "execution_count": 1,
   "id": "882241d4",
   "metadata": {},
   "outputs": [],
   "source": [
    "import pandas as pd\n",
    "import matplotlib.pyplot as plt\n",
    "import seaborn as sns\n",
    "import os"
   ]
  },
  {
   "cell_type": "markdown",
   "id": "f9fcd352",
   "metadata": {},
   "source": [
    "## Load data\n",
    "\n",
    "The first step in a data engineering pipeline for machine learning is to ingest the data that will be used. For this project, data is hosted on a public GitHub repo. \n",
    "\n",
    "### Your tasks\n",
    "* Import data from the provided [GitHub repo](https://github.com/udacity/CD13649-Project/tree/main/Project) using `pandas`. For your convenience, the data files (CSVs) are also present in the current workspace at the path **CD13649-Project/Project/**. Here are the data files to import: \n",
    "  1. GDP (**GDP.csv**)\n",
    "  2. Inflation (**inflation_monthly.csv**)\n",
    "  3. Apple stock prices (**apple_historical_data.csv**)\n",
    "  4. Microsoft stock prices (**microsoft_historical_data.csv**)\n",
    "  5. Consumer price index (**consumer_price_index.csv**)\n",
    "\n",
    "\n",
    "\n",
    "* Verify that the data has been imported correctly into `pandas` dataframes. Use methods like `head()` and `info()`\n",
    "\n",
    "\n",
    "* You may need to change column names to make them easier to work with\n",
    "\n",
    "\n",
    "* You may need to cast datetime data to the `datetime` format using `pandas` `to_datetime()` method\n",
    "\n"
   ]
  },
  {
   "cell_type": "code",
   "execution_count": 2,
   "id": "bd119016",
   "metadata": {},
   "outputs": [],
   "source": [
    "# Load historical GDP data\n",
    "path = os.path.join(os.getcwd(), '../../')\n",
    "df_gdp = pd.read_csv(\"GDP.csv\")\n"
   ]
  },
  {
   "cell_type": "code",
   "execution_count": 3,
   "id": "cf36d7c0",
   "metadata": {},
   "outputs": [
    {
     "data": {
      "text/html": [
       "<div>\n",
       "<style scoped>\n",
       "    .dataframe tbody tr th:only-of-type {\n",
       "        vertical-align: middle;\n",
       "    }\n",
       "\n",
       "    .dataframe tbody tr th {\n",
       "        vertical-align: top;\n",
       "    }\n",
       "\n",
       "    .dataframe thead th {\n",
       "        text-align: right;\n",
       "    }\n",
       "</style>\n",
       "<table border=\"1\" class=\"dataframe\">\n",
       "  <thead>\n",
       "    <tr style=\"text-align: right;\">\n",
       "      <th></th>\n",
       "      <th>DATE</th>\n",
       "      <th>GDP</th>\n",
       "    </tr>\n",
       "  </thead>\n",
       "  <tbody>\n",
       "    <tr>\n",
       "      <th>0</th>\n",
       "      <td>1947-01-01</td>\n",
       "      <td>243.164</td>\n",
       "    </tr>\n",
       "    <tr>\n",
       "      <th>1</th>\n",
       "      <td>1947-04-01</td>\n",
       "      <td>245.968</td>\n",
       "    </tr>\n",
       "    <tr>\n",
       "      <th>2</th>\n",
       "      <td>1947-07-01</td>\n",
       "      <td>249.585</td>\n",
       "    </tr>\n",
       "    <tr>\n",
       "      <th>3</th>\n",
       "      <td>1947-10-01</td>\n",
       "      <td>259.745</td>\n",
       "    </tr>\n",
       "    <tr>\n",
       "      <th>4</th>\n",
       "      <td>1948-01-01</td>\n",
       "      <td>265.742</td>\n",
       "    </tr>\n",
       "  </tbody>\n",
       "</table>\n",
       "</div>"
      ],
      "text/plain": [
       "         DATE      GDP\n",
       "0  1947-01-01  243.164\n",
       "1  1947-04-01  245.968\n",
       "2  1947-07-01  249.585\n",
       "3  1947-10-01  259.745\n",
       "4  1948-01-01  265.742"
      ]
     },
     "execution_count": 3,
     "metadata": {},
     "output_type": "execute_result"
    }
   ],
   "source": [
    "# Check the first few rows of data\n",
    "df_gdp.head(5)"
   ]
  },
  {
   "cell_type": "code",
   "execution_count": 4,
   "id": "2a2478c9",
   "metadata": {},
   "outputs": [],
   "source": [
    "# Load the historical stock price data for Apple and Microsoft\n",
    "df_aapl = pd.read_csv(\"apple_historical_data.csv\")\n",
    "df_msft = pd.read_csv(\"microsoft_historical_data.csv\")"
   ]
  },
  {
   "cell_type": "code",
   "execution_count": 5,
   "id": "e9e9a77a",
   "metadata": {},
   "outputs": [
    {
     "data": {
      "text/html": [
       "<div>\n",
       "<style scoped>\n",
       "    .dataframe tbody tr th:only-of-type {\n",
       "        vertical-align: middle;\n",
       "    }\n",
       "\n",
       "    .dataframe tbody tr th {\n",
       "        vertical-align: top;\n",
       "    }\n",
       "\n",
       "    .dataframe thead th {\n",
       "        text-align: right;\n",
       "    }\n",
       "</style>\n",
       "<table border=\"1\" class=\"dataframe\">\n",
       "  <thead>\n",
       "    <tr style=\"text-align: right;\">\n",
       "      <th></th>\n",
       "      <th>Date</th>\n",
       "      <th>Close/Last</th>\n",
       "      <th>Volume</th>\n",
       "      <th>Open</th>\n",
       "      <th>High</th>\n",
       "      <th>Low</th>\n",
       "    </tr>\n",
       "  </thead>\n",
       "  <tbody>\n",
       "    <tr>\n",
       "      <th>0</th>\n",
       "      <td>5/3/2024</td>\n",
       "      <td>$183.38</td>\n",
       "      <td>163224100</td>\n",
       "      <td>$186.65</td>\n",
       "      <td>$187.00</td>\n",
       "      <td>$182.66</td>\n",
       "    </tr>\n",
       "    <tr>\n",
       "      <th>1</th>\n",
       "      <td>5/2/2024</td>\n",
       "      <td>$173.03</td>\n",
       "      <td>94214920</td>\n",
       "      <td>$172.51</td>\n",
       "      <td>$173.42</td>\n",
       "      <td>$170.89</td>\n",
       "    </tr>\n",
       "    <tr>\n",
       "      <th>2</th>\n",
       "      <td>5/1/2024</td>\n",
       "      <td>$169.30</td>\n",
       "      <td>50383150</td>\n",
       "      <td>$169.58</td>\n",
       "      <td>$172.71</td>\n",
       "      <td>$169.11</td>\n",
       "    </tr>\n",
       "    <tr>\n",
       "      <th>3</th>\n",
       "      <td>4/30/2024</td>\n",
       "      <td>$170.33</td>\n",
       "      <td>65934780</td>\n",
       "      <td>$173.33</td>\n",
       "      <td>$174.99</td>\n",
       "      <td>$170.00</td>\n",
       "    </tr>\n",
       "    <tr>\n",
       "      <th>4</th>\n",
       "      <td>4/29/2024</td>\n",
       "      <td>$173.50</td>\n",
       "      <td>68169420</td>\n",
       "      <td>$173.37</td>\n",
       "      <td>$176.03</td>\n",
       "      <td>$173.10</td>\n",
       "    </tr>\n",
       "  </tbody>\n",
       "</table>\n",
       "</div>"
      ],
      "text/plain": [
       "        Date Close/Last     Volume      Open      High       Low\n",
       "0   5/3/2024   $183.38   163224100  $186.65   $187.00   $182.66 \n",
       "1   5/2/2024   $173.03    94214920  $172.51   $173.42   $170.89 \n",
       "2   5/1/2024   $169.30    50383150  $169.58   $172.71   $169.11 \n",
       "3  4/30/2024   $170.33    65934780  $173.33   $174.99   $170.00 \n",
       "4  4/29/2024   $173.50    68169420  $173.37   $176.03   $173.10 "
      ]
     },
     "execution_count": 5,
     "metadata": {},
     "output_type": "execute_result"
    }
   ],
   "source": [
    "# Check the first few rows of data\n",
    "df_aapl.head(5)"
   ]
  },
  {
   "cell_type": "code",
   "execution_count": 6,
   "id": "4c95f3c1",
   "metadata": {},
   "outputs": [
    {
     "data": {
      "text/html": [
       "<div>\n",
       "<style scoped>\n",
       "    .dataframe tbody tr th:only-of-type {\n",
       "        vertical-align: middle;\n",
       "    }\n",
       "\n",
       "    .dataframe tbody tr th {\n",
       "        vertical-align: top;\n",
       "    }\n",
       "\n",
       "    .dataframe thead th {\n",
       "        text-align: right;\n",
       "    }\n",
       "</style>\n",
       "<table border=\"1\" class=\"dataframe\">\n",
       "  <thead>\n",
       "    <tr style=\"text-align: right;\">\n",
       "      <th></th>\n",
       "      <th>Date</th>\n",
       "      <th>Close/Last</th>\n",
       "      <th>Volume</th>\n",
       "      <th>Open</th>\n",
       "      <th>High</th>\n",
       "      <th>Low</th>\n",
       "    </tr>\n",
       "  </thead>\n",
       "  <tbody>\n",
       "    <tr>\n",
       "      <th>0</th>\n",
       "      <td>05/03/2024</td>\n",
       "      <td>$406.66</td>\n",
       "      <td>17446720</td>\n",
       "      <td>$402.28</td>\n",
       "      <td>$407.15</td>\n",
       "      <td>$401.86</td>\n",
       "    </tr>\n",
       "    <tr>\n",
       "      <th>1</th>\n",
       "      <td>05/02/2024</td>\n",
       "      <td>$397.84</td>\n",
       "      <td>17709360</td>\n",
       "      <td>$397.66</td>\n",
       "      <td>$399.93</td>\n",
       "      <td>$394.6515</td>\n",
       "    </tr>\n",
       "    <tr>\n",
       "      <th>2</th>\n",
       "      <td>05/01/2024</td>\n",
       "      <td>$394.94</td>\n",
       "      <td>23562480</td>\n",
       "      <td>$392.61</td>\n",
       "      <td>$401.7199</td>\n",
       "      <td>$390.31</td>\n",
       "    </tr>\n",
       "    <tr>\n",
       "      <th>3</th>\n",
       "      <td>04/30/2024</td>\n",
       "      <td>$389.33</td>\n",
       "      <td>28781370</td>\n",
       "      <td>$401.49</td>\n",
       "      <td>$402.16</td>\n",
       "      <td>$389.17</td>\n",
       "    </tr>\n",
       "    <tr>\n",
       "      <th>4</th>\n",
       "      <td>04/29/2024</td>\n",
       "      <td>$402.25</td>\n",
       "      <td>19582090</td>\n",
       "      <td>$405.25</td>\n",
       "      <td>$406.32</td>\n",
       "      <td>$399.19</td>\n",
       "    </tr>\n",
       "  </tbody>\n",
       "</table>\n",
       "</div>"
      ],
      "text/plain": [
       "         Date Close/Last    Volume     Open       High        Low\n",
       "0  05/03/2024    $406.66  17446720  $402.28    $407.15    $401.86\n",
       "1  05/02/2024    $397.84  17709360  $397.66    $399.93  $394.6515\n",
       "2  05/01/2024    $394.94  23562480  $392.61  $401.7199    $390.31\n",
       "3  04/30/2024    $389.33  28781370  $401.49    $402.16    $389.17\n",
       "4  04/29/2024    $402.25  19582090  $405.25    $406.32    $399.19"
      ]
     },
     "execution_count": 6,
     "metadata": {},
     "output_type": "execute_result"
    }
   ],
   "source": [
    "df_msft.head(5)"
   ]
  },
  {
   "cell_type": "code",
   "execution_count": 7,
   "id": "8c9bed17",
   "metadata": {},
   "outputs": [
    {
     "name": "stdout",
     "output_type": "stream",
     "text": [
      "<class 'pandas.core.frame.DataFrame'>\n",
      "RangeIndex: 309 entries, 0 to 308\n",
      "Data columns (total 2 columns):\n",
      " #   Column  Non-Null Count  Dtype  \n",
      "---  ------  --------------  -----  \n",
      " 0   DATE    309 non-null    object \n",
      " 1   GDP     309 non-null    float64\n",
      "dtypes: float64(1), object(1)\n",
      "memory usage: 5.0+ KB\n"
     ]
    }
   ],
   "source": [
    "# Use methods like .info() and .describe() to explore the data\n",
    "df_gdp.info()"
   ]
  },
  {
   "cell_type": "code",
   "execution_count": 8,
   "id": "2a3f8416",
   "metadata": {},
   "outputs": [
    {
     "data": {
      "text/html": [
       "<div>\n",
       "<style scoped>\n",
       "    .dataframe tbody tr th:only-of-type {\n",
       "        vertical-align: middle;\n",
       "    }\n",
       "\n",
       "    .dataframe tbody tr th {\n",
       "        vertical-align: top;\n",
       "    }\n",
       "\n",
       "    .dataframe thead th {\n",
       "        text-align: right;\n",
       "    }\n",
       "</style>\n",
       "<table border=\"1\" class=\"dataframe\">\n",
       "  <thead>\n",
       "    <tr style=\"text-align: right;\">\n",
       "      <th></th>\n",
       "      <th>Volume</th>\n",
       "    </tr>\n",
       "  </thead>\n",
       "  <tbody>\n",
       "    <tr>\n",
       "      <th>count</th>\n",
       "      <td>2.517000e+03</td>\n",
       "    </tr>\n",
       "    <tr>\n",
       "      <th>mean</th>\n",
       "      <td>1.277394e+08</td>\n",
       "    </tr>\n",
       "    <tr>\n",
       "      <th>std</th>\n",
       "      <td>7.357405e+07</td>\n",
       "    </tr>\n",
       "    <tr>\n",
       "      <th>min</th>\n",
       "      <td>2.404834e+07</td>\n",
       "    </tr>\n",
       "    <tr>\n",
       "      <th>25%</th>\n",
       "      <td>7.741776e+07</td>\n",
       "    </tr>\n",
       "    <tr>\n",
       "      <th>50%</th>\n",
       "      <td>1.077601e+08</td>\n",
       "    </tr>\n",
       "    <tr>\n",
       "      <th>75%</th>\n",
       "      <td>1.567789e+08</td>\n",
       "    </tr>\n",
       "    <tr>\n",
       "      <th>max</th>\n",
       "      <td>7.576780e+08</td>\n",
       "    </tr>\n",
       "  </tbody>\n",
       "</table>\n",
       "</div>"
      ],
      "text/plain": [
       "             Volume\n",
       "count  2.517000e+03\n",
       "mean   1.277394e+08\n",
       "std    7.357405e+07\n",
       "min    2.404834e+07\n",
       "25%    7.741776e+07\n",
       "50%    1.077601e+08\n",
       "75%    1.567789e+08\n",
       "max    7.576780e+08"
      ]
     },
     "execution_count": 8,
     "metadata": {},
     "output_type": "execute_result"
    }
   ],
   "source": [
    "df_aapl.describe()"
   ]
  },
  {
   "cell_type": "code",
   "execution_count": 9,
   "id": "8e2eb623",
   "metadata": {},
   "outputs": [
    {
     "name": "stdout",
     "output_type": "stream",
     "text": [
      "<class 'pandas.core.frame.DataFrame'>\n",
      "RangeIndex: 2517 entries, 0 to 2516\n",
      "Data columns (total 6 columns):\n",
      " #   Column      Non-Null Count  Dtype \n",
      "---  ------      --------------  ----- \n",
      " 0   Date        2517 non-null   object\n",
      " 1   Close/Last  2517 non-null   object\n",
      " 2   Volume      2517 non-null   int64 \n",
      " 3   Open        2517 non-null   object\n",
      " 4   High        2517 non-null   object\n",
      " 5   Low         2517 non-null   object\n",
      "dtypes: int64(1), object(5)\n",
      "memory usage: 118.1+ KB\n"
     ]
    }
   ],
   "source": [
    "df_msft.info()"
   ]
  },
  {
   "cell_type": "markdown",
   "id": "06c8d9dc",
   "metadata": {},
   "source": [
    "## Data preprocessing: Check for missing data and forward fill\n",
    "\n",
    "Check the Apple historical prices for missing data. Check for missing data in all columns. If there's data missing, use a forward fill to fill in those missing prices. "
   ]
  },
  {
   "cell_type": "code",
   "execution_count": 13,
   "id": "4807173e",
   "metadata": {},
   "outputs": [
    {
     "data": {
      "text/plain": [
       "Date          0\n",
       "Close/Last    3\n",
       "Volume        0\n",
       "Open          0\n",
       "High          0\n",
       "Low           0\n",
       "dtype: int64"
      ]
     },
     "execution_count": 13,
     "metadata": {},
     "output_type": "execute_result"
    }
   ],
   "source": [
    "# Check for nulls \n",
    "df_aapl.isnull().sum()\n"
   ]
  },
  {
   "cell_type": "code",
   "execution_count": 14,
   "id": "00e4d6f5",
   "metadata": {},
   "outputs": [],
   "source": [
    "# Forward fill any missing data\n",
    "df_aapl = df_aapl.ffill()"
   ]
  },
  {
   "cell_type": "code",
   "execution_count": 15,
   "id": "f82d3b2d",
   "metadata": {},
   "outputs": [
    {
     "name": "stdout",
     "output_type": "stream",
     "text": [
      "<class 'pandas.core.frame.DataFrame'>\n",
      "RangeIndex: 2517 entries, 0 to 2516\n",
      "Data columns (total 6 columns):\n",
      " #   Column      Non-Null Count  Dtype \n",
      "---  ------      --------------  ----- \n",
      " 0   Date        2517 non-null   object\n",
      " 1   Close/Last  2517 non-null   object\n",
      " 2   Volume      2517 non-null   int64 \n",
      " 3   Open        2517 non-null   object\n",
      " 4   High        2517 non-null   object\n",
      " 5   Low         2517 non-null   object\n",
      "dtypes: int64(1), object(5)\n",
      "memory usage: 118.1+ KB\n"
     ]
    }
   ],
   "source": [
    "# Check again for nulls after using forward fill\n",
    "df_aapl.info()"
   ]
  },
  {
   "cell_type": "markdown",
   "id": "2614c615",
   "metadata": {},
   "source": [
    "## Data preprocessing: Remove special characters and convert to numeric/datetime\n",
    "\n",
    "The next step in the data engineering process is to standardize and clean up data. In this step, you'll check for odd formatting and special characters that will make it difficult to work with data as numeric or datetime. \n",
    "\n",
    "In this step:\n",
    "* Create a function that takes in a dataframe and a list of columns and removes dollar signs ('$') from those columns\n",
    "* Convert any columns with date/time data into a `pandas` `datetime` format"
   ]
  },
  {
   "cell_type": "code",
   "execution_count": 16,
   "id": "a47537af",
   "metadata": {},
   "outputs": [],
   "source": [
    "def convert_dollar_columns_to_numeric(df, numeric_columns):\n",
    "    '''\n",
    "        Removes dollar signs ('$') from a list of columns in a given dataframe AND casts the columns to a numeric datatype.\n",
    "        Updates dataframe IN PLACE.\n",
    "        \n",
    "        Inputs:\n",
    "            df: dataframe to be operated on\n",
    "            numeric_columns: columns that should have numeric data but have dollar signs currently\n",
    "            \n",
    "        Returns:\n",
    "            None - changes to the dataframe can be made in place\n",
    "    '''\n",
    "    for col in numeric_columns:\n",
    "        df[col] = df[col].replace({'\\$': ''}, regex=True).astype(float)\n",
    "    \n",
    "    #pass "
   ]
  },
  {
   "cell_type": "code",
   "execution_count": 17,
   "id": "055f8621",
   "metadata": {},
   "outputs": [],
   "source": [
    "# Use convert_dollar_columns_to_numeric() to remove the dollar sign from the Apple and Microsoft datasets\n",
    "\n",
    "# Columns to clean\n",
    "dollar_columns = ['Close/Last', 'Open', 'High', 'Low']\n",
    "\n",
    "# Apply the function\n",
    "convert_dollar_columns_to_numeric(df_aapl, dollar_columns)\n",
    "convert_dollar_columns_to_numeric(df_msft, dollar_columns)"
   ]
  },
  {
   "cell_type": "code",
   "execution_count": 18,
   "id": "512ebb94",
   "metadata": {},
   "outputs": [
    {
     "data": {
      "text/html": [
       "<div>\n",
       "<style scoped>\n",
       "    .dataframe tbody tr th:only-of-type {\n",
       "        vertical-align: middle;\n",
       "    }\n",
       "\n",
       "    .dataframe tbody tr th {\n",
       "        vertical-align: top;\n",
       "    }\n",
       "\n",
       "    .dataframe thead th {\n",
       "        text-align: right;\n",
       "    }\n",
       "</style>\n",
       "<table border=\"1\" class=\"dataframe\">\n",
       "  <thead>\n",
       "    <tr style=\"text-align: right;\">\n",
       "      <th></th>\n",
       "      <th>Date</th>\n",
       "      <th>Close/Last</th>\n",
       "      <th>Volume</th>\n",
       "      <th>Open</th>\n",
       "      <th>High</th>\n",
       "      <th>Low</th>\n",
       "    </tr>\n",
       "  </thead>\n",
       "  <tbody>\n",
       "    <tr>\n",
       "      <th>0</th>\n",
       "      <td>5/3/2024</td>\n",
       "      <td>183.38</td>\n",
       "      <td>163224100</td>\n",
       "      <td>186.65</td>\n",
       "      <td>187.00</td>\n",
       "      <td>182.66</td>\n",
       "    </tr>\n",
       "    <tr>\n",
       "      <th>1</th>\n",
       "      <td>5/2/2024</td>\n",
       "      <td>173.03</td>\n",
       "      <td>94214920</td>\n",
       "      <td>172.51</td>\n",
       "      <td>173.42</td>\n",
       "      <td>170.89</td>\n",
       "    </tr>\n",
       "    <tr>\n",
       "      <th>2</th>\n",
       "      <td>5/1/2024</td>\n",
       "      <td>169.30</td>\n",
       "      <td>50383150</td>\n",
       "      <td>169.58</td>\n",
       "      <td>172.71</td>\n",
       "      <td>169.11</td>\n",
       "    </tr>\n",
       "    <tr>\n",
       "      <th>3</th>\n",
       "      <td>4/30/2024</td>\n",
       "      <td>170.33</td>\n",
       "      <td>65934780</td>\n",
       "      <td>173.33</td>\n",
       "      <td>174.99</td>\n",
       "      <td>170.00</td>\n",
       "    </tr>\n",
       "    <tr>\n",
       "      <th>4</th>\n",
       "      <td>4/29/2024</td>\n",
       "      <td>173.50</td>\n",
       "      <td>68169420</td>\n",
       "      <td>173.37</td>\n",
       "      <td>176.03</td>\n",
       "      <td>173.10</td>\n",
       "    </tr>\n",
       "    <tr>\n",
       "      <th>...</th>\n",
       "      <td>...</td>\n",
       "      <td>...</td>\n",
       "      <td>...</td>\n",
       "      <td>...</td>\n",
       "      <td>...</td>\n",
       "      <td>...</td>\n",
       "    </tr>\n",
       "    <tr>\n",
       "      <th>2512</th>\n",
       "      <td>5/12/2014</td>\n",
       "      <td>21.17</td>\n",
       "      <td>212736019</td>\n",
       "      <td>20.98</td>\n",
       "      <td>21.20</td>\n",
       "      <td>20.98</td>\n",
       "    </tr>\n",
       "    <tr>\n",
       "      <th>2513</th>\n",
       "      <td>5/9/2014</td>\n",
       "      <td>20.91</td>\n",
       "      <td>291068564</td>\n",
       "      <td>20.88</td>\n",
       "      <td>20.94</td>\n",
       "      <td>20.73</td>\n",
       "    </tr>\n",
       "    <tr>\n",
       "      <th>2514</th>\n",
       "      <td>5/8/2014</td>\n",
       "      <td>21.00</td>\n",
       "      <td>228973884</td>\n",
       "      <td>21.01</td>\n",
       "      <td>21.23</td>\n",
       "      <td>20.94</td>\n",
       "    </tr>\n",
       "    <tr>\n",
       "      <th>2515</th>\n",
       "      <td>5/7/2014</td>\n",
       "      <td>21.15</td>\n",
       "      <td>282128727</td>\n",
       "      <td>21.26</td>\n",
       "      <td>21.33</td>\n",
       "      <td>20.99</td>\n",
       "    </tr>\n",
       "    <tr>\n",
       "      <th>2516</th>\n",
       "      <td>5/6/2014</td>\n",
       "      <td>21.23</td>\n",
       "      <td>373872650</td>\n",
       "      <td>21.49</td>\n",
       "      <td>21.59</td>\n",
       "      <td>21.23</td>\n",
       "    </tr>\n",
       "  </tbody>\n",
       "</table>\n",
       "<p>2517 rows × 6 columns</p>\n",
       "</div>"
      ],
      "text/plain": [
       "           Date  Close/Last     Volume    Open    High     Low\n",
       "0      5/3/2024      183.38  163224100  186.65  187.00  182.66\n",
       "1      5/2/2024      173.03   94214920  172.51  173.42  170.89\n",
       "2      5/1/2024      169.30   50383150  169.58  172.71  169.11\n",
       "3     4/30/2024      170.33   65934780  173.33  174.99  170.00\n",
       "4     4/29/2024      173.50   68169420  173.37  176.03  173.10\n",
       "...         ...         ...        ...     ...     ...     ...\n",
       "2512  5/12/2014       21.17  212736019   20.98   21.20   20.98\n",
       "2513   5/9/2014       20.91  291068564   20.88   20.94   20.73\n",
       "2514   5/8/2014       21.00  228973884   21.01   21.23   20.94\n",
       "2515   5/7/2014       21.15  282128727   21.26   21.33   20.99\n",
       "2516   5/6/2014       21.23  373872650   21.49   21.59   21.23\n",
       "\n",
       "[2517 rows x 6 columns]"
      ]
     },
     "execution_count": 18,
     "metadata": {},
     "output_type": "execute_result"
    }
   ],
   "source": [
    "df_aapl"
   ]
  },
  {
   "cell_type": "code",
   "execution_count": 19,
   "id": "efea17ca",
   "metadata": {},
   "outputs": [],
   "source": [
    "# Use pandas's to_datetime() to convert any columns that are in a datetime format\n",
    "df_aapl['Date'] = pd.to_datetime(df_aapl['Date'], format='%m/%d/%Y')\n",
    "df_msft['Date'] = pd.to_datetime(df_msft['Date'], format='%m/%d/%Y')"
   ]
  },
  {
   "cell_type": "code",
   "execution_count": 20,
   "id": "ef59d8b1",
   "metadata": {},
   "outputs": [
    {
     "data": {
      "text/html": [
       "<div>\n",
       "<style scoped>\n",
       "    .dataframe tbody tr th:only-of-type {\n",
       "        vertical-align: middle;\n",
       "    }\n",
       "\n",
       "    .dataframe tbody tr th {\n",
       "        vertical-align: top;\n",
       "    }\n",
       "\n",
       "    .dataframe thead th {\n",
       "        text-align: right;\n",
       "    }\n",
       "</style>\n",
       "<table border=\"1\" class=\"dataframe\">\n",
       "  <thead>\n",
       "    <tr style=\"text-align: right;\">\n",
       "      <th></th>\n",
       "      <th>Date</th>\n",
       "      <th>Close/Last</th>\n",
       "      <th>Volume</th>\n",
       "      <th>Open</th>\n",
       "      <th>High</th>\n",
       "      <th>Low</th>\n",
       "    </tr>\n",
       "  </thead>\n",
       "  <tbody>\n",
       "    <tr>\n",
       "      <th>0</th>\n",
       "      <td>2024-05-03</td>\n",
       "      <td>183.38</td>\n",
       "      <td>163224100</td>\n",
       "      <td>186.65</td>\n",
       "      <td>187.00</td>\n",
       "      <td>182.66</td>\n",
       "    </tr>\n",
       "    <tr>\n",
       "      <th>1</th>\n",
       "      <td>2024-05-02</td>\n",
       "      <td>173.03</td>\n",
       "      <td>94214920</td>\n",
       "      <td>172.51</td>\n",
       "      <td>173.42</td>\n",
       "      <td>170.89</td>\n",
       "    </tr>\n",
       "    <tr>\n",
       "      <th>2</th>\n",
       "      <td>2024-05-01</td>\n",
       "      <td>169.30</td>\n",
       "      <td>50383150</td>\n",
       "      <td>169.58</td>\n",
       "      <td>172.71</td>\n",
       "      <td>169.11</td>\n",
       "    </tr>\n",
       "    <tr>\n",
       "      <th>3</th>\n",
       "      <td>2024-04-30</td>\n",
       "      <td>170.33</td>\n",
       "      <td>65934780</td>\n",
       "      <td>173.33</td>\n",
       "      <td>174.99</td>\n",
       "      <td>170.00</td>\n",
       "    </tr>\n",
       "    <tr>\n",
       "      <th>4</th>\n",
       "      <td>2024-04-29</td>\n",
       "      <td>173.50</td>\n",
       "      <td>68169420</td>\n",
       "      <td>173.37</td>\n",
       "      <td>176.03</td>\n",
       "      <td>173.10</td>\n",
       "    </tr>\n",
       "    <tr>\n",
       "      <th>...</th>\n",
       "      <td>...</td>\n",
       "      <td>...</td>\n",
       "      <td>...</td>\n",
       "      <td>...</td>\n",
       "      <td>...</td>\n",
       "      <td>...</td>\n",
       "    </tr>\n",
       "    <tr>\n",
       "      <th>2512</th>\n",
       "      <td>2014-05-12</td>\n",
       "      <td>21.17</td>\n",
       "      <td>212736019</td>\n",
       "      <td>20.98</td>\n",
       "      <td>21.20</td>\n",
       "      <td>20.98</td>\n",
       "    </tr>\n",
       "    <tr>\n",
       "      <th>2513</th>\n",
       "      <td>2014-05-09</td>\n",
       "      <td>20.91</td>\n",
       "      <td>291068564</td>\n",
       "      <td>20.88</td>\n",
       "      <td>20.94</td>\n",
       "      <td>20.73</td>\n",
       "    </tr>\n",
       "    <tr>\n",
       "      <th>2514</th>\n",
       "      <td>2014-05-08</td>\n",
       "      <td>21.00</td>\n",
       "      <td>228973884</td>\n",
       "      <td>21.01</td>\n",
       "      <td>21.23</td>\n",
       "      <td>20.94</td>\n",
       "    </tr>\n",
       "    <tr>\n",
       "      <th>2515</th>\n",
       "      <td>2014-05-07</td>\n",
       "      <td>21.15</td>\n",
       "      <td>282128727</td>\n",
       "      <td>21.26</td>\n",
       "      <td>21.33</td>\n",
       "      <td>20.99</td>\n",
       "    </tr>\n",
       "    <tr>\n",
       "      <th>2516</th>\n",
       "      <td>2014-05-06</td>\n",
       "      <td>21.23</td>\n",
       "      <td>373872650</td>\n",
       "      <td>21.49</td>\n",
       "      <td>21.59</td>\n",
       "      <td>21.23</td>\n",
       "    </tr>\n",
       "  </tbody>\n",
       "</table>\n",
       "<p>2517 rows × 6 columns</p>\n",
       "</div>"
      ],
      "text/plain": [
       "           Date  Close/Last     Volume    Open    High     Low\n",
       "0    2024-05-03      183.38  163224100  186.65  187.00  182.66\n",
       "1    2024-05-02      173.03   94214920  172.51  173.42  170.89\n",
       "2    2024-05-01      169.30   50383150  169.58  172.71  169.11\n",
       "3    2024-04-30      170.33   65934780  173.33  174.99  170.00\n",
       "4    2024-04-29      173.50   68169420  173.37  176.03  173.10\n",
       "...         ...         ...        ...     ...     ...     ...\n",
       "2512 2014-05-12       21.17  212736019   20.98   21.20   20.98\n",
       "2513 2014-05-09       20.91  291068564   20.88   20.94   20.73\n",
       "2514 2014-05-08       21.00  228973884   21.01   21.23   20.94\n",
       "2515 2014-05-07       21.15  282128727   21.26   21.33   20.99\n",
       "2516 2014-05-06       21.23  373872650   21.49   21.59   21.23\n",
       "\n",
       "[2517 rows x 6 columns]"
      ]
     },
     "execution_count": 20,
     "metadata": {},
     "output_type": "execute_result"
    }
   ],
   "source": [
    "df_aapl"
   ]
  },
  {
   "cell_type": "code",
   "execution_count": 21,
   "id": "8a2089e3",
   "metadata": {},
   "outputs": [
    {
     "name": "stdout",
     "output_type": "stream",
     "text": [
      "<class 'pandas.core.frame.DataFrame'>\n",
      "RangeIndex: 2517 entries, 0 to 2516\n",
      "Data columns (total 6 columns):\n",
      " #   Column      Non-Null Count  Dtype         \n",
      "---  ------      --------------  -----         \n",
      " 0   Date        2517 non-null   datetime64[ns]\n",
      " 1   Close/Last  2517 non-null   float64       \n",
      " 2   Volume      2517 non-null   int64         \n",
      " 3   Open        2517 non-null   float64       \n",
      " 4   High        2517 non-null   float64       \n",
      " 5   Low         2517 non-null   float64       \n",
      "dtypes: datetime64[ns](1), float64(4), int64(1)\n",
      "memory usage: 118.1 KB\n"
     ]
    }
   ],
   "source": [
    "# Use .info() and check the type of each column to ensure that the above steps worked\n",
    "df_aapl.info()\n"
   ]
  },
  {
   "cell_type": "code",
   "execution_count": 22,
   "id": "71e8fc2f",
   "metadata": {},
   "outputs": [
    {
     "name": "stdout",
     "output_type": "stream",
     "text": [
      "<class 'pandas.core.frame.DataFrame'>\n",
      "RangeIndex: 2517 entries, 0 to 2516\n",
      "Data columns (total 6 columns):\n",
      " #   Column      Non-Null Count  Dtype         \n",
      "---  ------      --------------  -----         \n",
      " 0   Date        2517 non-null   datetime64[ns]\n",
      " 1   Close/Last  2517 non-null   float64       \n",
      " 2   Volume      2517 non-null   int64         \n",
      " 3   Open        2517 non-null   float64       \n",
      " 4   High        2517 non-null   float64       \n",
      " 5   Low         2517 non-null   float64       \n",
      "dtypes: datetime64[ns](1), float64(4), int64(1)\n",
      "memory usage: 118.1 KB\n"
     ]
    }
   ],
   "source": [
    "df_msft.info()"
   ]
  },
  {
   "cell_type": "markdown",
   "id": "95ad8e72",
   "metadata": {},
   "source": [
    "## Data preprocessing: Align datetime data\n",
    "\n",
    "Data engineering includes changing data with a datetime component if needed so that different time series can be more easily compared or plotted against each other. \n",
    "\n",
    "In this step:\n",
    "\n",
    "* Align the inflation date so that it falls on the last day of the month instead of the first\n",
    "\n",
    "Helpful hints: \n",
    "* Use the `pandas` `offsets` method using `MonthEnd(0)` to set the 'Date' column to month-end"
   ]
  },
  {
   "cell_type": "code",
   "execution_count": 23,
   "id": "c65b4589",
   "metadata": {},
   "outputs": [],
   "source": [
    "df_inflation = pd.read_csv(\"inflation_monthly.csv\")"
   ]
  },
  {
   "cell_type": "code",
   "execution_count": 24,
   "id": "905646a0",
   "metadata": {},
   "outputs": [
    {
     "data": {
      "text/html": [
       "<div>\n",
       "<style scoped>\n",
       "    .dataframe tbody tr th:only-of-type {\n",
       "        vertical-align: middle;\n",
       "    }\n",
       "\n",
       "    .dataframe tbody tr th {\n",
       "        vertical-align: top;\n",
       "    }\n",
       "\n",
       "    .dataframe thead th {\n",
       "        text-align: right;\n",
       "    }\n",
       "</style>\n",
       "<table border=\"1\" class=\"dataframe\">\n",
       "  <thead>\n",
       "    <tr style=\"text-align: right;\">\n",
       "      <th></th>\n",
       "      <th>DATE</th>\n",
       "      <th>CORESTICKM159SFRBATL</th>\n",
       "    </tr>\n",
       "  </thead>\n",
       "  <tbody>\n",
       "    <tr>\n",
       "      <th>0</th>\n",
       "      <td>1968-01-01</td>\n",
       "      <td>3.651861</td>\n",
       "    </tr>\n",
       "    <tr>\n",
       "      <th>1</th>\n",
       "      <td>1968-02-01</td>\n",
       "      <td>3.673819</td>\n",
       "    </tr>\n",
       "    <tr>\n",
       "      <th>2</th>\n",
       "      <td>1968-03-01</td>\n",
       "      <td>4.142164</td>\n",
       "    </tr>\n",
       "    <tr>\n",
       "      <th>3</th>\n",
       "      <td>1968-04-01</td>\n",
       "      <td>4.155828</td>\n",
       "    </tr>\n",
       "    <tr>\n",
       "      <th>4</th>\n",
       "      <td>1968-05-01</td>\n",
       "      <td>4.088245</td>\n",
       "    </tr>\n",
       "  </tbody>\n",
       "</table>\n",
       "</div>"
      ],
      "text/plain": [
       "         DATE  CORESTICKM159SFRBATL\n",
       "0  1968-01-01              3.651861\n",
       "1  1968-02-01              3.673819\n",
       "2  1968-03-01              4.142164\n",
       "3  1968-04-01              4.155828\n",
       "4  1968-05-01              4.088245"
      ]
     },
     "execution_count": 24,
     "metadata": {},
     "output_type": "execute_result"
    }
   ],
   "source": [
    "df_inflation.head(5)"
   ]
  },
  {
   "cell_type": "code",
   "execution_count": 25,
   "id": "fe782db6",
   "metadata": {},
   "outputs": [],
   "source": [
    "# Align inflation data so that the date is the month end (e.g. Jan 31, Feb 28/28)\n",
    "df_inflation['DATE'] = pd.to_datetime(df_inflation['DATE']) + pd.offsets.MonthEnd(0)"
   ]
  },
  {
   "cell_type": "code",
   "execution_count": 26,
   "id": "d230bab6",
   "metadata": {},
   "outputs": [
    {
     "data": {
      "text/html": [
       "<div>\n",
       "<style scoped>\n",
       "    .dataframe tbody tr th:only-of-type {\n",
       "        vertical-align: middle;\n",
       "    }\n",
       "\n",
       "    .dataframe tbody tr th {\n",
       "        vertical-align: top;\n",
       "    }\n",
       "\n",
       "    .dataframe thead th {\n",
       "        text-align: right;\n",
       "    }\n",
       "</style>\n",
       "<table border=\"1\" class=\"dataframe\">\n",
       "  <thead>\n",
       "    <tr style=\"text-align: right;\">\n",
       "      <th></th>\n",
       "      <th>DATE</th>\n",
       "      <th>CORESTICKM159SFRBATL</th>\n",
       "    </tr>\n",
       "  </thead>\n",
       "  <tbody>\n",
       "    <tr>\n",
       "      <th>0</th>\n",
       "      <td>1968-01-31</td>\n",
       "      <td>3.651861</td>\n",
       "    </tr>\n",
       "    <tr>\n",
       "      <th>1</th>\n",
       "      <td>1968-02-29</td>\n",
       "      <td>3.673819</td>\n",
       "    </tr>\n",
       "    <tr>\n",
       "      <th>2</th>\n",
       "      <td>1968-03-31</td>\n",
       "      <td>4.142164</td>\n",
       "    </tr>\n",
       "    <tr>\n",
       "      <th>3</th>\n",
       "      <td>1968-04-30</td>\n",
       "      <td>4.155828</td>\n",
       "    </tr>\n",
       "    <tr>\n",
       "      <th>4</th>\n",
       "      <td>1968-05-31</td>\n",
       "      <td>4.088245</td>\n",
       "    </tr>\n",
       "  </tbody>\n",
       "</table>\n",
       "</div>"
      ],
      "text/plain": [
       "        DATE  CORESTICKM159SFRBATL\n",
       "0 1968-01-31              3.651861\n",
       "1 1968-02-29              3.673819\n",
       "2 1968-03-31              4.142164\n",
       "3 1968-04-30              4.155828\n",
       "4 1968-05-31              4.088245"
      ]
     },
     "execution_count": 26,
     "metadata": {},
     "output_type": "execute_result"
    }
   ],
   "source": [
    "df_inflation.head(5)"
   ]
  },
  {
   "cell_type": "markdown",
   "id": "e072f4a1",
   "metadata": {},
   "source": [
    "## Data preprocessing: Upsample, downsample and interpolate data\n",
    "\n",
    "Inflation data is presented monthly in this dataset. However, for some models, you may need it at a quarterly frequency, and for some models you may need it at a quarterly frequency. \n",
    "\n",
    "In this step:\n",
    "* Create a new quarterly inflation dataframe by downsampling the monthly inflation data to quarterly using the mean (e.g. for quarter 1 in a given year, use the average values from January, February, and March)\n",
    "* Create a new weekly inflation dataframe by upsampling the monthly inflation data. For this, you'll need to use `resample` and then you'll need to `interpolate` to fill in the missing data at the weekly frequency\n",
    "\n",
    "Note that you may need to change the index for some of these operations! "
   ]
  },
  {
   "cell_type": "code",
   "execution_count": 27,
   "id": "bde3acff",
   "metadata": {},
   "outputs": [],
   "source": [
    "df_inflation.set_index('DATE', inplace=True)"
   ]
  },
  {
   "cell_type": "code",
   "execution_count": 28,
   "id": "635647a1",
   "metadata": {},
   "outputs": [
    {
     "name": "stderr",
     "output_type": "stream",
     "text": [
      "/tmp/ipykernel_13/3856656035.py:2: FutureWarning: 'Q' is deprecated and will be removed in a future version, please use 'QE' instead.\n",
      "  df_quarterly = df_inflation.resample('Q').mean()\n"
     ]
    }
   ],
   "source": [
    "# Downsample from monthly to quarterly \n",
    "df_quarterly = df_inflation.resample('Q').mean()"
   ]
  },
  {
   "cell_type": "code",
   "execution_count": 29,
   "id": "28fea2f6",
   "metadata": {},
   "outputs": [],
   "source": [
    "# Upsample and interpolate from monthly to weekly \n",
    "df_weekly = df_inflation.resample('W').ffill().interpolate(method='time')"
   ]
  },
  {
   "cell_type": "code",
   "execution_count": 30,
   "id": "db807d53",
   "metadata": {},
   "outputs": [
    {
     "data": {
      "text/html": [
       "<div>\n",
       "<style scoped>\n",
       "    .dataframe tbody tr th:only-of-type {\n",
       "        vertical-align: middle;\n",
       "    }\n",
       "\n",
       "    .dataframe tbody tr th {\n",
       "        vertical-align: top;\n",
       "    }\n",
       "\n",
       "    .dataframe thead th {\n",
       "        text-align: right;\n",
       "    }\n",
       "</style>\n",
       "<table border=\"1\" class=\"dataframe\">\n",
       "  <thead>\n",
       "    <tr style=\"text-align: right;\">\n",
       "      <th></th>\n",
       "      <th>CORESTICKM159SFRBATL</th>\n",
       "    </tr>\n",
       "    <tr>\n",
       "      <th>DATE</th>\n",
       "      <th></th>\n",
       "    </tr>\n",
       "  </thead>\n",
       "  <tbody>\n",
       "    <tr>\n",
       "      <th>1968-03-31</th>\n",
       "      <td>3.822615</td>\n",
       "    </tr>\n",
       "    <tr>\n",
       "      <th>1968-06-30</th>\n",
       "      <td>4.263214</td>\n",
       "    </tr>\n",
       "    <tr>\n",
       "      <th>1968-09-30</th>\n",
       "      <td>4.882643</td>\n",
       "    </tr>\n",
       "    <tr>\n",
       "      <th>1968-12-31</th>\n",
       "      <td>5.429443</td>\n",
       "    </tr>\n",
       "    <tr>\n",
       "      <th>1969-03-31</th>\n",
       "      <td>5.873770</td>\n",
       "    </tr>\n",
       "  </tbody>\n",
       "</table>\n",
       "</div>"
      ],
      "text/plain": [
       "            CORESTICKM159SFRBATL\n",
       "DATE                            \n",
       "1968-03-31              3.822615\n",
       "1968-06-30              4.263214\n",
       "1968-09-30              4.882643\n",
       "1968-12-31              5.429443\n",
       "1969-03-31              5.873770"
      ]
     },
     "execution_count": 30,
     "metadata": {},
     "output_type": "execute_result"
    }
   ],
   "source": [
    "df_quarterly.head()"
   ]
  },
  {
   "cell_type": "code",
   "execution_count": 31,
   "id": "fc370ba1",
   "metadata": {},
   "outputs": [
    {
     "data": {
      "text/html": [
       "<div>\n",
       "<style scoped>\n",
       "    .dataframe tbody tr th:only-of-type {\n",
       "        vertical-align: middle;\n",
       "    }\n",
       "\n",
       "    .dataframe tbody tr th {\n",
       "        vertical-align: top;\n",
       "    }\n",
       "\n",
       "    .dataframe thead th {\n",
       "        text-align: right;\n",
       "    }\n",
       "</style>\n",
       "<table border=\"1\" class=\"dataframe\">\n",
       "  <thead>\n",
       "    <tr style=\"text-align: right;\">\n",
       "      <th></th>\n",
       "      <th>CORESTICKM159SFRBATL</th>\n",
       "    </tr>\n",
       "    <tr>\n",
       "      <th>DATE</th>\n",
       "      <th></th>\n",
       "    </tr>\n",
       "  </thead>\n",
       "  <tbody>\n",
       "    <tr>\n",
       "      <th>1968-02-04</th>\n",
       "      <td>3.651861</td>\n",
       "    </tr>\n",
       "    <tr>\n",
       "      <th>1968-02-11</th>\n",
       "      <td>3.651861</td>\n",
       "    </tr>\n",
       "    <tr>\n",
       "      <th>1968-02-18</th>\n",
       "      <td>3.651861</td>\n",
       "    </tr>\n",
       "    <tr>\n",
       "      <th>1968-02-25</th>\n",
       "      <td>3.651861</td>\n",
       "    </tr>\n",
       "    <tr>\n",
       "      <th>1968-03-03</th>\n",
       "      <td>3.673819</td>\n",
       "    </tr>\n",
       "    <tr>\n",
       "      <th>1968-03-10</th>\n",
       "      <td>3.673819</td>\n",
       "    </tr>\n",
       "    <tr>\n",
       "      <th>1968-03-17</th>\n",
       "      <td>3.673819</td>\n",
       "    </tr>\n",
       "    <tr>\n",
       "      <th>1968-03-24</th>\n",
       "      <td>3.673819</td>\n",
       "    </tr>\n",
       "    <tr>\n",
       "      <th>1968-03-31</th>\n",
       "      <td>4.142164</td>\n",
       "    </tr>\n",
       "    <tr>\n",
       "      <th>1968-04-07</th>\n",
       "      <td>4.142164</td>\n",
       "    </tr>\n",
       "  </tbody>\n",
       "</table>\n",
       "</div>"
      ],
      "text/plain": [
       "            CORESTICKM159SFRBATL\n",
       "DATE                            \n",
       "1968-02-04              3.651861\n",
       "1968-02-11              3.651861\n",
       "1968-02-18              3.651861\n",
       "1968-02-25              3.651861\n",
       "1968-03-03              3.673819\n",
       "1968-03-10              3.673819\n",
       "1968-03-17              3.673819\n",
       "1968-03-24              3.673819\n",
       "1968-03-31              4.142164\n",
       "1968-04-07              4.142164"
      ]
     },
     "execution_count": 31,
     "metadata": {},
     "output_type": "execute_result"
    }
   ],
   "source": [
    "df_weekly.head(10)"
   ]
  },
  {
   "cell_type": "markdown",
   "id": "0ea82443",
   "metadata": {},
   "source": [
    "## Data preprocessing: Normalize/standardize a feature\n",
    "\n",
    "Economic time series data often involve variables measured on different scales (e.g., GDP in trillions of dollars, inflation in percentage points). Standardizing these variables (typically by subtracting the mean and dividing by the standard deviation) puts them on a common scale, allowing for meaningful comparisons and analyses.\n",
    "\n",
    "Your task:\n",
    "* Standardize the GDP data. You may do this manually by subtracting the mean and dividing by the standard deviation, or you may use a built-in method from a library like `sklearn`'s `StandardScaler`"
   ]
  },
  {
   "cell_type": "code",
   "execution_count": null,
   "id": "991e2749",
   "metadata": {},
   "outputs": [
    {
     "name": "stdout",
     "output_type": "stream",
     "text": [
      "Collecting scikit-learn\n",
      "  Downloading scikit_learn-1.6.1-cp310-cp310-manylinux_2_17_x86_64.manylinux2014_x86_64.whl (13.5 MB)\n",
      "\u001b[2K     \u001b[90m━━━━━━━━━━━━━━━━━━━━━━━━━━━━━━━━━━━━━━━━\u001b[0m \u001b[32m13.5/13.5 MB\u001b[0m \u001b[31m51.7 MB/s\u001b[0m eta \u001b[36m0:00:00\u001b[0m00:01\u001b[0m0:01\u001b[0m\n",
      "\u001b[?25hRequirement already satisfied: numpy>=1.19.5 in /opt/venv/lib/python3.10/site-packages (from scikit-learn) (2.1.2)\n",
      "Collecting joblib>=1.2.0\n",
      "  Downloading joblib-1.4.2-py3-none-any.whl (301 kB)\n",
      "\u001b[2K     \u001b[90m━━━━━━━━━━━━━━━━━━━━━━━━━━━━━━━━━━━━━━\u001b[0m \u001b[32m301.8/301.8 kB\u001b[0m \u001b[31m25.9 MB/s\u001b[0m eta \u001b[36m0:00:00\u001b[0m\n",
      "\u001b[?25hCollecting scipy>=1.6.0\n",
      "  Downloading scipy-1.15.2-cp310-cp310-manylinux_2_17_x86_64.manylinux2014_x86_64.whl (37.6 MB)\n",
      "\u001b[2K     \u001b[90m━━━━━━━━━━━━━━━━━━━━━━━━━━━━━━━━━━━━━━━━\u001b[0m \u001b[32m37.6/37.6 MB\u001b[0m \u001b[31m30.4 MB/s\u001b[0m eta \u001b[36m0:00:00\u001b[0m00:01\u001b[0m00:01\u001b[0m\n",
      "\u001b[?25hCollecting threadpoolctl>=3.1.0\n",
      "  Downloading threadpoolctl-3.5.0-py3-none-any.whl (18 kB)\n",
      "Installing collected packages: threadpoolctl, scipy, joblib, scikit-learn\n"
     ]
    }
   ],
   "source": [
    "pip install scikit-learn"
   ]
  },
  {
   "cell_type": "code",
   "execution_count": null,
   "id": "4f88d246",
   "metadata": {},
   "outputs": [],
   "source": [
    "# Standardize the GDP measure\n",
    "from sklearn.preprocessing import StandardScaler\n",
    "scaler = StandardScaler()\n",
    "df_gdp['GDP_Standardized'] = scaler.fit_transform(df_gdp[['GDP']])\n",
    "print(df_gdp)"
   ]
  },
  {
   "cell_type": "code",
   "execution_count": null,
   "id": "e4801c53",
   "metadata": {},
   "outputs": [],
   "source": [
    "# Check the dataframe to make sure the calculation worked as expected \n",
    "\n",
    "df_gdp.head(5)"
   ]
  },
  {
   "cell_type": "markdown",
   "id": "1f1a89d2",
   "metadata": {},
   "source": [
    "## EDA: Plotting a time series of adjusted open vs close price\n",
    "\n",
    "As part of your EDA, you'll frequently want to plot two time series on the same graph and using the same axis to compare their movements. \n",
    "\n",
    "Your task:\n",
    "* Plot the Apple open and close price time series on the same chart **for the last three months only**. Be sure to use a legend to label each line\n",
    "\n",
    "**NOTE**: This is a large dataset. If you try to plot the entire series, your graph will be hard to interpret and may take a long time to plot. Be sure to use only the most recent three months of data. "
   ]
  },
  {
   "cell_type": "code",
   "execution_count": null,
   "id": "9b490f9b",
   "metadata": {},
   "outputs": [],
   "source": [
    "# Get max date in timeseries\n",
    "max_date = df_aapl['Date'].max()"
   ]
  },
  {
   "cell_type": "code",
   "execution_count": null,
   "id": "03b51a20",
   "metadata": {},
   "outputs": [],
   "source": [
    "# Use the max date calculated above to get the last three months of data in the dataset \n",
    "three_months_ago = max_date - pd.DateOffset(months=3)\n",
    "df_recent = df_aapl[df_aapl['Date'] >= three_months_ago]\n"
   ]
  },
  {
   "cell_type": "code",
   "execution_count": null,
   "id": "039404e1",
   "metadata": {
    "scrolled": true
   },
   "outputs": [],
   "source": [
    "# Plot time series of open v. close stock price for Apple using the last 3 months of data\n",
    "\n",
    "plt.figure(figsize=(12, 6))\n",
    "plt.plot(df_recent['Date'], df_recent['Open'], label='Open Price', color='blue')\n",
    "plt.plot(df_recent['Date'], df_recent['Close/Last'], label='Close Price', color='red')\n"
   ]
  },
  {
   "cell_type": "markdown",
   "id": "bc0070c6",
   "metadata": {},
   "source": [
    "## EDA: Plotting a histogram of a stock's closing price in the last three months\n",
    "\n",
    "One way to see how much a stock's price generally moves is to plot the frequency of closing prices over a set time period. \n",
    "\n",
    "Your task:\n",
    "* Use the **last three months** of Apple stock data and plot a histogram of closing price"
   ]
  },
  {
   "cell_type": "code",
   "execution_count": null,
   "id": "b48760fd",
   "metadata": {},
   "outputs": [],
   "source": [
    "# Plot the histogram of Apple's closing price over the last 3 months \n",
    "\n",
    "three_months_ago = max_date - pd.DateOffset(months=3)\n",
    "df_recent = df_aapl[df_aapl['Date'] >= three_months_ago]\n",
    "plt.figure(figsize=(10, 6))\n",
    "plt.hist(df_recent['Close/Last'], bins=20, color='blue', edgecolor='black', alpha=0.7)"
   ]
  },
  {
   "cell_type": "markdown",
   "id": "01e1b22c",
   "metadata": {},
   "source": [
    "## Calculating correlation between a stock price and a macroeconomic variable \n",
    "\n",
    "Inflation affects the purchasing power of money and can influence corporate profits, interest rates, and consumer behavior. By analyzing the correlation between stock prices and inflation, one can gauge how inflationary trends impact stock market performance. For instance, high inflation might erode profit margins and reduce stock prices, while moderate inflation might indicate a growing economy, benefiting stocks.\n",
    "\n",
    "Your task:\n",
    "* Plot a heatmap that shows the correlation between Microsoft and Apple returns and inflation \n",
    "\n",
    "This will require several steps:\n",
    "1. Calculate the returns for Apple and Microsoft and the change in monthly inflation (use the `pct_change` method for each)\n",
    "2. Interpolate the daily stock returns data to monthly so it can be compared to the monthly inflation data\n",
    "3. Merge the stock returns (Apple and Microsoft) and inflation data series into a single dataframe\n",
    "4. Calculate the correlation matrix between the Apple returns, Microsoft returns, and inflation change\n",
    "5. Plot the correlation matrix as a heatmap"
   ]
  },
  {
   "cell_type": "markdown",
   "id": "c38842ed",
   "metadata": {},
   "source": [
    "### 1. Calculate returns for Microsoft / Apple and the monthly change in inflation"
   ]
  },
  {
   "cell_type": "code",
   "execution_count": null,
   "id": "a112dc12",
   "metadata": {},
   "outputs": [],
   "source": [
    "# Calculate daily returns for Apple and Microsoft and the percent change in inflation from month to month\n",
    "df_aapl['Returns'] = df_aapl['Close/Last'].pct_change()\n",
    "df_msft['Returns'] = df_msft['Close/Last'].pct_change()\n",
    "df_inflation['Change_Inflation'] = df_inflation['CORESTICKM159SFRBATL'].pct_change()"
   ]
  },
  {
   "cell_type": "markdown",
   "id": "c8aa1b91",
   "metadata": {},
   "source": [
    "### 2. Interpolate stock returns from daily to monthly"
   ]
  },
  {
   "cell_type": "code",
   "execution_count": null,
   "id": "9300a530",
   "metadata": {},
   "outputs": [],
   "source": [
    "df_aapl_monthly = df_aapl.resample('M', on='Date').mean()\n",
    "df_msft_monthly = df_msft.resample('M', on='Date').mean()"
   ]
  },
  {
   "cell_type": "markdown",
   "id": "268272e6",
   "metadata": {},
   "source": [
    "### 3. Merge the dataframes and calculate / plot the correlation"
   ]
  },
  {
   "cell_type": "code",
   "execution_count": null,
   "id": "e0fd4bd1",
   "metadata": {},
   "outputs": [],
   "source": [
    "df_aapl_monthly"
   ]
  },
  {
   "cell_type": "code",
   "execution_count": null,
   "id": "0defb97b",
   "metadata": {},
   "outputs": [],
   "source": [
    "df_merged = pd.merge(df_aapl_monthly, df_msft_monthly, \n",
    "                      left_index=True, right_index=True, suffixes=('_Apple', '_Microsoft'))\n",
    "df_merged = pd.merge(df_merged, df_inflation, \n",
    "                     left_index=True, right_on='DATE')"
   ]
  },
  {
   "cell_type": "code",
   "execution_count": null,
   "id": "1c6c6d7f",
   "metadata": {},
   "outputs": [],
   "source": [
    "df_merged"
   ]
  },
  {
   "cell_type": "markdown",
   "id": "e1352272",
   "metadata": {},
   "source": [
    "### 4. Calculate the correlation matrix between the Apple returns, Microsoft returns, and inflation change"
   ]
  },
  {
   "cell_type": "code",
   "execution_count": null,
   "id": "8176f9ff",
   "metadata": {},
   "outputs": [],
   "source": [
    "# Calculate correlation matrix\n",
    "correlation_matrix = df_merged[['Returns_Apple', 'Returns_Microsoft', 'Change_Inflation']].corr()"
   ]
  },
  {
   "cell_type": "markdown",
   "id": "43b0ac07",
   "metadata": {},
   "source": [
    "### 5. Plot the correlation matrix as a heatmap "
   ]
  },
  {
   "cell_type": "code",
   "execution_count": null,
   "id": "0f731a65",
   "metadata": {},
   "outputs": [],
   "source": [
    "# Plot heatmap\n",
    "plt.figure(figsize=(8,6))\n",
    "sns.heatmap(correlation_matrix, annot=True, cmap='coolwarm', fmt=\".2f\", linewidths=0.5)\n",
    "plt.title('Correlation Matrix: Apple & Microsoft Returns vs Inflation Change')\n",
    "plt.show()"
   ]
  },
  {
   "cell_type": "markdown",
   "id": "624a2410",
   "metadata": {},
   "source": [
    "## Calculating rolling volatility (standard deviation) of a stock's price for last 3 months\n",
    "\n",
    "Volatility is a measure of the dispersion of returns for a given security. By calculating rolling volatility, investors can assess the risk associated with a stock over time: Higher volatility indicates higher risk, as the stock's price is more likely to experience significant fluctuations. In portfolio optimization, understanding the volatility of individual stocks and how it changes over time is crucial for diversification and optimization. By analyzing rolling volatility, investors can adjust their portfolios to maintain a desired risk level, potentially improving the risk-return profile.\n",
    "\n",
    "One possible way to calculate volatility is by using the standard deviation of returns for a stock over time.\n",
    "\n",
    "Your task:\n",
    "* Calculate the weekly rolling standard deviation for Apple's closing price\n",
    "* Plot the calculated rolling weekly volatility of Apple's closing price against Apple's closing price. Plot these **on the same chart, but using different y-axes**\n",
    "\n",
    "Helpful hints:\n",
    "* You'll need to use the `pandas` `rolling()` method with a given `window_size` parameter to make it a _weekly_ rolling calculation\n",
    "* Use **only the last three months of data**; data much older than this may not be as useful for portfolio optimization\n",
    "* You'll need to create two axes on the matplotlib figure to be able to use two different y-axes (one for the closing price and one for the rolling volatility calculated here)"
   ]
  },
  {
   "cell_type": "code",
   "execution_count": null,
   "id": "4da9eb94",
   "metadata": {},
   "outputs": [],
   "source": [
    "# Define the window size for the rolling calculation (e.g., one week)\n",
    "window_size = 5  # One trading week (5 business days)"
   ]
  },
  {
   "cell_type": "code",
   "execution_count": null,
   "id": "2c5142b4",
   "metadata": {},
   "outputs": [],
   "source": [
    "# Calculate rolling one-week volatility\n",
    "df_aapl['Rolling_Volatility'] = df_aapl['Close/Last'].rolling(window=window_size).std()"
   ]
  },
  {
   "cell_type": "code",
   "execution_count": null,
   "id": "92a9c0b8",
   "metadata": {},
   "outputs": [],
   "source": [
    "# Plot the calculated rolling weekly volatility of Apple's closing price against Apple's closing price\n",
    "# Plot these on the same chart, but using different y-axes\n",
    "fig, ax1 = plt.subplots(figsize=(12, 6))\n",
    "ax1.set_xlabel('Date')\n",
    "ax1.set_ylabel('Closing Price (USD)', color='blue')\n",
    "ax1.plot(df_aapl.index, df_aapl['Close/Last'], label='Apple Close Price', color='blue')\n",
    "ax1.tick_params(axis='y', labelcolor='blue')\n",
    "\n",
    "ax2 = ax1.twinx()\n",
    "ax2.set_ylabel('Rolling Weekly Volatility', color='red')\n",
    "ax2.plot(df_aapl.index, df_aapl['Rolling_Volatility'], label='Rolling Weekly Volatility', color='red', linestyle='dashed')\n",
    "ax2.tick_params(axis='y', labelcolor='red')"
   ]
  },
  {
   "cell_type": "markdown",
   "id": "e2cf3c78",
   "metadata": {},
   "source": [
    "## Export data\n",
    "\n",
    "Now that you have preprocessed your data, you should save it in new csv files so that it can be used in downstream tasks without having to redo all the preprocessing steps. \n",
    "\n",
    "Your task:\n",
    "* Use `pandas` to export all modified datasets back to new CSV files"
   ]
  },
  {
   "cell_type": "code",
   "execution_count": null,
   "id": "3d67d29c",
   "metadata": {},
   "outputs": [],
   "source": [
    "# Save the cleaned and transformed Apple stock data\n",
    "df_aapl.to_csv('apple_stock_processed.csv', index=True)\n",
    "\n",
    "# Save the quarterly inflation data\n",
    "df_quarterly.to_csv('inflation_quarterly.csv', index=True)\n",
    "\n",
    "# Save the weekly upsampled inflation data\n",
    "df_weekly.to_csv('inflation_weekly.csv', index=True)\n",
    "\n",
    "# Save the combined dataset for correlation analysis\n",
    "correlation_matrix.to_csv('stock_inflation_correlation.csv', index=True)"
   ]
  },
  {
   "cell_type": "code",
   "execution_count": null,
   "id": "4b9c2201",
   "metadata": {},
   "outputs": [],
   "source": []
  }
 ],
 "metadata": {
  "kernelspec": {
   "display_name": "Python 3 (ipykernel)",
   "language": "python",
   "name": "python3"
  },
  "language_info": {
   "codemirror_mode": {
    "name": "ipython",
    "version": 3
   },
   "file_extension": ".py",
   "mimetype": "text/x-python",
   "name": "python",
   "nbconvert_exporter": "python",
   "pygments_lexer": "ipython3",
   "version": "3.10.13"
  }
 },
 "nbformat": 4,
 "nbformat_minor": 5
}
