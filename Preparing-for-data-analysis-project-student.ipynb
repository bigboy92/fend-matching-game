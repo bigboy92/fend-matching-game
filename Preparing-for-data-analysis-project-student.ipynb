{
 "cells": [
  {
   "cell_type": "markdown",
   "id": "81942eb1",
   "metadata": {},
   "source": [
    "# Course 2 Project: ML Pipeline for Feature Engineering"
   ]
  },
  {
   "cell_type": "markdown",
   "id": "4f241775",
   "metadata": {},
   "source": [
    "## Instructions\n",
    "\n",
    "In this project, you'll use data related to microeconomic indicators and historical stock prices to explore the data engineering pipline. You'll get to practice:\n",
    "\n",
    "* Data ingestion \n",
    "* Data cleaning\n",
    "* Data imputation\n",
    "* Exploratory data analysis (EDA) through charts and graphs"
   ]
  },
  {
   "cell_type": "markdown",
   "id": "1f12b277",
   "metadata": {},
   "source": [
    "## Packages\n",
    "\n",
    "You'll use `pandas` and `matplotlib`, which were covered in the course material, to import, clean, and plot data. They have been installed in this workspace for you. If you're working locally and you installed Jupyter using Anaconda, these packages will already be installed. "
   ]
  },
  {
   "cell_type": "code",
   "execution_count": 1,
   "id": "882241d4",
   "metadata": {},
   "outputs": [],
   "source": [
    "import pandas as pd\n",
    "import matplotlib.pyplot as plt\n",
    "import seaborn as sns"
   ]
  },
  {
   "cell_type": "markdown",
   "id": "f9fcd352",
   "metadata": {},
   "source": [
    "## Load data\n",
    "\n",
    "The first step in a data engineering pipeline for machine learning is to ingest the data that will be used. For this project, data is hosted on a public GitHub repo. \n",
    "\n",
    "Your tasks:\n",
    "* Import data from the provided GitHub repo using `pandas`\n",
    "* Verify that the data has been imported correctly into `pandas` dataframes. Use methods like `head()` and `info()`\n",
    "* You may need to change column names to make them easier to work with\n",
    "* You may need to cast datetime data to the `datetime` format using `pandas` `to_datetime()` method\n",
    "\n",
    "Data files to import: \n",
    "1. GDP\n",
    "2. Inflation \n",
    "3. Apple stock prices \n",
    "4. Microsoft stock prices"
   ]
  },
  {
   "cell_type": "markdown",
   "id": "87e1efd3",
   "metadata": {},
   "source": [
    "Note: The dataset file names in alphabetic order\n",
    "\n",
    "* apple_historical_data.csv\n",
    "\n",
    "* consumer_price_index.csv\n",
    "\n",
    "* GDP.csv\n",
    "\n",
    "* inflation_monthly.csv\n",
    "\n",
    "* microsoft_historical_data.csv "
   ]
  },
  {
   "cell_type": "code",
   "execution_count": 2,
   "id": "bd119016",
   "metadata": {},
   "outputs": [],
   "source": [
    "# Load historical GDP data\n",
    "\n",
    "gdp_data = pd.read_csv('GDP.csv')\n"
   ]
  },
  {
   "cell_type": "code",
   "execution_count": 3,
   "id": "3ac909f8",
   "metadata": {},
   "outputs": [],
   "source": [
    "inflation_data = pd.read_csv('inflation_monthly.csv')\n"
   ]
  },
  {
   "cell_type": "code",
   "execution_count": 4,
   "id": "2232637c",
   "metadata": {},
   "outputs": [],
   "source": [
    "cpi_data = pd.read_csv('consumer_price_index.csv')"
   ]
  },
  {
   "cell_type": "code",
   "execution_count": null,
   "id": "d41208e0",
   "metadata": {},
   "outputs": [],
   "source": []
  },
  {
   "cell_type": "code",
   "execution_count": 5,
   "id": "cf36d7c0",
   "metadata": {},
   "outputs": [
    {
     "name": "stdout",
     "output_type": "stream",
     "text": [
      "GDP (head):\n",
      "\n",
      "          DATE      GDP\n",
      "0  1947-01-01  243.164\n",
      "1  1947-04-01  245.968\n",
      "2  1947-07-01  249.585\n",
      "3  1947-10-01  259.745\n",
      "4  1948-01-01  265.742\n",
      "\n",
      "\n",
      "GDP (tail):\n",
      "\n",
      "            DATE        GDP\n",
      "304  2023-01-01  26813.601\n",
      "305  2023-04-01  27063.012\n",
      "306  2023-07-01  27610.128\n",
      "307  2023-10-01  27956.998\n",
      "308  2024-01-01  28284.498\n"
     ]
    }
   ],
   "source": [
    "# Check the first few rows of data\n",
    "print(f'GDP (head):\\n\\n {gdp_data.head()}')\n",
    "print('\\n')\n",
    "print(f'GDP (tail):\\n\\n {gdp_data.tail()}')"
   ]
  },
  {
   "cell_type": "code",
   "execution_count": 6,
   "id": "2e7fe538",
   "metadata": {},
   "outputs": [
    {
     "name": "stdout",
     "output_type": "stream",
     "text": [
      "Inflation (head):\n",
      "\n",
      "          DATE  CORESTICKM159SFRBATL\n",
      "0  1968-01-01              3.651861\n",
      "1  1968-02-01              3.673819\n",
      "2  1968-03-01              4.142164\n",
      "3  1968-04-01              4.155828\n",
      "4  1968-05-01              4.088245\n",
      "\n",
      "\n",
      "Inflation (tail):\n",
      "\n",
      "            DATE  CORESTICKM159SFRBATL\n",
      "670  2023-11-01              4.688293\n",
      "671  2023-12-01              4.554396\n",
      "672  2024-01-01              4.603922\n",
      "673  2024-02-01              4.403102\n",
      "674  2024-03-01              4.509212\n"
     ]
    }
   ],
   "source": [
    "print(f'Inflation (head):\\n\\n {inflation_data.head()}')\n",
    "print('\\n')\n",
    "print(f'Inflation (tail):\\n\\n {inflation_data.tail()}')"
   ]
  },
  {
   "cell_type": "code",
   "execution_count": 7,
   "id": "3321b82e",
   "metadata": {},
   "outputs": [
    {
     "name": "stdout",
     "output_type": "stream",
     "text": [
      "Consumer Price Index (head):\n",
      "\n",
      "          DATE  CORESTICKM159SFRBATL\n",
      "0  1968-01-01              3.651861\n",
      "1  1968-02-01              3.673819\n",
      "2  1968-03-01              4.142164\n",
      "3  1968-04-01              4.155828\n",
      "4  1968-05-01              4.088245\n",
      "\n",
      "\n",
      "Consumer Price Index (tail):\n",
      "\n",
      "            DATE  CORESTICKM159SFRBATL\n",
      "670  2023-11-01              4.688293\n",
      "671  2023-12-01              4.554396\n",
      "672  2024-01-01              4.603922\n",
      "673  2024-02-01              4.403102\n",
      "674  2024-03-01              4.509212\n"
     ]
    }
   ],
   "source": [
    "print(f'Consumer Price Index (head):\\n\\n {cpi_data.head()}')\n",
    "print('\\n')\n",
    "print(f'Consumer Price Index (tail):\\n\\n {cpi_data.tail()}')"
   ]
  },
  {
   "cell_type": "markdown",
   "id": "941f83b4",
   "metadata": {},
   "source": [
    "###  Rename columns for GDP,  Inflation and Consumer Price Index DataFrames"
   ]
  },
  {
   "cell_type": "code",
   "execution_count": 8,
   "id": "ca2dede5",
   "metadata": {},
   "outputs": [],
   "source": [
    "gdp_data.rename(columns={'DATE':'Date'}, inplace=True)\n",
    "inflation_data.rename(columns={'DATE':'Date', 'CORESTICKM159SFRBATL':'monthly_Inflation'}, inplace=True)\n",
    "cpi_data.rename(columns={'DATE':'Date', 'CORESTICKM159SFRBATL':'Daily_CPI'}, inplace=True)"
   ]
  },
  {
   "cell_type": "code",
   "execution_count": null,
   "id": "06bb970b",
   "metadata": {},
   "outputs": [],
   "source": []
  },
  {
   "cell_type": "code",
   "execution_count": 9,
   "id": "2a2478c9",
   "metadata": {},
   "outputs": [],
   "source": [
    "# Load the historical stock price data for Apple and Microsoft\n",
    "apple_data = pd.read_csv('apple_historical_data.csv')\n",
    "                                                                 "
   ]
  },
  {
   "cell_type": "code",
   "execution_count": 10,
   "id": "99568dd6",
   "metadata": {},
   "outputs": [],
   "source": [
    "msft_data = pd.read_csv('microsoft_historical_data.csv')\n"
   ]
  },
  {
   "cell_type": "code",
   "execution_count": 11,
   "id": "e9e9a77a",
   "metadata": {},
   "outputs": [
    {
     "name": "stdout",
     "output_type": "stream",
     "text": [
      "AAPL (head):\n",
      "\n",
      "         Date Close/Last     Volume      Open      High       Low\n",
      "0   5/3/2024   $183.38   163224100  $186.65   $187.00   $182.66 \n",
      "1   5/2/2024   $173.03    94214920  $172.51   $173.42   $170.89 \n",
      "2   5/1/2024   $169.30    50383150  $169.58   $172.71   $169.11 \n",
      "3  4/30/2024   $170.33    65934780  $173.33   $174.99   $170.00 \n",
      "4  4/29/2024   $173.50    68169420  $173.37   $176.03   $173.10 \n",
      "\n",
      "\n",
      "AAPL (tail):\n",
      "\n",
      "            Date Close/Last     Volume     Open     High      Low\n",
      "2512  5/12/2014    $21.17   212736019  $20.98   $21.20   $20.98 \n",
      "2513   5/9/2014    $20.91   291068564  $20.88   $20.94   $20.73 \n",
      "2514   5/8/2014    $21.00   228973884  $21.01   $21.23   $20.94 \n",
      "2515   5/7/2014    $21.15   282128727  $21.26   $21.33   $20.99 \n",
      "2516   5/6/2014    $21.23   373872650  $21.49   $21.59   $21.23 \n"
     ]
    }
   ],
   "source": [
    "# Check the first few rows of data\n",
    "print(f'AAPL (head):\\n\\n {apple_data.head()}')\n",
    "print('\\n')\n",
    "print(f'AAPL (tail):\\n\\n {apple_data.tail()}')"
   ]
  },
  {
   "cell_type": "code",
   "execution_count": 12,
   "id": "eb34219b",
   "metadata": {},
   "outputs": [
    {
     "name": "stdout",
     "output_type": "stream",
     "text": [
      "MSFT (head):\n",
      "\n",
      "          Date Close/Last    Volume     Open       High        Low\n",
      "0  05/03/2024    $406.66  17446720  $402.28    $407.15    $401.86\n",
      "1  05/02/2024    $397.84  17709360  $397.66    $399.93  $394.6515\n",
      "2  05/01/2024    $394.94  23562480  $392.61  $401.7199    $390.31\n",
      "3  04/30/2024    $389.33  28781370  $401.49    $402.16    $389.17\n",
      "4  04/29/2024    $402.25  19582090  $405.25    $406.32    $399.19\n",
      "\n",
      "\n",
      "MSFT (tail):\n",
      "\n",
      "             Date Close/Last    Volume    Open    High     Low\n",
      "2512  05/12/2014     $39.97  22761620  $39.74  $40.02  $39.65\n",
      "2513  05/09/2014     $39.54  29646100  $39.54  $39.85  $39.37\n",
      "2514  05/08/2014     $39.64  32089010  $39.34  $39.90  $38.97\n",
      "2515  05/07/2014    $39.425  41731030  $39.22  $39.51  $38.51\n",
      "2516  05/06/2014     $39.06  27105700  $39.29  $39.35  $38.95\n"
     ]
    }
   ],
   "source": [
    "print(f'MSFT (head):\\n\\n {msft_data.head()}')\n",
    "print('\\n')\n",
    "print(f'MSFT (tail):\\n\\n {msft_data.tail()}')"
   ]
  },
  {
   "cell_type": "markdown",
   "id": "e29ba13a",
   "metadata": {},
   "source": [
    "### Rename AAPL and MSFT   'Close/Last' column to just 'Close'"
   ]
  },
  {
   "cell_type": "code",
   "execution_count": 13,
   "id": "f6623dc9",
   "metadata": {},
   "outputs": [],
   "source": [
    "# renaming the close 'Close/Last' column to just 'Close'\n",
    "apple_data.rename(columns={'Close/Last':'Close'}, inplace=True)\n",
    "msft_data.rename(columns={'Close/Last':'Close'}, inplace=True)"
   ]
  },
  {
   "cell_type": "code",
   "execution_count": 14,
   "id": "1aabd713",
   "metadata": {},
   "outputs": [
    {
     "data": {
      "text/html": [
       "<div>\n",
       "<style scoped>\n",
       "    .dataframe tbody tr th:only-of-type {\n",
       "        vertical-align: middle;\n",
       "    }\n",
       "\n",
       "    .dataframe tbody tr th {\n",
       "        vertical-align: top;\n",
       "    }\n",
       "\n",
       "    .dataframe thead th {\n",
       "        text-align: right;\n",
       "    }\n",
       "</style>\n",
       "<table border=\"1\" class=\"dataframe\">\n",
       "  <thead>\n",
       "    <tr style=\"text-align: right;\">\n",
       "      <th></th>\n",
       "      <th>Date</th>\n",
       "      <th>Close</th>\n",
       "      <th>Volume</th>\n",
       "      <th>Open</th>\n",
       "      <th>High</th>\n",
       "      <th>Low</th>\n",
       "    </tr>\n",
       "  </thead>\n",
       "  <tbody>\n",
       "    <tr>\n",
       "      <th>0</th>\n",
       "      <td>5/3/2024</td>\n",
       "      <td>$183.38</td>\n",
       "      <td>163224100</td>\n",
       "      <td>$186.65</td>\n",
       "      <td>$187.00</td>\n",
       "      <td>$182.66</td>\n",
       "    </tr>\n",
       "    <tr>\n",
       "      <th>1</th>\n",
       "      <td>5/2/2024</td>\n",
       "      <td>$173.03</td>\n",
       "      <td>94214920</td>\n",
       "      <td>$172.51</td>\n",
       "      <td>$173.42</td>\n",
       "      <td>$170.89</td>\n",
       "    </tr>\n",
       "    <tr>\n",
       "      <th>2</th>\n",
       "      <td>5/1/2024</td>\n",
       "      <td>$169.30</td>\n",
       "      <td>50383150</td>\n",
       "      <td>$169.58</td>\n",
       "      <td>$172.71</td>\n",
       "      <td>$169.11</td>\n",
       "    </tr>\n",
       "    <tr>\n",
       "      <th>3</th>\n",
       "      <td>4/30/2024</td>\n",
       "      <td>$170.33</td>\n",
       "      <td>65934780</td>\n",
       "      <td>$173.33</td>\n",
       "      <td>$174.99</td>\n",
       "      <td>$170.00</td>\n",
       "    </tr>\n",
       "    <tr>\n",
       "      <th>4</th>\n",
       "      <td>4/29/2024</td>\n",
       "      <td>$173.50</td>\n",
       "      <td>68169420</td>\n",
       "      <td>$173.37</td>\n",
       "      <td>$176.03</td>\n",
       "      <td>$173.10</td>\n",
       "    </tr>\n",
       "    <tr>\n",
       "      <th>...</th>\n",
       "      <td>...</td>\n",
       "      <td>...</td>\n",
       "      <td>...</td>\n",
       "      <td>...</td>\n",
       "      <td>...</td>\n",
       "      <td>...</td>\n",
       "    </tr>\n",
       "    <tr>\n",
       "      <th>2512</th>\n",
       "      <td>5/12/2014</td>\n",
       "      <td>$21.17</td>\n",
       "      <td>212736019</td>\n",
       "      <td>$20.98</td>\n",
       "      <td>$21.20</td>\n",
       "      <td>$20.98</td>\n",
       "    </tr>\n",
       "    <tr>\n",
       "      <th>2513</th>\n",
       "      <td>5/9/2014</td>\n",
       "      <td>$20.91</td>\n",
       "      <td>291068564</td>\n",
       "      <td>$20.88</td>\n",
       "      <td>$20.94</td>\n",
       "      <td>$20.73</td>\n",
       "    </tr>\n",
       "    <tr>\n",
       "      <th>2514</th>\n",
       "      <td>5/8/2014</td>\n",
       "      <td>$21.00</td>\n",
       "      <td>228973884</td>\n",
       "      <td>$21.01</td>\n",
       "      <td>$21.23</td>\n",
       "      <td>$20.94</td>\n",
       "    </tr>\n",
       "    <tr>\n",
       "      <th>2515</th>\n",
       "      <td>5/7/2014</td>\n",
       "      <td>$21.15</td>\n",
       "      <td>282128727</td>\n",
       "      <td>$21.26</td>\n",
       "      <td>$21.33</td>\n",
       "      <td>$20.99</td>\n",
       "    </tr>\n",
       "    <tr>\n",
       "      <th>2516</th>\n",
       "      <td>5/6/2014</td>\n",
       "      <td>$21.23</td>\n",
       "      <td>373872650</td>\n",
       "      <td>$21.49</td>\n",
       "      <td>$21.59</td>\n",
       "      <td>$21.23</td>\n",
       "    </tr>\n",
       "  </tbody>\n",
       "</table>\n",
       "<p>2517 rows × 6 columns</p>\n",
       "</div>"
      ],
      "text/plain": [
       "           Date     Close     Volume      Open      High       Low\n",
       "0      5/3/2024  $183.38   163224100  $186.65   $187.00   $182.66 \n",
       "1      5/2/2024  $173.03    94214920  $172.51   $173.42   $170.89 \n",
       "2      5/1/2024  $169.30    50383150  $169.58   $172.71   $169.11 \n",
       "3     4/30/2024  $170.33    65934780  $173.33   $174.99   $170.00 \n",
       "4     4/29/2024  $173.50    68169420  $173.37   $176.03   $173.10 \n",
       "...         ...       ...        ...       ...       ...       ...\n",
       "2512  5/12/2014   $21.17   212736019   $20.98    $21.20    $20.98 \n",
       "2513   5/9/2014   $20.91   291068564   $20.88    $20.94    $20.73 \n",
       "2514   5/8/2014   $21.00   228973884   $21.01    $21.23    $20.94 \n",
       "2515   5/7/2014   $21.15   282128727   $21.26    $21.33    $20.99 \n",
       "2516   5/6/2014   $21.23   373872650   $21.49    $21.59    $21.23 \n",
       "\n",
       "[2517 rows x 6 columns]"
      ]
     },
     "execution_count": 14,
     "metadata": {},
     "output_type": "execute_result"
    }
   ],
   "source": [
    "apple_data"
   ]
  },
  {
   "cell_type": "code",
   "execution_count": 15,
   "id": "573eb71b",
   "metadata": {},
   "outputs": [
    {
     "data": {
      "text/html": [
       "<div>\n",
       "<style scoped>\n",
       "    .dataframe tbody tr th:only-of-type {\n",
       "        vertical-align: middle;\n",
       "    }\n",
       "\n",
       "    .dataframe tbody tr th {\n",
       "        vertical-align: top;\n",
       "    }\n",
       "\n",
       "    .dataframe thead th {\n",
       "        text-align: right;\n",
       "    }\n",
       "</style>\n",
       "<table border=\"1\" class=\"dataframe\">\n",
       "  <thead>\n",
       "    <tr style=\"text-align: right;\">\n",
       "      <th></th>\n",
       "      <th>Date</th>\n",
       "      <th>Close</th>\n",
       "      <th>Volume</th>\n",
       "      <th>Open</th>\n",
       "      <th>High</th>\n",
       "      <th>Low</th>\n",
       "    </tr>\n",
       "  </thead>\n",
       "  <tbody>\n",
       "    <tr>\n",
       "      <th>0</th>\n",
       "      <td>05/03/2024</td>\n",
       "      <td>$406.66</td>\n",
       "      <td>17446720</td>\n",
       "      <td>$402.28</td>\n",
       "      <td>$407.15</td>\n",
       "      <td>$401.86</td>\n",
       "    </tr>\n",
       "    <tr>\n",
       "      <th>1</th>\n",
       "      <td>05/02/2024</td>\n",
       "      <td>$397.84</td>\n",
       "      <td>17709360</td>\n",
       "      <td>$397.66</td>\n",
       "      <td>$399.93</td>\n",
       "      <td>$394.6515</td>\n",
       "    </tr>\n",
       "    <tr>\n",
       "      <th>2</th>\n",
       "      <td>05/01/2024</td>\n",
       "      <td>$394.94</td>\n",
       "      <td>23562480</td>\n",
       "      <td>$392.61</td>\n",
       "      <td>$401.7199</td>\n",
       "      <td>$390.31</td>\n",
       "    </tr>\n",
       "    <tr>\n",
       "      <th>3</th>\n",
       "      <td>04/30/2024</td>\n",
       "      <td>$389.33</td>\n",
       "      <td>28781370</td>\n",
       "      <td>$401.49</td>\n",
       "      <td>$402.16</td>\n",
       "      <td>$389.17</td>\n",
       "    </tr>\n",
       "    <tr>\n",
       "      <th>4</th>\n",
       "      <td>04/29/2024</td>\n",
       "      <td>$402.25</td>\n",
       "      <td>19582090</td>\n",
       "      <td>$405.25</td>\n",
       "      <td>$406.32</td>\n",
       "      <td>$399.19</td>\n",
       "    </tr>\n",
       "    <tr>\n",
       "      <th>...</th>\n",
       "      <td>...</td>\n",
       "      <td>...</td>\n",
       "      <td>...</td>\n",
       "      <td>...</td>\n",
       "      <td>...</td>\n",
       "      <td>...</td>\n",
       "    </tr>\n",
       "    <tr>\n",
       "      <th>2512</th>\n",
       "      <td>05/12/2014</td>\n",
       "      <td>$39.97</td>\n",
       "      <td>22761620</td>\n",
       "      <td>$39.74</td>\n",
       "      <td>$40.02</td>\n",
       "      <td>$39.65</td>\n",
       "    </tr>\n",
       "    <tr>\n",
       "      <th>2513</th>\n",
       "      <td>05/09/2014</td>\n",
       "      <td>$39.54</td>\n",
       "      <td>29646100</td>\n",
       "      <td>$39.54</td>\n",
       "      <td>$39.85</td>\n",
       "      <td>$39.37</td>\n",
       "    </tr>\n",
       "    <tr>\n",
       "      <th>2514</th>\n",
       "      <td>05/08/2014</td>\n",
       "      <td>$39.64</td>\n",
       "      <td>32089010</td>\n",
       "      <td>$39.34</td>\n",
       "      <td>$39.90</td>\n",
       "      <td>$38.97</td>\n",
       "    </tr>\n",
       "    <tr>\n",
       "      <th>2515</th>\n",
       "      <td>05/07/2014</td>\n",
       "      <td>$39.425</td>\n",
       "      <td>41731030</td>\n",
       "      <td>$39.22</td>\n",
       "      <td>$39.51</td>\n",
       "      <td>$38.51</td>\n",
       "    </tr>\n",
       "    <tr>\n",
       "      <th>2516</th>\n",
       "      <td>05/06/2014</td>\n",
       "      <td>$39.06</td>\n",
       "      <td>27105700</td>\n",
       "      <td>$39.29</td>\n",
       "      <td>$39.35</td>\n",
       "      <td>$38.95</td>\n",
       "    </tr>\n",
       "  </tbody>\n",
       "</table>\n",
       "<p>2517 rows × 6 columns</p>\n",
       "</div>"
      ],
      "text/plain": [
       "            Date    Close    Volume     Open       High        Low\n",
       "0     05/03/2024  $406.66  17446720  $402.28    $407.15    $401.86\n",
       "1     05/02/2024  $397.84  17709360  $397.66    $399.93  $394.6515\n",
       "2     05/01/2024  $394.94  23562480  $392.61  $401.7199    $390.31\n",
       "3     04/30/2024  $389.33  28781370  $401.49    $402.16    $389.17\n",
       "4     04/29/2024  $402.25  19582090  $405.25    $406.32    $399.19\n",
       "...          ...      ...       ...      ...        ...        ...\n",
       "2512  05/12/2014   $39.97  22761620   $39.74     $40.02     $39.65\n",
       "2513  05/09/2014   $39.54  29646100   $39.54     $39.85     $39.37\n",
       "2514  05/08/2014   $39.64  32089010   $39.34     $39.90     $38.97\n",
       "2515  05/07/2014  $39.425  41731030   $39.22     $39.51     $38.51\n",
       "2516  05/06/2014   $39.06  27105700   $39.29     $39.35     $38.95\n",
       "\n",
       "[2517 rows x 6 columns]"
      ]
     },
     "execution_count": 15,
     "metadata": {},
     "output_type": "execute_result"
    }
   ],
   "source": [
    "msft_data"
   ]
  },
  {
   "cell_type": "code",
   "execution_count": 16,
   "id": "8c9bed17",
   "metadata": {},
   "outputs": [
    {
     "name": "stdout",
     "output_type": "stream",
     "text": [
      "<class 'pandas.core.frame.DataFrame'>\n",
      "RangeIndex: 309 entries, 0 to 308\n",
      "Data columns (total 2 columns):\n",
      " #   Column  Non-Null Count  Dtype  \n",
      "---  ------  --------------  -----  \n",
      " 0   Date    309 non-null    object \n",
      " 1   GDP     309 non-null    float64\n",
      "dtypes: float64(1), object(1)\n",
      "memory usage: 5.0+ KB\n"
     ]
    }
   ],
   "source": [
    "# Use methods like .info() and .describe() to explore the data\n",
    "\n",
    "gdp_data.info()"
   ]
  },
  {
   "cell_type": "code",
   "execution_count": 17,
   "id": "0e0a456f",
   "metadata": {},
   "outputs": [
    {
     "data": {
      "text/html": [
       "<div>\n",
       "<style scoped>\n",
       "    .dataframe tbody tr th:only-of-type {\n",
       "        vertical-align: middle;\n",
       "    }\n",
       "\n",
       "    .dataframe tbody tr th {\n",
       "        vertical-align: top;\n",
       "    }\n",
       "\n",
       "    .dataframe thead th {\n",
       "        text-align: right;\n",
       "    }\n",
       "</style>\n",
       "<table border=\"1\" class=\"dataframe\">\n",
       "  <thead>\n",
       "    <tr style=\"text-align: right;\">\n",
       "      <th></th>\n",
       "      <th>GDP</th>\n",
       "    </tr>\n",
       "  </thead>\n",
       "  <tbody>\n",
       "    <tr>\n",
       "      <th>count</th>\n",
       "      <td>309.000000</td>\n",
       "    </tr>\n",
       "    <tr>\n",
       "      <th>mean</th>\n",
       "      <td>7227.754935</td>\n",
       "    </tr>\n",
       "    <tr>\n",
       "      <th>std</th>\n",
       "      <td>7478.297734</td>\n",
       "    </tr>\n",
       "    <tr>\n",
       "      <th>min</th>\n",
       "      <td>243.164000</td>\n",
       "    </tr>\n",
       "    <tr>\n",
       "      <th>25%</th>\n",
       "      <td>804.981000</td>\n",
       "    </tr>\n",
       "    <tr>\n",
       "      <th>50%</th>\n",
       "      <td>4386.773000</td>\n",
       "    </tr>\n",
       "    <tr>\n",
       "      <th>75%</th>\n",
       "      <td>12527.214000</td>\n",
       "    </tr>\n",
       "    <tr>\n",
       "      <th>max</th>\n",
       "      <td>28284.498000</td>\n",
       "    </tr>\n",
       "  </tbody>\n",
       "</table>\n",
       "</div>"
      ],
      "text/plain": [
       "                GDP\n",
       "count    309.000000\n",
       "mean    7227.754935\n",
       "std     7478.297734\n",
       "min      243.164000\n",
       "25%      804.981000\n",
       "50%     4386.773000\n",
       "75%    12527.214000\n",
       "max    28284.498000"
      ]
     },
     "execution_count": 17,
     "metadata": {},
     "output_type": "execute_result"
    }
   ],
   "source": [
    "gdp_data.describe()"
   ]
  },
  {
   "cell_type": "code",
   "execution_count": null,
   "id": "51fc19ec",
   "metadata": {},
   "outputs": [],
   "source": []
  },
  {
   "cell_type": "markdown",
   "id": "06c8d9dc",
   "metadata": {},
   "source": [
    "## Data preprocessing: Check for missing data and forward fill\n",
    "\n",
    "Check the Apple historical prices for missing data. Check for missing data in all columns. If there's data missing, use a forward fill to fill in those missing prices. "
   ]
  },
  {
   "cell_type": "code",
   "execution_count": 18,
   "id": "4807173e",
   "metadata": {},
   "outputs": [
    {
     "data": {
      "text/plain": [
       "Date      0\n",
       "Close     3\n",
       "Volume    0\n",
       "Open      0\n",
       "High      0\n",
       "Low       0\n",
       "dtype: int64"
      ]
     },
     "execution_count": 18,
     "metadata": {},
     "output_type": "execute_result"
    }
   ],
   "source": [
    "# Check for nulls \n",
    "apple_data.isnull().sum()"
   ]
  },
  {
   "cell_type": "code",
   "execution_count": 19,
   "id": "00e4d6f5",
   "metadata": {},
   "outputs": [],
   "source": [
    "# Forward fill any missing data\n",
    "df_columns = apple_data.columns.tolist()\n",
    "for col in df_columns:\n",
    "    if apple_data[col].isnull().sum() != 0:\n",
    "        apple_data[col] = apple_data[col].ffill()\n"
   ]
  },
  {
   "cell_type": "code",
   "execution_count": 20,
   "id": "f82d3b2d",
   "metadata": {},
   "outputs": [
    {
     "data": {
      "text/plain": [
       "Date      0\n",
       "Close     0\n",
       "Volume    0\n",
       "Open      0\n",
       "High      0\n",
       "Low       0\n",
       "dtype: int64"
      ]
     },
     "execution_count": 20,
     "metadata": {},
     "output_type": "execute_result"
    }
   ],
   "source": [
    "# Check again for nulls after using forward fill\n",
    "apple_data.isnull().sum()"
   ]
  },
  {
   "cell_type": "code",
   "execution_count": null,
   "id": "b9f890f2",
   "metadata": {},
   "outputs": [],
   "source": []
  },
  {
   "cell_type": "markdown",
   "id": "2614c615",
   "metadata": {},
   "source": [
    "## Data preprocessing: Remove special characters and convert to numeric/datetime\n",
    "\n",
    "The next step in the data engineering process is to standardize and clean up data. In this step, you'll check for odd formatting and special characters that will make it difficult to work with data as numeric or datetime. \n",
    "\n",
    "In this step:\n",
    "* Create a function that takes in a dataframe and a list of columns and removes dollar signs ('$') from those columns\n",
    "* Convert any columns with date/time data into a `pandas` `datetime` format"
   ]
  },
  {
   "cell_type": "code",
   "execution_count": 21,
   "id": "a47537af",
   "metadata": {},
   "outputs": [],
   "source": [
    "def convert_dollar_columns_to_numeric(df, numeric_columns):\n",
    "    '''\n",
    "        Removes dollar signs ('$') from a list of columns in a given dataframe AND casts the columns to a numeric datatype.\n",
    "        Updates dataframe IN PLACE.\n",
    "        \n",
    "        Inputs:\n",
    "            df: dataframe to be operated on\n",
    "            numeric_columns: columns that should have numeric data but have dollar signs currently\n",
    "            \n",
    "        Returns:\n",
    "            None - changes to the dataframe can be made in place\n",
    "    '''\n",
    "    \n",
    "    for col in numeric_columns:\n",
    "        df[col] = pd.to_numeric(df[col].str.replace('$', ''))\n",
    "    \n",
    "    \n",
    "   # pass "
   ]
  },
  {
   "cell_type": "markdown",
   "id": "63c35799",
   "metadata": {},
   "source": [
    "## Test copy the data  to testing tasks\n",
    "\n",
    "From here, I think, it is a good practice to copy the undelying DataFrames to new ones. Indeed, this will help us avoid going back to re-download the data again and again. "
   ]
  },
  {
   "cell_type": "code",
   "execution_count": 22,
   "id": "34d571e7",
   "metadata": {},
   "outputs": [],
   "source": [
    "# copy apple and microsofte dfs\n",
    "\n",
    "cp_apple_data = apple_data.copy()\n",
    "cp_msft_data = msft_data.copy()"
   ]
  },
  {
   "cell_type": "code",
   "execution_count": 23,
   "id": "502fc752",
   "metadata": {},
   "outputs": [],
   "source": [
    "# copy macro-economic dfs\n",
    "\n",
    "cp_inflation_data = inflation_data.copy()\n",
    "cp_gdp_data = gdp_data.copy()\n",
    "cp_cpi_data = cpi_data.copy()"
   ]
  },
  {
   "cell_type": "code",
   "execution_count": 24,
   "id": "a7b3b29f",
   "metadata": {},
   "outputs": [
    {
     "name": "stdout",
     "output_type": "stream",
     "text": [
      "<class 'pandas.core.frame.DataFrame'>\n",
      "RangeIndex: 2517 entries, 0 to 2516\n",
      "Data columns (total 6 columns):\n",
      " #   Column  Non-Null Count  Dtype \n",
      "---  ------  --------------  ----- \n",
      " 0   Date    2517 non-null   object\n",
      " 1   Close   2517 non-null   object\n",
      " 2   Volume  2517 non-null   int64 \n",
      " 3   Open    2517 non-null   object\n",
      " 4   High    2517 non-null   object\n",
      " 5   Low     2517 non-null   object\n",
      "dtypes: int64(1), object(5)\n",
      "memory usage: 118.1+ KB\n"
     ]
    }
   ],
   "source": [
    "cp_apple_data.info()"
   ]
  },
  {
   "cell_type": "code",
   "execution_count": 25,
   "id": "609d6b69",
   "metadata": {},
   "outputs": [
    {
     "name": "stdout",
     "output_type": "stream",
     "text": [
      "<class 'pandas.core.frame.DataFrame'>\n",
      "RangeIndex: 309 entries, 0 to 308\n",
      "Data columns (total 2 columns):\n",
      " #   Column  Non-Null Count  Dtype  \n",
      "---  ------  --------------  -----  \n",
      " 0   Date    309 non-null    object \n",
      " 1   GDP     309 non-null    float64\n",
      "dtypes: float64(1), object(1)\n",
      "memory usage: 5.0+ KB\n"
     ]
    }
   ],
   "source": [
    "cp_gdp_data.info()"
   ]
  },
  {
   "cell_type": "code",
   "execution_count": 26,
   "id": "055f8621",
   "metadata": {},
   "outputs": [],
   "source": [
    "# Use convert_dollar_columns_to_numeric() to remove the dollar sign from the Apple and Microsoft datasets\n",
    "\n",
    "list_dollar_sign_columns  = apple_data.drop(['Date', 'Volume'], axis=1).columns.tolist()\n",
    "list_dollar_sign_columns\n",
    "\n",
    "convert_dollar_columns_to_numeric(cp_apple_data, list_dollar_sign_columns)\n",
    "\n",
    "convert_dollar_columns_to_numeric(cp_msft_data, list_dollar_sign_columns)"
   ]
  },
  {
   "cell_type": "code",
   "execution_count": 27,
   "id": "2e1e409a",
   "metadata": {},
   "outputs": [
    {
     "name": "stdout",
     "output_type": "stream",
     "text": [
      "Removed \"$\" AAPL:\n",
      "\n",
      "         Date   Close     Volume    Open    High     Low\n",
      "0   5/3/2024  183.38  163224100  186.65  187.00  182.66\n",
      "1   5/2/2024  173.03   94214920  172.51  173.42  170.89\n",
      "2   5/1/2024  169.30   50383150  169.58  172.71  169.11\n",
      "3  4/30/2024  170.33   65934780  173.33  174.99  170.00\n",
      "4  4/29/2024  173.50   68169420  173.37  176.03  173.10\n",
      "\n",
      "\n",
      "Removed \"$\" MSFT:\n",
      "\n",
      "          Date   Close    Volume    Open      High       Low\n",
      "0  05/03/2024  406.66  17446720  402.28  407.1500  401.8600\n",
      "1  05/02/2024  397.84  17709360  397.66  399.9300  394.6515\n",
      "2  05/01/2024  394.94  23562480  392.61  401.7199  390.3100\n",
      "3  04/30/2024  389.33  28781370  401.49  402.1600  389.1700\n",
      "4  04/29/2024  402.25  19582090  405.25  406.3200  399.1900\n"
     ]
    }
   ],
   "source": [
    "print(f'Removed \"$\" AAPL:\\n\\n {cp_apple_data.head()}')\n",
    "\n",
    "print('\\n')\n",
    "\n",
    "print(f'Removed \"$\" MSFT:\\n\\n {cp_msft_data.head()}')"
   ]
  },
  {
   "cell_type": "code",
   "execution_count": 28,
   "id": "efea17ca",
   "metadata": {},
   "outputs": [],
   "source": [
    "# Use pandas's to_datetime() to convert any columns that are in a datetime format\n",
    "\n",
    "# function\n",
    "def convert_to_datetime(df):\n",
    "    '''\n",
    "        check every column, verify if type is object and convert to datetime in case of datetime format\n",
    "    '''\n",
    "    for col in df.columns:\n",
    "        if pd.api.types.is_object_dtype(df[col]):\n",
    "            try:\n",
    "                df[col] = pd.to_datetime(df[col])\n",
    "            except (ValueError, TypeError):\n",
    "                pass\n",
    "\n",
    "\n",
    "convert_to_datetime(cp_apple_data)\n",
    "convert_to_datetime(cp_msft_data)\n",
    "convert_to_datetime(cp_inflation_data)\n",
    "convert_to_datetime(cp_gdp_data)\n",
    "convert_to_datetime(cp_cpi_data)\n"
   ]
  },
  {
   "cell_type": "code",
   "execution_count": 29,
   "id": "8a2089e3",
   "metadata": {},
   "outputs": [
    {
     "name": "stdout",
     "output_type": "stream",
     "text": [
      "<class 'pandas.core.frame.DataFrame'>\n",
      "RangeIndex: 2517 entries, 0 to 2516\n",
      "Data columns (total 6 columns):\n",
      " #   Column  Non-Null Count  Dtype         \n",
      "---  ------  --------------  -----         \n",
      " 0   Date    2517 non-null   datetime64[ns]\n",
      " 1   Close   2517 non-null   float64       \n",
      " 2   Volume  2517 non-null   int64         \n",
      " 3   Open    2517 non-null   float64       \n",
      " 4   High    2517 non-null   float64       \n",
      " 5   Low     2517 non-null   float64       \n",
      "dtypes: datetime64[ns](1), float64(4), int64(1)\n",
      "memory usage: 118.1 KB\n"
     ]
    }
   ],
   "source": [
    "# Use .info() and check the type of each column to ensure that the above steps worked\n",
    "\n",
    "cp_apple_data.info()"
   ]
  },
  {
   "cell_type": "code",
   "execution_count": 30,
   "id": "6d66211f",
   "metadata": {},
   "outputs": [
    {
     "name": "stdout",
     "output_type": "stream",
     "text": [
      "<class 'pandas.core.frame.DataFrame'>\n",
      "RangeIndex: 2517 entries, 0 to 2516\n",
      "Data columns (total 6 columns):\n",
      " #   Column  Non-Null Count  Dtype         \n",
      "---  ------  --------------  -----         \n",
      " 0   Date    2517 non-null   datetime64[ns]\n",
      " 1   Close   2517 non-null   float64       \n",
      " 2   Volume  2517 non-null   int64         \n",
      " 3   Open    2517 non-null   float64       \n",
      " 4   High    2517 non-null   float64       \n",
      " 5   Low     2517 non-null   float64       \n",
      "dtypes: datetime64[ns](1), float64(4), int64(1)\n",
      "memory usage: 118.1 KB\n"
     ]
    }
   ],
   "source": [
    "cp_msft_data.info()"
   ]
  },
  {
   "cell_type": "code",
   "execution_count": 31,
   "id": "546547d0",
   "metadata": {},
   "outputs": [
    {
     "name": "stdout",
     "output_type": "stream",
     "text": [
      "<class 'pandas.core.frame.DataFrame'>\n",
      "RangeIndex: 675 entries, 0 to 674\n",
      "Data columns (total 2 columns):\n",
      " #   Column             Non-Null Count  Dtype         \n",
      "---  ------             --------------  -----         \n",
      " 0   Date               675 non-null    datetime64[ns]\n",
      " 1   monthly_Inflation  675 non-null    float64       \n",
      "dtypes: datetime64[ns](1), float64(1)\n",
      "memory usage: 10.7 KB\n"
     ]
    }
   ],
   "source": [
    "cp_inflation_data.info()"
   ]
  },
  {
   "cell_type": "markdown",
   "id": "95ad8e72",
   "metadata": {},
   "source": [
    "## Data preprocessing: Align datetime data\n",
    "\n",
    "Data engineering includes changing data with a datetime component if needed so that different time series can be more easily compared or plotted against each other. \n",
    "\n",
    "In this step:\n",
    "\n",
    "* Align the inflation date so that it falls on the last day of the month instead of the first\n",
    "\n",
    "Helpful hints: \n",
    "* Use the `pandas` `offsets` method using `MonthEnd(0)` to set the 'Date' column to month-end"
   ]
  },
  {
   "cell_type": "code",
   "execution_count": 32,
   "id": "4bb43eba",
   "metadata": {},
   "outputs": [
    {
     "data": {
      "text/html": [
       "<div>\n",
       "<style scoped>\n",
       "    .dataframe tbody tr th:only-of-type {\n",
       "        vertical-align: middle;\n",
       "    }\n",
       "\n",
       "    .dataframe tbody tr th {\n",
       "        vertical-align: top;\n",
       "    }\n",
       "\n",
       "    .dataframe thead th {\n",
       "        text-align: right;\n",
       "    }\n",
       "</style>\n",
       "<table border=\"1\" class=\"dataframe\">\n",
       "  <thead>\n",
       "    <tr style=\"text-align: right;\">\n",
       "      <th></th>\n",
       "      <th>Date</th>\n",
       "      <th>monthly_Inflation</th>\n",
       "    </tr>\n",
       "  </thead>\n",
       "  <tbody>\n",
       "    <tr>\n",
       "      <th>0</th>\n",
       "      <td>1968-01-01</td>\n",
       "      <td>3.651861</td>\n",
       "    </tr>\n",
       "    <tr>\n",
       "      <th>1</th>\n",
       "      <td>1968-02-01</td>\n",
       "      <td>3.673819</td>\n",
       "    </tr>\n",
       "    <tr>\n",
       "      <th>2</th>\n",
       "      <td>1968-03-01</td>\n",
       "      <td>4.142164</td>\n",
       "    </tr>\n",
       "    <tr>\n",
       "      <th>3</th>\n",
       "      <td>1968-04-01</td>\n",
       "      <td>4.155828</td>\n",
       "    </tr>\n",
       "    <tr>\n",
       "      <th>4</th>\n",
       "      <td>1968-05-01</td>\n",
       "      <td>4.088245</td>\n",
       "    </tr>\n",
       "  </tbody>\n",
       "</table>\n",
       "</div>"
      ],
      "text/plain": [
       "        Date  monthly_Inflation\n",
       "0 1968-01-01           3.651861\n",
       "1 1968-02-01           3.673819\n",
       "2 1968-03-01           4.142164\n",
       "3 1968-04-01           4.155828\n",
       "4 1968-05-01           4.088245"
      ]
     },
     "execution_count": 32,
     "metadata": {},
     "output_type": "execute_result"
    }
   ],
   "source": [
    "cp_inflation_data.head()"
   ]
  },
  {
   "cell_type": "code",
   "execution_count": 33,
   "id": "fe782db6",
   "metadata": {},
   "outputs": [],
   "source": [
    "# Align inflation data so that the date is the month end (e.g. Jan 31, Feb 28/28)\n",
    "\n",
    "cp_inflation_data['Date'] = cp_inflation_data['Date'] + pd.offsets.MonthEnd(0)"
   ]
  },
  {
   "cell_type": "code",
   "execution_count": 34,
   "id": "4dfd4ab7",
   "metadata": {},
   "outputs": [
    {
     "data": {
      "text/html": [
       "<div>\n",
       "<style scoped>\n",
       "    .dataframe tbody tr th:only-of-type {\n",
       "        vertical-align: middle;\n",
       "    }\n",
       "\n",
       "    .dataframe tbody tr th {\n",
       "        vertical-align: top;\n",
       "    }\n",
       "\n",
       "    .dataframe thead th {\n",
       "        text-align: right;\n",
       "    }\n",
       "</style>\n",
       "<table border=\"1\" class=\"dataframe\">\n",
       "  <thead>\n",
       "    <tr style=\"text-align: right;\">\n",
       "      <th></th>\n",
       "      <th>Date</th>\n",
       "      <th>monthly_Inflation</th>\n",
       "    </tr>\n",
       "  </thead>\n",
       "  <tbody>\n",
       "    <tr>\n",
       "      <th>0</th>\n",
       "      <td>1968-01-31</td>\n",
       "      <td>3.651861</td>\n",
       "    </tr>\n",
       "    <tr>\n",
       "      <th>1</th>\n",
       "      <td>1968-02-29</td>\n",
       "      <td>3.673819</td>\n",
       "    </tr>\n",
       "    <tr>\n",
       "      <th>2</th>\n",
       "      <td>1968-03-31</td>\n",
       "      <td>4.142164</td>\n",
       "    </tr>\n",
       "    <tr>\n",
       "      <th>3</th>\n",
       "      <td>1968-04-30</td>\n",
       "      <td>4.155828</td>\n",
       "    </tr>\n",
       "    <tr>\n",
       "      <th>4</th>\n",
       "      <td>1968-05-31</td>\n",
       "      <td>4.088245</td>\n",
       "    </tr>\n",
       "  </tbody>\n",
       "</table>\n",
       "</div>"
      ],
      "text/plain": [
       "        Date  monthly_Inflation\n",
       "0 1968-01-31           3.651861\n",
       "1 1968-02-29           3.673819\n",
       "2 1968-03-31           4.142164\n",
       "3 1968-04-30           4.155828\n",
       "4 1968-05-31           4.088245"
      ]
     },
     "execution_count": 34,
     "metadata": {},
     "output_type": "execute_result"
    }
   ],
   "source": [
    "cp_inflation_data.head()"
   ]
  },
  {
   "cell_type": "code",
   "execution_count": null,
   "id": "8cec5656",
   "metadata": {},
   "outputs": [],
   "source": []
  },
  {
   "cell_type": "markdown",
   "id": "e072f4a1",
   "metadata": {},
   "source": [
    "## Data preprocessing: Upsample, downsample and interpolate data\n",
    "\n",
    "Inflation data is presented monthly in this dataset. However, for some models, you may need it at a quarterly frequency, and for some models you may need it at a quarterly (weekly ?) frequency. \n",
    "\n",
    "In this step:\n",
    "* Create a new quarterly inflation dataframe by downsampling the monthly inflation data to quarterly using the mean (e.g. for quarter 1 in a given year, use the average values from January, February, and March)\n",
    "* Create a new weekly inflation dataframe by upsampling the monthly inflation data. For this, you'll need to use `resample` and then you'll need to `interpolate` to fill in the missing data at the weekly frequency\n",
    "\n",
    "Note that you may need to change the index for some of these operations! "
   ]
  },
  {
   "cell_type": "code",
   "execution_count": 35,
   "id": "28fea2f6",
   "metadata": {},
   "outputs": [
    {
     "data": {
      "text/html": [
       "<div>\n",
       "<style scoped>\n",
       "    .dataframe tbody tr th:only-of-type {\n",
       "        vertical-align: middle;\n",
       "    }\n",
       "\n",
       "    .dataframe tbody tr th {\n",
       "        vertical-align: top;\n",
       "    }\n",
       "\n",
       "    .dataframe thead th {\n",
       "        text-align: right;\n",
       "    }\n",
       "</style>\n",
       "<table border=\"1\" class=\"dataframe\">\n",
       "  <thead>\n",
       "    <tr style=\"text-align: right;\">\n",
       "      <th></th>\n",
       "      <th>weekly_inflation</th>\n",
       "    </tr>\n",
       "    <tr>\n",
       "      <th>Date</th>\n",
       "      <th></th>\n",
       "    </tr>\n",
       "  </thead>\n",
       "  <tbody>\n",
       "    <tr>\n",
       "      <th>1968-03-31</th>\n",
       "      <td>4.142164</td>\n",
       "    </tr>\n",
       "    <tr>\n",
       "      <th>1968-04-07</th>\n",
       "      <td>4.173195</td>\n",
       "    </tr>\n",
       "    <tr>\n",
       "      <th>1968-04-14</th>\n",
       "      <td>4.204226</td>\n",
       "    </tr>\n",
       "    <tr>\n",
       "      <th>1968-04-21</th>\n",
       "      <td>4.235258</td>\n",
       "    </tr>\n",
       "    <tr>\n",
       "      <th>1968-04-28</th>\n",
       "      <td>4.266289</td>\n",
       "    </tr>\n",
       "    <tr>\n",
       "      <th>...</th>\n",
       "      <td>...</td>\n",
       "    </tr>\n",
       "    <tr>\n",
       "      <th>2024-03-03</th>\n",
       "      <td>4.523115</td>\n",
       "    </tr>\n",
       "    <tr>\n",
       "      <th>2024-03-10</th>\n",
       "      <td>4.519639</td>\n",
       "    </tr>\n",
       "    <tr>\n",
       "      <th>2024-03-17</th>\n",
       "      <td>4.516164</td>\n",
       "    </tr>\n",
       "    <tr>\n",
       "      <th>2024-03-24</th>\n",
       "      <td>4.512688</td>\n",
       "    </tr>\n",
       "    <tr>\n",
       "      <th>2024-03-31</th>\n",
       "      <td>4.509212</td>\n",
       "    </tr>\n",
       "  </tbody>\n",
       "</table>\n",
       "<p>2923 rows × 1 columns</p>\n",
       "</div>"
      ],
      "text/plain": [
       "            weekly_inflation\n",
       "Date                        \n",
       "1968-03-31          4.142164\n",
       "1968-04-07          4.173195\n",
       "1968-04-14          4.204226\n",
       "1968-04-21          4.235258\n",
       "1968-04-28          4.266289\n",
       "...                      ...\n",
       "2024-03-03          4.523115\n",
       "2024-03-10          4.519639\n",
       "2024-03-17          4.516164\n",
       "2024-03-24          4.512688\n",
       "2024-03-31          4.509212\n",
       "\n",
       "[2923 rows x 1 columns]"
      ]
     },
     "execution_count": 35,
     "metadata": {},
     "output_type": "execute_result"
    }
   ],
   "source": [
    "# Upsample and interpolate from monthly to weekly \n",
    "\n",
    "weekly_inflation_data = cp_inflation_data.set_index('Date')\\\n",
    "                                .resample('W')\\\n",
    "                                .interpolate(method='linear')\\\n",
    "                                .rename(columns={'monthly_Inflation':'weekly_inflation'})\\\n",
    "                                .dropna()\n",
    "weekly_inflation_data"
   ]
  },
  {
   "cell_type": "code",
   "execution_count": 36,
   "id": "635647a1",
   "metadata": {},
   "outputs": [
    {
     "data": {
      "text/html": [
       "<div>\n",
       "<style scoped>\n",
       "    .dataframe tbody tr th:only-of-type {\n",
       "        vertical-align: middle;\n",
       "    }\n",
       "\n",
       "    .dataframe tbody tr th {\n",
       "        vertical-align: top;\n",
       "    }\n",
       "\n",
       "    .dataframe thead th {\n",
       "        text-align: right;\n",
       "    }\n",
       "</style>\n",
       "<table border=\"1\" class=\"dataframe\">\n",
       "  <thead>\n",
       "    <tr style=\"text-align: right;\">\n",
       "      <th></th>\n",
       "      <th>quaterly_Inflation</th>\n",
       "    </tr>\n",
       "    <tr>\n",
       "      <th>Date</th>\n",
       "      <th></th>\n",
       "    </tr>\n",
       "  </thead>\n",
       "  <tbody>\n",
       "    <tr>\n",
       "      <th>1968-03-31</th>\n",
       "      <td>3.822615</td>\n",
       "    </tr>\n",
       "    <tr>\n",
       "      <th>1968-06-30</th>\n",
       "      <td>4.263214</td>\n",
       "    </tr>\n",
       "    <tr>\n",
       "      <th>1968-09-30</th>\n",
       "      <td>4.882643</td>\n",
       "    </tr>\n",
       "    <tr>\n",
       "      <th>1968-12-31</th>\n",
       "      <td>5.429443</td>\n",
       "    </tr>\n",
       "    <tr>\n",
       "      <th>1969-03-31</th>\n",
       "      <td>5.873770</td>\n",
       "    </tr>\n",
       "    <tr>\n",
       "      <th>...</th>\n",
       "      <td>...</td>\n",
       "    </tr>\n",
       "    <tr>\n",
       "      <th>2023-03-31</th>\n",
       "      <td>6.467833</td>\n",
       "    </tr>\n",
       "    <tr>\n",
       "      <th>2023-06-30</th>\n",
       "      <td>5.942054</td>\n",
       "    </tr>\n",
       "    <tr>\n",
       "      <th>2023-09-30</th>\n",
       "      <td>5.179249</td>\n",
       "    </tr>\n",
       "    <tr>\n",
       "      <th>2023-12-31</th>\n",
       "      <td>4.708539</td>\n",
       "    </tr>\n",
       "    <tr>\n",
       "      <th>2024-03-31</th>\n",
       "      <td>4.505412</td>\n",
       "    </tr>\n",
       "  </tbody>\n",
       "</table>\n",
       "<p>225 rows × 1 columns</p>\n",
       "</div>"
      ],
      "text/plain": [
       "            quaterly_Inflation\n",
       "Date                          \n",
       "1968-03-31            3.822615\n",
       "1968-06-30            4.263214\n",
       "1968-09-30            4.882643\n",
       "1968-12-31            5.429443\n",
       "1969-03-31            5.873770\n",
       "...                        ...\n",
       "2023-03-31            6.467833\n",
       "2023-06-30            5.942054\n",
       "2023-09-30            5.179249\n",
       "2023-12-31            4.708539\n",
       "2024-03-31            4.505412\n",
       "\n",
       "[225 rows x 1 columns]"
      ]
     },
     "execution_count": 36,
     "metadata": {},
     "output_type": "execute_result"
    }
   ],
   "source": [
    "# Downsample from monthly to quarterly \n",
    "\n",
    "quaterly_inflation_data = cp_inflation_data.set_index('Date')\\\n",
    "                                    .resample('QE')\\\n",
    "                                    .mean()\\\n",
    "                                    .rename(columns={'monthly_Inflation':'quaterly_Inflation'})\\\n",
    "                                    .dropna()\n",
    "quaterly_inflation_data"
   ]
  },
  {
   "cell_type": "markdown",
   "id": "0ea82443",
   "metadata": {},
   "source": [
    "## Data preprocessing: Normalize/standardize a feature\n",
    "\n",
    "Economic time series data often involve variables measured on different scales (e.g., GDP in trillions of dollars, inflation in percentage points). Standardizing these variables (typically by subtracting the mean and dividing by the standard deviation) puts them on a common scale, allowing for meaningful comparisons and analyses.\n",
    "\n",
    "Your task:\n",
    "* Standardize the GDP data. You may do this manually by subtracting the mean and dividing by the standard deviation, or you may use a built-in method from a library like `sklearn`'s `StandardScaler`"
   ]
  },
  {
   "cell_type": "code",
   "execution_count": null,
   "id": "515d9fdb",
   "metadata": {},
   "outputs": [],
   "source": []
  },
  {
   "cell_type": "code",
   "execution_count": 37,
   "id": "4f88d246",
   "metadata": {},
   "outputs": [
    {
     "data": {
      "text/html": [
       "<div>\n",
       "<style scoped>\n",
       "    .dataframe tbody tr th:only-of-type {\n",
       "        vertical-align: middle;\n",
       "    }\n",
       "\n",
       "    .dataframe tbody tr th {\n",
       "        vertical-align: top;\n",
       "    }\n",
       "\n",
       "    .dataframe thead th {\n",
       "        text-align: right;\n",
       "    }\n",
       "</style>\n",
       "<table border=\"1\" class=\"dataframe\">\n",
       "  <thead>\n",
       "    <tr style=\"text-align: right;\">\n",
       "      <th></th>\n",
       "      <th>GDP</th>\n",
       "    </tr>\n",
       "    <tr>\n",
       "      <th>Date</th>\n",
       "      <th></th>\n",
       "    </tr>\n",
       "  </thead>\n",
       "  <tbody>\n",
       "    <tr>\n",
       "      <th>1947-01-01</th>\n",
       "      <td>-0.933981</td>\n",
       "    </tr>\n",
       "    <tr>\n",
       "      <th>1947-04-01</th>\n",
       "      <td>-0.933606</td>\n",
       "    </tr>\n",
       "    <tr>\n",
       "      <th>1947-07-01</th>\n",
       "      <td>-0.933123</td>\n",
       "    </tr>\n",
       "    <tr>\n",
       "      <th>1947-10-01</th>\n",
       "      <td>-0.931764</td>\n",
       "    </tr>\n",
       "    <tr>\n",
       "      <th>1948-01-01</th>\n",
       "      <td>-0.930962</td>\n",
       "    </tr>\n",
       "    <tr>\n",
       "      <th>...</th>\n",
       "      <td>...</td>\n",
       "    </tr>\n",
       "    <tr>\n",
       "      <th>2023-01-01</th>\n",
       "      <td>2.619025</td>\n",
       "    </tr>\n",
       "    <tr>\n",
       "      <th>2023-04-01</th>\n",
       "      <td>2.652376</td>\n",
       "    </tr>\n",
       "    <tr>\n",
       "      <th>2023-07-01</th>\n",
       "      <td>2.725536</td>\n",
       "    </tr>\n",
       "    <tr>\n",
       "      <th>2023-10-01</th>\n",
       "      <td>2.771920</td>\n",
       "    </tr>\n",
       "    <tr>\n",
       "      <th>2024-01-01</th>\n",
       "      <td>2.815713</td>\n",
       "    </tr>\n",
       "  </tbody>\n",
       "</table>\n",
       "<p>309 rows × 1 columns</p>\n",
       "</div>"
      ],
      "text/plain": [
       "                 GDP\n",
       "Date                \n",
       "1947-01-01 -0.933981\n",
       "1947-04-01 -0.933606\n",
       "1947-07-01 -0.933123\n",
       "1947-10-01 -0.931764\n",
       "1948-01-01 -0.930962\n",
       "...              ...\n",
       "2023-01-01  2.619025\n",
       "2023-04-01  2.652376\n",
       "2023-07-01  2.725536\n",
       "2023-10-01  2.771920\n",
       "2024-01-01  2.815713\n",
       "\n",
       "[309 rows x 1 columns]"
      ]
     },
     "execution_count": 37,
     "metadata": {},
     "output_type": "execute_result"
    }
   ],
   "source": [
    "# Standardize the GDP measure\n",
    "\n",
    "#Option 1: manually\n",
    "\n",
    "cp_gdp_data.set_index('Date', inplace=True)\n",
    "\n",
    "manually_gdp_strd = cp_gdp_data.copy()\n",
    "\n",
    "manually_gdp_strd = manually_gdp_strd.sub(manually_gdp_strd.mean()).div(manually_gdp_strd.std())\n",
    "\n",
    "manually_gdp_strd"
   ]
  },
  {
   "cell_type": "code",
   "execution_count": 38,
   "id": "74056813",
   "metadata": {},
   "outputs": [
    {
     "name": "stdout",
     "output_type": "stream",
     "text": [
      "Requirement already satisfied: scikit-learn in /opt/venv/lib/python3.10/site-packages (1.5.2)\n",
      "Requirement already satisfied: numpy>=1.19.5 in /opt/venv/lib/python3.10/site-packages (from scikit-learn) (2.1.2)\n",
      "Requirement already satisfied: joblib>=1.2.0 in /opt/venv/lib/python3.10/site-packages (from scikit-learn) (1.4.2)\n",
      "Requirement already satisfied: threadpoolctl>=3.1.0 in /opt/venv/lib/python3.10/site-packages (from scikit-learn) (3.5.0)\n",
      "Requirement already satisfied: scipy>=1.6.0 in /opt/venv/lib/python3.10/site-packages (from scikit-learn) (1.14.1)\n",
      "\n",
      "\u001b[1m[\u001b[0m\u001b[34;49mnotice\u001b[0m\u001b[1;39;49m]\u001b[0m\u001b[39;49m A new release of pip is available: \u001b[0m\u001b[31;49m23.0.1\u001b[0m\u001b[39;49m -> \u001b[0m\u001b[32;49m24.3.1\u001b[0m\n",
      "\u001b[1m[\u001b[0m\u001b[34;49mnotice\u001b[0m\u001b[1;39;49m]\u001b[0m\u001b[39;49m To update, run: \u001b[0m\u001b[32;49mpip install --upgrade pip\u001b[0m\n"
     ]
    }
   ],
   "source": [
    "# option 2: ML\n",
    "\n",
    "!pip install scikit-learn"
   ]
  },
  {
   "cell_type": "code",
   "execution_count": 39,
   "id": "34e7264e",
   "metadata": {},
   "outputs": [],
   "source": [
    "from sklearn.preprocessing import StandardScaler"
   ]
  },
  {
   "cell_type": "code",
   "execution_count": 40,
   "id": "9a361a8e",
   "metadata": {},
   "outputs": [
    {
     "name": "stdout",
     "output_type": "stream",
     "text": [
      "StandardScaler()\n"
     ]
    }
   ],
   "source": [
    "scaler = StandardScaler()\n",
    "print(scaler.fit(cp_gdp_data))\n",
    "\n",
    "cp_gdp_data = pd.DataFrame(scaler.transform(cp_gdp_data).flatten(), \n",
    "             columns=['GDP'],\n",
    "            index=[cp_gdp_data.index])"
   ]
  },
  {
   "cell_type": "code",
   "execution_count": null,
   "id": "bfef30f9",
   "metadata": {},
   "outputs": [],
   "source": []
  },
  {
   "cell_type": "code",
   "execution_count": 41,
   "id": "e4801c53",
   "metadata": {},
   "outputs": [
    {
     "name": "stdout",
     "output_type": "stream",
     "text": [
      "Mean GDP:\n",
      "\n",
      " GDP   -0.0\n",
      "dtype: float64\n",
      "\n",
      "\n",
      "Standard deviation GDP:\n",
      "\n",
      " GDP    1.0\n",
      "dtype: float64\n",
      "\n",
      "\n",
      "standardized GDP (head):\n",
      "\n",
      "                  GDP\n",
      "Date                \n",
      "1947-01-01 -0.935496\n",
      "1947-04-01 -0.935121\n",
      "1947-07-01 -0.934636\n",
      "1947-10-01 -0.933276\n",
      "1948-01-01 -0.932472\n",
      "\n",
      "\n",
      "standardized GDP (tail):\n",
      "\n",
      "                  GDP\n",
      "Date                \n",
      "2023-01-01  2.623273\n",
      "2023-04-01  2.656678\n",
      "2023-07-01  2.729957\n",
      "2023-10-01  2.776416\n",
      "2024-01-01  2.820281\n"
     ]
    }
   ],
   "source": [
    "# Check the dataframe to make sure the calculation worked as expected \n",
    "\n",
    "print(f'Mean GDP:\\n\\n {round(cp_gdp_data.mean(), 2)}')\n",
    "print('\\n')\n",
    "print(f'Standard deviation GDP:\\n\\n {round(cp_gdp_data.std(), 2)}')\n",
    "print('\\n')\n",
    "print(f'standardized GDP (head):\\n\\n {cp_gdp_data.head()}')\n",
    "print('\\n')\n",
    "print(f'standardized GDP (tail):\\n\\n {cp_gdp_data.tail()}')"
   ]
  },
  {
   "cell_type": "code",
   "execution_count": null,
   "id": "267c7da9",
   "metadata": {},
   "outputs": [],
   "source": []
  },
  {
   "cell_type": "markdown",
   "id": "1f1a89d2",
   "metadata": {},
   "source": [
    "## EDA: Plotting a time series of adjusted open vs close price\n",
    "\n",
    "As part of your EDA, you'll frequently want to plot two time series on the same graph and using the same axis to compare their movements. \n",
    "\n",
    "Your task:\n",
    "* Plot the Apple open and close price time series on the same chart **for the last three months only**. Be sure to use a legend to label each line\n",
    "\n",
    "**NOTE**: This is a large dataset. If you try to plot the entire series, your graph will be hard to interpret and may take a long time to plot. Be sure to use only the most recent three months of data. "
   ]
  },
  {
   "cell_type": "code",
   "execution_count": null,
   "id": "a6ae1ada",
   "metadata": {},
   "outputs": [],
   "source": []
  },
  {
   "cell_type": "code",
   "execution_count": 42,
   "id": "9b490f9b",
   "metadata": {},
   "outputs": [
    {
     "data": {
      "text/plain": [
       "Timestamp('2024-05-03 00:00:00')"
      ]
     },
     "execution_count": 42,
     "metadata": {},
     "output_type": "execute_result"
    }
   ],
   "source": [
    "# Get max date in timeseries\n",
    "\n",
    "cp_apple_data.set_index('Date', inplace=True) # set date as index\n",
    "cp_apple_data.sort_index(ascending=False, inplace=True) # sort index\n",
    "\n",
    "cp_msft_data.set_index('Date', inplace=True)\n",
    "cp_msft_data.sort_index(ascending=False, inplace=True)\n",
    "\n",
    "# alert for index similarity between aapl and msft\n",
    "assert cp_apple_data.index.equals(cp_msft_data.index), \"Not the same datetime index\"\n",
    "\n",
    "# get max date\n",
    "max_date = cp_apple_data.index.max()\n",
    "max_date"
   ]
  },
  {
   "cell_type": "code",
   "execution_count": 43,
   "id": "eca7299e",
   "metadata": {},
   "outputs": [
    {
     "data": {
      "text/html": [
       "<div>\n",
       "<style scoped>\n",
       "    .dataframe tbody tr th:only-of-type {\n",
       "        vertical-align: middle;\n",
       "    }\n",
       "\n",
       "    .dataframe tbody tr th {\n",
       "        vertical-align: top;\n",
       "    }\n",
       "\n",
       "    .dataframe thead th {\n",
       "        text-align: right;\n",
       "    }\n",
       "</style>\n",
       "<table border=\"1\" class=\"dataframe\">\n",
       "  <thead>\n",
       "    <tr style=\"text-align: right;\">\n",
       "      <th></th>\n",
       "      <th>Close</th>\n",
       "      <th>Volume</th>\n",
       "      <th>Open</th>\n",
       "      <th>High</th>\n",
       "      <th>Low</th>\n",
       "    </tr>\n",
       "    <tr>\n",
       "      <th>Date</th>\n",
       "      <th></th>\n",
       "      <th></th>\n",
       "      <th></th>\n",
       "      <th></th>\n",
       "      <th></th>\n",
       "    </tr>\n",
       "  </thead>\n",
       "  <tbody>\n",
       "    <tr>\n",
       "      <th>2024-05-03</th>\n",
       "      <td>183.38</td>\n",
       "      <td>163224100</td>\n",
       "      <td>186.65</td>\n",
       "      <td>187.00</td>\n",
       "      <td>182.66</td>\n",
       "    </tr>\n",
       "    <tr>\n",
       "      <th>2024-05-02</th>\n",
       "      <td>173.03</td>\n",
       "      <td>94214920</td>\n",
       "      <td>172.51</td>\n",
       "      <td>173.42</td>\n",
       "      <td>170.89</td>\n",
       "    </tr>\n",
       "    <tr>\n",
       "      <th>2024-05-01</th>\n",
       "      <td>169.30</td>\n",
       "      <td>50383150</td>\n",
       "      <td>169.58</td>\n",
       "      <td>172.71</td>\n",
       "      <td>169.11</td>\n",
       "    </tr>\n",
       "    <tr>\n",
       "      <th>2024-04-30</th>\n",
       "      <td>170.33</td>\n",
       "      <td>65934780</td>\n",
       "      <td>173.33</td>\n",
       "      <td>174.99</td>\n",
       "      <td>170.00</td>\n",
       "    </tr>\n",
       "    <tr>\n",
       "      <th>2024-04-29</th>\n",
       "      <td>173.50</td>\n",
       "      <td>68169420</td>\n",
       "      <td>173.37</td>\n",
       "      <td>176.03</td>\n",
       "      <td>173.10</td>\n",
       "    </tr>\n",
       "  </tbody>\n",
       "</table>\n",
       "</div>"
      ],
      "text/plain": [
       "             Close     Volume    Open    High     Low\n",
       "Date                                                 \n",
       "2024-05-03  183.38  163224100  186.65  187.00  182.66\n",
       "2024-05-02  173.03   94214920  172.51  173.42  170.89\n",
       "2024-05-01  169.30   50383150  169.58  172.71  169.11\n",
       "2024-04-30  170.33   65934780  173.33  174.99  170.00\n",
       "2024-04-29  173.50   68169420  173.37  176.03  173.10"
      ]
     },
     "execution_count": 43,
     "metadata": {},
     "output_type": "execute_result"
    }
   ],
   "source": [
    "cp_apple_data.head()"
   ]
  },
  {
   "cell_type": "code",
   "execution_count": 44,
   "id": "494d98d7",
   "metadata": {},
   "outputs": [
    {
     "data": {
      "text/html": [
       "<div>\n",
       "<style scoped>\n",
       "    .dataframe tbody tr th:only-of-type {\n",
       "        vertical-align: middle;\n",
       "    }\n",
       "\n",
       "    .dataframe tbody tr th {\n",
       "        vertical-align: top;\n",
       "    }\n",
       "\n",
       "    .dataframe thead th {\n",
       "        text-align: right;\n",
       "    }\n",
       "</style>\n",
       "<table border=\"1\" class=\"dataframe\">\n",
       "  <thead>\n",
       "    <tr style=\"text-align: right;\">\n",
       "      <th></th>\n",
       "      <th>Close</th>\n",
       "      <th>Volume</th>\n",
       "      <th>Open</th>\n",
       "      <th>High</th>\n",
       "      <th>Low</th>\n",
       "    </tr>\n",
       "    <tr>\n",
       "      <th>Date</th>\n",
       "      <th></th>\n",
       "      <th></th>\n",
       "      <th></th>\n",
       "      <th></th>\n",
       "      <th></th>\n",
       "    </tr>\n",
       "  </thead>\n",
       "  <tbody>\n",
       "    <tr>\n",
       "      <th>2024-05-03</th>\n",
       "      <td>406.66</td>\n",
       "      <td>17446720</td>\n",
       "      <td>402.28</td>\n",
       "      <td>407.1500</td>\n",
       "      <td>401.8600</td>\n",
       "    </tr>\n",
       "    <tr>\n",
       "      <th>2024-05-02</th>\n",
       "      <td>397.84</td>\n",
       "      <td>17709360</td>\n",
       "      <td>397.66</td>\n",
       "      <td>399.9300</td>\n",
       "      <td>394.6515</td>\n",
       "    </tr>\n",
       "    <tr>\n",
       "      <th>2024-05-01</th>\n",
       "      <td>394.94</td>\n",
       "      <td>23562480</td>\n",
       "      <td>392.61</td>\n",
       "      <td>401.7199</td>\n",
       "      <td>390.3100</td>\n",
       "    </tr>\n",
       "    <tr>\n",
       "      <th>2024-04-30</th>\n",
       "      <td>389.33</td>\n",
       "      <td>28781370</td>\n",
       "      <td>401.49</td>\n",
       "      <td>402.1600</td>\n",
       "      <td>389.1700</td>\n",
       "    </tr>\n",
       "    <tr>\n",
       "      <th>2024-04-29</th>\n",
       "      <td>402.25</td>\n",
       "      <td>19582090</td>\n",
       "      <td>405.25</td>\n",
       "      <td>406.3200</td>\n",
       "      <td>399.1900</td>\n",
       "    </tr>\n",
       "  </tbody>\n",
       "</table>\n",
       "</div>"
      ],
      "text/plain": [
       "             Close    Volume    Open      High       Low\n",
       "Date                                                    \n",
       "2024-05-03  406.66  17446720  402.28  407.1500  401.8600\n",
       "2024-05-02  397.84  17709360  397.66  399.9300  394.6515\n",
       "2024-05-01  394.94  23562480  392.61  401.7199  390.3100\n",
       "2024-04-30  389.33  28781370  401.49  402.1600  389.1700\n",
       "2024-04-29  402.25  19582090  405.25  406.3200  399.1900"
      ]
     },
     "execution_count": 44,
     "metadata": {},
     "output_type": "execute_result"
    }
   ],
   "source": [
    "cp_msft_data.head()"
   ]
  },
  {
   "cell_type": "code",
   "execution_count": null,
   "id": "61ac52be",
   "metadata": {},
   "outputs": [],
   "source": []
  },
  {
   "cell_type": "code",
   "execution_count": 45,
   "id": "03b51a20",
   "metadata": {},
   "outputs": [],
   "source": [
    "# Use the max date calculated above to get the last three months of data in the dataset \n",
    "\n",
    "apple_data_three_month = cp_apple_data.loc[max_date:max_date - pd.DateOffset(months=3), :]\n",
    "msft_data_three_month = cp_msft_data.loc[max_date:max_date - pd.DateOffset(months=3), :]\n"
   ]
  },
  {
   "cell_type": "code",
   "execution_count": null,
   "id": "d5fc3d59",
   "metadata": {},
   "outputs": [],
   "source": []
  },
  {
   "cell_type": "code",
   "execution_count": 46,
   "id": "039404e1",
   "metadata": {},
   "outputs": [
    {
     "data": {
      "image/png": "[encoded data removed]",
      "text/plain": [
       "<Figure size 1000x600 with 1 Axes>"
      ]
     },
     "metadata": {},
     "output_type": "display_data"
    }
   ],
   "source": [
    "# Plot time series of open v. close stock price for Apple using the last 3 months of data\n",
    "plt.style.use('ggplot')\n",
    "\n",
    "apple_data_three_month[['Open', 'Close']].plot(figsize=(10, 6), color = ['red', 'green'], linewidth=2.9)\n",
    "plt.title('AAPL: Open and Close Prices', fontsize=11, fontweight='bold')\n",
    "plt.xlabel('Date', fontsize=11)\n",
    "plt.ylabel('Prices', fontsize=11)\n",
    "plt.legend(['Open', 'Close'], loc='upper center')\n",
    "\n",
    "plt.xticks(rotation=45)\n",
    "\n",
    "plt.show()"
   ]
  },
  {
   "cell_type": "code",
   "execution_count": 47,
   "id": "59eb86e4",
   "metadata": {},
   "outputs": [
    {
     "data": {
      "image/png": "[encoded data removed]",
      "text/plain": [
       "<Figure size 1000x600 with 1 Axes>"
      ]
     },
     "metadata": {},
     "output_type": "display_data"
    }
   ],
   "source": [
    "apple_data_three_month[['Open', 'Close']].plot.scatter(x='Open', y='Close', \n",
    "                                                       color='blue', \n",
    "                                                       figsize=(10, 6), s=50)\n",
    "\n",
    "plt.title('AAPL: Open vs. Close Prices', fontsize=11, fontweight='bold')\n",
    "plt.xlabel('Open Prices', fontsize=11)\n",
    "plt.ylabel('Close Prices', fontsize=11)\n",
    "plt.show()\n",
    "plt.show()"
   ]
  },
  {
   "cell_type": "markdown",
   "id": "bc0070c6",
   "metadata": {},
   "source": [
    "## EDA: Plotting a histogram of a stock's closing price in the last three months\n",
    "\n",
    "One way to see how much a stock's price generally moves is to plot the frequency of closing prices over a set time period. \n",
    "\n",
    "Your task:\n",
    "* Use the **last three months** of Apple stock data and plot a histogram of closing price"
   ]
  },
  {
   "cell_type": "code",
   "execution_count": 48,
   "id": "b48760fd",
   "metadata": {},
   "outputs": [
    {
     "data": {
      "image/png": "[encoded data removed]",
      "text/plain": [
       "<Figure size 1000x600 with 1 Axes>"
      ]
     },
     "metadata": {},
     "output_type": "display_data"
    }
   ],
   "source": [
    "# Plot the histogram of Apple's closing price over the last 3 months \n",
    "\n",
    "apple_data_three_month['Close'].plot.hist(bins=50, color='green', edgecolor='black', figsize=(10, 6))\n",
    "plt.xlabel('Closing Prices', fontsize=11)\n",
    "plt.ylabel('Frequency', fontsize=11)\n",
    "plt.title('AAPL: Closing Prices Distribution over the last 3 Months', fontsize=11, fontweight='bold')\n",
    "plt.show()"
   ]
  },
  {
   "cell_type": "markdown",
   "id": "01e1b22c",
   "metadata": {},
   "source": [
    "## Calculating correlation between a stock price and a macroeconomic variable \n",
    "\n",
    "Inflation affects the purchasing power of money and can influence corporate profits, interest rates, and consumer behavior. By analyzing the correlation between stock prices and inflation, one can gauge how inflationary trends impact stock market performance. For instance, high inflation might erode profit margins and reduce stock prices, while moderate inflation might indicate a growing economy, benefiting stocks.\n",
    "\n",
    "Your task:\n",
    "* Plot a heatmap that shows the correlation between Microsoft and Apple returns and inflation \n",
    "\n",
    "This will require several steps:\n",
    "1. Calculate the returns for Apple and Microsoft and the change in monthly inflation (use the `pct_change` method for each)\n",
    "2. Interpolate the daily stock returns data to monthly so it can be compared to the monthly inflation data\n",
    "3. Merge the stock returns (Apple and Microsoft) and inflation data series into a single dataframe\n",
    "4. Calculate the correlation matrix between the Apple returns, Microsoft returns, and inflation change\n",
    "5. Plot the correlation matrix as a heatmap"
   ]
  },
  {
   "cell_type": "code",
   "execution_count": null,
   "id": "5d6e4d77",
   "metadata": {},
   "outputs": [],
   "source": []
  },
  {
   "cell_type": "markdown",
   "id": "c38842ed",
   "metadata": {},
   "source": [
    "### 1. Calculate returns for Microsoft / Apple and the monthly change in inflation"
   ]
  },
  {
   "cell_type": "code",
   "execution_count": 49,
   "id": "a112dc12",
   "metadata": {},
   "outputs": [],
   "source": [
    "# Calculate daily returns for Apple and Microsoft and the percent change in inflation from month to month\n",
    "\n",
    "# aapl\n",
    "aapl_daily_ret = cp_apple_data.pct_change(1).dropna()[['Close']]\n",
    "aapl_daily_ret.rename(columns={'Close':'aapl_1_d_ret'}, inplace=True)\n",
    "\n",
    "# msft\n",
    "msft_daily_ret =  cp_msft_data.pct_change(1).dropna()[['Close']]\n",
    "msft_daily_ret.rename(columns={'Close':'msft_1_d_ret'}, inplace=True)\n",
    "\n",
    "# inflation\n",
    "inflation_monthly_ret = cp_inflation_data\\\n",
    "            .set_index('Date')\\\n",
    "            .pct_change(1)\\\n",
    "            .dropna()\\\n",
    "            .rename(columns={'monthly_Inflation':'infla_1_month_ret'})\n"
   ]
  },
  {
   "cell_type": "code",
   "execution_count": 50,
   "id": "5723cb84",
   "metadata": {},
   "outputs": [
    {
     "data": {
      "text/html": [
       "<div>\n",
       "<style scoped>\n",
       "    .dataframe tbody tr th:only-of-type {\n",
       "        vertical-align: middle;\n",
       "    }\n",
       "\n",
       "    .dataframe tbody tr th {\n",
       "        vertical-align: top;\n",
       "    }\n",
       "\n",
       "    .dataframe thead th {\n",
       "        text-align: right;\n",
       "    }\n",
       "</style>\n",
       "<table border=\"1\" class=\"dataframe\">\n",
       "  <thead>\n",
       "    <tr style=\"text-align: right;\">\n",
       "      <th></th>\n",
       "      <th>infla_1_month_ret</th>\n",
       "    </tr>\n",
       "    <tr>\n",
       "      <th>Date</th>\n",
       "      <th></th>\n",
       "    </tr>\n",
       "  </thead>\n",
       "  <tbody>\n",
       "    <tr>\n",
       "      <th>1968-02-29</th>\n",
       "      <td>0.006013</td>\n",
       "    </tr>\n",
       "    <tr>\n",
       "      <th>1968-03-31</th>\n",
       "      <td>0.127482</td>\n",
       "    </tr>\n",
       "    <tr>\n",
       "      <th>1968-04-30</th>\n",
       "      <td>0.003299</td>\n",
       "    </tr>\n",
       "    <tr>\n",
       "      <th>1968-05-31</th>\n",
       "      <td>-0.016262</td>\n",
       "    </tr>\n",
       "    <tr>\n",
       "      <th>1968-06-30</th>\n",
       "      <td>0.111863</td>\n",
       "    </tr>\n",
       "    <tr>\n",
       "      <th>...</th>\n",
       "      <td>...</td>\n",
       "    </tr>\n",
       "    <tr>\n",
       "      <th>2023-11-30</th>\n",
       "      <td>-0.039860</td>\n",
       "    </tr>\n",
       "    <tr>\n",
       "      <th>2023-12-31</th>\n",
       "      <td>-0.028560</td>\n",
       "    </tr>\n",
       "    <tr>\n",
       "      <th>2024-01-31</th>\n",
       "      <td>0.010874</td>\n",
       "    </tr>\n",
       "    <tr>\n",
       "      <th>2024-02-29</th>\n",
       "      <td>-0.043619</td>\n",
       "    </tr>\n",
       "    <tr>\n",
       "      <th>2024-03-31</th>\n",
       "      <td>0.024099</td>\n",
       "    </tr>\n",
       "  </tbody>\n",
       "</table>\n",
       "<p>674 rows × 1 columns</p>\n",
       "</div>"
      ],
      "text/plain": [
       "            infla_1_month_ret\n",
       "Date                         \n",
       "1968-02-29           0.006013\n",
       "1968-03-31           0.127482\n",
       "1968-04-30           0.003299\n",
       "1968-05-31          -0.016262\n",
       "1968-06-30           0.111863\n",
       "...                       ...\n",
       "2023-11-30          -0.039860\n",
       "2023-12-31          -0.028560\n",
       "2024-01-31           0.010874\n",
       "2024-02-29          -0.043619\n",
       "2024-03-31           0.024099\n",
       "\n",
       "[674 rows x 1 columns]"
      ]
     },
     "execution_count": 50,
     "metadata": {},
     "output_type": "execute_result"
    }
   ],
   "source": [
    "inflation_monthly_ret"
   ]
  },
  {
   "cell_type": "code",
   "execution_count": 51,
   "id": "18d456f6",
   "metadata": {},
   "outputs": [
    {
     "data": {
      "text/html": [
       "<div>\n",
       "<style scoped>\n",
       "    .dataframe tbody tr th:only-of-type {\n",
       "        vertical-align: middle;\n",
       "    }\n",
       "\n",
       "    .dataframe tbody tr th {\n",
       "        vertical-align: top;\n",
       "    }\n",
       "\n",
       "    .dataframe thead th {\n",
       "        text-align: right;\n",
       "    }\n",
       "</style>\n",
       "<table border=\"1\" class=\"dataframe\">\n",
       "  <thead>\n",
       "    <tr style=\"text-align: right;\">\n",
       "      <th></th>\n",
       "      <th>aapl_1_d_ret</th>\n",
       "    </tr>\n",
       "    <tr>\n",
       "      <th>Date</th>\n",
       "      <th></th>\n",
       "    </tr>\n",
       "  </thead>\n",
       "  <tbody>\n",
       "    <tr>\n",
       "      <th>2024-05-02</th>\n",
       "      <td>-0.056440</td>\n",
       "    </tr>\n",
       "    <tr>\n",
       "      <th>2024-05-01</th>\n",
       "      <td>-0.021557</td>\n",
       "    </tr>\n",
       "    <tr>\n",
       "      <th>2024-04-30</th>\n",
       "      <td>0.006084</td>\n",
       "    </tr>\n",
       "    <tr>\n",
       "      <th>2024-04-29</th>\n",
       "      <td>0.018611</td>\n",
       "    </tr>\n",
       "    <tr>\n",
       "      <th>2024-04-26</th>\n",
       "      <td>-0.024207</td>\n",
       "    </tr>\n",
       "    <tr>\n",
       "      <th>...</th>\n",
       "      <td>...</td>\n",
       "    </tr>\n",
       "    <tr>\n",
       "      <th>2014-05-12</th>\n",
       "      <td>-0.001886</td>\n",
       "    </tr>\n",
       "    <tr>\n",
       "      <th>2014-05-09</th>\n",
       "      <td>-0.012282</td>\n",
       "    </tr>\n",
       "    <tr>\n",
       "      <th>2014-05-08</th>\n",
       "      <td>0.004304</td>\n",
       "    </tr>\n",
       "    <tr>\n",
       "      <th>2014-05-07</th>\n",
       "      <td>0.007143</td>\n",
       "    </tr>\n",
       "    <tr>\n",
       "      <th>2014-05-06</th>\n",
       "      <td>0.003783</td>\n",
       "    </tr>\n",
       "  </tbody>\n",
       "</table>\n",
       "<p>2516 rows × 1 columns</p>\n",
       "</div>"
      ],
      "text/plain": [
       "            aapl_1_d_ret\n",
       "Date                    \n",
       "2024-05-02     -0.056440\n",
       "2024-05-01     -0.021557\n",
       "2024-04-30      0.006084\n",
       "2024-04-29      0.018611\n",
       "2024-04-26     -0.024207\n",
       "...                  ...\n",
       "2014-05-12     -0.001886\n",
       "2014-05-09     -0.012282\n",
       "2014-05-08      0.004304\n",
       "2014-05-07      0.007143\n",
       "2014-05-06      0.003783\n",
       "\n",
       "[2516 rows x 1 columns]"
      ]
     },
     "execution_count": 51,
     "metadata": {},
     "output_type": "execute_result"
    }
   ],
   "source": [
    "aapl_daily_ret"
   ]
  },
  {
   "cell_type": "markdown",
   "id": "c8aa1b91",
   "metadata": {},
   "source": [
    "### 2. Interpolate stock returns from daily to monthly"
   ]
  },
  {
   "cell_type": "code",
   "execution_count": 52,
   "id": "9300a530",
   "metadata": {},
   "outputs": [],
   "source": [
    "# aapl\n",
    "aapl_monthly_ret = aapl_daily_ret\\\n",
    "                    .resample('ME')\\\n",
    "                    .mean()\\\n",
    "                    .interpolate(method='linear')\\\n",
    "                    .dropna()\\\n",
    "                    .rename(columns={'aapl_1_d_ret':'aapl_monthly_ret'})\n",
    "\n",
    "#msft\n",
    "msft_monthly_ret =  msft_daily_ret\\\n",
    "                    .resample('ME')\\\n",
    "                    .mean()\\\n",
    "                    .interpolate(method='linear')\\\n",
    "                    .dropna()\\\n",
    "                    .rename(columns={'msft_1_d_ret':'msft_monthly_ret'})"
   ]
  },
  {
   "cell_type": "code",
   "execution_count": 53,
   "id": "25f9e6eb",
   "metadata": {},
   "outputs": [
    {
     "data": {
      "text/html": [
       "<div>\n",
       "<style scoped>\n",
       "    .dataframe tbody tr th:only-of-type {\n",
       "        vertical-align: middle;\n",
       "    }\n",
       "\n",
       "    .dataframe tbody tr th {\n",
       "        vertical-align: top;\n",
       "    }\n",
       "\n",
       "    .dataframe thead th {\n",
       "        text-align: right;\n",
       "    }\n",
       "</style>\n",
       "<table border=\"1\" class=\"dataframe\">\n",
       "  <thead>\n",
       "    <tr style=\"text-align: right;\">\n",
       "      <th></th>\n",
       "      <th>msft_monthly_ret</th>\n",
       "    </tr>\n",
       "    <tr>\n",
       "      <th>Date</th>\n",
       "      <th></th>\n",
       "    </tr>\n",
       "  </thead>\n",
       "  <tbody>\n",
       "    <tr>\n",
       "      <th>2014-05-31</th>\n",
       "      <td>-0.002371</td>\n",
       "    </tr>\n",
       "    <tr>\n",
       "      <th>2014-06-30</th>\n",
       "      <td>-0.001205</td>\n",
       "    </tr>\n",
       "    <tr>\n",
       "      <th>2014-07-31</th>\n",
       "      <td>-0.001012</td>\n",
       "    </tr>\n",
       "    <tr>\n",
       "      <th>2014-08-31</th>\n",
       "      <td>-0.002388</td>\n",
       "    </tr>\n",
       "    <tr>\n",
       "      <th>2014-09-30</th>\n",
       "      <td>-0.000798</td>\n",
       "    </tr>\n",
       "    <tr>\n",
       "      <th>...</th>\n",
       "      <td>...</td>\n",
       "    </tr>\n",
       "    <tr>\n",
       "      <th>2024-01-31</th>\n",
       "      <td>-0.003988</td>\n",
       "    </tr>\n",
       "    <tr>\n",
       "      <th>2024-02-29</th>\n",
       "      <td>-0.001360</td>\n",
       "    </tr>\n",
       "    <tr>\n",
       "      <th>2024-03-31</th>\n",
       "      <td>-0.000991</td>\n",
       "    </tr>\n",
       "    <tr>\n",
       "      <th>2024-04-30</th>\n",
       "      <td>0.003388</td>\n",
       "    </tr>\n",
       "    <tr>\n",
       "      <th>2024-05-31</th>\n",
       "      <td>-0.014489</td>\n",
       "    </tr>\n",
       "  </tbody>\n",
       "</table>\n",
       "<p>121 rows × 1 columns</p>\n",
       "</div>"
      ],
      "text/plain": [
       "            msft_monthly_ret\n",
       "Date                        \n",
       "2014-05-31         -0.002371\n",
       "2014-06-30         -0.001205\n",
       "2014-07-31         -0.001012\n",
       "2014-08-31         -0.002388\n",
       "2014-09-30         -0.000798\n",
       "...                      ...\n",
       "2024-01-31         -0.003988\n",
       "2024-02-29         -0.001360\n",
       "2024-03-31         -0.000991\n",
       "2024-04-30          0.003388\n",
       "2024-05-31         -0.014489\n",
       "\n",
       "[121 rows x 1 columns]"
      ]
     },
     "execution_count": 53,
     "metadata": {},
     "output_type": "execute_result"
    }
   ],
   "source": [
    "msft_monthly_ret"
   ]
  },
  {
   "cell_type": "markdown",
   "id": "268272e6",
   "metadata": {},
   "source": [
    "### 3. Merge the dataframes and calculate / plot the correlation"
   ]
  },
  {
   "cell_type": "code",
   "execution_count": 54,
   "id": "0defb97b",
   "metadata": {},
   "outputs": [],
   "source": [
    "merged_df = pd.merge(msft_monthly_ret, inflation_monthly_ret, left_index=True, right_index=True, how='inner')\n",
    "merged_df = pd.merge(merged_df, aapl_monthly_ret, left_index=True, right_index=True, how='inner')"
   ]
  },
  {
   "cell_type": "code",
   "execution_count": null,
   "id": "399094de",
   "metadata": {},
   "outputs": [],
   "source": []
  },
  {
   "cell_type": "markdown",
   "id": "e1352272",
   "metadata": {},
   "source": [
    "### 4. Calculate the correlation matrix between the Apple returns, Microsoft returns, and inflation change"
   ]
  },
  {
   "cell_type": "code",
   "execution_count": 55,
   "id": "8176f9ff",
   "metadata": {},
   "outputs": [
    {
     "data": {
      "text/html": [
       "<style type=\"text/css\">\n",
       "#T_4aeb9_row0_col0, #T_4aeb9_row1_col1, #T_4aeb9_row2_col2 {\n",
       "  background-color: #023858;\n",
       "  color: #f1f1f1;\n",
       "}\n",
       "#T_4aeb9_row0_col1 {\n",
       "  background-color: #fdf5fa;\n",
       "  color: #000000;\n",
       "}\n",
       "#T_4aeb9_row0_col2 {\n",
       "  background-color: #348ebf;\n",
       "  color: #f1f1f1;\n",
       "}\n",
       "#T_4aeb9_row1_col0, #T_4aeb9_row1_col2, #T_4aeb9_row2_col1 {\n",
       "  background-color: #fff7fb;\n",
       "  color: #000000;\n",
       "}\n",
       "#T_4aeb9_row2_col0 {\n",
       "  background-color: #3790c0;\n",
       "  color: #f1f1f1;\n",
       "}\n",
       "</style>\n",
       "<table id=\"T_4aeb9\">\n",
       "  <thead>\n",
       "    <tr>\n",
       "      <th class=\"blank level0\" >&nbsp;</th>\n",
       "      <th id=\"T_4aeb9_level0_col0\" class=\"col_heading level0 col0\" >msft_monthly_ret</th>\n",
       "      <th id=\"T_4aeb9_level0_col1\" class=\"col_heading level0 col1\" >infla_1_month_ret</th>\n",
       "      <th id=\"T_4aeb9_level0_col2\" class=\"col_heading level0 col2\" >aapl_monthly_ret</th>\n",
       "    </tr>\n",
       "  </thead>\n",
       "  <tbody>\n",
       "    <tr>\n",
       "      <th id=\"T_4aeb9_level0_row0\" class=\"row_heading level0 row0\" >msft_monthly_ret</th>\n",
       "      <td id=\"T_4aeb9_row0_col0\" class=\"data row0 col0\" >1.000000</td>\n",
       "      <td id=\"T_4aeb9_row0_col1\" class=\"data row0 col1\" >0.063574</td>\n",
       "      <td id=\"T_4aeb9_row0_col2\" class=\"data row0 col2\" >0.646676</td>\n",
       "    </tr>\n",
       "    <tr>\n",
       "      <th id=\"T_4aeb9_level0_row1\" class=\"row_heading level0 row1\" >infla_1_month_ret</th>\n",
       "      <td id=\"T_4aeb9_row1_col0\" class=\"data row1 col0\" >0.063574</td>\n",
       "      <td id=\"T_4aeb9_row1_col1\" class=\"data row1 col1\" >1.000000</td>\n",
       "      <td id=\"T_4aeb9_row1_col2\" class=\"data row1 col2\" >0.045752</td>\n",
       "    </tr>\n",
       "    <tr>\n",
       "      <th id=\"T_4aeb9_level0_row2\" class=\"row_heading level0 row2\" >aapl_monthly_ret</th>\n",
       "      <td id=\"T_4aeb9_row2_col0\" class=\"data row2 col0\" >0.646676</td>\n",
       "      <td id=\"T_4aeb9_row2_col1\" class=\"data row2 col1\" >0.045752</td>\n",
       "      <td id=\"T_4aeb9_row2_col2\" class=\"data row2 col2\" >1.000000</td>\n",
       "    </tr>\n",
       "  </tbody>\n",
       "</table>\n"
      ],
      "text/plain": [
       "<pandas.io.formats.style.Styler at 0x7a989f7778b0>"
      ]
     },
     "execution_count": 55,
     "metadata": {},
     "output_type": "execute_result"
    }
   ],
   "source": [
    "# Calculate correlation matrix\n",
    "\n",
    "corr = merged_df.corr()\n",
    "corr.style.background_gradient()"
   ]
  },
  {
   "cell_type": "code",
   "execution_count": 56,
   "id": "fe55f36a",
   "metadata": {},
   "outputs": [],
   "source": [
    "import numpy as np\n",
    "sns.set_style('white')"
   ]
  },
  {
   "cell_type": "markdown",
   "id": "43b0ac07",
   "metadata": {},
   "source": [
    "### 5. Plot the correlation matrix as a heatmap "
   ]
  },
  {
   "cell_type": "code",
   "execution_count": 57,
   "id": "4ccfa996",
   "metadata": {},
   "outputs": [
    {
     "data": {
      "image/png": "[encoded data removed]",
      "text/plain": [
       "<Figure size 1000x600 with 2 Axes>"
      ]
     },
     "metadata": {},
     "output_type": "display_data"
    }
   ],
   "source": [
    "mask = np.triu(np.ones_like(corr, dtype=np.bool))\n",
    "corr = corr.iloc[1:, :-1]\n",
    "mask = mask[1:, :-1]\n",
    "\n",
    "fig, ax = plt.subplots(figsize=(10, 6))\n",
    "\n",
    "cmap = sns.diverging_palette(10, 220, as_cmap=True)\n",
    "\n",
    "sns.heatmap(corr, \n",
    "            mask=mask,\n",
    "            cmap=cmap,\n",
    "            vmax=.3, center=0,\n",
    "            square=True, linewidths=.5,\n",
    "            cbar_kws={\"shrink\": .5},\n",
    "            annot=True, fmt='.2f',\n",
    "            annot_kws={\"size\": 13})\n",
    "\n",
    "plt.xticks(rotation=0)\n",
    "fig.suptitle('Correlation of Monthly Returns: AAPL, MSFT, and Inflation', fontsize=11, fontweight='bold')\n",
    "fig.tight_layout()\n",
    "fig.subplots_adjust(top=.92)"
   ]
  },
  {
   "cell_type": "code",
   "execution_count": null,
   "id": "60a0dba4",
   "metadata": {},
   "outputs": [],
   "source": []
  },
  {
   "cell_type": "markdown",
   "id": "624a2410",
   "metadata": {},
   "source": [
    "## Calculating rolling volatility (standard deviation) of a stock's price for last 3 months\n",
    "\n",
    "Volatility is a measure of the dispersion of returns for a given security. By calculating rolling volatility, investors can assess the risk associated with a stock over time: Higher volatility indicates higher risk, as the stock's price is more likely to experience significant fluctuations. In portfolio optimization, understanding the volatility of individual stocks and how it changes over time is crucial for diversification and optimization. By analyzing rolling volatility, investors can adjust their portfolios to maintain a desired risk level, potentially improving the risk-return profile.\n",
    "\n",
    "One possible way to calculate volatility is by using the standard deviation of returns for a stock over time.\n",
    "\n",
    "Your task:\n",
    "* Calculate the weekly rolling standard deviation for Apple's closing price\n",
    "* Plot the calculated rolling weekly volatility of Apple's closing price against Apple's closing price. Plot these **on the same chart, but using different y-axes**\n",
    "\n",
    "Helpful hints:\n",
    "* You'll need to use the `pandas` `rolling()` method with a given `window_size` parameter to make it a _weekly_ rolling calculation\n",
    "* Use **only the last three months of data**; data much older than this may not be as useful for portfolio optimization\n",
    "* You'll need to create two axes on the matplotlib figure to be able to use two different y-axes (one for the closing price and one for the rolling volatility calculated here)"
   ]
  },
  {
   "cell_type": "code",
   "execution_count": 58,
   "id": "4da9eb94",
   "metadata": {},
   "outputs": [],
   "source": [
    "# Define the window size for the rolling calculation (e.g., one week)\n",
    "window_size = 7"
   ]
  },
  {
   "cell_type": "code",
   "execution_count": 59,
   "id": "2c5142b4",
   "metadata": {},
   "outputs": [],
   "source": [
    "# Calculate rolling one-week volatility\n",
    "apple_weekly_vol = apple_data_three_month[['Close']].pct_change()\\\n",
    "                            .dropna()\\\n",
    "                            .rolling(window=window_size)\\\n",
    "                            .std()\\\n",
    "                            .dropna()\\\n",
    "                            .rename(columns={'Close':'Weekly_Vol'})\n"
   ]
  },
  {
   "cell_type": "code",
   "execution_count": 60,
   "id": "323dbe44",
   "metadata": {},
   "outputs": [
    {
     "data": {
      "text/html": [
       "<div>\n",
       "<style scoped>\n",
       "    .dataframe tbody tr th:only-of-type {\n",
       "        vertical-align: middle;\n",
       "    }\n",
       "\n",
       "    .dataframe tbody tr th {\n",
       "        vertical-align: top;\n",
       "    }\n",
       "\n",
       "    .dataframe thead th {\n",
       "        text-align: right;\n",
       "    }\n",
       "</style>\n",
       "<table border=\"1\" class=\"dataframe\">\n",
       "  <thead>\n",
       "    <tr style=\"text-align: right;\">\n",
       "      <th></th>\n",
       "      <th>Close</th>\n",
       "      <th>Volume</th>\n",
       "      <th>Open</th>\n",
       "      <th>High</th>\n",
       "      <th>Low</th>\n",
       "    </tr>\n",
       "    <tr>\n",
       "      <th>Date</th>\n",
       "      <th></th>\n",
       "      <th></th>\n",
       "      <th></th>\n",
       "      <th></th>\n",
       "      <th></th>\n",
       "    </tr>\n",
       "  </thead>\n",
       "  <tbody>\n",
       "    <tr>\n",
       "      <th>2024-05-03</th>\n",
       "      <td>183.38</td>\n",
       "      <td>163224100</td>\n",
       "      <td>186.65</td>\n",
       "      <td>187.00</td>\n",
       "      <td>182.66</td>\n",
       "    </tr>\n",
       "    <tr>\n",
       "      <th>2024-05-02</th>\n",
       "      <td>173.03</td>\n",
       "      <td>94214920</td>\n",
       "      <td>172.51</td>\n",
       "      <td>173.42</td>\n",
       "      <td>170.89</td>\n",
       "    </tr>\n",
       "    <tr>\n",
       "      <th>2024-05-01</th>\n",
       "      <td>169.30</td>\n",
       "      <td>50383150</td>\n",
       "      <td>169.58</td>\n",
       "      <td>172.71</td>\n",
       "      <td>169.11</td>\n",
       "    </tr>\n",
       "    <tr>\n",
       "      <th>2024-04-30</th>\n",
       "      <td>170.33</td>\n",
       "      <td>65934780</td>\n",
       "      <td>173.33</td>\n",
       "      <td>174.99</td>\n",
       "      <td>170.00</td>\n",
       "    </tr>\n",
       "    <tr>\n",
       "      <th>2024-04-29</th>\n",
       "      <td>173.50</td>\n",
       "      <td>68169420</td>\n",
       "      <td>173.37</td>\n",
       "      <td>176.03</td>\n",
       "      <td>173.10</td>\n",
       "    </tr>\n",
       "    <tr>\n",
       "      <th>...</th>\n",
       "      <td>...</td>\n",
       "      <td>...</td>\n",
       "      <td>...</td>\n",
       "      <td>...</td>\n",
       "      <td>...</td>\n",
       "    </tr>\n",
       "    <tr>\n",
       "      <th>2024-02-09</th>\n",
       "      <td>188.85</td>\n",
       "      <td>45155220</td>\n",
       "      <td>188.65</td>\n",
       "      <td>189.99</td>\n",
       "      <td>188.00</td>\n",
       "    </tr>\n",
       "    <tr>\n",
       "      <th>2024-02-08</th>\n",
       "      <td>188.32</td>\n",
       "      <td>40962050</td>\n",
       "      <td>189.39</td>\n",
       "      <td>189.54</td>\n",
       "      <td>187.35</td>\n",
       "    </tr>\n",
       "    <tr>\n",
       "      <th>2024-02-07</th>\n",
       "      <td>189.41</td>\n",
       "      <td>53438960</td>\n",
       "      <td>190.64</td>\n",
       "      <td>191.05</td>\n",
       "      <td>188.61</td>\n",
       "    </tr>\n",
       "    <tr>\n",
       "      <th>2024-02-06</th>\n",
       "      <td>189.30</td>\n",
       "      <td>43490760</td>\n",
       "      <td>186.86</td>\n",
       "      <td>189.31</td>\n",
       "      <td>186.77</td>\n",
       "    </tr>\n",
       "    <tr>\n",
       "      <th>2024-02-05</th>\n",
       "      <td>187.68</td>\n",
       "      <td>69668820</td>\n",
       "      <td>188.15</td>\n",
       "      <td>189.25</td>\n",
       "      <td>185.84</td>\n",
       "    </tr>\n",
       "  </tbody>\n",
       "</table>\n",
       "<p>63 rows × 5 columns</p>\n",
       "</div>"
      ],
      "text/plain": [
       "             Close     Volume    Open    High     Low\n",
       "Date                                                 \n",
       "2024-05-03  183.38  163224100  186.65  187.00  182.66\n",
       "2024-05-02  173.03   94214920  172.51  173.42  170.89\n",
       "2024-05-01  169.30   50383150  169.58  172.71  169.11\n",
       "2024-04-30  170.33   65934780  173.33  174.99  170.00\n",
       "2024-04-29  173.50   68169420  173.37  176.03  173.10\n",
       "...            ...        ...     ...     ...     ...\n",
       "2024-02-09  188.85   45155220  188.65  189.99  188.00\n",
       "2024-02-08  188.32   40962050  189.39  189.54  187.35\n",
       "2024-02-07  189.41   53438960  190.64  191.05  188.61\n",
       "2024-02-06  189.30   43490760  186.86  189.31  186.77\n",
       "2024-02-05  187.68   69668820  188.15  189.25  185.84\n",
       "\n",
       "[63 rows x 5 columns]"
      ]
     },
     "execution_count": 60,
     "metadata": {},
     "output_type": "execute_result"
    }
   ],
   "source": [
    "apple_data_three_month"
   ]
  },
  {
   "cell_type": "code",
   "execution_count": 61,
   "id": "8333baff",
   "metadata": {},
   "outputs": [
    {
     "data": {
      "image/png": "[encoded data removed]",
      "text/plain": [
       "<Figure size 1000x600 with 2 Axes>"
      ]
     },
     "metadata": {},
     "output_type": "display_data"
    }
   ],
   "source": [
    "# Plot the calculated rolling weekly volatility of Apple's closing price against Apple's closing price\n",
    "# Plot these on the same chart, but using different y-axes\n",
    "\n",
    "plt.style.use('ggplot')\n",
    "\n",
    "fig, ax1 = plt.subplots(figsize=(10, 6))\n",
    "\n",
    "line1, = ax1.plot(apple_data_three_month.index,  \n",
    "                  apple_data_three_month['Close'], \n",
    "                  label='Close Price', \n",
    "                  color='blue',\n",
    "                 linewidth=2.9)\n",
    "\n",
    "ax1.set_xlabel('Date')\n",
    "ax1.set_ylabel('Close Price', color='blue')\n",
    "ax1.tick_params(axis='y', labelcolor='blue')\n",
    "\n",
    "ax2 = ax1.twinx()\n",
    "line2, = ax2.plot(apple_weekly_vol.index, \n",
    "                  apple_weekly_vol['Weekly_Vol'], \n",
    "                  label='Rolling Volatility', \n",
    "                  color='red', \n",
    "                  linestyle='--',\n",
    "                 linewidth=2.9)\n",
    "ax2.set_ylabel('Volatility', color='red')\n",
    "ax2.tick_params(axis='y', labelcolor='red')\n",
    "\n",
    "lines = [line1, line2]\n",
    "labels = [line.get_label() for line in lines]\n",
    "\n",
    "ax1.legend(lines, labels, loc='upper center', ncol=2)\n",
    "\n",
    "\n",
    "plt.title('AAPL: Closing Price and Rolling Volatility', fontsize=11, fontweight='bold')\n",
    "plt.tight_layout()\n",
    "\n",
    "plt.show()\n",
    "\n"
   ]
  },
  {
   "cell_type": "markdown",
   "id": "e2cf3c78",
   "metadata": {},
   "source": [
    "## Export data\n",
    "\n",
    "Now that you have preprocessed your data, you should save it in new csv files so that it can be used in downstream tasks without having to redo all the preprocessing steps. \n",
    "\n",
    "Your task:\n",
    "* Use `pandas` to export all modified datasets back to new CSV files"
   ]
  },
  {
   "cell_type": "code",
   "execution_count": 62,
   "id": "3d67d29c",
   "metadata": {},
   "outputs": [],
   "source": [
    "# saving  stock data\n",
    "cp_apple_data.to_csv('preprocessed_apple_data.csv')\n",
    "cp_msft_data.to_csv('preprocessed_microsoft_data.csv')\n",
    "apple_data_three_month.to_csv('apple_three_month.csv')\n",
    "msft_data_three_month.to_csv('msft_three_month.csv')\n",
    "\n",
    "# saving macro-economics data\n",
    "cp_cpi_data.to_csv('preprocessed_cpi_data.csv')\n",
    "cp_gdp_data.to_csv('preprocessed_gdp_data.csv')\n",
    "cp_inflation_data.to_csv('preprocessed_inflation_data.csv')\n",
    "\n",
    "\n",
    "merged_df.to_csv('merged_apple_msft_inflation.csv')\n"
   ]
  }
 ],
 "metadata": {
  "kernelspec": {
   "display_name": "Python 3 (ipykernel)",
   "language": "python",
   "name": "python3"
  },
  "language_info": {
   "codemirror_mode": {
    "name": "ipython",
    "version": 3
   },
   "file_extension": ".py",
   "mimetype": "text/x-python",
   "name": "python",
   "nbconvert_exporter": "python",
   "pygments_lexer": "ipython3",
   "version": "3.10.13"
  }
 },
 "nbformat": 4,
 "nbformat_minor": 5
}
