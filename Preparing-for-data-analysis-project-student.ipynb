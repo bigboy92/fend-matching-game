{
 "cells": [
  {
   "cell_type": "markdown",
   "id": "81942eb1",
   "metadata": {},
   "source": [
    "# Course 2 Project: ML Pipeline for Feature Engineering"
   ]
  },
  {
   "cell_type": "markdown",
   "id": "4f241775",
   "metadata": {},
   "source": [
    "## Instructions\n",
    "\n",
    "In this project, you'll use data related to microeconomic indicators and historical stock prices to explore the data engineering pipline. You'll get to practice:\n",
    "\n",
    "* Data ingestion \n",
    "* Data cleaning\n",
    "* Data imputation\n",
    "* Exploratory data analysis (EDA) through charts and graphs"
   ]
  },
  {
   "cell_type": "markdown",
   "id": "1f12b277",
   "metadata": {},
   "source": [
    "## Packages\n",
    "\n",
    "You'll use `pandas` and `matplotlib`, which were covered in the course material, to import, clean, and plot data. They have been installed in this workspace for you. If you're working locally and you installed Jupyter using Anaconda, these packages will already be installed. "
   ]
  },
  {
   "cell_type": "code",
   "execution_count": 43,
   "id": "882241d4",
   "metadata": {},
   "outputs": [],
   "source": [
    "import pandas as pd\n",
    "import matplotlib.pyplot as plt\n",
    "import seaborn as sns"
   ]
  },
  {
   "cell_type": "markdown",
   "id": "f9fcd352",
   "metadata": {},
   "source": [
    "## Load data\n",
    "\n",
    "The first step in a data engineering pipeline for machine learning is to ingest the data that will be used. For this project, data is hosted on a public GitHub repo. \n",
    "\n",
    "### Your tasks\n",
    "* Import data from the provided [GitHub repo](https://github.com/udacity/CD13649-Project/tree/main/Project) using `pandas`. For your convenience, the data files (CSVs) are also present in the current workspace at the path **CD13649-Project/Project/**. Here are the data files to import: \n",
    "  1. GDP (**GDP.csv**)\n",
    "  2. Inflation (**inflation_monthly.csv**)\n",
    "  3. Apple stock prices (**apple_historical_data.csv**)\n",
    "  4. Microsoft stock prices (**microsoft_historical_data.csv**)\n",
    "  5. Consumer price index (**consumer_price_index.csv**)\n",
    "\n",
    "\n",
    "\n",
    "* Verify that the data has been imported correctly into `pandas` dataframes. Use methods like `head()` and `info()`\n",
    "\n",
    "\n",
    "* You may need to change column names to make them easier to work with\n",
    "\n",
    "\n",
    "* You may need to cast datetime data to the `datetime` format using `pandas` `to_datetime()` method\n",
    "\n"
   ]
  },
  {
   "cell_type": "code",
   "execution_count": 44,
   "id": "bd119016",
   "metadata": {},
   "outputs": [],
   "source": [
    "# Load historical GDP data\n",
    "GDP_Data = pd.read_csv('https://github.com/udacity/CD13649-Project/blob/634684b2f39a089935f039feab1d33bb789f9603/Project/GDP.csv?raw=true')\n",
    "Inflation_M_Data = pd.read_csv('https://github.com/udacity/CD13649-Project/blob/main/Project/inflation_monthly.csv?raw=true')\n",
    "AAPL_Data = pd.read_csv('https://github.com/udacity/CD13649-Project/blob/main/Project/apple_historical_data.csv?raw=true?raw=true')\n",
    "MS_Data = pd.read_csv('https://github.com/udacity/CD13649-Project/blob/main/Project/microsoft_historical_data.csv?raw=true')\n",
    "CPI_Data = pd.read_csv('https://github.com/udacity/CD13649-Project/blob/main/Project/consumer_price_index.csv?raw=true')"
   ]
  },
  {
   "cell_type": "code",
   "execution_count": 45,
   "id": "cf36d7c0",
   "metadata": {},
   "outputs": [
    {
     "name": "stdout",
     "output_type": "stream",
     "text": [
      "         DATE      GDP\n",
      "0  1947-01-01  243.164\n",
      "1  1947-04-01  245.968\n",
      "2  1947-07-01  249.585\n",
      "3  1947-10-01  259.745\n",
      "4  1948-01-01  265.742\n",
      "         DATE  CORESTICKM159SFRBATL\n",
      "0  1968-01-01              3.651861\n",
      "1  1968-02-01              3.673819\n",
      "2  1968-03-01              4.142164\n",
      "3  1968-04-01              4.155828\n",
      "4  1968-05-01              4.088245\n",
      "        Date Close/Last     Volume      Open      High       Low\n",
      "0   5/3/2024   $183.38   163224100  $186.65   $187.00   $182.66 \n",
      "1   5/2/2024   $173.03    94214920  $172.51   $173.42   $170.89 \n",
      "2   5/1/2024   $169.30    50383150  $169.58   $172.71   $169.11 \n",
      "3  4/30/2024   $170.33    65934780  $173.33   $174.99   $170.00 \n",
      "4  4/29/2024   $173.50    68169420  $173.37   $176.03   $173.10 \n",
      "         Date Close/Last    Volume     Open       High        Low\n",
      "0  05/03/2024    $406.66  17446720  $402.28    $407.15    $401.86\n",
      "1  05/02/2024    $397.84  17709360  $397.66    $399.93  $394.6515\n",
      "2  05/01/2024    $394.94  23562480  $392.61  $401.7199    $390.31\n",
      "3  04/30/2024    $389.33  28781370  $401.49    $402.16    $389.17\n",
      "4  04/29/2024    $402.25  19582090  $405.25    $406.32    $399.19\n",
      "         Date Close/Last    Volume     Open       High        Low\n",
      "0  05/03/2024    $406.66  17446720  $402.28    $407.15    $401.86\n",
      "1  05/02/2024    $397.84  17709360  $397.66    $399.93  $394.6515\n",
      "2  05/01/2024    $394.94  23562480  $392.61  $401.7199    $390.31\n",
      "3  04/30/2024    $389.33  28781370  $401.49    $402.16    $389.17\n",
      "4  04/29/2024    $402.25  19582090  $405.25    $406.32    $399.19\n"
     ]
    }
   ],
   "source": [
    "# Check the first few rows of data\n",
    "print(GDP_Data.head())\n",
    "print(Inflation_M_Data.head())\n",
    "print(AAPL_Data.head())\n",
    "print(MS_Data.head())\n",
    "print(MS_Data.head())"
   ]
  },
  {
   "cell_type": "code",
   "execution_count": 46,
   "id": "2a2478c9",
   "metadata": {},
   "outputs": [],
   "source": [
    "# Load the historical stock price data for Apple and Microsoft\n"
   ]
  },
  {
   "cell_type": "code",
   "execution_count": 47,
   "id": "e9e9a77a",
   "metadata": {},
   "outputs": [],
   "source": [
    "# Check the first few rows of data\n"
   ]
  },
  {
   "cell_type": "code",
   "execution_count": 48,
   "id": "8c9bed17",
   "metadata": {},
   "outputs": [
    {
     "name": "stdout",
     "output_type": "stream",
     "text": [
      "<class 'pandas.core.frame.DataFrame'>\n",
      "RangeIndex: 2517 entries, 0 to 2516\n",
      "Data columns (total 6 columns):\n",
      " #   Column      Non-Null Count  Dtype \n",
      "---  ------      --------------  ----- \n",
      " 0   Date        2517 non-null   object\n",
      " 1   Close/Last  2514 non-null   object\n",
      " 2   Volume      2517 non-null   int64 \n",
      " 3   Open        2517 non-null   object\n",
      " 4   High        2517 non-null   object\n",
      " 5   Low         2517 non-null   object\n",
      "dtypes: int64(1), object(5)\n",
      "memory usage: 118.1+ KB\n",
      "None\n",
      "             Volume\n",
      "count  2.517000e+03\n",
      "mean   1.277394e+08\n",
      "std    7.357405e+07\n",
      "min    2.404834e+07\n",
      "25%    7.741776e+07\n",
      "50%    1.077601e+08\n",
      "75%    1.567789e+08\n",
      "max    7.576780e+08\n"
     ]
    }
   ],
   "source": [
    "# Use methods like .info() and .describe() to explore the data\n",
    "print(AAPL_Data.info())\n",
    "print(AAPL_Data.describe())\n"
   ]
  },
  {
   "cell_type": "markdown",
   "id": "06c8d9dc",
   "metadata": {},
   "source": [
    "## Data preprocessing: Check for missing data and forward fill\n",
    "\n",
    "Check the Apple historical prices for missing data. Check for missing data in all columns. If there's data missing, use a forward fill to fill in those missing prices. "
   ]
  },
  {
   "cell_type": "code",
   "execution_count": 49,
   "id": "4807173e",
   "metadata": {},
   "outputs": [
    {
     "name": "stdout",
     "output_type": "stream",
     "text": [
      "Null values in the GDP_Data:\n",
      "DATE    0\n",
      "GDP     0\n",
      "dtype: int64\n",
      "Null values in the Inflation_M_Data:\n",
      "DATE                    0\n",
      "CORESTICKM159SFRBATL    0\n",
      "dtype: int64\n",
      "Null values in the AAPL_Data:\n",
      "Date          0\n",
      "Close/Last    3\n",
      "Volume        0\n",
      "Open          0\n",
      "High          0\n",
      "Low           0\n",
      "dtype: int64\n",
      "Null values in the MS_Data:\n",
      "Date          0\n",
      "Close/Last    0\n",
      "Volume        0\n",
      "Open          0\n",
      "High          0\n",
      "Low           0\n",
      "dtype: int64\n",
      "Null values in the CPI_Data:\n",
      "DATE                    0\n",
      "CORESTICKM159SFRBATL    0\n",
      "dtype: int64\n"
     ]
    }
   ],
   "source": [
    "# Check for nulls \n",
    "print(\"Null values in the GDP_Data:\")\n",
    "print(GDP_Data.isna().sum())\n",
    "print(\"Null values in the Inflation_M_Data:\")\n",
    "print(Inflation_M_Data.isna().sum())\n",
    "print(\"Null values in the AAPL_Data:\")\n",
    "print(AAPL_Data.isna().sum())\n",
    "print(\"Null values in the MS_Data:\")\n",
    "print(MS_Data.isna().sum())\n",
    "print(\"Null values in the CPI_Data:\")\n",
    "print(CPI_Data.isna().sum())"
   ]
  },
  {
   "cell_type": "code",
   "execution_count": 50,
   "id": "00e4d6f5",
   "metadata": {},
   "outputs": [],
   "source": [
    "# Forward fill any missing data\n",
    "AAPL_Data = AAPL_Data.ffill()"
   ]
  },
  {
   "cell_type": "code",
   "execution_count": 51,
   "id": "f82d3b2d",
   "metadata": {},
   "outputs": [
    {
     "name": "stdout",
     "output_type": "stream",
     "text": [
      "Date          0\n",
      "Close/Last    0\n",
      "Volume        0\n",
      "Open          0\n",
      "High          0\n",
      "Low           0\n",
      "dtype: int64\n"
     ]
    }
   ],
   "source": [
    "# Check again for nulls after using forward fill\n",
    "print(AAPL_Data.isna().sum())"
   ]
  },
  {
   "cell_type": "markdown",
   "id": "2614c615",
   "metadata": {},
   "source": [
    "## Data preprocessing: Remove special characters and convert to numeric/datetime\n",
    "\n",
    "The next step in the data engineering process is to standardize and clean up data. In this step, you'll check for odd formatting and special characters that will make it difficult to work with data as numeric or datetime. \n",
    "\n",
    "In this step:\n",
    "* Create a function that takes in a dataframe and a list of columns and removes dollar signs ('$') from those columns\n",
    "* Convert any columns with date/time data into a `pandas` `datetime` format"
   ]
  },
  {
   "cell_type": "code",
   "execution_count": 52,
   "id": "a47537af",
   "metadata": {},
   "outputs": [],
   "source": [
    "def convert_dollar_columns_to_numeric(df, numeric_columns):\n",
    "    '''\n",
    "        Removes dollar signs ('$') from a list of columns in a given dataframe AND casts the columns to a numeric datatype.\n",
    "        Updates dataframe IN PLACE.\n",
    "        \n",
    "        Inputs:\n",
    "            df: dataframe to be operated on\n",
    "            numeric_columns: columns that should have numeric data but have dollar signs currently\n",
    "            \n",
    "        Returns:\n",
    "            None - changes to the dataframe can be made in place\n",
    "    '''\n",
    "    for col in numeric_columns:\n",
    "        df[col] = df[col].replace({'\\$': ''}, regex=True).astype(float)\n",
    "\n",
    "    pass "
   ]
  },
  {
   "cell_type": "code",
   "execution_count": 53,
   "id": "055f8621",
   "metadata": {},
   "outputs": [],
   "source": [
    "# Use convert_dollar_columns_to_numeric() to remove the dollar sign from the Apple and Microsoft datasets\n",
    "dollar_cols = ['Close/Last', 'Open', 'High', 'Low']\n",
    "convert_dollar_columns_to_numeric(AAPL_Data, dollar_cols)\n",
    "convert_dollar_columns_to_numeric(MS_Data, dollar_cols)\n"
   ]
  },
  {
   "cell_type": "code",
   "execution_count": 54,
   "id": "efea17ca",
   "metadata": {},
   "outputs": [],
   "source": [
    "# Use pandas's to_datetime() to convert any columns that are in a datetime format\n",
    "\n",
    "MS_Data['Date'] = pd.to_datetime(MS_Data['Date'])\n",
    "AAPL_Data['Date'] = pd.to_datetime(AAPL_Data['Date'])"
   ]
  },
  {
   "cell_type": "code",
   "execution_count": 55,
   "id": "8a2089e3",
   "metadata": {},
   "outputs": [
    {
     "name": "stdout",
     "output_type": "stream",
     "text": [
      "<class 'pandas.core.frame.DataFrame'>\n",
      "RangeIndex: 2517 entries, 0 to 2516\n",
      "Data columns (total 6 columns):\n",
      " #   Column      Non-Null Count  Dtype         \n",
      "---  ------      --------------  -----         \n",
      " 0   Date        2517 non-null   datetime64[ns]\n",
      " 1   Close/Last  2517 non-null   float64       \n",
      " 2   Volume      2517 non-null   int64         \n",
      " 3   Open        2517 non-null   float64       \n",
      " 4   High        2517 non-null   float64       \n",
      " 5   Low         2517 non-null   float64       \n",
      "dtypes: datetime64[ns](1), float64(4), int64(1)\n",
      "memory usage: 118.1 KB\n",
      "None\n",
      "<class 'pandas.core.frame.DataFrame'>\n",
      "RangeIndex: 2517 entries, 0 to 2516\n",
      "Data columns (total 6 columns):\n",
      " #   Column      Non-Null Count  Dtype         \n",
      "---  ------      --------------  -----         \n",
      " 0   Date        2517 non-null   datetime64[ns]\n",
      " 1   Close/Last  2517 non-null   float64       \n",
      " 2   Volume      2517 non-null   int64         \n",
      " 3   Open        2517 non-null   float64       \n",
      " 4   High        2517 non-null   float64       \n",
      " 5   Low         2517 non-null   float64       \n",
      "dtypes: datetime64[ns](1), float64(4), int64(1)\n",
      "memory usage: 118.1 KB\n",
      "None\n"
     ]
    }
   ],
   "source": [
    "# Use .info() and check the type of each column to ensure that the above steps worked\n",
    "print(MS_Data.info())\n",
    "print(AAPL_Data.info())\n"
   ]
  },
  {
   "cell_type": "markdown",
   "id": "95ad8e72",
   "metadata": {},
   "source": [
    "## Data preprocessing: Align datetime data\n",
    "\n",
    "Data engineering includes changing data with a datetime component if needed so that different time series can be more easily compared or plotted against each other. \n",
    "\n",
    "In this step:\n",
    "\n",
    "* Align the inflation date so that it falls on the last day of the month instead of the first\n",
    "\n",
    "Helpful hints: \n",
    "* Use the `pandas` `offsets` method using `MonthEnd(0)` to set the 'Date' column to month-end"
   ]
  },
  {
   "cell_type": "code",
   "execution_count": 56,
   "id": "fe782db6",
   "metadata": {},
   "outputs": [
    {
     "data": {
      "text/html": [
       "<div>\n",
       "<style scoped>\n",
       "    .dataframe tbody tr th:only-of-type {\n",
       "        vertical-align: middle;\n",
       "    }\n",
       "\n",
       "    .dataframe tbody tr th {\n",
       "        vertical-align: top;\n",
       "    }\n",
       "\n",
       "    .dataframe thead th {\n",
       "        text-align: right;\n",
       "    }\n",
       "</style>\n",
       "<table border=\"1\" class=\"dataframe\">\n",
       "  <thead>\n",
       "    <tr style=\"text-align: right;\">\n",
       "      <th></th>\n",
       "      <th>DATE</th>\n",
       "      <th>CORESTICKM159SFRBATL</th>\n",
       "    </tr>\n",
       "  </thead>\n",
       "  <tbody>\n",
       "    <tr>\n",
       "      <th>0</th>\n",
       "      <td>1968-01-31</td>\n",
       "      <td>3.651861</td>\n",
       "    </tr>\n",
       "    <tr>\n",
       "      <th>1</th>\n",
       "      <td>1968-02-29</td>\n",
       "      <td>3.673819</td>\n",
       "    </tr>\n",
       "    <tr>\n",
       "      <th>2</th>\n",
       "      <td>1968-03-31</td>\n",
       "      <td>4.142164</td>\n",
       "    </tr>\n",
       "    <tr>\n",
       "      <th>3</th>\n",
       "      <td>1968-04-30</td>\n",
       "      <td>4.155828</td>\n",
       "    </tr>\n",
       "    <tr>\n",
       "      <th>4</th>\n",
       "      <td>1968-05-31</td>\n",
       "      <td>4.088245</td>\n",
       "    </tr>\n",
       "  </tbody>\n",
       "</table>\n",
       "</div>"
      ],
      "text/plain": [
       "        DATE  CORESTICKM159SFRBATL\n",
       "0 1968-01-31              3.651861\n",
       "1 1968-02-29              3.673819\n",
       "2 1968-03-31              4.142164\n",
       "3 1968-04-30              4.155828\n",
       "4 1968-05-31              4.088245"
      ]
     },
     "execution_count": 56,
     "metadata": {},
     "output_type": "execute_result"
    }
   ],
   "source": [
    "# Align inflation data so that the date is the month end (e.g. Jan 31, Feb 28/28)\n",
    "# Inflation_M_Data = pd.offset()\n",
    "#Inflation_M_Data.head\n",
    "Inflation_M_Data['DATE'] = pd.to_datetime(Inflation_M_Data['DATE'])\n",
    "Inflation_M_Data['DATE'] = Inflation_M_Data['DATE'] + pd.offsets.MonthEnd(0)\n",
    "Inflation_M_Data.head()"
   ]
  },
  {
   "cell_type": "markdown",
   "id": "e072f4a1",
   "metadata": {},
   "source": [
    "## Data preprocessing: Upsample, downsample and interpolate data\n",
    "\n",
    "Inflation data is presented monthly in this dataset. However, for some models, you may need it at a quarterly frequency, and for some models you may need it at a quarterly frequency. \n",
    "\n",
    "In this step:\n",
    "* Create a new quarterly inflation dataframe by downsampling the monthly inflation data to quarterly using the mean (e.g. for quarter 1 in a given year, use the average values from January, February, and March)\n",
    "* Create a new weekly inflation dataframe by upsampling the monthly inflation data. For this, you'll need to use `resample` and then you'll need to `interpolate` to fill in the missing data at the weekly frequency\n",
    "\n",
    "Note that you may need to change the index for some of these operations! "
   ]
  },
  {
   "cell_type": "code",
   "execution_count": 57,
   "id": "28fea2f6",
   "metadata": {},
   "outputs": [
    {
     "name": "stdout",
     "output_type": "stream",
     "text": [
      "<class 'pandas.core.frame.DataFrame'>\n",
      "RangeIndex: 675 entries, 0 to 674\n",
      "Data columns (total 2 columns):\n",
      " #   Column                Non-Null Count  Dtype         \n",
      "---  ------                --------------  -----         \n",
      " 0   DATE                  675 non-null    datetime64[ns]\n",
      " 1   CORESTICKM159SFRBATL  675 non-null    float64       \n",
      "dtypes: datetime64[ns](1), float64(1)\n",
      "memory usage: 10.7 KB\n"
     ]
    },
    {
     "data": {
      "text/html": [
       "<div>\n",
       "<style scoped>\n",
       "    .dataframe tbody tr th:only-of-type {\n",
       "        vertical-align: middle;\n",
       "    }\n",
       "\n",
       "    .dataframe tbody tr th {\n",
       "        vertical-align: top;\n",
       "    }\n",
       "\n",
       "    .dataframe thead th {\n",
       "        text-align: right;\n",
       "    }\n",
       "</style>\n",
       "<table border=\"1\" class=\"dataframe\">\n",
       "  <thead>\n",
       "    <tr style=\"text-align: right;\">\n",
       "      <th></th>\n",
       "      <th>CORESTICKM159SFRBATL</th>\n",
       "    </tr>\n",
       "    <tr>\n",
       "      <th>DATE</th>\n",
       "      <th></th>\n",
       "    </tr>\n",
       "  </thead>\n",
       "  <tbody>\n",
       "    <tr>\n",
       "      <th>1968-03-31</th>\n",
       "      <td>3.822615</td>\n",
       "    </tr>\n",
       "    <tr>\n",
       "      <th>1968-06-30</th>\n",
       "      <td>4.263214</td>\n",
       "    </tr>\n",
       "    <tr>\n",
       "      <th>1968-09-30</th>\n",
       "      <td>4.882643</td>\n",
       "    </tr>\n",
       "    <tr>\n",
       "      <th>1968-12-31</th>\n",
       "      <td>5.429443</td>\n",
       "    </tr>\n",
       "    <tr>\n",
       "      <th>1969-03-31</th>\n",
       "      <td>5.873770</td>\n",
       "    </tr>\n",
       "  </tbody>\n",
       "</table>\n",
       "</div>"
      ],
      "text/plain": [
       "            CORESTICKM159SFRBATL\n",
       "DATE                            \n",
       "1968-03-31              3.822615\n",
       "1968-06-30              4.263214\n",
       "1968-09-30              4.882643\n",
       "1968-12-31              5.429443\n",
       "1969-03-31              5.873770"
      ]
     },
     "execution_count": 57,
     "metadata": {},
     "output_type": "execute_result"
    }
   ],
   "source": [
    "# Upsample and interpolate from monthly to weekly \n",
    "Inflation_M_Data.info()\n",
    "Inflation_M_Data.set_index('DATE', inplace=True)\n",
    "Inflation_Q_Data = Inflation_M_Data.resample('QE').mean()\n",
    "Inflation_Q_Data.head()"
   ]
  },
  {
   "cell_type": "code",
   "execution_count": 58,
   "id": "635647a1",
   "metadata": {},
   "outputs": [
    {
     "name": "stdout",
     "output_type": "stream",
     "text": [
      "            CORESTICKM159SFRBATL\n",
      "DATE                            \n",
      "1968-01-31              3.651861\n",
      "1968-02-29              3.673819\n",
      "1968-03-31              4.142164\n",
      "1968-04-30              4.155828\n",
      "1968-05-31              4.088245\n",
      "...                          ...\n",
      "2023-11-30              4.688293\n",
      "2023-12-31              4.554396\n",
      "2024-01-31              4.603922\n",
      "2024-02-29              4.403102\n",
      "2024-03-31              4.509212\n",
      "\n",
      "[675 rows x 1 columns]\n"
     ]
    },
    {
     "data": {
      "text/html": [
       "<div>\n",
       "<style scoped>\n",
       "    .dataframe tbody tr th:only-of-type {\n",
       "        vertical-align: middle;\n",
       "    }\n",
       "\n",
       "    .dataframe tbody tr th {\n",
       "        vertical-align: top;\n",
       "    }\n",
       "\n",
       "    .dataframe thead th {\n",
       "        text-align: right;\n",
       "    }\n",
       "</style>\n",
       "<table border=\"1\" class=\"dataframe\">\n",
       "  <thead>\n",
       "    <tr style=\"text-align: right;\">\n",
       "      <th></th>\n",
       "      <th>CORESTICKM159SFRBATL</th>\n",
       "    </tr>\n",
       "    <tr>\n",
       "      <th>DATE</th>\n",
       "      <th></th>\n",
       "    </tr>\n",
       "  </thead>\n",
       "  <tbody>\n",
       "    <tr>\n",
       "      <th>1968-02-04</th>\n",
       "      <td>NaN</td>\n",
       "    </tr>\n",
       "    <tr>\n",
       "      <th>1968-02-11</th>\n",
       "      <td>NaN</td>\n",
       "    </tr>\n",
       "    <tr>\n",
       "      <th>1968-02-18</th>\n",
       "      <td>NaN</td>\n",
       "    </tr>\n",
       "    <tr>\n",
       "      <th>1968-02-25</th>\n",
       "      <td>NaN</td>\n",
       "    </tr>\n",
       "    <tr>\n",
       "      <th>1968-03-03</th>\n",
       "      <td>NaN</td>\n",
       "    </tr>\n",
       "  </tbody>\n",
       "</table>\n",
       "</div>"
      ],
      "text/plain": [
       "            CORESTICKM159SFRBATL\n",
       "DATE                            \n",
       "1968-02-04                   NaN\n",
       "1968-02-11                   NaN\n",
       "1968-02-18                   NaN\n",
       "1968-02-25                   NaN\n",
       "1968-03-03                   NaN"
      ]
     },
     "execution_count": 58,
     "metadata": {},
     "output_type": "execute_result"
    }
   ],
   "source": [
    "# Downsample from monthly to quarterly \n",
    "\n",
    "Inflation_W_Data = Inflation_M_Data\n",
    "Inflation_W_Data = Inflation_W_Data.reset_index()\n",
    "Inflation_W_Data['DATE'] = pd.to_datetime(Inflation_W_Data['DATE'])\n",
    "Inflation_W_Data.set_index('DATE', inplace=True)\n",
    "print(Inflation_W_Data)\n",
    "Inflation_W_Data = Inflation_M_Data.resample('W').interpolate()\n",
    "#Inflation_W_Data = Inflation_W_Data.interpolate()\n",
    "#Inflation_W_Data['CORESTICKM159SFRBATL'] =  Inflation_W_Data['CORESTICKM159SFRBATL'].interpolate()\n",
    "Inflation_W_Data.head()"
   ]
  },
  {
   "cell_type": "markdown",
   "id": "0ea82443",
   "metadata": {},
   "source": [
    "## Data preprocessing: Normalize/standardize a feature\n",
    "\n",
    "Economic time series data often involve variables measured on different scales (e.g., GDP in trillions of dollars, inflation in percentage points). Standardizing these variables (typically by subtracting the mean and dividing by the standard deviation) puts them on a common scale, allowing for meaningful comparisons and analyses.\n",
    "\n",
    "Your task:\n",
    "* Standardize the GDP data. You may do this manually by subtracting the mean and dividing by the standard deviation, or you may use a built-in method from a library like `sklearn`'s `StandardScaler`"
   ]
  },
  {
   "cell_type": "code",
   "execution_count": 59,
   "id": "8270f8da",
   "metadata": {},
   "outputs": [
    {
     "name": "stdout",
     "output_type": "stream",
     "text": [
      "Requirement already satisfied: scikit-learn in /opt/venv/lib/python3.10/site-packages (1.6.1)\n",
      "Requirement already satisfied: numpy>=1.19.5 in /opt/venv/lib/python3.10/site-packages (from scikit-learn) (2.1.2)\n",
      "Requirement already satisfied: threadpoolctl>=3.1.0 in /opt/venv/lib/python3.10/site-packages (from scikit-learn) (3.5.0)\n",
      "Requirement already satisfied: joblib>=1.2.0 in /opt/venv/lib/python3.10/site-packages (from scikit-learn) (1.4.2)\n",
      "Requirement already satisfied: scipy>=1.6.0 in /opt/venv/lib/python3.10/site-packages (from scikit-learn) (1.15.2)\n",
      "\n",
      "\u001b[1m[\u001b[0m\u001b[34;49mnotice\u001b[0m\u001b[1;39;49m]\u001b[0m\u001b[39;49m A new release of pip is available: \u001b[0m\u001b[31;49m23.0.1\u001b[0m\u001b[39;49m -> \u001b[0m\u001b[32;49m25.0.1\u001b[0m\n",
      "\u001b[1m[\u001b[0m\u001b[34;49mnotice\u001b[0m\u001b[1;39;49m]\u001b[0m\u001b[39;49m To update, run: \u001b[0m\u001b[32;49mpip install --upgrade pip\u001b[0m\n"
     ]
    }
   ],
   "source": [
    "!pip install scikit-learn"
   ]
  },
  {
   "cell_type": "code",
   "execution_count": 60,
   "id": "4f88d246",
   "metadata": {},
   "outputs": [],
   "source": [
    "# Standardize the GDP measure\n",
    "from sklearn.preprocessing import StandardScaler\n",
    "scaler = StandardScaler()\n",
    "    "
   ]
  },
  {
   "cell_type": "code",
   "execution_count": 61,
   "id": "e4801c53",
   "metadata": {},
   "outputs": [
    {
     "name": "stdout",
     "output_type": "stream",
     "text": [
      "         DATE      GDP\n",
      "0  1947-01-01  243.164\n",
      "1  1947-04-01  245.968\n",
      "2  1947-07-01  249.585\n",
      "3  1947-10-01  259.745\n",
      "4  1948-01-01  265.742\n",
      "0        243.164\n",
      "1        245.968\n",
      "2        249.585\n",
      "3        259.745\n",
      "4        265.742\n",
      "         ...    \n",
      "304    26813.601\n",
      "305    27063.012\n",
      "306    27610.128\n",
      "307    27956.998\n",
      "308    28284.498\n",
      "Name: GDP, Length: 309, dtype: float64\n",
      "        DATE       GDP\n",
      "0 1947-01-01 -0.935496\n",
      "1 1947-04-01 -0.935121\n",
      "2 1947-07-01 -0.934636\n",
      "3 1947-10-01 -0.933276\n",
      "4 1948-01-01 -0.932472\n"
     ]
    }
   ],
   "source": [
    "# Check the dataframe to make sure the calculation worked as expected \n",
    "print(GDP_Data.head())\n",
    "GDP_Data['DATE'] = pd.to_datetime(GDP_Data['DATE'])\n",
    "convert_dollar_columns_to_numeric(GDP_Data, ['GDP'])\n",
    "print(GDP_Data['GDP'])\n",
    "GDP_Data['GDP'] = scaler.fit_transform(GDP_Data[['GDP']])\n",
    "\n",
    "print(GDP_Data.head())"
   ]
  },
  {
   "cell_type": "code",
   "execution_count": null,
   "id": "3bbe2ae8",
   "metadata": {},
   "outputs": [],
   "source": []
  },
  {
   "cell_type": "markdown",
   "id": "1f1a89d2",
   "metadata": {},
   "source": [
    "## EDA: Plotting a time series of adjusted open vs close price\n",
    "\n",
    "As part of your EDA, you'll frequently want to plot two time series on the same graph and using the same axis to compare their movements. \n",
    "\n",
    "Your task:\n",
    "* Plot the Apple open and close price time series on the same chart **for the last three months only**. Be sure to use a legend to label each line\n",
    "\n",
    "**NOTE**: This is a large dataset. If you try to plot the entire series, your graph will be hard to interpret and may take a long time to plot. Be sure to use only the most recent three months of data. "
   ]
  },
  {
   "cell_type": "code",
   "execution_count": 62,
   "id": "9b490f9b",
   "metadata": {},
   "outputs": [
    {
     "name": "stdout",
     "output_type": "stream",
     "text": [
      "2024-05-03 00:00:00\n"
     ]
    }
   ],
   "source": [
    "# Get max date in timeseries\n",
    "MAX_DATE = AAPL_Data['Date'].max()\n",
    "print(MAX_DATE)"
   ]
  },
  {
   "cell_type": "code",
   "execution_count": 63,
   "id": "03b51a20",
   "metadata": {},
   "outputs": [
    {
     "name": "stdout",
     "output_type": "stream",
     "text": [
      "2024-02-03 00:00:00\n"
     ]
    }
   ],
   "source": [
    "# Use the max date calculated above to get the last three months of data in the dataset \n",
    "three_months_ago = MAX_DATE - pd.DateOffset(months=3)\n",
    "print(three_months_ago)"
   ]
  },
  {
   "cell_type": "code",
   "execution_count": 30,
   "id": "039404e1",
   "metadata": {},
   "outputs": [
    {
     "name": "stdout",
     "output_type": "stream",
     "text": [
      "<class 'pandas.core.frame.DataFrame'>\n",
      "RangeIndex: 2517 entries, 0 to 2516\n",
      "Data columns (total 6 columns):\n",
      " #   Column      Non-Null Count  Dtype         \n",
      "---  ------      --------------  -----         \n",
      " 0   Date        2517 non-null   datetime64[ns]\n",
      " 1   Close/Last  2517 non-null   float64       \n",
      " 2   Volume      2517 non-null   int64         \n",
      " 3   Open        2517 non-null   float64       \n",
      " 4   High        2517 non-null   float64       \n",
      " 5   Low         2517 non-null   float64       \n",
      "dtypes: datetime64[ns](1), float64(4), int64(1)\n",
      "memory usage: 118.1 KB\n",
      "None\n"
     ]
    },
    {
     "data": {
      "image/png": "[encoded data removed]",
      "text/plain": [
       "<Figure size 1400x700 with 1 Axes>"
      ]
     },
     "metadata": {},
     "output_type": "display_data"
    }
   ],
   "source": [
    "# Plot time series of open v. close stock price for Apple using the last 3 months of data\n",
    "print(AAPL_Data.info())\n",
    "AAPL_Data.reset_index(inplace=True)\n",
    "three_month_range = AAPL_Data.loc[AAPL_Data['Date'] >=  three_months_ago].copy()\n",
    "\n",
    "plt.figure(figsize=(14,7))\n",
    "plt.plot(three_month_range['Date'], three_month_range['Close/Last'], label='Close Price', color='blue', alpha=0.5)\n",
    "plt.plot(three_month_range['Date'], three_month_range['Open'], label='Open price', color='red')\n",
    "plt.title(f'AAPL {three_months_ago} - {MAX_DATE}')\n",
    "plt.xlabel('date')\n",
    "plt.ylabel('price')\n",
    "plt.legend()\n",
    "plt.grid()\n",
    "plt.show()\n",
    "\n"
   ]
  },
  {
   "cell_type": "markdown",
   "id": "bc0070c6",
   "metadata": {},
   "source": [
    "## EDA: Plotting a histogram of a stock's closing price in the last three months\n",
    "\n",
    "One way to see how much a stock's price generally moves is to plot the frequency of closing prices over a set time period. \n",
    "\n",
    "Your task:\n",
    "* Use the **last three months** of Apple stock data and plot a histogram of closing price"
   ]
  },
  {
   "cell_type": "code",
   "execution_count": 64,
   "id": "b48760fd",
   "metadata": {},
   "outputs": [
    {
     "data": {
      "image/png": "[encoded data removed]",
      "text/plain": [
       "<Figure size 1400x700 with 1 Axes>"
      ]
     },
     "metadata": {},
     "output_type": "display_data"
    }
   ],
   "source": [
    "# Plot the histogram of Apple's closing price over the last 3 months \n",
    "\n",
    "plt.figure(figsize=(14,7))\n",
    "plt.hist(three_month_range['Close/Last'], bins=30,label='Close Price freq', color='blue', alpha=0.5)\n",
    "plt.title(f'AAPL histogram {three_months_ago} - {MAX_DATE}')\n",
    "plt.xlabel('price')\n",
    "plt.ylabel('freq')\n",
    "plt.legend()\n",
    "plt.grid()\n",
    "plt.show()"
   ]
  },
  {
   "cell_type": "markdown",
   "id": "01e1b22c",
   "metadata": {},
   "source": [
    "## Calculating correlation between a stock price and a macroeconomic variable \n",
    "\n",
    "Inflation affects the purchasing power of money and can influence corporate profits, interest rates, and consumer behavior. By analyzing the correlation between stock prices and inflation, one can gauge how inflationary trends impact stock market performance. For instance, high inflation might erode profit margins and reduce stock prices, while moderate inflation might indicate a growing economy, benefiting stocks.\n",
    "\n",
    "Your task:\n",
    "* Plot a heatmap that shows the correlation between Microsoft and Apple returns and inflation \n",
    "\n",
    "This will require several steps:\n",
    "1. Calculate the returns for Apple and Microsoft and the change in monthly inflation (use the `pct_change` method for each)\n",
    "2. Interpolate the daily stock returns data to monthly so it can be compared to the monthly inflation data\n",
    "3. Merge the stock returns (Apple and Microsoft) and inflation data series into a single dataframe\n",
    "4. Calculate the correlation matrix between the Apple returns, Microsoft returns, and inflation change\n",
    "5. Plot the correlation matrix as a heatmap"
   ]
  },
  {
   "cell_type": "markdown",
   "id": "c38842ed",
   "metadata": {},
   "source": [
    "### 1. Calculate returns for Microsoft / Apple and the monthly change in inflation"
   ]
  },
  {
   "cell_type": "code",
   "execution_count": 65,
   "id": "a112dc12",
   "metadata": {},
   "outputs": [
    {
     "name": "stdout",
     "output_type": "stream",
     "text": [
      "           Date  Close/Last     Volume   Open   High    Low    Retrun\n",
      "2516 2014-05-06       21.23  373872650  21.49  21.59  21.23       NaN\n",
      "2515 2014-05-07       21.15  282128727  21.26  21.33  20.99 -0.003768\n",
      "2514 2014-05-08       21.00  228973884  21.01  21.23  20.94 -0.007092\n",
      "2513 2014-05-09       20.91  291068564  20.88  20.94  20.73 -0.004286\n",
      "2512 2014-05-12       21.17  212736019  20.98  21.20  20.98  0.012434\n"
     ]
    },
    {
     "data": {
      "text/html": [
       "<div>\n",
       "<style scoped>\n",
       "    .dataframe tbody tr th:only-of-type {\n",
       "        vertical-align: middle;\n",
       "    }\n",
       "\n",
       "    .dataframe tbody tr th {\n",
       "        vertical-align: top;\n",
       "    }\n",
       "\n",
       "    .dataframe thead th {\n",
       "        text-align: right;\n",
       "    }\n",
       "</style>\n",
       "<table border=\"1\" class=\"dataframe\">\n",
       "  <thead>\n",
       "    <tr style=\"text-align: right;\">\n",
       "      <th></th>\n",
       "      <th>CORESTICKM159SFRBATL</th>\n",
       "      <th>Inflation_Change</th>\n",
       "    </tr>\n",
       "    <tr>\n",
       "      <th>DATE</th>\n",
       "      <th></th>\n",
       "      <th></th>\n",
       "    </tr>\n",
       "  </thead>\n",
       "  <tbody>\n",
       "    <tr>\n",
       "      <th>1968-01-31</th>\n",
       "      <td>3.651861</td>\n",
       "      <td>NaN</td>\n",
       "    </tr>\n",
       "    <tr>\n",
       "      <th>1968-02-29</th>\n",
       "      <td>3.673819</td>\n",
       "      <td>0.006013</td>\n",
       "    </tr>\n",
       "    <tr>\n",
       "      <th>1968-03-31</th>\n",
       "      <td>4.142164</td>\n",
       "      <td>0.127482</td>\n",
       "    </tr>\n",
       "    <tr>\n",
       "      <th>1968-04-30</th>\n",
       "      <td>4.155828</td>\n",
       "      <td>0.003299</td>\n",
       "    </tr>\n",
       "    <tr>\n",
       "      <th>1968-05-31</th>\n",
       "      <td>4.088245</td>\n",
       "      <td>-0.016262</td>\n",
       "    </tr>\n",
       "  </tbody>\n",
       "</table>\n",
       "</div>"
      ],
      "text/plain": [
       "            CORESTICKM159SFRBATL  Inflation_Change\n",
       "DATE                                              \n",
       "1968-01-31              3.651861               NaN\n",
       "1968-02-29              3.673819          0.006013\n",
       "1968-03-31              4.142164          0.127482\n",
       "1968-04-30              4.155828          0.003299\n",
       "1968-05-31              4.088245         -0.016262"
      ]
     },
     "execution_count": 65,
     "metadata": {},
     "output_type": "execute_result"
    }
   ],
   "source": [
    "# Calculate daily returns for Apple and Microsoft and the percent change in inflation from month to month\n",
    "AAPL_Data_Sort = AAPL_Data.sort_values(by='Date')\n",
    "MS_Data_Sort = MS_Data.sort_values(by='Date')\n",
    "AAPL_Data_Sort['Retrun'] = AAPL_Data_Sort['Close/Last'].pct_change()\n",
    "MS_Data_Sort['Retrun'] = MS_Data_Sort['Close/Last'].pct_change()\n",
    "print(AAPL_Data_Sort.head())\n",
    "\n",
    "Inflation_M_Data['Inflation_Change'] = Inflation_M_Data['CORESTICKM159SFRBATL'].pct_change()\n",
    "#Inflation_M_Data.drop(columns={'Change'},inplace=True);\n",
    "Inflation_M_Data.head()"
   ]
  },
  {
   "cell_type": "markdown",
   "id": "c8aa1b91",
   "metadata": {},
   "source": [
    "### 2. Interpolate stock returns from daily to monthly"
   ]
  },
  {
   "cell_type": "code",
   "execution_count": 66,
   "id": "9300a530",
   "metadata": {},
   "outputs": [
    {
     "name": "stdout",
     "output_type": "stream",
     "text": [
      "           Date  Close/Last     Volume    Open    High     Low    Retrun\n",
      "2516 2014-05-06       21.23  373872650   21.49   21.59   21.23       NaN\n",
      "2515 2014-05-07       21.15  282128727   21.26   21.33   20.99 -0.003768\n",
      "2514 2014-05-08       21.00  228973884   21.01   21.23   20.94 -0.007092\n",
      "2513 2014-05-09       20.91  291068564   20.88   20.94   20.73 -0.004286\n",
      "2512 2014-05-12       21.17  212736019   20.98   21.20   20.98  0.012434\n",
      "...         ...         ...        ...     ...     ...     ...       ...\n",
      "4    2024-04-29      173.50   68169420  173.37  176.03  173.10  0.024808\n",
      "3    2024-04-30      170.33   65934780  173.33  174.99  170.00 -0.018271\n",
      "2    2024-05-01      169.30   50383150  169.58  172.71  169.11 -0.006047\n",
      "1    2024-05-02      173.03   94214920  172.51  173.42  170.89  0.022032\n",
      "0    2024-05-03      183.38  163224100  186.65  187.00  182.66  0.059816\n",
      "\n",
      "[2517 rows x 7 columns]\n",
      "        Date  APPL_M_RETURN\n",
      "0 2014-05-31       0.065002\n",
      "1 2014-06-30       0.027421\n",
      "2 2014-07-31       0.028842\n",
      "3 2014-08-31       0.072385\n",
      "4 2014-09-30      -0.017167\n",
      "        Date  MS_M_RETURN\n",
      "0 2014-05-31     0.048131\n",
      "1 2014-06-30     0.018564\n",
      "2 2014-07-31     0.035012\n",
      "3 2014-08-31     0.052595\n",
      "4 2014-09-30     0.020471\n"
     ]
    }
   ],
   "source": [
    "print(AAPL_Data_Sort)\n",
    "AAPL_Data_Sort.set_index('Date', inplace=True)\n",
    "\n",
    "AAPL_M_Data = AAPL_Data_Sort['Retrun'].resample('ME').agg(lambda x: (x + 1).prod() - 1).reset_index().rename(columns={'Retrun' : 'APPL_M_RETURN'}) \n",
    "#AAPL_M_Data = AAPL_Data['Retrun'].resample('ME').mean();\n",
    "\n",
    "print(AAPL_M_Data.head())\n",
    "\n",
    "MS_Data_Sort.set_index('Date', inplace=True)\n",
    "\n",
    "MS_M_Data = MS_Data_Sort['Retrun'].resample('ME').agg(lambda x: (x + 1).prod() - 1).reset_index().rename(columns={'Retrun' : 'MS_M_RETURN'})  \n",
    "print(MS_M_Data.head())\n"
   ]
  },
  {
   "cell_type": "markdown",
   "id": "268272e6",
   "metadata": {},
   "source": [
    "### 3. Merge the dataframes and calculate / plot the correlation"
   ]
  },
  {
   "cell_type": "code",
   "execution_count": 67,
   "id": "0defb97b",
   "metadata": {},
   "outputs": [
    {
     "name": "stdout",
     "output_type": "stream",
     "text": [
      "        Date  APPL_M_RETURN  MS_M_RETURN\n",
      "0 2014-05-31       0.065002     0.048131\n",
      "1 2014-06-30       0.027421     0.018564\n",
      "2 2014-07-31       0.028842     0.035012\n",
      "3 2014-08-31       0.072385     0.052595\n",
      "4 2014-09-30      -0.017167     0.020471\n",
      "        Date  CORESTICKM159SFRBATL  Inflation_Change\n",
      "0 1968-01-31              3.651861               NaN\n",
      "1 1968-02-29              3.673819          0.006013\n",
      "2 1968-03-31              4.142164          0.127482\n",
      "3 1968-04-30              4.155828          0.003299\n",
      "4 1968-05-31              4.088245         -0.016262\n"
     ]
    }
   ],
   "source": [
    "Monthly_retrun = pd.merge(AAPL_M_Data, MS_M_Data, on='Date', how='inner' )\n",
    "print(Monthly_retrun.head())\n",
    "\n",
    "Inflation_M_Data_Rename = Inflation_M_Data.reset_index().rename(columns={'DATE' : 'Date'})\n",
    "#Inflation_M_Data_Rename = Inflation_M_Data_Rename.reset_index(drop=True)\n",
    "#Inflation_M_Data_Rename = Inflation_M_Data.rename(columns={'DATE' : 'Date'})\n",
    "print(Inflation_M_Data_Rename.head())\n",
    "#Inflation_M_Data_Rename = Inflation_M_Data_Rename.drop(columns=['index'], inplace=True)\n",
    "Monthly_retrun = pd.merge(Monthly_retrun, Inflation_M_Data_Rename, on='Date', how='inner' )"
   ]
  },
  {
   "cell_type": "markdown",
   "id": "e1352272",
   "metadata": {},
   "source": [
    "### 4. Calculate the correlation matrix between the Apple returns, Microsoft returns, and inflation change"
   ]
  },
  {
   "cell_type": "code",
   "execution_count": 68,
   "id": "8176f9ff",
   "metadata": {},
   "outputs": [
    {
     "name": "stdout",
     "output_type": "stream",
     "text": [
      "          Date  APPL_M_RETURN  MS_M_RETURN  CORESTICKM159SFRBATL  \\\n",
      "0   2014-05-31       0.065002     0.048131              2.127518   \n",
      "1   2014-06-30       0.027421     0.018564              2.142724   \n",
      "2   2014-07-31       0.028842     0.035012              2.098319   \n",
      "3   2014-08-31       0.072385     0.052595              1.959017   \n",
      "4   2014-09-30      -0.017167     0.020471              1.950170   \n",
      "..         ...            ...          ...                   ...   \n",
      "114 2023-11-30       0.112315     0.120671              4.688293   \n",
      "115 2023-12-31       0.013583    -0.007574              4.554396   \n",
      "116 2024-01-31      -0.042227     0.057281              4.603922   \n",
      "117 2024-02-29      -0.019794     0.040394              4.403102   \n",
      "118 2024-03-31      -0.051286     0.017116              4.509212   \n",
      "\n",
      "     Inflation_Change  \n",
      "0            0.050251  \n",
      "1            0.007147  \n",
      "2           -0.020724  \n",
      "3           -0.066387  \n",
      "4           -0.004516  \n",
      "..                ...  \n",
      "114         -0.039860  \n",
      "115         -0.028560  \n",
      "116          0.010874  \n",
      "117         -0.043619  \n",
      "118          0.024099  \n",
      "\n",
      "[119 rows x 5 columns]\n"
     ]
    },
    {
     "data": {
      "text/html": [
       "<div>\n",
       "<style scoped>\n",
       "    .dataframe tbody tr th:only-of-type {\n",
       "        vertical-align: middle;\n",
       "    }\n",
       "\n",
       "    .dataframe tbody tr th {\n",
       "        vertical-align: top;\n",
       "    }\n",
       "\n",
       "    .dataframe thead th {\n",
       "        text-align: right;\n",
       "    }\n",
       "</style>\n",
       "<table border=\"1\" class=\"dataframe\">\n",
       "  <thead>\n",
       "    <tr style=\"text-align: right;\">\n",
       "      <th></th>\n",
       "      <th>APPL_M_RETURN</th>\n",
       "      <th>MS_M_RETURN</th>\n",
       "      <th>Inflation_Change</th>\n",
       "    </tr>\n",
       "  </thead>\n",
       "  <tbody>\n",
       "    <tr>\n",
       "      <th>APPL_M_RETURN</th>\n",
       "      <td>1.000000</td>\n",
       "      <td>0.588237</td>\n",
       "      <td>-0.074699</td>\n",
       "    </tr>\n",
       "    <tr>\n",
       "      <th>MS_M_RETURN</th>\n",
       "      <td>0.588237</td>\n",
       "      <td>1.000000</td>\n",
       "      <td>-0.070176</td>\n",
       "    </tr>\n",
       "    <tr>\n",
       "      <th>Inflation_Change</th>\n",
       "      <td>-0.074699</td>\n",
       "      <td>-0.070176</td>\n",
       "      <td>1.000000</td>\n",
       "    </tr>\n",
       "  </tbody>\n",
       "</table>\n",
       "</div>"
      ],
      "text/plain": [
       "                  APPL_M_RETURN  MS_M_RETURN  Inflation_Change\n",
       "APPL_M_RETURN          1.000000     0.588237         -0.074699\n",
       "MS_M_RETURN            0.588237     1.000000         -0.070176\n",
       "Inflation_Change      -0.074699    -0.070176          1.000000"
      ]
     },
     "execution_count": 68,
     "metadata": {},
     "output_type": "execute_result"
    }
   ],
   "source": [
    "# Calculate correlation matrix\n",
    "print(Monthly_retrun)\n",
    "Monthly_retrun = Monthly_retrun.drop(columns=['Date','CORESTICKM159SFRBATL']);\n",
    "correlation_matrix = Monthly_retrun.corr()\n",
    "\n",
    "correlation_matrix.head()"
   ]
  },
  {
   "cell_type": "markdown",
   "id": "43b0ac07",
   "metadata": {},
   "source": [
    "### 5. Plot the correlation matrix as a heatmap "
   ]
  },
  {
   "cell_type": "code",
   "execution_count": 69,
   "id": "0f731a65",
   "metadata": {},
   "outputs": [
    {
     "data": {
      "image/png": "[encoded data removed]",
      "text/plain": [
       "<Figure size 800x600 with 2 Axes>"
      ]
     },
     "metadata": {},
     "output_type": "display_data"
    }
   ],
   "source": [
    "# Plot heatmap\n",
    "# Set up the matplotlib figure\n",
    "plt.figure(figsize=(8, 6))\n",
    "\n",
    "# Create a heatmap using seaborn\n",
    "sns.heatmap(correlation_matrix, annot=True, cmap='coolwarm', fmt='.2f', square=True, cbar_kws={\"shrink\": .8})\n",
    "\n",
    "# Set the title\n",
    "plt.title('Correlation Matrix Heatmap')\n",
    "\n",
    "# Show the plot\n",
    "plt.show()"
   ]
  },
  {
   "cell_type": "markdown",
   "id": "624a2410",
   "metadata": {},
   "source": [
    "## Calculating rolling volatility (standard deviation) of a stock's price for last 3 months\n",
    "\n",
    "Volatility is a measure of the dispersion of returns for a given security. By calculating rolling volatility, investors can assess the risk associated with a stock over time: Higher volatility indicates higher risk, as the stock's price is more likely to experience significant fluctuations. In portfolio optimization, understanding the volatility of individual stocks and how it changes over time is crucial for diversification and optimization. By analyzing rolling volatility, investors can adjust their portfolios to maintain a desired risk level, potentially improving the risk-return profile.\n",
    "\n",
    "One possible way to calculate volatility is by using the standard deviation of returns for a stock over time.\n",
    "\n",
    "Your task:\n",
    "* Calculate the weekly rolling standard deviation for Apple's closing price\n",
    "* Plot the calculated rolling weekly volatility of Apple's closing price against Apple's closing price. Plot these **on the same chart, but using different y-axes**\n",
    "\n",
    "Helpful hints:\n",
    "* You'll need to use the `pandas` `rolling()` method with a given `window_size` parameter to make it a _weekly_ rolling calculation\n",
    "* Use **only the last three months of data**; data much older than this may not be as useful for portfolio optimization\n",
    "* You'll need to create two axes on the matplotlib figure to be able to use two different y-axes (one for the closing price and one for the rolling volatility calculated here)"
   ]
  },
  {
   "cell_type": "code",
   "execution_count": 70,
   "id": "4da9eb94",
   "metadata": {},
   "outputs": [
    {
     "name": "stdout",
     "output_type": "stream",
     "text": [
      "            Close/Last     Volume   Open   High    Low    Retrun\n",
      "Date                                                            \n",
      "2014-05-06       21.23  373872650  21.49  21.59  21.23       NaN\n",
      "2014-05-07       21.15  282128727  21.26  21.33  20.99 -0.003768\n",
      "2014-05-08       21.00  228973884  21.01  21.23  20.94 -0.007092\n",
      "2014-05-09       20.91  291068564  20.88  20.94  20.73 -0.004286\n",
      "2014-05-12       21.17  212736019  20.98  21.20  20.98  0.012434\n",
      "            Close/Last     Volume   Open   High    Low    Retrun  WV\n",
      "Date                                                                \n",
      "2014-05-06       21.23  373872650  21.49  21.59  21.23       NaN NaN\n",
      "2014-05-07       21.15  282128727  21.26  21.33  20.99 -0.003768 NaN\n",
      "2014-05-08       21.00  228973884  21.01  21.23  20.94 -0.007092 NaN\n",
      "2014-05-09       20.91  291068564  20.88  20.94  20.73 -0.004286 NaN\n",
      "2014-05-12       21.17  212736019  20.98  21.20  20.98  0.012434 NaN\n"
     ]
    }
   ],
   "source": [
    "# Define the window size for the rolling calculation (e.g., one week)\n",
    "rolling_window = 5\n",
    "\n",
    "#three_month_range = three_month_range.iloc[::-1]\n",
    "#three_month_range.reset_index\n",
    "#three_month_range['Retrun'] = three_month_range['Close/Last'].pct_change();\n",
    "print(AAPL_Data_Sort.head())\n",
    "\n",
    "AAPL_Data_Sort['WV'] = AAPL_Data_Sort['Retrun'].rolling(window=rolling_window).std()\n",
    "print(AAPL_Data_Sort.head())"
   ]
  },
  {
   "cell_type": "code",
   "execution_count": 73,
   "id": "2c5142b4",
   "metadata": {},
   "outputs": [
    {
     "name": "stdout",
     "output_type": "stream",
     "text": [
      "      index       Date  Close/Last     Volume    Open    High     Low\n",
      "0         0 2024-05-03      183.38  163224100  186.65  187.00  182.66\n",
      "1         1 2024-05-02      173.03   94214920  172.51  173.42  170.89\n",
      "2         2 2024-05-01      169.30   50383150  169.58  172.71  169.11\n",
      "3         3 2024-04-30      170.33   65934780  173.33  174.99  170.00\n",
      "4         4 2024-04-29      173.50   68169420  173.37  176.03  173.10\n",
      "...     ...        ...         ...        ...     ...     ...     ...\n",
      "2512   2512 2014-05-12       21.17  212736019   20.98   21.20   20.98\n",
      "2513   2513 2014-05-09       20.91  291068564   20.88   20.94   20.73\n",
      "2514   2514 2014-05-08       21.00  228973884   21.01   21.23   20.94\n",
      "2515   2515 2014-05-07       21.15  282128727   21.26   21.33   20.99\n",
      "2516   2516 2014-05-06       21.23  373872650   21.49   21.59   21.23\n",
      "\n",
      "[2517 rows x 7 columns]\n",
      "   index       Date  Close/Last     Volume    Open    High     Low\n",
      "0      0 2024-05-03      183.38  163224100  186.65  187.00  182.66\n",
      "1      1 2024-05-02      173.03   94214920  172.51  173.42  170.89\n",
      "2      2 2024-05-01      169.30   50383150  169.58  172.71  169.11\n",
      "3      3 2024-04-30      170.33   65934780  173.33  174.99  170.00\n",
      "4      4 2024-04-29      173.50   68169420  173.37  176.03  173.10\n",
      "    index       Date  Close/Last    Volume    Open    High     Low\n",
      "58     58 2024-02-09      188.85  45155220  188.65  189.99  188.00\n",
      "59     59 2024-02-08      188.32  40962050  189.39  189.54  187.35\n",
      "60     60 2024-02-07      189.41  53438960  190.64  191.05  188.61\n",
      "61     61 2024-02-06      189.30  43490760  186.86  189.31  186.77\n",
      "62     62 2024-02-05      187.68  69668820  188.15  189.25  185.84\n"
     ]
    }
   ],
   "source": [
    "# Calculate rolling one-week volatility\n",
    "AAPL_Data_Sort = AAPL_Data.reset_index()\n",
    "print(AAPL_Data_Sort)\n",
    "three_month_range_mv = AAPL_Data_Sort.loc[AAPL_Data_Sort['Date'] >=  three_months_ago].copy()\n",
    "print(three_month_range_mv.head())\n",
    "print(three_month_range_mv.tail())"
   ]
  },
  {
   "cell_type": "code",
   "execution_count": 72,
   "id": "92a9c0b8",
   "metadata": {},
   "outputs": [
    {
     "ename": "KeyError",
     "evalue": "'WV'",
     "output_type": "error",
     "traceback": [
      "\u001b[0;31m---------------------------------------------------------------------------\u001b[0m",
      "\u001b[0;31mKeyError\u001b[0m                                  Traceback (most recent call last)",
      "File \u001b[0;32m/opt/venv/lib/python3.10/site-packages/pandas/core/indexes/base.py:3805\u001b[0m, in \u001b[0;36mIndex.get_loc\u001b[0;34m(self, key)\u001b[0m\n\u001b[1;32m   3804\u001b[0m \u001b[38;5;28;01mtry\u001b[39;00m:\n\u001b[0;32m-> 3805\u001b[0m     \u001b[38;5;28;01mreturn\u001b[39;00m \u001b[38;5;28;43mself\u001b[39;49m\u001b[38;5;241;43m.\u001b[39;49m\u001b[43m_engine\u001b[49m\u001b[38;5;241;43m.\u001b[39;49m\u001b[43mget_loc\u001b[49m\u001b[43m(\u001b[49m\u001b[43mcasted_key\u001b[49m\u001b[43m)\u001b[49m\n\u001b[1;32m   3806\u001b[0m \u001b[38;5;28;01mexcept\u001b[39;00m \u001b[38;5;167;01mKeyError\u001b[39;00m \u001b[38;5;28;01mas\u001b[39;00m err:\n",
      "File \u001b[0;32mindex.pyx:167\u001b[0m, in \u001b[0;36mpandas._libs.index.IndexEngine.get_loc\u001b[0;34m()\u001b[0m\n",
      "File \u001b[0;32mindex.pyx:196\u001b[0m, in \u001b[0;36mpandas._libs.index.IndexEngine.get_loc\u001b[0;34m()\u001b[0m\n",
      "File \u001b[0;32mpandas/_libs/hashtable_class_helper.pxi:7081\u001b[0m, in \u001b[0;36mpandas._libs.hashtable.PyObjectHashTable.get_item\u001b[0;34m()\u001b[0m\n",
      "File \u001b[0;32mpandas/_libs/hashtable_class_helper.pxi:7089\u001b[0m, in \u001b[0;36mpandas._libs.hashtable.PyObjectHashTable.get_item\u001b[0;34m()\u001b[0m\n",
      "\u001b[0;31mKeyError\u001b[0m: 'WV'",
      "\nThe above exception was the direct cause of the following exception:\n",
      "\u001b[0;31mKeyError\u001b[0m                                  Traceback (most recent call last)",
      "Cell \u001b[0;32mIn[72], line 9\u001b[0m\n\u001b[1;32m      7\u001b[0m ax1\u001b[38;5;241m.\u001b[39mlegend()\n\u001b[1;32m      8\u001b[0m ax2 \u001b[38;5;241m=\u001b[39m ax1\u001b[38;5;241m.\u001b[39mtwinx()\n\u001b[0;32m----> 9\u001b[0m ax2\u001b[38;5;241m.\u001b[39mplot(three_month_range_mv[\u001b[38;5;124m'\u001b[39m\u001b[38;5;124mDate\u001b[39m\u001b[38;5;124m'\u001b[39m], \u001b[43mthree_month_range_mv\u001b[49m\u001b[43m[\u001b[49m\u001b[38;5;124;43m'\u001b[39;49m\u001b[38;5;124;43mWV\u001b[39;49m\u001b[38;5;124;43m'\u001b[39;49m\u001b[43m]\u001b[49m, label\u001b[38;5;241m=\u001b[39m\u001b[38;5;124m'\u001b[39m\u001b[38;5;124mrolling weekly volatility\u001b[39m\u001b[38;5;124m'\u001b[39m, color\u001b[38;5;241m=\u001b[39m\u001b[38;5;124m'\u001b[39m\u001b[38;5;124mred\u001b[39m\u001b[38;5;124m'\u001b[39m)\n\u001b[1;32m     10\u001b[0m ax2\u001b[38;5;241m.\u001b[39mset_ylabel(\u001b[38;5;124m'\u001b[39m\u001b[38;5;124mrolling weekly volatility\u001b[39m\u001b[38;5;124m'\u001b[39m)\n\u001b[1;32m     11\u001b[0m ax2\u001b[38;5;241m.\u001b[39mlegend()\n",
      "File \u001b[0;32m/opt/venv/lib/python3.10/site-packages/pandas/core/frame.py:4102\u001b[0m, in \u001b[0;36mDataFrame.__getitem__\u001b[0;34m(self, key)\u001b[0m\n\u001b[1;32m   4100\u001b[0m \u001b[38;5;28;01mif\u001b[39;00m \u001b[38;5;28mself\u001b[39m\u001b[38;5;241m.\u001b[39mcolumns\u001b[38;5;241m.\u001b[39mnlevels \u001b[38;5;241m>\u001b[39m \u001b[38;5;241m1\u001b[39m:\n\u001b[1;32m   4101\u001b[0m     \u001b[38;5;28;01mreturn\u001b[39;00m \u001b[38;5;28mself\u001b[39m\u001b[38;5;241m.\u001b[39m_getitem_multilevel(key)\n\u001b[0;32m-> 4102\u001b[0m indexer \u001b[38;5;241m=\u001b[39m \u001b[38;5;28;43mself\u001b[39;49m\u001b[38;5;241;43m.\u001b[39;49m\u001b[43mcolumns\u001b[49m\u001b[38;5;241;43m.\u001b[39;49m\u001b[43mget_loc\u001b[49m\u001b[43m(\u001b[49m\u001b[43mkey\u001b[49m\u001b[43m)\u001b[49m\n\u001b[1;32m   4103\u001b[0m \u001b[38;5;28;01mif\u001b[39;00m is_integer(indexer):\n\u001b[1;32m   4104\u001b[0m     indexer \u001b[38;5;241m=\u001b[39m [indexer]\n",
      "File \u001b[0;32m/opt/venv/lib/python3.10/site-packages/pandas/core/indexes/base.py:3812\u001b[0m, in \u001b[0;36mIndex.get_loc\u001b[0;34m(self, key)\u001b[0m\n\u001b[1;32m   3807\u001b[0m     \u001b[38;5;28;01mif\u001b[39;00m \u001b[38;5;28misinstance\u001b[39m(casted_key, \u001b[38;5;28mslice\u001b[39m) \u001b[38;5;129;01mor\u001b[39;00m (\n\u001b[1;32m   3808\u001b[0m         \u001b[38;5;28misinstance\u001b[39m(casted_key, abc\u001b[38;5;241m.\u001b[39mIterable)\n\u001b[1;32m   3809\u001b[0m         \u001b[38;5;129;01mand\u001b[39;00m \u001b[38;5;28many\u001b[39m(\u001b[38;5;28misinstance\u001b[39m(x, \u001b[38;5;28mslice\u001b[39m) \u001b[38;5;28;01mfor\u001b[39;00m x \u001b[38;5;129;01min\u001b[39;00m casted_key)\n\u001b[1;32m   3810\u001b[0m     ):\n\u001b[1;32m   3811\u001b[0m         \u001b[38;5;28;01mraise\u001b[39;00m InvalidIndexError(key)\n\u001b[0;32m-> 3812\u001b[0m     \u001b[38;5;28;01mraise\u001b[39;00m \u001b[38;5;167;01mKeyError\u001b[39;00m(key) \u001b[38;5;28;01mfrom\u001b[39;00m \u001b[38;5;21;01merr\u001b[39;00m\n\u001b[1;32m   3813\u001b[0m \u001b[38;5;28;01mexcept\u001b[39;00m \u001b[38;5;167;01mTypeError\u001b[39;00m:\n\u001b[1;32m   3814\u001b[0m     \u001b[38;5;66;03m# If we have a listlike key, _check_indexing_error will raise\u001b[39;00m\n\u001b[1;32m   3815\u001b[0m     \u001b[38;5;66;03m#  InvalidIndexError. Otherwise we fall through and re-raise\u001b[39;00m\n\u001b[1;32m   3816\u001b[0m     \u001b[38;5;66;03m#  the TypeError.\u001b[39;00m\n\u001b[1;32m   3817\u001b[0m     \u001b[38;5;28mself\u001b[39m\u001b[38;5;241m.\u001b[39m_check_indexing_error(key)\n",
      "\u001b[0;31mKeyError\u001b[0m: 'WV'"
     ]
    },
    {
     "data": {
      "text/plain": [
       "<Figure size 2000x700 with 0 Axes>"
      ]
     },
     "metadata": {},
     "output_type": "display_data"
    },
    {
     "data": {
      "image/png": "[encoded data removed]",
      "text/plain": [
       "<Figure size 640x480 with 2 Axes>"
      ]
     },
     "metadata": {},
     "output_type": "display_data"
    }
   ],
   "source": [
    "# Plot the calculated rolling weekly volatility of Apple's closing price against Apple's closing price\n",
    "# Plot these on the same chart, but using different y-axes\n",
    "plt.figure(figsize=(20,7))\n",
    "fig, ax1 = plt.subplots()\n",
    "ax1.plot(three_month_range_mv['Date'], three_month_range_mv['Close/Last'], label='Close Price', color='blue')\n",
    "ax1.set_ylabel('price')\n",
    "ax1.legend()\n",
    "ax2 = ax1.twinx()\n",
    "ax2.plot(three_month_range_mv['Date'], three_month_range_mv['WV'], label='rolling weekly volatility', color='red')\n",
    "ax2.set_ylabel('rolling weekly volatility')\n",
    "ax2.legend()\n",
    "plt.title(f'AAPL {three_months_ago} - {MAX_DATE}')\n",
    "plt.xlabel('date')\n",
    "\n",
    "\n",
    "plt.grid()\n",
    "plt.show()\n",
    "\n",
    "\n",
    "\n",
    "\n"
   ]
  },
  {
   "cell_type": "markdown",
   "id": "e2cf3c78",
   "metadata": {},
   "source": [
    "## Export data\n",
    "\n",
    "Now that you have preprocessed your data, you should save it in new csv files so that it can be used in downstream tasks without having to redo all the preprocessing steps. \n",
    "\n",
    "Your task:\n",
    "* Use `pandas` to export all modified datasets back to new CSV files"
   ]
  },
  {
   "cell_type": "code",
   "execution_count": null,
   "id": "3d67d29c",
   "metadata": {},
   "outputs": [],
   "source": [
    "#writer = pd.ExcelWriter('',engine='xlsxwriter')\n",
    "pd.DataFrame(three_month_range).to_csv('three_month_range.csv')\n",
    "correlation_matrix.to_csv('correlation_matrix.csv')\n",
    "AAPL_Data.to_csv('AAPL_Data.csv')\n",
    "AAPL_M_Data.to_csv('AAPL_M_Data.csv')\n",
    "MS_Data.to_csv('MS_Data.csv')\n",
    "MS_M_Data.to_csv( 'MS_M_Data.csv')\n",
    "Inflation_M_Data.to_csv( 'Inflation_M_Data.csv')\n",
    "Inflation_Q_Data.to_csv( 'Inflation_Q_Data.csv')\n",
    "Inflation_W_Data.to_csv( 'Inflation_W_Data.csv')"
   ]
  },
  {
   "cell_type": "code",
   "execution_count": null,
   "id": "f591e323",
   "metadata": {},
   "outputs": [],
   "source": []
  },
  {
   "cell_type": "code",
   "execution_count": null,
   "id": "0b6ab13f",
   "metadata": {},
   "outputs": [],
   "source": []
  },
  {
   "cell_type": "code",
   "execution_count": null,
   "id": "a40e2fda",
   "metadata": {},
   "outputs": [],
   "source": []
  }
 ],
 "metadata": {
  "kernelspec": {
   "display_name": "Python 3 (ipykernel)",
   "language": "python",
   "name": "python3"
  },
  "language_info": {
   "codemirror_mode": {
    "name": "ipython",
    "version": 3
   },
   "file_extension": ".py",
   "mimetype": "text/x-python",
   "name": "python",
   "nbconvert_exporter": "python",
   "pygments_lexer": "ipython3",
   "version": "3.10.13"
  }
 },
 "nbformat": 4,
 "nbformat_minor": 5
}
