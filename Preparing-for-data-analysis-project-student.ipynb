{
 "cells": [
  {
   "cell_type": "markdown",
   "id": "81942eb1",
   "metadata": {},
   "source": [
    "# Course 2 Project: ML Pipeline for Feature Engineering"
   ]
  },
  {
   "cell_type": "markdown",
   "id": "4f241775",
   "metadata": {},
   "source": [
    "## Instructions\n",
    "\n",
    "In this project, you'll use data related to microeconomic indicators and historical stock prices to explore the data engineering pipline. You'll get to practice:\n",
    "\n",
    "* Data ingestion \n",
    "* Data cleaning\n",
    "* Data imputation\n",
    "* Exploratory data analysis (EDA) through charts and graphs"
   ]
  },
  {
   "cell_type": "markdown",
   "id": "1f12b277",
   "metadata": {},
   "source": [
    "## Packages\n",
    "\n",
    "You'll use `pandas` and `matplotlib`, which were covered in the course material, to import, clean, and plot data. They have been installed in this workspace for you. If you're working locally and you installed Jupyter using Anaconda, these packages will already be installed. "
   ]
  },
  {
   "cell_type": "code",
   "execution_count": 133,
   "id": "882241d4",
   "metadata": {},
   "outputs": [],
   "source": [
    "import pandas as pd\n",
    "import matplotlib.pyplot as plt\n",
    "import seaborn as sns"
   ]
  },
  {
   "cell_type": "markdown",
   "id": "f9fcd352",
   "metadata": {},
   "source": [
    "## Load data\n",
    "\n",
    "The first step in a data engineering pipeline for machine learning is to ingest the data that will be used. For this project, data is hosted on a public GitHub repo. \n",
    "\n",
    "Your tasks:\n",
    "* Import data from the provided GitHub repo using `pandas`\n",
    "* Verify that the data has been imported correctly into `pandas` dataframes. Use methods like `head()` and `info()`\n",
    "* You may need to change column names to make them easier to work with\n",
    "* You may need to cast datetime data to the `datetime` format using `pandas` `to_datetime()` method\n",
    "\n",
    "Data files to import: \n",
    "1. GDP\n",
    "2. Inflation \n",
    "3. Apple stock prices \n",
    "4. Microsoft stock prices"
   ]
  },
  {
   "cell_type": "code",
   "execution_count": 134,
   "id": "bd119016",
   "metadata": {},
   "outputs": [
    {
     "data": {
      "text/html": [
       "<div>\n",
       "<style scoped>\n",
       "    .dataframe tbody tr th:only-of-type {\n",
       "        vertical-align: middle;\n",
       "    }\n",
       "\n",
       "    .dataframe tbody tr th {\n",
       "        vertical-align: top;\n",
       "    }\n",
       "\n",
       "    .dataframe thead th {\n",
       "        text-align: right;\n",
       "    }\n",
       "</style>\n",
       "<table border=\"1\" class=\"dataframe\">\n",
       "  <thead>\n",
       "    <tr style=\"text-align: right;\">\n",
       "      <th></th>\n",
       "      <th>DATE</th>\n",
       "      <th>CORESTICKM159SFRBATL</th>\n",
       "    </tr>\n",
       "  </thead>\n",
       "  <tbody>\n",
       "    <tr>\n",
       "      <th>0</th>\n",
       "      <td>1968-01-01</td>\n",
       "      <td>3.651861</td>\n",
       "    </tr>\n",
       "    <tr>\n",
       "      <th>1</th>\n",
       "      <td>1968-02-01</td>\n",
       "      <td>3.673819</td>\n",
       "    </tr>\n",
       "    <tr>\n",
       "      <th>2</th>\n",
       "      <td>1968-03-01</td>\n",
       "      <td>4.142164</td>\n",
       "    </tr>\n",
       "    <tr>\n",
       "      <th>3</th>\n",
       "      <td>1968-04-01</td>\n",
       "      <td>4.155828</td>\n",
       "    </tr>\n",
       "    <tr>\n",
       "      <th>4</th>\n",
       "      <td>1968-05-01</td>\n",
       "      <td>4.088245</td>\n",
       "    </tr>\n",
       "  </tbody>\n",
       "</table>\n",
       "</div>"
      ],
      "text/plain": [
       "         DATE  CORESTICKM159SFRBATL\n",
       "0  1968-01-01              3.651861\n",
       "1  1968-02-01              3.673819\n",
       "2  1968-03-01              4.142164\n",
       "3  1968-04-01              4.155828\n",
       "4  1968-05-01              4.088245"
      ]
     },
     "execution_count": 134,
     "metadata": {},
     "output_type": "execute_result"
    }
   ],
   "source": [
    "gdp_url = 'https://raw.githubusercontent.com/udacity/CD13649-Project/refs/heads/main/Project/GDP.csv'\n",
    "#Load historical GDP data\n",
    "gdp = pd.read_csv(gdp_url, on_bad_lines='skip')\n",
    "inflation_url = 'https://raw.githubusercontent.com/udacity/CD13649-Project/refs/heads/main/Project/inflation_monthly.csv'\n",
    "inflation = pd.read_csv(inflation_url, on_bad_lines='skip')\n",
    "inflation.head()"
   ]
  },
  {
   "cell_type": "code",
   "execution_count": 135,
   "id": "cf36d7c0",
   "metadata": {},
   "outputs": [
    {
     "data": {
      "text/html": [
       "<div>\n",
       "<style scoped>\n",
       "    .dataframe tbody tr th:only-of-type {\n",
       "        vertical-align: middle;\n",
       "    }\n",
       "\n",
       "    .dataframe tbody tr th {\n",
       "        vertical-align: top;\n",
       "    }\n",
       "\n",
       "    .dataframe thead th {\n",
       "        text-align: right;\n",
       "    }\n",
       "</style>\n",
       "<table border=\"1\" class=\"dataframe\">\n",
       "  <thead>\n",
       "    <tr style=\"text-align: right;\">\n",
       "      <th></th>\n",
       "      <th>DATE</th>\n",
       "      <th>GDP</th>\n",
       "    </tr>\n",
       "  </thead>\n",
       "  <tbody>\n",
       "    <tr>\n",
       "      <th>0</th>\n",
       "      <td>1947-01-01</td>\n",
       "      <td>243.164</td>\n",
       "    </tr>\n",
       "    <tr>\n",
       "      <th>1</th>\n",
       "      <td>1947-04-01</td>\n",
       "      <td>245.968</td>\n",
       "    </tr>\n",
       "    <tr>\n",
       "      <th>2</th>\n",
       "      <td>1947-07-01</td>\n",
       "      <td>249.585</td>\n",
       "    </tr>\n",
       "    <tr>\n",
       "      <th>3</th>\n",
       "      <td>1947-10-01</td>\n",
       "      <td>259.745</td>\n",
       "    </tr>\n",
       "    <tr>\n",
       "      <th>4</th>\n",
       "      <td>1948-01-01</td>\n",
       "      <td>265.742</td>\n",
       "    </tr>\n",
       "  </tbody>\n",
       "</table>\n",
       "</div>"
      ],
      "text/plain": [
       "         DATE      GDP\n",
       "0  1947-01-01  243.164\n",
       "1  1947-04-01  245.968\n",
       "2  1947-07-01  249.585\n",
       "3  1947-10-01  259.745\n",
       "4  1948-01-01  265.742"
      ]
     },
     "execution_count": 135,
     "metadata": {},
     "output_type": "execute_result"
    }
   ],
   "source": [
    "# Check the first few rows of data\n",
    "gdp.head()"
   ]
  },
  {
   "cell_type": "code",
   "execution_count": 136,
   "id": "2a2478c9",
   "metadata": {},
   "outputs": [
    {
     "data": {
      "text/html": [
       "<div>\n",
       "<style scoped>\n",
       "    .dataframe tbody tr th:only-of-type {\n",
       "        vertical-align: middle;\n",
       "    }\n",
       "\n",
       "    .dataframe tbody tr th {\n",
       "        vertical-align: top;\n",
       "    }\n",
       "\n",
       "    .dataframe thead th {\n",
       "        text-align: right;\n",
       "    }\n",
       "</style>\n",
       "<table border=\"1\" class=\"dataframe\">\n",
       "  <thead>\n",
       "    <tr style=\"text-align: right;\">\n",
       "      <th></th>\n",
       "      <th>Date</th>\n",
       "      <th>Close/Last</th>\n",
       "      <th>Volume</th>\n",
       "      <th>Open</th>\n",
       "      <th>High</th>\n",
       "      <th>Low</th>\n",
       "    </tr>\n",
       "  </thead>\n",
       "  <tbody>\n",
       "    <tr>\n",
       "      <th>0</th>\n",
       "      <td>5/3/2024</td>\n",
       "      <td>$183.38</td>\n",
       "      <td>163224100</td>\n",
       "      <td>$186.65</td>\n",
       "      <td>$187.00</td>\n",
       "      <td>$182.66</td>\n",
       "    </tr>\n",
       "    <tr>\n",
       "      <th>1</th>\n",
       "      <td>5/2/2024</td>\n",
       "      <td>$173.03</td>\n",
       "      <td>94214920</td>\n",
       "      <td>$172.51</td>\n",
       "      <td>$173.42</td>\n",
       "      <td>$170.89</td>\n",
       "    </tr>\n",
       "    <tr>\n",
       "      <th>2</th>\n",
       "      <td>5/1/2024</td>\n",
       "      <td>$169.30</td>\n",
       "      <td>50383150</td>\n",
       "      <td>$169.58</td>\n",
       "      <td>$172.71</td>\n",
       "      <td>$169.11</td>\n",
       "    </tr>\n",
       "    <tr>\n",
       "      <th>3</th>\n",
       "      <td>4/30/2024</td>\n",
       "      <td>$170.33</td>\n",
       "      <td>65934780</td>\n",
       "      <td>$173.33</td>\n",
       "      <td>$174.99</td>\n",
       "      <td>$170.00</td>\n",
       "    </tr>\n",
       "    <tr>\n",
       "      <th>4</th>\n",
       "      <td>4/29/2024</td>\n",
       "      <td>$173.50</td>\n",
       "      <td>68169420</td>\n",
       "      <td>$173.37</td>\n",
       "      <td>$176.03</td>\n",
       "      <td>$173.10</td>\n",
       "    </tr>\n",
       "  </tbody>\n",
       "</table>\n",
       "</div>"
      ],
      "text/plain": [
       "        Date Close/Last     Volume      Open      High       Low\n",
       "0   5/3/2024   $183.38   163224100  $186.65   $187.00   $182.66 \n",
       "1   5/2/2024   $173.03    94214920  $172.51   $173.42   $170.89 \n",
       "2   5/1/2024   $169.30    50383150  $169.58   $172.71   $169.11 \n",
       "3  4/30/2024   $170.33    65934780  $173.33   $174.99   $170.00 \n",
       "4  4/29/2024   $173.50    68169420  $173.37   $176.03   $173.10 "
      ]
     },
     "execution_count": 136,
     "metadata": {},
     "output_type": "execute_result"
    }
   ],
   "source": [
    "# Load the historical stock price data for Apple and Microsoft\n",
    "apple_historical_data_url = 'https://raw.githubusercontent.com/udacity/CD13649-Project/refs/heads/main/Project/apple_historical_data.csv'\n",
    "apple = pd.read_csv(apple_historical_data_url, on_bad_lines='skip')\n",
    "apple.head()"
   ]
  },
  {
   "cell_type": "code",
   "execution_count": 137,
   "id": "e9e9a77a",
   "metadata": {},
   "outputs": [
    {
     "data": {
      "text/html": [
       "<div>\n",
       "<style scoped>\n",
       "    .dataframe tbody tr th:only-of-type {\n",
       "        vertical-align: middle;\n",
       "    }\n",
       "\n",
       "    .dataframe tbody tr th {\n",
       "        vertical-align: top;\n",
       "    }\n",
       "\n",
       "    .dataframe thead th {\n",
       "        text-align: right;\n",
       "    }\n",
       "</style>\n",
       "<table border=\"1\" class=\"dataframe\">\n",
       "  <thead>\n",
       "    <tr style=\"text-align: right;\">\n",
       "      <th></th>\n",
       "      <th>Date</th>\n",
       "      <th>Close/Last</th>\n",
       "      <th>Volume</th>\n",
       "      <th>Open</th>\n",
       "      <th>High</th>\n",
       "      <th>Low</th>\n",
       "    </tr>\n",
       "  </thead>\n",
       "  <tbody>\n",
       "    <tr>\n",
       "      <th>0</th>\n",
       "      <td>05/03/2024</td>\n",
       "      <td>$406.66</td>\n",
       "      <td>17446720</td>\n",
       "      <td>$402.28</td>\n",
       "      <td>$407.15</td>\n",
       "      <td>$401.86</td>\n",
       "    </tr>\n",
       "    <tr>\n",
       "      <th>1</th>\n",
       "      <td>05/02/2024</td>\n",
       "      <td>$397.84</td>\n",
       "      <td>17709360</td>\n",
       "      <td>$397.66</td>\n",
       "      <td>$399.93</td>\n",
       "      <td>$394.6515</td>\n",
       "    </tr>\n",
       "    <tr>\n",
       "      <th>2</th>\n",
       "      <td>05/01/2024</td>\n",
       "      <td>$394.94</td>\n",
       "      <td>23562480</td>\n",
       "      <td>$392.61</td>\n",
       "      <td>$401.7199</td>\n",
       "      <td>$390.31</td>\n",
       "    </tr>\n",
       "    <tr>\n",
       "      <th>3</th>\n",
       "      <td>04/30/2024</td>\n",
       "      <td>$389.33</td>\n",
       "      <td>28781370</td>\n",
       "      <td>$401.49</td>\n",
       "      <td>$402.16</td>\n",
       "      <td>$389.17</td>\n",
       "    </tr>\n",
       "    <tr>\n",
       "      <th>4</th>\n",
       "      <td>04/29/2024</td>\n",
       "      <td>$402.25</td>\n",
       "      <td>19582090</td>\n",
       "      <td>$405.25</td>\n",
       "      <td>$406.32</td>\n",
       "      <td>$399.19</td>\n",
       "    </tr>\n",
       "  </tbody>\n",
       "</table>\n",
       "</div>"
      ],
      "text/plain": [
       "         Date Close/Last    Volume     Open       High        Low\n",
       "0  05/03/2024    $406.66  17446720  $402.28    $407.15    $401.86\n",
       "1  05/02/2024    $397.84  17709360  $397.66    $399.93  $394.6515\n",
       "2  05/01/2024    $394.94  23562480  $392.61  $401.7199    $390.31\n",
       "3  04/30/2024    $389.33  28781370  $401.49    $402.16    $389.17\n",
       "4  04/29/2024    $402.25  19582090  $405.25    $406.32    $399.19"
      ]
     },
     "execution_count": 137,
     "metadata": {},
     "output_type": "execute_result"
    }
   ],
   "source": [
    "# Check the first few rows of data\n",
    "msft_historical_data_url = 'https://raw.githubusercontent.com/udacity/CD13649-Project/refs/heads/main/Project/microsoft_historical_data.csv'\n",
    "microsoft = pd.read_csv(msft_historical_data_url, on_bad_lines='skip')\n",
    "microsoft.head()"
   ]
  },
  {
   "cell_type": "code",
   "execution_count": 138,
   "id": "8c9bed17",
   "metadata": {},
   "outputs": [
    {
     "name": "stdout",
     "output_type": "stream",
     "text": [
      "<class 'pandas.core.frame.DataFrame'>\n",
      "RangeIndex: 2517 entries, 0 to 2516\n",
      "Data columns (total 6 columns):\n",
      " #   Column      Non-Null Count  Dtype \n",
      "---  ------      --------------  ----- \n",
      " 0   Date        2517 non-null   object\n",
      " 1   Close/Last  2514 non-null   object\n",
      " 2   Volume      2517 non-null   int64 \n",
      " 3   Open        2517 non-null   object\n",
      " 4   High        2517 non-null   object\n",
      " 5   Low         2517 non-null   object\n",
      "dtypes: int64(1), object(5)\n",
      "memory usage: 118.1+ KB\n"
     ]
    },
    {
     "data": {
      "text/html": [
       "<div>\n",
       "<style scoped>\n",
       "    .dataframe tbody tr th:only-of-type {\n",
       "        vertical-align: middle;\n",
       "    }\n",
       "\n",
       "    .dataframe tbody tr th {\n",
       "        vertical-align: top;\n",
       "    }\n",
       "\n",
       "    .dataframe thead th {\n",
       "        text-align: right;\n",
       "    }\n",
       "</style>\n",
       "<table border=\"1\" class=\"dataframe\">\n",
       "  <thead>\n",
       "    <tr style=\"text-align: right;\">\n",
       "      <th></th>\n",
       "      <th>Volume</th>\n",
       "    </tr>\n",
       "  </thead>\n",
       "  <tbody>\n",
       "    <tr>\n",
       "      <th>count</th>\n",
       "      <td>2.517000e+03</td>\n",
       "    </tr>\n",
       "    <tr>\n",
       "      <th>mean</th>\n",
       "      <td>1.277394e+08</td>\n",
       "    </tr>\n",
       "    <tr>\n",
       "      <th>std</th>\n",
       "      <td>7.357405e+07</td>\n",
       "    </tr>\n",
       "    <tr>\n",
       "      <th>min</th>\n",
       "      <td>2.404834e+07</td>\n",
       "    </tr>\n",
       "    <tr>\n",
       "      <th>25%</th>\n",
       "      <td>7.741776e+07</td>\n",
       "    </tr>\n",
       "    <tr>\n",
       "      <th>50%</th>\n",
       "      <td>1.077601e+08</td>\n",
       "    </tr>\n",
       "    <tr>\n",
       "      <th>75%</th>\n",
       "      <td>1.567789e+08</td>\n",
       "    </tr>\n",
       "    <tr>\n",
       "      <th>max</th>\n",
       "      <td>7.576780e+08</td>\n",
       "    </tr>\n",
       "  </tbody>\n",
       "</table>\n",
       "</div>"
      ],
      "text/plain": [
       "             Volume\n",
       "count  2.517000e+03\n",
       "mean   1.277394e+08\n",
       "std    7.357405e+07\n",
       "min    2.404834e+07\n",
       "25%    7.741776e+07\n",
       "50%    1.077601e+08\n",
       "75%    1.567789e+08\n",
       "max    7.576780e+08"
      ]
     },
     "execution_count": 138,
     "metadata": {},
     "output_type": "execute_result"
    }
   ],
   "source": [
    "# Use methods like .info() and .describe() to explore the data\n",
    "apple.info()\n",
    "apple.describe()"
   ]
  },
  {
   "cell_type": "code",
   "execution_count": 139,
   "id": "afb15028",
   "metadata": {},
   "outputs": [
    {
     "name": "stdout",
     "output_type": "stream",
     "text": [
      "<class 'pandas.core.frame.DataFrame'>\n",
      "RangeIndex: 2517 entries, 0 to 2516\n",
      "Data columns (total 6 columns):\n",
      " #   Column      Non-Null Count  Dtype \n",
      "---  ------      --------------  ----- \n",
      " 0   Date        2517 non-null   object\n",
      " 1   Close/Last  2517 non-null   object\n",
      " 2   Volume      2517 non-null   int64 \n",
      " 3   Open        2517 non-null   object\n",
      " 4   High        2517 non-null   object\n",
      " 5   Low         2517 non-null   object\n",
      "dtypes: int64(1), object(5)\n",
      "memory usage: 118.1+ KB\n"
     ]
    },
    {
     "data": {
      "text/html": [
       "<div>\n",
       "<style scoped>\n",
       "    .dataframe tbody tr th:only-of-type {\n",
       "        vertical-align: middle;\n",
       "    }\n",
       "\n",
       "    .dataframe tbody tr th {\n",
       "        vertical-align: top;\n",
       "    }\n",
       "\n",
       "    .dataframe thead th {\n",
       "        text-align: right;\n",
       "    }\n",
       "</style>\n",
       "<table border=\"1\" class=\"dataframe\">\n",
       "  <thead>\n",
       "    <tr style=\"text-align: right;\">\n",
       "      <th></th>\n",
       "      <th>Volume</th>\n",
       "    </tr>\n",
       "  </thead>\n",
       "  <tbody>\n",
       "    <tr>\n",
       "      <th>count</th>\n",
       "      <td>2.517000e+03</td>\n",
       "    </tr>\n",
       "    <tr>\n",
       "      <th>mean</th>\n",
       "      <td>2.953106e+07</td>\n",
       "    </tr>\n",
       "    <tr>\n",
       "      <th>std</th>\n",
       "      <td>1.370138e+07</td>\n",
       "    </tr>\n",
       "    <tr>\n",
       "      <th>min</th>\n",
       "      <td>7.425603e+06</td>\n",
       "    </tr>\n",
       "    <tr>\n",
       "      <th>25%</th>\n",
       "      <td>2.131892e+07</td>\n",
       "    </tr>\n",
       "    <tr>\n",
       "      <th>50%</th>\n",
       "      <td>2.639470e+07</td>\n",
       "    </tr>\n",
       "    <tr>\n",
       "      <th>75%</th>\n",
       "      <td>3.360003e+07</td>\n",
       "    </tr>\n",
       "    <tr>\n",
       "      <th>max</th>\n",
       "      <td>2.025141e+08</td>\n",
       "    </tr>\n",
       "  </tbody>\n",
       "</table>\n",
       "</div>"
      ],
      "text/plain": [
       "             Volume\n",
       "count  2.517000e+03\n",
       "mean   2.953106e+07\n",
       "std    1.370138e+07\n",
       "min    7.425603e+06\n",
       "25%    2.131892e+07\n",
       "50%    2.639470e+07\n",
       "75%    3.360003e+07\n",
       "max    2.025141e+08"
      ]
     },
     "execution_count": 139,
     "metadata": {},
     "output_type": "execute_result"
    }
   ],
   "source": [
    "microsoft.info()\n",
    "microsoft.describe()"
   ]
  },
  {
   "cell_type": "code",
   "execution_count": 140,
   "id": "749e5d59",
   "metadata": {},
   "outputs": [
    {
     "name": "stdout",
     "output_type": "stream",
     "text": [
      "<class 'pandas.core.frame.DataFrame'>\n",
      "RangeIndex: 675 entries, 0 to 674\n",
      "Data columns (total 2 columns):\n",
      " #   Column                Non-Null Count  Dtype  \n",
      "---  ------                --------------  -----  \n",
      " 0   DATE                  675 non-null    object \n",
      " 1   CORESTICKM159SFRBATL  675 non-null    float64\n",
      "dtypes: float64(1), object(1)\n",
      "memory usage: 10.7+ KB\n"
     ]
    },
    {
     "data": {
      "text/html": [
       "<div>\n",
       "<style scoped>\n",
       "    .dataframe tbody tr th:only-of-type {\n",
       "        vertical-align: middle;\n",
       "    }\n",
       "\n",
       "    .dataframe tbody tr th {\n",
       "        vertical-align: top;\n",
       "    }\n",
       "\n",
       "    .dataframe thead th {\n",
       "        text-align: right;\n",
       "    }\n",
       "</style>\n",
       "<table border=\"1\" class=\"dataframe\">\n",
       "  <thead>\n",
       "    <tr style=\"text-align: right;\">\n",
       "      <th></th>\n",
       "      <th>CORESTICKM159SFRBATL</th>\n",
       "    </tr>\n",
       "  </thead>\n",
       "  <tbody>\n",
       "    <tr>\n",
       "      <th>count</th>\n",
       "      <td>675.000000</td>\n",
       "    </tr>\n",
       "    <tr>\n",
       "      <th>mean</th>\n",
       "      <td>4.331276</td>\n",
       "    </tr>\n",
       "    <tr>\n",
       "      <th>std</th>\n",
       "      <td>2.694022</td>\n",
       "    </tr>\n",
       "    <tr>\n",
       "      <th>min</th>\n",
       "      <td>0.663868</td>\n",
       "    </tr>\n",
       "    <tr>\n",
       "      <th>25%</th>\n",
       "      <td>2.453373</td>\n",
       "    </tr>\n",
       "    <tr>\n",
       "      <th>50%</th>\n",
       "      <td>3.354398</td>\n",
       "    </tr>\n",
       "    <tr>\n",
       "      <th>75%</th>\n",
       "      <td>5.202000</td>\n",
       "    </tr>\n",
       "    <tr>\n",
       "      <th>max</th>\n",
       "      <td>15.774167</td>\n",
       "    </tr>\n",
       "  </tbody>\n",
       "</table>\n",
       "</div>"
      ],
      "text/plain": [
       "       CORESTICKM159SFRBATL\n",
       "count            675.000000\n",
       "mean               4.331276\n",
       "std                2.694022\n",
       "min                0.663868\n",
       "25%                2.453373\n",
       "50%                3.354398\n",
       "75%                5.202000\n",
       "max               15.774167"
      ]
     },
     "execution_count": 140,
     "metadata": {},
     "output_type": "execute_result"
    }
   ],
   "source": [
    "inflation.info()\n",
    "inflation.describe()"
   ]
  },
  {
   "cell_type": "markdown",
   "id": "06c8d9dc",
   "metadata": {},
   "source": [
    "## Data preprocessing: Check for missing data and forward fill\n",
    "\n",
    "Check the Apple historical prices for missing data. Check for missing data in all columns. If there's data missing, use a forward fill to fill in those missing prices. "
   ]
  },
  {
   "cell_type": "code",
   "execution_count": 141,
   "id": "4807173e",
   "metadata": {},
   "outputs": [
    {
     "name": "stdout",
     "output_type": "stream",
     "text": [
      "Missing data per column:\n",
      "\n",
      "Date          0\n",
      "Close/Last    3\n",
      "Volume        0\n",
      "Open          0\n",
      "High          0\n",
      "Low           0\n",
      "dtype: int64\n",
      "Date          0\n",
      "Close/Last    0\n",
      "Volume        0\n",
      "Open          0\n",
      "High          0\n",
      "Low           0\n",
      "dtype: int64\n",
      "DATE    0\n",
      "GDP     0\n",
      "dtype: int64\n",
      "DATE                    0\n",
      "CORESTICKM159SFRBATL    0\n",
      "dtype: int64\n"
     ]
    }
   ],
   "source": [
    "# Check for nulls\n",
    "md_a = apple.isnull().sum()\n",
    "md_m = microsoft.isnull().sum()\n",
    "md_g = gdp.isnull().sum()\n",
    "md_i = inflation.isnull().sum()\n",
    "print(\"Missing data per column:\\n\")\n",
    "print(md_a)\n",
    "print(md_m)\n",
    "print(md_g)\n",
    "print(md_i)"
   ]
  },
  {
   "cell_type": "code",
   "execution_count": 142,
   "id": "00e4d6f5",
   "metadata": {},
   "outputs": [],
   "source": [
    "# Forward fill any missing data\n",
    "apple = apple.ffill()\n",
    "microsoft = microsoft.ffill()\n",
    "gdp = gdp.ffill()\n",
    "inflation = inflation.ffill()"
   ]
  },
  {
   "cell_type": "code",
   "execution_count": 143,
   "id": "f82d3b2d",
   "metadata": {},
   "outputs": [
    {
     "name": "stdout",
     "output_type": "stream",
     "text": [
      "Missing data after forward fill:\n",
      "\n",
      "Date          0\n",
      "Close/Last    0\n",
      "Volume        0\n",
      "Open          0\n",
      "High          0\n",
      "Low           0\n",
      "dtype: int64\n",
      "Date          0\n",
      "Close/Last    0\n",
      "Volume        0\n",
      "Open          0\n",
      "High          0\n",
      "Low           0\n",
      "dtype: int64\n",
      "DATE    0\n",
      "GDP     0\n",
      "dtype: int64\n",
      "DATE                    0\n",
      "CORESTICKM159SFRBATL    0\n",
      "dtype: int64\n"
     ]
    }
   ],
   "source": [
    "# Check again for nulls after using forward fill\n",
    "print(\"Missing data after forward fill:\\n\")\n",
    "print(apple.isnull().sum())\n",
    "print(microsoft.isnull().sum())\n",
    "print(gdp.isnull().sum())\n",
    "print(inflation.isnull().sum())"
   ]
  },
  {
   "cell_type": "markdown",
   "id": "2614c615",
   "metadata": {},
   "source": [
    "## Data preprocessing: Remove special characters and convert to numeric/datetime\n",
    "\n",
    "The next step in the data engineering process is to standardize and clean up data. In this step, you'll check for odd formatting and special characters that will make it difficult to work with data as numeric or datetime. \n",
    "\n",
    "In this step:\n",
    "* Create a function that takes in a dataframe and a list of columns and removes dollar signs ('$') from those columns\n",
    "* Convert any columns with date/time data into a `pandas` `datetime` format"
   ]
  },
  {
   "cell_type": "code",
   "execution_count": 144,
   "id": "a47537af",
   "metadata": {},
   "outputs": [],
   "source": [
    "def convert_dollar_columns_to_numeric(df, numeric_columns):\n",
    "    '''\n",
    "        Removes dollar signs ('$') from a list of columns in a given dataframe AND casts the columns to a numeric datatype.\n",
    "        Updates dataframe IN PLACE.\n",
    "        \n",
    "        Inputs:\n",
    "            df: dataframe to be operated on\n",
    "            numeric_columns: columns that should have numeric data but have dollar signs currently\n",
    "            \n",
    "        Returns:\n",
    "            None - changes to the dataframe can be made in place\n",
    "    '''\n",
    "    for column in numeric_columns:\n",
    "        df[column] = df[column].replace({'\\$': '', ',': ''}, regex=True)\n",
    "        df[column] = pd.to_numeric(df[column], errors='coerce')\n",
    "    return None"
   ]
  },
  {
   "cell_type": "code",
   "execution_count": 145,
   "id": "055f8621",
   "metadata": {},
   "outputs": [],
   "source": [
    "# Use convert_dollar_columns_to_numeric() to remove the dollar sign from the Apple and Microsoft datasets\n",
    "convert_dollar_columns_to_numeric(apple, ['Close/Last', 'Open', 'High', 'Low'])\n",
    "convert_dollar_columns_to_numeric(microsoft, ['Close/Last', 'Open', 'High', 'Low'])"
   ]
  },
  {
   "cell_type": "code",
   "execution_count": 146,
   "id": "efea17ca",
   "metadata": {},
   "outputs": [],
   "source": [
    "# Use pandas's to_datetime() to convert any columns that are in a datetime format\n",
    "apple['Date'] = pd.to_datetime(apple['Date'])\n",
    "microsoft['Date'] = pd.to_datetime(microsoft['Date'])\n",
    "inflation['DATE'] = pd.to_datetime(inflation['DATE'])"
   ]
  },
  {
   "cell_type": "code",
   "execution_count": 147,
   "id": "8a2089e3",
   "metadata": {},
   "outputs": [
    {
     "name": "stdout",
     "output_type": "stream",
     "text": [
      "<class 'pandas.core.frame.DataFrame'>\n",
      "RangeIndex: 2517 entries, 0 to 2516\n",
      "Data columns (total 6 columns):\n",
      " #   Column      Non-Null Count  Dtype         \n",
      "---  ------      --------------  -----         \n",
      " 0   Date        2517 non-null   datetime64[ns]\n",
      " 1   Close/Last  2517 non-null   float64       \n",
      " 2   Volume      2517 non-null   int64         \n",
      " 3   Open        2517 non-null   float64       \n",
      " 4   High        2517 non-null   float64       \n",
      " 5   Low         2517 non-null   float64       \n",
      "dtypes: datetime64[ns](1), float64(4), int64(1)\n",
      "memory usage: 118.1 KB\n",
      "<class 'pandas.core.frame.DataFrame'>\n",
      "RangeIndex: 2517 entries, 0 to 2516\n",
      "Data columns (total 6 columns):\n",
      " #   Column      Non-Null Count  Dtype         \n",
      "---  ------      --------------  -----         \n",
      " 0   Date        2517 non-null   datetime64[ns]\n",
      " 1   Close/Last  2517 non-null   float64       \n",
      " 2   Volume      2517 non-null   int64         \n",
      " 3   Open        2517 non-null   float64       \n",
      " 4   High        2517 non-null   float64       \n",
      " 5   Low         2517 non-null   float64       \n",
      "dtypes: datetime64[ns](1), float64(4), int64(1)\n",
      "memory usage: 118.1 KB\n"
     ]
    }
   ],
   "source": [
    "# Use .info() and check the type of each column to ensure that the above steps worked\n",
    "apple.info()\n",
    "microsoft.info()"
   ]
  },
  {
   "cell_type": "code",
   "execution_count": 148,
   "id": "3d75012f",
   "metadata": {},
   "outputs": [
    {
     "data": {
      "text/html": [
       "<div>\n",
       "<style scoped>\n",
       "    .dataframe tbody tr th:only-of-type {\n",
       "        vertical-align: middle;\n",
       "    }\n",
       "\n",
       "    .dataframe tbody tr th {\n",
       "        vertical-align: top;\n",
       "    }\n",
       "\n",
       "    .dataframe thead th {\n",
       "        text-align: right;\n",
       "    }\n",
       "</style>\n",
       "<table border=\"1\" class=\"dataframe\">\n",
       "  <thead>\n",
       "    <tr style=\"text-align: right;\">\n",
       "      <th></th>\n",
       "      <th>Date</th>\n",
       "      <th>Close/Last</th>\n",
       "      <th>Volume</th>\n",
       "      <th>Open</th>\n",
       "      <th>High</th>\n",
       "      <th>Low</th>\n",
       "    </tr>\n",
       "  </thead>\n",
       "  <tbody>\n",
       "    <tr>\n",
       "      <th>0</th>\n",
       "      <td>2024-05-03</td>\n",
       "      <td>183.38</td>\n",
       "      <td>163224100</td>\n",
       "      <td>186.65</td>\n",
       "      <td>187.00</td>\n",
       "      <td>182.66</td>\n",
       "    </tr>\n",
       "    <tr>\n",
       "      <th>1</th>\n",
       "      <td>2024-05-02</td>\n",
       "      <td>173.03</td>\n",
       "      <td>94214920</td>\n",
       "      <td>172.51</td>\n",
       "      <td>173.42</td>\n",
       "      <td>170.89</td>\n",
       "    </tr>\n",
       "    <tr>\n",
       "      <th>2</th>\n",
       "      <td>2024-05-01</td>\n",
       "      <td>169.30</td>\n",
       "      <td>50383150</td>\n",
       "      <td>169.58</td>\n",
       "      <td>172.71</td>\n",
       "      <td>169.11</td>\n",
       "    </tr>\n",
       "    <tr>\n",
       "      <th>3</th>\n",
       "      <td>2024-04-30</td>\n",
       "      <td>170.33</td>\n",
       "      <td>65934780</td>\n",
       "      <td>173.33</td>\n",
       "      <td>174.99</td>\n",
       "      <td>170.00</td>\n",
       "    </tr>\n",
       "    <tr>\n",
       "      <th>4</th>\n",
       "      <td>2024-04-29</td>\n",
       "      <td>173.50</td>\n",
       "      <td>68169420</td>\n",
       "      <td>173.37</td>\n",
       "      <td>176.03</td>\n",
       "      <td>173.10</td>\n",
       "    </tr>\n",
       "  </tbody>\n",
       "</table>\n",
       "</div>"
      ],
      "text/plain": [
       "        Date  Close/Last     Volume    Open    High     Low\n",
       "0 2024-05-03      183.38  163224100  186.65  187.00  182.66\n",
       "1 2024-05-02      173.03   94214920  172.51  173.42  170.89\n",
       "2 2024-05-01      169.30   50383150  169.58  172.71  169.11\n",
       "3 2024-04-30      170.33   65934780  173.33  174.99  170.00\n",
       "4 2024-04-29      173.50   68169420  173.37  176.03  173.10"
      ]
     },
     "execution_count": 148,
     "metadata": {},
     "output_type": "execute_result"
    }
   ],
   "source": [
    "apple.head()"
   ]
  },
  {
   "cell_type": "code",
   "execution_count": 149,
   "id": "49f0bbb7",
   "metadata": {},
   "outputs": [
    {
     "data": {
      "text/html": [
       "<div>\n",
       "<style scoped>\n",
       "    .dataframe tbody tr th:only-of-type {\n",
       "        vertical-align: middle;\n",
       "    }\n",
       "\n",
       "    .dataframe tbody tr th {\n",
       "        vertical-align: top;\n",
       "    }\n",
       "\n",
       "    .dataframe thead th {\n",
       "        text-align: right;\n",
       "    }\n",
       "</style>\n",
       "<table border=\"1\" class=\"dataframe\">\n",
       "  <thead>\n",
       "    <tr style=\"text-align: right;\">\n",
       "      <th></th>\n",
       "      <th>Date</th>\n",
       "      <th>Close/Last</th>\n",
       "      <th>Volume</th>\n",
       "      <th>Open</th>\n",
       "      <th>High</th>\n",
       "      <th>Low</th>\n",
       "    </tr>\n",
       "  </thead>\n",
       "  <tbody>\n",
       "    <tr>\n",
       "      <th>0</th>\n",
       "      <td>2024-05-03</td>\n",
       "      <td>406.66</td>\n",
       "      <td>17446720</td>\n",
       "      <td>402.28</td>\n",
       "      <td>407.1500</td>\n",
       "      <td>401.8600</td>\n",
       "    </tr>\n",
       "    <tr>\n",
       "      <th>1</th>\n",
       "      <td>2024-05-02</td>\n",
       "      <td>397.84</td>\n",
       "      <td>17709360</td>\n",
       "      <td>397.66</td>\n",
       "      <td>399.9300</td>\n",
       "      <td>394.6515</td>\n",
       "    </tr>\n",
       "    <tr>\n",
       "      <th>2</th>\n",
       "      <td>2024-05-01</td>\n",
       "      <td>394.94</td>\n",
       "      <td>23562480</td>\n",
       "      <td>392.61</td>\n",
       "      <td>401.7199</td>\n",
       "      <td>390.3100</td>\n",
       "    </tr>\n",
       "    <tr>\n",
       "      <th>3</th>\n",
       "      <td>2024-04-30</td>\n",
       "      <td>389.33</td>\n",
       "      <td>28781370</td>\n",
       "      <td>401.49</td>\n",
       "      <td>402.1600</td>\n",
       "      <td>389.1700</td>\n",
       "    </tr>\n",
       "    <tr>\n",
       "      <th>4</th>\n",
       "      <td>2024-04-29</td>\n",
       "      <td>402.25</td>\n",
       "      <td>19582090</td>\n",
       "      <td>405.25</td>\n",
       "      <td>406.3200</td>\n",
       "      <td>399.1900</td>\n",
       "    </tr>\n",
       "  </tbody>\n",
       "</table>\n",
       "</div>"
      ],
      "text/plain": [
       "        Date  Close/Last    Volume    Open      High       Low\n",
       "0 2024-05-03      406.66  17446720  402.28  407.1500  401.8600\n",
       "1 2024-05-02      397.84  17709360  397.66  399.9300  394.6515\n",
       "2 2024-05-01      394.94  23562480  392.61  401.7199  390.3100\n",
       "3 2024-04-30      389.33  28781370  401.49  402.1600  389.1700\n",
       "4 2024-04-29      402.25  19582090  405.25  406.3200  399.1900"
      ]
     },
     "execution_count": 149,
     "metadata": {},
     "output_type": "execute_result"
    }
   ],
   "source": [
    "microsoft.head()"
   ]
  },
  {
   "cell_type": "markdown",
   "id": "95ad8e72",
   "metadata": {},
   "source": [
    "## Data preprocessing: Align datetime data\n",
    "\n",
    "Data engineering includes changing data with a datetime component if needed so that different time series can be more easily compared or plotted against each other. \n",
    "\n",
    "In this step:\n",
    "\n",
    "* Align the inflation date so that it falls on the last day of the month instead of the first\n",
    "\n",
    "Helpful hints: \n",
    "* Use the `pandas` `offsets` method using `MonthEnd(0)` to set the 'Date' column to month-end"
   ]
  },
  {
   "cell_type": "code",
   "execution_count": 150,
   "id": "fe782db6",
   "metadata": {},
   "outputs": [],
   "source": [
    "# Align inflation data so that the date is the month end (e.g. Jan 31, Feb 28/28)\n",
    "from pandas.tseries.offsets import MonthEnd\n",
    "inflation['DATE'] = inflation['DATE'] + MonthEnd(0)"
   ]
  },
  {
   "cell_type": "markdown",
   "id": "e072f4a1",
   "metadata": {},
   "source": [
    "## Data preprocessing: Upsample, downsample and interpolate data\n",
    "\n",
    "Inflation data is presented monthly in this dataset. However, for some models, you may need it at a quarterly frequency, and for some models you may need it at a weekly frequency. \n",
    "\n",
    "In this step:\n",
    "* Create a new quarterly inflation dataframe by downsampling the monthly inflation data to quarterly using the mean (e.g. for quarter 1 in a given year, use the average values from January, February, and March)\n",
    "* Create a new weekly inflation dataframe by upsampling the monthly inflation data. For this, you'll need to use `resample` and then you'll need to `interpolate` to fill in the missing data at the weekly frequency\n",
    "\n",
    "Note that you may need to change the index for some of these operations! "
   ]
  },
  {
   "cell_type": "code",
   "execution_count": 151,
   "id": "acfeedb6",
   "metadata": {},
   "outputs": [],
   "source": [
    "inflation.set_index('DATE', inplace=True)\n",
    "apple.set_index('Date', inplace=True)\n",
    "microsoft.set_index('Date', inplace=True)"
   ]
  },
  {
   "cell_type": "code",
   "execution_count": 152,
   "id": "28fea2f6",
   "metadata": {},
   "outputs": [
    {
     "data": {
      "text/html": [
       "<div>\n",
       "<style scoped>\n",
       "    .dataframe tbody tr th:only-of-type {\n",
       "        vertical-align: middle;\n",
       "    }\n",
       "\n",
       "    .dataframe tbody tr th {\n",
       "        vertical-align: top;\n",
       "    }\n",
       "\n",
       "    .dataframe thead th {\n",
       "        text-align: right;\n",
       "    }\n",
       "</style>\n",
       "<table border=\"1\" class=\"dataframe\">\n",
       "  <thead>\n",
       "    <tr style=\"text-align: right;\">\n",
       "      <th></th>\n",
       "      <th>CORESTICKM159SFRBATL</th>\n",
       "    </tr>\n",
       "    <tr>\n",
       "      <th>DATE</th>\n",
       "      <th></th>\n",
       "    </tr>\n",
       "  </thead>\n",
       "  <tbody>\n",
       "    <tr>\n",
       "      <th>1968-02-04</th>\n",
       "      <td>NaN</td>\n",
       "    </tr>\n",
       "    <tr>\n",
       "      <th>1968-02-11</th>\n",
       "      <td>NaN</td>\n",
       "    </tr>\n",
       "    <tr>\n",
       "      <th>1968-02-18</th>\n",
       "      <td>NaN</td>\n",
       "    </tr>\n",
       "    <tr>\n",
       "      <th>1968-02-25</th>\n",
       "      <td>NaN</td>\n",
       "    </tr>\n",
       "    <tr>\n",
       "      <th>1968-03-03</th>\n",
       "      <td>NaN</td>\n",
       "    </tr>\n",
       "    <tr>\n",
       "      <th>1968-03-10</th>\n",
       "      <td>NaN</td>\n",
       "    </tr>\n",
       "    <tr>\n",
       "      <th>1968-03-17</th>\n",
       "      <td>NaN</td>\n",
       "    </tr>\n",
       "    <tr>\n",
       "      <th>1968-03-24</th>\n",
       "      <td>NaN</td>\n",
       "    </tr>\n",
       "    <tr>\n",
       "      <th>1968-03-31</th>\n",
       "      <td>4.142164</td>\n",
       "    </tr>\n",
       "    <tr>\n",
       "      <th>1968-04-07</th>\n",
       "      <td>4.173195</td>\n",
       "    </tr>\n",
       "    <tr>\n",
       "      <th>1968-04-14</th>\n",
       "      <td>4.204226</td>\n",
       "    </tr>\n",
       "    <tr>\n",
       "      <th>1968-04-21</th>\n",
       "      <td>4.235258</td>\n",
       "    </tr>\n",
       "    <tr>\n",
       "      <th>1968-04-28</th>\n",
       "      <td>4.266289</td>\n",
       "    </tr>\n",
       "    <tr>\n",
       "      <th>1968-05-05</th>\n",
       "      <td>4.297320</td>\n",
       "    </tr>\n",
       "    <tr>\n",
       "      <th>1968-05-12</th>\n",
       "      <td>4.328351</td>\n",
       "    </tr>\n",
       "    <tr>\n",
       "      <th>1968-05-19</th>\n",
       "      <td>4.359382</td>\n",
       "    </tr>\n",
       "    <tr>\n",
       "      <th>1968-05-26</th>\n",
       "      <td>4.390413</td>\n",
       "    </tr>\n",
       "    <tr>\n",
       "      <th>1968-06-02</th>\n",
       "      <td>4.421445</td>\n",
       "    </tr>\n",
       "    <tr>\n",
       "      <th>1968-06-09</th>\n",
       "      <td>4.452476</td>\n",
       "    </tr>\n",
       "    <tr>\n",
       "      <th>1968-06-16</th>\n",
       "      <td>4.483507</td>\n",
       "    </tr>\n",
       "  </tbody>\n",
       "</table>\n",
       "</div>"
      ],
      "text/plain": [
       "            CORESTICKM159SFRBATL\n",
       "DATE                            \n",
       "1968-02-04                   NaN\n",
       "1968-02-11                   NaN\n",
       "1968-02-18                   NaN\n",
       "1968-02-25                   NaN\n",
       "1968-03-03                   NaN\n",
       "1968-03-10                   NaN\n",
       "1968-03-17                   NaN\n",
       "1968-03-24                   NaN\n",
       "1968-03-31              4.142164\n",
       "1968-04-07              4.173195\n",
       "1968-04-14              4.204226\n",
       "1968-04-21              4.235258\n",
       "1968-04-28              4.266289\n",
       "1968-05-05              4.297320\n",
       "1968-05-12              4.328351\n",
       "1968-05-19              4.359382\n",
       "1968-05-26              4.390413\n",
       "1968-06-02              4.421445\n",
       "1968-06-09              4.452476\n",
       "1968-06-16              4.483507"
      ]
     },
     "execution_count": 152,
     "metadata": {},
     "output_type": "execute_result"
    }
   ],
   "source": [
    "# Upsample and interpolate from monthly to weekly\n",
    "weekly_inflation = inflation.resample('W').interpolate()\n",
    "weekly_inflation.head(20)"
   ]
  },
  {
   "cell_type": "code",
   "execution_count": 153,
   "id": "635647a1",
   "metadata": {},
   "outputs": [],
   "source": [
    "# Downsample from monthly to quarterly\n",
    "quarterly_inflation = inflation.resample('QE').mean()"
   ]
  },
  {
   "cell_type": "markdown",
   "id": "0ea82443",
   "metadata": {},
   "source": [
    "## Data preprocessing: Normalize/standardize a feature\n",
    "\n",
    "Economic time series data often involve variables measured on different scales (e.g., GDP in trillions of dollars, inflation in percentage points). Standardizing these variables (typically by subtracting the mean and dividing by the standard deviation) puts them on a common scale, allowing for meaningful comparisons and analyses.\n",
    "\n",
    "Your task:\n",
    "* Standardize the GDP data. You may do this manually by subtracting the mean and dividing by the standard deviation, or you may use a built-in method from a library like `sklearn`'s `StandardScaler`"
   ]
  },
  {
   "cell_type": "code",
   "execution_count": 154,
   "id": "4f88d246",
   "metadata": {},
   "outputs": [
    {
     "name": "stdout",
     "output_type": "stream",
     "text": [
      "Requirement already satisfied: scikit-learn in /opt/venv/lib/python3.10/site-packages (1.6.1)\n",
      "Requirement already satisfied: numpy>=1.19.5 in /opt/venv/lib/python3.10/site-packages (from scikit-learn) (2.1.2)\n",
      "Requirement already satisfied: threadpoolctl>=3.1.0 in /opt/venv/lib/python3.10/site-packages (from scikit-learn) (3.5.0)\n",
      "Requirement already satisfied: joblib>=1.2.0 in /opt/venv/lib/python3.10/site-packages (from scikit-learn) (1.4.2)\n",
      "Requirement already satisfied: scipy>=1.6.0 in /opt/venv/lib/python3.10/site-packages (from scikit-learn) (1.15.1)\n",
      "\n",
      "\u001b[1m[\u001b[0m\u001b[34;49mnotice\u001b[0m\u001b[1;39;49m]\u001b[0m\u001b[39;49m A new release of pip is available: \u001b[0m\u001b[31;49m23.0.1\u001b[0m\u001b[39;49m -> \u001b[0m\u001b[32;49m25.0\u001b[0m\n",
      "\u001b[1m[\u001b[0m\u001b[34;49mnotice\u001b[0m\u001b[1;39;49m]\u001b[0m\u001b[39;49m To update, run: \u001b[0m\u001b[32;49mpip install --upgrade pip\u001b[0m\n"
     ]
    }
   ],
   "source": [
    "# Standardize the GDP measure\n",
    "! pip install scikit-learn\n",
    "from sklearn.preprocessing import StandardScaler\n",
    "scaler = StandardScaler()\n",
    "# Fit and transform the 'GDP' data\n",
    "gdp['GDP_standardize'] = scaler.fit_transform(gdp[['GDP']])"
   ]
  },
  {
   "cell_type": "code",
   "execution_count": 155,
   "id": "e4801c53",
   "metadata": {},
   "outputs": [
    {
     "data": {
      "text/html": [
       "<div>\n",
       "<style scoped>\n",
       "    .dataframe tbody tr th:only-of-type {\n",
       "        vertical-align: middle;\n",
       "    }\n",
       "\n",
       "    .dataframe tbody tr th {\n",
       "        vertical-align: top;\n",
       "    }\n",
       "\n",
       "    .dataframe thead th {\n",
       "        text-align: right;\n",
       "    }\n",
       "</style>\n",
       "<table border=\"1\" class=\"dataframe\">\n",
       "  <thead>\n",
       "    <tr style=\"text-align: right;\">\n",
       "      <th></th>\n",
       "      <th>DATE</th>\n",
       "      <th>GDP</th>\n",
       "      <th>GDP_standardize</th>\n",
       "    </tr>\n",
       "  </thead>\n",
       "  <tbody>\n",
       "    <tr>\n",
       "      <th>0</th>\n",
       "      <td>1947-01-01</td>\n",
       "      <td>243.164</td>\n",
       "      <td>-0.935496</td>\n",
       "    </tr>\n",
       "    <tr>\n",
       "      <th>1</th>\n",
       "      <td>1947-04-01</td>\n",
       "      <td>245.968</td>\n",
       "      <td>-0.935121</td>\n",
       "    </tr>\n",
       "    <tr>\n",
       "      <th>2</th>\n",
       "      <td>1947-07-01</td>\n",
       "      <td>249.585</td>\n",
       "      <td>-0.934636</td>\n",
       "    </tr>\n",
       "    <tr>\n",
       "      <th>3</th>\n",
       "      <td>1947-10-01</td>\n",
       "      <td>259.745</td>\n",
       "      <td>-0.933276</td>\n",
       "    </tr>\n",
       "    <tr>\n",
       "      <th>4</th>\n",
       "      <td>1948-01-01</td>\n",
       "      <td>265.742</td>\n",
       "      <td>-0.932472</td>\n",
       "    </tr>\n",
       "  </tbody>\n",
       "</table>\n",
       "</div>"
      ],
      "text/plain": [
       "         DATE      GDP  GDP_standardize\n",
       "0  1947-01-01  243.164        -0.935496\n",
       "1  1947-04-01  245.968        -0.935121\n",
       "2  1947-07-01  249.585        -0.934636\n",
       "3  1947-10-01  259.745        -0.933276\n",
       "4  1948-01-01  265.742        -0.932472"
      ]
     },
     "execution_count": 155,
     "metadata": {},
     "output_type": "execute_result"
    }
   ],
   "source": [
    "# Check the dataframe to make sure the calculation worked as expected \n",
    "gdp.head()"
   ]
  },
  {
   "cell_type": "markdown",
   "id": "1f1a89d2",
   "metadata": {},
   "source": [
    "## EDA: Plotting a time series of adjusted open vs close price\n",
    "\n",
    "As part of your EDA, you'll frequently want to plot two time series on the same graph and using the same axis to compare their movements. \n",
    "\n",
    "Your task:\n",
    "* Plot the Apple open and close price time series on the same chart **for the last three months only**. Be sure to use a legend to label each line\n",
    "\n",
    "**NOTE**: This is a large dataset. If you try to plot the entire series, your graph will be hard to interpret and may take a long time to plot. Be sure to use only the most recent three months of data. "
   ]
  },
  {
   "cell_type": "code",
   "execution_count": 156,
   "id": "9b490f9b",
   "metadata": {},
   "outputs": [
    {
     "data": {
      "text/plain": [
       "Timestamp('2024-02-03 00:00:00')"
      ]
     },
     "execution_count": 156,
     "metadata": {},
     "output_type": "execute_result"
    }
   ],
   "source": [
    "# Get max date in timeseries\n",
    "max_date = apple.index.max()\n",
    "three_months_ago = max_date - pd.DateOffset(months=3)\n",
    "three_months_ago"
   ]
  },
  {
   "cell_type": "code",
   "execution_count": 157,
   "id": "03b51a20",
   "metadata": {},
   "outputs": [
    {
     "data": {
      "text/html": [
       "<div>\n",
       "<style scoped>\n",
       "    .dataframe tbody tr th:only-of-type {\n",
       "        vertical-align: middle;\n",
       "    }\n",
       "\n",
       "    .dataframe tbody tr th {\n",
       "        vertical-align: top;\n",
       "    }\n",
       "\n",
       "    .dataframe thead th {\n",
       "        text-align: right;\n",
       "    }\n",
       "</style>\n",
       "<table border=\"1\" class=\"dataframe\">\n",
       "  <thead>\n",
       "    <tr style=\"text-align: right;\">\n",
       "      <th></th>\n",
       "      <th>Close/Last</th>\n",
       "      <th>Volume</th>\n",
       "      <th>Open</th>\n",
       "      <th>High</th>\n",
       "      <th>Low</th>\n",
       "    </tr>\n",
       "    <tr>\n",
       "      <th>Date</th>\n",
       "      <th></th>\n",
       "      <th></th>\n",
       "      <th></th>\n",
       "      <th></th>\n",
       "      <th></th>\n",
       "    </tr>\n",
       "  </thead>\n",
       "  <tbody>\n",
       "    <tr>\n",
       "      <th>2024-05-03</th>\n",
       "      <td>183.38</td>\n",
       "      <td>163224100</td>\n",
       "      <td>186.65</td>\n",
       "      <td>187.00</td>\n",
       "      <td>182.66</td>\n",
       "    </tr>\n",
       "    <tr>\n",
       "      <th>2024-05-02</th>\n",
       "      <td>173.03</td>\n",
       "      <td>94214920</td>\n",
       "      <td>172.51</td>\n",
       "      <td>173.42</td>\n",
       "      <td>170.89</td>\n",
       "    </tr>\n",
       "    <tr>\n",
       "      <th>2024-05-01</th>\n",
       "      <td>169.30</td>\n",
       "      <td>50383150</td>\n",
       "      <td>169.58</td>\n",
       "      <td>172.71</td>\n",
       "      <td>169.11</td>\n",
       "    </tr>\n",
       "    <tr>\n",
       "      <th>2024-04-30</th>\n",
       "      <td>170.33</td>\n",
       "      <td>65934780</td>\n",
       "      <td>173.33</td>\n",
       "      <td>174.99</td>\n",
       "      <td>170.00</td>\n",
       "    </tr>\n",
       "    <tr>\n",
       "      <th>2024-04-29</th>\n",
       "      <td>173.50</td>\n",
       "      <td>68169420</td>\n",
       "      <td>173.37</td>\n",
       "      <td>176.03</td>\n",
       "      <td>173.10</td>\n",
       "    </tr>\n",
       "  </tbody>\n",
       "</table>\n",
       "</div>"
      ],
      "text/plain": [
       "            Close/Last     Volume    Open    High     Low\n",
       "Date                                                     \n",
       "2024-05-03      183.38  163224100  186.65  187.00  182.66\n",
       "2024-05-02      173.03   94214920  172.51  173.42  170.89\n",
       "2024-05-01      169.30   50383150  169.58  172.71  169.11\n",
       "2024-04-30      170.33   65934780  173.33  174.99  170.00\n",
       "2024-04-29      173.50   68169420  173.37  176.03  173.10"
      ]
     },
     "execution_count": 157,
     "metadata": {},
     "output_type": "execute_result"
    }
   ],
   "source": [
    "# Use the max date calculated above to get the last three months of data in the dataset \n",
    "last_3_months_apple = apple[ apple.index >= three_months_ago ] \n",
    "last_3_months_apple.head()"
   ]
  },
  {
   "cell_type": "code",
   "execution_count": 158,
   "id": "039404e1",
   "metadata": {},
   "outputs": [
    {
     "data": {
      "image/png": "[encoded data removed]",
      "text/plain": [
       "<Figure size 1200x600 with 1 Axes>"
      ]
     },
     "metadata": {},
     "output_type": "display_data"
    }
   ],
   "source": [
    "# Plot time series of open v. close stock price for Apple using the last 3 months of data\n",
    "plt.figure(figsize=(12,6))\n",
    "plt.plot(last_3_months_apple['Open'], label='Opening Price', color='red')\n",
    "plt.plot(last_3_months_apple['Close/Last'], label='Closing Price', color='green')\n",
    "plt.xlabel('Date')\n",
    "plt.ylabel('Price')\n",
    "plt.title('Apple Stock Price')\n",
    "plt.legend()\n",
    "plt.show()"
   ]
  },
  {
   "cell_type": "markdown",
   "id": "bc0070c6",
   "metadata": {},
   "source": [
    "## EDA: Plotting a histogram of a stock's closing price in the last three months\n",
    "\n",
    "One way to see how much a stock's price generally moves is to plot the frequency of closing prices over a set time period. \n",
    "\n",
    "Your task:\n",
    "* Use the **last three months** of Apple stock data and plot a histogram of closing price"
   ]
  },
  {
   "cell_type": "code",
   "execution_count": 159,
   "id": "b48760fd",
   "metadata": {},
   "outputs": [
    {
     "data": {
      "image/png": "[encoded data removed]",
      "text/plain": [
       "<Figure size 1200x600 with 1 Axes>"
      ]
     },
     "metadata": {},
     "output_type": "display_data"
    }
   ],
   "source": [
    "# Plot the histogram of Apple's closing price over the last 3 months \n",
    "plt.figure(figsize=(12,6))\n",
    "plt.hist(last_3_months_apple['Close/Last'], bins=20, color='blue')\n",
    "plt.title('Last 3 months of Apple Stock Prices')\n",
    "plt.xlabel('Values')\n",
    "plt.ylabel('Frequency')\n",
    "plt.show()"
   ]
  },
  {
   "cell_type": "markdown",
   "id": "01e1b22c",
   "metadata": {},
   "source": [
    "## Calculating correlation between a stock price and a macroeconomic variable \n",
    "\n",
    "Inflation affects the purchasing power of money and can influence corporate profits, interest rates, and consumer behavior. By analyzing the correlation between stock prices and inflation, one can gauge how inflationary trends impact stock market performance. For instance, high inflation might erode profit margins and reduce stock prices, while moderate inflation might indicate a growing economy, benefiting stocks.\n",
    "\n",
    "Your task:\n",
    "* Plot a heatmap that shows the correlation between Microsoft and Apple returns and inflation \n",
    "\n",
    "This will require several steps:\n",
    "1. Calculate the returns for Apple and Microsoft and the change in monthly inflation (use the `pct_change` method for each)\n",
    "2. Interpolate the daily stock returns data to monthly so it can be compared to the monthly inflation data\n",
    "3. Merge the stock returns (Apple and Microsoft) and inflation data series into a single dataframe\n",
    "4. Calculate the correlation matrix between the Apple returns, Microsoft returns, and inflation change\n",
    "5. Plot the correlation matrix as a heatmap"
   ]
  },
  {
   "cell_type": "markdown",
   "id": "c38842ed",
   "metadata": {},
   "source": [
    "### 1. Calculate returns for Microsoft / Apple and the monthly change in inflation"
   ]
  },
  {
   "cell_type": "code",
   "execution_count": 160,
   "id": "a112dc12",
   "metadata": {},
   "outputs": [],
   "source": [
    "# Calculate daily returns for Apple and Microsoft and the percent change in inflation from month to month\n",
    "#fix data order before pct_change()\n",
    "apple = apple.sort_index(ascending=True)\n",
    "microsoft = microsoft.sort_index(ascending=True)\n",
    "apple['daily_returns'] = apple['Close/Last'].pct_change()\n",
    "microsoft['daily_returns'] = microsoft['Close/Last'].pct_change()\n",
    "inflation['monthly_change'] = inflation['CORESTICKM159SFRBATL'].pct_change()"
   ]
  },
  {
   "cell_type": "markdown",
   "id": "c8aa1b91",
   "metadata": {},
   "source": [
    "### 2. Interpolate stock returns from daily to monthly"
   ]
  },
  {
   "cell_type": "code",
   "execution_count": 161,
   "id": "9300a530",
   "metadata": {},
   "outputs": [],
   "source": [
    "apple_monthly_returns = (1 + apple['daily_returns']).resample('ME').prod() - 1\n",
    "microsoft_monthly_returns = (1 + microsoft['daily_returns']).resample('ME').prod() - 1\n",
    "apple_monthly_returns.name = 'apple_monthly_returns'\n",
    "microsoft_monthly_returns.name = 'microsoft_monthly_returns'"
   ]
  },
  {
   "cell_type": "markdown",
   "id": "268272e6",
   "metadata": {},
   "source": [
    "### 3. Merge the dataframes and calculate / plot the correlation"
   ]
  },
  {
   "cell_type": "code",
   "execution_count": 162,
   "id": "0defb97b",
   "metadata": {},
   "outputs": [
    {
     "data": {
      "text/html": [
       "<div>\n",
       "<style scoped>\n",
       "    .dataframe tbody tr th:only-of-type {\n",
       "        vertical-align: middle;\n",
       "    }\n",
       "\n",
       "    .dataframe tbody tr th {\n",
       "        vertical-align: top;\n",
       "    }\n",
       "\n",
       "    .dataframe thead th {\n",
       "        text-align: right;\n",
       "    }\n",
       "</style>\n",
       "<table border=\"1\" class=\"dataframe\">\n",
       "  <thead>\n",
       "    <tr style=\"text-align: right;\">\n",
       "      <th></th>\n",
       "      <th>apple_monthly_returns</th>\n",
       "      <th>microsoft_monthly_returns</th>\n",
       "      <th>Inflation_Change</th>\n",
       "    </tr>\n",
       "    <tr>\n",
       "      <th>Date</th>\n",
       "      <th></th>\n",
       "      <th></th>\n",
       "      <th></th>\n",
       "    </tr>\n",
       "  </thead>\n",
       "  <tbody>\n",
       "    <tr>\n",
       "      <th>2014-05-31</th>\n",
       "      <td>0.065002</td>\n",
       "      <td>0.048131</td>\n",
       "      <td>0.050251</td>\n",
       "    </tr>\n",
       "    <tr>\n",
       "      <th>2014-06-30</th>\n",
       "      <td>0.027421</td>\n",
       "      <td>0.018564</td>\n",
       "      <td>0.007147</td>\n",
       "    </tr>\n",
       "    <tr>\n",
       "      <th>2014-07-31</th>\n",
       "      <td>0.028842</td>\n",
       "      <td>0.035012</td>\n",
       "      <td>-0.020724</td>\n",
       "    </tr>\n",
       "    <tr>\n",
       "      <th>2014-08-31</th>\n",
       "      <td>0.072385</td>\n",
       "      <td>0.052595</td>\n",
       "      <td>-0.066387</td>\n",
       "    </tr>\n",
       "    <tr>\n",
       "      <th>2014-09-30</th>\n",
       "      <td>-0.017167</td>\n",
       "      <td>0.020471</td>\n",
       "      <td>-0.004516</td>\n",
       "    </tr>\n",
       "    <tr>\n",
       "      <th>...</th>\n",
       "      <td>...</td>\n",
       "      <td>...</td>\n",
       "      <td>...</td>\n",
       "    </tr>\n",
       "    <tr>\n",
       "      <th>2023-11-30</th>\n",
       "      <td>0.112315</td>\n",
       "      <td>0.120671</td>\n",
       "      <td>-0.039860</td>\n",
       "    </tr>\n",
       "    <tr>\n",
       "      <th>2023-12-31</th>\n",
       "      <td>0.013583</td>\n",
       "      <td>-0.007574</td>\n",
       "      <td>-0.028560</td>\n",
       "    </tr>\n",
       "    <tr>\n",
       "      <th>2024-01-31</th>\n",
       "      <td>-0.042227</td>\n",
       "      <td>0.057281</td>\n",
       "      <td>0.010874</td>\n",
       "    </tr>\n",
       "    <tr>\n",
       "      <th>2024-02-29</th>\n",
       "      <td>-0.019794</td>\n",
       "      <td>0.040394</td>\n",
       "      <td>-0.043619</td>\n",
       "    </tr>\n",
       "    <tr>\n",
       "      <th>2024-03-31</th>\n",
       "      <td>-0.051286</td>\n",
       "      <td>0.017116</td>\n",
       "      <td>0.024099</td>\n",
       "    </tr>\n",
       "  </tbody>\n",
       "</table>\n",
       "<p>119 rows × 3 columns</p>\n",
       "</div>"
      ],
      "text/plain": [
       "            apple_monthly_returns  microsoft_monthly_returns  Inflation_Change\n",
       "Date                                                                          \n",
       "2014-05-31               0.065002                   0.048131          0.050251\n",
       "2014-06-30               0.027421                   0.018564          0.007147\n",
       "2014-07-31               0.028842                   0.035012         -0.020724\n",
       "2014-08-31               0.072385                   0.052595         -0.066387\n",
       "2014-09-30              -0.017167                   0.020471         -0.004516\n",
       "...                           ...                        ...               ...\n",
       "2023-11-30               0.112315                   0.120671         -0.039860\n",
       "2023-12-31               0.013583                  -0.007574         -0.028560\n",
       "2024-01-31              -0.042227                   0.057281          0.010874\n",
       "2024-02-29              -0.019794                   0.040394         -0.043619\n",
       "2024-03-31              -0.051286                   0.017116          0.024099\n",
       "\n",
       "[119 rows x 3 columns]"
      ]
     },
     "execution_count": 162,
     "metadata": {},
     "output_type": "execute_result"
    }
   ],
   "source": [
    "merged_stock = pd.merge(apple_monthly_returns, microsoft_monthly_returns, left_index=True, right_index=True, how='left')\n",
    "merged_df = pd.merge(merged_stock, inflation['monthly_change'], left_index=True, right_index=True, how='left')\n",
    "merged_df.rename(columns={'monthly_change': 'Inflation_Change'}, inplace=True)\n",
    "merged_df.dropna(inplace=True)\n",
    "merged_df"
   ]
  },
  {
   "cell_type": "markdown",
   "id": "e1352272",
   "metadata": {},
   "source": [
    "### 4. Calculate the correlation matrix between the Apple returns, Microsoft returns, and inflation change"
   ]
  },
  {
   "cell_type": "code",
   "execution_count": 163,
   "id": "8176f9ff",
   "metadata": {},
   "outputs": [
    {
     "name": "stdout",
     "output_type": "stream",
     "text": [
      "                           apple_monthly_returns  microsoft_monthly_returns  \\\n",
      "apple_monthly_returns                   1.000000                   0.588237   \n",
      "microsoft_monthly_returns               0.588237                   1.000000   \n",
      "Inflation_Change                       -0.074699                  -0.070176   \n",
      "\n",
      "                           Inflation_Change  \n",
      "apple_monthly_returns             -0.074699  \n",
      "microsoft_monthly_returns         -0.070176  \n",
      "Inflation_Change                   1.000000  \n"
     ]
    }
   ],
   "source": [
    "# Calculate correlation matrix\n",
    "correlation_matrix = merged_df[['apple_monthly_returns', 'microsoft_monthly_returns', 'Inflation_Change']].corr()\n",
    "print(correlation_matrix)"
   ]
  },
  {
   "cell_type": "markdown",
   "id": "43b0ac07",
   "metadata": {},
   "source": [
    "### 5. Plot the correlation matrix as a heatmap "
   ]
  },
  {
   "cell_type": "code",
   "execution_count": 164,
   "id": "0f731a65",
   "metadata": {},
   "outputs": [
    {
     "data": {
      "image/png": "[encoded data removed]",
      "text/plain": [
       "<Figure size 1200x600 with 2 Axes>"
      ]
     },
     "metadata": {},
     "output_type": "display_data"
    }
   ],
   "source": [
    "# Plot heatmap\n",
    "plt.figure(figsize=(12, 6))\n",
    "sns.heatmap(correlation_matrix, annot=True, cmap='viridis', fmt='.5f', linewidths=5)\n",
    "plt.title('Correlation Matrix of Apple and Microsoft Daily Returns with Monthly Inflation Percent Change')\n",
    "plt.show()"
   ]
  },
  {
   "cell_type": "markdown",
   "id": "624a2410",
   "metadata": {},
   "source": [
    "## Calculating rolling volatility (standard deviation) of a stock's price for last 3 months\n",
    "\n",
    "Volatility is a measure of the dispersion of returns for a given security. By calculating rolling volatility, investors can assess the risk associated with a stock over time: Higher volatility indicates higher risk, as the stock's price is more likely to experience significant fluctuations. In portfolio optimization, understanding the volatility of individual stocks and how it changes over time is crucial for diversification and optimization. By analyzing rolling volatility, investors can adjust their portfolios to maintain a desired risk level, potentially improving the risk-return profile.\n",
    "\n",
    "One possible way to calculate volatility is by using the standard deviation of returns for a stock over time.\n",
    "\n",
    "Your task:\n",
    "* Calculate the weekly rolling standard deviation for Apple's closing price\n",
    "* Plot the calculated rolling weekly volatility of Apple's closing price against Apple's closing price. Plot these **on the same chart, but using different y-axes**\n",
    "\n",
    "Helpful hints:\n",
    "* You'll need to use the `pandas` `rolling()` method with a given `window_size` parameter to make it a _weekly_ rolling calculation\n",
    "* Use **only the last three months of data**; data much older than this may not be as useful for portfolio optimization\n",
    "* You'll need to create two axes on the matplotlib figure to be able to use two different y-axes (one for the closing price and one for the rolling volatility calculated here)"
   ]
  },
  {
   "cell_type": "code",
   "execution_count": 165,
   "id": "4da9eb94",
   "metadata": {},
   "outputs": [],
   "source": [
    "# Define the window size for the rolling calculation (e.g., one week)\n",
    "window_size = 5"
   ]
  },
  {
   "cell_type": "code",
   "execution_count": 166,
   "id": "2c5142b4",
   "metadata": {},
   "outputs": [],
   "source": [
    "# Calculate rolling one-week volatility\n",
    "apple['rolling_volatility'] = apple['daily_returns'].rolling(window=window_size).std()"
   ]
  },
  {
   "cell_type": "code",
   "execution_count": 167,
   "id": "cf56be19",
   "metadata": {},
   "outputs": [],
   "source": [
    "max_date = apple.index.max()\n",
    "three_months_ago = max_date - pd.DateOffset(months=3)\n",
    "last_3_months_rol_vol_apple = apple[ apple.index >= three_months_ago ]"
   ]
  },
  {
   "cell_type": "code",
   "execution_count": 168,
   "id": "92a9c0b8",
   "metadata": {},
   "outputs": [
    {
     "data": {
      "image/png": "[encoded data removed]",
      "text/plain": [
       "<Figure size 1200x600 with 2 Axes>"
      ]
     },
     "metadata": {},
     "output_type": "display_data"
    }
   ],
   "source": [
    "# Plot the calculated rolling weekly volatility of Apple's closing price against Apple's closing price\n",
    "# Plot these on the same chart, but using different y-axes\n",
    "fig, ax1 = plt.subplots(figsize=(12, 6))\n",
    "ax1.plot(last_3_months_rol_vol_apple.index, last_3_months_rol_vol_apple['Close/Last'], color='blue', label='Apple Close')\n",
    "ax1.set_xlabel('Date')\n",
    "ax1.set_ylabel('Apple Closing Price', color='blue')\n",
    "ax1.tick_params(axis='y', labelcolor='blue')\n",
    "\n",
    "ax2 = ax1.twinx()\n",
    "ax2.plot(last_3_months_rol_vol_apple.index, last_3_months_rol_vol_apple['rolling_volatility'], color='red', label='Rolling Volatility', linestyle='--')\n",
    "ax2.set_ylabel('Rolling Volatility (Std Dev)', color='red')\n",
    "ax2.tick_params(axis='y', labelcolor='red')\n",
    "\n",
    "plt.title('Apple Closing Price and Weekly Rolling Volatility')\n",
    "fig.tight_layout()\n",
    "\n",
    "plt.show()"
   ]
  },
  {
   "cell_type": "markdown",
   "id": "e2cf3c78",
   "metadata": {},
   "source": [
    "## Export data\n",
    "\n",
    "Now that you have preprocessed your data, you should save it in new csv files so that it can be used in downstream tasks without having to redo all the preprocessing steps. \n",
    "\n",
    "Your task:\n",
    "* Use `pandas` to export all modified datasets back to new CSV files"
   ]
  },
  {
   "cell_type": "code",
   "execution_count": 169,
   "id": "3d67d29c",
   "metadata": {},
   "outputs": [],
   "source": [
    "gdp.to_csv('modified_gdp.csv', index=False)\n",
    "inflation.to_csv('modified_inflation.csv', index=False)\n",
    "apple.to_csv('modified_apple.csv', index=False)\n",
    "microsoft.to_csv('modified_microsoft.csv', index=False)\n",
    "weekly_inflation.to_csv('weekly_inflation_dataset.csv', index=False)\n",
    "quarterly_inflation.to_csv('quarterly_inflation_dataset.csv', index=False)\n",
    "last_3_months_apple.to_csv('last_3_months_apple_dataset.csv', index=False)\n",
    "merged_df.to_csv('merged_stock_inflation_dataset.csv', index=False)\n",
    "last_3_months_rol_vol_apple.to_csv('last_3_months_rol_vol_apple_dataset.csv', index=False)\n",
    "apple_monthly_returns.to_csv('apple_monthly_returns_dataset.csv', index=False)\n",
    "microsoft_monthly_returns.to_csv('microsoft_monthly_returns_dataset.csv', index=False)"
   ]
  },
  {
   "cell_type": "code",
   "execution_count": null,
   "id": "ef8f0ff1",
   "metadata": {},
   "outputs": [],
   "source": []
  },
  {
   "cell_type": "code",
   "execution_count": null,
   "id": "a4176d3b",
   "metadata": {},
   "outputs": [],
   "source": []
  },
  {
   "cell_type": "code",
   "execution_count": null,
   "id": "ad16ff0a",
   "metadata": {},
   "outputs": [],
   "source": []
  }
 ],
 "metadata": {
  "kernelspec": {
   "display_name": "Python 3 (ipykernel)",
   "language": "python",
   "name": "python3"
  },
  "language_info": {
   "codemirror_mode": {
    "name": "ipython",
    "version": 3
   },
   "file_extension": ".py",
   "mimetype": "text/x-python",
   "name": "python",
   "nbconvert_exporter": "python",
   "pygments_lexer": "ipython3",
   "version": "3.10.13"
  }
 },
 "nbformat": 4,
 "nbformat_minor": 5
}
