{
 "cells": [
  {
   "cell_type": "markdown",
   "id": "b4da38ad",
   "metadata": {
    "jp-MarkdownHeadingCollapsed": true
   },
   "source": [
    "# 0. Introduction\n",
    "Welcome to the Risk-Parity Portfolio Analysis project! In this project, you'll explore the concept of risk-parity, a popular portfolio management strategy that aims to allocate investments in a way that equalizes the risk contribution of each asset. This approach is widely used by hedge funds and institutional investors to create more balanced portfolios that are less sensitive to market volatility.\n",
    "\n",
    "Throughout this project, you'll learn how to download financial data for various assets, calculate returns, and compute risk-parity weights using Python. By the end, you'll evaluate the performance of your risk-parity portfolio through key financial metrics such as annualized return, volatility, and Sharpe ratio. This hands-on experience will deepen your understanding of portfolio management and give you practical skills in financial data analysis. Whether you're new to finance or looking to enhance your quantitative finance skills, this project provides a solid foundation in risk-parity strategies and their application in real-world scenarios.\n",
    "\n",
    "## Getting Started: Tips and Instructions\n",
    "\n",
    "1. **Familiarize Yourself with the Notebook Structure:**\n",
    "   - The notebook is organized into clearly defined sections, each focusing on a specific aspect of the risk-parity portfolio analysis. Take a moment to glance through the sections to understand the overall workflow.\n",
    "\n",
    "2. **Review the Data:**\n",
    "   - Since the data is already available, start by exploring the initial few cells to understand the data structure and what each column represents. This will give you context for the calculations and analysis you'll be performing.\n",
    "\n",
    "3. **Run Cells Sequentially:**\n",
    "   - Work through the notebook by executing each code cell in order. This will help you build your analysis step by step and ensure that each part of the project is functioning as expected.\n",
    "\n",
    "4. **Experiment with Parameters:**\n",
    "   - Feel free to tweak parameters such as the rolling window size for calculating risk-parity weights or adjust the assets included in the portfolio. Experimenting will help deepen your understanding of how these factors influence portfolio performance.\n",
    "\n",
    "5. **Leverage the Plots:**\n",
    "   - Use the generated plots to visually assess the impact of your calculations. The visualizations are crucial for understanding the risk-parity approach and how different assets contribute to the portfolio.\n",
    "\n",
    "6. **Reflect:**\n",
    "   - As you work through the notebook, consider why each step is necessary and how it contributes to the overall goal of building a risk-parity portfolio. If something isn’t clear, take a moment to reflect or explore additional resources.\n",
    "\n",
    "Enjoy the process of exploring risk-parity strategies, and don't hesitate to dive deeper into the data or code to enhance your learning experience!"
   ]
  },
  {
   "cell_type": "markdown",
   "id": "c6dc699e",
   "metadata": {},
   "source": [
    "# 1. Import Libraries"
   ]
  },
  {
   "cell_type": "code",
   "execution_count": 1,
   "id": "1aa05430",
   "metadata": {},
   "outputs": [],
   "source": [
    "# Load necessary libraries\n",
    "\n",
    "import pandas as pd\n",
    "import numpy as np\n",
    "import yfinance as yf\n",
    "import matplotlib.pyplot as plt\n",
    "import matplotlib.dates as mdates\n",
    "import matplotlib.ticker as ticker\n",
    "import time\n",
    "import datetime\n",
    "import requests\n",
    "\n",
    "\n",
    "\n"
   ]
  },
  {
   "cell_type": "markdown",
   "id": "8c4a4a35",
   "metadata": {},
   "source": [
    "# 2. Download Financial Data\n",
    "We will download front-month futures data for S&P500, 10-year Treasuries, gold, and US dollar using the `yfinance` library."
   ]
  },
  {
   "cell_type": "code",
   "execution_count": 3,
   "id": "fa831031",
   "metadata": {},
   "outputs": [
    {
     "data": {
      "text/html": [
       "<div>\n",
       "<style scoped>\n",
       "    .dataframe tbody tr th:only-of-type {\n",
       "        vertical-align: middle;\n",
       "    }\n",
       "\n",
       "    .dataframe tbody tr th {\n",
       "        vertical-align: top;\n",
       "    }\n",
       "\n",
       "    .dataframe thead th {\n",
       "        text-align: right;\n",
       "    }\n",
       "</style>\n",
       "<table border=\"1\" class=\"dataframe\">\n",
       "  <thead>\n",
       "    <tr style=\"text-align: right;\">\n",
       "      <th></th>\n",
       "      <th>observation_date</th>\n",
       "      <th>BAMLHYH0A0HYM2TRIV</th>\n",
       "    </tr>\n",
       "  </thead>\n",
       "  <tbody>\n",
       "    <tr>\n",
       "      <th>0</th>\n",
       "      <td>2015-05-29</td>\n",
       "      <td>1090.76</td>\n",
       "    </tr>\n",
       "    <tr>\n",
       "      <th>1</th>\n",
       "      <td>2015-05-31</td>\n",
       "      <td>1090.96</td>\n",
       "    </tr>\n",
       "    <tr>\n",
       "      <th>2</th>\n",
       "      <td>2015-06-01</td>\n",
       "      <td>1090.63</td>\n",
       "    </tr>\n",
       "    <tr>\n",
       "      <th>3</th>\n",
       "      <td>2015-06-02</td>\n",
       "      <td>1089.63</td>\n",
       "    </tr>\n",
       "    <tr>\n",
       "      <th>4</th>\n",
       "      <td>2015-06-03</td>\n",
       "      <td>1087.95</td>\n",
       "    </tr>\n",
       "  </tbody>\n",
       "</table>\n",
       "</div>"
      ],
      "text/plain": [
       "  observation_date  BAMLHYH0A0HYM2TRIV\n",
       "0       2015-05-29             1090.76\n",
       "1       2015-05-31             1090.96\n",
       "2       2015-06-01             1090.63\n",
       "3       2015-06-02             1089.63\n",
       "4       2015-06-03             1087.95"
      ]
     },
     "execution_count": 3,
     "metadata": {},
     "output_type": "execute_result"
    }
   ],
   "source": [
    "#Data\n",
    "data1 = pd.read_csv('BAMLHYH0A0HYM2TRIV.csv')\n",
    "data1.head()"
   ]
  },
  {
   "cell_type": "code",
   "execution_count": 5,
   "id": "fa1cbcab-007b-41b9-a30c-ca5339e10c62",
   "metadata": {},
   "outputs": [
    {
     "data": {
      "text/html": [
       "<div>\n",
       "<style scoped>\n",
       "    .dataframe tbody tr th:only-of-type {\n",
       "        vertical-align: middle;\n",
       "    }\n",
       "\n",
       "    .dataframe tbody tr th {\n",
       "        vertical-align: top;\n",
       "    }\n",
       "\n",
       "    .dataframe thead th {\n",
       "        text-align: right;\n",
       "    }\n",
       "</style>\n",
       "<table border=\"1\" class=\"dataframe\">\n",
       "  <thead>\n",
       "    <tr style=\"text-align: right;\">\n",
       "      <th></th>\n",
       "      <th>observation_date</th>\n",
       "      <th>SP500</th>\n",
       "    </tr>\n",
       "  </thead>\n",
       "  <tbody>\n",
       "    <tr>\n",
       "      <th>0</th>\n",
       "      <td>2015-06-01</td>\n",
       "      <td>2111.73</td>\n",
       "    </tr>\n",
       "    <tr>\n",
       "      <th>1</th>\n",
       "      <td>2015-06-02</td>\n",
       "      <td>2109.60</td>\n",
       "    </tr>\n",
       "    <tr>\n",
       "      <th>2</th>\n",
       "      <td>2015-06-03</td>\n",
       "      <td>2114.07</td>\n",
       "    </tr>\n",
       "    <tr>\n",
       "      <th>3</th>\n",
       "      <td>2015-06-04</td>\n",
       "      <td>2095.84</td>\n",
       "    </tr>\n",
       "    <tr>\n",
       "      <th>4</th>\n",
       "      <td>2015-06-05</td>\n",
       "      <td>2092.83</td>\n",
       "    </tr>\n",
       "  </tbody>\n",
       "</table>\n",
       "</div>"
      ],
      "text/plain": [
       "  observation_date    SP500\n",
       "0       2015-06-01  2111.73\n",
       "1       2015-06-02  2109.60\n",
       "2       2015-06-03  2114.07\n",
       "3       2015-06-04  2095.84\n",
       "4       2015-06-05  2092.83"
      ]
     },
     "execution_count": 5,
     "metadata": {},
     "output_type": "execute_result"
    }
   ],
   "source": [
    "data2 = pd.read_csv('SP500.csv')\n",
    "data2.head()"
   ]
  },
  {
   "cell_type": "code",
   "execution_count": 7,
   "id": "f7bc1c30-3fb7-4116-ac92-b69a6d96531a",
   "metadata": {},
   "outputs": [],
   "source": [
    "data = pd.merge(data1, data2, on='observation_date', how='inner')"
   ]
  },
  {
   "cell_type": "code",
   "execution_count": 9,
   "id": "8e89709b-c557-42d8-b906-00387adc613d",
   "metadata": {},
   "outputs": [
    {
     "data": {
      "text/html": [
       "<div>\n",
       "<style scoped>\n",
       "    .dataframe tbody tr th:only-of-type {\n",
       "        vertical-align: middle;\n",
       "    }\n",
       "\n",
       "    .dataframe tbody tr th {\n",
       "        vertical-align: top;\n",
       "    }\n",
       "\n",
       "    .dataframe thead th {\n",
       "        text-align: right;\n",
       "    }\n",
       "</style>\n",
       "<table border=\"1\" class=\"dataframe\">\n",
       "  <thead>\n",
       "    <tr style=\"text-align: right;\">\n",
       "      <th></th>\n",
       "      <th>observation_date</th>\n",
       "      <th>BAMLHYH0A0HYM2TRIV</th>\n",
       "      <th>SP500</th>\n",
       "    </tr>\n",
       "  </thead>\n",
       "  <tbody>\n",
       "    <tr>\n",
       "      <th>0</th>\n",
       "      <td>2015-06-01</td>\n",
       "      <td>1090.63</td>\n",
       "      <td>2111.73</td>\n",
       "    </tr>\n",
       "    <tr>\n",
       "      <th>1</th>\n",
       "      <td>2015-06-02</td>\n",
       "      <td>1089.63</td>\n",
       "      <td>2109.60</td>\n",
       "    </tr>\n",
       "    <tr>\n",
       "      <th>2</th>\n",
       "      <td>2015-06-03</td>\n",
       "      <td>1087.95</td>\n",
       "      <td>2114.07</td>\n",
       "    </tr>\n",
       "    <tr>\n",
       "      <th>3</th>\n",
       "      <td>2015-06-04</td>\n",
       "      <td>1085.99</td>\n",
       "      <td>2095.84</td>\n",
       "    </tr>\n",
       "    <tr>\n",
       "      <th>4</th>\n",
       "      <td>2015-06-05</td>\n",
       "      <td>1082.70</td>\n",
       "      <td>2092.83</td>\n",
       "    </tr>\n",
       "  </tbody>\n",
       "</table>\n",
       "</div>"
      ],
      "text/plain": [
       "  observation_date  BAMLHYH0A0HYM2TRIV    SP500\n",
       "0       2015-06-01             1090.63  2111.73\n",
       "1       2015-06-02             1089.63  2109.60\n",
       "2       2015-06-03             1087.95  2114.07\n",
       "3       2015-06-04             1085.99  2095.84\n",
       "4       2015-06-05             1082.70  2092.83"
      ]
     },
     "execution_count": 9,
     "metadata": {},
     "output_type": "execute_result"
    }
   ],
   "source": [
    "data.head()"
   ]
  },
  {
   "cell_type": "code",
   "execution_count": 11,
   "id": "7bb2daed-2100-45dc-a5ae-3568d4c5086f",
   "metadata": {},
   "outputs": [
    {
     "data": {
      "text/html": [
       "<div>\n",
       "<style scoped>\n",
       "    .dataframe tbody tr th:only-of-type {\n",
       "        vertical-align: middle;\n",
       "    }\n",
       "\n",
       "    .dataframe tbody tr th {\n",
       "        vertical-align: top;\n",
       "    }\n",
       "\n",
       "    .dataframe thead th {\n",
       "        text-align: right;\n",
       "    }\n",
       "</style>\n",
       "<table border=\"1\" class=\"dataframe\">\n",
       "  <thead>\n",
       "    <tr style=\"text-align: right;\">\n",
       "      <th></th>\n",
       "      <th>observation_date</th>\n",
       "      <th>BAMLHYH0A0HYM2TRIV</th>\n",
       "      <th>SP500</th>\n",
       "      <th>Date</th>\n",
       "    </tr>\n",
       "  </thead>\n",
       "  <tbody>\n",
       "    <tr>\n",
       "      <th>0</th>\n",
       "      <td>2015-06-01</td>\n",
       "      <td>1090.63</td>\n",
       "      <td>2111.73</td>\n",
       "      <td>2015-06-01</td>\n",
       "    </tr>\n",
       "    <tr>\n",
       "      <th>1</th>\n",
       "      <td>2015-06-02</td>\n",
       "      <td>1089.63</td>\n",
       "      <td>2109.60</td>\n",
       "      <td>2015-06-02</td>\n",
       "    </tr>\n",
       "    <tr>\n",
       "      <th>2</th>\n",
       "      <td>2015-06-03</td>\n",
       "      <td>1087.95</td>\n",
       "      <td>2114.07</td>\n",
       "      <td>2015-06-03</td>\n",
       "    </tr>\n",
       "    <tr>\n",
       "      <th>3</th>\n",
       "      <td>2015-06-04</td>\n",
       "      <td>1085.99</td>\n",
       "      <td>2095.84</td>\n",
       "      <td>2015-06-04</td>\n",
       "    </tr>\n",
       "    <tr>\n",
       "      <th>4</th>\n",
       "      <td>2015-06-05</td>\n",
       "      <td>1082.70</td>\n",
       "      <td>2092.83</td>\n",
       "      <td>2015-06-05</td>\n",
       "    </tr>\n",
       "  </tbody>\n",
       "</table>\n",
       "</div>"
      ],
      "text/plain": [
       "  observation_date  BAMLHYH0A0HYM2TRIV    SP500        Date\n",
       "0       2015-06-01             1090.63  2111.73  2015-06-01\n",
       "1       2015-06-02             1089.63  2109.60  2015-06-02\n",
       "2       2015-06-03             1087.95  2114.07  2015-06-03\n",
       "3       2015-06-04             1085.99  2095.84  2015-06-04\n",
       "4       2015-06-05             1082.70  2092.83  2015-06-05"
      ]
     },
     "execution_count": 11,
     "metadata": {},
     "output_type": "execute_result"
    }
   ],
   "source": [
    "data['Date']= data['observation_date']\n",
    "data.head()\n"
   ]
  },
  {
   "cell_type": "code",
   "execution_count": 13,
   "id": "e86858a1-227b-4453-b74e-0bf818aaa111",
   "metadata": {},
   "outputs": [
    {
     "data": {
      "text/html": [
       "<div>\n",
       "<style scoped>\n",
       "    .dataframe tbody tr th:only-of-type {\n",
       "        vertical-align: middle;\n",
       "    }\n",
       "\n",
       "    .dataframe tbody tr th {\n",
       "        vertical-align: top;\n",
       "    }\n",
       "\n",
       "    .dataframe thead th {\n",
       "        text-align: right;\n",
       "    }\n",
       "</style>\n",
       "<table border=\"1\" class=\"dataframe\">\n",
       "  <thead>\n",
       "    <tr style=\"text-align: right;\">\n",
       "      <th></th>\n",
       "      <th>BAMLHYH0A0HYM2TRIV</th>\n",
       "      <th>SP500</th>\n",
       "      <th>Date</th>\n",
       "    </tr>\n",
       "  </thead>\n",
       "  <tbody>\n",
       "    <tr>\n",
       "      <th>0</th>\n",
       "      <td>1090.63</td>\n",
       "      <td>2111.73</td>\n",
       "      <td>2015-06-01</td>\n",
       "    </tr>\n",
       "    <tr>\n",
       "      <th>1</th>\n",
       "      <td>1089.63</td>\n",
       "      <td>2109.60</td>\n",
       "      <td>2015-06-02</td>\n",
       "    </tr>\n",
       "    <tr>\n",
       "      <th>2</th>\n",
       "      <td>1087.95</td>\n",
       "      <td>2114.07</td>\n",
       "      <td>2015-06-03</td>\n",
       "    </tr>\n",
       "    <tr>\n",
       "      <th>3</th>\n",
       "      <td>1085.99</td>\n",
       "      <td>2095.84</td>\n",
       "      <td>2015-06-04</td>\n",
       "    </tr>\n",
       "    <tr>\n",
       "      <th>4</th>\n",
       "      <td>1082.70</td>\n",
       "      <td>2092.83</td>\n",
       "      <td>2015-06-05</td>\n",
       "    </tr>\n",
       "  </tbody>\n",
       "</table>\n",
       "</div>"
      ],
      "text/plain": [
       "   BAMLHYH0A0HYM2TRIV    SP500        Date\n",
       "0             1090.63  2111.73  2015-06-01\n",
       "1             1089.63  2109.60  2015-06-02\n",
       "2             1087.95  2114.07  2015-06-03\n",
       "3             1085.99  2095.84  2015-06-04\n",
       "4             1082.70  2092.83  2015-06-05"
      ]
     },
     "execution_count": 13,
     "metadata": {},
     "output_type": "execute_result"
    }
   ],
   "source": [
    "data = data.drop('observation_date', axis =1 )\n",
    "data.head()"
   ]
  },
  {
   "cell_type": "markdown",
   "id": "189bc851",
   "metadata": {},
   "source": [
    "### 3. Resample Data\n",
    "\n",
    "In this section, we aim to reduce the noise in the daily financial data by resampling it to a monthly frequency. Resampling is a common technique in time series analysis, allowing us to aggregate data points over a specified time period. This helps in smoothing out short-term fluctuations and making the data more manageable for analysis.\n"
   ]
  },
  {
   "cell_type": "code",
   "execution_count": 15,
   "id": "aedbfa86",
   "metadata": {},
   "outputs": [
    {
     "name": "stderr",
     "output_type": "stream",
     "text": [
      "/var/folders/rj/74d5tm_56lz0_syp098gv5d80000gn/T/ipykernel_29229/4117317822.py:4: FutureWarning: 'M' is deprecated and will be removed in a future version, please use 'ME' instead.\n",
      "  data = data.resample('M').last()\n"
     ]
    }
   ],
   "source": [
    "# Resample data to monthly frequency\n",
    "data['Date'] = pd.to_datetime(data['Date'])\n",
    "data.set_index('Date', inplace=True)\n",
    "data = data.resample('M').last()"
   ]
  },
  {
   "cell_type": "code",
   "execution_count": 17,
   "id": "2fde1fc6-d0a2-45f1-913a-a1c4fbec7a0f",
   "metadata": {},
   "outputs": [
    {
     "data": {
      "text/html": [
       "<div>\n",
       "<style scoped>\n",
       "    .dataframe tbody tr th:only-of-type {\n",
       "        vertical-align: middle;\n",
       "    }\n",
       "\n",
       "    .dataframe tbody tr th {\n",
       "        vertical-align: top;\n",
       "    }\n",
       "\n",
       "    .dataframe thead th {\n",
       "        text-align: right;\n",
       "    }\n",
       "</style>\n",
       "<table border=\"1\" class=\"dataframe\">\n",
       "  <thead>\n",
       "    <tr style=\"text-align: right;\">\n",
       "      <th></th>\n",
       "      <th>BAMLHYH0A0HYM2TRIV</th>\n",
       "      <th>SP500</th>\n",
       "    </tr>\n",
       "    <tr>\n",
       "      <th>Date</th>\n",
       "      <th></th>\n",
       "      <th></th>\n",
       "    </tr>\n",
       "  </thead>\n",
       "  <tbody>\n",
       "    <tr>\n",
       "      <th>2015-06-30</th>\n",
       "      <td>1074.32</td>\n",
       "      <td>2063.11</td>\n",
       "    </tr>\n",
       "    <tr>\n",
       "      <th>2015-07-31</th>\n",
       "      <td>1067.71</td>\n",
       "      <td>2103.84</td>\n",
       "    </tr>\n",
       "    <tr>\n",
       "      <th>2015-08-31</th>\n",
       "      <td>1048.90</td>\n",
       "      <td>1972.18</td>\n",
       "    </tr>\n",
       "    <tr>\n",
       "      <th>2015-09-30</th>\n",
       "      <td>1021.69</td>\n",
       "      <td>1920.03</td>\n",
       "    </tr>\n",
       "    <tr>\n",
       "      <th>2015-10-31</th>\n",
       "      <td>1049.54</td>\n",
       "      <td>2079.36</td>\n",
       "    </tr>\n",
       "  </tbody>\n",
       "</table>\n",
       "</div>"
      ],
      "text/plain": [
       "            BAMLHYH0A0HYM2TRIV    SP500\n",
       "Date                                   \n",
       "2015-06-30             1074.32  2063.11\n",
       "2015-07-31             1067.71  2103.84\n",
       "2015-08-31             1048.90  1972.18\n",
       "2015-09-30             1021.69  1920.03\n",
       "2015-10-31             1049.54  2079.36"
      ]
     },
     "execution_count": 17,
     "metadata": {},
     "output_type": "execute_result"
    }
   ],
   "source": [
    "data.head()"
   ]
  },
  {
   "cell_type": "code",
   "execution_count": 19,
   "id": "b69ef9b7-c221-4a06-a9f6-55e7d9d81d29",
   "metadata": {},
   "outputs": [
    {
     "data": {
      "text/plain": [
       "BAMLHYH0A0HYM2TRIV    0\n",
       "SP500                 0\n",
       "dtype: int64"
      ]
     },
     "execution_count": 19,
     "metadata": {},
     "output_type": "execute_result"
    }
   ],
   "source": [
    "data.isna().sum()"
   ]
  },
  {
   "cell_type": "markdown",
   "id": "052a4fab-aa9d-4945-80bb-876bd2418f9f",
   "metadata": {
    "jp-MarkdownHeadingCollapsed": true
   },
   "source": [
    "### 4. Clean and Prepare Data\n",
    "\n",
    "In this step, we will focus on extracting the relevant data, handling missing values, and ensuring the data is ready for analysis. Specifically, we'll subset the adjusted close prices from our dataset, fill any missing values, and drop rows with unknown prices.\n",
    "\n",
    "#### Steps to Clean and Prepare Data\n",
    "\n",
    "1. **Subset Adjusted Close Prices**     \n",
    "2. **Fill Missing Values (NaNs)**\n",
    "3. **Drop Rows with Remaining NaNs**\n",
    "4. **Ensure Correct Date Formatting**\n",
    "\n",
    "By following these steps, we will have a clean dataset of adjusted close prices that is free of missing values and properly formatted for time series analysis.\n"
   ]
  },
  {
   "cell_type": "code",
   "execution_count": null,
   "id": "b0ebfafd",
   "metadata": {},
   "outputs": [],
   "source": [
    "# Subset adjusted close prices\n",
    "prices = data['Close/Last']\n",
    "# Convert index to datetime\n",
    "prices.index = pd.to_datetime(prices.index)"
   ]
  },
  {
   "cell_type": "code",
   "execution_count": null,
   "id": "07f745df",
   "metadata": {},
   "outputs": [],
   "source": [
    "print(prices)"
   ]
  },
  {
   "cell_type": "code",
   "execution_count": null,
   "id": "a74a8a08",
   "metadata": {},
   "outputs": [],
   "source": [
    "prices.plot()\n",
    "plt.show()"
   ]
  },
  {
   "cell_type": "code",
   "execution_count": null,
   "id": "63d62f03",
   "metadata": {},
   "outputs": [],
   "source": [
    "prices.plot()\n",
    "plt.yscale(\"log\")\n",
    "plt.show()"
   ]
  },
  {
   "cell_type": "markdown",
   "id": "b2f718a0",
   "metadata": {},
   "source": [
    "### 5. Calculate Returns\n",
    "\n",
    "In financial analysis, one of the key metrics is the return on an investment, which shows how much the price of an asset has increased or decreased over a certain period. We will calculate the **arithmetic returns** of the adjusted close prices to measure this change over time.\n",
    "\n",
    "#### Steps to Calculate Arithmetic Returns\n",
    "\n",
    "1. **Understanding Arithmetic Returns:**\n",
    "   - Arithmetic returns measure the percentage change in the price of an asset from one period to the next. \n",
    "   - The formula for calculating the arithmetic return for a given period is:\n",
    "\n",
    "     $\n",
    "     R_t = \\frac{P_t - P_{t-1}}{P_{t-1}}\n",
    "     $\n",
    "     \n",
    "     where:\n",
    "     - $ R_t $ is the return at time $ t $,\n",
    "     - $ P_t $ is the price at time $ t $,\n",
    "     - $ P_{t-1} $ is the price at the previous time period.\n",
    "\n",
    "   - This formula can be simplified to:\n",
    "     $\n",
    "     R_t = \\frac{P_t}{P_{t-1}} - 1\n",
    "     $\n",
    "   - However, in practice, it is common to use the percentage change function provided by Pandas, which handles this calculation efficiently.\n",
    "\n",
    "2. **Calculate Percentage Change**\n",
    "3. **Handle Missing Values:**\n",
    "\n",
    "By following these steps, we will have a series of arithmetic returns that represent the day-to-day percentage changes in the asset's price, which can be used for further analysis such as calculating cumulative returns, volatility, or risk metrics.\n"
   ]
  },
  {
   "cell_type": "code",
   "execution_count": 21,
   "id": "85eb7ff4",
   "metadata": {},
   "outputs": [],
   "source": [
    "# Compute arithmetic returns\n",
    "returns = data.pct_change()"
   ]
  },
  {
   "cell_type": "code",
   "execution_count": 23,
   "id": "a56b10be",
   "metadata": {},
   "outputs": [
    {
     "name": "stdout",
     "output_type": "stream",
     "text": [
      "            BAMLHYH0A0HYM2TRIV     SP500\n",
      "Date                                    \n",
      "2015-06-30                 NaN       NaN\n",
      "2015-07-31           -0.006153  0.019742\n",
      "2015-08-31           -0.017617 -0.062581\n",
      "2015-09-30           -0.025941 -0.026443\n",
      "2015-10-31            0.027259  0.082983\n",
      "...                        ...       ...\n",
      "2025-01-31            0.013808  0.027016\n",
      "2025-02-28            0.006500 -0.014242\n",
      "2025-03-31           -0.010736 -0.057545\n",
      "2025-04-30            0.000023 -0.007625\n",
      "2025-05-31            0.016839  0.061610\n",
      "\n",
      "[120 rows x 2 columns]\n"
     ]
    }
   ],
   "source": [
    "print(returns)"
   ]
  },
  {
   "cell_type": "code",
   "execution_count": 25,
   "id": "cc6f660e-6318-4075-a901-5ef0d960c68e",
   "metadata": {},
   "outputs": [
    {
     "name": "stdout",
     "output_type": "stream",
     "text": [
      "<class 'pandas.core.frame.DataFrame'>\n"
     ]
    }
   ],
   "source": [
    "print(type(returns))"
   ]
  },
  {
   "cell_type": "markdown",
   "id": "60e8526a",
   "metadata": {},
   "source": [
    "### 6. Compute Risk-Parity Weights\n",
    "\n",
    "Risk-parity is an investment strategy that seeks to allocate portfolio weights in a way that each asset contributes equally to the overall portfolio risk. This method is especially useful in diversifying risk across different assets with varying levels of volatility.\n",
    "\n",
    "#### Steps to Compute Risk-Parity Weights\n",
    "\n",
    "1. **Understanding Risk-Parity:**\n",
    "   - The idea behind risk-parity is to allocate more weight to less volatile assets and less weight to more volatile assets, thereby equalizing the risk contribution of each asset in the portfolio.\n",
    "   - The weight of each asset in the portfolio is inversely proportional to its volatility.\n",
    "\n",
    "2. **Calculate Rolling Volatility:**\n",
    "   - Volatility is a statistical measure of the dispersion of returns for a given security or market index.\n",
    "     \n",
    "3. **Compute Inverse Volatility:**\n",
    "4. **Normalize Weights:**\n",
    "   - Once we have the inverse volatilities, we normalize them so that the sum of the weights for each time period equals 1. This ensures that we have a proper weight distribution across assets.\n",
    "   - We achieve this by dividing the inverse volatility of each asset by the sum of the inverse volatilities across all assets for each time period.\n",
    "     \n",
    "5. **Shift Weights for Practical Application:**\n",
    "   - In a real-world scenario, we can only make investment decisions based on information that is available at the time of making the decision. Therefore, we shift the computed weights by one period to ensure that the weights at time $ t $ are based on data up to $ t-1 $.      - This shift ensures that the weights applied are based on historical data up to the previous period, which is crucial for avoiding look-ahead bias.\n",
    "\n",
    "By following these steps, we generate a time series of risk-parity weights that can be used to allocate assets in a way that balances the risk across the portfolio. The resulting weights adapt dynamically based on the rolling volatility, ensuring that each asset contributes equally to the overall risk over time.\n"
   ]
  },
  {
   "cell_type": "code",
   "execution_count": 27,
   "id": "d7557879",
   "metadata": {},
   "outputs": [],
   "source": [
    "def compute_risk_parity_weights(returns, window_size=36):\n",
    "    # Compute volatility known at time t\n",
    "    rolling_vol = returns.rolling(36).std()\n",
    "    rolling_inverse_vol = 1/rolling_vol\n",
    "    # Divide inverse volatility by the sum of inverse volatilities\n",
    "    risk_parity_weights = rolling_inverse_vol.apply(lambda x: x/x.sum(), axis=1)\n",
    "    # Shift weights by one period to use only information available at time t\n",
    "    risk_parity_weights = risk_parity_weights.shift(1)\n",
    "    return risk_parity_weights\n",
    "\n",
    "risk_parity_weights = compute_risk_parity_weights(returns, 36)"
   ]
  },
  {
   "cell_type": "code",
   "execution_count": 29,
   "id": "557075b0",
   "metadata": {},
   "outputs": [
    {
     "data": {
      "image/png": "[encoded data removed]",
      "text/plain": [
       "<Figure size 640x480 with 1 Axes>"
      ]
     },
     "metadata": {},
     "output_type": "display_data"
    }
   ],
   "source": [
    "risk_parity_weights.plot()\n",
    "plt.show()"
   ]
  },
  {
   "cell_type": "markdown",
   "id": "714c77a8",
   "metadata": {},
   "source": [
    "### 7. Calculate Weighted Returns\n",
    "\n",
    "Once we have determined the risk-parity weights, the next step is to calculate the weighted returns for each asset and then aggregate them to obtain the portfolio returns. This process allows us to understand how the risk-parity allocation strategy would have performed over time.\n",
    "\n",
    "#### Steps to Calculate Weighted Returns\n",
    "\n",
    "1. **Understanding Weighted Returns:**\n",
    "   - The weighted return of an asset is calculated by multiplying its individual return by the corresponding weight in the portfolio. \n",
    "   - The total portfolio return at any given time is the sum of the weighted returns of all assets.\n",
    "\n",
    "2. **Apply Weights to Returns:**\n",
    "   - We will multiply the returns of each asset by its corresponding risk-parity weight for each time period. This will give us the weighted return for each asset.\n",
    "3. **Handle Missing Data:**\n",
    "   - We drop any rows with missing values (`NaN`) that may result from the multiplication process. This ensures that we only consider time periods with complete data.\n",
    "4. **Aggregate Weighted Returns:**\n",
    "   - To calculate the portfolio's return at each time period, sum the weighted returns across all assets. This gives the overall return of the portfolio for each time period.\n",
    "\n",
    "#### Mathematical Representation:\n",
    "\n",
    "Given the returns $ r_{i,t} $ for asset $ i $ at time $ t $, and the risk-parity weight $ w_{i,t} $ for asset $ i $ at time $ t $, the weighted return for asset $ i $ at time $ t $ is:\n",
    "\n",
    "$ r_{i,t}^{weighted} = r_{i,t} \\times w_{i,t} $\n",
    "\n",
    "The total portfolio return at time $ t $ is the sum of the weighted returns for all assets:\n",
    "\n",
    "$\n",
    "R_{portfolio,t} = \\sum_{i=1}^{n} r_{i,t}^{weighted}\n",
    "$\n",
    "\n",
    "Where $ n $ is the number of assets in the portfolio.\n",
    "\n",
    "By following these steps, we obtain the portfolio returns that reflect the performance of the risk-parity strategy over time. This provides insights into how well the strategy balanced risk across different market conditions.\n"
   ]
  },
  {
   "cell_type": "code",
   "execution_count": 31,
   "id": "abd06b6d",
   "metadata": {},
   "outputs": [],
   "source": [
    "# Calculate weighted returns\n",
    "weighted_returns = returns * risk_parity_weights\n",
    "risk_parity_portfolio_returns = weighted_returns.sum(axis=1)"
   ]
  },
  {
   "cell_type": "code",
   "execution_count": 33,
   "id": "0210dda0",
   "metadata": {},
   "outputs": [
    {
     "name": "stdout",
     "output_type": "stream",
     "text": [
      "Date\n",
      "2015-06-30    0.000000\n",
      "2015-07-31    0.000000\n",
      "2015-08-31    0.000000\n",
      "2015-09-30    0.000000\n",
      "2015-10-31    0.000000\n",
      "                ...   \n",
      "2025-01-31    0.018169\n",
      "2025-02-28   -0.000345\n",
      "2025-03-31   -0.026210\n",
      "2025-04-30   -0.002471\n",
      "2025-05-31    0.031555\n",
      "Freq: ME, Length: 120, dtype: float64\n"
     ]
    }
   ],
   "source": [
    "print(risk_parity_portfolio_returns)"
   ]
  },
  {
   "cell_type": "markdown",
   "id": "bfee09a6",
   "metadata": {},
   "source": [
    "### 8. Evaluate Portfolio Performance\n",
    "\n",
    "To assess the performance of the risk-parity portfolio, we will compute several key financial metrics. These metrics will help us understand the portfolio's return, risk, and overall performance characteristics. Below are the details of the metrics we will calculate, along with the functions used and their corresponding arguments.\n",
    "\n",
    "1. **Annualized Mean Return**\n",
    "   - **Description:** The average return of the portfolio on an annual basis. This is useful for understanding the long-term growth rate of the portfolio.\n",
    "2. **Annualized Volatility**\n",
    "   - **Description:** A measure of the portfolio's return volatility on an annual basis, indicating the degree of variation in returns.\n",
    "   - **Formula:** \n",
    "     $\n",
    "     \\text{Annualized Volatility} = \\text{Standard Deviation of Monthly Returns} \\times \\sqrt{12}\n",
    "     $\n",
    "3. **Skewness**\n",
    "   - **Description:** Skewness measures the asymmetry of the return distribution. Positive skewness indicates a distribution with a longer right tail, while negative skewness indicates a longer left tail.\n",
    "4. **Kurtosis**\n",
    "   - **Description:** Kurtosis measures the \"tailedness\" of the return distribution. High kurtosis indicates a distribution with heavy tails and a sharp peak.\n",
    "5. **Maximum Drawdown**\n",
    "   - **Description:** The maximum observed loss from a peak to a trough of the portfolio's cumulative returns, before a new peak is attained.\n",
    "   - **Formula:** \n",
    "     $\n",
    "     \\text{Drawdown} = \\frac{\\text{Cumulative Return} - \\text{Running Maximum}}{\\text{Running Maximum}}\n",
    "     $\n",
    "6. **Sharpe Ratio**\n",
    "   - **Description:** The Sharpe Ratio measures the risk-adjusted return of the portfolio, calculated as the ratio of the portfolio's excess return (over the risk-free rate, typically assumed to be 0 in this case) to its volatility.\n",
    "   - **Formula:** \n",
    "     $\n",
    "     \\text{Sharpe Ratio} = \\frac{\\text{Annualized Mean Return}}{\\text{Annualized Volatility}}\n",
    "     $\n",
    "7. **Sortino Ratio**\n",
    "   - **Description:** The Sortino Ratio is a variation of the Sharpe Ratio that penalizes only downside volatility, thus providing a better measure of risk-adjusted return for portfolios that have asymmetric return distributions.\n",
    "   - **Formula:** \n",
    "     $\n",
    "     \\text{Sortino Ratio} = \\frac{\\text{Annualized Mean Return}}{\\text{Downside Volatility}}\n",
    "     $\n",
    "8. **Calmar Ratio**\n",
    "   - **Description:** The Calmar Ratio measures the risk-adjusted return of a portfolio by comparing the annualized return to the maximum drawdown, providing insight into performance relative to the worst-case scenario.\n",
    "   - **Formula:** \n",
    "     $\n",
    "     \\text{Calmar Ratio} = \\frac{\\text{Annualized Mean Return}}{-\\text{Maximum Drawdown}}\n",
    "     $\n",
    "\n",
    "After calculating these metrics, we will display the results to evaluate the performance of the risk-parity portfolio comprehensively.\n"
   ]
  },
  {
   "cell_type": "code",
   "execution_count": 35,
   "id": "c1489f4c",
   "metadata": {},
   "outputs": [
    {
     "name": "stdout",
     "output_type": "stream",
     "text": [
      "Mean Annual Return: 0.0536\n",
      "Annual Volatility: 0.0909\n",
      "Skewness: -0.8184\n",
      "Kurtosis: 7.4589\n",
      "Maximum Drawdown: 0.1823\n",
      "Sharpe Ratio: 0.5898\n",
      "Sortino Ratio: 0.1315\n",
      "Calmar Ratio: 0.2941\n"
     ]
    }
   ],
   "source": [
    "# Evaluate portfolio performance\n",
    "annual_mean_return = risk_parity_portfolio_returns.mean()*12\n",
    "annual_volatility = risk_parity_portfolio_returns.std() * (12 ** 0.5)\n",
    "skewness = risk_parity_portfolio_returns.skew()\n",
    "kurtosis = risk_parity_portfolio_returns.kurtosis() + 3\n",
    "\n",
    "# Compute drawdown\n",
    "cumulative_returns = (1 + risk_parity_portfolio_returns).cumprod()\n",
    "running_max = cumulative_returns.cummax()\n",
    "drawdown = (running_max - cumulative_returns) / running_max \n",
    "max_drawdown_idx = drawdown.idxmax()\n",
    "max_drawdown = drawdown.loc[max_drawdown_idx]\n",
    "\n",
    "\n",
    "# Compute Sharpe ratio\n",
    "sharpe_ratio = annual_mean_return/annual_volatility\n",
    "\n",
    "# Compute Sortino ratio\n",
    "downside_returns = risk_parity_portfolio_returns[risk_parity_portfolio_returns < 0]\n",
    "downside_vol = downside_returns.std() * np.sqrt(252)\n",
    "sortino_ratio = (annual_mean_return)/downside_vol\n",
    "\n",
    "# Compute Calmar ratio\n",
    "calmar_ratio = annual_mean_return/max_drawdown\n",
    "\n",
    "# Display results\n",
    "print(f\"Mean Annual Return: {annual_mean_return:.4f}\")\n",
    "print(f\"Annual Volatility: {annual_volatility:.4f}\")\n",
    "print(f\"Skewness: {skewness:.4f}\")\n",
    "print(f\"Kurtosis: {kurtosis:.4f}\")\n",
    "print(f\"Maximum Drawdown: {max_drawdown:.4f}\")\n",
    "print(f\"Sharpe Ratio: {sharpe_ratio:.4f}\")\n",
    "print(f\"Sortino Ratio: {sortino_ratio:.4f}\")\n",
    "print(f\"Calmar Ratio: {calmar_ratio:.4f}\")\n"
   ]
  },
  {
   "cell_type": "markdown",
   "id": "e2de8713",
   "metadata": {},
   "source": [
    "### 9. Plot Results\n",
    "\n",
    "Visualizing the performance of the risk-parity portfolio is crucial for understanding the dynamics of cumulative returns and drawdowns over time. We will create a plot that displays both the cumulative returns and the drawdowns on the same graph. This will allow us to see how the portfolio grows over time and the extent of losses from peak to trough.\n",
    "\n",
    "#### Steps to Plot the Results:\n",
    "\n",
    "1. **Initialize the Plot**:\n",
    "   - We use `plt.subplots()` to create a figure and an axis object, allowing us to customize the plot.\n",
    "   - The `figsize` argument specifies the size of the plot. In this case, we choose a wide format (`14x7`) to better display the time series data.\n",
    "   - Example:\n",
    "     ```python\n",
    "     fig, ax = plt.subplots(figsize=(14, 7))\n",
    "     ```\n",
    "\n",
    "2. **Plot Cumulative Returns**:\n",
    "   - The `plot()` function is used to plot the cumulative returns on the axis `ax`.\n",
    "   - The `label` argument is used to create a legend entry, and `color` specifies the color of the line.\n",
    "   - Example:\n",
    "     ```python\n",
    "     cumulative_returns.plot(ax=ax, label='Cumulative Returns', color='blue')\n",
    "     ```\n",
    "\n",
    "3. **Plot Drawdown**:\n",
    "   - Similarly, the `plot()` function is used to plot the drawdown on the same axis `ax`.\n",
    "   - The `label` and `color` arguments distinguish this line from the cumulative returns.\n",
    "   - Example:\n",
    "     ```python\n",
    "     drawdown.plot(ax=ax, label='Drawdown', color='red')\n",
    "     ```\n",
    "\n",
    "4. **Customize the Plot**:\n",
    "   - The `set_title()` function sets the title of the plot, making it clear what the graph represents.\n",
    "   - The `set_ylabel()` and `set_xlabel()` functions label the y-axis and x-axis, respectively, to indicate what the axes represent (e.g., 'Cumulative Returns' and 'Date').\n",
    "   - Example:\n",
    "     ```python\n",
    "     ax.set_title('Cumulative Returns and Drawdown')\n",
    "     ax.set_ylabel('Cumulative Returns')\n",
    "     ax.set_xlabel('Date')\n",
    "     ```\n",
    "\n",
    "5. **Add a Legend**:\n",
    "   - The `legend()` function adds a legend to the plot, helping to identify which line represents cumulative returns and which represents drawdown.\n",
    "   - Example:\n",
    "     ```python\n",
    "     ax.legend()\n",
    "     ```\n",
    "\n",
    "6. **Display the Plot**:\n",
    "   - Finally, `plt.show()` is called to display the plot.\n",
    "   - Example:\n",
    "     ```python\n",
    "     plt.show()\n",
    "     ```\n",
    "\n",
    "The resulting plot will provide a clear visual representation of how the portfolio's value has evolved over time and the magnitude of any losses (drawdowns) experienced during the period. This visualization is essential for analyzing the risk and return profile of the portfolio.\n"
   ]
  },
  {
   "cell_type": "code",
   "execution_count": 37,
   "id": "be6313b8",
   "metadata": {},
   "outputs": [
    {
     "data": {
      "image/png": "[encoded data removed]",
      "text/plain": [
       "<Figure size 1400x700 with 1 Axes>"
      ]
     },
     "metadata": {},
     "output_type": "display_data"
    }
   ],
   "source": [
    "# Plot portfolio performance\n",
    "fig, ax = plt.subplots(figsize=(14, 7))\n",
    "(cumulative_returns - 1).plot(ax=ax, label='Cumulative Returns', color='blue')\n",
    "drawdown.plot(ax=ax, label='Drawdown', color='red')\n",
    "ax.set_title('Cumulative Returns and Drawdown')\n",
    "ax.set_ylabel('Cumulative Returns')\n",
    "ax.set_xlabel('Date')\n",
    "ax.legend()\n",
    "plt.show()"
   ]
  },
  {
   "cell_type": "code",
   "execution_count": null,
   "id": "e278fdfc-a264-4e68-9c20-769c15664bdd",
   "metadata": {},
   "outputs": [],
   "source": []
  }
 ],
 "metadata": {
  "kernelspec": {
   "display_name": "Python [conda env:base] *",
   "language": "python",
   "name": "conda-base-py"
  },
  "language_info": {
   "codemirror_mode": {
    "name": "ipython",
    "version": 3
   },
   "file_extension": ".py",
   "mimetype": "text/x-python",
   "name": "python",
   "nbconvert_exporter": "python",
   "pygments_lexer": "ipython3",
   "version": "3.12.7"
  }
 },
 "nbformat": 4,
 "nbformat_minor": 5
}
