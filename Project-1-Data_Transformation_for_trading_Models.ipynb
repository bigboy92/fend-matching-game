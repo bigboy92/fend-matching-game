{
 "cells": [
  {
   "cell_type": "markdown",
   "id": "39176a46",
   "metadata": {},
   "source": [
    "# Course 2 Project: ML Pipeline for Feature Engineering"
   ]
  },
  {
   "cell_type": "markdown",
   "id": "85496c26",
   "metadata": {},
   "source": [
    "## Instructions\n",
    "\n",
    "In this project, you'll use data related to microeconomic indicators and historical stock prices to explore the data engineering pipline. You'll get to practice:\n",
    "\n",
    "* Data ingestion \n",
    "* Data cleaning\n",
    "* Data imputation\n",
    "* Exploratory data analysis (EDA) through charts and graphs"
   ]
  },
  {
   "cell_type": "markdown",
   "id": "303efa08",
   "metadata": {},
   "source": [
    "## Packages\n",
    "\n",
    "You'll use `pandas` and `matplotlib`, which were covered in the course material, to import, clean, and plot data. They have been installed in this workspace for you. If you're working locally and you installed Jupyter using Anaconda, these packages will already be installed. "
   ]
  },
  {
   "cell_type": "code",
   "execution_count": 1,
   "id": "b2d4d5cd",
   "metadata": {},
   "outputs": [],
   "source": [
    "#import packages \n",
    "import pandas as pd\n",
    "import matplotlib.pyplot as plt\n",
    "import seaborn as sns\n",
    "from pandas.tseries.offsets import MonthEnd \n",
    "from sklearn.preprocessing import StandardScaler\n",
    "import matplotlib.pyplot as plt\n"
   ]
  },
  {
   "cell_type": "markdown",
   "id": "f38cd859",
   "metadata": {},
   "source": [
    "## Load data\n",
    "\n",
    "The first step in a data engineering pipeline for machine learning is to ingest the data that will be used. For this project, data is hosted on a public GitHub repo. \n",
    "\n",
    "### Your tasks\n",
    "* Import data from the provided [GitHub repo](https://github.com/udacity/CD13649-Project/tree/main/Project) using `pandas`. For your convenience, the data files (CSVs) are also present in the current workspace at the path **CD13649-Project/Project/**. Here are the data files to import: \n",
    "  1. GDP (**GDP.csv**)\n",
    "  2. Inflation (**inflation_monthly.csv**)\n",
    "  3. Apple stock prices (**apple_historical_data.csv**)\n",
    "  4. Microsoft stock prices (**microsoft_historical_data.csv**)\n",
    "  5. Consumer price index (**consumer_price_index.csv**)\n",
    "\n",
    "\n",
    "\n",
    "* Verify that the data has been imported correctly into `pandas` dataframes. Use methods like `head()` and `info()`\n",
    "\n",
    "\n",
    "* You may need to change column names to make them easier to work with\n",
    "\n",
    "\n",
    "* You may need to cast datetime data to the `datetime` format using `pandas` `to_datetime()` method\n",
    "\n"
   ]
  },
  {
   "cell_type": "code",
   "execution_count": 2,
   "id": "085b9941",
   "metadata": {},
   "outputs": [],
   "source": [
    "#Verify that the data has been imported correctly into pandas dataframes. Use methods like head() and info()\n",
    "gdp_df = pd.read_csv(\"GDP.csv\")\n",
    "inflation_monthly_df = pd.read_csv(\"inflation_monthly.csv\")\n",
    "microsft_historical_data_df = pd.read_csv(\"microsoft_historical_data.csv\")\n",
    "consumer_price_index_df = pd.read_csv(\"consumer_price_index.csv\")\n",
    "apple_historical_data_df = pd.read_csv(\"apple_historical_data.csv\")\n",
    "\n"
   ]
  },
  {
   "cell_type": "code",
   "execution_count": 3,
   "id": "f2fa1a42",
   "metadata": {},
   "outputs": [],
   "source": [
    "# Load historical GDP data"
   ]
  },
  {
   "cell_type": "code",
   "execution_count": 4,
   "id": "6b257147",
   "metadata": {},
   "outputs": [
    {
     "name": "stdout",
     "output_type": "stream",
     "text": [
      "<class 'pandas.core.frame.DataFrame'>\n",
      "RangeIndex: 309 entries, 0 to 308\n",
      "Data columns (total 2 columns):\n",
      " #   Column  Non-Null Count  Dtype  \n",
      "---  ------  --------------  -----  \n",
      " 0   DATE    309 non-null    object \n",
      " 1   GDP     309 non-null    float64\n",
      "dtypes: float64(1), object(1)\n",
      "memory usage: 5.0+ KB\n"
     ]
    }
   ],
   "source": [
    "gdp_df.head()\n",
    "gdp_df.info()\n"
   ]
  },
  {
   "cell_type": "code",
   "execution_count": 5,
   "id": "cd92d522",
   "metadata": {},
   "outputs": [
    {
     "name": "stdout",
     "output_type": "stream",
     "text": [
      "<class 'pandas.core.frame.DataFrame'>\n",
      "RangeIndex: 675 entries, 0 to 674\n",
      "Data columns (total 2 columns):\n",
      " #   Column                Non-Null Count  Dtype  \n",
      "---  ------                --------------  -----  \n",
      " 0   DATE                  675 non-null    object \n",
      " 1   CORESTICKM159SFRBATL  675 non-null    float64\n",
      "dtypes: float64(1), object(1)\n",
      "memory usage: 10.7+ KB\n"
     ]
    }
   ],
   "source": [
    "inflation_monthly_df.head()\n",
    "inflation_monthly_df.info()\n"
   ]
  },
  {
   "cell_type": "code",
   "execution_count": 6,
   "id": "0a57200a",
   "metadata": {},
   "outputs": [
    {
     "name": "stdout",
     "output_type": "stream",
     "text": [
      "<class 'pandas.core.frame.DataFrame'>\n",
      "RangeIndex: 2517 entries, 0 to 2516\n",
      "Data columns (total 6 columns):\n",
      " #   Column      Non-Null Count  Dtype \n",
      "---  ------      --------------  ----- \n",
      " 0   Date        2517 non-null   object\n",
      " 1   Close/Last  2517 non-null   object\n",
      " 2   Volume      2517 non-null   int64 \n",
      " 3   Open        2517 non-null   object\n",
      " 4   High        2517 non-null   object\n",
      " 5   Low         2517 non-null   object\n",
      "dtypes: int64(1), object(5)\n",
      "memory usage: 118.1+ KB\n"
     ]
    }
   ],
   "source": [
    "microsft_historical_data_df.head()\n",
    "microsft_historical_data_df.info()\n"
   ]
  },
  {
   "cell_type": "code",
   "execution_count": 7,
   "id": "49b6e027",
   "metadata": {},
   "outputs": [
    {
     "name": "stdout",
     "output_type": "stream",
     "text": [
      "<class 'pandas.core.frame.DataFrame'>\n",
      "RangeIndex: 675 entries, 0 to 674\n",
      "Data columns (total 2 columns):\n",
      " #   Column                Non-Null Count  Dtype  \n",
      "---  ------                --------------  -----  \n",
      " 0   DATE                  675 non-null    object \n",
      " 1   CORESTICKM159SFRBATL  675 non-null    float64\n",
      "dtypes: float64(1), object(1)\n",
      "memory usage: 10.7+ KB\n"
     ]
    }
   ],
   "source": [
    "consumer_price_index_df.head()\n",
    "consumer_price_index_df.info()\n"
   ]
  },
  {
   "cell_type": "code",
   "execution_count": 8,
   "id": "e632f36e",
   "metadata": {},
   "outputs": [
    {
     "name": "stdout",
     "output_type": "stream",
     "text": [
      "<class 'pandas.core.frame.DataFrame'>\n",
      "RangeIndex: 2517 entries, 0 to 2516\n",
      "Data columns (total 6 columns):\n",
      " #   Column      Non-Null Count  Dtype \n",
      "---  ------      --------------  ----- \n",
      " 0   Date        2517 non-null   object\n",
      " 1   Close/Last  2514 non-null   object\n",
      " 2   Volume      2517 non-null   int64 \n",
      " 3   Open        2517 non-null   object\n",
      " 4   High        2517 non-null   object\n",
      " 5   Low         2517 non-null   object\n",
      "dtypes: int64(1), object(5)\n",
      "memory usage: 118.1+ KB\n"
     ]
    }
   ],
   "source": [
    "apple_historical_data_df.head()\n",
    "apple_historical_data_df.info()"
   ]
  },
  {
   "cell_type": "markdown",
   "id": "1a34b3da",
   "metadata": {},
   "source": [
    "## Data preprocessing: Check for missing data and forward fill\n",
    "\n",
    "Check the Apple historical prices for missing data. Check for missing data in all columns. If there's data missing, use a forward fill to fill in those missing prices. "
   ]
  },
  {
   "cell_type": "code",
   "execution_count": null,
   "id": "c2cde568",
   "metadata": {},
   "outputs": [],
   "source": []
  },
  {
   "cell_type": "code",
   "execution_count": null,
   "id": "9d754f14",
   "metadata": {},
   "outputs": [],
   "source": []
  },
  {
   "cell_type": "code",
   "execution_count": 9,
   "id": "42867d49",
   "metadata": {},
   "outputs": [
    {
     "name": "stdout",
     "output_type": "stream",
     "text": [
      "Missing data after filling:\n",
      " Date          0\n",
      "Close/Last    3\n",
      "Volume        0\n",
      "Open          0\n",
      "High          0\n",
      "Low           0\n",
      "dtype: int64\n"
     ]
    }
   ],
   "source": [
    "missing_data_after = apple_historical_data_df.isnull().sum()\n",
    "print(\"Missing data after filling:\\n\", missing_data_after)"
   ]
  },
  {
   "cell_type": "code",
   "execution_count": 10,
   "id": "28ee438e",
   "metadata": {},
   "outputs": [
    {
     "data": {
      "text/plain": [
       "True"
      ]
     },
     "execution_count": 10,
     "metadata": {},
     "output_type": "execute_result"
    }
   ],
   "source": [
    "# Check for nulls \n",
    "apple_historical_data_df.isnull().values.any()\n"
   ]
  },
  {
   "cell_type": "code",
   "execution_count": 11,
   "id": "1745b0b2",
   "metadata": {},
   "outputs": [
    {
     "data": {
      "text/plain": [
       "False"
      ]
     },
     "execution_count": 11,
     "metadata": {},
     "output_type": "execute_result"
    }
   ],
   "source": [
    "microsft_historical_data_df.isnull().values.any()"
   ]
  },
  {
   "cell_type": "code",
   "execution_count": 12,
   "id": "85e12331",
   "metadata": {},
   "outputs": [],
   "source": [
    "# Forward fill any missing data\n",
    "apple_historical_data_df.ffill(inplace=True)\n",
    "microsft_historical_data_df.ffill(inplace=True)"
   ]
  },
  {
   "cell_type": "code",
   "execution_count": 13,
   "id": "9c571b71",
   "metadata": {},
   "outputs": [
    {
     "name": "stdout",
     "output_type": "stream",
     "text": [
      "Missing data before filling:\n",
      " Date          0\n",
      "Close/Last    0\n",
      "Volume        0\n",
      "Open          0\n",
      "High          0\n",
      "Low           0\n",
      "dtype: int64\n"
     ]
    }
   ],
   "source": [
    "# Check again for nulls after using forward fill\n",
    "missing_data = apple_historical_data_df.isnull().sum()\n",
    "print(\"Missing data before filling:\\n\", missing_data)\n"
   ]
  },
  {
   "cell_type": "markdown",
   "id": "dc511100",
   "metadata": {},
   "source": [
    "## Data preprocessing: Remove special characters and convert to numeric/datetime\n",
    "\n",
    "The next step in the data engineering process is to standardize and clean up data. In this step, you'll check for odd formatting and special characters that will make it difficult to work with data as numeric or datetime. \n",
    "\n",
    "In this step:\n",
    "* Create a function that takes in a dataframe and a list of columns and removes dollar signs ('$') from those columns\n",
    "* Convert any columns with date/time data into a `pandas` `datetime` format"
   ]
  },
  {
   "cell_type": "code",
   "execution_count": 14,
   "id": "fe86c920",
   "metadata": {},
   "outputs": [],
   "source": [
    "def clean_and_standardize_data(df, currency_columns, datetime_columns):\n",
    "    \"\"\"\n",
    "    Cleans and standardizes the given dataframe by:\n",
    "    - Removing dollar signs ('$') and extra spaces from specified currency columns\n",
    "    - Converting specified datetime columns to pandas datetime format\n",
    "\n",
    "    Parameters:\n",
    "        df (pd.DataFrame): The dataframe to clean\n",
    "        currency_columns (list): List of column names containing currency values\n",
    "        datetime_columns (list): List of column names containing datetime values\n",
    "\n",
    "    Returns:\n",
    "        pd.DataFrame: The cleaned dataframe\n",
    "    \"\"\"\n",
    "    # Remove dollar signs, extra spaces, and convert to float for currency columns\n",
    "    for col in currency_columns:\n",
    "        if col in df.columns:\n",
    "            df[col] = df[col].astype(str).str.replace('[\\$,]', '', regex=True).str.strip()\n",
    "            df[col] = pd.to_numeric(df[col], errors='coerce')  # Convert to float safely\n",
    "\n",
    "    # Convert datetime columns to pandas datetime format\n",
    "    for col in datetime_columns:\n",
    "        if col in df.columns:\n",
    "            df[col] = pd.to_datetime(df[col], errors='coerce')\n",
    "\n",
    "    return df\n"
   ]
  },
  {
   "cell_type": "code",
   "execution_count": 15,
   "id": "dbef4d64",
   "metadata": {},
   "outputs": [
    {
     "data": {
      "text/plain": [
       "Date          0\n",
       "Close/Last    0\n",
       "Volume        0\n",
       "Open          0\n",
       "High          0\n",
       "Low           0\n",
       "dtype: int64"
      ]
     },
     "execution_count": 15,
     "metadata": {},
     "output_type": "execute_result"
    }
   ],
   "source": [
    "apple_historical_data_df.isnull().sum()"
   ]
  },
  {
   "cell_type": "code",
   "execution_count": 16,
   "id": "8cd75bcf",
   "metadata": {},
   "outputs": [
    {
     "data": {
      "text/plain": [
       "Date          0\n",
       "Close/Last    0\n",
       "Volume        0\n",
       "Open          0\n",
       "High          0\n",
       "Low           0\n",
       "dtype: int64"
      ]
     },
     "execution_count": 16,
     "metadata": {},
     "output_type": "execute_result"
    }
   ],
   "source": [
    "microsft_historical_data_df.isnull().sum()"
   ]
  },
  {
   "cell_type": "code",
   "execution_count": 17,
   "id": "f4178d4b",
   "metadata": {},
   "outputs": [],
   "source": [
    "# Define columns to clean\n",
    "currency_cols = [\"Close/Last\", \"Open\", \"High\", \"Low\"]\n",
    "datetime_cols = [\"Date\"] \n",
    "\n",
    "# Apply the cleaning function\n",
    "apple_historical_data_df = clean_and_standardize_data(apple_historical_data_df, currency_cols, datetime_cols)"
   ]
  },
  {
   "cell_type": "code",
   "execution_count": 18,
   "id": "bf551638",
   "metadata": {},
   "outputs": [
    {
     "data": {
      "text/html": [
       "<div>\n",
       "<style scoped>\n",
       "    .dataframe tbody tr th:only-of-type {\n",
       "        vertical-align: middle;\n",
       "    }\n",
       "\n",
       "    .dataframe tbody tr th {\n",
       "        vertical-align: top;\n",
       "    }\n",
       "\n",
       "    .dataframe thead th {\n",
       "        text-align: right;\n",
       "    }\n",
       "</style>\n",
       "<table border=\"1\" class=\"dataframe\">\n",
       "  <thead>\n",
       "    <tr style=\"text-align: right;\">\n",
       "      <th></th>\n",
       "      <th>Date</th>\n",
       "      <th>Close/Last</th>\n",
       "      <th>Volume</th>\n",
       "      <th>Open</th>\n",
       "      <th>High</th>\n",
       "      <th>Low</th>\n",
       "    </tr>\n",
       "  </thead>\n",
       "  <tbody>\n",
       "    <tr>\n",
       "      <th>0</th>\n",
       "      <td>2024-05-03</td>\n",
       "      <td>183.38</td>\n",
       "      <td>163224100</td>\n",
       "      <td>186.65</td>\n",
       "      <td>187.00</td>\n",
       "      <td>182.66</td>\n",
       "    </tr>\n",
       "    <tr>\n",
       "      <th>1</th>\n",
       "      <td>2024-05-02</td>\n",
       "      <td>173.03</td>\n",
       "      <td>94214920</td>\n",
       "      <td>172.51</td>\n",
       "      <td>173.42</td>\n",
       "      <td>170.89</td>\n",
       "    </tr>\n",
       "    <tr>\n",
       "      <th>2</th>\n",
       "      <td>2024-05-01</td>\n",
       "      <td>169.30</td>\n",
       "      <td>50383150</td>\n",
       "      <td>169.58</td>\n",
       "      <td>172.71</td>\n",
       "      <td>169.11</td>\n",
       "    </tr>\n",
       "    <tr>\n",
       "      <th>3</th>\n",
       "      <td>2024-04-30</td>\n",
       "      <td>170.33</td>\n",
       "      <td>65934780</td>\n",
       "      <td>173.33</td>\n",
       "      <td>174.99</td>\n",
       "      <td>170.00</td>\n",
       "    </tr>\n",
       "    <tr>\n",
       "      <th>4</th>\n",
       "      <td>2024-04-29</td>\n",
       "      <td>173.50</td>\n",
       "      <td>68169420</td>\n",
       "      <td>173.37</td>\n",
       "      <td>176.03</td>\n",
       "      <td>173.10</td>\n",
       "    </tr>\n",
       "    <tr>\n",
       "      <th>...</th>\n",
       "      <td>...</td>\n",
       "      <td>...</td>\n",
       "      <td>...</td>\n",
       "      <td>...</td>\n",
       "      <td>...</td>\n",
       "      <td>...</td>\n",
       "    </tr>\n",
       "    <tr>\n",
       "      <th>2512</th>\n",
       "      <td>2014-05-12</td>\n",
       "      <td>21.17</td>\n",
       "      <td>212736019</td>\n",
       "      <td>20.98</td>\n",
       "      <td>21.20</td>\n",
       "      <td>20.98</td>\n",
       "    </tr>\n",
       "    <tr>\n",
       "      <th>2513</th>\n",
       "      <td>2014-05-09</td>\n",
       "      <td>20.91</td>\n",
       "      <td>291068564</td>\n",
       "      <td>20.88</td>\n",
       "      <td>20.94</td>\n",
       "      <td>20.73</td>\n",
       "    </tr>\n",
       "    <tr>\n",
       "      <th>2514</th>\n",
       "      <td>2014-05-08</td>\n",
       "      <td>21.00</td>\n",
       "      <td>228973884</td>\n",
       "      <td>21.01</td>\n",
       "      <td>21.23</td>\n",
       "      <td>20.94</td>\n",
       "    </tr>\n",
       "    <tr>\n",
       "      <th>2515</th>\n",
       "      <td>2014-05-07</td>\n",
       "      <td>21.15</td>\n",
       "      <td>282128727</td>\n",
       "      <td>21.26</td>\n",
       "      <td>21.33</td>\n",
       "      <td>20.99</td>\n",
       "    </tr>\n",
       "    <tr>\n",
       "      <th>2516</th>\n",
       "      <td>2014-05-06</td>\n",
       "      <td>21.23</td>\n",
       "      <td>373872650</td>\n",
       "      <td>21.49</td>\n",
       "      <td>21.59</td>\n",
       "      <td>21.23</td>\n",
       "    </tr>\n",
       "  </tbody>\n",
       "</table>\n",
       "<p>2517 rows × 6 columns</p>\n",
       "</div>"
      ],
      "text/plain": [
       "           Date  Close/Last     Volume    Open    High     Low\n",
       "0    2024-05-03      183.38  163224100  186.65  187.00  182.66\n",
       "1    2024-05-02      173.03   94214920  172.51  173.42  170.89\n",
       "2    2024-05-01      169.30   50383150  169.58  172.71  169.11\n",
       "3    2024-04-30      170.33   65934780  173.33  174.99  170.00\n",
       "4    2024-04-29      173.50   68169420  173.37  176.03  173.10\n",
       "...         ...         ...        ...     ...     ...     ...\n",
       "2512 2014-05-12       21.17  212736019   20.98   21.20   20.98\n",
       "2513 2014-05-09       20.91  291068564   20.88   20.94   20.73\n",
       "2514 2014-05-08       21.00  228973884   21.01   21.23   20.94\n",
       "2515 2014-05-07       21.15  282128727   21.26   21.33   20.99\n",
       "2516 2014-05-06       21.23  373872650   21.49   21.59   21.23\n",
       "\n",
       "[2517 rows x 6 columns]"
      ]
     },
     "execution_count": 18,
     "metadata": {},
     "output_type": "execute_result"
    }
   ],
   "source": [
    "apple_historical_data_df"
   ]
  },
  {
   "cell_type": "code",
   "execution_count": 19,
   "id": "6c93a0d8",
   "metadata": {},
   "outputs": [],
   "source": [
    "# Define columns to clean\n",
    "currency_cols = [\"Close/Last\", \"Open\", \"High\", \"Low\"]\n",
    "datetime_cols = [\"Date\"] \n",
    "\n",
    "# Apply the cleaning function\n",
    "microsoft_historical_data_df= clean_and_standardize_data(microsft_historical_data_df, currency_cols, datetime_cols)"
   ]
  },
  {
   "cell_type": "code",
   "execution_count": 20,
   "id": "13532239",
   "metadata": {},
   "outputs": [
    {
     "data": {
      "text/html": [
       "<div>\n",
       "<style scoped>\n",
       "    .dataframe tbody tr th:only-of-type {\n",
       "        vertical-align: middle;\n",
       "    }\n",
       "\n",
       "    .dataframe tbody tr th {\n",
       "        vertical-align: top;\n",
       "    }\n",
       "\n",
       "    .dataframe thead th {\n",
       "        text-align: right;\n",
       "    }\n",
       "</style>\n",
       "<table border=\"1\" class=\"dataframe\">\n",
       "  <thead>\n",
       "    <tr style=\"text-align: right;\">\n",
       "      <th></th>\n",
       "      <th>Date</th>\n",
       "      <th>Close/Last</th>\n",
       "      <th>Volume</th>\n",
       "      <th>Open</th>\n",
       "      <th>High</th>\n",
       "      <th>Low</th>\n",
       "    </tr>\n",
       "  </thead>\n",
       "  <tbody>\n",
       "    <tr>\n",
       "      <th>0</th>\n",
       "      <td>2024-05-03</td>\n",
       "      <td>406.660</td>\n",
       "      <td>17446720</td>\n",
       "      <td>402.28</td>\n",
       "      <td>407.1500</td>\n",
       "      <td>401.8600</td>\n",
       "    </tr>\n",
       "    <tr>\n",
       "      <th>1</th>\n",
       "      <td>2024-05-02</td>\n",
       "      <td>397.840</td>\n",
       "      <td>17709360</td>\n",
       "      <td>397.66</td>\n",
       "      <td>399.9300</td>\n",
       "      <td>394.6515</td>\n",
       "    </tr>\n",
       "    <tr>\n",
       "      <th>2</th>\n",
       "      <td>2024-05-01</td>\n",
       "      <td>394.940</td>\n",
       "      <td>23562480</td>\n",
       "      <td>392.61</td>\n",
       "      <td>401.7199</td>\n",
       "      <td>390.3100</td>\n",
       "    </tr>\n",
       "    <tr>\n",
       "      <th>3</th>\n",
       "      <td>2024-04-30</td>\n",
       "      <td>389.330</td>\n",
       "      <td>28781370</td>\n",
       "      <td>401.49</td>\n",
       "      <td>402.1600</td>\n",
       "      <td>389.1700</td>\n",
       "    </tr>\n",
       "    <tr>\n",
       "      <th>4</th>\n",
       "      <td>2024-04-29</td>\n",
       "      <td>402.250</td>\n",
       "      <td>19582090</td>\n",
       "      <td>405.25</td>\n",
       "      <td>406.3200</td>\n",
       "      <td>399.1900</td>\n",
       "    </tr>\n",
       "    <tr>\n",
       "      <th>...</th>\n",
       "      <td>...</td>\n",
       "      <td>...</td>\n",
       "      <td>...</td>\n",
       "      <td>...</td>\n",
       "      <td>...</td>\n",
       "      <td>...</td>\n",
       "    </tr>\n",
       "    <tr>\n",
       "      <th>2512</th>\n",
       "      <td>2014-05-12</td>\n",
       "      <td>39.970</td>\n",
       "      <td>22761620</td>\n",
       "      <td>39.74</td>\n",
       "      <td>40.0200</td>\n",
       "      <td>39.6500</td>\n",
       "    </tr>\n",
       "    <tr>\n",
       "      <th>2513</th>\n",
       "      <td>2014-05-09</td>\n",
       "      <td>39.540</td>\n",
       "      <td>29646100</td>\n",
       "      <td>39.54</td>\n",
       "      <td>39.8500</td>\n",
       "      <td>39.3700</td>\n",
       "    </tr>\n",
       "    <tr>\n",
       "      <th>2514</th>\n",
       "      <td>2014-05-08</td>\n",
       "      <td>39.640</td>\n",
       "      <td>32089010</td>\n",
       "      <td>39.34</td>\n",
       "      <td>39.9000</td>\n",
       "      <td>38.9700</td>\n",
       "    </tr>\n",
       "    <tr>\n",
       "      <th>2515</th>\n",
       "      <td>2014-05-07</td>\n",
       "      <td>39.425</td>\n",
       "      <td>41731030</td>\n",
       "      <td>39.22</td>\n",
       "      <td>39.5100</td>\n",
       "      <td>38.5100</td>\n",
       "    </tr>\n",
       "    <tr>\n",
       "      <th>2516</th>\n",
       "      <td>2014-05-06</td>\n",
       "      <td>39.060</td>\n",
       "      <td>27105700</td>\n",
       "      <td>39.29</td>\n",
       "      <td>39.3500</td>\n",
       "      <td>38.9500</td>\n",
       "    </tr>\n",
       "  </tbody>\n",
       "</table>\n",
       "<p>2517 rows × 6 columns</p>\n",
       "</div>"
      ],
      "text/plain": [
       "           Date  Close/Last    Volume    Open      High       Low\n",
       "0    2024-05-03     406.660  17446720  402.28  407.1500  401.8600\n",
       "1    2024-05-02     397.840  17709360  397.66  399.9300  394.6515\n",
       "2    2024-05-01     394.940  23562480  392.61  401.7199  390.3100\n",
       "3    2024-04-30     389.330  28781370  401.49  402.1600  389.1700\n",
       "4    2024-04-29     402.250  19582090  405.25  406.3200  399.1900\n",
       "...         ...         ...       ...     ...       ...       ...\n",
       "2512 2014-05-12      39.970  22761620   39.74   40.0200   39.6500\n",
       "2513 2014-05-09      39.540  29646100   39.54   39.8500   39.3700\n",
       "2514 2014-05-08      39.640  32089010   39.34   39.9000   38.9700\n",
       "2515 2014-05-07      39.425  41731030   39.22   39.5100   38.5100\n",
       "2516 2014-05-06      39.060  27105700   39.29   39.3500   38.9500\n",
       "\n",
       "[2517 rows x 6 columns]"
      ]
     },
     "execution_count": 20,
     "metadata": {},
     "output_type": "execute_result"
    }
   ],
   "source": [
    "microsft_historical_data_df"
   ]
  },
  {
   "cell_type": "code",
   "execution_count": null,
   "id": "1c3f2c0c",
   "metadata": {},
   "outputs": [],
   "source": []
  },
  {
   "cell_type": "code",
   "execution_count": 21,
   "id": "9e4d30d2",
   "metadata": {},
   "outputs": [
    {
     "name": "stdout",
     "output_type": "stream",
     "text": [
      "<class 'pandas.core.frame.DataFrame'>\n",
      "RangeIndex: 2517 entries, 0 to 2516\n",
      "Data columns (total 6 columns):\n",
      " #   Column      Non-Null Count  Dtype         \n",
      "---  ------      --------------  -----         \n",
      " 0   Date        2517 non-null   datetime64[ns]\n",
      " 1   Close/Last  2517 non-null   float64       \n",
      " 2   Volume      2517 non-null   int64         \n",
      " 3   Open        2517 non-null   float64       \n",
      " 4   High        2517 non-null   float64       \n",
      " 5   Low         2517 non-null   float64       \n",
      "dtypes: datetime64[ns](1), float64(4), int64(1)\n",
      "memory usage: 118.1 KB\n"
     ]
    }
   ],
   "source": [
    "microsft_historical_data_df.info()"
   ]
  },
  {
   "cell_type": "markdown",
   "id": "4a74318c",
   "metadata": {},
   "source": [
    "## Data preprocessing: Align datetime data\n",
    "\n",
    "Data engineering includes changing data with a datetime component if needed so that different time series can be more easily compared or plotted against each other. \n",
    "\n",
    "In this step:\n",
    "\n",
    "* Align the inflation date so that it falls on the last day of the month instead of the first\n",
    "\n",
    "Helpful hints: \n",
    "* Use the `pandas` `offsets` method using `MonthEnd(0)` to set the 'Date' column to month-end"
   ]
  },
  {
   "cell_type": "code",
   "execution_count": 22,
   "id": "9cb5e1e4",
   "metadata": {},
   "outputs": [],
   "source": [
    "def align_to_month_end(df, datetime_column):\n",
    "    \"\"\"\n",
    "    Adjusts the given datetime column so that all dates fall on the last day of the respective month.\n",
    "\n",
    "    Parameters:\n",
    "        df (pd.DataFrame): The dataframe containing the datetime column.\n",
    "        datetime_column (str): The name of the datetime column to adjust.\n",
    "\n",
    "    Returns:\n",
    "        pd.DataFrame: The dataframe with the adjusted datetime column.\n",
    "    \"\"\"\n",
    "    if datetime_column in df.columns:\n",
    "        df[datetime_column] = pd.to_datetime(df[datetime_column], errors='coerce')  # Ensure datetime format\n",
    "        df[datetime_column] = df[datetime_column] + MonthEnd(0)  # Align to month-end\n",
    "    \n",
    "    return df"
   ]
  },
  {
   "cell_type": "code",
   "execution_count": 23,
   "id": "b56c60e3",
   "metadata": {},
   "outputs": [],
   "source": [
    "microsft_historical_data_df = align_to_month_end(microsft_historical_data_df, \"Date\")"
   ]
  },
  {
   "cell_type": "code",
   "execution_count": 24,
   "id": "278187dd",
   "metadata": {},
   "outputs": [
    {
     "data": {
      "text/html": [
       "<div>\n",
       "<style scoped>\n",
       "    .dataframe tbody tr th:only-of-type {\n",
       "        vertical-align: middle;\n",
       "    }\n",
       "\n",
       "    .dataframe tbody tr th {\n",
       "        vertical-align: top;\n",
       "    }\n",
       "\n",
       "    .dataframe thead th {\n",
       "        text-align: right;\n",
       "    }\n",
       "</style>\n",
       "<table border=\"1\" class=\"dataframe\">\n",
       "  <thead>\n",
       "    <tr style=\"text-align: right;\">\n",
       "      <th></th>\n",
       "      <th>Date</th>\n",
       "      <th>Close/Last</th>\n",
       "      <th>Volume</th>\n",
       "      <th>Open</th>\n",
       "      <th>High</th>\n",
       "      <th>Low</th>\n",
       "    </tr>\n",
       "  </thead>\n",
       "  <tbody>\n",
       "    <tr>\n",
       "      <th>0</th>\n",
       "      <td>2024-05-31</td>\n",
       "      <td>406.66</td>\n",
       "      <td>17446720</td>\n",
       "      <td>402.28</td>\n",
       "      <td>407.1500</td>\n",
       "      <td>401.8600</td>\n",
       "    </tr>\n",
       "    <tr>\n",
       "      <th>1</th>\n",
       "      <td>2024-05-31</td>\n",
       "      <td>397.84</td>\n",
       "      <td>17709360</td>\n",
       "      <td>397.66</td>\n",
       "      <td>399.9300</td>\n",
       "      <td>394.6515</td>\n",
       "    </tr>\n",
       "    <tr>\n",
       "      <th>2</th>\n",
       "      <td>2024-05-31</td>\n",
       "      <td>394.94</td>\n",
       "      <td>23562480</td>\n",
       "      <td>392.61</td>\n",
       "      <td>401.7199</td>\n",
       "      <td>390.3100</td>\n",
       "    </tr>\n",
       "    <tr>\n",
       "      <th>3</th>\n",
       "      <td>2024-04-30</td>\n",
       "      <td>389.33</td>\n",
       "      <td>28781370</td>\n",
       "      <td>401.49</td>\n",
       "      <td>402.1600</td>\n",
       "      <td>389.1700</td>\n",
       "    </tr>\n",
       "    <tr>\n",
       "      <th>4</th>\n",
       "      <td>2024-04-30</td>\n",
       "      <td>402.25</td>\n",
       "      <td>19582090</td>\n",
       "      <td>405.25</td>\n",
       "      <td>406.3200</td>\n",
       "      <td>399.1900</td>\n",
       "    </tr>\n",
       "  </tbody>\n",
       "</table>\n",
       "</div>"
      ],
      "text/plain": [
       "        Date  Close/Last    Volume    Open      High       Low\n",
       "0 2024-05-31      406.66  17446720  402.28  407.1500  401.8600\n",
       "1 2024-05-31      397.84  17709360  397.66  399.9300  394.6515\n",
       "2 2024-05-31      394.94  23562480  392.61  401.7199  390.3100\n",
       "3 2024-04-30      389.33  28781370  401.49  402.1600  389.1700\n",
       "4 2024-04-30      402.25  19582090  405.25  406.3200  399.1900"
      ]
     },
     "execution_count": 24,
     "metadata": {},
     "output_type": "execute_result"
    }
   ],
   "source": [
    "# Align inflation data so that the date is the month end (e.g. Jan 31, Feb 28/28)\n",
    "microsft_historical_data_df.head()"
   ]
  },
  {
   "cell_type": "code",
   "execution_count": 25,
   "id": "182a29d8",
   "metadata": {},
   "outputs": [],
   "source": [
    "apple_historical_data_df = align_to_month_end(apple_historical_data_df,\"Date\")"
   ]
  },
  {
   "cell_type": "code",
   "execution_count": 26,
   "id": "665e5ee4",
   "metadata": {},
   "outputs": [
    {
     "data": {
      "text/html": [
       "<div>\n",
       "<style scoped>\n",
       "    .dataframe tbody tr th:only-of-type {\n",
       "        vertical-align: middle;\n",
       "    }\n",
       "\n",
       "    .dataframe tbody tr th {\n",
       "        vertical-align: top;\n",
       "    }\n",
       "\n",
       "    .dataframe thead th {\n",
       "        text-align: right;\n",
       "    }\n",
       "</style>\n",
       "<table border=\"1\" class=\"dataframe\">\n",
       "  <thead>\n",
       "    <tr style=\"text-align: right;\">\n",
       "      <th></th>\n",
       "      <th>Date</th>\n",
       "      <th>Close/Last</th>\n",
       "      <th>Volume</th>\n",
       "      <th>Open</th>\n",
       "      <th>High</th>\n",
       "      <th>Low</th>\n",
       "    </tr>\n",
       "  </thead>\n",
       "  <tbody>\n",
       "    <tr>\n",
       "      <th>0</th>\n",
       "      <td>2024-05-31</td>\n",
       "      <td>183.38</td>\n",
       "      <td>163224100</td>\n",
       "      <td>186.65</td>\n",
       "      <td>187.00</td>\n",
       "      <td>182.66</td>\n",
       "    </tr>\n",
       "    <tr>\n",
       "      <th>1</th>\n",
       "      <td>2024-05-31</td>\n",
       "      <td>173.03</td>\n",
       "      <td>94214920</td>\n",
       "      <td>172.51</td>\n",
       "      <td>173.42</td>\n",
       "      <td>170.89</td>\n",
       "    </tr>\n",
       "    <tr>\n",
       "      <th>2</th>\n",
       "      <td>2024-05-31</td>\n",
       "      <td>169.30</td>\n",
       "      <td>50383150</td>\n",
       "      <td>169.58</td>\n",
       "      <td>172.71</td>\n",
       "      <td>169.11</td>\n",
       "    </tr>\n",
       "    <tr>\n",
       "      <th>3</th>\n",
       "      <td>2024-04-30</td>\n",
       "      <td>170.33</td>\n",
       "      <td>65934780</td>\n",
       "      <td>173.33</td>\n",
       "      <td>174.99</td>\n",
       "      <td>170.00</td>\n",
       "    </tr>\n",
       "    <tr>\n",
       "      <th>4</th>\n",
       "      <td>2024-04-30</td>\n",
       "      <td>173.50</td>\n",
       "      <td>68169420</td>\n",
       "      <td>173.37</td>\n",
       "      <td>176.03</td>\n",
       "      <td>173.10</td>\n",
       "    </tr>\n",
       "  </tbody>\n",
       "</table>\n",
       "</div>"
      ],
      "text/plain": [
       "        Date  Close/Last     Volume    Open    High     Low\n",
       "0 2024-05-31      183.38  163224100  186.65  187.00  182.66\n",
       "1 2024-05-31      173.03   94214920  172.51  173.42  170.89\n",
       "2 2024-05-31      169.30   50383150  169.58  172.71  169.11\n",
       "3 2024-04-30      170.33   65934780  173.33  174.99  170.00\n",
       "4 2024-04-30      173.50   68169420  173.37  176.03  173.10"
      ]
     },
     "execution_count": 26,
     "metadata": {},
     "output_type": "execute_result"
    }
   ],
   "source": [
    "# Align inflation data so that the date is the month end (e.g. Jan 31, Feb 28/28)\n",
    "apple_historical_data_df.head()"
   ]
  },
  {
   "cell_type": "code",
   "execution_count": 27,
   "id": "3be7c00c",
   "metadata": {},
   "outputs": [],
   "source": [
    "inflation_monthly_df = align_to_month_end(inflation_monthly_df, \"Date\")\n"
   ]
  },
  {
   "cell_type": "markdown",
   "id": "ccd6155c",
   "metadata": {},
   "source": [
    "## Data preprocessing: Upsample, downsample and interpolate data\n",
    "\n",
    "Inflation data is presented monthly in this dataset. However, for some models, you may need it at a quarterly frequency, and for some models you may need it at a quarterly frequency. \n",
    "\n",
    "In this step:\n",
    "* Create a new quarterly inflation dataframe by downsampling the monthly inflation data to quarterly using the mean (e.g. for quarter 1 in a given year, use the average values from January, February, and March)\n",
    "* Create a new weekly inflation dataframe by upsampling the monthly inflation data. For this, you'll need to use `resample` and then you'll need to `interpolate` to fill in the missing data at the weekly frequency\n",
    "\n",
    "Note that you may need to change the index for some of these operations! "
   ]
  },
  {
   "cell_type": "code",
   "execution_count": 28,
   "id": "6e4ad11e",
   "metadata": {},
   "outputs": [],
   "source": [
    "def downsample_to_quarterly(df, date_column):\n",
    "    \"\"\"\n",
    "    Downsamples a DataFrame from monthly to quarterly by computing the mean for each quarter.\n",
    "    \n",
    "    Parameters:\n",
    "        df (pd.DataFrame): The input DataFrame with monthly data.\n",
    "        date_column (str): The name of the column containing the dates.\n",
    "        \n",
    "    Returns:\n",
    "        pd.DataFrame: A new DataFrame downsampled to quarterly frequency.\n",
    "    \"\"\"\n",
    "    # Ensure the date column is in datetime format and set it as the index\n",
    "    df[date_column] = pd.to_datetime(df[date_column], errors='coerce')\n",
    "    df = df.set_index(date_column)\n",
    "    \n",
    "    # Downsample to quarterly frequency using the mean for each quarter\n",
    "    df_quarterly = df.resample('QE').mean()\n",
    "    \n",
    "    # Reset index so that 'Date' is again a column\n",
    "    df_quarterly = df_quarterly.reset_index()\n",
    "    return df_quarterly"
   ]
  },
  {
   "cell_type": "code",
   "execution_count": 29,
   "id": "76b2468a",
   "metadata": {},
   "outputs": [],
   "source": [
    "def upsample_to_weekly(df, date_column):\n",
    "    \"\"\"\n",
    "    Upsamples a DataFrame from monthly to weekly frequency and interpolates missing data points.\n",
    "    \n",
    "    This function ensures the datetime index is unique by aggregating duplicates using the mean.\n",
    "    \n",
    "    Parameters:\n",
    "        df (pd.DataFrame): The input DataFrame with monthly data.\n",
    "        date_column (str): The name of the column containing the dates.\n",
    "        \n",
    "    Returns:\n",
    "        pd.DataFrame: A new DataFrame upsampled to weekly frequency with interpolated values.\n",
    "    \"\"\"\n",
    "    # Ensure the date column is in datetime format and set it as the index\n",
    "    df[date_column] = pd.to_datetime(df[date_column], errors='coerce')\n",
    "    df = df.set_index(date_column)\n",
    "    \n",
    "    # If there are duplicate dates, aggregate them by taking the mean\n",
    "    if not df.index.is_unique:\n",
    "        df = df.groupby(df.index).mean()\n",
    "    \n",
    "    # Upsample to weekly frequency and interpolate missing values\n",
    "    df_weekly = df.resample('W').interpolate(method='linear')\n",
    "    \n",
    "    # Reset index so that the date becomes a column again\n",
    "    df_weekly = df_weekly.reset_index()\n",
    "    return df_weekly"
   ]
  },
  {
   "cell_type": "code",
   "execution_count": 30,
   "id": "a286485f",
   "metadata": {},
   "outputs": [],
   "source": [
    "# Assuming 'apple_inflation_data_df' is your monthly inflation DataFrame and 'Date' is the date column.\n",
    "apple_inflation_quarterly_df = downsample_to_quarterly(apple_historical_data_df, \"Date\")\n"
   ]
  },
  {
   "cell_type": "code",
   "execution_count": 31,
   "id": "d673497c",
   "metadata": {},
   "outputs": [
    {
     "data": {
      "text/html": [
       "<div>\n",
       "<style scoped>\n",
       "    .dataframe tbody tr th:only-of-type {\n",
       "        vertical-align: middle;\n",
       "    }\n",
       "\n",
       "    .dataframe tbody tr th {\n",
       "        vertical-align: top;\n",
       "    }\n",
       "\n",
       "    .dataframe thead th {\n",
       "        text-align: right;\n",
       "    }\n",
       "</style>\n",
       "<table border=\"1\" class=\"dataframe\">\n",
       "  <thead>\n",
       "    <tr style=\"text-align: right;\">\n",
       "      <th></th>\n",
       "      <th>Date</th>\n",
       "      <th>Close/Last</th>\n",
       "      <th>Volume</th>\n",
       "      <th>Open</th>\n",
       "      <th>High</th>\n",
       "      <th>Low</th>\n",
       "    </tr>\n",
       "  </thead>\n",
       "  <tbody>\n",
       "    <tr>\n",
       "      <th>0</th>\n",
       "      <td>2014-06-30</td>\n",
       "      <td>22.335128</td>\n",
       "      <td>2.514425e+08</td>\n",
       "      <td>22.312051</td>\n",
       "      <td>22.483846</td>\n",
       "      <td>22.164615</td>\n",
       "    </tr>\n",
       "    <tr>\n",
       "      <th>1</th>\n",
       "      <td>2014-09-30</td>\n",
       "      <td>24.542344</td>\n",
       "      <td>2.173873e+08</td>\n",
       "      <td>24.532656</td>\n",
       "      <td>24.740938</td>\n",
       "      <td>24.330000</td>\n",
       "    </tr>\n",
       "    <tr>\n",
       "      <th>2</th>\n",
       "      <td>2014-12-31</td>\n",
       "      <td>27.207344</td>\n",
       "      <td>2.025053e+08</td>\n",
       "      <td>27.200625</td>\n",
       "      <td>27.466094</td>\n",
       "      <td>26.956406</td>\n",
       "    </tr>\n",
       "    <tr>\n",
       "      <th>3</th>\n",
       "      <td>2015-03-31</td>\n",
       "      <td>30.195082</td>\n",
       "      <td>2.341572e+08</td>\n",
       "      <td>30.251475</td>\n",
       "      <td>30.514754</td>\n",
       "      <td>29.889672</td>\n",
       "    </tr>\n",
       "    <tr>\n",
       "      <th>4</th>\n",
       "      <td>2015-06-30</td>\n",
       "      <td>31.985714</td>\n",
       "      <td>1.788339e+08</td>\n",
       "      <td>32.019365</td>\n",
       "      <td>32.240159</td>\n",
       "      <td>31.760952</td>\n",
       "    </tr>\n",
       "  </tbody>\n",
       "</table>\n",
       "</div>"
      ],
      "text/plain": [
       "        Date  Close/Last        Volume       Open       High        Low\n",
       "0 2014-06-30   22.335128  2.514425e+08  22.312051  22.483846  22.164615\n",
       "1 2014-09-30   24.542344  2.173873e+08  24.532656  24.740938  24.330000\n",
       "2 2014-12-31   27.207344  2.025053e+08  27.200625  27.466094  26.956406\n",
       "3 2015-03-31   30.195082  2.341572e+08  30.251475  30.514754  29.889672\n",
       "4 2015-06-30   31.985714  1.788339e+08  32.019365  32.240159  31.760952"
      ]
     },
     "execution_count": 31,
     "metadata": {},
     "output_type": "execute_result"
    }
   ],
   "source": [
    "apple_inflation_quarterly_df.head()"
   ]
  },
  {
   "cell_type": "code",
   "execution_count": null,
   "id": "9586b6e6",
   "metadata": {},
   "outputs": [],
   "source": []
  },
  {
   "cell_type": "code",
   "execution_count": 32,
   "id": "b1779a83",
   "metadata": {},
   "outputs": [],
   "source": [
    "apple_inflation_weekly_df = upsample_to_weekly(apple_historical_data_df, \"Date\")"
   ]
  },
  {
   "cell_type": "code",
   "execution_count": 33,
   "id": "066dc520",
   "metadata": {},
   "outputs": [
    {
     "data": {
      "text/html": [
       "<div>\n",
       "<style scoped>\n",
       "    .dataframe tbody tr th:only-of-type {\n",
       "        vertical-align: middle;\n",
       "    }\n",
       "\n",
       "    .dataframe tbody tr th {\n",
       "        vertical-align: top;\n",
       "    }\n",
       "\n",
       "    .dataframe thead th {\n",
       "        text-align: right;\n",
       "    }\n",
       "</style>\n",
       "<table border=\"1\" class=\"dataframe\">\n",
       "  <thead>\n",
       "    <tr style=\"text-align: right;\">\n",
       "      <th></th>\n",
       "      <th>Date</th>\n",
       "      <th>Close/Last</th>\n",
       "      <th>Volume</th>\n",
       "      <th>Open</th>\n",
       "      <th>High</th>\n",
       "      <th>Low</th>\n",
       "    </tr>\n",
       "  </thead>\n",
       "  <tbody>\n",
       "    <tr>\n",
       "      <th>0</th>\n",
       "      <td>2014-06-01</td>\n",
       "      <td>NaN</td>\n",
       "      <td>NaN</td>\n",
       "      <td>NaN</td>\n",
       "      <td>NaN</td>\n",
       "      <td>NaN</td>\n",
       "    </tr>\n",
       "    <tr>\n",
       "      <th>1</th>\n",
       "      <td>2014-06-08</td>\n",
       "      <td>NaN</td>\n",
       "      <td>NaN</td>\n",
       "      <td>NaN</td>\n",
       "      <td>NaN</td>\n",
       "      <td>NaN</td>\n",
       "    </tr>\n",
       "    <tr>\n",
       "      <th>2</th>\n",
       "      <td>2014-06-15</td>\n",
       "      <td>NaN</td>\n",
       "      <td>NaN</td>\n",
       "      <td>NaN</td>\n",
       "      <td>NaN</td>\n",
       "      <td>NaN</td>\n",
       "    </tr>\n",
       "    <tr>\n",
       "      <th>3</th>\n",
       "      <td>2014-06-22</td>\n",
       "      <td>NaN</td>\n",
       "      <td>NaN</td>\n",
       "      <td>NaN</td>\n",
       "      <td>NaN</td>\n",
       "      <td>NaN</td>\n",
       "    </tr>\n",
       "    <tr>\n",
       "      <th>4</th>\n",
       "      <td>2014-06-29</td>\n",
       "      <td>NaN</td>\n",
       "      <td>NaN</td>\n",
       "      <td>NaN</td>\n",
       "      <td>NaN</td>\n",
       "      <td>NaN</td>\n",
       "    </tr>\n",
       "  </tbody>\n",
       "</table>\n",
       "</div>"
      ],
      "text/plain": [
       "        Date  Close/Last  Volume  Open  High  Low\n",
       "0 2014-06-01         NaN     NaN   NaN   NaN  NaN\n",
       "1 2014-06-08         NaN     NaN   NaN   NaN  NaN\n",
       "2 2014-06-15         NaN     NaN   NaN   NaN  NaN\n",
       "3 2014-06-22         NaN     NaN   NaN   NaN  NaN\n",
       "4 2014-06-29         NaN     NaN   NaN   NaN  NaN"
      ]
     },
     "execution_count": 33,
     "metadata": {},
     "output_type": "execute_result"
    }
   ],
   "source": [
    "apple_inflation_weekly_df.head()"
   ]
  },
  {
   "cell_type": "markdown",
   "id": "cc2fee5d",
   "metadata": {},
   "source": [
    "## Data preprocessing: Normalize/standardize a feature\n",
    "\n",
    "Economic time series data often involve variables measured on different scales (e.g., GDP in trillions of dollars, inflation in percentage points). Standardizing these variables (typically by subtracting the mean and dividing by the standard deviation) puts them on a common scale, allowing for meaningful comparisons and analyses.\n",
    "\n",
    "Your task:\n",
    "* Standardize the GDP data. You may do this manually by subtracting the mean and dividing by the standard deviation, or you may use a built-in method from a library like `sklearn`'s `StandardScaler`"
   ]
  },
  {
   "cell_type": "code",
   "execution_count": 34,
   "id": "fe73af77",
   "metadata": {},
   "outputs": [],
   "source": [
    "# Standardize the GDP measure\n",
    "def standardize_features(df, feature_list):\n",
    "    \"\"\"\n",
    "    Standardizes the specified features in the DataFrame using sklearn's StandardScaler.\n",
    "    A new column is created for each feature with standardized values.\n",
    "    \n",
    "    Parameters:\n",
    "        df (pd.DataFrame): The input DataFrame.\n",
    "        feature_list (list): List of column names (features) to standardize.\n",
    "    \n",
    "    Returns:\n",
    "        pd.DataFrame: The DataFrame with new standardized feature columns appended.\n",
    "    \"\"\"\n",
    "    # Initialize the scaler\n",
    "    scaler = StandardScaler()\n",
    "    \n",
    "    # Fit and transform the selected features\n",
    "    standardized_data = scaler.fit_transform(df[feature_list])\n",
    "    \n",
    "    # Create new column names for the standardized features\n",
    "    standardized_columns = [f\"{feature}_standardized\" for feature in feature_list]\n",
    "    \n",
    "    # Create a DataFrame from the standardized data\n",
    "    standardized_df = pd.DataFrame(standardized_data, columns=standardized_columns, index=df.index)\n",
    "    \n",
    "    # Concatenate the new standardized columns with the original DataFrame\n",
    "    df = pd.concat([df, standardized_df], axis=1)\n",
    "    \n",
    "    return df"
   ]
  },
  {
   "cell_type": "code",
   "execution_count": 35,
   "id": "c276fae9",
   "metadata": {},
   "outputs": [],
   "source": [
    "standardize_GDP_measure_df = standardize_features(gdp_df, [\"GDP\"])\n"
   ]
  },
  {
   "cell_type": "code",
   "execution_count": 36,
   "id": "313b81e0",
   "metadata": {},
   "outputs": [
    {
     "data": {
      "text/html": [
       "<div>\n",
       "<style scoped>\n",
       "    .dataframe tbody tr th:only-of-type {\n",
       "        vertical-align: middle;\n",
       "    }\n",
       "\n",
       "    .dataframe tbody tr th {\n",
       "        vertical-align: top;\n",
       "    }\n",
       "\n",
       "    .dataframe thead th {\n",
       "        text-align: right;\n",
       "    }\n",
       "</style>\n",
       "<table border=\"1\" class=\"dataframe\">\n",
       "  <thead>\n",
       "    <tr style=\"text-align: right;\">\n",
       "      <th></th>\n",
       "      <th>DATE</th>\n",
       "      <th>GDP</th>\n",
       "      <th>GDP_standardized</th>\n",
       "    </tr>\n",
       "  </thead>\n",
       "  <tbody>\n",
       "    <tr>\n",
       "      <th>0</th>\n",
       "      <td>1947-01-01</td>\n",
       "      <td>243.164</td>\n",
       "      <td>-0.935496</td>\n",
       "    </tr>\n",
       "    <tr>\n",
       "      <th>1</th>\n",
       "      <td>1947-04-01</td>\n",
       "      <td>245.968</td>\n",
       "      <td>-0.935121</td>\n",
       "    </tr>\n",
       "    <tr>\n",
       "      <th>2</th>\n",
       "      <td>1947-07-01</td>\n",
       "      <td>249.585</td>\n",
       "      <td>-0.934636</td>\n",
       "    </tr>\n",
       "    <tr>\n",
       "      <th>3</th>\n",
       "      <td>1947-10-01</td>\n",
       "      <td>259.745</td>\n",
       "      <td>-0.933276</td>\n",
       "    </tr>\n",
       "    <tr>\n",
       "      <th>4</th>\n",
       "      <td>1948-01-01</td>\n",
       "      <td>265.742</td>\n",
       "      <td>-0.932472</td>\n",
       "    </tr>\n",
       "  </tbody>\n",
       "</table>\n",
       "</div>"
      ],
      "text/plain": [
       "         DATE      GDP  GDP_standardized\n",
       "0  1947-01-01  243.164         -0.935496\n",
       "1  1947-04-01  245.968         -0.935121\n",
       "2  1947-07-01  249.585         -0.934636\n",
       "3  1947-10-01  259.745         -0.933276\n",
       "4  1948-01-01  265.742         -0.932472"
      ]
     },
     "execution_count": 36,
     "metadata": {},
     "output_type": "execute_result"
    }
   ],
   "source": [
    "standardize_GDP_measure_df.head()"
   ]
  },
  {
   "cell_type": "code",
   "execution_count": 37,
   "id": "9ed5ddfe",
   "metadata": {},
   "outputs": [],
   "source": [
    "standardize_Apple_measure_df = standardize_features(apple_historical_data_df, [\"Close/Last\"])"
   ]
  },
  {
   "cell_type": "code",
   "execution_count": 38,
   "id": "72482240",
   "metadata": {},
   "outputs": [
    {
     "data": {
      "text/html": [
       "<div>\n",
       "<style scoped>\n",
       "    .dataframe tbody tr th:only-of-type {\n",
       "        vertical-align: middle;\n",
       "    }\n",
       "\n",
       "    .dataframe tbody tr th {\n",
       "        vertical-align: top;\n",
       "    }\n",
       "\n",
       "    .dataframe thead th {\n",
       "        text-align: right;\n",
       "    }\n",
       "</style>\n",
       "<table border=\"1\" class=\"dataframe\">\n",
       "  <thead>\n",
       "    <tr style=\"text-align: right;\">\n",
       "      <th></th>\n",
       "      <th>Date</th>\n",
       "      <th>Close/Last</th>\n",
       "      <th>Volume</th>\n",
       "      <th>Open</th>\n",
       "      <th>High</th>\n",
       "      <th>Low</th>\n",
       "      <th>Close/Last_standardized</th>\n",
       "    </tr>\n",
       "  </thead>\n",
       "  <tbody>\n",
       "    <tr>\n",
       "      <th>0</th>\n",
       "      <td>2024-05-31</td>\n",
       "      <td>183.38</td>\n",
       "      <td>163224100</td>\n",
       "      <td>186.65</td>\n",
       "      <td>187.00</td>\n",
       "      <td>182.66</td>\n",
       "      <td>1.725649</td>\n",
       "    </tr>\n",
       "    <tr>\n",
       "      <th>1</th>\n",
       "      <td>2024-05-31</td>\n",
       "      <td>173.03</td>\n",
       "      <td>94214920</td>\n",
       "      <td>172.51</td>\n",
       "      <td>173.42</td>\n",
       "      <td>170.89</td>\n",
       "      <td>1.547114</td>\n",
       "    </tr>\n",
       "    <tr>\n",
       "      <th>2</th>\n",
       "      <td>2024-05-31</td>\n",
       "      <td>169.30</td>\n",
       "      <td>50383150</td>\n",
       "      <td>169.58</td>\n",
       "      <td>172.71</td>\n",
       "      <td>169.11</td>\n",
       "      <td>1.482773</td>\n",
       "    </tr>\n",
       "    <tr>\n",
       "      <th>3</th>\n",
       "      <td>2024-04-30</td>\n",
       "      <td>170.33</td>\n",
       "      <td>65934780</td>\n",
       "      <td>173.33</td>\n",
       "      <td>174.99</td>\n",
       "      <td>170.00</td>\n",
       "      <td>1.500540</td>\n",
       "    </tr>\n",
       "    <tr>\n",
       "      <th>4</th>\n",
       "      <td>2024-04-30</td>\n",
       "      <td>173.50</td>\n",
       "      <td>68169420</td>\n",
       "      <td>173.37</td>\n",
       "      <td>176.03</td>\n",
       "      <td>173.10</td>\n",
       "      <td>1.555222</td>\n",
       "    </tr>\n",
       "    <tr>\n",
       "      <th>...</th>\n",
       "      <td>...</td>\n",
       "      <td>...</td>\n",
       "      <td>...</td>\n",
       "      <td>...</td>\n",
       "      <td>...</td>\n",
       "      <td>...</td>\n",
       "      <td>...</td>\n",
       "    </tr>\n",
       "    <tr>\n",
       "      <th>2512</th>\n",
       "      <td>2014-05-31</td>\n",
       "      <td>21.17</td>\n",
       "      <td>212736019</td>\n",
       "      <td>20.98</td>\n",
       "      <td>21.20</td>\n",
       "      <td>20.98</td>\n",
       "      <td>-1.072433</td>\n",
       "    </tr>\n",
       "    <tr>\n",
       "      <th>2513</th>\n",
       "      <td>2014-05-31</td>\n",
       "      <td>20.91</td>\n",
       "      <td>291068564</td>\n",
       "      <td>20.88</td>\n",
       "      <td>20.94</td>\n",
       "      <td>20.73</td>\n",
       "      <td>-1.076918</td>\n",
       "    </tr>\n",
       "    <tr>\n",
       "      <th>2514</th>\n",
       "      <td>2014-05-31</td>\n",
       "      <td>21.00</td>\n",
       "      <td>228973884</td>\n",
       "      <td>21.01</td>\n",
       "      <td>21.23</td>\n",
       "      <td>20.94</td>\n",
       "      <td>-1.075365</td>\n",
       "    </tr>\n",
       "    <tr>\n",
       "      <th>2515</th>\n",
       "      <td>2014-05-31</td>\n",
       "      <td>21.15</td>\n",
       "      <td>282128727</td>\n",
       "      <td>21.26</td>\n",
       "      <td>21.33</td>\n",
       "      <td>20.99</td>\n",
       "      <td>-1.072778</td>\n",
       "    </tr>\n",
       "    <tr>\n",
       "      <th>2516</th>\n",
       "      <td>2014-05-31</td>\n",
       "      <td>21.23</td>\n",
       "      <td>373872650</td>\n",
       "      <td>21.49</td>\n",
       "      <td>21.59</td>\n",
       "      <td>21.23</td>\n",
       "      <td>-1.071398</td>\n",
       "    </tr>\n",
       "  </tbody>\n",
       "</table>\n",
       "<p>2517 rows × 7 columns</p>\n",
       "</div>"
      ],
      "text/plain": [
       "           Date  Close/Last     Volume    Open    High     Low  \\\n",
       "0    2024-05-31      183.38  163224100  186.65  187.00  182.66   \n",
       "1    2024-05-31      173.03   94214920  172.51  173.42  170.89   \n",
       "2    2024-05-31      169.30   50383150  169.58  172.71  169.11   \n",
       "3    2024-04-30      170.33   65934780  173.33  174.99  170.00   \n",
       "4    2024-04-30      173.50   68169420  173.37  176.03  173.10   \n",
       "...         ...         ...        ...     ...     ...     ...   \n",
       "2512 2014-05-31       21.17  212736019   20.98   21.20   20.98   \n",
       "2513 2014-05-31       20.91  291068564   20.88   20.94   20.73   \n",
       "2514 2014-05-31       21.00  228973884   21.01   21.23   20.94   \n",
       "2515 2014-05-31       21.15  282128727   21.26   21.33   20.99   \n",
       "2516 2014-05-31       21.23  373872650   21.49   21.59   21.23   \n",
       "\n",
       "      Close/Last_standardized  \n",
       "0                    1.725649  \n",
       "1                    1.547114  \n",
       "2                    1.482773  \n",
       "3                    1.500540  \n",
       "4                    1.555222  \n",
       "...                       ...  \n",
       "2512                -1.072433  \n",
       "2513                -1.076918  \n",
       "2514                -1.075365  \n",
       "2515                -1.072778  \n",
       "2516                -1.071398  \n",
       "\n",
       "[2517 rows x 7 columns]"
      ]
     },
     "execution_count": 38,
     "metadata": {},
     "output_type": "execute_result"
    }
   ],
   "source": [
    "standardize_Apple_measure_df"
   ]
  },
  {
   "cell_type": "code",
   "execution_count": 39,
   "id": "151e9974",
   "metadata": {},
   "outputs": [],
   "source": [
    "standardize_Microsft_measure_df = standardize_features(microsft_historical_data_df, [\"Close/Last\"])"
   ]
  },
  {
   "cell_type": "code",
   "execution_count": 40,
   "id": "4d0b16e0",
   "metadata": {},
   "outputs": [
    {
     "data": {
      "text/html": [
       "<div>\n",
       "<style scoped>\n",
       "    .dataframe tbody tr th:only-of-type {\n",
       "        vertical-align: middle;\n",
       "    }\n",
       "\n",
       "    .dataframe tbody tr th {\n",
       "        vertical-align: top;\n",
       "    }\n",
       "\n",
       "    .dataframe thead th {\n",
       "        text-align: right;\n",
       "    }\n",
       "</style>\n",
       "<table border=\"1\" class=\"dataframe\">\n",
       "  <thead>\n",
       "    <tr style=\"text-align: right;\">\n",
       "      <th></th>\n",
       "      <th>Date</th>\n",
       "      <th>Close/Last</th>\n",
       "      <th>Volume</th>\n",
       "      <th>Open</th>\n",
       "      <th>High</th>\n",
       "      <th>Low</th>\n",
       "      <th>Close/Last_standardized</th>\n",
       "    </tr>\n",
       "  </thead>\n",
       "  <tbody>\n",
       "    <tr>\n",
       "      <th>0</th>\n",
       "      <td>2024-05-31</td>\n",
       "      <td>406.660</td>\n",
       "      <td>17446720</td>\n",
       "      <td>402.28</td>\n",
       "      <td>407.1500</td>\n",
       "      <td>401.8600</td>\n",
       "      <td>2.229066</td>\n",
       "    </tr>\n",
       "    <tr>\n",
       "      <th>1</th>\n",
       "      <td>2024-05-31</td>\n",
       "      <td>397.840</td>\n",
       "      <td>17709360</td>\n",
       "      <td>397.66</td>\n",
       "      <td>399.9300</td>\n",
       "      <td>394.6515</td>\n",
       "      <td>2.148575</td>\n",
       "    </tr>\n",
       "    <tr>\n",
       "      <th>2</th>\n",
       "      <td>2024-05-31</td>\n",
       "      <td>394.940</td>\n",
       "      <td>23562480</td>\n",
       "      <td>392.61</td>\n",
       "      <td>401.7199</td>\n",
       "      <td>390.3100</td>\n",
       "      <td>2.122109</td>\n",
       "    </tr>\n",
       "    <tr>\n",
       "      <th>3</th>\n",
       "      <td>2024-04-30</td>\n",
       "      <td>389.330</td>\n",
       "      <td>28781370</td>\n",
       "      <td>401.49</td>\n",
       "      <td>402.1600</td>\n",
       "      <td>389.1700</td>\n",
       "      <td>2.070913</td>\n",
       "    </tr>\n",
       "    <tr>\n",
       "      <th>4</th>\n",
       "      <td>2024-04-30</td>\n",
       "      <td>402.250</td>\n",
       "      <td>19582090</td>\n",
       "      <td>405.25</td>\n",
       "      <td>406.3200</td>\n",
       "      <td>399.1900</td>\n",
       "      <td>2.188820</td>\n",
       "    </tr>\n",
       "    <tr>\n",
       "      <th>...</th>\n",
       "      <td>...</td>\n",
       "      <td>...</td>\n",
       "      <td>...</td>\n",
       "      <td>...</td>\n",
       "      <td>...</td>\n",
       "      <td>...</td>\n",
       "      <td>...</td>\n",
       "    </tr>\n",
       "    <tr>\n",
       "      <th>2512</th>\n",
       "      <td>2014-05-31</td>\n",
       "      <td>39.970</td>\n",
       "      <td>22761620</td>\n",
       "      <td>39.74</td>\n",
       "      <td>40.0200</td>\n",
       "      <td>39.6500</td>\n",
       "      <td>-1.117330</td>\n",
       "    </tr>\n",
       "    <tr>\n",
       "      <th>2513</th>\n",
       "      <td>2014-05-31</td>\n",
       "      <td>39.540</td>\n",
       "      <td>29646100</td>\n",
       "      <td>39.54</td>\n",
       "      <td>39.8500</td>\n",
       "      <td>39.3700</td>\n",
       "      <td>-1.121254</td>\n",
       "    </tr>\n",
       "    <tr>\n",
       "      <th>2514</th>\n",
       "      <td>2014-05-31</td>\n",
       "      <td>39.640</td>\n",
       "      <td>32089010</td>\n",
       "      <td>39.34</td>\n",
       "      <td>39.9000</td>\n",
       "      <td>38.9700</td>\n",
       "      <td>-1.120341</td>\n",
       "    </tr>\n",
       "    <tr>\n",
       "      <th>2515</th>\n",
       "      <td>2014-05-31</td>\n",
       "      <td>39.425</td>\n",
       "      <td>41731030</td>\n",
       "      <td>39.22</td>\n",
       "      <td>39.5100</td>\n",
       "      <td>38.5100</td>\n",
       "      <td>-1.122303</td>\n",
       "    </tr>\n",
       "    <tr>\n",
       "      <th>2516</th>\n",
       "      <td>2014-05-31</td>\n",
       "      <td>39.060</td>\n",
       "      <td>27105700</td>\n",
       "      <td>39.29</td>\n",
       "      <td>39.3500</td>\n",
       "      <td>38.9500</td>\n",
       "      <td>-1.125634</td>\n",
       "    </tr>\n",
       "  </tbody>\n",
       "</table>\n",
       "<p>2517 rows × 7 columns</p>\n",
       "</div>"
      ],
      "text/plain": [
       "           Date  Close/Last    Volume    Open      High       Low  \\\n",
       "0    2024-05-31     406.660  17446720  402.28  407.1500  401.8600   \n",
       "1    2024-05-31     397.840  17709360  397.66  399.9300  394.6515   \n",
       "2    2024-05-31     394.940  23562480  392.61  401.7199  390.3100   \n",
       "3    2024-04-30     389.330  28781370  401.49  402.1600  389.1700   \n",
       "4    2024-04-30     402.250  19582090  405.25  406.3200  399.1900   \n",
       "...         ...         ...       ...     ...       ...       ...   \n",
       "2512 2014-05-31      39.970  22761620   39.74   40.0200   39.6500   \n",
       "2513 2014-05-31      39.540  29646100   39.54   39.8500   39.3700   \n",
       "2514 2014-05-31      39.640  32089010   39.34   39.9000   38.9700   \n",
       "2515 2014-05-31      39.425  41731030   39.22   39.5100   38.5100   \n",
       "2516 2014-05-31      39.060  27105700   39.29   39.3500   38.9500   \n",
       "\n",
       "      Close/Last_standardized  \n",
       "0                    2.229066  \n",
       "1                    2.148575  \n",
       "2                    2.122109  \n",
       "3                    2.070913  \n",
       "4                    2.188820  \n",
       "...                       ...  \n",
       "2512                -1.117330  \n",
       "2513                -1.121254  \n",
       "2514                -1.120341  \n",
       "2515                -1.122303  \n",
       "2516                -1.125634  \n",
       "\n",
       "[2517 rows x 7 columns]"
      ]
     },
     "execution_count": 40,
     "metadata": {},
     "output_type": "execute_result"
    }
   ],
   "source": [
    "standardize_Microsft_measure_df"
   ]
  },
  {
   "cell_type": "markdown",
   "id": "a2fb648e",
   "metadata": {},
   "source": [
    "## EDA: Plotting a time series of adjusted open vs close price\n",
    "\n",
    "As part of your EDA, you'll frequently want to plot two time series on the same graph and using the same axis to compare their movements. \n",
    "\n",
    "Your task:\n",
    "* Plot the Apple open and close price time series on the same chart **for the last three months only**. Be sure to use a legend to label each line\n",
    "\n",
    "**NOTE**: This is a large dataset. If you try to plot the entire series, your graph will be hard to interpret and may take a long time to plot. Be sure to use only the most recent three months of data. "
   ]
  },
  {
   "cell_type": "code",
   "execution_count": 41,
   "id": "9241f843",
   "metadata": {},
   "outputs": [
    {
     "data": {
      "image/png": "[encoded data removed]",
      "text/plain": [
       "<Figure size 1000x600 with 1 Axes>"
      ]
     },
     "metadata": {},
     "output_type": "display_data"
    }
   ],
   "source": [
    "# Convert the 'Date' column to datetime (if not already done)\n",
    "apple_historical_data_df['Date'] = pd.to_datetime(apple_historical_data_df['Date'], errors='coerce')\n",
    "\n",
    "# Determine the most recent date and calculate the date three months ago\n",
    "last_date = apple_historical_data_df['Date'].max()\n",
    "three_months_ago = last_date - pd.DateOffset(months=3)\n",
    "\n",
    "# Filter the dataframe to only include data from the last three months\n",
    "recent_data = apple_historical_data_df[apple_historical_data_df['Date'] >= three_months_ago]\n",
    "\n",
    "# Plot the Open and Close/Last prices\n",
    "plt.figure(figsize=(10, 6))\n",
    "plt.plot(recent_data['Date'], recent_data['Open'], marker='o', label='Open Price')\n",
    "plt.plot(recent_data['Date'], recent_data['Close/Last'], marker='o', label='Close Price')\n",
    "\n",
    "plt.xlabel(\"Date\")\n",
    "plt.ylabel(\"Price\")\n",
    "plt.title(\"Apple Open and Close Prices (Last Three Months)\")\n",
    "plt.legend()\n",
    "plt.xticks(rotation=45)\n",
    "plt.tight_layout()\n",
    "plt.show()"
   ]
  },
  {
   "cell_type": "code",
   "execution_count": 42,
   "id": "b1a641f4",
   "metadata": {},
   "outputs": [
    {
     "name": "stdout",
     "output_type": "stream",
     "text": [
      "The maximum date in the timeseries is: 2024-05-31 00:00:00\n"
     ]
    }
   ],
   "source": [
    "max_date = apple_historical_data_df['Date'].max()\n",
    "print(\"The maximum date in the timeseries is:\", max_date)"
   ]
  },
  {
   "cell_type": "code",
   "execution_count": 43,
   "id": "dcd458b1",
   "metadata": {},
   "outputs": [
    {
     "data": {
      "image/png": "[encoded data removed]",
      "text/plain": [
       "<Figure size 1000x600 with 1 Axes>"
      ]
     },
     "metadata": {},
     "output_type": "display_data"
    }
   ],
   "source": [
    "# Ensure that the 'Date' column is in datetime format\n",
    "apple_historical_data_df['Date'] = pd.to_datetime(apple_historical_data_df['Date'], errors='coerce')\n",
    "\n",
    "# Get the maximum date from the time series\n",
    "max_date = apple_historical_data_df['Date'].max()\n",
    "\n",
    "# Plot the time series (using 'Close/Last' as an example)\n",
    "plt.figure(figsize=(10, 6))\n",
    "plt.plot(apple_historical_data_df['Date'], apple_historical_data_df['Close/Last'], label='Close Price')\n",
    "\n",
    "# Plot a vertical line at the maximum date\n",
    "plt.axvline(x=max_date, color='red', linestyle='--', label=f'Max Date: {max_date.date()}')\n",
    "\n",
    "plt.xlabel(\"Date\")\n",
    "plt.ylabel(\"Close Price\")\n",
    "plt.title(\"Apple Close Price Time Series with Max Date Highlighted\")\n",
    "plt.legend()\n",
    "plt.xticks(rotation=45)\n",
    "plt.tight_layout()\n",
    "plt.show()"
   ]
  },
  {
   "cell_type": "code",
   "execution_count": 44,
   "id": "4ce2ed57",
   "metadata": {},
   "outputs": [],
   "source": [
    "import pandas as pd\n",
    "\n",
    "def get_last_three_months_data(df, date_column):\n",
    "    \"\"\"\n",
    "    Filters the DataFrame to include only the data from the last three months based on the maximum date in the dataset.\n",
    "    \n",
    "    Parameters:\n",
    "        df (pd.DataFrame): The input DataFrame containing a datetime column.\n",
    "        date_column (str): The name of the datetime column.\n",
    "    \n",
    "    Returns:\n",
    "        pd.DataFrame: A DataFrame containing only the data from the last three months.\n",
    "    \"\"\"\n",
    "    # Ensure the date column is in datetime format\n",
    "    df[date_column] = pd.to_datetime(df[date_column], errors='coerce')\n",
    "    \n",
    "    # Get the maximum date in the time series\n",
    "    max_date = df[date_column].max()\n",
    "    \n",
    "    # Calculate the date three months before the maximum date\n",
    "    start_date = max_date - pd.DateOffset(months=3)\n",
    "    \n",
    "    # Filter the DataFrame to include only rows from the last three months\n",
    "    filtered_df = df[df[date_column] >= start_date]\n",
    "    \n",
    "    return filtered_df\n",
    "\n",
    "# Example usage:\n",
    "# last_three_months_df = get_last_three_months_data(apple_historical_data_df, \"Date\")\n",
    "# print(last_three_months_df.head())"
   ]
  },
  {
   "cell_type": "code",
   "execution_count": 45,
   "id": "33f264f4",
   "metadata": {},
   "outputs": [],
   "source": [
    "last_three_months_df = get_last_three_months_data(apple_historical_data_df, \"Date\")"
   ]
  },
  {
   "cell_type": "code",
   "execution_count": 46,
   "id": "151963b4",
   "metadata": {},
   "outputs": [
    {
     "data": {
      "text/html": [
       "<div>\n",
       "<style scoped>\n",
       "    .dataframe tbody tr th:only-of-type {\n",
       "        vertical-align: middle;\n",
       "    }\n",
       "\n",
       "    .dataframe tbody tr th {\n",
       "        vertical-align: top;\n",
       "    }\n",
       "\n",
       "    .dataframe thead th {\n",
       "        text-align: right;\n",
       "    }\n",
       "</style>\n",
       "<table border=\"1\" class=\"dataframe\">\n",
       "  <thead>\n",
       "    <tr style=\"text-align: right;\">\n",
       "      <th></th>\n",
       "      <th>Date</th>\n",
       "      <th>Close/Last</th>\n",
       "      <th>Volume</th>\n",
       "      <th>Open</th>\n",
       "      <th>High</th>\n",
       "      <th>Low</th>\n",
       "    </tr>\n",
       "  </thead>\n",
       "  <tbody>\n",
       "    <tr>\n",
       "      <th>0</th>\n",
       "      <td>2024-05-31</td>\n",
       "      <td>183.38</td>\n",
       "      <td>163224100</td>\n",
       "      <td>186.65</td>\n",
       "      <td>187.00</td>\n",
       "      <td>182.66</td>\n",
       "    </tr>\n",
       "    <tr>\n",
       "      <th>1</th>\n",
       "      <td>2024-05-31</td>\n",
       "      <td>173.03</td>\n",
       "      <td>94214920</td>\n",
       "      <td>172.51</td>\n",
       "      <td>173.42</td>\n",
       "      <td>170.89</td>\n",
       "    </tr>\n",
       "    <tr>\n",
       "      <th>2</th>\n",
       "      <td>2024-05-31</td>\n",
       "      <td>169.30</td>\n",
       "      <td>50383150</td>\n",
       "      <td>169.58</td>\n",
       "      <td>172.71</td>\n",
       "      <td>169.11</td>\n",
       "    </tr>\n",
       "    <tr>\n",
       "      <th>3</th>\n",
       "      <td>2024-04-30</td>\n",
       "      <td>170.33</td>\n",
       "      <td>65934780</td>\n",
       "      <td>173.33</td>\n",
       "      <td>174.99</td>\n",
       "      <td>170.00</td>\n",
       "    </tr>\n",
       "    <tr>\n",
       "      <th>4</th>\n",
       "      <td>2024-04-30</td>\n",
       "      <td>173.50</td>\n",
       "      <td>68169420</td>\n",
       "      <td>173.37</td>\n",
       "      <td>176.03</td>\n",
       "      <td>173.10</td>\n",
       "    </tr>\n",
       "    <tr>\n",
       "      <th>...</th>\n",
       "      <td>...</td>\n",
       "      <td>...</td>\n",
       "      <td>...</td>\n",
       "      <td>...</td>\n",
       "      <td>...</td>\n",
       "      <td>...</td>\n",
       "    </tr>\n",
       "    <tr>\n",
       "      <th>60</th>\n",
       "      <td>2024-02-29</td>\n",
       "      <td>189.41</td>\n",
       "      <td>53438960</td>\n",
       "      <td>190.64</td>\n",
       "      <td>191.05</td>\n",
       "      <td>188.61</td>\n",
       "    </tr>\n",
       "    <tr>\n",
       "      <th>61</th>\n",
       "      <td>2024-02-29</td>\n",
       "      <td>189.30</td>\n",
       "      <td>43490760</td>\n",
       "      <td>186.86</td>\n",
       "      <td>189.31</td>\n",
       "      <td>186.77</td>\n",
       "    </tr>\n",
       "    <tr>\n",
       "      <th>62</th>\n",
       "      <td>2024-02-29</td>\n",
       "      <td>187.68</td>\n",
       "      <td>69668820</td>\n",
       "      <td>188.15</td>\n",
       "      <td>189.25</td>\n",
       "      <td>185.84</td>\n",
       "    </tr>\n",
       "    <tr>\n",
       "      <th>63</th>\n",
       "      <td>2024-02-29</td>\n",
       "      <td>185.85</td>\n",
       "      <td>102551700</td>\n",
       "      <td>179.86</td>\n",
       "      <td>187.33</td>\n",
       "      <td>179.25</td>\n",
       "    </tr>\n",
       "    <tr>\n",
       "      <th>64</th>\n",
       "      <td>2024-02-29</td>\n",
       "      <td>186.86</td>\n",
       "      <td>64885410</td>\n",
       "      <td>183.99</td>\n",
       "      <td>186.95</td>\n",
       "      <td>183.82</td>\n",
       "    </tr>\n",
       "  </tbody>\n",
       "</table>\n",
       "<p>65 rows × 6 columns</p>\n",
       "</div>"
      ],
      "text/plain": [
       "         Date  Close/Last     Volume    Open    High     Low\n",
       "0  2024-05-31      183.38  163224100  186.65  187.00  182.66\n",
       "1  2024-05-31      173.03   94214920  172.51  173.42  170.89\n",
       "2  2024-05-31      169.30   50383150  169.58  172.71  169.11\n",
       "3  2024-04-30      170.33   65934780  173.33  174.99  170.00\n",
       "4  2024-04-30      173.50   68169420  173.37  176.03  173.10\n",
       "..        ...         ...        ...     ...     ...     ...\n",
       "60 2024-02-29      189.41   53438960  190.64  191.05  188.61\n",
       "61 2024-02-29      189.30   43490760  186.86  189.31  186.77\n",
       "62 2024-02-29      187.68   69668820  188.15  189.25  185.84\n",
       "63 2024-02-29      185.85  102551700  179.86  187.33  179.25\n",
       "64 2024-02-29      186.86   64885410  183.99  186.95  183.82\n",
       "\n",
       "[65 rows x 6 columns]"
      ]
     },
     "execution_count": 46,
     "metadata": {},
     "output_type": "execute_result"
    }
   ],
   "source": [
    "last_three_months_df"
   ]
  },
  {
   "cell_type": "code",
   "execution_count": 47,
   "id": "e10884f4",
   "metadata": {},
   "outputs": [
    {
     "data": {
      "image/png": "[encoded data removed]",
      "text/plain": [
       "<Figure size 1000x600 with 1 Axes>"
      ]
     },
     "metadata": {},
     "output_type": "display_data"
    }
   ],
   "source": [
    "# Plot the Open and Close/Last prices on the same chart\n",
    "plt.figure(figsize=(10, 6))\n",
    "plt.plot(last_three_months_df['Date'], last_three_months_df['Open'], marker='o', label='Open Price')\n",
    "plt.plot(last_three_months_df['Date'], last_three_months_df['Close/Last'], marker='o', label='Close Price')\n",
    "\n",
    "plt.xlabel(\"Date\")\n",
    "plt.ylabel(\"Price\")\n",
    "plt.title(\"Apple Stock Price: Open vs. Close (Last 3 Months)\")\n",
    "plt.legend()\n",
    "plt.xticks(rotation=45)\n",
    "plt.tight_layout()\n",
    "plt.show()"
   ]
  },
  {
   "cell_type": "markdown",
   "id": "8b858ef3",
   "metadata": {},
   "source": [
    "## EDA: Plotting a histogram of a stock's closing price in the last three months\n",
    "\n",
    "One way to see how much a stock's price generally moves is to plot the frequency of closing prices over a set time period. \n",
    "\n",
    "Your task:\n",
    "* Use the **last three months** of Apple stock data and plot a histogram of closing price"
   ]
  },
  {
   "cell_type": "code",
   "execution_count": 48,
   "id": "47081cfc",
   "metadata": {},
   "outputs": [
    {
     "data": {
      "image/png": "[encoded data removed]",
      "text/plain": [
       "<Figure size 1000x600 with 1 Axes>"
      ]
     },
     "metadata": {},
     "output_type": "display_data"
    }
   ],
   "source": [
    "# Plot a histogram of the closing price ('Close/Last') for the last three months\n",
    "plt.figure(figsize=(10, 6))\n",
    "plt.hist(last_three_months_df['Close/Last'], bins=20, color='skyblue', edgecolor='black')\n",
    "plt.xlabel(\"Closing Price\")\n",
    "plt.ylabel(\"Frequency\")\n",
    "plt.title(\"Histogram of Apple Closing Price (Last 3 Months)\")\n",
    "plt.tight_layout()\n",
    "plt.show()"
   ]
  },
  {
   "cell_type": "markdown",
   "id": "39fb234b",
   "metadata": {},
   "source": [
    "## Calculating correlation between a stock price and a macroeconomic variable \n",
    "\n",
    "Inflation affects the purchasing power of money and can influence corporate profits, interest rates, and consumer behavior. By analyzing the correlation between stock prices and inflation, one can gauge how inflationary trends impact stock market performance. For instance, high inflation might erode profit margins and reduce stock prices, while moderate inflation might indicate a growing economy, benefiting stocks.\n",
    "\n",
    "Your task:\n",
    "* Plot a heatmap that shows the correlation between Microsoft and Apple returns and inflation \n",
    "\n",
    "This will require several steps:\n",
    "1. Calculate the returns for Apple and Microsoft and the change in monthly inflation (use the `pct_change` method for each)\n",
    "2. Interpolate the daily stock returns data to monthly so it can be compared to the monthly inflation data\n",
    "3. Merge the stock returns (Apple and Microsoft) and inflation data series into a single dataframe\n",
    "4. Calculate the correlation matrix between the Apple returns, Microsoft returns, and inflation change\n",
    "5. Plot the correlation matrix as a heatmap"
   ]
  },
  {
   "cell_type": "markdown",
   "id": "765d7e27",
   "metadata": {},
   "source": [
    "### 1. Calculate returns for Microsoft / Apple and the monthly change in inflation"
   ]
  },
  {
   "cell_type": "code",
   "execution_count": 49,
   "id": "14b0fb2d",
   "metadata": {},
   "outputs": [],
   "source": [
    "# Calculate daily returns for Apple and Microsoft using percentage change on the closing price\n",
    "\n",
    "apple_historical_data_df['Apple_return'] = apple_historical_data_df['Close/Last'].pct_change()\n",
    "microsoft_historical_data_df['MSFT_return'] = microsoft_historical_data_df['Close/Last'].pct_change()\n",
    "inflation_monthly_df['Inflation_change']  = inflation_monthly_df[\"CORESTICKM159SFRBATL\"].pct_change()\n",
    "\n"
   ]
  },
  {
   "cell_type": "markdown",
   "id": "30da18ec",
   "metadata": {},
   "source": [
    " ### 2. Interpolate stock returns from daily to monthly"
   ]
  },
  {
   "cell_type": "code",
   "execution_count": 50,
   "id": "4d1ed26c",
   "metadata": {},
   "outputs": [
    {
     "name": "stdout",
     "output_type": "stream",
     "text": [
      "Date\n",
      "2014-05-31   -0.003062\n",
      "2014-06-30   -0.001894\n",
      "2014-07-31   -0.001175\n",
      "2014-08-31   -0.003413\n",
      "2014-09-30    0.002085\n",
      "Freq: ME, Name: Apple_return, dtype: float64\n",
      "Date\n",
      "2014-05-31   -0.002371\n",
      "2014-06-30   -0.001205\n",
      "2014-07-31   -0.001012\n",
      "2014-08-31   -0.002388\n",
      "2014-09-30   -0.000798\n",
      "Freq: ME, Name: MSFT_return, dtype: float64\n"
     ]
    },
    {
     "name": "stderr",
     "output_type": "stream",
     "text": [
      "/var/folders/67/bb922zxs1458y87dr5v_ytz40000gn/T/ipykernel_56529/457145184.py:14: FutureWarning: 'M' is deprecated and will be removed in a future version, please use 'ME' instead.\n",
      "  apple_monthly_returns = apple_historical_data_df['Apple_return'].resample('M').mean()\n",
      "/var/folders/67/bb922zxs1458y87dr5v_ytz40000gn/T/ipykernel_56529/457145184.py:15: FutureWarning: 'M' is deprecated and will be removed in a future version, please use 'ME' instead.\n",
      "  microsoft_monthly_returns = microsoft_historical_data_df['MSFT_return'].resample('M').mean()\n"
     ]
    }
   ],
   "source": [
    "# Convert the 'Date' column to datetime (if not already set as index)\n",
    "if 'Date' in apple_historical_data_df.columns:\n",
    "    apple_historical_data_df['Date'] = pd.to_datetime(apple_historical_data_df['Date'], errors='coerce')\n",
    "if 'Date' in microsoft_historical_data_df.columns:\n",
    "    microsoft_historical_data_df['Date'] = pd.to_datetime(microsoft_historical_data_df['Date'], errors='coerce')\n",
    "\n",
    "# Set 'Date' as the index (only once)\n",
    "if not isinstance(apple_historical_data_df.index, pd.DatetimeIndex):\n",
    "    apple_historical_data_df.set_index('Date', inplace=True)\n",
    "if not isinstance(microsoft_historical_data_df.index, pd.DatetimeIndex):\n",
    "    microsoft_historical_data_df.set_index('Date', inplace=True)\n",
    "\n",
    "# Now resample using a valid frequency alias \"M\" (month-end)\n",
    "apple_monthly_returns = apple_historical_data_df['Apple_return'].resample('M').mean()\n",
    "microsoft_monthly_returns = microsoft_historical_data_df['MSFT_return'].resample('M').mean()\n",
    "\n",
    "# Check the first few rows\n",
    "print(apple_monthly_returns.head())\n",
    "print(microsoft_monthly_returns.head())"
   ]
  },
  {
   "cell_type": "code",
   "execution_count": null,
   "id": "135b05f7",
   "metadata": {},
   "outputs": [],
   "source": []
  },
  {
   "cell_type": "code",
   "execution_count": null,
   "id": "226ca887",
   "metadata": {},
   "outputs": [],
   "source": []
  },
  {
   "cell_type": "code",
   "execution_count": null,
   "id": "cf23ee8a",
   "metadata": {},
   "outputs": [],
   "source": []
  },
  {
   "cell_type": "markdown",
   "id": "22487cac",
   "metadata": {},
   "source": [
    "  ### 3. Merge the dataframes and calculate / plot the correlation "
   ]
  },
  {
   "cell_type": "code",
   "execution_count": 60,
   "id": "0ae8ec21",
   "metadata": {
    "scrolled": true
   },
   "outputs": [
    {
     "name": "stderr",
     "output_type": "stream",
     "text": [
      "/opt/anaconda3/envs/deeplearning/lib/python3.10/site-packages/seaborn/matrix.py:202: RuntimeWarning: All-NaN slice encountered\n",
      "  vmin = np.nanmin(calc_data)\n",
      "/opt/anaconda3/envs/deeplearning/lib/python3.10/site-packages/seaborn/matrix.py:207: RuntimeWarning: All-NaN slice encountered\n",
      "  vmax = np.nanmax(calc_data)\n"
     ]
    },
    {
     "data": {
      "image/png": "[encoded data removed]",
      "text/plain": [
       "<Figure size 800x600 with 2 Axes>"
      ]
     },
     "metadata": {},
     "output_type": "display_data"
    }
   ],
   "source": [
    "# print(\"Inflation Data Index:\", inflation_monthly_df.index)\n",
    "\n",
    "# Ensure the index is datetime\n",
    "if not isinstance(inflation_monthly_df.index, pd.DatetimeIndex):\n",
    "    inflation_monthly_df.index = pd.to_datetime(inflation_monthly_df.index, errors='coerce')\n",
    "\n",
    "# Shift the index to month-end (if needed)\n",
    "inflation_monthly_df.index = inflation_monthly_df.index + pd.offsets.MonthEnd(0)\n",
    "\n",
    "# Calculate monthly inflation change\n",
    "inflation_monthly_df['Inflation_change'] = inflation_monthly_df[\"CORESTICKM159SFRBATL\"].pct_change()\n",
    "\n",
    "# --- Prepare Stock Data (Assuming these have been processed already) ---\n",
    "# For example, apple_monthly_returns and microsoft_monthly_returns are Series with month-end dates:\n",
    "apple_monthly_returns = apple_historical_data_df['Apple_return'].resample('ME').mean()\n",
    "microsoft_monthly_returns = microsoft_historical_data_df['MSFT_return'].resample('ME').mean()\n",
    "\n",
    "# Rename the series for clarity\n",
    "apple_series = apple_monthly_returns.rename(\"Apple_return\")\n",
    "msft_series = microsoft_monthly_returns.rename(\"MSFT_return\")\n",
    "inflation_series = inflation_monthly_df['Inflation_change'].rename(\"Inflation_change\")\n",
    "\n",
    "# --- Merge the Data ---\n",
    "merged_df = pd.concat([apple_series, msft_series, inflation_series], axis=1, join=\"inner\")\n",
    "merged_df.dropna(inplace=True)\n",
    "# print(\"Merged DataFrame (first few rows):\")\n",
    "# print(merged_df.head())\n",
    "\n",
    "# --- Calculate Correlation Matrix and Plot Heatmap ---\n",
    "corr_matrix = merged_df.corr()\n",
    "# print(\"\\nCorrelation Matrix:\")\n",
    "# print(corr_matrix)\n",
    "\n",
    "plt.figure(figsize=(8, 6))\n",
    "sns.heatmap(corr_matrix, annot=True, cmap='coolwarm', fmt=\".2f\", square=True)\n",
    "plt.title(\"Correlation: Apple & Microsoft Returns vs. Inflation Change\")\n",
    "plt.tight_layout()\n",
    "plt.show()"
   ]
  },
  {
   "cell_type": "code",
   "execution_count": null,
   "id": "adb8b422",
   "metadata": {},
   "outputs": [],
   "source": []
  },
  {
   "cell_type": "code",
   "execution_count": null,
   "id": "3377ebb1",
   "metadata": {},
   "outputs": [],
   "source": [
    "apple_monthly_returns.index.max()"
   ]
  },
  {
   "cell_type": "markdown",
   "id": "deb0f5ae",
   "metadata": {},
   "source": [
    "### 4. Calculate the correlation matrix between the Apple returns, Microsoft returns, and inflation change"
   ]
  },
  {
   "cell_type": "markdown",
   "id": "58ca526b",
   "metadata": {},
   "source": [
    "### 5. Plot the correlation matrix as a heatmap "
   ]
  },
  {
   "cell_type": "code",
   "execution_count": null,
   "id": "17d734cf",
   "metadata": {},
   "outputs": [],
   "source": [
    "import pandas as pd\n",
    "import matplotlib.pyplot as plt\n",
    "import seaborn as sns\n",
    "\n",
    "# --- Merge the DataFrames ---\n",
    "# Rename the series for clarity if needed\n",
    "apple_series = apple_monthly_returns.rename(\"Apple_return\")\n",
    "msft_series = microsoft_monthly_returns.rename(\"MSFT_return\")\n",
    "inflation_series = inflation_monthly_df['Inflation_change'].rename(\"Inflation_change\")\n",
    "\n",
    "# Merge the three series on the date index using concat along columns\n",
    "merged_df = pd.concat([apple_series, msft_series, inflation_series], axis=1)\n",
    "\n",
    "# Drop any missing values (e.g., from pct_change or interpolation)\n",
    "merged_df.dropna(inplace=True)\n",
    "\n",
    "print(\"Merged DataFrame (first few rows):\")\n",
    "print(merged_df.head())\n",
    "\n",
    "# --- Calculate the Correlation Matrix ---\n",
    "corr_matrix = merged_df.corr()\n",
    "\n",
    "print(\"\\nCorrelation Matrix:\")\n",
    "print(corr_matrix)\n",
    "\n",
    "# --- Plot the Correlation Matrix as a Heatmap ---\n",
    "plt.figure(figsize=(8, 6))\n",
    "sns.heatmap(corr_matrix, annot=True, cmap='coolwarm', fmt=\".2f\", square=True)\n",
    "plt.title(\"Correlation Matrix: Apple & Microsoft Returns vs. Inflation Change\")\n",
    "plt.tight_layout()\n",
    "plt.show()"
   ]
  },
  {
   "cell_type": "code",
   "execution_count": null,
   "id": "cb2752b4",
   "metadata": {},
   "outputs": [],
   "source": []
  },
  {
   "cell_type": "markdown",
   "id": "87985090",
   "metadata": {},
   "source": [
    "## Calculating rolling volatility (standard deviation) of a stock's price for last 3 months\n",
    "\n",
    "Volatility is a measure of the dispersion of returns for a given security. By calculating rolling volatility, investors can assess the risk associated with a stock over time: Higher volatility indicates higher risk, as the stock's price is more likely to experience significant fluctuations. In portfolio optimization, understanding the volatility of individual stocks and how it changes over time is crucial for diversification and optimization. By analyzing rolling volatility, investors can adjust their portfolios to maintain a desired risk level, potentially improving the risk-return profile.\n",
    "\n",
    "One possible way to calculate volatility is by using the standard deviation of returns for a stock over time.\n",
    "\n",
    "Your task:\n",
    "* Calculate the weekly rolling standard deviation for Apple's closing price\n",
    "* Plot the calculated rolling weekly volatility of Apple's closing price against Apple's closing price. Plot these **on the same chart, but using different y-axes**\n",
    "\n",
    "Helpful hints:\n",
    "* You'll need to use the `pandas` `rolling()` method with a given `window_size` parameter to make it a _weekly_ rolling calculation\n",
    "* Use **only the last three months of data**; data much older than this may not be as useful for portfolio optimization\n",
    "* You'll need to create two axes on the matplotlib figure to be able to use two different y-axes (one for the closing price and one for the rolling volatility calculated here)"
   ]
  },
  {
   "cell_type": "code",
   "execution_count": 62,
   "id": "269d2dbe",
   "metadata": {},
   "outputs": [
    {
     "data": {
      "image/png": "[encoded data removed]",
      "text/plain": [
       "<Figure size 1200x600 with 2 Axes>"
      ]
     },
     "metadata": {},
     "output_type": "display_data"
    }
   ],
   "source": [
    "# --- Filter Data to Last 3 Months ---\n",
    "# Assuming apple_historical_data_df has a DatetimeIndex and a column 'Close/Last'\n",
    "last_date = apple_historical_data_df.index.max()\n",
    "start_date = last_date - pd.DateOffset(months=3)\n",
    "last_three_months_df = apple_historical_data_df[apple_historical_data_df.index >= start_date]\n",
    "\n",
    "# --- Calculate Weekly Rolling Volatility ---\n",
    "# Using a window of 5 trading days to approximate one week\n",
    "weekly_volatility = last_three_months_df[\"Close/Last\"].rolling(window=5).std()\n",
    "\n",
    "# --- Plot Closing Price and Rolling Volatility on Dual Y-Axes ---\n",
    "fig, ax1 = plt.subplots(figsize=(12, 6))\n",
    "\n",
    "# Plot the closing price on the primary y-axis\n",
    "color1 = 'tab:blue'\n",
    "ax1.set_xlabel('Date')\n",
    "ax1.set_ylabel('Apple Closing Price', color=color1)\n",
    "ax1.plot(last_three_months_df.index, last_three_months_df[\"Close/Last\"], color=color1, label='Closing Price')\n",
    "ax1.tick_params(axis='y', labelcolor=color1)\n",
    "\n",
    "# Create a second y-axis for the rolling volatility\n",
    "ax2 = ax1.twinx()\n",
    "color2 = 'tab:red'\n",
    "ax2.set_ylabel('Weekly Rolling Volatility', color=color2)\n",
    "ax2.plot(weekly_volatility.index, weekly_volatility, color=color2, label='Weekly Rolling Volatility')\n",
    "ax2.tick_params(axis='y', labelcolor=color2)\n",
    "\n",
    "# Combine legends from both axes\n",
    "lines1, labels1 = ax1.get_legend_handles_labels()\n",
    "lines2, labels2 = ax2.get_legend_handles_labels()\n",
    "ax1.legend(lines1 + lines2, labels1 + labels2, loc='upper left')\n",
    "\n",
    "plt.title(\"Apple Closing Price and Weekly Rolling Volatility (Last 3 Months)\")\n",
    "plt.tight_layout()\n",
    "plt.show()"
   ]
  },
  {
   "cell_type": "code",
   "execution_count": 63,
   "id": "9fd24ee8",
   "metadata": {},
   "outputs": [
    {
     "name": "stdout",
     "output_type": "stream",
     "text": [
      "Preprocessed datasets have been successfully saved as CSV files.\n"
     ]
    }
   ],
   "source": [
    "# Save Apple preprocessed data\n",
    "apple_historical_data_df.to_csv(\"apple_preprocessed.csv\", index=True)\n",
    "\n",
    "# Save Microsoft preprocessed data\n",
    "microsoft_historical_data_df.to_csv(\"microsoft_preprocessed.csv\", index=True)\n",
    "\n",
    "# Save Inflation preprocessed data (with calculated inflation change)\n",
    "inflation_monthly_df.to_csv(\"inflation_preprocessed.csv\", index=True)\n",
    "\n",
    "# Save the merged dataset (if applicable)\n",
    "merged_df.to_csv(\"merged_preprocessed.csv\", index=True)\n",
    "\n",
    "print(\"Preprocessed datasets have been successfully saved as CSV files.\")"
   ]
  },
  {
   "cell_type": "code",
   "execution_count": null,
   "id": "91156129",
   "metadata": {},
   "outputs": [],
   "source": []
  }
 ],
 "metadata": {
  "kernelspec": {
   "display_name": "Python [conda env:deeplearning] *",
   "language": "python",
   "name": "conda-env-deeplearning-py"
  },
  "language_info": {
   "codemirror_mode": {
    "name": "ipython",
    "version": 3
   },
   "file_extension": ".py",
   "mimetype": "text/x-python",
   "name": "python",
   "nbconvert_exporter": "python",
   "pygments_lexer": "ipython3",
   "version": "3.10.14"
  }
 },
 "nbformat": 4,
 "nbformat_minor": 5
}
